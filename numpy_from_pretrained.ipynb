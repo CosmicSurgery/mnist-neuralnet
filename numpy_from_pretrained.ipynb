{
 "cells": [
  {
   "cell_type": "code",
   "execution_count": 30,
   "id": "8df47f76-f069-4d4f-8c12-5e7666f3e142",
   "metadata": {},
   "outputs": [],
   "source": [
    "import numpy as np"
   ]
  },
  {
   "cell_type": "code",
   "execution_count": null,
   "id": "28ec893e-5334-4907-9539-e52842b3caba",
   "metadata": {},
   "outputs": [],
   "source": []
  },
  {
   "cell_type": "code",
   "execution_count": 31,
   "id": "58fc6617-b9b6-4756-8dc2-06ffcc4739a9",
   "metadata": {},
   "outputs": [],
   "source": [
    "class multiplier_block:\n",
    "    def __init__(self):\n",
    "        pass\n",
    "        \n",
    "    def mult (self,multiplicand, multiplier):\n",
    "        return multiplicand * multiplier\n",
    "\n",
    "class adder_block:\n",
    "    def __init__(self):\n",
    "        pass\n",
    "\n",
    "    def add (self, addend1, addend2):\n",
    "        return addend1 + addend2\n",
    "\n",
    "class relu_block:\n",
    "    def __init__(self):\n",
    "        pass\n",
    "\n",
    "    def f(input):\n",
    "        if inp < 0:\n",
    "            return 0\n",
    "        else:\n",
    "            return inp\n",
    "\n",
    "\n",
    "\n",
    "class layer:\n",
    "    def __init__(self,input_size, output_size, weights):\n",
    "        layer = []\n",
    "        for i in range(input_size):\n",
    "            for j in range(output_size):\n",
    "                layer.append(multiplier_block())\n",
    "                if j!=0:\n",
    "                    \n",
    "\n",
    "\n",
    "INPUT_SIZE = 28*28\n",
    "LAYER_ONE_SIZE = 18\n",
    "LAYER_TWO_SIZE = 10\n",
    "INPUT = np.zeros((INPUT_SIZE))\n",
    "LAYER1_OUTPUT = np.zeros((LAYER_ONE_SIZE))\n",
    "OUTPUT = np.zeros((LAYER_TWO_SIZE))\n",
    "        "
   ]
  },
  {
   "cell_type": "code",
   "execution_count": 33,
   "id": "d5fe7a5d-f96c-4138-8057-923f36aac3b0",
   "metadata": {},
   "outputs": [
    {
     "data": {
      "text/plain": [
       "12"
      ]
     },
     "execution_count": 33,
     "metadata": {},
     "output_type": "execute_result"
    }
   ],
   "source": [
    "m1 = multiplier_block()\n",
    "m1.mult(3,4)"
   ]
  },
  {
   "cell_type": "code",
   "execution_count": 25,
   "id": "93090365-8ef4-4044-82bb-1e28767b36a9",
   "metadata": {},
   "outputs": [
    {
     "ename": "SyntaxError",
     "evalue": "unmatched ')' (2751717938.py, line 21)",
     "output_type": "error",
     "traceback": [
      "\u001b[1;36m  Cell \u001b[1;32mIn[25], line 21\u001b[1;36m\u001b[0m\n\u001b[1;33m    return multiplicand * multiplier)\u001b[0m\n\u001b[1;37m                                    ^\u001b[0m\n\u001b[1;31mSyntaxError\u001b[0m\u001b[1;31m:\u001b[0m unmatched ')'\n"
     ]
    }
   ],
   "source": [
    "### This is where I will make the necessary functions\n",
    "### this notebook is for creating the forward-pass of a pre-trained neual network\n",
    "\n",
    "'''\n",
    "What functions will I need?\n",
    "~Forward-pass\n",
    "Parallel Vector multiplication of each weight with each input signal\n",
    "    \n",
    "\n",
    "'''\n",
    "# functions go here\n",
    "\n",
    "\n",
    "def layer1(input):\n",
    "    \n",
    "\n",
    "def forward(input, ):\n",
    "\n",
    "\n",
    "\n",
    "\n"
   ]
  },
  {
   "cell_type": "code",
   "execution_count": 1,
   "id": "c1d07023-d732-411b-930d-c801e2e7b446",
   "metadata": {},
   "outputs": [],
   "source": [
    "import torch\n",
    "from torch import nn\n",
    "\n",
    "\n",
    "# Define model\n",
    "class NeuralNetwork(nn.Module):\n",
    "    def __init__(self):\n",
    "        super().__init__()\n",
    "        self.flatten = nn.Flatten()\n",
    "        self.linear_relu_stack = nn.Sequential(\n",
    "            nn.Linear(28*28, 18),\n",
    "            nn.ReLU(),\n",
    "            nn.Linear(18, 10)\n",
    "        )\n",
    "\n",
    "    def forward(self, x):\n",
    "        x = self.flatten(x)\n",
    "        logits = self.linear_relu_stack(x)\n",
    "        return logits"
   ]
  },
  {
   "cell_type": "code",
   "execution_count": 3,
   "id": "4e6bf8e2-1e17-4c35-aaae-1387419fc57a",
   "metadata": {},
   "outputs": [
    {
     "data": {
      "text/plain": [
       "<All keys matched successfully>"
      ]
     },
     "execution_count": 3,
     "metadata": {},
     "output_type": "execute_result"
    }
   ],
   "source": [
    "model = NeuralNetwork()\n",
    "model.load_state_dict(torch.load(\"model.pth\"))"
   ]
  },
  {
   "cell_type": "code",
   "execution_count": 4,
   "id": "b1783d13-5cba-43b3-aa40-b286669de7c2",
   "metadata": {},
   "outputs": [
    {
     "data": {
      "text/plain": [
       "NeuralNetwork(\n",
       "  (flatten): Flatten(start_dim=1, end_dim=-1)\n",
       "  (linear_relu_stack): Sequential(\n",
       "    (0): Linear(in_features=784, out_features=18, bias=True)\n",
       "    (1): ReLU()\n",
       "    (2): Linear(in_features=18, out_features=10, bias=True)\n",
       "  )\n",
       ")"
      ]
     },
     "execution_count": 4,
     "metadata": {},
     "output_type": "execute_result"
    }
   ],
   "source": [
    "model.eval()"
   ]
  },
  {
   "cell_type": "code",
   "execution_count": null,
   "id": "3e2c8d06-0862-404c-9c80-80ff2a812123",
   "metadata": {},
   "outputs": [],
   "source": []
  },
  {
   "cell_type": "code",
   "execution_count": null,
   "id": "b729396d-78cf-4e4f-83f1-7c5be31a008f",
   "metadata": {},
   "outputs": [],
   "source": []
  },
  {
   "cell_type": "code",
   "execution_count": null,
   "id": "e7072e4c-1f45-40e7-ae38-35912b02a169",
   "metadata": {},
   "outputs": [],
   "source": []
  },
  {
   "cell_type": "code",
   "execution_count": null,
   "id": "9bd77ad9-3b22-4276-8817-bb5a54ddbde1",
   "metadata": {},
   "outputs": [],
   "source": []
  }
 ],
 "metadata": {
  "kernelspec": {
   "display_name": "Python 3 (ipykernel)",
   "language": "python",
   "name": "python3"
  },
  "language_info": {
   "codemirror_mode": {
    "name": "ipython",
    "version": 3
   },
   "file_extension": ".py",
   "mimetype": "text/x-python",
   "name": "python",
   "nbconvert_exporter": "python",
   "pygments_lexer": "ipython3",
   "version": "3.12.2"
  }
 },
 "nbformat": 4,
 "nbformat_minor": 5
}
