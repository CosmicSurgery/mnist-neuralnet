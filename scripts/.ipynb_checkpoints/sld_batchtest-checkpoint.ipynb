{
 "cells": [
  {
   "cell_type": "markdown",
   "id": "a506b44b-eec0-446c-ab06-55873f3584c4",
   "metadata": {},
   "source": [
    "# System Level Design batch test on neural network architectures"
   ]
  },
  {
   "cell_type": "code",
   "execution_count": 30,
   "id": "86cd654f-8fdd-449c-a0db-b849265f8969",
   "metadata": {},
   "outputs": [],
   "source": [
    "# import packages\n",
    "import torch\n",
    "from torch import nn\n",
    "from torchvision import datasets\n",
    "from torchvision.transforms import ToTensor\n",
    "from torch.utils.data import DataLoader\n",
    "\n",
    "from datetime import datetime"
   ]
  },
  {
   "cell_type": "code",
   "execution_count": 5,
   "id": "ef573d6e-58bc-4122-8d99-d6c7e60eba92",
   "metadata": {},
   "outputs": [],
   "source": [
    "# %run sld_batchtest.py [10,10] False"
   ]
  },
  {
   "cell_type": "code",
   "execution_count": 22,
   "id": "7484d6d1-112b-4cbc-b23e-968c9ee46b56",
   "metadata": {},
   "outputs": [
    {
     "name": "stdout",
     "output_type": "stream",
     "text": [
      "11.14.24-[10, 10]\n"
     ]
    }
   ],
   "source": [
    "network_parameters = [10,10]\n",
    "date = datetime.today().strftime(\"%m.%d.%y\")\n",
    "run_name = date + '-' + str(network_parameters)\n",
    "print(run_name)\n",
    "run_name = 'test'\n",
    "DEBUG_MODE = True"
   ]
  },
  {
   "cell_type": "code",
   "execution_count": null,
   "id": "1a6d64fc-3d7e-4201-882b-ad0556906dbb",
   "metadata": {},
   "outputs": [],
   "source": [
    "\n",
    "runs_folder = \"runs\"\n",
    "img_path = \"img\"\n",
    "run_path = \"\\\\\".join((runs_folder, run_name))\n",
    "\n",
    "if not os.path.isdir(run_path):\n",
    "    raise ValueError(f\"The directory \\\"{\"\\\\\".join((runs_folder, run_name))}\\\", does not exist!\")\n",
    "    \n",
    "if not os.path.isdir(img_path):\n",
    "    raise ValueError(f\"The directory \\\"{img_path}\\\", does not exist!\")\n",
    "\n",
    "bin_folder = \"\\\\\".join((run_path,\"bin_files\")) # should include a file for expected outputs as a lits of output values for all layers concatenated\n",
    "mif_folder = \"\\\\\".join((run_path,\"mif_files\")) # hex files for simulation go here including expected values\n",
    "txt_folder = \"\\\\\".join((run_path,\"txt_files\")) # same as the above but in decimal representation\n",
    "folders = [bin_folder, mif_folder, txt_folder]"
   ]
  },
  {
   "cell_type": "code",
   "execution_count": 31,
   "id": "531eeb70-57d0-4230-9dd5-469b641e7f7a",
   "metadata": {},
   "outputs": [
    {
     "name": "stdout",
     "output_type": "stream",
     "text": [
      "Using cpu device\n",
      "Shape of X [N, C, H, W]: torch.Size([1, 1, 28, 28])\n",
      "Shape of y: torch.Size([1]) torch.int64\n"
     ]
    }
   ],
   "source": [
    "INPUT_SIZE=784\n",
    "\n",
    "device = (\n",
    "    \"cuda\"\n",
    "    if torch.cuda.is_available()\n",
    "    else \"mps\"\n",
    "    if torch.backends.mps.is_available()\n",
    "    else \"cpu\"\n",
    ")\n",
    "print(f\"Using {device} device\")\n",
    "\n",
    "training_data = datasets.MNIST(\n",
    "    root=\"data\",\n",
    "    train=True,\n",
    "    download=True,\n",
    "    transform=ToTensor()\n",
    ")\n",
    "test_data = datasets.MNIST(\n",
    "    root=\"data\",\n",
    "    train=False,\n",
    "    download=True,\n",
    "    transform=ToTensor()\n",
    ")\n",
    "batch_size = 1\n",
    "epochs = 20\n",
    "\n",
    "# Create data loaders.\n",
    "train_dataloader = DataLoader(training_data, batch_size=batch_size)\n",
    "test_dataloader = DataLoader(test_data, batch_size=batch_size)\n",
    "\n",
    "for X, y in test_dataloader:\n",
    "    print(f\"Shape of X [N, C, H, W]: {X.shape}\")\n",
    "    print(f\"Shape of y: {y.shape} {y.dtype}\")\n",
    "    break"
   ]
  },
  {
   "cell_type": "code",
   "execution_count": 43,
   "id": "cca9a952-2844-4406-96af-53fcd206a971",
   "metadata": {},
   "outputs": [],
   "source": [
    "debug = nn.ReLU()"
   ]
  },
  {
   "cell_type": "code",
   "execution_count": null,
   "id": "66c963c2-9531-4012-ab5e-76c1764728f7",
   "metadata": {},
   "outputs": [],
   "source": [
    "# Define model\n",
    "class NeuralNetwork(nn.Module):\n",
    "    def __init__(self):\n",
    "        super().__init__()\n",
    "        self.flatten = nn.Flatten()\n",
    "\n",
    "        layers = [INPUT_SIZE, *network_parameters]\n",
    "\n",
    "        for i in range(len(layers)-1):\n",
    "            layers.append(nn.Linear(layers[i], layers[i+1]))\n",
    "            layers.append(nn.ReLU())\n",
    "        layers.pop()\n",
    "        \n",
    "        self.linear_relu_stack = nn.Sequential(*layers)\n",
    "\n",
    "    def forward(self, x):\n",
    "        x = self.flatten(x)\n",
    "        logits = self.linear_relu_stack(x)\n",
    "        return logits"
   ]
  },
  {
   "cell_type": "code",
   "execution_count": null,
   "id": "9e9fb5d4-9702-4b03-a9d0-c2650f4099b9",
   "metadata": {},
   "outputs": [],
   "source": []
  }
 ],
 "metadata": {
  "kernelspec": {
   "display_name": "Python 3 (ipykernel)",
   "language": "python",
   "name": "python3"
  },
  "language_info": {
   "codemirror_mode": {
    "name": "ipython",
    "version": 3
   },
   "file_extension": ".py",
   "mimetype": "text/x-python",
   "name": "python",
   "nbconvert_exporter": "python",
   "pygments_lexer": "ipython3",
   "version": "3.12.2"
  }
 },
 "nbformat": 4,
 "nbformat_minor": 5
}
