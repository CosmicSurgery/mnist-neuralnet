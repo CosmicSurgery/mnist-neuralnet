{
 "cells": [
  {
   "cell_type": "markdown",
   "id": "cb9eb690-1ece-4c35-bf72-1350cd9bd3d0",
   "metadata": {},
   "source": [
    "# This is the master notebook where I can:\n",
    "- [ ] Generate log files\n",
    "    - [ ] Initiailze network parameters\n",
    "        - [ ] .bin files for validation on hardware\n",
    "        - [ ] .mif files (hex for simulation, text for decimal values)\n",
    "    - [ ] Run network\n",
    "        - [ ] run fixed point check -> output in binary, hex and decimal?\n",
    "        - [ ] run pytorch check? -> output in decimal\n",
    "        - [ ] Generate log file with python script and c program timing -> most important?, single forward pass, and time for one pass through an epoch without training\n",
    "    - [ ] Compare python script and c program accuracy with fixed-point accuracy -> compares data from output files\n",
    "        - [ ]  Generate log file with the results.\n",
    "- Directory structure?\n",
    "    - Notebook with variou"
   ]
  },
  {
   "cell_type": "markdown",
   "id": "8818574c-2066-4d09-bd72-afde5ee5804f",
   "metadata": {},
   "source": [
    "# Directory Structure\n",
    "- Scripts\n",
    "    - MNIST_train.txt\n",
    "    - MNIST_test.txt\n",
    "    - MNIST_train.bin\n",
    "    - MNIST_test.bin\n",
    "    - runs\n",
    "        - 11.11.2024 -x32-10-10\n",
    "            - Init parameters\n",
    "                * binary_files\n",
    "                * mif files (hex?)\n",
    "                * txt files (Decimal?)\n",
    "            - Results\n",
    "                * binary outputs (final parameters in binary?)\n",
    "                * text outputs (performance? Training results?)\n",
    "                * \n",
    "    - PLNN_master.ipynb\n",
    "    - Initialize network run.py -> generates a run for the current date"
   ]
  },
  {
   "cell_type": "markdown",
   "id": "66c3c79c-c7f8-4e50-b25d-2d7b9fdf377e",
   "metadata": {},
   "source": [
    "### Design Initialization script\n",
    "#### this script randomly generates the initiailization weights and biases, and stores them in the relevant files"
   ]
  },
  {
   "cell_type": "code",
   "execution_count": 158,
   "id": "8fb9d3a9-6943-4f0e-b853-470dd4326970",
   "metadata": {},
   "outputs": [
    {
     "ename": "ValueError",
     "evalue": "The directory \"runs\\test\", already exists!",
     "output_type": "error",
     "traceback": [
      "\u001b[1;31m---------------------------------------------------------------------------\u001b[0m",
      "\u001b[1;31mValueError\u001b[0m                                Traceback (most recent call last)",
      "Cell \u001b[1;32mIn[158], line 34\u001b[0m\n\u001b[0;32m     30\u001b[0m bias \u001b[38;5;241m=\u001b[39m []\n\u001b[0;32m     33\u001b[0m \u001b[38;5;28;01mif\u001b[39;00m os\u001b[38;5;241m.\u001b[39mpath\u001b[38;5;241m.\u001b[39misdir(run_path) \u001b[38;5;129;01mand\u001b[39;00m \u001b[38;5;129;01mnot\u001b[39;00m DEBUG_MODE:\n\u001b[1;32m---> 34\u001b[0m     \u001b[38;5;28;01mraise\u001b[39;00m \u001b[38;5;167;01mValueError\u001b[39;00m(\u001b[38;5;124mf\u001b[39m\u001b[38;5;124m\"\u001b[39m\u001b[38;5;124mThe directory \u001b[39m\u001b[38;5;130;01m\\\"\u001b[39;00m\u001b[38;5;132;01m{\u001b[39;00m\u001b[38;5;124m\"\u001b[39m\u001b[38;5;130;01m\\\\\u001b[39;00m\u001b[38;5;124m\"\u001b[39m\u001b[38;5;241m.\u001b[39mjoin((runs_folder,\u001b[38;5;250m \u001b[39mrun_name))\u001b[38;5;132;01m}\u001b[39;00m\u001b[38;5;130;01m\\\"\u001b[39;00m\u001b[38;5;124m, already exists!\u001b[39m\u001b[38;5;124m\"\u001b[39m)\n\u001b[0;32m     36\u001b[0m os\u001b[38;5;241m.\u001b[39mmakedirs(run_path,exist_ok\u001b[38;5;241m=\u001b[39m\u001b[38;5;28;01mTrue\u001b[39;00m)\n\u001b[0;32m     37\u001b[0m \u001b[38;5;28;01mfor\u001b[39;00m folder \u001b[38;5;129;01min\u001b[39;00m folders:\n",
      "\u001b[1;31mValueError\u001b[0m: The directory \"runs\\test\", already exists!"
     ]
    }
   ],
   "source": [
    "import numpy as np\n",
    "from fxpmath import Fxp\n",
    "import sys\n",
    "import os\n",
    "import glob\n",
    "from datetime import datetime\n",
    "from fxpmath import Fxp\n",
    "\n",
    "DEBUG_MODE = False\n",
    "INPUT_SIZE = 784\n",
    "\n",
    "network_parameters = [10,10]\n",
    "\n",
    "runs_folder = \"runs\"\n",
    "now = datetime.now()\n",
    "date = '.'.join([str(k) for k in [now.month, now.day, now.year]])\n",
    "run_name = '-'.join((date, '.'.join([str(k) for k in network_parameters])))\n",
    "run_name = 'test'\n",
    "run_path = \"\\\\\".join((runs_folder, run_name))\n",
    "\n",
    "\n",
    "bin_folder = \"\\\\\".join((run_path,\"bin_files\")) # should include a file for expected outputs as a lits of output values for all layers concatenated\n",
    "mif_folder = \"\\\\\".join((run_path,\"mif_files\")) # hex files for simulation go here including expected values\n",
    "txt_folder = \"\\\\\".join((run_path,\"txt_files\")) # same as the above but in decimal representation\n",
    "folders = [bin_folder, mif_folder, txt_folder]\n",
    "\n",
    "x32 = Fxp(-7.25, dtype='S5.27') # For now hardwired to 32/64 bits, but could be made to be generalizable\n",
    "x64 = Fxp(-7.25, dtype='S10.54')\n",
    "weights = []\n",
    "bias = []\n",
    "\n",
    "\n",
    "if os.path.isdir(run_path) and not DEBUG_MODE:\n",
    "    raise ValueError(f\"The directory \\\"{\"\\\\\".join((runs_folder, run_name))}\\\", already exists!\")\n",
    "\n",
    "os.makedirs(run_path,exist_ok=True)\n",
    "for folder in folders:\n",
    "    os.makedirs(folder,exist_ok=True)\n",
    "        \n",
    "# This is where I should start generating random weights and biases and save them to the various folders\n",
    "\n",
    "for layer in range(len(network_parameters)):\n",
    "    \n",
    "    input_size_for_layer = INPUT_SIZE if layer == 0 else network_parameters[layer - 1]\n",
    "    weights.append((np.random.rand(input_size_for_layer, network_parameters[layer]) * 2) - 1) # This generates uniformly random weights within range {-1, 1}\n",
    "    bias.append((np.random.rand(network_parameters[layer]) * 2) - 1) # This generates uniformly random biases within range {-1, 1}\n",
    "\n",
    "    with open(os.path.join(mif_folder, f\"bias_{layer}.mif\"), \"w\") as file:\n",
    "        for i in range(network_parameters[layer]):\n",
    "            file.write(str(x32(bias[layer][i]).hex()) + \"\\n\")\n",
    "        \n",
    "    with open(os.path.join(txt_folder, f\"bias_{layer}.txt\"), \"w\") as file:\n",
    "        for i in range(network_parameters[layer]):\n",
    "            file.write(str(float(x32(bias[layer][i]))) + \"\\n\")\n",
    "            \n",
    "    with open(os.path.join(bin_folder, f\"bias_{layer}.bin\"), \"wb\") as file:\n",
    "        for i in range(network_parameters[layer]):\n",
    "            file.write(struct.pack('<I', int(x32(bias[layer][i]).hex(),0)))\n",
    "\n",
    "    for neuron in range(network_parameters[layer]):\n",
    "                \n",
    "        with open(os.path.join(mif_folder, f\"weight_{layer}_{neuron}.mif\"), \"w\") as file:\n",
    "            for i in range(input_size_for_layer):\n",
    "                file.write(str(x32(weights[layer][i, neuron]).hex()) + \"\\n\")\n",
    "            \n",
    "        with open(os.path.join(txt_folder, f\"weight_{layer}_{neuron}.txt\"), \"w\") as file:\n",
    "            for i in range(input_size_for_layer):\n",
    "                file.write(str(float(x32(weights[layer][i, neuron]))) + \"\\n\")\n",
    "                \n",
    "        with open(os.path.join(bin_folder, f\"weight_{layer}_{neuron}.bin\"), \"wb\") as file:\n",
    "            for i in range(input_size_for_layer):\n",
    "                file.write(struct.pack('<I', int(x32(weights[layer][i, neuron]).hex(),0)))\n",
    "\n",
    "\n",
    "# That should be it for initialization, I can have a seperate script handle the expected results -> start with expected fixed-point values? -> write to the same folders"
   ]
  },
  {
   "cell_type": "code",
   "execution_count": 164,
   "id": "2d4eb453-13f2-439c-9e8a-48fe29b39b68",
   "metadata": {},
   "outputs": [
    {
     "name": "stdout",
     "output_type": "stream",
     "text": [
      "['01010111101100100110110100011001', '00000000000000000000000000000000', '00000000000000000000000000000000', '00000000000000000000000000000000', '00000000000000000000000000000000', '00001101111100010111111010000001', '00101111100101110001100000001011', '00000000000000000000000000000000', '00000000000000000000000000000000', '01000000001100001111010010101001']\n",
      "[10.96212215718807, -2.856499455477124, -13.964644359637491, -6.808845697520238, -3.36392988279792, 1.7429170691671678, 5.948776329503073, -7.90305153311236, -1.6426185502395225, 8.023904154140283]\n",
      "['00010001101000001111011110011111', '00000001101000111001100000111111', '00000000000000000000000000000000', '00001011100110001101000110110100', '00000000000000000000000000000000', '01101000100010110101101011000100', '01011111000111010100101000001010', '01111100000110001111011011001000', '00001001110101000011000110010000', '00000000000000000000000000000000']\n",
      "[2.2035973031988663, 0.20488023421485702, -8.298707189710214, 1.449618733997708, -2.885921386125103, 13.068044221289618, 11.889301377888623, 15.512189449553627, 1.2286101641534386, -9.451989910914701]\n",
      "Success!\n"
     ]
    }
   ],
   "source": [
    "%run init_design.py"
   ]
  },
  {
   "cell_type": "markdown",
   "id": "ce29dda2-ea29-45f3-8714-1920146ed66a",
   "metadata": {},
   "source": [
    "### Fixed-point network simulator\n"
   ]
  },
  {
   "cell_type": "code",
   "execution_count": 154,
   "id": "133633a9-d538-4834-8869-588f7d62e87a",
   "metadata": {},
   "outputs": [
    {
     "name": "stdout",
     "output_type": "stream",
     "text": [
      "hello\n"
     ]
    }
   ],
   "source": [
    "print('hello')"
   ]
  },
  {
   "cell_type": "code",
   "execution_count": null,
   "id": "2397321c-7135-4207-92d0-abf234a82a06",
   "metadata": {},
   "outputs": [],
   "source": []
  }
 ],
 "metadata": {
  "kernelspec": {
   "display_name": "Python 3 (ipykernel)",
   "language": "python",
   "name": "python3"
  },
  "language_info": {
   "codemirror_mode": {
    "name": "ipython",
    "version": 3
   },
   "file_extension": ".py",
   "mimetype": "text/x-python",
   "name": "python",
   "nbconvert_exporter": "python",
   "pygments_lexer": "ipython3",
   "version": "3.12.2"
  }
 },
 "nbformat": 4,
 "nbformat_minor": 5
}
