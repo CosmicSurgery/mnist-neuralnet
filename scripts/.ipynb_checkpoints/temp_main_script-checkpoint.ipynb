{
 "cells": [
  {
   "cell_type": "markdown",
   "id": "a506b44b-eec0-446c-ab06-55873f3584c4",
   "metadata": {},
   "source": [
    "# System Level Design batch test on neural network architectures"
   ]
  },
  {
   "cell_type": "code",
   "execution_count": 2,
   "id": "86cd654f-8fdd-449c-a0db-b849265f8969",
   "metadata": {},
   "outputs": [],
   "source": [
    "# import packages\n",
    "import torch\n",
    "from torch import nn\n",
    "from torchvision import datasets\n",
    "from torchvision.transforms import ToTensor\n",
    "from torch.utils.data import DataLoader\n",
    "\n",
    "from datetime import datetime\n",
    "import numpy as np\n",
    "import time\n",
    "from fxpmath import Fxp"
   ]
  },
  {
   "cell_type": "code",
   "execution_count": 3,
   "id": "ef573d6e-58bc-4122-8d99-d6c7e60eba92",
   "metadata": {},
   "outputs": [],
   "source": [
    "# %run sld_batchtest.py [10,10] False"
   ]
  },
  {
   "cell_type": "code",
   "execution_count": 4,
   "id": "7484d6d1-112b-4cbc-b23e-968c9ee46b56",
   "metadata": {},
   "outputs": [
    {
     "name": "stdout",
     "output_type": "stream",
     "text": [
      "11.14.24-[10, 10]\n"
     ]
    }
   ],
   "source": [
    "NETWORK_PARAMETERS = [10,10]\n",
    "date = datetime.today().strftime(\"%m.%d.%y\")\n",
    "run_name = date + '-' + str(NETWORK_PARAMETERS)\n",
    "print(run_name)\n",
    "run_name = 'test'\n",
    "DEBUG_MODE = True"
   ]
  },
  {
   "cell_type": "code",
   "execution_count": null,
   "id": "1a6d64fc-3d7e-4201-882b-ad0556906dbb",
   "metadata": {},
   "outputs": [],
   "source": [
    "# runs_folder = \"runs\"\n",
    "# img_path = \"img\"\n",
    "# run_path = \"\\\\\".join((runs_folder, run_name))\n",
    "\n",
    "# if not os.path.isdir(run_path):\n",
    "#     raise ValueError(f\"The directory \\\"{\"\\\\\".join((runs_folder, run_name))}\\\", does not exist!\")\n",
    "    \n",
    "# if not os.path.isdir(img_path):\n",
    "#     raise ValueError(f\"The directory \\\"{img_path}\\\", does not exist!\")\n",
    "\n",
    "# bin_folder = \"\\\\\".join((run_path,\"bin_files\")) # should include a file for expected outputs as a lits of output values for all layers concatenated\n",
    "# mif_folder = \"\\\\\".join((run_path,\"mif_files\")) # hex files for simulation go here including expected values\n",
    "# txt_folder = \"\\\\\".join((run_path,\"txt_files\")) # same as the above but in decimal representation\n",
    "# folders = [bin_folder, mif_folder, txt_folder]"
   ]
  },
  {
   "cell_type": "code",
   "execution_count": 5,
   "id": "531eeb70-57d0-4230-9dd5-469b641e7f7a",
   "metadata": {},
   "outputs": [
    {
     "name": "stdout",
     "output_type": "stream",
     "text": [
      "Using cpu device\n",
      "Shape of X [N, C, H, W]: torch.Size([1, 1, 28, 28])\n",
      "Shape of y: torch.Size([1]) torch.int64\n"
     ]
    }
   ],
   "source": [
    "INPUT_SIZE=784\n",
    "\n",
    "device = (\n",
    "    \"cuda\"\n",
    "    if torch.cuda.is_available()\n",
    "    else \"mps\"\n",
    "    if torch.backends.mps.is_available()\n",
    "    else \"cpu\"\n",
    ")\n",
    "print(f\"Using {device} device\")\n",
    "\n",
    "training_data = datasets.MNIST(\n",
    "    root=\"data\",\n",
    "    train=True,\n",
    "    download=True,\n",
    "    transform=ToTensor()\n",
    ")\n",
    "test_data = datasets.MNIST(\n",
    "    root=\"data\",\n",
    "    train=False,\n",
    "    download=True,\n",
    "    transform=ToTensor()\n",
    ")\n",
    "batch_size = 1\n",
    "epochs = 20\n",
    "\n",
    "# Create data loaders.\n",
    "train_dataloader = DataLoader(training_data, batch_size=batch_size)\n",
    "test_dataloader = DataLoader(test_data, batch_size=batch_size)\n",
    "\n",
    "for X, y in test_dataloader:\n",
    "    print(f\"Shape of X [N, C, H, W]: {X.shape}\")\n",
    "    print(f\"Shape of y: {y.shape} {y.dtype}\")\n",
    "    break"
   ]
  },
  {
   "cell_type": "code",
   "execution_count": 6,
   "id": "66c963c2-9531-4012-ab5e-76c1764728f7",
   "metadata": {},
   "outputs": [
    {
     "ename": "NameError",
     "evalue": "name 'debug' is not defined",
     "output_type": "error",
     "traceback": [
      "\u001b[1;31m---------------------------------------------------------------------------\u001b[0m",
      "\u001b[1;31mNameError\u001b[0m                                 Traceback (most recent call last)",
      "Cell \u001b[1;32mIn[6], line 2\u001b[0m\n\u001b[0;32m      1\u001b[0m \u001b[38;5;66;03m# Define model\u001b[39;00m\n\u001b[1;32m----> 2\u001b[0m \u001b[38;5;28;01mclass\u001b[39;00m \u001b[38;5;21;01mNeuralNetwork\u001b[39;00m(nn\u001b[38;5;241m.\u001b[39mModule, debug):\n\u001b[0;32m      3\u001b[0m     \u001b[38;5;28;01mdef\u001b[39;00m \u001b[38;5;21m__init__\u001b[39m(\u001b[38;5;28mself\u001b[39m):\n\u001b[0;32m      4\u001b[0m         \u001b[38;5;28msuper\u001b[39m()\u001b[38;5;241m.\u001b[39m\u001b[38;5;21m__init__\u001b[39m()\n",
      "\u001b[1;31mNameError\u001b[0m: name 'debug' is not defined"
     ]
    }
   ],
   "source": [
    "# Define model\n",
    "class NeuralNetwork(nn.Module):\n",
    "    def __init__(self, debug):\n",
    "        super().__init__()\n",
    "        self.flatten = nn.Flatten()\n",
    "        network_parameters = [INPUT_SIZE, *NETWORK_PARAMETERS]\n",
    "        layers = []\n",
    "        \n",
    "        for i in range(len(network_parameters)-1):\n",
    "            layers.append(nn.Linear(network_parameters[i], network_parameters[i+1]))\n",
    "            layers.append(nn.ReLU())\n",
    "        layers.pop()\n",
    "        \n",
    "        self.linear_relu_stack = nn.Sequential(*layers)\n",
    "        self.linear_relu_stack = nn.Sequential(\n",
    "            nn.Linear(28*28, 10),\n",
    "            nn.ReLU(),\n",
    "            nn.Linear(10, 10)\n",
    "            # nn.ReLU(),\n",
    "            # nn.Linear(LAYER_TWO_SIZE, LAYER_THREE_SIZE)\n",
    "        )\n",
    "        print(debug)\n",
    "    def forward(self, x):\n",
    "        x = self.flatten(x)\n",
    "        logits = self.linear_relu_stack(x)\n",
    "        return logits\n",
    "\n",
    "def train(dataloader, model, loss_fn, optimizer):\n",
    "    size = len(dataloader.dataset)\n",
    "    num_batches = len(dataloader)\n",
    "    train_loss, error = 0, 0\n",
    "    \n",
    "    model.train()\n",
    "    \n",
    "    for batch, (X, y) in enumerate(dataloader):\n",
    "        X, y = X.to(device), y.to(device)\n",
    "\n",
    "        # Compute prediction error\n",
    "        pred = model(X)\n",
    "        loss = loss_fn(pred, y)   \n",
    "        \n",
    "        train_loss += loss.item()                                            # cumulative loss\n",
    "        error += (pred.argmax(1) != y).type(torch.float).sum().item()        # error rate\n",
    "        \n",
    "        # Backpropagation\n",
    "        loss.backward()\n",
    "        optimizer.step()\n",
    "        optimizer.zero_grad()\n",
    "\n",
    "        if DEBUG_MODE:\n",
    "            if batch % 6000 == 0:\n",
    "                loss, current = loss, (batch) * len(X)\n",
    "                print(f\"loss: {loss:>7f}  [{current:>5d}/{size:>5d}]\")\n",
    "                \n",
    "    train_loss /= num_batches\n",
    "    error /= size\n",
    "        \n",
    "    return (train_loss, error)\n",
    "\n",
    "def test(dataloader, model, loss_fn):\n",
    "    size = len(dataloader.dataset)\n",
    "    num_batches = len(dataloader)\n",
    "    \n",
    "    model.eval()\n",
    "    loss, error = 0, 0\n",
    "    \n",
    "    with torch.no_grad():\n",
    "        for X, y in dataloader:\n",
    "            X, y = X.to(device), y.to(device)\n",
    "            pred = model(X)\n",
    "            loss += loss_fn(pred, y).item()\n",
    "            error += (pred.argmax(1) != y).type(torch.float).sum().item()\n",
    "            \n",
    "    loss /= num_batches\n",
    "    error /= size\n",
    "    \n",
    "    if DEBUG_MODE:\n",
    "        print(f\"Test Error: \\n Error: {(100*error):>0.1f}%, Avg loss: {loss:>8f} \\n\")\n",
    "    \n",
    "    return (loss , error)\n",
    "\n",
    "model = NeuralNetwork('hello').to(device)\n",
    "print(model)\n",
    "loss_fn = nn.CrossEntropyLoss()\n",
    "optimizer = torch.optim.SGD(model.parameters(), lr=1e-3)"
   ]
  },
  {
   "cell_type": "code",
   "execution_count": 176,
   "id": "d01148bb-d692-4fdc-a88b-60a66f813380",
   "metadata": {
    "scrolled": true
   },
   "outputs": [
    {
     "name": "stdout",
     "output_type": "stream",
     "text": [
      "Epoch 1\n",
      "-------------------------------\n",
      "loss: 0.558088  [    0/60000]\n",
      "loss: 0.000793  [ 6000/60000]\n",
      "loss: 0.047296  [12000/60000]\n",
      "loss: 0.240203  [18000/60000]\n",
      "loss: 0.027486  [24000/60000]\n",
      "loss: 0.003023  [30000/60000]\n",
      "loss: 1.114131  [36000/60000]\n",
      "loss: 0.006145  [42000/60000]\n",
      "loss: 0.052576  [48000/60000]\n",
      "loss: 0.814859  [54000/60000]\n",
      "Test Error: \n",
      " Error: 8.8%, Avg loss: 0.299062 \n",
      "\n",
      "Test Error: \n",
      " Error: 8.7%, Avg loss: 0.298916 \n",
      "\n",
      "Epoch 2\n",
      "-------------------------------\n",
      "loss: 0.477274  [    0/60000]\n",
      "loss: 0.000725  [ 6000/60000]\n",
      "loss: 0.062302  [12000/60000]\n",
      "loss: 0.246133  [18000/60000]\n",
      "loss: 0.020373  [24000/60000]\n",
      "loss: 0.002635  [30000/60000]\n",
      "loss: 1.198839  [36000/60000]\n",
      "loss: 0.006256  [42000/60000]\n",
      "loss: 0.046065  [48000/60000]\n",
      "loss: 0.707809  [54000/60000]\n",
      "Test Error: \n",
      " Error: 8.4%, Avg loss: 0.287326 \n",
      "\n",
      "Test Error: \n",
      " Error: 8.6%, Avg loss: 0.291656 \n",
      "\n",
      "Done! elapsed time:  122.61018180847168\n"
     ]
    }
   ],
   "source": [
    "epochs = 2\n",
    "start = time.time()\n",
    "results = np.zeros((epochs, 4))\n",
    "for t in range(epochs):\n",
    "    if DEBUG_MODE:\n",
    "        print(f\"Epoch {t+1}\\n-------------------------------\")\n",
    "    train(train_dataloader, model, loss_fn, optimizer)\n",
    "    # results[t,:2] = test(train_dataloader, model, loss_fn)       # Run the model on the whole training set again\n",
    "    results[t,2:] = test(test_dataloader, model, loss_fn)        # Run the model on the test set\n",
    "end = time.time()\n",
    "print(\"Done! elapsed time: \", end-start)"
   ]
  },
  {
   "cell_type": "code",
   "execution_count": 177,
   "id": "0989fe98-009f-4546-91bc-8228230e3216",
   "metadata": {
    "scrolled": true
   },
   "outputs": [
    {
     "name": "stdout",
     "output_type": "stream",
     "text": [
      "Epoch 1\n",
      "-------------------------------\n",
      "loss: 0.428532  [    0/60000]\n",
      "loss: 0.000629  [ 6000/60000]\n",
      "loss: 0.081322  [12000/60000]\n",
      "loss: 0.232334  [18000/60000]\n",
      "loss: 0.017797  [24000/60000]\n",
      "loss: 0.002573  [30000/60000]\n",
      "loss: 1.285755  [36000/60000]\n",
      "loss: 0.006591  [42000/60000]\n",
      "loss: 0.045830  [48000/60000]\n",
      "loss: 0.600135  [54000/60000]\n",
      "Test Error: \n",
      " Error: 8.6%, Avg loss: 0.287091 \n",
      "\n",
      "Epoch 2\n",
      "-------------------------------\n",
      "loss: 0.358862  [    0/60000]\n",
      "loss: 0.000605  [ 6000/60000]\n",
      "loss: 0.108067  [12000/60000]\n",
      "loss: 0.217425  [18000/60000]\n",
      "loss: 0.015662  [24000/60000]\n",
      "loss: 0.002315  [30000/60000]\n",
      "loss: 1.223666  [36000/60000]\n",
      "loss: 0.006361  [42000/60000]\n",
      "loss: 0.044156  [48000/60000]\n",
      "loss: 0.519263  [54000/60000]\n",
      "Test Error: \n",
      " Error: 8.4%, Avg loss: 0.282973 \n",
      "\n",
      "Done! elapsed time:  87.89992785453796\n"
     ]
    }
   ],
   "source": [
    "epochs = 2\n",
    "start = time.time()\n",
    "results = np.zeros((epochs, 4))\n",
    "for t in range(epochs):\n",
    "    if DEBUG_MODE:\n",
    "        print(f\"Epoch {t+1}\\n-------------------------------\")\n",
    "    train(train_dataloader, model, loss_fn, optimizer)\n",
    "    # results[t,:2] = test(train_dataloader, model, loss_fn)       # Run the model on the whole training set again\n",
    "    results[t,2:] = test(test_dataloader, model, loss_fn)        # Run the model on the test set\n",
    "end = time.time()\n",
    "print(\"Done! elapsed time: \", end-start)"
   ]
  },
  {
   "cell_type": "code",
   "execution_count": 272,
   "id": "b7559058-e4b4-47c4-a5e5-f64ed2042552",
   "metadata": {},
   "outputs": [
    {
     "name": "stdout",
     "output_type": "stream",
     "text": [
      "[-7.25, -7.25, -4.0, -2.0, -1.0]\n"
     ]
    }
   ],
   "source": [
    "x64 = Fxp(-7.25, dtype='S10.54', rounding = 'around')\n",
    "x32 = Fxp(-7.25, dtype='S5.27', rounding = 'around')\n",
    "x16 = Fxp(-7.25, dtype='S3.13', rounding = 'around')\n",
    "x8 = Fxp(-7.25, dtype='S2.6', rounding = 'around')\n",
    "x4 = Fxp(-7.25, dtype='S1.3', rounding = 'around')\n",
    "print([k.get_val() for k in [x64,x32,x16,x8,x4]])"
   ]
  },
  {
   "cell_type": "code",
   "execution_count": 273,
   "id": "ac007ef5-4583-4710-8352-5ae19e6abeee",
   "metadata": {},
   "outputs": [
    {
     "data": {
      "text/plain": [
       "<All keys matched successfully>"
      ]
     },
     "execution_count": 273,
     "metadata": {},
     "output_type": "execute_result"
    }
   ],
   "source": [
    "# load models based off of original model\n",
    "model64, model32, model16, model8, model4 = (\n",
    "    NeuralNetwork().to(device), NeuralNetwork().to(device), \n",
    "    NeuralNetwork().to(device), NeuralNetwork().to(device), NeuralNetwork().to(device))\n",
    "\n",
    "model64.load_state_dict(torch.load('model.pth'))\n",
    "model32.load_state_dict(torch.load('model.pth'))\n",
    "model16.load_state_dict(torch.load('model.pth'))\n",
    "model8.load_state_dict(torch.load('model.pth'))\n",
    "model4.load_state_dict(torch.load('model.pth'))\n",
    "\n"
   ]
  },
  {
   "cell_type": "code",
   "execution_count": 274,
   "id": "81cbcb92-6b3a-446a-9a5d-fc4f9064e166",
   "metadata": {},
   "outputs": [
    {
     "data": {
      "text/plain": [
       "tensor([[0., 0., 0.,  ..., 0., 0., 0.],\n",
       "        [0., 0., 0.,  ..., 0., 0., 0.],\n",
       "        [0., 0., 0.,  ..., 0., 0., 0.],\n",
       "        ...,\n",
       "        [0., 0., 0.,  ..., 0., 0., 0.],\n",
       "        [0., 0., 0.,  ..., 0., 0., 0.],\n",
       "        [0., 0., 0.,  ..., 0., 0., 0.]])"
      ]
     },
     "execution_count": 274,
     "metadata": {},
     "output_type": "execute_result"
    }
   ],
   "source": [
    "torch.zeros(model64.linear_relu_stack[0].weight.data.shape)"
   ]
  },
  {
   "cell_type": "code",
   "execution_count": 277,
   "id": "d2e79b34-06ec-49f1-b3bf-a6aba47ebd2d",
   "metadata": {},
   "outputs": [
    {
     "data": {
      "text/plain": [
       "tensor([-0.0082,  0.5156,  0.1759, -0.3258, -0.1558,  0.2139, -0.1004,  0.2280,\n",
       "         0.2006,  0.1975])"
      ]
     },
     "execution_count": 277,
     "metadata": {},
     "output_type": "execute_result"
    }
   ],
   "source": [
    "model4.linear_relu_stack[0].bias.data"
   ]
  },
  {
   "cell_type": "code",
   "execution_count": 275,
   "id": "5c1be1eb-c178-4ac6-9fbe-8538b92af3d7",
   "metadata": {},
   "outputs": [
    {
     "data": {
      "text/plain": [
       "fxp-s4/3([ 0.     0.5    0.125 -0.375 -0.125  0.25  -0.125  0.25   0.25   0.25 ])"
      ]
     },
     "execution_count": 275,
     "metadata": {},
     "output_type": "execute_result"
    }
   ],
   "source": [
    "x4(model64.linear_relu_stack[0].bias.data.detach().numpy())"
   ]
  },
  {
   "cell_type": "code",
   "execution_count": 267,
   "id": "b717d0f2-6331-4e6c-ac05-e3282d92b098",
   "metadata": {},
   "outputs": [],
   "source": [
    "model64.linear_relu_stack[0].bias.data = x4(model64.linear_relu_stack[0].bias.data.shape))\n",
    "model64.linear_relu_stack[0].weight.data = torch.zeros(model64.linear_relu_stack[0].weight.data.shape)\n",
    "model64.linear_relu_stack[2].bias.data = torch.zeros(model64.linear_relu_stack[2].bias.data.shape)\n",
    "model64.linear_relu_stack[2].weight.data = torch.zeros(model64.linear_relu_stack[2].weight.data.shape)"
   ]
  },
  {
   "cell_type": "code",
   "execution_count": 268,
   "id": "ab0b5f87-5f0e-4778-88ad-78eead6f97c9",
   "metadata": {},
   "outputs": [
    {
     "data": {
      "text/plain": [
       "tensor([[0., 0., 0., 0., 0., 0., 0., 0., 0., 0.]], grad_fn=<AddmmBackward0>)"
      ]
     },
     "execution_count": 268,
     "metadata": {},
     "output_type": "execute_result"
    }
   ],
   "source": [
    "model64(X)"
   ]
  },
  {
   "cell_type": "code",
   "execution_count": 336,
   "id": "3f5f44e8-1e24-45bf-955e-2f18e13c408c",
   "metadata": {},
   "outputs": [],
   "source": [
    "w1 = model4.linear_relu_stack[0].weight.data\n",
    "b1 = model4.linear_relu_stack[0].bias.data\n",
    "w2 = model4.linear_relu_stack[2].weight.data\n",
    "b2 = model4.linear_relu_stack[2].bias.data"
   ]
  },
  {
   "cell_type": "code",
   "execution_count": 427,
   "id": "29e7ab87-b7ac-4389-9dc1-b7fdd85a7c24",
   "metadata": {},
   "outputs": [],
   "source": [
    "f1 = 4"
   ]
  },
  {
   "cell_type": "code",
   "execution_count": 434,
   "id": "e20a0baa-d01e-4055-8e68-3d595f6ed075",
   "metadata": {},
   "outputs": [
    {
     "data": {
      "text/plain": [
       "(tensor(1.2691), tensor(-1.0582), fxp-s4/3(0.0), tensor(0.0030))"
      ]
     },
     "execution_count": 434,
     "metadata": {},
     "output_type": "execute_result"
    }
   ],
   "source": [
    "w1.max(dim=1).values.mean()*f1, w1.min(dim=1).values.mean()*f1, x4(w1.mean().detach().numpy()), w1.median()"
   ]
  },
  {
   "cell_type": "code",
   "execution_count": 385,
   "id": "ac17450f-f60b-49f2-a2fd-45cab513356d",
   "metadata": {},
   "outputs": [
    {
     "name": "stdout",
     "output_type": "stream",
     "text": [
      "w1 = tensor([ 0.0214, -0.0236, -0.0104, -0.0298, -0.0032, -0.0091, -0.0128,  0.0327,\n",
      "        -0.0265,  0.0016])\n",
      "b1 = tensor([-0.0082,  0.5156,  0.1759, -0.3258, -0.1558,  0.2139, -0.1004,  0.2280,\n",
      "         0.2006,  0.1975])\n",
      "z1 = tensor([-0.2770,  2.8982, -0.3086,  2.4976,  5.6524, -1.2786,  0.0974,  0.1641,\n",
      "        -2.0617,  5.7793])\n",
      "a1 = tensor([0.0000, 2.8982, 0.0000, 2.4976, 5.6524, 0.0000, 0.0974, 0.1641, 0.0000,\n",
      "        5.7793])\n",
      "\n",
      "w2 = tensor([-0.1248, -0.0412, -0.2710, -0.2327, -0.2967,  0.2782, -0.1618, -0.2559,\n",
      "         0.2847, -0.2673])\n",
      "b2 = tensor([-0.3053,  0.1090,  0.3511, -0.2352, -0.1046,  1.0735, -0.1331,  0.1870,\n",
      "        -0.7727, -0.1762])\n",
      "z2 = tensor([  0.3707,  -7.2098,   3.1823,   5.5706,  -5.9576,   0.3325, -10.4972,\n",
      "         10.6533,  -0.5239,   1.8787])\n",
      "logits = tensor([3.3988e-05, 1.7344e-08, 5.6541e-04, 6.1605e-03, 6.0670e-08, 3.2713e-05,\n",
      "        6.4782e-10, 9.9304e-01, 1.3892e-05, 1.5354e-04])\n"
     ]
    }
   ],
   "source": [
    "print(f'w1 = {w1[:,0]}')\n",
    "print(f'b1 = {b1}')\n",
    "z1 = torch.matmul(w1,X.flatten()) + b1\n",
    "a1 = nn.functional.relu(a1)\n",
    "print(f'z1 = {z1}')\n",
    "print(f'a1 = {a1}')\n",
    "print()\n",
    "print(f'w2 = {w2[:,0]}')\n",
    "print(f'b2 = {b2}')\n",
    "z2 = torch.matmul(w2, a1) + b2\n",
    "print(f'z2 = {z2}')\n",
    "logits = nn.functional.softmax(torch.matmul(w2, a1) + b2,dim=0)\n",
    "print(f'logits = {logits}')"
   ]
  },
  {
   "cell_type": "code",
   "execution_count": 383,
   "id": "2fbeb3ec-027d-4780-98ba-7ccf2f8502c8",
   "metadata": {},
   "outputs": [
    {
     "name": "stdout",
     "output_type": "stream",
     "text": [
      "w1 = [0. 0. 0. 0. 0. 0. 0. 0. 0. 0.]\n",
      "b1 = [ 0.     0.5    0.125 -0.375 -0.125  0.25  -0.125  0.25   0.25   0.25 ]\n"
     ]
    }
   ],
   "source": [
    "print(f'w1 = {x4(w1[:,0].detach().numpy())}')\n",
    "print(f'b1 = {x4(b1.detach().numpy())}')"
   ]
  },
  {
   "cell_type": "code",
   "execution_count": 387,
   "id": "94c0fe0e-bd67-413b-b495-662d43be91a9",
   "metadata": {},
   "outputs": [],
   "source": [
    "debug = x4(w1.detach().numpy())"
   ]
  },
  {
   "cell_type": "code",
   "execution_count": 393,
   "id": "b5ff5055-abcd-44dc-89f0-432b76202935",
   "metadata": {},
   "outputs": [
    {
     "data": {
      "text/plain": [
       "(2408, 7840)"
      ]
     },
     "execution_count": 393,
     "metadata": {},
     "output_type": "execute_result"
    }
   ],
   "source": [
    "len(debug[debug != 0]), len(debug.flatten())"
   ]
  },
  {
   "cell_type": "code",
   "execution_count": 401,
   "id": "6a7c4a7d-69cf-4368-9137-000630bde190",
   "metadata": {},
   "outputs": [
    {
     "data": {
      "text/plain": [
       "(array([1., 1., 1., 0., 1., 3., 1., 1., 0., 1.]),\n",
       " array([-10.49717522,  -8.38213253,  -6.26708889,  -4.1520462 ,\n",
       "         -2.03700304,   0.07804012,   2.19308329,   4.30812645,\n",
       "          6.42316914,   8.53821278,  10.65325546]),\n",
       " <BarContainer object of 10 artists>)"
      ]
     },
     "execution_count": 401,
     "metadata": {},
     "output_type": "execute_result"
    },
    {
     "data": {
      "image/png": "[encoded data removed]",
      "text/plain": [
       "<Figure size 1200x900 with 6 Axes>"
      ]
     },
     "metadata": {},
     "output_type": "display_data"
    }
   ],
   "source": [
    "import matplotlib.pyplot as plt\n",
    "f1 = 8\n",
    "func = lambda a: (a-8)/8\n",
    "fig, ax = plt.subplots(2,3, figsize=(12,9))\n",
    "ax[0,0].hist(model4.linear_relu_stack[0].weight.data.flatten()*f1,bins=[func(k) for k in range(16)])\n",
    "ax[0,1].hist(model4.linear_relu_stack[0].bias.data.flatten()*f1,bins=[func(k) for k in range(16)])\n",
    "ax[0,2].hist(z1)#,bins=[func(k) for k in range(16)])\n",
    "\n",
    "ax[1,0].hist(model4.linear_relu_stack[2].weight.data.flatten(),bins=[func(k) for k in range(16)])\n",
    "ax[1,1].hist(model4.linear_relu_stack[2].bias.data.flatten(),bins=[func(k) for k in range(16)])\n",
    "ax[1,2].hist(z2)#,bins=[func(k) for k in range(16)])"
   ]
  },
  {
   "cell_type": "code",
   "execution_count": null,
   "id": "201b5bf7-ff1d-4abc-be49-abebd018bb21",
   "metadata": {},
   "outputs": [],
   "source": []
  },
  {
   "cell_type": "code",
   "execution_count": 220,
   "id": "ddb1ed9f-4ba7-4636-9e7a-d5cbd98119d6",
   "metadata": {},
   "outputs": [
    {
     "data": {
      "text/plain": [
       "torch.Size([10])"
      ]
     },
     "execution_count": 220,
     "metadata": {},
     "output_type": "execute_result"
    }
   ],
   "source": [
    "# dir(model)\n",
    "# dir(model.linear_relu_stack[0])\n",
    "model.linear_relu_stack[0]."
   ]
  },
  {
   "cell_type": "code",
   "execution_count": null,
   "id": "76b7c4b2-f4a6-42b8-9ba0-35345aa9939b",
   "metadata": {},
   "outputs": [],
   "source": [
    "size = len(dataloader.dataset)\n",
    "num_batches = len(dataloader)\n",
    "\n",
    "model.eval()\n",
    "loss, error = 0, 0\n",
    "\n",
    "with torch.no_grad():\n",
    "    for X, y in dataloader:\n",
    "        X, y = X.to(device), y.to(device)\n",
    "        pred = model(X)\n",
    "        loss += loss_fn(pred, y).item()\n",
    "        error += (pred.argmax(1) != y).type(torch.float).sum().item()\n",
    "        \n",
    "loss /= num_batches\n",
    "error /= size\n",
    "\n",
    "if DEBUG_MODE:\n",
    "    print(f\"Test Error: \\n Error: {(100*error):>0.1f}%, Avg loss: {loss:>8f} \\n\")"
   ]
  },
  {
   "cell_type": "code",
   "execution_count": 195,
   "id": "2a7e9bda-520a-4f53-a527-8a7ad8741274",
   "metadata": {},
   "outputs": [
    {
     "data": {
      "text/plain": [
       "array([0.96906567, 0.26457293, 0.1860857 , 0.55395487, 0.58325015])"
      ]
     },
     "execution_count": 195,
     "metadata": {},
     "output_type": "execute_result"
    }
   ],
   "source": [
    "np.random.rand(5)"
   ]
  },
  {
   "cell_type": "code",
   "execution_count": 204,
   "id": "b4837807-db4f-4dbf-89e0-4afe398ac974",
   "metadata": {},
   "outputs": [
    {
     "data": {
      "text/plain": [
       "array([ 0.96703507,  0.43469998,  0.53122047, -0.72255218, -0.73289822,\n",
       "       -0.80740412, -0.02381079,  0.19642478, -0.79172041, -0.26691832,\n",
       "       -0.33398414, -0.36622668,  0.2011202 ,  0.04073471, -0.25148638,\n",
       "       -0.60095615, -0.38881946, -0.00556368,  0.68207646,  0.79705705,\n",
       "        0.39956849,  0.8884846 , -0.36663818,  0.86523014,  0.75367574,\n",
       "       -0.69762   ,  0.85650231, -0.76822922, -0.22708709,  0.20130197,\n",
       "        0.61984963, -0.33717207,  0.5723106 , -0.77482225,  0.84917978,\n",
       "       -0.36237733, -0.05206697, -0.27833082,  0.34685594, -0.73955677,\n",
       "       -0.07909527, -0.14149584,  0.39475773,  0.75288463, -0.54359916,\n",
       "       -0.60878137,  0.60651169, -0.66185175, -0.84420762, -0.74910711])"
      ]
     },
     "execution_count": 204,
     "metadata": {},
     "output_type": "execute_result"
    }
   ],
   "source": [
    "test = np.random.rand(50)*2 -1\n",
    "test"
   ]
  },
  {
   "cell_type": "code",
   "execution_count": 203,
   "id": "e86fdeb6-d813-4ef7-a221-4ff715b18037",
   "metadata": {},
   "outputs": [
    {
     "data": {
      "text/plain": [
       "fxp-s4/3(-0.875)"
      ]
     },
     "execution_count": 203,
     "metadata": {},
     "output_type": "execute_result"
    }
   ],
   "source": [
    "x4(-.99)"
   ]
  },
  {
   "cell_type": "code",
   "execution_count": 209,
   "id": "28b8d6bf-7512-446a-8d45-8084006d3519",
   "metadata": {
    "scrolled": true
   },
   "outputs": [
    {
     "data": {
      "text/plain": [
       "fxp-s4/3([ 0.875  0.375  0.5   -0.75  -0.75  -0.75   0.     0.25  -0.75  -0.25\n",
       "          -0.375 -0.375  0.25   0.    -0.25  -0.625 -0.375  0.     0.625  0.75\n",
       "           0.375  0.875 -0.375  0.875  0.75  -0.75   0.875 -0.75  -0.25   0.25\n",
       "           0.625 -0.375  0.625 -0.75   0.875 -0.375  0.    -0.25   0.375 -0.75\n",
       "          -0.125 -0.125  0.375  0.75  -0.5   -0.625  0.625 -0.625 -0.875 -0.75 ])"
      ]
     },
     "execution_count": 209,
     "metadata": {},
     "output_type": "execute_result"
    }
   ],
   "source": [
    "x4(test)"
   ]
  },
  {
   "cell_type": "code",
   "execution_count": null,
   "id": "ec298332-a36e-4622-9875-fd67a5d41901",
   "metadata": {},
   "outputs": [],
   "source": [
    "def fptest(notation):\n",
    "    "
   ]
  },
  {
   "cell_type": "code",
   "execution_count": 175,
   "id": "83c7b88f-5c48-4ef9-b7e1-e5196306756a",
   "metadata": {},
   "outputs": [
    {
     "data": {
      "text/plain": [
       "array([[0.59687764, 0.16293333, 0.33983127, 0.1015    ],\n",
       "       [0.32451233, 0.09201667, 0.31039962, 0.0912    ]])"
      ]
     },
     "execution_count": 175,
     "metadata": {},
     "output_type": "execute_result"
    }
   ],
   "source": [
    "results"
   ]
  },
  {
   "cell_type": "code",
   "execution_count": 122,
   "id": "2b9b1c8d-9291-442b-8f42-7ab159395e92",
   "metadata": {
    "scrolled": true
   },
   "outputs": [
    {
     "data": {
      "text/plain": [
       "1.0"
      ]
     },
     "execution_count": 122,
     "metadata": {},
     "output_type": "execute_result"
    }
   ],
   "source": [
    "pred = model(X)\n",
    "(pred.argmax(1) != y).type(torch.float).sum().item()"
   ]
  },
  {
   "cell_type": "code",
   "execution_count": 77,
   "id": "58cf9cc0-83ec-4618-b90b-b0165817cf12",
   "metadata": {
    "scrolled": true
   },
   "outputs": [
    {
     "data": {
      "text/plain": [
       "[tensor([[[[0.0000, 0.0000, 0.0000, 0.0000, 0.0000, 0.0000, 0.0000, 0.0000,\n",
       "            0.0000, 0.0000, 0.0000, 0.0000, 0.0000, 0.0000, 0.0000, 0.0000,\n",
       "            0.0000, 0.0000, 0.0000, 0.0000, 0.0000, 0.0000, 0.0000, 0.0000,\n",
       "            0.0000, 0.0000, 0.0000, 0.0000],\n",
       "           [0.0000, 0.0000, 0.0000, 0.0000, 0.0000, 0.0000, 0.0000, 0.0000,\n",
       "            0.0000, 0.0000, 0.0000, 0.0000, 0.0000, 0.0000, 0.0000, 0.0000,\n",
       "            0.0000, 0.0000, 0.0000, 0.0000, 0.0000, 0.0000, 0.0000, 0.0000,\n",
       "            0.0000, 0.0000, 0.0000, 0.0000],\n",
       "           [0.0000, 0.0000, 0.0000, 0.0000, 0.0000, 0.0000, 0.0000, 0.0000,\n",
       "            0.0000, 0.0000, 0.0000, 0.0000, 0.0000, 0.0000, 0.0000, 0.0000,\n",
       "            0.0000, 0.0000, 0.0000, 0.0000, 0.0000, 0.0000, 0.0000, 0.0000,\n",
       "            0.0000, 0.0000, 0.0000, 0.0000],\n",
       "           [0.0000, 0.0000, 0.0000, 0.0000, 0.0000, 0.0000, 0.0000, 0.0000,\n",
       "            0.0000, 0.0000, 0.0000, 0.0000, 0.0000, 0.0000, 0.0000, 0.0000,\n",
       "            0.0000, 0.0000, 0.0000, 0.0000, 0.0000, 0.0000, 0.0000, 0.0000,\n",
       "            0.0000, 0.0000, 0.0000, 0.0000],\n",
       "           [0.0000, 0.0000, 0.0000, 0.0000, 0.0000, 0.0000, 0.0000, 0.0000,\n",
       "            0.0000, 0.0000, 0.0000, 0.0000, 0.0000, 0.0000, 0.0000, 0.0000,\n",
       "            0.0000, 0.0000, 0.0000, 0.0000, 0.0000, 0.0000, 0.0000, 0.0000,\n",
       "            0.0000, 0.0000, 0.0000, 0.0000],\n",
       "           [0.0000, 0.0000, 0.0000, 0.0000, 0.0000, 0.0000, 0.0000, 0.0000,\n",
       "            0.0000, 0.0000, 0.0000, 0.0000, 0.0118, 0.0706, 0.0706, 0.0706,\n",
       "            0.4941, 0.5333, 0.6863, 0.1020, 0.6510, 1.0000, 0.9686, 0.4980,\n",
       "            0.0000, 0.0000, 0.0000, 0.0000],\n",
       "           [0.0000, 0.0000, 0.0000, 0.0000, 0.0000, 0.0000, 0.0000, 0.0000,\n",
       "            0.1176, 0.1412, 0.3686, 0.6039, 0.6667, 0.9922, 0.9922, 0.9922,\n",
       "            0.9922, 0.9922, 0.8824, 0.6745, 0.9922, 0.9490, 0.7647, 0.2510,\n",
       "            0.0000, 0.0000, 0.0000, 0.0000],\n",
       "           [0.0000, 0.0000, 0.0000, 0.0000, 0.0000, 0.0000, 0.0000, 0.1922,\n",
       "            0.9333, 0.9922, 0.9922, 0.9922, 0.9922, 0.9922, 0.9922, 0.9922,\n",
       "            0.9922, 0.9843, 0.3647, 0.3216, 0.3216, 0.2196, 0.1529, 0.0000,\n",
       "            0.0000, 0.0000, 0.0000, 0.0000],\n",
       "           [0.0000, 0.0000, 0.0000, 0.0000, 0.0000, 0.0000, 0.0000, 0.0706,\n",
       "            0.8588, 0.9922, 0.9922, 0.9922, 0.9922, 0.9922, 0.7765, 0.7137,\n",
       "            0.9686, 0.9451, 0.0000, 0.0000, 0.0000, 0.0000, 0.0000, 0.0000,\n",
       "            0.0000, 0.0000, 0.0000, 0.0000],\n",
       "           [0.0000, 0.0000, 0.0000, 0.0000, 0.0000, 0.0000, 0.0000, 0.0000,\n",
       "            0.3137, 0.6118, 0.4196, 0.9922, 0.9922, 0.8039, 0.0431, 0.0000,\n",
       "            0.1686, 0.6039, 0.0000, 0.0000, 0.0000, 0.0000, 0.0000, 0.0000,\n",
       "            0.0000, 0.0000, 0.0000, 0.0000],\n",
       "           [0.0000, 0.0000, 0.0000, 0.0000, 0.0000, 0.0000, 0.0000, 0.0000,\n",
       "            0.0000, 0.0549, 0.0039, 0.6039, 0.9922, 0.3529, 0.0000, 0.0000,\n",
       "            0.0000, 0.0000, 0.0000, 0.0000, 0.0000, 0.0000, 0.0000, 0.0000,\n",
       "            0.0000, 0.0000, 0.0000, 0.0000],\n",
       "           [0.0000, 0.0000, 0.0000, 0.0000, 0.0000, 0.0000, 0.0000, 0.0000,\n",
       "            0.0000, 0.0000, 0.0000, 0.5451, 0.9922, 0.7451, 0.0078, 0.0000,\n",
       "            0.0000, 0.0000, 0.0000, 0.0000, 0.0000, 0.0000, 0.0000, 0.0000,\n",
       "            0.0000, 0.0000, 0.0000, 0.0000],\n",
       "           [0.0000, 0.0000, 0.0000, 0.0000, 0.0000, 0.0000, 0.0000, 0.0000,\n",
       "            0.0000, 0.0000, 0.0000, 0.0431, 0.7451, 0.9922, 0.2745, 0.0000,\n",
       "            0.0000, 0.0000, 0.0000, 0.0000, 0.0000, 0.0000, 0.0000, 0.0000,\n",
       "            0.0000, 0.0000, 0.0000, 0.0000],\n",
       "           [0.0000, 0.0000, 0.0000, 0.0000, 0.0000, 0.0000, 0.0000, 0.0000,\n",
       "            0.0000, 0.0000, 0.0000, 0.0000, 0.1373, 0.9451, 0.8824, 0.6275,\n",
       "            0.4235, 0.0039, 0.0000, 0.0000, 0.0000, 0.0000, 0.0000, 0.0000,\n",
       "            0.0000, 0.0000, 0.0000, 0.0000],\n",
       "           [0.0000, 0.0000, 0.0000, 0.0000, 0.0000, 0.0000, 0.0000, 0.0000,\n",
       "            0.0000, 0.0000, 0.0000, 0.0000, 0.0000, 0.3176, 0.9412, 0.9922,\n",
       "            0.9922, 0.4667, 0.0980, 0.0000, 0.0000, 0.0000, 0.0000, 0.0000,\n",
       "            0.0000, 0.0000, 0.0000, 0.0000],\n",
       "           [0.0000, 0.0000, 0.0000, 0.0000, 0.0000, 0.0000, 0.0000, 0.0000,\n",
       "            0.0000, 0.0000, 0.0000, 0.0000, 0.0000, 0.0000, 0.1765, 0.7294,\n",
       "            0.9922, 0.9922, 0.5882, 0.1059, 0.0000, 0.0000, 0.0000, 0.0000,\n",
       "            0.0000, 0.0000, 0.0000, 0.0000],\n",
       "           [0.0000, 0.0000, 0.0000, 0.0000, 0.0000, 0.0000, 0.0000, 0.0000,\n",
       "            0.0000, 0.0000, 0.0000, 0.0000, 0.0000, 0.0000, 0.0000, 0.0627,\n",
       "            0.3647, 0.9882, 0.9922, 0.7333, 0.0000, 0.0000, 0.0000, 0.0000,\n",
       "            0.0000, 0.0000, 0.0000, 0.0000],\n",
       "           [0.0000, 0.0000, 0.0000, 0.0000, 0.0000, 0.0000, 0.0000, 0.0000,\n",
       "            0.0000, 0.0000, 0.0000, 0.0000, 0.0000, 0.0000, 0.0000, 0.0000,\n",
       "            0.0000, 0.9765, 0.9922, 0.9765, 0.2510, 0.0000, 0.0000, 0.0000,\n",
       "            0.0000, 0.0000, 0.0000, 0.0000],\n",
       "           [0.0000, 0.0000, 0.0000, 0.0000, 0.0000, 0.0000, 0.0000, 0.0000,\n",
       "            0.0000, 0.0000, 0.0000, 0.0000, 0.0000, 0.0000, 0.1804, 0.5098,\n",
       "            0.7176, 0.9922, 0.9922, 0.8118, 0.0078, 0.0000, 0.0000, 0.0000,\n",
       "            0.0000, 0.0000, 0.0000, 0.0000],\n",
       "           [0.0000, 0.0000, 0.0000, 0.0000, 0.0000, 0.0000, 0.0000, 0.0000,\n",
       "            0.0000, 0.0000, 0.0000, 0.0000, 0.1529, 0.5804, 0.8980, 0.9922,\n",
       "            0.9922, 0.9922, 0.9804, 0.7137, 0.0000, 0.0000, 0.0000, 0.0000,\n",
       "            0.0000, 0.0000, 0.0000, 0.0000],\n",
       "           [0.0000, 0.0000, 0.0000, 0.0000, 0.0000, 0.0000, 0.0000, 0.0000,\n",
       "            0.0000, 0.0000, 0.0941, 0.4471, 0.8667, 0.9922, 0.9922, 0.9922,\n",
       "            0.9922, 0.7882, 0.3059, 0.0000, 0.0000, 0.0000, 0.0000, 0.0000,\n",
       "            0.0000, 0.0000, 0.0000, 0.0000],\n",
       "           [0.0000, 0.0000, 0.0000, 0.0000, 0.0000, 0.0000, 0.0000, 0.0000,\n",
       "            0.0902, 0.2588, 0.8353, 0.9922, 0.9922, 0.9922, 0.9922, 0.7765,\n",
       "            0.3176, 0.0078, 0.0000, 0.0000, 0.0000, 0.0000, 0.0000, 0.0000,\n",
       "            0.0000, 0.0000, 0.0000, 0.0000],\n",
       "           [0.0000, 0.0000, 0.0000, 0.0000, 0.0000, 0.0000, 0.0706, 0.6706,\n",
       "            0.8588, 0.9922, 0.9922, 0.9922, 0.9922, 0.7647, 0.3137, 0.0353,\n",
       "            0.0000, 0.0000, 0.0000, 0.0000, 0.0000, 0.0000, 0.0000, 0.0000,\n",
       "            0.0000, 0.0000, 0.0000, 0.0000],\n",
       "           [0.0000, 0.0000, 0.0000, 0.0000, 0.2157, 0.6745, 0.8863, 0.9922,\n",
       "            0.9922, 0.9922, 0.9922, 0.9569, 0.5216, 0.0431, 0.0000, 0.0000,\n",
       "            0.0000, 0.0000, 0.0000, 0.0000, 0.0000, 0.0000, 0.0000, 0.0000,\n",
       "            0.0000, 0.0000, 0.0000, 0.0000],\n",
       "           [0.0000, 0.0000, 0.0000, 0.0000, 0.5333, 0.9922, 0.9922, 0.9922,\n",
       "            0.8314, 0.5294, 0.5176, 0.0627, 0.0000, 0.0000, 0.0000, 0.0000,\n",
       "            0.0000, 0.0000, 0.0000, 0.0000, 0.0000, 0.0000, 0.0000, 0.0000,\n",
       "            0.0000, 0.0000, 0.0000, 0.0000],\n",
       "           [0.0000, 0.0000, 0.0000, 0.0000, 0.0000, 0.0000, 0.0000, 0.0000,\n",
       "            0.0000, 0.0000, 0.0000, 0.0000, 0.0000, 0.0000, 0.0000, 0.0000,\n",
       "            0.0000, 0.0000, 0.0000, 0.0000, 0.0000, 0.0000, 0.0000, 0.0000,\n",
       "            0.0000, 0.0000, 0.0000, 0.0000],\n",
       "           [0.0000, 0.0000, 0.0000, 0.0000, 0.0000, 0.0000, 0.0000, 0.0000,\n",
       "            0.0000, 0.0000, 0.0000, 0.0000, 0.0000, 0.0000, 0.0000, 0.0000,\n",
       "            0.0000, 0.0000, 0.0000, 0.0000, 0.0000, 0.0000, 0.0000, 0.0000,\n",
       "            0.0000, 0.0000, 0.0000, 0.0000],\n",
       "           [0.0000, 0.0000, 0.0000, 0.0000, 0.0000, 0.0000, 0.0000, 0.0000,\n",
       "            0.0000, 0.0000, 0.0000, 0.0000, 0.0000, 0.0000, 0.0000, 0.0000,\n",
       "            0.0000, 0.0000, 0.0000, 0.0000, 0.0000, 0.0000, 0.0000, 0.0000,\n",
       "            0.0000, 0.0000, 0.0000, 0.0000]]]]),\n",
       " tensor([5])]"
      ]
     },
     "execution_count": 77,
     "metadata": {},
     "output_type": "execute_result"
    }
   ],
   "source": [
    "iterator = iter(train_dataloader)\n",
    "X = next(iterator)"
   ]
  },
  {
   "cell_type": "code",
   "execution_count": 107,
   "id": "d5986feb-ece0-4007-ab9e-f944a2f253f9",
   "metadata": {},
   "outputs": [
    {
     "data": {
      "text/plain": [
       "1"
      ]
     },
     "execution_count": 107,
     "metadata": {},
     "output_type": "execute_result"
    }
   ],
   "source": [
    "int(np.argmax(model(X[0]).detach().numpy()) != X[1])\n",
    "                        "
   ]
  },
  {
   "cell_type": "code",
   "execution_count": 75,
   "id": "2d1f98ff-71df-4bc6-b581-64be802a54f4",
   "metadata": {},
   "outputs": [
    {
     "data": {
      "text/plain": [
       "30000"
      ]
     },
     "execution_count": 75,
     "metadata": {},
     "output_type": "execute_result"
    }
   ],
   "source": [
    "size = len(train_dataloader)\n",
    "size"
   ]
  },
  {
   "cell_type": "code",
   "execution_count": 73,
   "id": "8696174a-28d8-4f01-8aac-7feefba3e52c",
   "metadata": {},
   "outputs": [
    {
     "data": {
      "text/plain": [
       "array([0., 0., 0., ..., 0., 0., 0.])"
      ]
     },
     "execution_count": 73,
     "metadata": {},
     "output_type": "execute_result"
    }
   ],
   "source": [
    "summary = np.zeros((size,2))\n",
    "summary[0]"
   ]
  },
  {
   "cell_type": "code",
   "execution_count": 64,
   "id": "9e9fb5d4-9702-4b03-a9d0-c2650f4099b9",
   "metadata": {},
   "outputs": [
    {
     "name": "stdout",
     "output_type": "stream",
     "text": [
      "NeuralNetwork(\n",
      "  (flatten): Flatten(start_dim=1, end_dim=-1)\n",
      "  (linear_relu_stack): Sequential(\n",
      "    (0): Linear(in_features=784, out_features=10, bias=True)\n",
      "    (1): ReLU()\n",
      "    (2): Linear(in_features=10, out_features=10, bias=True)\n",
      "  )\n",
      ")\n"
     ]
    }
   ],
   "source": [
    "model = NeuralNetwork().to(device)\n",
    "print(model)"
   ]
  }
 ],
 "metadata": {
  "kernelspec": {
   "display_name": "Python 3 (ipykernel)",
   "language": "python",
   "name": "python3"
  },
  "language_info": {
   "codemirror_mode": {
    "name": "ipython",
    "version": 3
   },
   "file_extension": ".py",
   "mimetype": "text/x-python",
   "name": "python",
   "nbconvert_exporter": "python",
   "pygments_lexer": "ipython3",
   "version": "3.12.2"
  }
 },
 "nbformat": 4,
 "nbformat_minor": 5
}
