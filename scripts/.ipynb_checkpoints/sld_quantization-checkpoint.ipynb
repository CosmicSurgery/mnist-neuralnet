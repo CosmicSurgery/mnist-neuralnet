{
 "cells": [
  {
   "cell_type": "code",
   "execution_count": 1,
   "id": "bd79fefd-8cbf-4364-b04b-5c9160485cf2",
   "metadata": {},
   "outputs": [],
   "source": [
    "# import packages\n",
    "import torch\n",
    "from torch import nn\n",
    "from torchvision import datasets\n",
    "from torchvision.transforms import ToTensor\n",
    "from torch.utils.data import DataLoader\n",
    "\n",
    "from datetime import datetime\n",
    "import numpy as np\n",
    "import time\n",
    "from fxpmath import Fxp\n",
    "import os\n",
    "import json"
   ]
  },
  {
   "cell_type": "code",
   "execution_count": 14,
   "id": "acbd0c5f-c961-4c40-833e-5e212de039e4",
   "metadata": {},
   "outputs": [
    {
     "name": "stdout",
     "output_type": "stream",
     "text": [
      "Using cpu device\n",
      "Shape of X [N, C, H, W]: torch.Size([1, 1, 28, 28])\n",
      "Shape of y: torch.Size([1]) torch.int64\n"
     ]
    }
   ],
   "source": [
    "INPUT_SIZE=784\n",
    "DEBUG_MODE = True\n",
    "NETWORK_PARAMETERS = [10,10]\n",
    "\n",
    "device = (\n",
    "    \"cuda\"\n",
    "    if torch.cuda.is_available()\n",
    "    else \"mps\"\n",
    "    if torch.backends.mps.is_available()\n",
    "    else \"cpu\"\n",
    ")\n",
    "print(f\"Using {device} device\")\n",
    "\n",
    "training_data = datasets.MNIST(\n",
    "    root=\"data\",\n",
    "    train=True,\n",
    "    download=True,\n",
    "    transform=ToTensor()\n",
    ")\n",
    "test_data = datasets.MNIST(\n",
    "    root=\"data\",\n",
    "    train=False,\n",
    "    download=True,\n",
    "    transform=ToTensor()\n",
    ")\n",
    "batch_size = 1\n",
    "epochs = 20\n",
    "\n",
    "# Create data loaders.\n",
    "train_dataloader = DataLoader(training_data, batch_size=batch_size)\n",
    "test_dataloader = DataLoader(test_data, batch_size=batch_size)\n",
    "\n",
    "for X, y in test_dataloader:\n",
    "    print(f\"Shape of X [N, C, H, W]: {X.shape}\")\n",
    "    print(f\"Shape of y: {y.shape} {y.dtype}\")\n",
    "    break"
   ]
  },
  {
   "cell_type": "code",
   "execution_count": 15,
   "id": "7e07b72f-9153-41d1-aeb1-c75fc1351e3a",
   "metadata": {},
   "outputs": [
    {
     "name": "stdout",
     "output_type": "stream",
     "text": [
      "NeuralNetwork(\n",
      "  (flatten): Flatten(start_dim=1, end_dim=-1)\n",
      "  (linear_relu_stack): Sequential(\n",
      "    (0): Linear(in_features=784, out_features=10, bias=True)\n",
      "    (1): ReLU()\n",
      "    (2): Linear(in_features=10, out_features=10, bias=True)\n",
      "  )\n",
      ")\n"
     ]
    }
   ],
   "source": [
    "# Define model\n",
    "class NeuralNetwork(nn.Module):\n",
    "    def __init__(self):\n",
    "        super().__init__()\n",
    "        self.flatten = nn.Flatten()\n",
    "        network_parameters = [INPUT_SIZE, *NETWORK_PARAMETERS]\n",
    "        layers = []\n",
    "        \n",
    "        for i in range(len(network_parameters)-1):\n",
    "            layers.append(nn.Linear(network_parameters[i], network_parameters[i+1]))\n",
    "            layers.append(nn.ReLU())\n",
    "        layers.pop()\n",
    "        \n",
    "        self.linear_relu_stack = nn.Sequential(*layers)\n",
    "        self.linear_relu_stack = nn.Sequential(\n",
    "            nn.Linear(28*28, 10),\n",
    "            nn.ReLU(),\n",
    "            nn.Linear(10, 10)\n",
    "            # nn.ReLU(),\n",
    "            # nn.Linear(LAYER_TWO_SIZE, LAYER_THREE_SIZE)\n",
    "        )\n",
    "\n",
    "    def forward(self, x):\n",
    "        x = self.flatten(x)\n",
    "        logits = self.linear_relu_stack(x)\n",
    "        return logits\n",
    "\n",
    "def train(dataloader, model, loss_fn, optimizer):\n",
    "    size = len(dataloader.dataset)\n",
    "    num_batches = len(dataloader)\n",
    "    train_loss, error = 0, 0\n",
    "    \n",
    "    model.train()\n",
    "    \n",
    "    for batch, (X, y) in enumerate(dataloader):\n",
    "        X, y = X.to(device), y.to(device)\n",
    "\n",
    "        # Compute prediction error\n",
    "        pred = model(X)\n",
    "        loss = loss_fn(pred, y)   \n",
    "        \n",
    "        train_loss += loss.item()                                            # cumulative loss\n",
    "        error += (pred.argmax(1) != y).type(torch.float).sum().item()        # error rate\n",
    "        \n",
    "        # Backpropagation\n",
    "        loss.backward()\n",
    "        optimizer.step()\n",
    "        optimizer.zero_grad()\n",
    "\n",
    "        if DEBUG_MODE:\n",
    "            if batch % 6000 == 0:\n",
    "                loss, current = loss, (batch) * len(X)\n",
    "                print(f\"loss: {loss:>7f}  [{current:>5d}/{size:>5d}]\")\n",
    "                \n",
    "    train_loss /= num_batches\n",
    "    error /= size\n",
    "        \n",
    "    return (train_loss, error)\n",
    "\n",
    "def test(dataloader, model, loss_fn):\n",
    "    size = len(dataloader.dataset)\n",
    "    num_batches = len(dataloader)\n",
    "    \n",
    "    model.eval()\n",
    "    loss, error = 0, 0\n",
    "    \n",
    "    with torch.no_grad():\n",
    "        for X, y in dataloader:\n",
    "            X, y = X.to(device), y.to(device)\n",
    "            pred = model(X)\n",
    "            loss += loss_fn(pred, y).item()\n",
    "            error += (pred.argmax(1) != y).type(torch.float).sum().item()\n",
    "            \n",
    "    loss /= num_batches\n",
    "    error /= size\n",
    "    \n",
    "    if DEBUG_MODE:\n",
    "        print(f\"Test Error: \\n Error: {(100*error):>0.1f}%, Avg loss: {loss:>8f} \\n\")\n",
    "    \n",
    "    return (loss , error)\n",
    "\n",
    "model = NeuralNetwork().to(device)\n",
    "print(model)\n",
    "loss_fn = nn.CrossEntropyLoss()\n",
    "optimizer = torch.optim.SGD(model.parameters(), lr=1e-3)"
   ]
  },
  {
   "cell_type": "code",
   "execution_count": 16,
   "id": "bda4520d-3d88-48cd-8d15-630dad948307",
   "metadata": {},
   "outputs": [
    {
     "data": {
      "text/plain": [
       "<All keys matched successfully>"
      ]
     },
     "execution_count": 16,
     "metadata": {},
     "output_type": "execute_result"
    }
   ],
   "source": [
    "# load models based off of original model\n",
    "model64, model32, model16, model8, model4 = (\n",
    "    NeuralNetwork().to(device), NeuralNetwork().to(device), \n",
    "    NeuralNetwork().to(device), NeuralNetwork().to(device), NeuralNetwork().to(device))\n",
    "\n",
    "model64.load_state_dict(torch.load('model.pth'))\n",
    "model32.load_state_dict(torch.load('model.pth'))\n",
    "model16.load_state_dict(torch.load('model.pth'))\n",
    "model8.load_state_dict(torch.load('model.pth'))\n",
    "model4.load_state_dict(torch.load('model.pth'))\n",
    "\n"
   ]
  },
  {
   "cell_type": "code",
   "execution_count": 17,
   "id": "a6bbe35a-c37a-4b5a-8a08-81ab4c140731",
   "metadata": {},
   "outputs": [
    {
     "name": "stdout",
     "output_type": "stream",
     "text": [
      "[-7.25, -7.25, -4.0, -2.0, -1.0]\n"
     ]
    }
   ],
   "source": [
    "x64 = Fxp(-7.25, dtype='S10.54', rounding = 'around')\n",
    "x32 = Fxp(-7.25, dtype='S5.27', rounding = 'around')\n",
    "x16 = Fxp(-7.25, dtype='S3.13', rounding = 'around')\n",
    "x8 = Fxp(-7.25, dtype='S2.6', rounding = 'around')\n",
    "x4 = Fxp(-7.25, dtype='S1.3', rounding = 'around')\n",
    "print([k.get_val() for k in [x64,x32,x16,x8,x4]])"
   ]
  },
  {
   "cell_type": "markdown",
   "id": "bda846b1-1d69-4af6-94f6-40ad58d733ef",
   "metadata": {},
   "source": [
    "### Letl's start with the 8-bit model\n"
   ]
  },
  {
   "cell_type": "markdown",
   "id": "a7480d80-b92d-4c70-8d03-5ea0a40bec1f",
   "metadata": {},
   "source": [
    "$$x_q \\in [\\alpha_q, \\beta_q]$$\n",
    "$$x \\in [\\alpha, \\beta]$$\n"
   ]
  },
  {
   "cell_type": "markdown",
   "id": "36a57901-4863-4bf0-a00c-c22006552f7c",
   "metadata": {},
   "source": [
    "#### Generate optimal ranges\n"
   ]
  },
  {
   "cell_type": "code",
   "execution_count": 37,
   "id": "be6db263-e6b8-4745-898a-e6996607ff09",
   "metadata": {},
   "outputs": [
    {
     "name": "stdout",
     "output_type": "stream",
     "text": [
      "NeuralNetwork(\n",
      "  (flatten): Flatten(start_dim=1, end_dim=-1)\n",
      "  (linear_relu_stack): Sequential(\n",
      "    (0): Linear(in_features=784, out_features=10, bias=True)\n",
      "    (1): ReLU()\n",
      "    (2): Linear(in_features=10, out_features=10, bias=True)\n",
      "  )\n",
      ")\n"
     ]
    },
    {
     "data": {
      "text/plain": [
       "tensor([[ 0.0214, -0.0275,  0.0098,  ...,  0.0012, -0.0123,  0.0018],\n",
       "        [-0.0236, -0.0033, -0.0038,  ...,  0.0212,  0.0238,  0.0165],\n",
       "        [-0.0104,  0.0087, -0.0064,  ...,  0.0293,  0.0093,  0.0229],\n",
       "        ...,\n",
       "        [ 0.0327, -0.0288, -0.0302,  ...,  0.0235, -0.0128, -0.0102],\n",
       "        [-0.0265, -0.0198,  0.0146,  ...,  0.0205, -0.0245, -0.0037],\n",
       "        [ 0.0016, -0.0341,  0.0251,  ..., -0.0246, -0.0084,  0.0168]])"
      ]
     },
     "execution_count": 37,
     "metadata": {},
     "output_type": "execute_result"
    },
    {
     "data": {
      "image/png": "[encoded data removed]",
      "text/plain": [
       "<Figure size 1200x600 with 4 Axes>"
      ]
     },
     "metadata": {},
     "output_type": "display_data"
    }
   ],
   "source": [
    "print(model8)\n",
    "import matplotlib.pyplot as plt\n",
    "fig,ax = plt.subplots(2,2,figsize=(12,6))\n",
    "fig.suptitle(\"Resolution of first layer\", fontsize=16)\n",
    "ax[0,0] = plt.hist(model8.linear_relu_stack[0].weight.data.flatten())\n",
    "ax[0,1] = plt.hist(model8.linear_relu_stack[0].bias.data.flatten())\n",
    "ax[1,0] = plt.hist(model8.linear_relu_stack[2].weight.data.flatten())\n",
    "ax[1,1] = plt.hist(model8.linear_relu_stack[2].bias.data.flatten())\n",
    "model8.linear_relu_stack[0].weight.data"
   ]
  },
  {
   "cell_type": "code",
   "execution_count": null,
   "id": "b0e20ebe-aac2-4dee-a81a-7b39b3913c32",
   "metadata": {},
   "outputs": [],
   "source": []
  },
  {
   "cell_type": "code",
   "execution_count": 24,
   "id": "0ad4b7cf-a559-49ad-817e-99fcedfc70fd",
   "metadata": {},
   "outputs": [
    {
     "data": {
      "text/plain": [
       "NeuralNetwork(\n",
       "  (flatten): Flatten(start_dim=1, end_dim=-1)\n",
       "  (linear_relu_stack): Sequential(\n",
       "    (0): Linear(in_features=784, out_features=10, bias=True)\n",
       "    (1): ReLU()\n",
       "    (2): Linear(in_features=10, out_features=10, bias=True)\n",
       "  )\n",
       ")"
      ]
     },
     "execution_count": 24,
     "metadata": {},
     "output_type": "execute_result"
    }
   ],
   "source": [
    "alpha, qalpha, beta, qbeta = 0, 0 ,0 ,0"
   ]
  },
  {
   "cell_type": "markdown",
   "id": "53171278-6b74-43aa-9ae2-0608d94f2ebe",
   "metadata": {},
   "source": [
    "$$\\beta=c(\\beta_q+d)$$\n",
    "$$\\alpha=c(\\alpha_q+d)$$"
   ]
  },
  {
   "cell_type": "markdown",
   "id": "976efbb3-1b91-493a-be7e-5f59337ebc94",
   "metadata": {},
   "source": [
    "$$ c=\\frac{\\beta-\\alpha}{\\beta_q-\\alpha_q} $$\n",
    "$$d=\\frac{\\alpha\\beta_q-\\beta\\alpha_q}{\\beta-\\alpha}$$"
   ]
  },
  {
   "cell_type": "code",
   "execution_count": 20,
   "id": "c038f8b1-c811-4418-a781-d60fc3f0b1bf",
   "metadata": {},
   "outputs": [],
   "source": [
    "scale, zero_point = 0, 0"
   ]
  },
  {
   "cell_type": "markdown",
   "id": "095d1ef7-69b9-4259-b025-b7b2dd3b93cf",
   "metadata": {},
   "source": [
    "quant: $$x=s(x_q-z)$$ \n",
    "dequant: $$x_q=round(\\frac{1}{s}x+z)$$"
   ]
  },
  {
   "cell_type": "code",
   "execution_count": 22,
   "id": "1b06e0f3-b532-4e65-8e08-42cebc4527fc",
   "metadata": {},
   "outputs": [],
   "source": [
    "quant = lambda x, s, z : np.round((1/s)*x+z)\n",
    "dequant = lambda x, s, z : s*(x - z) "
   ]
  },
  {
   "cell_type": "code",
   "execution_count": null,
   "id": "91d01fff-29ba-43f8-9397-2985e2ce67c6",
   "metadata": {},
   "outputs": [],
   "source": []
  }
 ],
 "metadata": {
  "kernelspec": {
   "display_name": "Python 3 (ipykernel)",
   "language": "python",
   "name": "python3"
  },
  "language_info": {
   "codemirror_mode": {
    "name": "ipython",
    "version": 3
   },
   "file_extension": ".py",
   "mimetype": "text/x-python",
   "name": "python",
   "nbconvert_exporter": "python",
   "pygments_lexer": "ipython3",
   "version": "3.12.2"
  }
 },
 "nbformat": 4,
 "nbformat_minor": 5
}
