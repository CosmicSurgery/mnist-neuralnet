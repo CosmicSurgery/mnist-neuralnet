{
 "cells": [
  {
   "cell_type": "code",
   "execution_count": 1,
   "id": "bd79fefd-8cbf-4364-b04b-5c9160485cf2",
   "metadata": {},
   "outputs": [],
   "source": [
    "# import packages\n",
    "import torch\n",
    "from torch import nn\n",
    "from torchvision import datasets\n",
    "from torchvision.transforms import ToTensor\n",
    "from torch.utils.data import DataLoader\n",
    "\n",
    "from datetime import datetime\n",
    "import numpy as np\n",
    "import time\n",
    "from fxpmath import Fxp\n",
    "import os\n",
    "import json"
   ]
  },
  {
   "cell_type": "code",
   "execution_count": 2,
   "id": "acbd0c5f-c961-4c40-833e-5e212de039e4",
   "metadata": {},
   "outputs": [
    {
     "name": "stdout",
     "output_type": "stream",
     "text": [
      "Using cpu device\n",
      "Shape of X [N, C, H, W]: torch.Size([1, 1, 28, 28])\n",
      "Shape of y: torch.Size([1]) torch.int64\n"
     ]
    }
   ],
   "source": [
    "INPUT_SIZE=784\n",
    "DEBUG_MODE = True\n",
    "NETWORK_PARAMETERS = [10,10]\n",
    "\n",
    "device = (\n",
    "    \"cuda\"\n",
    "    if torch.cuda.is_available()\n",
    "    else \"mps\"\n",
    "    if torch.backends.mps.is_available()\n",
    "    else \"cpu\"\n",
    ")\n",
    "print(f\"Using {device} device\")\n",
    "\n",
    "training_data = datasets.MNIST(\n",
    "    root=\"data\",\n",
    "    train=True,\n",
    "    download=True,\n",
    "    transform=ToTensor()\n",
    ")\n",
    "test_data = datasets.MNIST(\n",
    "    root=\"data\",\n",
    "    train=False,\n",
    "    download=True,\n",
    "    transform=ToTensor()\n",
    ")\n",
    "batch_size = 1\n",
    "epochs = 20\n",
    "\n",
    "# Create data loaders.\n",
    "train_dataloader = DataLoader(training_data, batch_size=batch_size)\n",
    "test_dataloader = DataLoader(test_data, batch_size=batch_size)\n",
    "\n",
    "for X, y in test_dataloader:\n",
    "    print(f\"Shape of X [N, C, H, W]: {X.shape}\")\n",
    "    print(f\"Shape of y: {y.shape} {y.dtype}\")\n",
    "    break"
   ]
  },
  {
   "cell_type": "code",
   "execution_count": 3,
   "id": "7e07b72f-9153-41d1-aeb1-c75fc1351e3a",
   "metadata": {},
   "outputs": [
    {
     "name": "stdout",
     "output_type": "stream",
     "text": [
      "NeuralNetwork(\n",
      "  (flatten): Flatten(start_dim=1, end_dim=-1)\n",
      "  (linear_relu_stack): Sequential(\n",
      "    (0): Linear(in_features=784, out_features=10, bias=True)\n",
      "    (1): ReLU()\n",
      "    (2): Linear(in_features=10, out_features=10, bias=True)\n",
      "  )\n",
      ")\n"
     ]
    }
   ],
   "source": [
    "# Define model\n",
    "class NeuralNetwork(nn.Module):\n",
    "    def __init__(self):\n",
    "        super().__init__()\n",
    "        self.flatten = nn.Flatten()\n",
    "        network_parameters = [INPUT_SIZE, *NETWORK_PARAMETERS]\n",
    "        layers = []\n",
    "        \n",
    "        for i in range(len(network_parameters)-1):\n",
    "            layers.append(nn.Linear(network_parameters[i], network_parameters[i+1]))\n",
    "            layers.append(nn.ReLU())\n",
    "        layers.pop()\n",
    "        \n",
    "        self.linear_relu_stack = nn.Sequential(*layers)\n",
    "        self.linear_relu_stack = nn.Sequential(\n",
    "            nn.Linear(28*28, 10),\n",
    "            nn.ReLU(),\n",
    "            nn.Linear(10, 10)\n",
    "            # nn.ReLU(),\n",
    "            # nn.Linear(LAYER_TWO_SIZE, LAYER_THREE_SIZE)\n",
    "        )\n",
    "\n",
    "    def forward(self, x):\n",
    "        x = self.flatten(x)\n",
    "        logits = self.linear_relu_stack(x)\n",
    "        return logits\n",
    "\n",
    "def train(dataloader, model, loss_fn, optimizer):\n",
    "    size = len(dataloader.dataset)\n",
    "    num_batches = len(dataloader)\n",
    "    train_loss, error = 0, 0\n",
    "    \n",
    "    model.train()\n",
    "    \n",
    "    for batch, (X, y) in enumerate(dataloader):\n",
    "        X, y = X.to(device), y.to(device)\n",
    "\n",
    "        # Compute prediction error\n",
    "        pred = model(X)\n",
    "        loss = loss_fn(pred, y)   \n",
    "        \n",
    "        train_loss += loss.item()                                            # cumulative loss\n",
    "        error += (pred.argmax(1) != y).type(torch.float).sum().item()        # error rate\n",
    "        \n",
    "        # Backpropagation\n",
    "        loss.backward()\n",
    "        optimizer.step()\n",
    "        optimizer.zero_grad()\n",
    "\n",
    "        if DEBUG_MODE:\n",
    "            if batch % 6000 == 0:\n",
    "                loss, current = loss, (batch) * len(X)\n",
    "                print(f\"loss: {loss:>7f}  [{current:>5d}/{size:>5d}]\")\n",
    "                \n",
    "    train_loss /= num_batches\n",
    "    error /= size\n",
    "        \n",
    "    return (train_loss, error)\n",
    "\n",
    "def test(dataloader, model, loss_fn):\n",
    "    size = len(dataloader.dataset)\n",
    "    num_batches = len(dataloader)\n",
    "    \n",
    "    model.eval()\n",
    "    loss, error = 0, 0\n",
    "    \n",
    "    with torch.no_grad():\n",
    "        for X, y in dataloader:\n",
    "            X, y = X.to(device), y.to(device)\n",
    "            pred = model(X)\n",
    "            loss += loss_fn(pred, y).item()\n",
    "            error += (pred.argmax(1) != y).type(torch.float).sum().item()\n",
    "            \n",
    "    loss /= num_batches\n",
    "    error /= size\n",
    "    \n",
    "    if DEBUG_MODE:\n",
    "        print(f\"Test Error: \\n Error: {(100*error):>0.1f}%, Avg loss: {loss:>8f} \\n\")\n",
    "    \n",
    "    return (loss , error)\n",
    "\n",
    "# model = NeuralNetwork().to(device)\n",
    "# print(model)\n",
    "# loss_fn = nn.CrossEntropyLoss()\n",
    "# optimizer = torch.optim.SGD(model.parameters(), lr=1e-3)"
   ]
  },
  {
   "cell_type": "markdown",
   "id": "1cb79adb-1d84-4ddd-a58d-1a541f3b871f",
   "metadata": {},
   "source": [
    "Given $n$ (num) and target value $t$, find integer exponent $e$ that minimizes:\n",
    "\n",
    "$|t - n \\cdot 2^e|$\n",
    "\n",
    "where $e$ is chosen from $\\{\\lfloor \\log_2(\\frac{t}{n}) \\rfloor, \\lceil \\log_2(\\frac{t}{n}) \\rceil\\}$ \n",
    "to minimize $|t - n \\cdot 2^e|$\r\n",
    "t}} \\).\r\n"
   ]
  },
  {
   "cell_type": "code",
   "execution_count": 4,
   "id": "92dc3b83-d69f-44ca-8f02-1a394b268750",
   "metadata": {},
   "outputs": [],
   "source": [
    "# We will need this later\n",
    "def find_best_exp(num, target=1):\n",
    "    \"\"\"\n",
    "    Finds the best integer exponent 'exp' such that num * (2 ** exp) \n",
    "    is closest to the target value.\n",
    "    \"\"\"\n",
    "    exp_exact = torch.log2(torch.tensor(target / num))\n",
    "    calc_error = lambda e: abs(target - num * (2 ** e))\n",
    "    \n",
    "    exp_floor, exp_ceil = int(torch.floor(exp_exact).item()), int(torch.ceil(exp_exact).item())\n",
    "    best_exp = exp_floor if calc_error(exp_floor) <= calc_error(exp_ceil) else exp_ceil\n",
    "    \n",
    "    return best_exp"
   ]
  },
  {
   "cell_type": "code",
   "execution_count": 209,
   "id": "58c588af-1411-4677-939c-692efb04e11b",
   "metadata": {},
   "outputs": [],
   "source": [
    "# This is where I will generalize the definitions that I created\n",
    "def q_test(dataloader, model, loss_fn, Qparam, QX, Qa):\n",
    "    size = len(dataloader.dataset)\n",
    "    num_batches = len(dataloader)\n",
    "    \n",
    "    model.eval()\n",
    "    loss, error = 0, 0\n",
    "    params = gen_q_params(model, Qparam)\n",
    "    \n",
    "    with torch.no_grad():\n",
    "        for X, y in dataloader:\n",
    "            X, y = X.to(device), y.to(device)\n",
    "            X_q = torch.tensor(QX(X.detach().numpy())()).float()\n",
    "            pred = q_forward(params, X_q, Qa).unsqueeze(1).T\n",
    "            # pred = model(X_q)\n",
    "            loss += loss_fn(pred, y).item()\n",
    "            error += (pred.argmax(1) != y).type(torch.float).sum().item()\n",
    "            \n",
    "    loss /= num_batches\n",
    "    error /= size\n",
    "    \n",
    "    if DEBUG_MODE:\n",
    "        print(f\"Test Error: \\n Error: {(100*error):>0.1f}%, Avg loss: {loss:>8f} \\n\")\n",
    "    \n",
    "    return (loss , error)\n"
   ]
  },
  {
   "cell_type": "code",
   "execution_count": 205,
   "id": "bda4520d-3d88-48cd-8d15-630dad948307",
   "metadata": {},
   "outputs": [
    {
     "data": {
      "text/plain": [
       "<All keys matched successfully>"
      ]
     },
     "execution_count": 205,
     "metadata": {},
     "output_type": "execute_result"
    }
   ],
   "source": [
    "# load models based off of original model\n",
    "model32, model16, model8, model4, base_model = (\n",
    "    NeuralNetwork().to(device), NeuralNetwork().to(device), \n",
    "    NeuralNetwork().to(device), NeuralNetwork().to(device), \n",
    "    NeuralNetwork().to(device))\n",
    "\n",
    "model32.load_state_dict(torch.load('model.pth'))\n",
    "model16.load_state_dict(torch.load('model.pth'))\n",
    "model8.load_state_dict(torch.load('model.pth'))\n",
    "model4.load_state_dict(torch.load('model.pth'))\n",
    "base_model.load_state_dict(torch.load('model.pth'))\n"
   ]
  },
  {
   "cell_type": "code",
   "execution_count": 80,
   "id": "a6bbe35a-c37a-4b5a-8a08-81ab4c140731",
   "metadata": {
    "scrolled": true
   },
   "outputs": [
    {
     "name": "stdout",
     "output_type": "stream",
     "text": [
      "[-7.25, -4.0, -2.0, -1.0, array([[[[0.    , 0.    , 0.    , 0.    , 0.    , 0.    , 0.    ,\n",
      "          0.    , 0.    , 0.    , 0.    , 0.    , 0.    , 0.    ,\n",
      "          0.    , 0.    , 0.    , 0.    , 0.    , 0.    , 0.    ,\n",
      "          0.    , 0.    , 0.    , 0.    , 0.    , 0.    , 0.    ],\n",
      "         [0.    , 0.    , 0.    , 0.    , 0.    , 0.    , 0.    ,\n",
      "          0.    , 0.    , 0.    , 0.    , 0.    , 0.    , 0.    ,\n",
      "          0.    , 0.    , 0.    , 0.    , 0.    , 0.    , 0.    ,\n",
      "          0.    , 0.    , 0.    , 0.    , 0.    , 0.    , 0.    ],\n",
      "         [0.    , 0.    , 0.    , 0.    , 0.    , 0.    , 0.    ,\n",
      "          0.    , 0.    , 0.    , 0.    , 0.    , 0.    , 0.    ,\n",
      "          0.    , 0.    , 0.    , 0.    , 0.    , 0.    , 0.    ,\n",
      "          0.    , 0.    , 0.    , 0.    , 0.    , 0.    , 0.    ],\n",
      "         [0.    , 0.    , 0.    , 0.    , 0.    , 0.    , 0.    ,\n",
      "          0.    , 0.    , 0.    , 0.    , 0.    , 0.    , 0.    ,\n",
      "          0.    , 0.    , 0.    , 0.    , 0.    , 0.    , 0.    ,\n",
      "          0.    , 0.    , 0.    , 0.    , 0.    , 0.    , 0.    ],\n",
      "         [0.    , 0.    , 0.    , 0.    , 0.    , 0.    , 0.    ,\n",
      "          0.    , 0.    , 0.    , 0.    , 0.    , 0.    , 0.    ,\n",
      "          0.    , 0.    , 0.    , 0.    , 0.    , 0.    , 0.    ,\n",
      "          0.    , 0.    , 0.    , 0.    , 0.    , 0.    , 0.    ],\n",
      "         [0.    , 0.    , 0.    , 0.    , 0.    , 0.    , 0.    ,\n",
      "          0.    , 0.    , 0.    , 0.    , 0.    , 0.    , 0.    ,\n",
      "          0.    , 0.    , 0.    , 0.    , 0.    , 0.    , 0.    ,\n",
      "          0.    , 0.    , 0.    , 0.    , 0.    , 0.    , 0.    ],\n",
      "         [0.    , 0.    , 0.    , 0.    , 0.    , 0.    , 0.    ,\n",
      "          0.    , 0.    , 0.    , 0.    , 0.    , 0.    , 0.    ,\n",
      "          0.    , 0.    , 0.    , 0.    , 0.    , 0.    , 0.    ,\n",
      "          0.    , 0.    , 0.    , 0.    , 0.    , 0.    , 0.    ],\n",
      "         [0.    , 0.    , 0.    , 0.    , 0.    , 0.    , 0.3125,\n",
      "          0.75  , 0.625 , 0.5625, 0.25  , 0.125 , 0.    , 0.    ,\n",
      "          0.    , 0.    , 0.    , 0.    , 0.    , 0.    , 0.    ,\n",
      "          0.    , 0.    , 0.    , 0.    , 0.    , 0.    , 0.    ],\n",
      "         [0.    , 0.    , 0.    , 0.    , 0.    , 0.    , 0.875 ,\n",
      "          0.9375, 0.9375, 0.9375, 0.9375, 0.9375, 0.75  , 0.75  ,\n",
      "          0.75  , 0.75  , 0.75  , 0.75  , 0.75  , 0.75  , 0.6875,\n",
      "          0.1875, 0.    , 0.    , 0.    , 0.    , 0.    , 0.    ],\n",
      "         [0.    , 0.    , 0.    , 0.    , 0.    , 0.    , 0.25  ,\n",
      "          0.4375, 0.3125, 0.4375, 0.625 , 0.875 , 0.9375, 0.875 ,\n",
      "          0.9375, 0.9375, 0.9375, 0.9375, 0.875 , 0.9375, 0.9375,\n",
      "          0.5625, 0.    , 0.    , 0.    , 0.    , 0.    , 0.    ],\n",
      "         [0.    , 0.    , 0.    , 0.    , 0.    , 0.    , 0.    ,\n",
      "          0.    , 0.    , 0.    , 0.    , 0.0625, 0.25  , 0.0625,\n",
      "          0.25  , 0.25  , 0.25  , 0.25  , 0.0625, 0.9375, 0.9375,\n",
      "          0.4375, 0.    , 0.    , 0.    , 0.    , 0.    , 0.    ],\n",
      "         [0.    , 0.    , 0.    , 0.    , 0.    , 0.    , 0.    ,\n",
      "          0.    , 0.    , 0.    , 0.    , 0.    , 0.    , 0.    ,\n",
      "          0.    , 0.    , 0.    , 0.    , 0.3125, 0.9375, 0.8125,\n",
      "          0.0625, 0.    , 0.    , 0.    , 0.    , 0.    , 0.    ],\n",
      "         [0.    , 0.    , 0.    , 0.    , 0.    , 0.    , 0.    ,\n",
      "          0.    , 0.    , 0.    , 0.    , 0.    , 0.    , 0.    ,\n",
      "          0.    , 0.    , 0.    , 0.0625, 0.9375, 0.9375, 0.3125,\n",
      "          0.    , 0.    , 0.    , 0.    , 0.    , 0.    , 0.    ],\n",
      "         [0.    , 0.    , 0.    , 0.    , 0.    , 0.    , 0.    ,\n",
      "          0.    , 0.    , 0.    , 0.    , 0.    , 0.    , 0.    ,\n",
      "          0.    , 0.    , 0.    , 0.5   , 0.9375, 0.9375, 0.1875,\n",
      "          0.    , 0.    , 0.    , 0.    , 0.    , 0.    , 0.    ],\n",
      "         [0.    , 0.    , 0.    , 0.    , 0.    , 0.    , 0.    ,\n",
      "          0.    , 0.    , 0.    , 0.    , 0.    , 0.    , 0.    ,\n",
      "          0.    , 0.    , 0.25  , 0.9375, 0.9375, 0.25  , 0.    ,\n",
      "          0.    , 0.    , 0.    , 0.    , 0.    , 0.    , 0.    ],\n",
      "         [0.    , 0.    , 0.    , 0.    , 0.    , 0.    , 0.    ,\n",
      "          0.    , 0.    , 0.    , 0.    , 0.    , 0.    , 0.    ,\n",
      "          0.    , 0.    , 0.5   , 0.9375, 0.75  , 0.    , 0.    ,\n",
      "          0.    , 0.    , 0.    , 0.    , 0.    , 0.    , 0.    ],\n",
      "         [0.    , 0.    , 0.    , 0.    , 0.    , 0.    , 0.    ,\n",
      "          0.    , 0.    , 0.    , 0.    , 0.    , 0.    , 0.    ,\n",
      "          0.    , 0.0625, 0.8125, 0.9375, 0.25  , 0.    , 0.    ,\n",
      "          0.    , 0.    , 0.    , 0.    , 0.    , 0.    , 0.    ],\n",
      "         [0.    , 0.    , 0.    , 0.    , 0.    , 0.    , 0.    ,\n",
      "          0.    , 0.    , 0.    , 0.    , 0.    , 0.    , 0.    ,\n",
      "          0.    , 0.5   , 0.9375, 0.6875, 0.    , 0.    , 0.    ,\n",
      "          0.    , 0.    , 0.    , 0.    , 0.    , 0.    , 0.    ],\n",
      "         [0.    , 0.    , 0.    , 0.    , 0.    , 0.    , 0.    ,\n",
      "          0.    , 0.    , 0.    , 0.    , 0.    , 0.    , 0.    ,\n",
      "          0.3125, 0.9375, 0.9375, 0.25  , 0.    , 0.    , 0.    ,\n",
      "          0.    , 0.    , 0.    , 0.    , 0.    , 0.    , 0.    ],\n",
      "         [0.    , 0.    , 0.    , 0.    , 0.    , 0.    , 0.    ,\n",
      "          0.    , 0.    , 0.    , 0.    , 0.    , 0.    , 0.0625,\n",
      "          0.875 , 0.9375, 0.625 , 0.    , 0.    , 0.    , 0.    ,\n",
      "          0.    , 0.    , 0.    , 0.    , 0.    , 0.    , 0.    ],\n",
      "         [0.    , 0.    , 0.    , 0.    , 0.    , 0.    , 0.    ,\n",
      "          0.    , 0.    , 0.    , 0.    , 0.    , 0.    , 0.8125,\n",
      "          0.9375, 0.875 , 0.125 , 0.    , 0.    , 0.    , 0.    ,\n",
      "          0.    , 0.    , 0.    , 0.    , 0.    , 0.    , 0.    ],\n",
      "         [0.    , 0.    , 0.    , 0.    , 0.    , 0.    , 0.    ,\n",
      "          0.    , 0.    , 0.    , 0.    , 0.    , 0.125 , 0.9375,\n",
      "          0.9375, 0.3125, 0.    , 0.    , 0.    , 0.    , 0.    ,\n",
      "          0.    , 0.    , 0.    , 0.    , 0.    , 0.    , 0.    ],\n",
      "         [0.    , 0.    , 0.    , 0.    , 0.    , 0.    , 0.    ,\n",
      "          0.    , 0.    , 0.    , 0.    , 0.125 , 0.875 , 0.9375,\n",
      "          0.4375, 0.    , 0.    , 0.    , 0.    , 0.    , 0.    ,\n",
      "          0.    , 0.    , 0.    , 0.    , 0.    , 0.    , 0.    ],\n",
      "         [0.    , 0.    , 0.    , 0.    , 0.    , 0.    , 0.    ,\n",
      "          0.    , 0.    , 0.    , 0.    , 0.5   , 0.9375, 0.9375,\n",
      "          0.1875, 0.    , 0.    , 0.    , 0.    , 0.    , 0.    ,\n",
      "          0.    , 0.    , 0.    , 0.    , 0.    , 0.    , 0.    ],\n",
      "         [0.    , 0.    , 0.    , 0.    , 0.    , 0.    , 0.    ,\n",
      "          0.    , 0.    , 0.    , 0.25  , 0.9375, 0.9375, 0.9375,\n",
      "          0.1875, 0.    , 0.    , 0.    , 0.    , 0.    , 0.    ,\n",
      "          0.    , 0.    , 0.    , 0.    , 0.    , 0.    , 0.    ],\n",
      "         [0.    , 0.    , 0.    , 0.    , 0.    , 0.    , 0.    ,\n",
      "          0.    , 0.    , 0.    , 0.5   , 0.9375, 0.9375, 0.875 ,\n",
      "          0.1875, 0.    , 0.    , 0.    , 0.    , 0.    , 0.    ,\n",
      "          0.    , 0.    , 0.    , 0.    , 0.    , 0.    , 0.    ],\n",
      "         [0.    , 0.    , 0.    , 0.    , 0.    , 0.    , 0.    ,\n",
      "          0.    , 0.    , 0.    , 0.5   , 0.9375, 0.8125, 0.0625,\n",
      "          0.    , 0.    , 0.    , 0.    , 0.    , 0.    , 0.    ,\n",
      "          0.    , 0.    , 0.    , 0.    , 0.    , 0.    , 0.    ],\n",
      "         [0.    , 0.    , 0.    , 0.    , 0.    , 0.    , 0.    ,\n",
      "          0.    , 0.    , 0.    , 0.    , 0.    , 0.    , 0.    ,\n",
      "          0.    , 0.    , 0.    , 0.    , 0.    , 0.    , 0.    ,\n",
      "          0.    , 0.    , 0.    , 0.    , 0.    , 0.    , 0.    ]]]])]\n"
     ]
    }
   ],
   "source": [
    "x32 = Fxp(-7.25, dtype='S5.27', rounding = 'around')\n",
    "x16 = Fxp(-7.25, dtype='S3.13', rounding = 'around')\n",
    "x8 = Fxp(-7.25, dtype='S2.6', rounding = 'around')\n",
    "x4 = Fxp(-7.25, dtype='S1.3', rounding = 'around')\n",
    "Xx4 = Fxp(-7.25, dtype='U0.4', rounding = 'around')\n",
    "ax4 = Fxp(-7.25, dtype='U4.0', rounding = 'around')\n",
    "print([k.get_val() for k in [x32,x16,x8,x4,ux4]])"
   ]
  },
  {
   "cell_type": "markdown",
   "id": "bda846b1-1d69-4af6-94f6-40ad58d733ef",
   "metadata": {},
   "source": [
    "### Let's start with a symmetric quantization scheme!\n"
   ]
  },
  {
   "cell_type": "markdown",
   "id": "a7480d80-b92d-4c70-8d03-5ea0a40bec1f",
   "metadata": {},
   "source": [
    "$$x_q \\in [\\alpha_q, \\beta_q]$$\n",
    "$$x \\in [\\alpha, \\beta]$$\n"
   ]
  },
  {
   "cell_type": "markdown",
   "id": "36a57901-4863-4bf0-a00c-c22006552f7c",
   "metadata": {},
   "source": [
    "#### Generate optimal ranges\n"
   ]
  },
  {
   "cell_type": "code",
   "execution_count": 639,
   "id": "d0f625c8-6340-4d65-b3a9-7f164034a642",
   "metadata": {},
   "outputs": [
    {
     "name": "stdout",
     "output_type": "stream",
     "text": [
      "Success\n"
     ]
    }
   ],
   "source": [
    "def change_model(model, scale=True):\n",
    "    w1_q = model.linear_relu_stack[0].weight.data\n",
    "    b1_q = model.linear_relu_stack[0].bias.data\n",
    "    w2_q = model.linear_relu_stack[2].weight.data\n",
    "    b2_q = model.linear_relu_stack[2].bias.data\n",
    "    w1_s, b1_s, w2_s, b2_s = 1,1,1,1\n",
    "\n",
    "    scale= False\n",
    "    if scale:\n",
    "    \n",
    "        w1_alpha, w1_beta = torch.tensor([ k.min() for k in w1.data]).mean(), torch.tensor([k.max() for k in w1.data]).mean()\n",
    "        b1_alpha, b1_beta = b1.data.min(), b1.data.max()\n",
    "        w2_alpha, w2_beta = torch.tensor([ k.min() for k in w2.data]).mean(), torch.tensor([k.max() for k in w2.data]).mean()\n",
    "        b2_alpha, b2_beta = b2.data.min(), b2.data.max()\n",
    "        \n",
    "        w1_beta = (w1_alpha.abs() + w1_beta)/2\n",
    "        b1_beta = (b1_alpha.abs() + b1_beta)/2\n",
    "        w2_beta = (w2_alpha.abs() + w2_beta)/2\n",
    "        b2_beta = (b2_alpha.abs() + b2_beta)/2\n",
    "    \n",
    "        w1_s = 2**find_best_exp(w1_beta.item())\n",
    "        \n",
    "        b1_s = 2**find_best_exp(b1_beta.item())\n",
    "        \n",
    "        w2_s = 2**find_best_exp(w2_beta.item())\n",
    "        \n",
    "        b2_s = 2**find_best_exp(b2_beta.item())\n",
    "\n",
    "    b2_q = torch.tensor(x4(b2_q.detach().numpy()* b2_s)()).float()\n",
    "    w2_q = torch.tensor(x4(w2_q.detach().numpy()* w2_s)()).float()\n",
    "    b1_q = torch.tensor(x4(b1_q.detach().numpy()* b1_s)()).float()\n",
    "    w1_q = torch.tensor(x4(w1_q.detach().numpy()* w1_s)()).float()\n",
    "    \n",
    "    model.linear_relu_stack[0].weight.data = w1_q\n",
    "    model.linear_relu_stack[0].bias.data = b1_q\n",
    "    model.linear_relu_stack[2].weight.data = w2_q\n",
    "    model.linear_relu_stack[2].bias.data = b2_q\n",
    "\n",
    "    if DEBUG_MODE:\n",
    "        if (x == model.linear_relu_stack[2].weight.data).all():\n",
    "            print(\"fail\")\n",
    "        else:\n",
    "            print(\"Success\")\n",
    "        \n",
    "model4.load_state_dict(torch.load('model.pth'))\n",
    "change_model(model4)"
   ]
  },
  {
   "cell_type": "code",
   "execution_count": 640,
   "id": "3855ff9f-a405-4d67-b575-09d85f318ace",
   "metadata": {},
   "outputs": [
    {
     "name": "stdout",
     "output_type": "stream",
     "text": [
      "Test Error: \n",
      " Error: 10.3%, Avg loss: 0.361856 \n",
      "\n"
     ]
    },
    {
     "data": {
      "text/plain": [
       "(0.36185630083076165, 0.1032)"
      ]
     },
     "execution_count": 640,
     "metadata": {},
     "output_type": "execute_result"
    }
   ],
   "source": [
    "test(test_dataloader, model4, loss_fn)"
   ]
  },
  {
   "cell_type": "code",
   "execution_count": 638,
   "id": "0e9276ae-7ade-4160-87b3-0d464284e871",
   "metadata": {},
   "outputs": [
    {
     "name": "stdout",
     "output_type": "stream",
     "text": [
      "Test Error: \n",
      " Error: 12.9%, Avg loss: 0.960729 \n",
      "\n"
     ]
    },
    {
     "data": {
      "text/plain": [
       "(0.9607293259874564, 0.1294)"
      ]
     },
     "execution_count": 638,
     "metadata": {},
     "output_type": "execute_result"
    }
   ],
   "source": [
    "test(test_dataloader, model4, loss_fn)"
   ]
  },
  {
   "cell_type": "code",
   "execution_count": 636,
   "id": "f70389c1-8b94-4509-b58d-ad37a3aaaa75",
   "metadata": {},
   "outputs": [
    {
     "name": "stdout",
     "output_type": "stream",
     "text": [
      "Test Error: \n",
      " Error: 8.4%, Avg loss: 0.282973 \n",
      "\n"
     ]
    },
    {
     "data": {
      "text/plain": [
       "(0.2829725811945789, 0.0839)"
      ]
     },
     "execution_count": 636,
     "metadata": {},
     "output_type": "execute_result"
    }
   ],
   "source": [
    "test(test_dataloader, base_model, loss_fn)"
   ]
  },
  {
   "cell_type": "code",
   "execution_count": 581,
   "id": "f80230d2-a387-4a69-91c2-90e4e6adf958",
   "metadata": {},
   "outputs": [
    {
     "data": {
      "text/plain": [
       "tensor([[  0.3707,  -7.2098,   3.1823,   5.5706,  -5.9576,   0.3325, -10.4972,\n",
       "          10.6533,  -0.5239,   1.8787]], grad_fn=<AddmmBackward0>)"
      ]
     },
     "execution_count": 581,
     "metadata": {},
     "output_type": "execute_result"
    }
   ],
   "source": [
    "model4.forward(X)"
   ]
  },
  {
   "cell_type": "markdown",
   "id": "306e8eeb-2cbb-4ceb-98e3-df72b471859d",
   "metadata": {},
   "source": [
    "###### Do same tests now but full quantization?"
   ]
  },
  {
   "cell_type": "code",
   "execution_count": 279,
   "id": "3ae69643-fcbb-4f95-85f3-8b5b3ce7cf8a",
   "metadata": {},
   "outputs": [],
   "source": [
    "# This is where I will generalize the definitions that I created\n",
    "def q_forward(params, X_q, Qa):\n",
    "    w1_q, b1_q, w2_q, b2_q = params[0]\n",
    "    w1_s, b1_s, w2_s, b2_s = params[1]\n",
    "    \n",
    "    z1_q = torch.matmul(w1_q, X_q.flatten())/w1_s + b1_q/b1_s\n",
    "    a1_q = torch.tensor(Qa(nn.functional.relu(z1_q).detach().numpy())()).float()\n",
    "    q_logits = torch.matmul(w2_q, a1_q)/w2_s + b2_q/b2_s\n",
    "    \n",
    "    return q_logits\n",
    "def gen_q_params(model, quant):\n",
    "    w1_q = model.linear_relu_stack[0].weight.data\n",
    "    b1_q = model.linear_relu_stack[0].bias.data\n",
    "    w2_q = model.linear_relu_stack[2].weight.data\n",
    "    b2_q = model.linear_relu_stack[2].bias.data\n",
    "    w1_s, b1_s, w2_s, b2_s = 1,1,1,1\n",
    "    \n",
    "    w1_alpha, w1_beta = torch.tensor([ k.min() for k in w1_q.data]).mean(), torch.tensor([k.max() for k in w1_q.data]).mean()\n",
    "    b1_alpha, b1_beta = b1_q.data.min(), b1_q.data.max()\n",
    "    w2_alpha, w2_beta = torch.tensor([ k.min() for k in w2_q.data]).mean(), torch.tensor([k.max() for k in w2_q.data]).mean()\n",
    "    b2_alpha, b2_beta = b2_q.data.min(), b2_q.data.max()\n",
    "    \n",
    "    w1_beta = (w1_alpha.abs() + w1_beta)/2\n",
    "    b1_beta = (b1_alpha.abs() + b1_beta)/2\n",
    "    w2_beta = (w2_alpha.abs() + w2_beta)/2\n",
    "    b2_beta = (b2_alpha.abs() + b2_beta)/2\n",
    "\n",
    "    w1_s = 2**find_best_exp(w1_beta.item())    \n",
    "    b1_s = 2**find_best_exp(b1_beta.item())    \n",
    "    w2_s = 2**find_best_exp(w2_beta.item())    \n",
    "    b2_s = 2**find_best_exp(b2_beta.item())\n",
    "\n",
    "    # quantized values here\n",
    "    b2_q = torch.tensor(quant(b2_q.detach().numpy()* b2_s)()).float()\n",
    "    w2_q = torch.tensor(quant(w2_q.detach().numpy()* w2_s)()).float()\n",
    "    b1_q = torch.tensor(quant(b1_q.detach().numpy()* b1_s)()).float()\n",
    "    w1_q = torch.tensor(quant(w1_q.detach().numpy()* w1_s)()).float()\n",
    "\n",
    "    return (w1_q, b1_q, w2_q, b2_q), (w1_s, b1_s, w2_s, b2_s)\n",
    "\n",
    "def gen_q_params(model, quant):\n",
    "    w1_q = model.linear_relu_stack[0].weight.data\n",
    "    b1_q = model.linear_relu_stack[0].bias.data\n",
    "    w2_q = model.linear_relu_stack[2].weight.data\n",
    "    b2_q = model.linear_relu_stack[2].bias.data\n",
    "    w1_s, b1_s, w2_s, b2_s = 1,1,1,1\n",
    "    \n",
    "    w1_alpha, w1_beta = torch.tensor([ k.min() for k in w1_q.data]).mean(), torch.tensor([k.max() for k in w1_q.data]).mean()\n",
    "    b1_alpha, b1_beta = b1_q.data.min(), b1_q.data.max()\n",
    "    w2_alpha, w2_beta = torch.tensor([ k.min() for k in w2_q.data]).mean(), torch.tensor([k.max() for k in w2_q.data]).mean()\n",
    "    b2_alpha, b2_beta = b2_q.data.min(), b2_q.data.max()\n",
    "    \n",
    "    w1_beta = (w1_alpha.abs() + w1_beta)/2\n",
    "    b1_beta = (b1_alpha.abs() + b1_beta)/2\n",
    "    w2_beta = (w2_alpha.abs() + w2_beta)/2\n",
    "    b2_beta = (b2_alpha.abs() + b2_beta)/2\n",
    "\n",
    "    w1_s = 2**find_best_exp(w1_beta.item())    \n",
    "    b1_s = 2**find_best_exp(b1_beta.item())    \n",
    "    w2_s = 2**find_best_exp(w2_beta.item())    \n",
    "    b2_s = 2**find_best_exp(b2_beta.item())\n",
    "\n",
    "    # quantized values here\n",
    "    b2_q = torch.tensor(quant(b2_q.detach().numpy()* b2_s)()).float()\n",
    "    w2_q = torch.tensor(quant(w2_q.detach().numpy()* w2_s)()).float()\n",
    "    b1_q = torch.tensor(quant(b1_q.detach().numpy()* b1_s)()).float()\n",
    "    w1_q = torch.tensor(quant(w1_q.detach().numpy()* w1_s)()).float()\n",
    "    w1_s, b1_s, w2_s, b2_s = 2,1,1,1\n",
    "\n",
    "    return (w1_q, b1_q, w2_q, b2_q), (w1_s, b1_s, w2_s, b2_s)\n",
    "    \n",
    "def q_test(dataloader, model, loss_fn, Qparam, QX, Qa):\n",
    "    size = len(dataloader.dataset)\n",
    "    num_batches = len(dataloader)\n",
    "    \n",
    "    model.eval()\n",
    "    loss, error = 0, 0\n",
    "    params = gen_q_params(model, Qparam)\n",
    "    \n",
    "    with torch.no_grad():\n",
    "        for X, y in dataloader:\n",
    "            X, y = X.to(device), y.to(device)\n",
    "            X_q = torch.tensor(QX(X.detach().numpy())()).float()\n",
    "            pred = q_forward(params, X_q, Qa).unsqueeze(1).T\n",
    "            # pred = model(X_q)\n",
    "            loss += loss_fn(pred, y).item()\n",
    "            error += (pred.argmax(1) != y).type(torch.float).sum().item()\n",
    "            \n",
    "    loss /= num_batches\n",
    "    error /= size\n",
    "    \n",
    "    if DEBUG_MODE:\n",
    "        print(f\"Test Error: \\n Error: {(100*error):>0.1f}%, Avg loss: {loss:>8f} \\n\")\n",
    "    \n",
    "    return (loss , error)\n"
   ]
  },
  {
   "cell_type": "code",
   "execution_count": 187,
   "id": "00132b71-90fb-4108-be7b-93a5839c862d",
   "metadata": {},
   "outputs": [
    {
     "data": {
      "text/plain": [
       "torch.Size([1, 10])"
      ]
     },
     "execution_count": 187,
     "metadata": {},
     "output_type": "execute_result"
    }
   ],
   "source": [
    "model(X_q).shape"
   ]
  },
  {
   "cell_type": "code",
   "execution_count": 192,
   "id": "c24dc16b-ae24-47a6-b43b-c6fa6e7b053f",
   "metadata": {},
   "outputs": [
    {
     "data": {
      "text/plain": [
       "torch.Size([1, 10])"
      ]
     },
     "execution_count": 192,
     "metadata": {},
     "output_type": "execute_result"
    }
   ],
   "source": [
    "q_forward(params, X_q, ax4).unsqueeze(1).T.shape"
   ]
  },
  {
   "cell_type": "code",
   "execution_count": 195,
   "id": "def205c4-6e1d-4e0e-bf7b-89f059acd811",
   "metadata": {},
   "outputs": [
    {
     "name": "stdout",
     "output_type": "stream",
     "text": [
      "Test Error: \n",
      " Error: 8.4%, Avg loss: 0.282973 \n",
      "\n"
     ]
    },
    {
     "data": {
      "text/plain": [
       "(0.2829725811945789, 0.0839)"
      ]
     },
     "execution_count": 195,
     "metadata": {},
     "output_type": "execute_result"
    }
   ],
   "source": [
    "# control fixed point\n",
    "test(test_dataloader, base_model, loss_fn)"
   ]
  },
  {
   "cell_type": "code",
   "execution_count": 216,
   "id": "bd4a2dce-0fc5-4262-971a-a28b550a4601",
   "metadata": {},
   "outputs": [
    {
     "name": "stdout",
     "output_type": "stream",
     "text": [
      "Test Error: \n",
      " Error: 8.4%, Avg loss: 0.283006 \n",
      "\n"
     ]
    },
    {
     "data": {
      "text/plain": [
       "(0.2830058451536535, 0.0837)"
      ]
     },
     "execution_count": 216,
     "metadata": {},
     "output_type": "execute_result"
    }
   ],
   "source": [
    "# 8-bit quantized with scaling\n",
    "\n",
    "Qparam = Fxp(-7.25, dtype='S2.6', rounding = 'around')\n",
    "QX = Fxp(-7.25, dtype='U0.8', rounding = 'around')\n",
    "Qa = Fxp(-7.25, dtype='U4.4', rounding = 'around')\n",
    "\n",
    "q_test(test_dataloader, base_model, loss_fn, Qparam, QX, Qa)"
   ]
  },
  {
   "cell_type": "code",
   "execution_count": 212,
   "id": "83c95f8d-0fae-4314-ab95-8c6187848c63",
   "metadata": {},
   "outputs": [
    {
     "name": "stdout",
     "output_type": "stream",
     "text": [
      "Test Error: \n",
      " Error: 9.7%, Avg loss: 0.345062 \n",
      "\n"
     ]
    },
    {
     "data": {
      "text/plain": [
       "(0.3450623129128619, 0.0974)"
      ]
     },
     "execution_count": 212,
     "metadata": {},
     "output_type": "execute_result"
    }
   ],
   "source": [
    "# 8-bit quantized with scaling\n",
    "\n",
    "Qparam = Fxp(-7.25, dtype='S1.7', rounding = 'around')\n",
    "QX = Fxp(-7.25, dtype='U0.8', rounding = 'around')\n",
    "Qa = Fxp(-7.25, dtype='U4.4', rounding = 'around')\n",
    "\n",
    "q_test(test_dataloader, base_model, loss_fn, Qparam, QX, Qa)"
   ]
  },
  {
   "cell_type": "code",
   "execution_count": 243,
   "id": "281d7bcd-7f60-4da9-8ef9-ff44c31a597e",
   "metadata": {},
   "outputs": [
    {
     "name": "stdout",
     "output_type": "stream",
     "text": [
      "Test Error: \n",
      " Error: 10.4%, Avg loss: 0.342932 \n",
      "\n"
     ]
    },
    {
     "data": {
      "text/plain": [
       "(0.3429317262593417, 0.1037)"
      ]
     },
     "execution_count": 243,
     "metadata": {},
     "output_type": "execute_result"
    }
   ],
   "source": [
    "# 4-bit quantized with scaling\n",
    "\n",
    "Qparam = Fxp(-7.25, dtype='S2.2', rounding = 'around')\n",
    "QX = Fxp(-7.25, dtype='U0.4', rounding = 'around')\n",
    "Qa = Fxp(-7.25, dtype='U4.0', rounding = 'around')\n",
    "\n",
    "q_test(test_dataloader, base_model, loss_fn, Qparam, QX, Qa)"
   ]
  },
  {
   "cell_type": "code",
   "execution_count": 244,
   "id": "1f036d1e-0b35-452c-b0a7-c87a1c779023",
   "metadata": {},
   "outputs": [
    {
     "name": "stdout",
     "output_type": "stream",
     "text": [
      "Test Error: \n",
      " Error: 13.0%, Avg loss: 0.435790 \n",
      "\n"
     ]
    },
    {
     "data": {
      "text/plain": [
       "(0.435789786327834, 0.1295)"
      ]
     },
     "execution_count": 244,
     "metadata": {},
     "output_type": "execute_result"
    }
   ],
   "source": [
    "# 4-bit quantized with scaling\n",
    "\n",
    "Qparam = Fxp(-7.25, dtype='S1.3', rounding = 'around')\n",
    "QX = Fxp(-7.25, dtype='U0.4', rounding = 'around')\n",
    "Qa = Fxp(-7.25, dtype='U4.0', rounding = 'around')\n",
    "\n",
    "q_test(test_dataloader, base_model, loss_fn, Qparam, QX, Qa)"
   ]
  },
  {
   "cell_type": "code",
   "execution_count": 263,
   "id": "f0eb5411-2097-4899-86b5-60ddfab20c3f",
   "metadata": {},
   "outputs": [
    {
     "data": {
      "text/plain": [
       "(1, 1, 1, 1)"
      ]
     },
     "execution_count": 263,
     "metadata": {},
     "output_type": "execute_result"
    }
   ],
   "source": [
    "gen_q_params(base_model, Qparam)[1]"
   ]
  },
  {
   "cell_type": "code",
   "execution_count": 264,
   "id": "14514997-cb6d-4979-a45a-3d5bd965f1c0",
   "metadata": {},
   "outputs": [
    {
     "name": "stdout",
     "output_type": "stream",
     "text": [
      "Test Error: \n",
      " Error: 18.1%, Avg loss: 0.579988 \n",
      "\n"
     ]
    },
    {
     "data": {
      "text/plain": [
       "(0.5799878412034551, 0.1807)"
      ]
     },
     "execution_count": 264,
     "metadata": {},
     "output_type": "execute_result"
    }
   ],
   "source": [
    "# 4-bit quantized with scaling\n",
    "# 1 1 1 1\n",
    "Qparam = Fxp(-7.25, dtype='S2.2', rounding = 'around')\n",
    "QX = Fxp(-7.25, dtype='U0.4', rounding = 'around')\n",
    "Qa = Fxp(-7.25, dtype='U4.0', rounding = 'around')\n",
    "\n",
    "q_test(test_dataloader, base_model, loss_fn, Qparam, QX, Qa)"
   ]
  },
  {
   "cell_type": "code",
   "execution_count": 265,
   "id": "52f09a0b-f79b-493d-857f-6af2a5f9a516",
   "metadata": {},
   "outputs": [
    {
     "name": "stdout",
     "output_type": "stream",
     "text": [
      "Test Error: \n",
      " Error: 11.0%, Avg loss: 0.384539 \n",
      "\n"
     ]
    },
    {
     "data": {
      "text/plain": [
       "(0.38453888632723104, 0.1103)"
      ]
     },
     "execution_count": 265,
     "metadata": {},
     "output_type": "execute_result"
    }
   ],
   "source": [
    "# 4-bit quantized with scaling\n",
    "# 1 1 1 1\n",
    "Qparam = Fxp(-7.25, dtype='S1.3', rounding = 'around')\n",
    "QX = Fxp(-7.25, dtype='U0.4', rounding = 'around')\n",
    "Qa = Fxp(-7.25, dtype='U4.0', rounding = 'around')\n",
    "\n",
    "q_test(test_dataloader, base_model, loss_fn, Qparam, QX, Qa)"
   ]
  },
  {
   "cell_type": "code",
   "execution_count": 267,
   "id": "265653ea-831e-45c0-afd0-ebf4c4e8457d",
   "metadata": {},
   "outputs": [
    {
     "data": {
      "text/plain": [
       "(2.0, 1.0, 0.5, 0.5)"
      ]
     },
     "execution_count": 267,
     "metadata": {},
     "output_type": "execute_result"
    }
   ],
   "source": [
    "gen_q_params(base_model, Qparam)[1]"
   ]
  },
  {
   "cell_type": "code",
   "execution_count": 268,
   "id": "22792017-3bdc-4212-9418-5990ef07f624",
   "metadata": {},
   "outputs": [
    {
     "name": "stdout",
     "output_type": "stream",
     "text": [
      "Test Error: \n",
      " Error: 12.1%, Avg loss: 0.408819 \n",
      "\n"
     ]
    },
    {
     "data": {
      "text/plain": [
       "(0.4088194024820716, 0.1212)"
      ]
     },
     "execution_count": 268,
     "metadata": {},
     "output_type": "execute_result"
    }
   ],
   "source": [
    "# 4-bit quantized with scaling\n",
    "# 4/2 2/2 1/2 1/2\n",
    "Qparam = Fxp(-7.25, dtype='S2.2', rounding = 'around')\n",
    "QX = Fxp(-7.25, dtype='U0.4', rounding = 'around')\n",
    "Qa = Fxp(-7.25, dtype='U4.0', rounding = 'around')\n",
    "\n",
    "q_test(test_dataloader, base_model, loss_fn, Qparam, QX, Qa)"
   ]
  },
  {
   "cell_type": "code",
   "execution_count": 269,
   "id": "119dbaf9-216a-482e-95d3-5f7029931c65",
   "metadata": {},
   "outputs": [
    {
     "name": "stdout",
     "output_type": "stream",
     "text": [
      "Test Error: \n",
      " Error: 10.4%, Avg loss: 0.342932 \n",
      "\n"
     ]
    },
    {
     "data": {
      "text/plain": [
       "(0.3429317262593417, 0.1037)"
      ]
     },
     "execution_count": 269,
     "metadata": {},
     "output_type": "execute_result"
    }
   ],
   "source": [
    "# 4-bit quantized with scaling\n",
    "# 4/2 2/2 1/2 1/2\n",
    "Qparam = Fxp(-7.25, dtype='S1.3', rounding = 'around')\n",
    "QX = Fxp(-7.25, dtype='U0.4', rounding = 'around')\n",
    "Qa = Fxp(-7.25, dtype='U4.0', rounding = 'around')\n",
    "\n",
    "q_test(test_dataloader, base_model, loss_fn, Qparam, QX, Qa)"
   ]
  },
  {
   "cell_type": "code",
   "execution_count": 272,
   "id": "16375c22-e00f-45cb-ac5a-1bc566cc6cf2",
   "metadata": {},
   "outputs": [
    {
     "data": {
      "text/plain": [
       "(2, 1, 1, 1)"
      ]
     },
     "execution_count": 272,
     "metadata": {},
     "output_type": "execute_result"
    }
   ],
   "source": [
    "gen_q_params(base_model, Qparam)[1]"
   ]
  },
  {
   "cell_type": "code",
   "execution_count": 273,
   "id": "f29c38f3-e9db-4c6c-a8ef-c7fb7bca7248",
   "metadata": {},
   "outputs": [
    {
     "name": "stdout",
     "output_type": "stream",
     "text": [
      "Test Error: \n",
      " Error: 11.9%, Avg loss: 0.383745 \n",
      "\n"
     ]
    },
    {
     "data": {
      "text/plain": [
       "(0.38374531204317675, 0.119)"
      ]
     },
     "execution_count": 273,
     "metadata": {},
     "output_type": "execute_result"
    }
   ],
   "source": [
    "# 4-bit quantized with scaling\n",
    "# 4/2 2/2 1/2 1/2\n",
    "Qparam = Fxp(-7.25, dtype='S2.2', rounding = 'around')\n",
    "QX = Fxp(-7.25, dtype='U0.4', rounding = 'around')\n",
    "Qa = Fxp(-7.25, dtype='U4.0', rounding = 'around')\n",
    "\n",
    "q_test(test_dataloader, base_model, loss_fn, Qparam, QX, Qa)"
   ]
  },
  {
   "cell_type": "code",
   "execution_count": 274,
   "id": "686c9dba-e545-4030-b2a6-e14bb74d632b",
   "metadata": {},
   "outputs": [
    {
     "name": "stdout",
     "output_type": "stream",
     "text": [
      "Test Error: \n",
      " Error: 11.3%, Avg loss: 0.375522 \n",
      "\n"
     ]
    },
    {
     "data": {
      "text/plain": [
       "(0.37552151095180597, 0.1127)"
      ]
     },
     "execution_count": 274,
     "metadata": {},
     "output_type": "execute_result"
    }
   ],
   "source": [
    "# 4-bit quantized with scaling\n",
    "# 2 1 1 1\n",
    "Qparam = Fxp(-7.25, dtype='S1.3', rounding = 'around')\n",
    "QX = Fxp(-7.25, dtype='U0.4', rounding = 'around')\n",
    "Qa = Fxp(-7.25, dtype='U4.0', rounding = 'around')\n",
    "\n",
    "q_test(test_dataloader, base_model, loss_fn, Qparam, QX, Qa)"
   ]
  },
  {
   "cell_type": "code",
   "execution_count": 242,
   "id": "d7559c08-4b95-410f-9453-0dfc9d3ffcdd",
   "metadata": {
    "scrolled": true
   },
   "outputs": [
    {
     "name": "stdout",
     "output_type": "stream",
     "text": [
      "Number of non-zero elements:  3898\n"
     ]
    },
    {
     "data": {
      "image/png": "[encoded data removed]",
      "text/plain": [
       "<Figure size 800x400 with 10 Axes>"
      ]
     },
     "metadata": {},
     "output_type": "display_data"
    }
   ],
   "source": [
    "\n",
    "Qparam = Fxp(-7.25, dtype='S2.2', rounding = 'around')\n",
    "params = gen_q_params(base_model, Qparam)\n",
    "w1_qq = params[0][0]\n",
    "print(\"Number of non-zero elements: \", len(w1_qq.flatten()[w1_qq.flatten() != 0]))\n",
    "fig, ax = plt.subplots(2,5,figsize=(8,4))\n",
    "fig.suptitle(\"INT4 Quantized without scalar Input layer kernels\")\n",
    "for i in range(10):\n",
    "    ax.flatten()[i].imshow(w1_qq[i].reshape(28,28))"
   ]
  },
  {
   "cell_type": "code",
   "execution_count": 241,
   "id": "0307d799-7806-4eb4-98e4-08b3dbd9aff1",
   "metadata": {
    "scrolled": true
   },
   "outputs": [
    {
     "name": "stdout",
     "output_type": "stream",
     "text": [
      "Number of non-zero elements:  5807\n"
     ]
    },
    {
     "data": {
      "image/png": "[encoded data removed]",
      "text/plain": [
       "<Figure size 800x400 with 10 Axes>"
      ]
     },
     "metadata": {},
     "output_type": "display_data"
    }
   ],
   "source": [
    "\n",
    "Qparam = Fxp(-7.25, dtype='S1.3', rounding = 'around')\n",
    "params = gen_q_params(base_model, Qparam)\n",
    "w1_qq = params[0][0]\n",
    "print(\"Number of non-zero elements: \", len(w1_qq.flatten()[w1_qq.flatten() != 0]))\n",
    "fig, ax = plt.subplots(2,5,figsize=(8,4))\n",
    "fig.suptitle(\"INT4 Quantized without scalar Input layer kernels\")\n",
    "for i in range(10):\n",
    "    ax.flatten()[i].imshow(w1_qq[i].reshape(28,28))"
   ]
  },
  {
   "cell_type": "code",
   "execution_count": 198,
   "id": "570665fe-dc53-44e0-85ac-6e87be744d7f",
   "metadata": {},
   "outputs": [
    {
     "name": "stdout",
     "output_type": "stream",
     "text": [
      "Test Error: \n",
      " Error: 23.4%, Avg loss: 1.487478 \n",
      "\n"
     ]
    },
    {
     "data": {
      "text/plain": [
       "(1.4874779113646512, 0.234)"
      ]
     },
     "execution_count": 198,
     "metadata": {},
     "output_type": "execute_result"
    }
   ],
   "source": [
    "# 4-bit quantized without scaling\n",
    "q_test_no_scale(test_dataloader, base_model, loss_fn)"
   ]
  },
  {
   "cell_type": "code",
   "execution_count": null,
   "id": "edbd7a69-e665-48cc-9c67-9786cb022396",
   "metadata": {},
   "outputs": [],
   "source": [
    "# 4-bit quantized with scaling\n",
    "q_test(test_dataloader, base_model, loss_fn)"
   ]
  },
  {
   "cell_type": "code",
   "execution_count": null,
   "id": "c37389f2-7473-4628-8817-846565a35740",
   "metadata": {},
   "outputs": [],
   "source": [
    "# 4-bit quantized with scaling\n",
    "q_test(test_dataloader, base_model, loss_fn)"
   ]
  },
  {
   "cell_type": "code",
   "execution_count": null,
   "id": "94a31db3-3b9f-4deb-bcef-1dc20df7c436",
   "metadata": {},
   "outputs": [],
   "source": []
  },
  {
   "cell_type": "code",
   "execution_count": 197,
   "id": "eebaa26d-b2ac-4faf-af98-27f04865cee4",
   "metadata": {},
   "outputs": [],
   "source": [
    "def q_test_no_scale(dataloader, model, loss_fn):\n",
    "    size = len(dataloader.dataset)\n",
    "    num_batches = len(dataloader)\n",
    "    \n",
    "    x4 = Fxp(-7.25, dtype='S1.3', rounding = 'around')\n",
    "    Xx4 = Fxp(-7.25, dtype='U0.4', rounding = 'around')\n",
    "    ax4 = Fxp(-7.25, dtype='U4.0', rounding = 'around')\n",
    "    \n",
    "    model.eval()\n",
    "    loss, error = 0, 0\n",
    "    params = gen_q_params(model, x4)\n",
    "    \n",
    "    with torch.no_grad():\n",
    "        for X, y in dataloader:\n",
    "            X, y = X.to(device), y.to(device)\n",
    "            X_q = torch.tensor(Xx4(X.detach().numpy())()).float()\n",
    "            pred = q_forward_no_scale(params, X_q, ax4).unsqueeze(1).T\n",
    "            # pred = model(X_q)\n",
    "            loss += loss_fn(pred, y).item()\n",
    "            error += (pred.argmax(1) != y).type(torch.float).sum().item()\n",
    "            \n",
    "    loss /= num_batches\n",
    "    error /= size\n",
    "    \n",
    "    if DEBUG_MODE:\n",
    "        print(f\"Test Error: \\n Error: {(100*error):>0.1f}%, Avg loss: {loss:>8f} \\n\")\n",
    "    \n",
    "    return (loss , error)"
   ]
  },
  {
   "cell_type": "code",
   "execution_count": 196,
   "id": "f59e89aa-a0fe-4abf-8100-645e6d787593",
   "metadata": {},
   "outputs": [],
   "source": [
    "def q_forward_no_scale(params, X_q, ax4):\n",
    "    w1_q, b1_q, w2_q, b2_q = params[0]\n",
    "    w1_s, b1_s, w2_s, b2_s = params[1]\n",
    "    \n",
    "    z1_q = torch.matmul(w1_q, X_q.flatten()) + b1_q\n",
    "    a1_q = torch.tensor(ax4(nn.functional.relu(z1_q).detach().numpy())()).float()\n",
    "    q_logits = torch.matmul(w2_q, a1_q) + b2_q\n",
    "    \n",
    "    return q_logits"
   ]
  },
  {
   "cell_type": "code",
   "execution_count": null,
   "id": "292b284a-7baa-4537-9192-b23b61556c3c",
   "metadata": {},
   "outputs": [],
   "source": []
  },
  {
   "cell_type": "code",
   "execution_count": null,
   "id": "2078bd4a-da87-4e31-aaa5-af9b0c7af302",
   "metadata": {},
   "outputs": [],
   "source": [
    "w1_q = base_model.linear_relu_stack[0].weight.data\n",
    "b1_q = base_model.linear_relu_stack[0].bias.data\n",
    "w2_q = base_model.linear_relu_stack[2].weight.data\n",
    "b2_q = base_model.linear_relu_stack[2].bias.data"
   ]
  },
  {
   "cell_type": "code",
   "execution_count": 176,
   "id": "e0ea180e-b887-44ab-99d4-c740c5e4e129",
   "metadata": {},
   "outputs": [],
   "source": [
    "def gen_q_params(model, quant):\n",
    "    w1_q = model.linear_relu_stack[0].weight.data\n",
    "    b1_q = model.linear_relu_stack[0].bias.data\n",
    "    w2_q = model.linear_relu_stack[2].weight.data\n",
    "    b2_q = model.linear_relu_stack[2].bias.data\n",
    "    w1_s, b1_s, w2_s, b2_s = 1,1,1,1\n",
    "    \n",
    "    w1_alpha, w1_beta = torch.tensor([ k.min() for k in w1_q.data]).mean(), torch.tensor([k.max() for k in w1_q.data]).mean()\n",
    "    b1_alpha, b1_beta = b1_q.data.min(), b1_q.data.max()\n",
    "    w2_alpha, w2_beta = torch.tensor([ k.min() for k in w2_q.data]).mean(), torch.tensor([k.max() for k in w2_q.data]).mean()\n",
    "    b2_alpha, b2_beta = b2_q.data.min(), b2_q.data.max()\n",
    "    \n",
    "    w1_beta = (w1_alpha.abs() + w1_beta)/2\n",
    "    b1_beta = (b1_alpha.abs() + b1_beta)/2\n",
    "    w2_beta = (w2_alpha.abs() + w2_beta)/2\n",
    "    b2_beta = (b2_alpha.abs() + b2_beta)/2\n",
    "\n",
    "    w1_s = 2**find_best_exp(w1_beta.item())    \n",
    "    b1_s = 2**find_best_exp(b1_beta.item())    \n",
    "    w2_s = 2**find_best_exp(w2_beta.item())    \n",
    "    b2_s = 2**find_best_exp(b2_beta.item())\n",
    "\n",
    "    # quantized values here\n",
    "    b2_q = torch.tensor(quant(b2_q.detach().numpy()* b2_s)()).float()\n",
    "    w2_q = torch.tensor(quant(w2_q.detach().numpy()* w2_s)()).float()\n",
    "    b1_q = torch.tensor(quant(b1_q.detach().numpy()* b1_s)()).float()\n",
    "    w1_q = torch.tensor(quant(w1_q.detach().numpy()* w1_s)()).float()\n",
    "\n",
    "    return (w1_q, b1_q, w2_q, b2_q), (w1_s, b1_s, w2_s, b2_s)\n",
    "    "
   ]
  },
  {
   "cell_type": "code",
   "execution_count": 222,
   "id": "9a096976-c95b-45bf-82cf-0f722bf7c066",
   "metadata": {},
   "outputs": [],
   "source": [
    "def q_forward(params, X_q, Qa):\n",
    "    w1_q, b1_q, w2_q, b2_q = params[0]\n",
    "    w1_s, b1_s, w2_s, b2_s = params[1]\n",
    "    \n",
    "    z1_q = torch.matmul(w1_q, X_q.flatten())/w1_s + b1_q/b1_s\n",
    "    a1_q = torch.tensor(Qa(nn.functional.relu(z1_q).detach().numpy())()).float()\n",
    "    q_logits = torch.matmul(w2_q, a1_q)/w2_s + b2_q/b2_s\n",
    "    \n",
    "    return q_logits"
   ]
  },
  {
   "cell_type": "code",
   "execution_count": 180,
   "id": "20eb1876-a0a3-4f85-a4d4-c7969da23817",
   "metadata": {},
   "outputs": [
    {
     "data": {
      "text/plain": [
       "tensor([-0.7500, -5.8750,  2.5000,  4.0000, -5.3750,  0.0000, -8.0000,  7.7500,\n",
       "        -0.7500, -1.3750])"
      ]
     },
     "execution_count": 180,
     "metadata": {},
     "output_type": "execute_result"
    }
   ],
   "source": [
    "params = gen_q_params(base_model, x4)\n",
    "# print(params)\n",
    "q_forward(params, X_q, ax4)"
   ]
  },
  {
   "cell_type": "code",
   "execution_count": 82,
   "id": "d85fdd92-1d5a-4a93-a0e4-f08e65b2fa2f",
   "metadata": {},
   "outputs": [
    {
     "data": {
      "text/plain": [
       "(tensor([0.0000, 2.7819, 0.0000, 2.3707, 5.4568, 0.0000, 0.0852, 0.1841, 0.0000,\n",
       "         5.6121]),\n",
       " array([0., 3., 0., 2., 5., 0., 0., 0., 0., 6.]))"
      ]
     },
     "execution_count": 82,
     "metadata": {},
     "output_type": "execute_result"
    }
   ],
   "source": [
    "a1, ax4(a1.detach().numpy())()"
   ]
  },
  {
   "cell_type": "code",
   "execution_count": 88,
   "id": "dd7ab9b9-b9bf-4ee1-914c-1064120165ba",
   "metadata": {},
   "outputs": [
    {
     "name": "stdout",
     "output_type": "stream",
     "text": [
      "Success!\n"
     ]
    }
   ],
   "source": [
    "w1_q = base_model.linear_relu_stack[0].weight.data\n",
    "b1_q = base_model.linear_relu_stack[0].bias.data\n",
    "w2_q = base_model.linear_relu_stack[2].weight.data\n",
    "b2_q = base_model.linear_relu_stack[2].bias.data\n",
    "X_q = torch.tensor(Xx4(X.detach().numpy())()).float()\n",
    "\n",
    "z1 = torch.matmul(w1_q, X_q.flatten()) + b1_q\n",
    "a1 = nn.functional.relu(z1)\n",
    "z2 = torch.matmul(w2_q, a1) + b2_q\n",
    "if not (z2 == base_model.forward(X_q)).all():\n",
    "    raise Exception(\"oh fuck\")\n",
    "else:\n",
    "    print(\"Success!\")"
   ]
  },
  {
   "cell_type": "code",
   "execution_count": 174,
   "id": "d2201857-85e9-46bc-981e-919d766a8c85",
   "metadata": {},
   "outputs": [],
   "source": [
    "\n",
    "base_model.load_state_dict(torch.load('model.pth'))\n",
    "\n",
    "w1_q = base_model.linear_relu_stack[0].weight.data\n",
    "b1_q = base_model.linear_relu_stack[0].bias.data\n",
    "w2_q = base_model.linear_relu_stack[2].weight.data\n",
    "b2_q = base_model.linear_relu_stack[2].bias.data\n",
    "\n",
    "w1_alpha, w1_beta = torch.tensor([ k.min() for k in w1_q.data]).mean(), torch.tensor([k.max() for k in w1_q.data]).mean()\n",
    "b1_alpha, b1_beta = b1_q.data.min(), b1_q.data.max()\n",
    "w2_alpha, w2_beta = torch.tensor([ k.min() for k in w2_q.data]).mean(), torch.tensor([k.max() for k in w2_q.data]).mean()\n",
    "b2_alpha, b2_beta = b2_q.data.min(), b2_q.data.max()\n",
    "\n",
    "w1_beta = (w1_alpha.abs() + w1_beta)/2\n",
    "b1_beta = (b1_alpha.abs() + b1_beta)/2\n",
    "w2_beta = (w2_alpha.abs() + w2_beta)/2\n",
    "b2_beta = (b2_alpha.abs() + b2_beta)/2\n",
    "\n",
    "w1_s = 2**find_best_exp(w1_beta.item())\n",
    "\n",
    "b1_s = 2**find_best_exp(b1_beta.item())\n",
    "\n",
    "w2_s = 2**find_best_exp(w2_beta.item())\n",
    "\n",
    "b2_s = 2**find_best_exp(b2_beta.item())\n",
    "\n",
    "# quantized values here\n",
    "b2_q = torch.tensor(x4(b2_q.detach().numpy()* b2_s)()).float()\n",
    "w2_q = torch.tensor(x4(w2_q.detach().numpy()* w2_s)()).float()\n",
    "b1_q = torch.tensor(x4(b1_q.detach().numpy()* b1_s)()).float()\n",
    "w1_q = torch.tensor(x4(w1_q.detach().numpy()* w1_s)()).float()"
   ]
  },
  {
   "cell_type": "code",
   "execution_count": 93,
   "id": "df0ea85e-e77c-49c8-a9ca-18cfed0a6d61",
   "metadata": {},
   "outputs": [
    {
     "data": {
      "text/plain": [
       "tensor(True)"
      ]
     },
     "execution_count": 93,
     "metadata": {},
     "output_type": "execute_result"
    }
   ],
   "source": [
    "(torch.tensor(ax4(nn.functional.relu(z1).detach().numpy())()) == torch.tensor(ax4(z1.detach().numpy())())).all()"
   ]
  },
  {
   "cell_type": "code",
   "execution_count": 172,
   "id": "02358821-692d-4b6a-850f-0e88b2a83a1a",
   "metadata": {},
   "outputs": [
    {
     "name": "stdout",
     "output_type": "stream",
     "text": [
      "\n",
      "tensor([-0.2627,  2.7819, -0.2934,  2.3707,  5.4568, -1.2348,  0.0852,  0.1841,\n",
      "        -1.9929,  5.6121])\n",
      "tensor([-0.3223,  2.6953,  0.0156,  2.3711,  5.4395, -1.2246,  0.1211,  0.1875,\n",
      "        -2.0156,  5.4395])\n",
      "\n",
      "tensor([0.0000, 2.7819, 0.0000, 2.3707, 5.4568, 0.0000, 0.0852, 0.1841, 0.0000,\n",
      "        5.6121])\n",
      "tensor([0., 3., 0., 2., 5., 0., 0., 0., 0., 5.])\n",
      "\n",
      "tensor([  0.2686,  -6.9579,   3.0081,   5.3441,  -5.6521,   0.3519, -10.1596,\n",
      "         10.3605,  -0.5403,   1.8418])\n",
      "tensor([-0.7500, -5.8750,  2.5000,  4.0000, -5.3750,  0.0000, -8.0000,  7.7500,\n",
      "        -0.7500, -1.3750])\n"
     ]
    }
   ],
   "source": [
    "z1_q = torch.matmul(w1_q, X_q.flatten())/w1_s + b1_q/b1_s\n",
    "print()\n",
    "print(z1)\n",
    "print(z1_q)\n",
    "a1_q = torch.tensor(ax4(nn.functional.relu(z1_q).detach().numpy())()).float()\n",
    "\n",
    "print()\n",
    "print(a1)\n",
    "print(a1_q)\n",
    "\n",
    "z2_q = torch.matmul(w2_q, a1_q)/w2_s + b2_q/b2_s\n",
    "print()\n",
    "print(z2)\n",
    "print(z2_q)"
   ]
  },
  {
   "cell_type": "code",
   "execution_count": 173,
   "id": "17c372d0-d65c-426c-9554-64229d56bde7",
   "metadata": {},
   "outputs": [
    {
     "data": {
      "text/plain": [
       "tensor([-0.7500, -5.8750,  2.5000,  4.0000, -5.3750,  0.0000, -8.0000,  7.7500,\n",
       "        -0.7500, -1.3750])"
      ]
     },
     "execution_count": 173,
     "metadata": {},
     "output_type": "execute_result"
    }
   ],
   "source": [
    "params = gen_q_params(base_model)\n",
    "# print(params)\n",
    "q_forward(params, X_q, ax4)"
   ]
  },
  {
   "cell_type": "code",
   "execution_count": 155,
   "id": "3aa46ad5-2619-46ce-a2bf-a1d366fe1942",
   "metadata": {},
   "outputs": [
    {
     "data": {
      "text/plain": [
       "(tensor([[ 0.1250, -0.1250,  0.0000,  ...,  0.0000,  0.0000,  0.0000],\n",
       "         [-0.1250,  0.0000,  0.0000,  ...,  0.1250,  0.1250,  0.1250],\n",
       "         [ 0.0000,  0.0000,  0.0000,  ...,  0.1250,  0.0000,  0.1250],\n",
       "         ...,\n",
       "         [ 0.1250, -0.1250, -0.1250,  ...,  0.1250,  0.0000,  0.0000],\n",
       "         [-0.1250, -0.1250,  0.0000,  ...,  0.1250, -0.1250,  0.0000],\n",
       "         [ 0.0000, -0.1250,  0.1250,  ..., -0.1250,  0.0000,  0.1250]]),\n",
       " tensor([[ 0.0214, -0.0275,  0.0098,  ...,  0.0012, -0.0123,  0.0018],\n",
       "         [-0.0236, -0.0033, -0.0038,  ...,  0.0212,  0.0238,  0.0165],\n",
       "         [-0.0104,  0.0087, -0.0064,  ...,  0.0293,  0.0093,  0.0229],\n",
       "         ...,\n",
       "         [ 0.0327, -0.0288, -0.0302,  ...,  0.0235, -0.0128, -0.0102],\n",
       "         [-0.0265, -0.0198,  0.0146,  ...,  0.0205, -0.0245, -0.0037],\n",
       "         [ 0.0016, -0.0341,  0.0251,  ..., -0.0246, -0.0084,  0.0168]]))"
      ]
     },
     "execution_count": 155,
     "metadata": {},
     "output_type": "execute_result"
    }
   ],
   "source": [
    "((w1_q), params[0][0])"
   ]
  },
  {
   "cell_type": "code",
   "execution_count": 158,
   "id": "2b8a99f5-4ad1-46d9-aeaf-5365c90a1424",
   "metadata": {},
   "outputs": [
    {
     "data": {
      "text/plain": [
       "((tensor([[ 0.0214, -0.0275,  0.0098,  ...,  0.0012, -0.0123,  0.0018],\n",
       "          [-0.0236, -0.0033, -0.0038,  ...,  0.0212,  0.0238,  0.0165],\n",
       "          [-0.0104,  0.0087, -0.0064,  ...,  0.0293,  0.0093,  0.0229],\n",
       "          ...,\n",
       "          [ 0.0327, -0.0288, -0.0302,  ...,  0.0235, -0.0128, -0.0102],\n",
       "          [-0.0265, -0.0198,  0.0146,  ...,  0.0205, -0.0245, -0.0037],\n",
       "          [ 0.0016, -0.0341,  0.0251,  ..., -0.0246, -0.0084,  0.0168]]),\n",
       "  tensor([-0.0082,  0.5156,  0.1759, -0.3258, -0.1558,  0.2139, -0.1004,  0.2280,\n",
       "           0.2006,  0.1975]),\n",
       "  tensor([[-0.1248,  1.3063, -0.1032,  0.5850, -0.1997, -0.0231,  0.7542, -0.3021,\n",
       "           -1.3268, -0.5997],\n",
       "          [-0.0412, -0.3510,  0.4749, -0.2931, -0.2931,  0.5647, -1.1183, -0.2906,\n",
       "            1.3144, -0.6499],\n",
       "          [-0.2710,  0.1707, -1.1649,  0.9948, -0.1218, -0.1487,  0.7589, -1.1737,\n",
       "            0.3967,  0.1140],\n",
       "          [-0.2327,  0.0325,  0.0175,  1.1425,  0.0949, -1.2062, -0.8273,  0.0083,\n",
       "            0.5755,  0.4155],\n",
       "          [-0.2967, -0.9329, -0.5502, -1.1090, -0.5062, -0.4883,  0.6796,  1.4238,\n",
       "           -0.1501,  0.3775],\n",
       "          [ 0.2782,  0.2845,  0.3777,  0.7223, -0.8166,  0.8477, -0.5149,  0.6305,\n",
       "           -0.8377,  0.2064],\n",
       "          [-0.1618, -0.1877,  1.1016, -0.0812, -1.3107,  0.4100,  0.8526, -0.2729,\n",
       "            0.1428, -0.3888],\n",
       "          [-0.2559,  0.4570,  0.6518, -1.1423,  0.8124, -0.1706, -0.6694, -0.7191,\n",
       "            0.1188,  1.3126],\n",
       "          [ 0.2847, -1.1542, -0.7597,  0.8919,  0.2611,  0.8602,  0.0075,  0.4238,\n",
       "           -0.4332, -0.0312],\n",
       "          [-0.2673, -0.5756,  0.2276, -0.6441,  1.4667, -0.5936, -0.0609,  0.6113,\n",
       "           -0.3554, -0.5282]]),\n",
       "  tensor([-0.3053,  0.1090,  0.3511, -0.2352, -0.1046,  1.0735, -0.1331,  0.1870,\n",
       "          -0.7727, -0.1762])),\n",
       " (4, 2, 1, 1))"
      ]
     },
     "execution_count": 158,
     "metadata": {},
     "output_type": "execute_result"
    }
   ],
   "source": [
    "params"
   ]
  },
  {
   "cell_type": "code",
   "execution_count": 153,
   "id": "dd63e366-f9e9-49af-acf7-fb4e85fc0246",
   "metadata": {},
   "outputs": [
    {
     "data": {
      "text/plain": [
       "tensor(False)"
      ]
     },
     "execution_count": 153,
     "metadata": {},
     "output_type": "execute_result"
    }
   ],
   "source": [
    "((w1_q)== params[0][0]).all()"
   ]
  },
  {
   "cell_type": "code",
   "execution_count": null,
   "id": "c0042640-ca08-40e9-b257-6b9aed891919",
   "metadata": {},
   "outputs": [],
   "source": [
    "z1_q = torch.matmul(w1_q, X_q.flatten())/w1_s + b1_q/b1_s\n",
    "a1_q = torch.tensor(ax4(nn.functional.relu(z1).detach().numpy())()).float()\n",
    "z2_q = torch.matmul(w2_q, a1_q)/w2_s + b2_q/b2_s\n"
   ]
  },
  {
   "cell_type": "code",
   "execution_count": 465,
   "id": "edd0147e-9a11-4cc6-aea1-4e6065f8bf5a",
   "metadata": {},
   "outputs": [
    {
     "name": "stdout",
     "output_type": "stream",
     "text": [
      "Number of non-zero elements:  7840\n"
     ]
    },
    {
     "data": {
      "image/png": "[encoded data removed]",
      "text/plain": [
       "<Figure size 800x400 with 10 Axes>"
      ]
     },
     "metadata": {},
     "output_type": "display_data"
    }
   ],
   "source": [
    "fig, ax = plt.subplots(2,5,figsize=(8,4))\n",
    "fig.suptitle(\"Floating point resolution Input layer kernels\")\n",
    "for i in range(10):\n",
    "    ax.flatten()[i].imshow(w1[i].reshape(28,28))\n",
    "print(\"Number of non-zero elements: \", len(w1.flatten()[w1.flatten() != 0]))"
   ]
  },
  {
   "cell_type": "code",
   "execution_count": 466,
   "id": "b2a85f92-d556-4ad7-ba06-9726c3894c5e",
   "metadata": {},
   "outputs": [
    {
     "name": "stdout",
     "output_type": "stream",
     "text": [
      "Number of non-zero elements:  2408\n"
     ]
    },
    {
     "data": {
      "image/png": "[encoded data removed]",
      "text/plain": [
       "<Figure size 800x400 with 10 Axes>"
      ]
     },
     "metadata": {},
     "output_type": "display_data"
    }
   ],
   "source": [
    "print(\"Number of non-zero elements: \", len(w1_qq.flatten()[w1_qq.flatten() != 0]))\n",
    "fig, ax = plt.subplots(2,5,figsize=(8,4))\n",
    "fig.suptitle(\"INT4 Quantized without scalar Input layer kernels\")\n",
    "for i in range(10):\n",
    "    ax.flatten()[i].imshow(w1_qq[i].reshape(28,28))"
   ]
  },
  {
   "cell_type": "code",
   "execution_count": 467,
   "id": "6ca63bf9-853c-4dda-8fdc-72d44c695dc2",
   "metadata": {},
   "outputs": [
    {
     "name": "stdout",
     "output_type": "stream",
     "text": [
      "Number of non-zero elements:  5807\n"
     ]
    },
    {
     "data": {
      "image/png": "[encoded data removed]",
      "text/plain": [
       "<Figure size 800x400 with 10 Axes>"
      ]
     },
     "metadata": {},
     "output_type": "display_data"
    }
   ],
   "source": [
    "print(\"Number of non-zero elements: \", len(w1_q.flatten()[w1_q.flatten() != 0]))\n",
    "fig, ax = plt.subplots(2,5,figsize=(8,4))\n",
    "fig.suptitle(\"Int4 Quantized with scalar Input layer kernels\")\n",
    "for i in range(10):\n",
    "    ax.flatten()[i].imshow(w1_q[i].reshape(28,28))"
   ]
  },
  {
   "cell_type": "code",
   "execution_count": null,
   "id": "fda24140-c966-4bf5-9f54-ab27fc393393",
   "metadata": {},
   "outputs": [],
   "source": []
  },
  {
   "cell_type": "code",
   "execution_count": null,
   "id": "c77936df-7d10-4af5-b2da-aa6b0a72ca1b",
   "metadata": {},
   "outputs": [],
   "source": []
  },
  {
   "cell_type": "code",
   "execution_count": null,
   "id": "75982b4c-20f0-484d-9f17-47d5eb74e8a8",
   "metadata": {},
   "outputs": [],
   "source": []
  },
  {
   "cell_type": "markdown",
   "id": "28fabd9e-c4b3-4a7a-b9ef-fcc2f0cd8e65",
   "metadata": {},
   "source": [
    "$$\\beta=c(\\beta_q+d)$$\n",
    "$$\\alpha=c(\\alpha_q+d)$$"
   ]
  },
  {
   "cell_type": "markdown",
   "id": "095d1ef7-69b9-4259-b025-b7b2dd3b93cf",
   "metadata": {},
   "source": [
    "quant: $$x=s(x_q-z)$$ \n",
    "dequant: $$x_q=clip(round(\\frac{1}{s}x+z),\\alpha_q,\\beta_q)$$"
   ]
  },
  {
   "cell_type": "markdown",
   "id": "976efbb3-1b91-493a-be7e-5f59337ebc94",
   "metadata": {},
   "source": [
    "$$ s=\\frac{\\beta-\\alpha}{\\beta_q-\\alpha_q} $$\n",
    "$$z=\\frac{\\beta\\alpha_q-\\alpha\\beta_q}{\\beta-\\alpha}$$"
   ]
  },
  {
   "cell_type": "code",
   "execution_count": 220,
   "id": "d13d4e74-ea4e-4935-84ca-6acf1eb51288",
   "metadata": {},
   "outputs": [],
   "source": [
    "# going to leave a bunch of stuff here in case I need it later\n",
    "\n",
    "w1 = model8.linear_relu_stack[0].weight.data\n",
    "b1 = model8.linear_relu_stack[0].bias.data\n",
    "w2 = model8.linear_relu_stack[2].weight.data\n",
    "b2 = model8.linear_relu_stack[2].bias.data\n",
    "\n",
    "w1_q = model4.linear_relu_stack[0].weight.data\n",
    "w1_qq = model4.linear_relu_stack[0].weight.data\n",
    "b1_q = model4.linear_relu_stack[0].bias.data\n",
    "b1_qq = model4.linear_relu_stack[0].bias.data\n",
    "w2_q = model4.linear_relu_stack[2].weight.data\n",
    "w2_qq = model4.linear_relu_stack[2].weight.data\n",
    "b2_q = model4.linear_relu_stack[2].bias.data\n",
    "b2_qq = model4.linear_relu_stack[2].bias.data\n",
    "\n",
    "w1_alpha, w1_beta = torch.tensor([ k.min() for k in w1.data]).mean(), torch.tensor([k.max() for k in w1.data]).mean()\n",
    "b1_alpha, b1_beta = b1.data.min(), b1.data.max()\n",
    "w2_alpha, w2_beta = torch.tensor([ k.min() for k in w2.data]).mean(), torch.tensor([k.max() for k in w2.data]).mean()\n",
    "b2_alpha, b2_beta = b2.data.min(), b2.data.max()\n",
    "\n",
    "w1_beta = (w1_alpha.abs() + w1_beta)/2\n",
    "b1_beta = (b1_alpha.abs() + b1_beta)/2\n",
    "w2_beta = (w2_alpha.abs() + w2_beta)/2\n",
    "b2_beta = (b2_alpha.abs() + b2_beta)/2\n",
    "\n",
    "w1_qq = torch.tensor(x4(w1_qq.detach().numpy())()).float()\n",
    "w1_s = 2**find_best_exp(w1_beta.item())\n",
    "w1_q = torch.tensor(x4(w1_q.detach().numpy()* w1_s)()).float()\n",
    "\n",
    "b1_qq = torch.tensor(x4(b1_qq.detach().numpy())()).float()\n",
    "b1_s = 2**find_best_exp(b1_beta.item())\n",
    "b1_q = torch.tensor(x4(b1_q.detach().numpy()* b1_s)()).float()\n",
    "\n",
    "w2_qq = torch.tensor(x4(w2_qq.detach().numpy())()).float()\n",
    "w2_s = 2**find_best_exp(w2_beta.item())\n",
    "w2_q = torch.tensor(x4(w2_q.detach().numpy()* w2_s)()).float()\n",
    "\n",
    "b2_qq = torch.tensor(x4(b2_qq.detach().numpy())()).float()\n",
    "b2_s = 2**find_best_exp(b2_beta.item())\n",
    "b2_q = torch.tensor(x4(b2_q.detach().numpy()* b2_s)()).float()\n",
    "\n"
   ]
  },
  {
   "cell_type": "code",
   "execution_count": 221,
   "id": "be6db263-e6b8-4745-898a-e6996607ff09",
   "metadata": {},
   "outputs": [
    {
     "name": "stdout",
     "output_type": "stream",
     "text": [
      "NeuralNetwork(\n",
      "  (flatten): Flatten(start_dim=1, end_dim=-1)\n",
      "  (linear_relu_stack): Sequential(\n",
      "    (0): Linear(in_features=784, out_features=10, bias=True)\n",
      "    (1): ReLU()\n",
      "    (2): Linear(in_features=10, out_features=10, bias=True)\n",
      "  )\n",
      ")\n"
     ]
    },
    {
     "data": {
      "text/plain": [
       "tensor([[ 0.0214, -0.0275,  0.0098,  ...,  0.0012, -0.0123,  0.0018],\n",
       "        [-0.0236, -0.0033, -0.0038,  ...,  0.0212,  0.0238,  0.0165],\n",
       "        [-0.0104,  0.0087, -0.0064,  ...,  0.0293,  0.0093,  0.0229],\n",
       "        ...,\n",
       "        [ 0.0327, -0.0288, -0.0302,  ...,  0.0235, -0.0128, -0.0102],\n",
       "        [-0.0265, -0.0198,  0.0146,  ...,  0.0205, -0.0245, -0.0037],\n",
       "        [ 0.0016, -0.0341,  0.0251,  ..., -0.0246, -0.0084,  0.0168]])"
      ]
     },
     "execution_count": 221,
     "metadata": {},
     "output_type": "execute_result"
    },
    {
     "data": {
      "image/png": "[encoded data removed]",
      "text/plain": [
       "<Figure size 1200x600 with 4 Axes>"
      ]
     },
     "metadata": {},
     "output_type": "display_data"
    }
   ],
   "source": [
    "print(model8)\n",
    "import matplotlib.pyplot as plt\n",
    "fig,ax = plt.subplots(2,2,figsize=(12,6))\n",
    "fig.suptitle(\"Resolution of first layer\", fontsize=16)\n",
    "ax[0,0].set_title('w1')\n",
    "ax[0,0].hist(w1.flatten(),bins=100)\n",
    "ax[0,0].axvline(w1_alpha, color='firebrick')\n",
    "ax[0,0].axvline(w1_beta, color='firebrick')\n",
    "ax[0,1].set_title('b1')\n",
    "ax[0,1].hist(b1.flatten(),bins=10)\n",
    "ax[0,1].axvline(b1_alpha, color='firebrick')\n",
    "ax[0,1].axvline(b1_beta, color='firebrick')\n",
    "ax[1,0].set_title('w2')\n",
    "ax[1,0].hist(w2.flatten(),bins=10)\n",
    "ax[1,0].axvline(w2_alpha, color='firebrick')\n",
    "ax[1,0].axvline(w2_beta, color='firebrick')\n",
    "ax[1,1].set_title('b2')\n",
    "ax[1,1].hist(b2.flatten(),bins=10)\n",
    "ax[1,1].axvline(b2_alpha, color='firebrick')\n",
    "ax[1,1].axvline(b2_beta, color='firebrick')\n",
    "model8.linear_relu_stack[0].weight.data"
   ]
  },
  {
   "cell_type": "code",
   "execution_count": null,
   "id": "b0e20ebe-aac2-4dee-a81a-7b39b3913c32",
   "metadata": {},
   "outputs": [],
   "source": []
  },
  {
   "cell_type": "code",
   "execution_count": 24,
   "id": "0ad4b7cf-a559-49ad-817e-99fcedfc70fd",
   "metadata": {},
   "outputs": [
    {
     "data": {
      "text/plain": [
       "NeuralNetwork(\n",
       "  (flatten): Flatten(start_dim=1, end_dim=-1)\n",
       "  (linear_relu_stack): Sequential(\n",
       "    (0): Linear(in_features=784, out_features=10, bias=True)\n",
       "    (1): ReLU()\n",
       "    (2): Linear(in_features=10, out_features=10, bias=True)\n",
       "  )\n",
       ")"
      ]
     },
     "execution_count": 24,
     "metadata": {},
     "output_type": "execute_result"
    }
   ],
   "source": [
    "alpha, qalpha, beta, qbeta = 0, 0 ,0 ,0"
   ]
  },
  {
   "cell_type": "code",
   "execution_count": 20,
   "id": "c038f8b1-c811-4418-a781-d60fc3f0b1bf",
   "metadata": {},
   "outputs": [],
   "source": [
    "scale, zero_point = 0, 0"
   ]
  },
  {
   "cell_type": "code",
   "execution_count": 22,
   "id": "1b06e0f3-b532-4e65-8e08-42cebc4527fc",
   "metadata": {},
   "outputs": [],
   "source": [
    "quant = lambda x, s, z : np.round((1/s)*x+z)\n",
    "dequant = lambda x, s, z : s*(x - z) "
   ]
  },
  {
   "cell_type": "markdown",
   "id": "3ebddaa3-4221-4bd7-b810-d3fb3576bdf6",
   "metadata": {},
   "source": [
    "### In case I need it later"
   ]
  },
  {
   "cell_type": "raw",
   "id": "1618cc71-89dc-46e0-8b73-2e94559aeb9f",
   "metadata": {},
   "source": [
    "# going to leave a bunch of stuff here in case I need it later\n",
    "\n",
    "w1 = model8.linear_relu_stack[0].weight.data\n",
    "b1 = model8.linear_relu_stack[0].bias.data\n",
    "w2 = model8.linear_relu_stack[2].weight.data\n",
    "b2 = model8.linear_relu_stack[2].bias.data\n",
    "\n",
    "w1_q = model4.linear_relu_stack[0].weight.data\n",
    "w1_qq = model4.linear_relu_stack[0].weight.data\n",
    "b1_q = model4.linear_relu_stack[0].bias.data\n",
    "b1_qq = model4.linear_relu_stack[0].bias.data\n",
    "w2_q = model4.linear_relu_stack[2].weight.data\n",
    "w2_qq = model4.linear_relu_stack[2].weight.data\n",
    "b2_q = model4.linear_relu_stack[2].bias.data\n",
    "b2_qq = model4.linear_relu_stack[2].bias.data\n",
    "\n",
    "w1_alpha, w1_beta = torch.tensor([ k.min() for k in w1.data]).mean(), torch.tensor([k.max() for k in w1.data]).mean()\n",
    "b1_alpha, b1_beta = b1.data.min(), b1.data.max()\n",
    "w2_alpha, w2_beta = torch.tensor([ k.min() for k in w2.data]).mean(), torch.tensor([k.max() for k in w2.data]).mean()\n",
    "b2_alpha, b2_beta = b2.data.min(), b2.data.max()\n",
    "\n",
    "w1_beta = (w1_alpha.abs() + w1_beta)/2\n",
    "b1_beta = (b1_alpha.abs() + b1_beta)/2\n",
    "w2_beta = (w2_alpha.abs() + w2_beta)/2\n",
    "b2_beta = (b2_alpha.abs() + b2_beta)/2\n",
    "\n",
    "w1_qq = torch.tensor(x4(w1_qq.detach().numpy())()).float()\n",
    "w1_s = 2**find_best_exp(w1_beta.item())\n",
    "w1_q = torch.tensor(x4(w1_q.detach().numpy()* w1_s)()).float()\n",
    "\n",
    "b1_qq = torch.tensor(x4(b1_qq.detach().numpy())()).float()\n",
    "b1_s = 2**find_best_exp(b1_beta.item())\n",
    "b1_q = torch.tensor(x4(b1_q.detach().numpy()* b1_s)()).float()\n",
    "\n",
    "w2_qq = torch.tensor(x4(w2_qq.detach().numpy())()).float()\n",
    "w2_s = 2**find_best_exp(w2_beta.item())\n",
    "w2_q = torch.tensor(x4(w2_q.detach().numpy()* w2_s)()).float()\n",
    "\n",
    "b2_qq = torch.tensor(x4(b2_qq.detach().numpy())()).float()\n",
    "b2_s = 2**find_best_exp(b2_beta.item())\n",
    "b2_q = torch.tensor(x4(b2_q.detach().numpy()* b2_s)()).float()\n",
    "\n"
   ]
  },
  {
   "cell_type": "code",
   "execution_count": null,
   "id": "91d01fff-29ba-43f8-9397-2985e2ce67c6",
   "metadata": {},
   "outputs": [],
   "source": []
  }
 ],
 "metadata": {
  "kernelspec": {
   "display_name": "Python 3 (ipykernel)",
   "language": "python",
   "name": "python3"
  },
  "language_info": {
   "codemirror_mode": {
    "name": "ipython",
    "version": 3
   },
   "file_extension": ".py",
   "mimetype": "text/x-python",
   "name": "python",
   "nbconvert_exporter": "python",
   "pygments_lexer": "ipython3",
   "version": "3.12.2"
  }
 },
 "nbformat": 4,
 "nbformat_minor": 5
}
