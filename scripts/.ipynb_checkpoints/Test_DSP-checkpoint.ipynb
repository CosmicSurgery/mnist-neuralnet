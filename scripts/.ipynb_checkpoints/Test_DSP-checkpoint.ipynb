{
 "cells": [
  {
   "cell_type": "code",
   "execution_count": 213,
   "id": "460fa587-0ec9-4719-bf2e-cf84e3595527",
   "metadata": {},
   "outputs": [],
   "source": [
    "import numpy as np\n",
    "from fxpmath import Fxp\n",
    "import time"
   ]
  },
  {
   "cell_type": "code",
   "execution_count": 114,
   "id": "5629ed35-bf96-4117-81b0-14476c112d3a",
   "metadata": {},
   "outputs": [
    {
     "name": "stdout",
     "output_type": "stream",
     "text": [
      "7 12 2 0\n",
      "7 12 2 0\n"
     ]
    }
   ],
   "source": [
    "a = Fxp(7, dtype='U4.0')\n",
    "w = Fxp(2, dtype='S4.0')\n",
    "p = Fxp(255, dtype = 'S8.0')\n",
    "\n",
    "a1 = a.copy()\n",
    "a2 = a(12).copy()\n",
    "w1 = w.copy()\n",
    "w2 = w(0).copy()\n",
    "print(a1, a2, w1, w2)\n",
    "print(a1, a2, w1, w2)"
   ]
  },
  {
   "cell_type": "code",
   "execution_count": 105,
   "id": "b8f4962c-a74a-48b6-8176-112a0288fa9a",
   "metadata": {},
   "outputs": [
    {
     "name": "stdout",
     "output_type": "stream",
     "text": [
      "14.0 0.0 24.0 0.0\n",
      "00001110 00000000 00011000 00000000\n"
     ]
    }
   ],
   "source": [
    "prod1, prod2, prod3, prod4 = p(a1*w1)(), p(a1*w2)(), p(a2*w1)(), p(a2*w2)()\n",
    "print(p(prod1)(), p(prod2)(), p(prod3)(), p(prod4)())\n",
    "print(p(prod1).bin(), p(prod2).bin(), p(prod3).bin(), p(prod4).bin())"
   ]
  },
  {
   "cell_type": "code",
   "execution_count": 43,
   "id": "d9ecb57a-361c-4ebd-ac67-f5275ad6b508",
   "metadata": {},
   "outputs": [],
   "source": [
    "A_port = Fxp(0, dtype='S25.0')\n",
    "D_port = Fxp(0, dtype='S25.0')\n",
    "B_port = Fxp(0, dtype='U18.0')\n",
    "P_port = Fxp(0, dtype='S48.0')"
   ]
  },
  {
   "cell_type": "code",
   "execution_count": 66,
   "id": "84f6c3db-3aeb-4703-98ce-f5bb118ff64e",
   "metadata": {},
   "outputs": [
    {
     "name": "stdout",
     "output_type": "stream",
     "text": [
      "0b0000000000000000000000000 0b0000000000000000000000000 0b000000000000000000\n",
      "0b0000000000000011100000111 0b000000000000000010\n",
      "1799 2\n"
     ]
    },
    {
     "data": {
      "text/plain": [
       "(array(3598, dtype=object), '000000000000000000000000000000000000111000001110')"
      ]
     },
     "execution_count": 66,
     "metadata": {},
     "output_type": "execute_result"
    }
   ],
   "source": [
    "A = '0b' + '0'*25\n",
    "D = '0b' + '0'*25\n",
    "B = '0b' + '0'*18\n",
    "print(A,D,B)\n",
    "offset=8\n",
    "A = A[:-4] + a1.bin()\n",
    "A = A[:-(4+offset)] + a1.bin() + A[-(offset):]\n",
    "B = B[:-4] + w1.bin()\n",
    "\n",
    "B = B[:-4] + w1.bin()\n",
    "A_port(A)\n",
    "B_port(B)\n",
    "print(A,B)\n",
    "print(A_port(A), B_port(B))\n",
    "P_port(A_port(A)*B_port(B))(), P_port(A_port(A)*B_port(B)).bin()"
   ]
  },
  {
   "cell_type": "code",
   "execution_count": 54,
   "id": "68b6f1f2-6a96-435e-8a9c-24e0471789ea",
   "metadata": {},
   "outputs": [
    {
     "name": "stdout",
     "output_type": "stream",
     "text": [
      "0b0000000000000011100000111\n"
     ]
    },
    {
     "data": {
      "text/plain": [
       "(None, 27)"
      ]
     },
     "execution_count": 54,
     "metadata": {},
     "output_type": "execute_result"
    }
   ],
   "source": [
    "print(A), len(A)"
   ]
  },
  {
   "cell_type": "code",
   "execution_count": 169,
   "id": "d40e3c4c-8b4c-419b-bb9f-6565db23e544",
   "metadata": {},
   "outputs": [],
   "source": [
    "a1, z2, w1, w2 = 7, 12, 1, 1"
   ]
  },
  {
   "cell_type": "code",
   "execution_count": 178,
   "id": "e22c8fb2-3ec5-45da-b1a1-85ac2f7ec524",
   "metadata": {},
   "outputs": [
    {
     "name": "stdout",
     "output_type": "stream",
     "text": [
      "0b0000000000000000000000111 7\n",
      "0b0000011000000000000000000 786432\n",
      "0b0000011000000000000000111 786439\n",
      "0b000000000100000001 257\n",
      "000000000000000000001100000011000000011100000111 1799\n",
      "7 7 12 12\n",
      "00000111 00000111 00001100 00001100\n",
      "00000111 00000111 00001100 00001100\n",
      "SUCCESS\n"
     ]
    }
   ],
   "source": [
    "a = Fxp(7, dtype='U4.0')\n",
    "w = Fxp(2, dtype='S4.0')\n",
    "p = Fxp(255, dtype = 'S8.0')\n",
    "offset = 8\n",
    "a1 = a(a1).copy()\n",
    "a2 = a(a2).copy()\n",
    "w1 = w(w1).copy()\n",
    "w2 = w(w2).copy()\n",
    "\n",
    "A_port = Fxp(0, dtype='S25.0')\n",
    "D_port = Fxp(0, dtype='S25.0')\n",
    "B_port = Fxp(0, dtype='U18.0')\n",
    "P_port = Fxp(0, dtype='S48.0')\n",
    "\n",
    "A = '0b' + '0'*25\n",
    "D = '0b' + '0'*25\n",
    "B = '0b' + '0'*18\n",
    "\n",
    "A = A[:-4] + a1.bin()\n",
    "D = D[:-(4+offset*2)] + a2.bin() + D[-(offset*2):]\n",
    "\n",
    "B = B[:-4] + w1.bin()\n",
    "B = B[:-(4+offset)] + w2.bin() + B[-(offset):]\n",
    "\n",
    "P = P_port(A_port(A_port(A)+D_port(D))*B_port(B)).bin()\n",
    "print(A, A_port(A))\n",
    "print(D, A_port(D))\n",
    "print('0b'+ A_port(A_port(A)+D_port(D)).bin(), A_port(A_port(A)+D_port(D)))\n",
    "print(B, B_port(B))\n",
    "print(P, P_port(A_port(A)*B_port(B))())\n",
    "print(p(prod1)(), p(prod2)(), p(prod3)(), p(prod4)())\n",
    "print(p(prod1).bin(), p(prod2).bin(), p(prod3).bin(), p(prod4).bin())\n",
    "print(P[-offset:], P[-offset*2:-(offset)], P[-offset*3:-offset*2], P[-offset*4:-offset*3])\n",
    "    \n",
    "\n",
    "prod1, prod2, prod3, prod4 = p(a1*w1)(), p(a1*w2)(), p(a2*w1)(), p(a2*w2)()\n",
    "if (p(prod1).bin(), p(prod2).bin(), p(prod3).bin(), p(prod4).bin()) != (P[-offset:], P[-offset*2:-(offset)], P[-offset*3:-offset*2], P[-offset*4:-offset*3]):\n",
    "    print(\"FAIL\")\n",
    "else:\n",
    "    print(\"SUCCESS\")"
   ]
  },
  {
   "cell_type": "code",
   "execution_count": 197,
   "id": "deac746e-2fd1-478e-9f78-96de327c763d",
   "metadata": {},
   "outputs": [],
   "source": [
    "a = Fxp(7, dtype='U4.0')\n",
    "w = Fxp(2, dtype='S4.0')\n",
    "p = Fxp(255, dtype = 'S8.0')\n",
    "offset = 8\n",
    "a1 = a(a1).copy()\n",
    "a2 = a(a2).copy()\n",
    "w1 = w(w1).copy()\n",
    "w2 = w(w2).copy()\n",
    "\n",
    "A_port = Fxp(0, dtype='S25.0')\n",
    "D_port = Fxp(0, dtype='S25.0')\n",
    "B_port = Fxp(0, dtype='U18.0')\n",
    "P_port = Fxp(0, dtype='S48.0')\n",
    "\n",
    "A = '0b' + '0'*25\n",
    "D = '0b' + '0'*25\n",
    "B = '0b' + '0'*18\n",
    "\n",
    "A = A[:-4] + a1.bin()\n",
    "D = D[:-(4+offset*2)] + a2.bin() + D[-(offset*2):]\n",
    "\n",
    "B = B[:-4] + w1.bin()\n",
    "B = B[:-(4+offset)] + w2.bin() + B[-(offset):]\n",
    "\n",
    "P1 = P_port(A_port(A_port(A)+D_port(D))*B_port(B))\n",
    "P2 = P_port(A_port(a1()+a2()*2**offset)*B_port(w1()+w2()*2**offset))"
   ]
  },
  {
   "cell_type": "code",
   "execution_count": 198,
   "id": "5e22bd22-9a0b-4c0b-a87c-0c8296be9282",
   "metadata": {},
   "outputs": [
    {
     "data": {
      "text/plain": [
       "(fxp-s48/0(791303), fxp-s48/0(791303))"
      ]
     },
     "execution_count": 198,
     "metadata": {},
     "output_type": "execute_result"
    }
   ],
   "source": [
    "P1,P2"
   ]
  },
  {
   "cell_type": "code",
   "execution_count": 175,
   "id": "d3308b60-d25f-4cfc-802e-bb4cef4aa68e",
   "metadata": {},
   "outputs": [
    {
     "data": {
      "text/plain": [
       "fxp-s25/0(786439)"
      ]
     },
     "execution_count": 175,
     "metadata": {},
     "output_type": "execute_result"
    }
   ],
   "source": [
    "A_port(A_port+D_port)"
   ]
  },
  {
   "cell_type": "code",
   "execution_count": 183,
   "id": "72f9cec9-c6d6-43ee-b74f-0dce7357eb5a",
   "metadata": {},
   "outputs": [],
   "source": [
    "a = Fxp(7, dtype='U4.0')\n",
    "w = Fxp(2, dtype='S4.0')\n",
    "p = Fxp(255, dtype = 'S8.0')\n",
    "A_port = Fxp(0, dtype='S25.0')\n",
    "D_port = Fxp(0, dtype='S25.0')\n",
    "B_port = Fxp(0, dtype='U18.0')\n",
    "P_port = Fxp(0, dtype='S48.0')\n",
    "A = '0b' + '0'*25\n",
    "D = '0b' + '0'*25\n",
    "B = '0b' + '0'*18\n",
    "params = (\n",
    "    a, w, p, A_port, D_port, B_port, P_port, A, D, B\n",
    ")\n",
    "# params = (\n",
    "#         Fxp(7, dtype='U4.0'), Fxp(2, dtype='S4.0'), Fxp(255, dtype = 'S8.0'),\n",
    "#         Fxp(0, dtype='S25.0'), Fxp(0, dtype='S25.0'), Fxp(0, dtype='U18.0'),\n",
    "#         Fxp(0, dtype='S48.0'))"
   ]
  },
  {
   "cell_type": "code",
   "execution_count": 199,
   "id": "133d0af7-ee10-41ce-874e-9a113db2a0a5",
   "metadata": {},
   "outputs": [],
   "source": [
    "def model_dsp(a1, a2, w1, w2, params, offset = 8, DEBUG_MODE= False):\n",
    "    a, w, p, A_port, D_port, B_port, P_port, A, D, B = params\n",
    "        \n",
    "    # a = Fxp(7, dtype='U4.0')\n",
    "    # w = Fxp(2, dtype='S4.0')\n",
    "    # p = Fxp(255, dtype = 'S8.0')\n",
    "    \n",
    "    a1 = a(a1).copy()\n",
    "    a2 = a(a2).copy()\n",
    "    w1 = w(w1).copy()\n",
    "    w2 = w(w2).copy()\n",
    "\n",
    "    prod1, prod2, prod3, prod4 = p(a1()*w1)(), p(a1*w2)(), p(a2*w1)(), p(a2*w2)()\n",
    "    \n",
    "    # A_port = Fxp(0, dtype='S25.0')\n",
    "    # D_port = Fxp(0, dtype='S25.0')\n",
    "    # B_port = Fxp(0, dtype='U18.0')\n",
    "    # P_port = Fxp(0, dtype='S48.0')\n",
    "    \n",
    "    # A = '0b' + '0'*25\n",
    "    # D = '0b' + '0'*25\n",
    "    # B = '0b' + '0'*18\n",
    "    \n",
    "    A = A[:-4] + a1.bin()\n",
    "    D = D[:-(4+offset*2)] + a2.bin() + D[-(offset*2):]\n",
    "    \n",
    "    B = B[:-4] + w1.bin()\n",
    "    B = B[:-(4+offset)] + w2.bin() + B[-(offset):]\n",
    "\n",
    "    P = P_port(A_port(A_port(A)+D_port(D))*B_port(B)).bin()\n",
    "\n",
    "    if DEBUG_MODE:\n",
    "        print(A, A_port(A))\n",
    "        print(D, A_port(D))\n",
    "        print('0b'+ A_port(A_port(A)+D_port(D)).bin(), A_port(A_port(A)+D_port(D)))\n",
    "        print(B, B_port(B))\n",
    "        print(P, P_port(A_port(A)*B_port(B))())\n",
    "        print(p(prod1)(), p(prod2)(), p(prod3)(), p(prod4)())\n",
    "        print(p(prod1).bin(), p(prod2).bin(), p(prod3).bin(), p(prod4).bin())\n",
    "        print(P[-offset:], P[-offset*2:-(offset)], P[-offset*3:-offset*2], P[-offset*4:-offset*3])\n",
    "        \n",
    "    if (p(prod1).bin(), p(prod2).bin(), p(prod3).bin(), p(prod4).bin()) != (P[-offset:], P[-offset*2:-(offset)], P[-offset*3:-offset*2], P[-offset*4:-offset*3]):\n",
    "        if DEBUG_MODE:\n",
    "           print(\"FAIL\")\n",
    "        return False\n",
    "    else:\n",
    "        if DEBUG_MODE:\n",
    "            print(\"SUCCESS\")\n",
    "        return True\n",
    "\n",
    "    "
   ]
  },
  {
   "cell_type": "code",
   "execution_count": 674,
   "id": "228a31a3-3eac-4e1f-9818-69c0515ba245",
   "metadata": {},
   "outputs": [],
   "source": [
    "a = Fxp(7, dtype='U4.0')\n",
    "w = Fxp(2, dtype='S4.0')\n",
    "p = Fxp(255, dtype = 'S8.0')\n",
    "mr = Fxp(0, dtype = 'U1.0')\n",
    "\n",
    "A_port = Fxp(0, dtype='S25.0')\n",
    "D_port = Fxp(0, dtype='S25.0')\n",
    "B_port = Fxp(0, dtype='U18.0')\n",
    "C_port = Fxp(0, dtype='S48.0')\n",
    "\n",
    "P_port = Fxp(0, dtype='S48.0')\n",
    "\n",
    "A = '0b' + '0'*25\n",
    "D = '0b' + '0'*25\n",
    "B = '0b' + '0'*18\n",
    "P = '0b' + '0'*48\n",
    "params = (\n",
    "    a, w, p, A_port, D_port, B_port, C_port, P_port, A, D, B \n",
    ")"
   ]
  },
  {
   "cell_type": "code",
   "execution_count": 672,
   "id": "e48e0282-84db-47a5-bb45-f1dc2a9b40e4",
   "metadata": {},
   "outputs": [
    {
     "data": {
      "text/plain": [
       "'10'"
      ]
     },
     "execution_count": 672,
     "metadata": {},
     "output_type": "execute_result"
    }
   ],
   "source": [
    "mr = Fxp(0, dtype = 'U2.0')\n",
    "mr('0b00')\n",
    "mr((1-3)%4).bin()"
   ]
  },
  {
   "cell_type": "code",
   "execution_count": null,
   "id": "0b671605-8886-4e1c-a193-b24211ff00ea",
   "metadata": {},
   "outputs": [],
   "source": [
    "\n",
    "'001'+'01' = '010'!'001' -> -'01' (0,0)\n",
    "'001'+'10' = '011'!'010' -> -'01' (1,0)\n",
    "'001'+'11' = '100'!'011' -> -'01' (2,0)\n",
    "'010'+'01' = '011'!'001' -> -'10' (1,0)\n",
    "'010'+'10' = '100'!'010' -> -'10' (0,0)\n",
    "'010'+'11' = '101'!'011' -> -'10' (1,0)\n",
    "'011'+'01' = '100'!'001' -> -'11' (2,0)\n",
    "'011'+'10' = '101'!'010' -> -'11' (1,0)\n",
    "'011'+'11' = '110'!'011' -> -'11' (0,0)"
   ]
  },
  {
   "cell_type": "code",
   "execution_count": 633,
   "id": "9702a337-5769-4783-8ba1-2769a804f486",
   "metadata": {},
   "outputs": [
    {
     "data": {
      "text/plain": [
       "2"
      ]
     },
     "execution_count": 633,
     "metadata": {},
     "output_type": "execute_result"
    }
   ],
   "source": [
    "offset = 7\n",
    "out_size=8\n",
    "modulo = 2**(out_size-offset) if offset < 8 else 1\n",
    "\n",
    "modulo"
   ]
  },
  {
   "cell_type": "code",
   "execution_count": 673,
   "id": "34c79a24-f409-40fb-b860-a720baa0d05d",
   "metadata": {},
   "outputs": [],
   "source": [
    "def fast_model_dsp(a1, a2, w1, w2, params, offset = 8, DEBUG_MODE= False, BIT_RECOVERY=False):\n",
    "    a, w, p, A_port, D_port, B_port, C_port, P_port, A, D, B = params\n",
    "    # if offset != 8:\n",
    "    #     p = Fxp(255, dtype = f'S{offset}.0')\n",
    "    out_size = len(p.bin()) # output should be 8 bits\n",
    "    modulo = 2**(out_size-offset) if offset < 8 else 1\n",
    "    errors = np.zeros(4)\n",
    "    EP = np.zeros(4)\n",
    "    prod1, prod2, prod3, prod4 = p(a1*w1)(), p(a2*w1)(), p(a1*w2)(), p(a2*w2)()\n",
    "    P = P_port(A_port(w1+w2*(2**(offset*2)))*B_port(a1+a2*(2**offset)))\n",
    "\n",
    "\n",
    "        \n",
    "    \n",
    "    if DEBUG_MODE:\n",
    "        print(A_port(), B_port())\n",
    "        print('A port', A_port(w1), A_port(A_port(w1)).bin())\n",
    "        print('D port', A_port(w*(2**(offset*2))),A_port(w2*(2**(2*offset))).bin())\n",
    "        print('A+D port', A_port(w1+w2*(2**(offset*2))),A_port(w1+w2*(2**(offset*2))).bin())\n",
    "        print('B port', B_port(a1+a2*(2**offset)).bin(), B_port(a1+a2*(2**offset)))\n",
    "        print('Pnaive', P.bin(), P())\n",
    "        \n",
    "    if BIT_RECOVERY:\n",
    "        MR2, MR3, MR4 = p((a2*w1)%modulo)(), p((a1*w2)%modulo)(), p((a2*w2)%modulo)()\n",
    "        C = C_port(MR2*(2**offset) + MR3*(2**(offset*2))+ MR4*(2**(offset*3)))\n",
    "        P = P_port(P - C)\n",
    "        \n",
    "    if DEBUG_MODE:\n",
    "        print('P port', P.bin(), P())\n",
    "        if BIT_RECOVERY:\n",
    "            print('C port', C.bin(), C())\n",
    "            print(MR2, MR3, MR4)\n",
    "            print(p((a2*w1))(), p((a1*w2))(), p((a2*w2))())\n",
    "        print(p(prod1)(), p(prod2)(), p(prod3)(), p(prod4)())\n",
    "        print(p(prod1).bin(), p(prod2).bin(), p(prod3).bin(), p(prod4).bin())\n",
    "        print(P.bin()[-out_size:], P.bin()[-out_size-offset:-(offset)], P.bin()[-out_size-(offset*2):-offset*2], P.bin()[-out_size-(offset*3):-offset*3])    \n",
    "\n",
    "    if p(prod1).bin() != P.bin()[-out_size:]:\n",
    "        errors[0]= abs(p(prod1)() - p('0b' + P.bin()[-out_size:])())\n",
    "        EP[0] = 1\n",
    "        if DEBUG_MODE:\n",
    "            print('error1')\n",
    "    if p(prod2).bin() != P.bin()[-out_size-offset:-(offset)]:\n",
    "        errors[1]= abs(p(prod2)() - p('0b' + P.bin()[-out_size-offset:-(offset)])())\n",
    "        EP[1] = 1\n",
    "        if DEBUG_MODE:\n",
    "            print('error2')\n",
    "    if p(prod3).bin() != P.bin()[-out_size-(offset*2):-offset*2]:\n",
    "        errors[2]= abs(p(prod3)() - p('0b' + P.bin()[-out_size-(offset*2):-offset*2])())\n",
    "        EP[2] = 1\n",
    "        if DEBUG_MODE:\n",
    "            print('error3')\n",
    "    if p(prod4).bin() !=  P.bin()[-out_size-(offset*3):-offset*3]:\n",
    "        errors[3]= abs(p(prod4)() - p('0b' + P.bin()[-out_size-(offset*3):-offset*3])())\n",
    "        EP[3] = 1\n",
    "        if DEBUG_MODE:\n",
    "            print('error4')\n",
    "\n",
    "    return EP, errors\n",
    "\n",
    "    \n",
    "    "
   ]
  },
  {
   "cell_type": "code",
   "execution_count": 652,
   "id": "1c5815bd-a152-4a58-ae0b-aaf1b3744ef8",
   "metadata": {},
   "outputs": [],
   "source": [
    "a1=12\n",
    "a2=11\n",
    "w1=-5\n",
    "w2=6"
   ]
  },
  {
   "cell_type": "code",
   "execution_count": 653,
   "id": "da131f41-cfcd-4375-9610-a8259d55f236",
   "metadata": {},
   "outputs": [
    {
     "data": {
      "text/plain": [
       "(-60, 72, -55, 66)"
      ]
     },
     "execution_count": 653,
     "metadata": {},
     "output_type": "execute_result"
    }
   ],
   "source": [
    "a1*w1, a1*w2, a2*w1, a2*w2\n"
   ]
  },
  {
   "cell_type": "code",
   "execution_count": 654,
   "id": "77e09bc6-a5f6-4527-8933-9f08ec4edcfa",
   "metadata": {},
   "outputs": [
    {
     "name": "stdout",
     "output_type": "stream",
     "text": [
      "98299 1420\n",
      "A port -5 1111111111111111111111011\n",
      "D port 98304 0000000011000000000000000\n",
      "A+D port 98299 0000000010111111111111011\n",
      "B port 000000010110001100 1420\n",
      "Pnaive 000000000000000000001000010100011110010001000100 139584580\n",
      "P port 000000000000000000001000010100011110010001000100 139584580\n",
      "-60 -55 72 66\n",
      "11000100 11001001 01001000 01000010\n",
      "01000100 11001000 01000111 01000010\n",
      "error1\n",
      "error2\n",
      "error3\n",
      "[1. 1. 1. 0.] [128.   1.   1.   0.]\n"
     ]
    }
   ],
   "source": [
    "EP, MAE = 0,0\n",
    "error_nums, errors = fast_model_dsp(a1,a2,w1,w2, params,DEBUG_MODE=True,offset=7, BIT_RECOVERY=False)\n",
    "EP += error_nums\n",
    "MAE += int(sum(errors)) \n",
    "print(error_nums, errors)\n",
    "# print(EP/4, MAE/4)\n",
    "# print(f\"Error rate: {100*EP/((16**4)*4):.2f}%\")\n",
    "# print(f\"Mean Absolute Error : {MAE/((16**4)):.2f}\")"
   ]
  },
  {
   "cell_type": "code",
   "execution_count": 655,
   "id": "69f712b5-22e2-4e9c-baa0-dcf5f4c0f373",
   "metadata": {},
   "outputs": [
    {
     "name": "stdout",
     "output_type": "stream",
     "text": [
      "98299 1420\n",
      "A port -5 1111111111111111111111011\n",
      "D port 98304 0000000011000000000000000\n",
      "A+D port 98299 0000000010111111111111011\n",
      "B port 000000010110001100 1420\n",
      "Pnaive 000000000000000000001000010100011110010001000100 139584580\n",
      "P port 000000000000000000001000010100011110001111000100 139584452\n",
      "C port 000000000000000000000000000000000000000010000000 128\n",
      "1 0 0\n",
      "-55 72 66\n",
      "-60 -55 72 66\n",
      "11000100 11001001 01001000 01000010\n",
      "11000100 11000111 01000111 01000010\n",
      "error2\n",
      "error3\n",
      "[0. 1. 1. 0.] [0. 2. 1. 0.]\n"
     ]
    }
   ],
   "source": [
    "EP, MAE = 0,0\n",
    "error_nums, errors = fast_model_dsp(a1,a2,w1,w2, params,DEBUG_MODE=True,offset=7, BIT_RECOVERY=True)\n",
    "EP += error_nums\n",
    "MAE += int(sum(errors)) \n",
    "print(error_nums, errors)\n",
    "# print(EP/4, MAE/4)\n",
    "# print(f\"Error rate: {100*EP/((16**4)*4):.2f}%\")\n",
    "# print(f\"Mean Absolute Error : {MAE/((16**4)):.2f}\")"
   ]
  },
  {
   "cell_type": "code",
   "execution_count": 666,
   "id": "4b0102d9-55f7-462c-8f14-ae7fe0b7897f",
   "metadata": {},
   "outputs": [
    {
     "ename": "ValueError",
     "evalue": "too many values to unpack (expected 11)",
     "output_type": "error",
     "traceback": [
      "\u001b[1;31m---------------------------------------------------------------------------\u001b[0m",
      "\u001b[1;31mValueError\u001b[0m                                Traceback (most recent call last)",
      "Cell \u001b[1;32mIn[666], line 2\u001b[0m\n\u001b[0;32m      1\u001b[0m EP, MAE \u001b[38;5;241m=\u001b[39m \u001b[38;5;241m0\u001b[39m,\u001b[38;5;241m0\u001b[39m\n\u001b[1;32m----> 2\u001b[0m error_nums, errors \u001b[38;5;241m=\u001b[39m fast_model_dsp(a1,a2,w1,w2, params,DEBUG_MODE\u001b[38;5;241m=\u001b[39m\u001b[38;5;28;01mTrue\u001b[39;00m,offset\u001b[38;5;241m=\u001b[39m\u001b[38;5;241m6\u001b[39m, BIT_RECOVERY\u001b[38;5;241m=\u001b[39m\u001b[38;5;28;01mTrue\u001b[39;00m)\n\u001b[0;32m      3\u001b[0m EP \u001b[38;5;241m+\u001b[39m\u001b[38;5;241m=\u001b[39m error_nums\n\u001b[0;32m      4\u001b[0m MAE \u001b[38;5;241m+\u001b[39m\u001b[38;5;241m=\u001b[39m \u001b[38;5;28mint\u001b[39m(\u001b[38;5;28msum\u001b[39m(errors)) \n",
      "Cell \u001b[1;32mIn[656], line 2\u001b[0m, in \u001b[0;36mfast_model_dsp\u001b[1;34m(a1, a2, w1, w2, params, offset, DEBUG_MODE, BIT_RECOVERY)\u001b[0m\n\u001b[0;32m      1\u001b[0m \u001b[38;5;28;01mdef\u001b[39;00m \u001b[38;5;21mfast_model_dsp\u001b[39m(a1, a2, w1, w2, params, offset \u001b[38;5;241m=\u001b[39m \u001b[38;5;241m8\u001b[39m, DEBUG_MODE\u001b[38;5;241m=\u001b[39m \u001b[38;5;28;01mFalse\u001b[39;00m, BIT_RECOVERY\u001b[38;5;241m=\u001b[39m\u001b[38;5;28;01mFalse\u001b[39;00m):\n\u001b[1;32m----> 2\u001b[0m     a, w, p, A_port, D_port, B_port, P_port, A, D, B, P \u001b[38;5;241m=\u001b[39m params\n\u001b[0;32m      3\u001b[0m     \u001b[38;5;66;03m# if offset != 8:\u001b[39;00m\n\u001b[0;32m      4\u001b[0m     \u001b[38;5;66;03m#     p = Fxp(255, dtype = f'S{offset}.0')\u001b[39;00m\n\u001b[0;32m      5\u001b[0m     out_size \u001b[38;5;241m=\u001b[39m \u001b[38;5;28mlen\u001b[39m(p\u001b[38;5;241m.\u001b[39mbin()) \u001b[38;5;66;03m# output should be 8 bits\u001b[39;00m\n",
      "\u001b[1;31mValueError\u001b[0m: too many values to unpack (expected 11)"
     ]
    }
   ],
   "source": [
    "EP, MAE = 0,0\n",
    "error_nums, errors = fast_model_dsp(a1,a2,w1,w2, params,DEBUG_MODE=True,offset=6, BIT_RECOVERY=True)\n",
    "EP += error_nums\n",
    "MAE += int(sum(errors)) \n",
    "print(error_nums, errors)\n",
    "# print(EP/4, MAE/4)\n",
    "# print(f\"Error rate: {100*EP/((16**4)*4):.2f}%\")\n",
    "# print(f\"Mean Absolute Error : {MAE/((16**4)):.2f}\")"
   ]
  },
  {
   "cell_type": "code",
   "execution_count": 191,
   "id": "8d305a9e-b6d9-4505-b579-8f4ae9ede965",
   "metadata": {},
   "outputs": [],
   "source": [
    "a = Fxp(7, dtype='U4.0')\n",
    "w = Fxp(2, dtype='S4.0')\n",
    "p = Fxp(255, dtype = 'S8.0')\n",
    "A_port = Fxp(0, dtype='S25.0')\n",
    "D_port = Fxp(0, dtype='S25.0')\n",
    "B_port = Fxp(0, dtype='U18.0')\n",
    "P_port = Fxp(0, dtype='S48.0')\n",
    "A = '0b' + '0'*25\n",
    "D = '0b' + '0'*25\n",
    "B = '0b' + '0'*18\n",
    "params = (\n",
    "    a, w, p, A_port, D_port, B_port, P_port, A, D, B\n",
    ")"
   ]
  },
  {
   "cell_type": "code",
   "execution_count": 530,
   "id": "e4c44e5f-1808-4f8d-8b95-432202a3e23b",
   "metadata": {},
   "outputs": [
    {
     "name": "stdout",
     "output_type": "stream",
     "text": [
      "num combinations tested: 262144 Time elapsed: 97  seconds\n",
      "Error rate: 37.35%\n",
      "Mean Absolute Error : 0.37\n",
      "Worst Case Error : 1.0\n"
     ]
    }
   ],
   "source": [
    "EP = 0\n",
    "MAE = int(0)\n",
    "WCE = 0\n",
    "error_nums = np.zeros(4)\n",
    "errors = np.zeros(4)\n",
    "\n",
    "start = time.time()\n",
    "a1_range = range(0,16)\n",
    "a2_range = range(0,16)\n",
    "w1_range = range(-8,8)\n",
    "w2_range = range(-8,8)\n",
    "nums = len(a1_range)\n",
    "\n",
    "for a1 in a1_range:\n",
    "    for a2 in a2_range:\n",
    "        for w1 in w1_range:\n",
    "            for w2 in w2_range:\n",
    "                error_nums_, errors_ = fast_model_dsp(a1,a2,w1,w2, params, offset=8)\n",
    "                EP += sum(error_nums_)\n",
    "                MAE += int(sum(errors_))\n",
    "                WCE = max(WCE, *errors_)\n",
    "                errors += errors_\n",
    "                error_nums += error_nums_\n",
    "                if ((a1*nums**3)+(a2*nums**2)+((8+w1)*nums**1)+w2+8+1)%100 == 0:\n",
    "                    finish = time.time()\n",
    "                    print(\"Percent Complete: \", int(((a1*nums**3)+(a2*nums**2)+((8+w1)*nums**1)+w2+8+1)*100/(16**4)), \"Time elapsed: \", int(finish-start), end='\\r')\n",
    "                \n",
    "                # print(int((a1*nums**3)+(a2*nums**2)+((8+w1)*nums**1)+w2+8+1))\n",
    "                    # print(((i*256)+j+1))\n",
    "finish = time.time()\n",
    "print(\"num combinations tested:\", (16**4)*4, \"Time elapsed:\", int(finish-start), \" seconds\")\n",
    "# print(f\"There were {EP} failures.\")\n",
    "# print(f\"There were {cycles_w_error} cycles with error.\")\n",
    "print(f\"Error rate: {100*EP/((16**4)*4):.2f}%\")\n",
    "print(f\"Mean Absolute Error : {MAE/((16**4)*4):.2f}\")\n",
    "print(f\"Worst Case Error : {WCE}\")"
   ]
  },
  {
   "cell_type": "code",
   "execution_count": 457,
   "id": "a5e8499c-8a54-4f69-bc7c-90bab7514f43",
   "metadata": {},
   "outputs": [
    {
     "name": "stdout",
     "output_type": "stream",
     "text": [
      "Error rate: 37.35%\n",
      "Mean Absolute Error : 0.37%\n"
     ]
    }
   ],
   "source": [
    "print(f\"Error rate: {100*EP/((16**4)*4):.2f}%\")\n",
    "print(f\"Mean Absolute Error : {MAE/((16**4)*4):.2f}%\")"
   ]
  },
  {
   "cell_type": "code",
   "execution_count": 539,
   "id": "5f994b8e-c372-44ef-97c8-928d588ac39c",
   "metadata": {
    "scrolled": true
   },
   "outputs": [
    {
     "name": "stdout",
     "output_type": "stream",
     "text": [
      "num combinations tested: 262144 Time elapsed: 110  seconds\n",
      "Error rate: 49.85%\n",
      "Mean Absolute Error : 24.28\n",
      "Worst Case Error : 129.0\n"
     ]
    }
   ],
   "source": [
    "EP = 0\n",
    "MAE = int(0)\n",
    "WCE = 0\n",
    "error_nums = np.zeros(4)\n",
    "errors = np.zeros(4)\n",
    "\n",
    "start = time.time()\n",
    "a1_range = range(0,16)\n",
    "a2_range = range(0,16)\n",
    "w1_range = range(-8,8)\n",
    "w2_range = range(-8,8)\n",
    "nums = len(a1_range)\n",
    "\n",
    "for a1 in a1_range:\n",
    "    for a2 in a2_range:\n",
    "        for w1 in w1_range:\n",
    "            for w2 in w2_range:\n",
    "                error_nums_, errors_ = fast_model_dsp(a1,a2,w1,w2, params, offset=7)\n",
    "                EP += sum(error_nums_)\n",
    "                MAE += int(sum(errors_))\n",
    "                WCE = max(WCE, *errors_)\n",
    "                errors += errors_\n",
    "                error_nums += error_nums_\n",
    "                if ((a1*nums**3)+(a2*nums**2)+((8+w1)*nums**1)+w2+8+1)%100 == 0:\n",
    "                    finish = time.time()\n",
    "                    print(\"Percent Complete: \", int(((a1*nums**3)+(a2*nums**2)+((8+w1)*nums**1)+w2+8+1)*100/(16**4)), \"Time elapsed: \", int(finish-start), end='\\r')\n",
    "                \n",
    "                # print(int((a1*nums**3)+(a2*nums**2)+((8+w1)*nums**1)+w2+8+1))\n",
    "                    # print(((i*256)+j+1))\n",
    "finish = time.time()\n",
    "print(\"num combinations tested:\", (16**4)*4, \"Time elapsed:\", int(finish-start), \" seconds\")\n",
    "# print(f\"There were {EP} failures.\")\n",
    "# print(f\"There were {cycles_w_error} cycles with error.\")\n",
    "print(f\"Error rate: {100*EP/((16**4)*4):.2f}%\")\n",
    "print(f\"Mean Absolute Error : {MAE/((16**4)*4):.2f}\")\n",
    "print(f\"Worst Case Error : {WCE}\")"
   ]
  },
  {
   "cell_type": "code",
   "execution_count": 540,
   "id": "3b3673ac-3a24-45ea-a7cf-ae8ad777925c",
   "metadata": {},
   "outputs": [],
   "source": [
    "error_nums1 = error_nums"
   ]
  },
  {
   "cell_type": "code",
   "execution_count": 541,
   "id": "2b4132fe-4c50-4fa4-bff1-4da47bd24539",
   "metadata": {},
   "outputs": [
    {
     "data": {
      "text/plain": [
       "array([16384., 38912., 40832., 34560.])"
      ]
     },
     "execution_count": 541,
     "metadata": {},
     "output_type": "execute_result"
    }
   ],
   "source": [
    "error_nums1"
   ]
  },
  {
   "cell_type": "code",
   "execution_count": 514,
   "id": "ae0c08bb-4ded-40f8-82b0-f2bdd2181d00",
   "metadata": {},
   "outputs": [
    {
     "name": "stdout",
     "output_type": "stream",
     "text": [
      "Error rate: 49.854%\n",
      "Mean Absolute Error : 24.278\n"
     ]
    }
   ],
   "source": [
    "\n",
    "print(f\"Error rate: {100*EP/((16**4)*4):.3f}%\")\n",
    "print(f\"Mean Absolute Error : {MAE/((16**4)*4):.3f}\")"
   ]
  },
  {
   "cell_type": "code",
   "execution_count": 542,
   "id": "589889e2-c00a-4908-9bb5-5f0076ea068d",
   "metadata": {},
   "outputs": [
    {
     "name": "stdout",
     "output_type": "stream",
     "text": [
      "num combinations tested: 262144 Time elapsed: 126  seconds\n",
      "Error rate: 64.90%\n",
      "Mean Absolute Error : 37.96\n",
      "Worst Case Error : 194.0\n"
     ]
    }
   ],
   "source": [
    "EP = 0\n",
    "MAE = int(0)\n",
    "WCE = 0\n",
    "error_nums = np.zeros(4)\n",
    "errors = np.zeros(4)\n",
    "\n",
    "start = time.time()\n",
    "a1_range = range(0,16)\n",
    "a2_range = range(0,16)\n",
    "w1_range = range(-8,8)\n",
    "w2_range = range(-8,8)\n",
    "nums = len(a1_range)\n",
    "\n",
    "for a1 in a1_range:\n",
    "    for a2 in a2_range:\n",
    "        for w1 in w1_range:\n",
    "            for w2 in w2_range:\n",
    "                error_nums_, errors_ = fast_model_dsp(a1,a2,w1,w2, params, offset=6)\n",
    "                EP += sum(error_nums_)\n",
    "                MAE += int(sum(errors_))\n",
    "                WCE = max(WCE, *errors_)\n",
    "                errors += errors_\n",
    "                error_nums += error_nums_\n",
    "                if ((a1*nums**3)+(a2*nums**2)+((8+w1)*nums**1)+w2+8+1)%100 == 0:\n",
    "                    finish = time.time()\n",
    "                    print(\"Percent Complete: \", int(((a1*nums**3)+(a2*nums**2)+((8+w1)*nums**1)+w2+8+1)*100/(16**4)), \"Time elapsed: \", int(finish-start), end='\\r')\n",
    "                \n",
    "                # print(int((a1*nums**3)+(a2*nums**2)+((8+w1)*nums**1)+w2+8+1))\n",
    "                    # print(((i*256)+j+1))\n",
    "finish = time.time()\n",
    "print(\"num combinations tested:\", (16**4)*4, \"Time elapsed:\", int(finish-start), \" seconds\")\n",
    "# print(f\"There were {EP} failures.\")\n",
    "# print(f\"There were {cycles_w_error} cycles with error.\")\n",
    "print(f\"Error rate: {100*EP/((16**4)*4):.2f}%\")\n",
    "print(f\"Mean Absolute Error : {MAE/((16**4)*4):.2f}\")\n",
    "print(f\"Worst Case Error : {WCE}\")"
   ]
  },
  {
   "cell_type": "code",
   "execution_count": 543,
   "id": "fe8058a2-e579-499b-badc-480048fa67fc",
   "metadata": {},
   "outputs": [
    {
     "data": {
      "text/plain": [
       "array([32768., 48640., 50584., 38143.])"
      ]
     },
     "execution_count": 543,
     "metadata": {},
     "output_type": "execute_result"
    }
   ],
   "source": [
    "error_nums2 = error_nums\n",
    "error_nums2"
   ]
  },
  {
   "cell_type": "code",
   "execution_count": 551,
   "id": "dc59ecec-465b-4de9-80a8-2399a9d8ffab",
   "metadata": {},
   "outputs": [
    {
     "name": "stdout",
     "output_type": "stream",
     "text": [
      "num combinations tested: 262144 Time elapsed: 121  seconds\n",
      "Error rate: 78.27%\n",
      "Mean Absolute Error : 45.53\n",
      "Worst Case Error : 228.0\n"
     ]
    }
   ],
   "source": [
    "EP = 0\n",
    "MAE = int(0)\n",
    "WCE = 0\n",
    "error_nums = np.zeros(4)\n",
    "errors = np.zeros(4)\n",
    "\n",
    "start = time.time()\n",
    "a1_range = range(0,16)\n",
    "a2_range = range(0,16)\n",
    "w1_range = range(-8,8)\n",
    "w2_range = range(-8,8)\n",
    "nums = len(a1_range)\n",
    "\n",
    "for a1 in a1_range:\n",
    "    for a2 in a2_range:\n",
    "        for w1 in w1_range:\n",
    "            for w2 in w2_range:\n",
    "                error_nums_, errors_ = fast_model_dsp(a1,a2,w1,w2, params, offset=5)\n",
    "                EP += sum(error_nums_)\n",
    "                MAE += int(sum(errors_))\n",
    "                WCE = max(WCE, *errors_)\n",
    "                errors += errors_\n",
    "                error_nums += error_nums_\n",
    "                if ((a1*nums**3)+(a2*nums**2)+((8+w1)*nums**1)+w2+8+1)%100 == 0:\n",
    "                    finish = time.time()\n",
    "                    print(\"Percent Complete: \", int(((a1*nums**3)+(a2*nums**2)+((8+w1)*nums**1)+w2+8+1)*100/(16**4)), \"Time elapsed: \", int(finish-start), end='\\r')\n",
    "                \n",
    "                # print(int((a1*nums**3)+(a2*nums**2)+((8+w1)*nums**1)+w2+8+1))\n",
    "                    # print(((i*256)+j+1))\n",
    "finish = time.time()\n",
    "print(\"num combinations tested:\", (16**4)*4, \"Time elapsed:\", int(finish-start), \" seconds\")\n",
    "# print(f\"There were {EP} failures.\")\n",
    "# print(f\"There were {cycles_w_error} cycles with error.\")\n",
    "print(f\"Error rate: {100*EP/((16**4)*4):.2f}%\")\n",
    "print(f\"Mean Absolute Error : {MAE/((16**4)*4):.2f}\")\n",
    "print(f\"Worst Case Error : {WCE}\")"
   ]
  },
  {
   "cell_type": "code",
   "execution_count": 552,
   "id": "007489cb-a8d0-4772-9628-4a4387e9634f",
   "metadata": {},
   "outputs": [
    {
     "data": {
      "text/plain": [
       "array([45056., 56352., 58294., 45468.])"
      ]
     },
     "execution_count": 552,
     "metadata": {},
     "output_type": "execute_result"
    }
   ],
   "source": [
    "error_nums3 = error_nums\n",
    "error_nums3"
   ]
  },
  {
   "cell_type": "code",
   "execution_count": 550,
   "id": "faa2f017-e1f5-441d-8c93-9a39740a7a2c",
   "metadata": {},
   "outputs": [
    {
     "data": {
      "text/plain": [
       "(16, 16, 16, 16)"
      ]
     },
     "execution_count": 550,
     "metadata": {},
     "output_type": "execute_result"
    }
   ],
   "source": [
    "len(a1_range), len(a2_range), len(w1_range), len(w2_range)"
   ]
  },
  {
   "cell_type": "code",
   "execution_count": 548,
   "id": "bf7e6463-4ad8-4fe2-9153-f7cad406f4d7",
   "metadata": {},
   "outputs": [
    {
     "data": {
      "text/plain": [
       "0.6490135192871094"
      ]
     },
     "execution_count": 548,
     "metadata": {},
     "output_type": "execute_result"
    }
   ],
   "source": [
    "EP/16/16/16/16/4"
   ]
  },
  {
   "cell_type": "code",
   "execution_count": 515,
   "id": "253a9657-646d-41a0-9580-693f492e7641",
   "metadata": {},
   "outputs": [
    {
     "name": "stdout",
     "output_type": "stream",
     "text": [
      "Error rate: 49.85%\n",
      "Mean Absolute Error : 24.28\n"
     ]
    }
   ],
   "source": [
    "\n",
    "print(f\"Error rate: {100*EP/((16**4)*4):.2f}%\")\n",
    "print(f\"Mean Absolute Error : {MAE/((16**4)*4):.2f}\")"
   ]
  },
  {
   "cell_type": "code",
   "execution_count": 649,
   "id": "6c17d539-fac7-417b-9d2e-f6788eccc610",
   "metadata": {},
   "outputs": [
    {
     "name": "stdout",
     "output_type": "stream",
     "text": [
      "num combinations tested: 262144 Time elapsed: 176  seconds\n",
      "Error rate: 46.95%\n",
      "Mean Absolute Error : 0.56\n",
      "Worst Case Error : 2.0\n"
     ]
    }
   ],
   "source": [
    "EP = 0\n",
    "MAE = int(0)\n",
    "WCE = 0\n",
    "error_nums = np.zeros(4)\n",
    "errors = np.zeros(4)\n",
    "\n",
    "start = time.time()\n",
    "a1_range = range(0,16)\n",
    "a2_range = range(0,16)\n",
    "w1_range = range(-8,8)\n",
    "w2_range = range(-8,8)\n",
    "nums = len(a1_range)\n",
    "\n",
    "for a1 in a1_range:\n",
    "    for a2 in a2_range:\n",
    "        for w1 in w1_range:\n",
    "            for w2 in w2_range:\n",
    "                error_nums_, errors_ = fast_model_dsp(a1,a2,w1,w2, params, offset=7, BIT_RECOVERY=True)\n",
    "                EP += sum(error_nums_)\n",
    "                MAE += int(sum(errors_))\n",
    "                WCE = max(WCE, *errors_)\n",
    "                errors += errors_\n",
    "                error_nums += error_nums_\n",
    "                if ((a1*nums**3)+(a2*nums**2)+((8+w1)*nums**1)+w2+8+1)%100 == 0:\n",
    "                    finish = time.time()\n",
    "                    print(\"Percent Complete: \", int(((a1*nums**3)+(a2*nums**2)+((8+w1)*nums**1)+w2+8+1)*100/(16**4)), \"Time elapsed: \", int(finish-start), end='\\r')\n",
    "                \n",
    "                # print(int((a1*nums**3)+(a2*nums**2)+((8+w1)*nums**1)+w2+8+1))\n",
    "                    # print(((i*256)+j+1))\n",
    "finish = time.time()\n",
    "print(\"num combinations tested:\", (16**4)*4, \"Time elapsed:\", int(finish-start), \" seconds\")\n",
    "# print(f\"There were {EP} failures.\")\n",
    "# print(f\"There were {cycles_w_error} cycles with error.\")\n",
    "print(f\"Error rate: {100*EP/((16**4)*4):.2f}%\")\n",
    "print(f\"Mean Absolute Error : {MAE/((16**4)*4):.2f}\")\n",
    "print(f\"Worst Case Error : {WCE}\")"
   ]
  },
  {
   "cell_type": "code",
   "execution_count": 647,
   "id": "76dbff24-4e04-4bd2-a74f-f70655b96ce8",
   "metadata": {},
   "outputs": [
    {
     "data": {
      "text/plain": [
       "array([1., 1., 1., 1.])"
      ]
     },
     "execution_count": 647,
     "metadata": {},
     "output_type": "execute_result"
    }
   ],
   "source": [
    "error_nums_"
   ]
  },
  {
   "cell_type": "code",
   "execution_count": 382,
   "id": "f5040681-af3d-4b71-be97-e14ae64f7d21",
   "metadata": {},
   "outputs": [
    {
     "name": "stdout",
     "output_type": "stream",
     "text": [
      "Error rate: 6.32%\n"
     ]
    }
   ],
   "source": [
    "print(f\"Error rate: {100*counter/((16**4)*4):.2f}%\")"
   ]
  },
  {
   "cell_type": "code",
   "execution_count": 369,
   "id": "47f880b2-2b0d-4fb2-8165-262bd531879d",
   "metadata": {},
   "outputs": [
    {
     "data": {
      "text/plain": [
       "94"
      ]
     },
     "execution_count": 369,
     "metadata": {},
     "output_type": "execute_result"
    }
   ],
   "source": [
    "((a1*nums**3)+(a2*nums**2)+((8+w1)*nums**1)+w2+8+1)%100"
   ]
  },
  {
   "cell_type": "code",
   "execution_count": 373,
   "id": "77927f1e-6572-4cd1-a240-a5e709c8bc3e",
   "metadata": {},
   "outputs": [],
   "source": [
    "a1,a2,w1,w2 = 0,0,-7,-8"
   ]
  },
  {
   "cell_type": "code",
   "execution_count": null,
   "id": "aa274730-bbe6-4b9b-b233-c17b5869e262",
   "metadata": {},
   "outputs": [],
   "source": [
    "int((a1*a1_range[1]**3)+(a2*a1_range[1]**2)+((8+w1)*a1_range[1])+w2+8+1)"
   ]
  },
  {
   "cell_type": "code",
   "execution_count": 353,
   "id": "ff1fb650-1bea-4812-9443-e9f1a93a915a",
   "metadata": {},
   "outputs": [
    {
     "data": {
      "text/plain": [
       "1"
      ]
     },
     "execution_count": 353,
     "metadata": {},
     "output_type": "execute_result"
    }
   ],
   "source": [
    "((8+w1)*a1_range[1])"
   ]
  }
 ],
 "metadata": {
  "kernelspec": {
   "display_name": "Python 3 (ipykernel)",
   "language": "python",
   "name": "python3"
  },
  "language_info": {
   "codemirror_mode": {
    "name": "ipython",
    "version": 3
   },
   "file_extension": ".py",
   "mimetype": "text/x-python",
   "name": "python",
   "nbconvert_exporter": "python",
   "pygments_lexer": "ipython3",
   "version": "3.12.2"
  }
 },
 "nbformat": 4,
 "nbformat_minor": 5
}
