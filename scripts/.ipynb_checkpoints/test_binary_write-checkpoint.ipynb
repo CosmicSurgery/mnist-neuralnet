{
 "cells": [
  {
   "cell_type": "code",
   "execution_count": 1,
   "id": "1fb89ead-5381-4a69-aeea-818cc0192794",
   "metadata": {},
   "outputs": [],
   "source": [
    "import struct\n",
    "\n",
    "# Define two 32-bit words\n",
    "word1 = 0x12345678\n",
    "word2 = 0x9ABCDEF0\n",
    "\n",
    "# Open the file in binary write mode\n",
    "with open(\"test.bin\", \"wb\") as file:\n",
    "    # Pack the 32-bit words into binary format and write them to the file\n",
    "    file.write(struct.pack('<I', word1))\n",
    "    file.write(struct.pack('<I', word2))\n"
   ]
  },
  {
   "cell_type": "code",
   "execution_count": null,
   "id": "6a9400e6-3f64-4667-a938-44dc1f54afab",
   "metadata": {},
   "outputs": [],
   "source": []
  }
 ],
 "metadata": {
  "kernelspec": {
   "display_name": "Python 3 (ipykernel)",
   "language": "python",
   "name": "python3"
  },
  "language_info": {
   "codemirror_mode": {
    "name": "ipython",
    "version": 3
   },
   "file_extension": ".py",
   "mimetype": "text/x-python",
   "name": "python",
   "nbconvert_exporter": "python",
   "pygments_lexer": "ipython3",
   "version": "3.12.2"
  }
 },
 "nbformat": 4,
 "nbformat_minor": 5
}
