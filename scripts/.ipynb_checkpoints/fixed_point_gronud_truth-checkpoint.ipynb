{
 "cells": [
  {
   "cell_type": "markdown",
   "id": "31e44feb-0207-43f3-9d93-cd0d8eaaee33",
   "metadata": {},
   "source": [
    "# This script runs a prototype feed-forward prototype of the neural network that will be run on a zybo fpga. The script will produce a c-compatible file with values representations stored in (hex??). \n",
    "\n",
    "### Todo\n",
    "- [ ] convert decimal to binary.\n",
    "- [ ] create a binary multiplier function (optimal?)\n",
    "- [ ] choose a prototype architecture and store relevant results in a certain format.\n",
    "- [ ] Decide how software/hardware fixed-point results will be compared to verify correct implementation on hardware? Do i need to do it in C on the Zynq?\n",
    "\n",
    "### Outstanding Questions\n",
    "\n",
    "- How should I implement the multiplier in python?"
   ]
  },
  {
   "cell_type": "markdown",
   "id": "dd121146-37cf-47b0-b541-39d84adf7e8d",
   "metadata": {},
   "source": [
    "## How to choose an architecture?\n",
    "my bit representation is S4.27 -> meaning I have a two's complement sign bit, 4 integer bits and 27 fractional bits.\n",
    "\n",
    "What does this mean?\n",
    "- fractional resolution is: 0.00000000372529029846\n",
    "    - I can represent 7 fractional digits accurately?\n",
    "Biggest magnitude number I can represent is +/- (16 - 0.00000000372529029846) Right?\n",
    "This is probably overkill. Would be worthwhile looking at reviews of fixed point precision compared to various metrics.\n",
    "\n",
    "I will stick with this convention for this milestone, but can try different conventions for future milestones."
   ]
  },
  {
   "cell_type": "code",
   "execution_count": 1,
   "id": "27e281dd-9bf8-47d6-af43-05b6469e1936",
   "metadata": {},
   "outputs": [],
   "source": [
    "import numpy as np\n",
    "from fxpmath import Fxp"
   ]
  },
  {
   "cell_type": "code",
   "execution_count": 2,
   "id": "b9603780-257c-4aa4-8bae-3c4269024944",
   "metadata": {},
   "outputs": [
    {
     "name": "stdout",
     "output_type": "stream",
     "text": [
      "00001101000101111000101000111110111001000101111101\n"
     ]
    }
   ],
   "source": [
    "# Thank you Chatgpt!!!\n",
    "def twos_complement(bin_str):\n",
    "    \"\"\"Returns the two's complement of a binary string.\"\"\"\n",
    "    # Invert the bits\n",
    "    inverted = ''.join('1' if bit == '0' else '0' for bit in bin_str)\n",
    "    # Add 1 to the inverted binary string\n",
    "    carry = 1\n",
    "    result = list(inverted)\n",
    "    \n",
    "    for i in range(len(inverted) - 1, -1, -1):\n",
    "        if result[i] == '1' and carry == 1:\n",
    "            result[i] = '0'\n",
    "        elif result[i] == '0' and carry == 1:\n",
    "            result[i] = '1'\n",
    "            carry = 0\n",
    "        # No carry to add; break early\n",
    "        if carry == 0:\n",
    "            break\n",
    "    \n",
    "    return ''.join(result)\n",
    "\n",
    "def add_binary(bin_str1, bin_str2):\n",
    "    \"\"\"Adds two binary strings and returns the result as a binary string, \n",
    "    handling overflow by setting the result to the max/min value depending on overflow direction.\"\"\"\n",
    "    max_len = max(len(bin_str1), len(bin_str2))\n",
    "    bin_str1 = bin_str1.zfill(max_len)\n",
    "    bin_str2 = bin_str2.zfill(max_len)\n",
    "    \n",
    "    carry = 0\n",
    "    result = []\n",
    "    \n",
    "    # Perform bitwise addition from LSB to MSB\n",
    "    for i in range(max_len - 1, -1, -1):\n",
    "        bit_sum = carry + int(bin_str1[i]) + int(bin_str2[i])\n",
    "        result.append(str(bit_sum % 2))\n",
    "        carry = bit_sum // 2\n",
    "    \n",
    "    result = ''.join(result[::-1])  # Reverse the result to get the correct order\n",
    "    \n",
    "    # Check for overflow\n",
    "    sign1 = bin_str1[0]  # Sign bit of the first number\n",
    "    sign2 = bin_str2[0]  # Sign bit of the second number\n",
    "    result_sign = result[0]  # Sign bit of the result\n",
    "\n",
    "    # Overflow occurs if both numbers have the same sign but the result has a different sign\n",
    "    if sign1 == sign2 and sign1 != result_sign:\n",
    "        if sign1 == '0':  # Positive overflow\n",
    "            result = '0' + '1' * (max_len - 1)  # Max positive value: 011...111\n",
    "        else:  # Negative overflow\n",
    "            result = '1' + '0' * (max_len - 1)  # Max negative value: 100...000\n",
    "    \n",
    "    return result\n",
    "\n",
    "\n",
    "def manual_binary_multiply(bin_str1, bin_str2):\n",
    "    \"\"\"Multiplies two binary strings in two's complement format manually.\"\"\"\n",
    "    # Check for sign and convert to positive if necessary\n",
    "    is_negative1 = bin_str1[0] == '1'\n",
    "    is_negative2 = bin_str2[0] == '1'\n",
    "    \n",
    "    if is_negative1:\n",
    "        bin_str1 = twos_complement(bin_str1)\n",
    "    if is_negative2:\n",
    "        bin_str2 = twos_complement(bin_str2)\n",
    "\n",
    "    # Perform binary multiplication (manual)\n",
    "    len1 = len(bin_str1)\n",
    "    len2 = len(bin_str2)\n",
    "    result = '0' * (len1 + len2)\n",
    "    \n",
    "    for i in range(len2 - 1, -1, -1):\n",
    "        if bin_str2[i] == '1':\n",
    "            # Shift bin_str1 by (len2 - 1 - i) and add to the result\n",
    "            shifted_bin_str1 = bin_str1 + '0' * (len2 - 1 - i)\n",
    "            result = add_binary(result, shifted_bin_str1.zfill(len1 + len2))\n",
    "    \n",
    "    # Determine the sign of the result\n",
    "    if is_negative1 != is_negative2:\n",
    "        result = twos_complement(result.zfill(len1 + len2))\n",
    "\n",
    "    # Truncate the result to the appropriate length (len1 + len2 bits)\n",
    "    return result[-(len1 + len2):]\n",
    "\n",
    "# Example usage:\n",
    "bin_str1 = \"1101101011010100010110101\"  # -3 in 4-bit two's complement\n",
    "bin_str2 = \"1010010111010101010101001\"  # -6 in 4-bit two's complement\n",
    "\n",
    "result = manual_binary_multiply(bin_str1, bin_str2)\n",
    "print(result)  # 8-bit result in two's complement binary format\n"
   ]
  },
  {
   "cell_type": "code",
   "execution_count": 3,
   "id": "5eff147b-8a37-490b-bba2-bc335cac8166",
   "metadata": {},
   "outputs": [
    {
     "data": {
      "text/plain": [
       "'01000'"
      ]
     },
     "execution_count": 3,
     "metadata": {},
     "output_type": "execute_result"
    }
   ],
   "source": [
    "bin_str1 = \"11011\"  # -3 in 4-bit two's complement\n",
    "bin_str2 = \"01101\"  # -6 in 4-bit two's complement\n",
    "\n",
    "add_binary(bin_str1, bin_str2)"
   ]
  },
  {
   "cell_type": "raw",
   "id": "f77d1250-d4a1-4df7-a512-f83752652146",
   "metadata": {},
   "source": [
    "[ ]     [ ] -     \n",
    "img     [ ] -     [   ] relu -> output\n",
    "        [ ] -     \n",
    "        percept   \n",
    "783     3?        \n"
   ]
  },
  {
   "cell_type": "code",
   "execution_count": 4,
   "id": "97e6c74a-347c-4f64-bf22-86b2b576a141",
   "metadata": {},
   "outputs": [
    {
     "data": {
      "text/plain": [
       "array([[ 6.73228651,  7.07324733, -3.68733121]])"
      ]
     },
     "execution_count": 4,
     "metadata": {},
     "output_type": "execute_result"
    }
   ],
   "source": [
    "# weights 784x3\n",
    "# bias    1x3\n",
    "# img     1x784\n",
    "# a =  ( img x weights ) + bias\n",
    "# a       1x3\n",
    "x32 = Fxp(-7.25, dtype='S5.27')\n",
    "x64 = Fxp(-7.25, dtype='S10.54')\n",
    "len(x32.bin()), len(x64.bin())\n",
    "\n",
    "num_perceptrons = 3\n",
    "\n",
    "weights = (np.random.rand(784,num_perceptrons)*2) - 1\n",
    "img = (np.random.rand(1,784) * 2) -1\n",
    "bias = (np.random.rand(num_perceptrons) * 2) -1\n",
    "result = np.zeros(num_perceptrons)\n",
    "\n",
    "result = (img @ weights) + bias\n",
    "result # this is the ground truth"
   ]
  },
  {
   "cell_type": "code",
   "execution_count": null,
   "id": "5066e005-3ab1-4999-b9d2-90bb6d2d2a52",
   "metadata": {},
   "outputs": [],
   "source": [
    "\n",
    "num_perceptrons = 3\n",
    "input_size = 784\n",
    "\n",
    "weights = (np.random.rand(input_size,num_perceptrons)*2) - 1\n",
    "img = (np.random.rand(1,input_size) * 2) -1\n",
    "bias = (np.random.rand(num_perceptrons) * 2) -1\n",
    "result = np.zeros(num_perceptrons)\n"
   ]
  },
  {
   "cell_type": "code",
   "execution_count": 242,
   "id": "55d39195-44b6-4cbd-af7b-d9bc0675859e",
   "metadata": {
    "scrolled": true
   },
   "outputs": [
    {
     "name": "stdout",
     "output_type": "stream",
     "text": [
      "['7.793696379438765', '-8.965723633055742', '-8.610708774236429']\n",
      "['7.793696397364666', '-8.96572372365305', '-8.610708905584614']\n"
     ]
    }
   ],
   "source": [
    "\n",
    "result = (img @ weights) + bias\n",
    "result # this is the ground truth\n",
    "\n",
    "\n",
    "a_tdata = []\n",
    "for j in range(num_perceptrons):\n",
    "    b = x64(bias[j]).bin()\n",
    "    acc = b\n",
    "    for i in range(input_size):\n",
    "        w,x  = x32(weights[i,j]).bin(), x32(img[0,i]).bin()\n",
    "        p = manual_binary_multiply(w,x)\n",
    "        acc = add_binary(acc,p)\n",
    "\n",
    "        # floating point calc\n",
    "        \n",
    "    \n",
    "    print(f'{j/num_perceptrons}%',end='\\r')\n",
    "    a_tdata.append(acc)\n",
    "\n",
    "print([str(x64(f'0b{k}')) for k in a_tdata])\n",
    "print([str(k) for k in result.squeeze()])"
   ]
  },
  {
   "cell_type": "code",
   "execution_count": 132,
   "id": "7339234b-36a9-44c9-aa92-7a552ee289e6",
   "metadata": {},
   "outputs": [
    {
     "name": "stdout",
     "output_type": "stream",
     "text": [
      "00000011111010001011010101010111 00000010100101001011011001011111\n",
      "11111100000101110100101010101001 11111101011010110100100110100001\n",
      "0000000000001010000101101011110001101000100100110010010101001001\n",
      "11111001111011100000101010110010 11111011011001110100000110110010\n",
      "00000110000100011111010101001110 00000100100110001011111001001110\n",
      "0000000000011011111001110000001000001011110110001010000111000100\n",
      "00000000010001100111000000101110 11111101001010011100100001011011\n",
      "11111111101110011000111111010010 00000010110101100011011110100101\n",
      "1111111111111111001110000010111010001110000010111101000001011010\n",
      "00000011101000110100101100010000 00000110100010010011110111011000\n",
      "11111100010111001011010011110000 11111001011101101100001000101000\n",
      "0000000000010111110001110000011010000110001110100010010110000000\n"
     ]
    }
   ],
   "source": [
    "for i in range(4):\n",
    "    # print(x32(weights[i,0]).bin(), x32(img[0,i]).bin())\n",
    "    # print(twos_complement(x32(weights[i,0]).bin()), twos_complement(x32(img[0,i]).bin()))\n",
    "    # print(weights[i,0] * img[0,i])\n",
    "    # print(x64(weights[i,0] * img[0,i]).bin(frac_dot=True))\n",
    "    # print(manual_binary_multiply(x32(weights[i,0]).bin(),x32(img[0,i]).bin()))"
   ]
  },
  {
   "cell_type": "code",
   "execution_count": 104,
   "id": "6c642031-a580-4f0b-8da8-ec8c0fe98914",
   "metadata": {},
   "outputs": [
    {
     "data": {
      "text/plain": [
       "13473926"
      ]
     },
     "execution_count": 104,
     "metadata": {},
     "output_type": "execute_result"
    }
   ],
   "source": [
    "multiply(*fitlen(x,y))"
   ]
  },
  {
   "cell_type": "code",
   "execution_count": 93,
   "id": "33e1b55c-4ccc-4de8-ad2c-8c15be822990",
   "metadata": {},
   "outputs": [
    {
     "data": {
      "text/plain": [
       "(32, 64)"
      ]
     },
     "execution_count": 93,
     "metadata": {},
     "output_type": "execute_result"
    }
   ],
   "source": [
    "x32 = Fxp(-7.25, dtype='S5.27')\n",
    "x64 = Fxp(-7.25, dtype='S10.54')\n",
    "len(x32.bin()), len(x64.bin())"
   ]
  },
  {
   "cell_type": "code",
   "execution_count": null,
   "id": "acf42b16-c23a-43cc-9953-77f7c5b6db8f",
   "metadata": {},
   "outputs": [],
   "source": [
    "0.15763769352323159234"
   ]
  }
 ],
 "metadata": {
  "kernelspec": {
   "display_name": "Python 3 (ipykernel)",
   "language": "python",
   "name": "python3"
  },
  "language_info": {
   "codemirror_mode": {
    "name": "ipython",
    "version": 3
   },
   "file_extension": ".py",
   "mimetype": "text/x-python",
   "name": "python",
   "nbconvert_exporter": "python",
   "pygments_lexer": "ipython3",
   "version": "3.12.2"
  }
 },
 "nbformat": 4,
 "nbformat_minor": 5
}
