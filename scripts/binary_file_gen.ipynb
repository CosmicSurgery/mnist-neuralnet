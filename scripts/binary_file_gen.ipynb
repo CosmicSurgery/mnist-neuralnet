{
 "cells": [
  {
   "cell_type": "code",
   "execution_count": 9,
   "id": "e51a216d-f5b7-44ea-85f9-f9e4c67e50a5",
   "metadata": {},
   "outputs": [],
   "source": [
    "import torch\n",
    "from torch import nn\n",
    "from torch.utils.data import Dataset\n",
    "from torchvision import datasets\n",
    "from torch.utils.data import DataLoader\n",
    "from torchvision.transforms import ToTensor\n",
    "import matplotlib.pyplot as plt\n",
    "import seaborn as sns\n",
    "import numpy as np\n",
    "import time\n",
    "import struct\n"
   ]
  },
  {
   "cell_type": "code",
   "execution_count": 11,
   "id": "f8ccd87e-5f0b-4c6c-9df5-24c36a2cab45",
   "metadata": {},
   "outputs": [],
   "source": [
    "training_data = datasets.MNIST(\n",
    "    root=\"data\",\n",
    "    train=True,\n",
    "    download=True,\n",
    "    transform=ToTensor()\n",
    ")\n",
    "test_data = datasets.MNIST(\n",
    "    root=\"data\",\n",
    "    train=False,\n",
    "    download=True,\n",
    "    transform=ToTensor()\n",
    ")\n",
    "\n",
    "def get_data(training_data, test_data):\n",
    "    return (\n",
    "        DataLoader(training_data), #, shuffle=True),\n",
    "        DataLoader(test_data),\n",
    "    )\n",
    "\n",
    "train_dl, valid_dl = get_data(training_data, test_data)\n",
    "train_dataloader = DataLoader(training_data, batch_size=1)\n",
    "test_dataloader = DataLoader(test_data, batch_size=1)"
   ]
  },
  {
   "cell_type": "code",
   "execution_count": 63,
   "id": "14dc5ccf-cdf2-49d8-a814-83e2123dd6f0",
   "metadata": {},
   "outputs": [],
   "source": [
    "folder = 'debug_files'"
   ]
  },
  {
   "cell_type": "code",
   "execution_count": 66,
   "id": "b80e5782-7b16-4bc2-b770-e0c82e63c004",
   "metadata": {
    "scrolled": true
   },
   "outputs": [
    {
     "name": "stdout",
     "output_type": "stream",
     "text": [
      "1.0\r"
     ]
    }
   ],
   "source": [
    "training_data = training_data.data.reshape(60000,784)\n",
    "training_data.data.shape\n",
    "\n",
    "with open('/'.join((folder,\"debug.bin\")), \"wb\") as file:\n",
    "    counter = 0\n",
    "    for img in training_data.data[:1]:\n",
    "        for k in img:\n",
    "            file.write(struct.pack('<I', k))\n",
    "            counter +=1\n",
    "        print(counter/784,end='\\r')"
   ]
  },
  {
   "cell_type": "code",
   "execution_count": null,
   "id": "c9cb228b-dd8c-4b3d-a106-d8db6b7a136b",
   "metadata": {},
   "outputs": [],
   "source": []
  },
  {
   "cell_type": "code",
   "execution_count": 61,
   "id": "a57e8981-01d9-459d-babe-c4dc5009487f",
   "metadata": {},
   "outputs": [
    {
     "data": {
      "text/plain": [
       "1.0"
      ]
     },
     "execution_count": 61,
     "metadata": {},
     "output_type": "execute_result"
    }
   ],
   "source": [
    "counter/(60000*784)"
   ]
  },
  {
   "cell_type": "code",
   "execution_count": 57,
   "id": "29a07744-d5fd-4b2d-ba9e-1ec80f03cebb",
   "metadata": {},
   "outputs": [
    {
     "name": "stdout",
     "output_type": "stream",
     "text": [
      "188.16 MB\n"
     ]
    }
   ],
   "source": [
    "print(f\"{(784*32*60000)/8000000} MB\")"
   ]
  },
  {
   "cell_type": "code",
   "execution_count": 2,
   "id": "1fb89ead-5381-4a69-aeea-818cc0192794",
   "metadata": {},
   "outputs": [],
   "source": [
    "import struct\n",
    "\n",
    "# Define two 32-bit words\n",
    "word1 = 0x12345678\n",
    "word2 = 0x9ABCDEF0\n",
    "\n",
    "# Open the file in binary write mode\n",
    "with open(\"test.bin\", \"wb\") as file:\n",
    "    # Pack the 32-bit words into binary format and write them to the file\n",
    "    file.write(struct.pack('<I', word1))\n",
    "    file.write(struct.pack('<I', word2))\n"
   ]
  },
  {
   "cell_type": "code",
   "execution_count": 8,
   "id": "6a9400e6-3f64-4667-a938-44dc1f54afab",
   "metadata": {},
   "outputs": [
    {
     "data": {
      "text/plain": [
       "b'\\x01\\x00\\x00\\x00'"
      ]
     },
     "execution_count": 8,
     "metadata": {},
     "output_type": "execute_result"
    }
   ],
   "source": [
    "struct.pack('<I', 1)"
   ]
  },
  {
   "cell_type": "code",
   "execution_count": null,
   "id": "32b461f9-4207-4ce0-a0a5-f51e49c098c4",
   "metadata": {},
   "outputs": [],
   "source": []
  }
 ],
 "metadata": {
  "kernelspec": {
   "display_name": "Python 3 (ipykernel)",
   "language": "python",
   "name": "python3"
  },
  "language_info": {
   "codemirror_mode": {
    "name": "ipython",
    "version": 3
   },
   "file_extension": ".py",
   "mimetype": "text/x-python",
   "name": "python",
   "nbconvert_exporter": "python",
   "pygments_lexer": "ipython3",
   "version": "3.12.2"
  }
 },
 "nbformat": 4,
 "nbformat_minor": 5
}
