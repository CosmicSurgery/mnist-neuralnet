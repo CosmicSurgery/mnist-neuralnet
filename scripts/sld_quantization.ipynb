{
 "cells": [
  {
   "cell_type": "code",
   "execution_count": 1,
   "id": "b3b14cd2-7bc3-49f4-a3b4-856ca4d6addc",
   "metadata": {},
   "outputs": [],
   "source": [
    "# import packages\n",
    "import torch\n",
    "from torch import nn\n",
    "from torchvision import datasets\n",
    "from torchvision.transforms import ToTensor\n",
    "from torch.utils.data import DataLoader\n",
    "\n",
    "from datetime import datetime\n",
    "import numpy as np\n",
    "import time\n",
    "from fxpmath import Fxp\n",
    "import os\n",
    "import json\n"
   ]
  },
  {
   "cell_type": "code",
   "execution_count": 15,
   "id": "a8313ef0-08f6-4524-a2d6-362a4e4b0da2",
   "metadata": {},
   "outputs": [
    {
     "name": "stdout",
     "output_type": "stream",
     "text": [
      "Using cpu device\n",
      "Shape of X [N, C, H, W]: torch.Size([1, 1, 28, 28])\n",
      "Shape of y: torch.Size([1]) torch.int64\n"
     ]
    }
   ],
   "source": [
    "INPUT_SIZE=784\n",
    "DEBUG_MODE = True\n",
    "NETWORK_PARAMETERS = [10,10]\n",
    "\n",
    "device = (\n",
    "    \"cuda\"\n",
    "    if torch.cuda.is_available()\n",
    "    else \"mps\"\n",
    "    if torch.backends.mps.is_available()\n",
    "    else \"cpu\"\n",
    ")\n",
    "print(f\"Using {device} device\")\n",
    "\n",
    "training_data = datasets.MNIST(\n",
    "    root=\"data\",\n",
    "    train=True,\n",
    "    download=True,\n",
    "    transform=ToTensor()\n",
    ")\n",
    "test_data = datasets.MNIST(\n",
    "    root=\"data\",\n",
    "    train=False,\n",
    "    download=True,\n",
    "    transform=ToTensor()\n",
    ")\n",
    "batch_size = 1\n",
    "epochs = 20\n",
    "\n",
    "# Create data loaders.\n",
    "train_dataloader = DataLoader(training_data, batch_size=batch_size)\n",
    "test_dataloader = DataLoader(test_data, batch_size=batch_size)\n",
    "\n",
    "for X, y in test_dataloader:\n",
    "    print(f\"Shape of X [N, C, H, W]: {X.shape}\")\n",
    "    print(f\"Shape of y: {y.shape} {y.dtype}\")\n",
    "    break"
   ]
  },
  {
   "cell_type": "code",
   "execution_count": 11,
   "id": "16baf073-a827-432a-88e0-9799f16cf872",
   "metadata": {},
   "outputs": [],
   "source": [
    "# Define model\n",
    "class NeuralNetwork(nn.Module):\n",
    "    def __init__(self, network_parameters):\n",
    "        super().__init__()\n",
    "        self.flatten = nn.Flatten()\n",
    "        layers = []\n",
    "        \n",
    "        for i in range(len(network_parameters)-1):\n",
    "            layers.append(nn.Linear(network_parameters[i], network_parameters[i+1]))\n",
    "            layers.append(nn.ReLU())\n",
    "        layers.pop()\n",
    "        \n",
    "        self.linear_relu_stack = nn.Sequential(*layers)\n",
    "\n",
    "    def forward(self, x):\n",
    "        x = self.flatten(x)\n",
    "        logits = self.linear_relu_stack(x)\n",
    "        return logits"
   ]
  },
  {
   "cell_type": "code",
   "execution_count": 8,
   "id": "96e3eafb-0fff-4bff-91ac-8fd73d231302",
   "metadata": {},
   "outputs": [
    {
     "name": "stdout",
     "output_type": "stream",
     "text": [
      "NeuralNetwork(\n",
      "  (flatten): Flatten(start_dim=1, end_dim=-1)\n",
      "  (linear_relu_stack): Sequential(\n",
      "    (0): Linear(in_features=784, out_features=10, bias=True)\n",
      "    (1): ReLU()\n",
      "    (2): Linear(in_features=10, out_features=10, bias=True)\n",
      "  )\n",
      ")\n"
     ]
    }
   ],
   "source": [
    "print(NeuralNetwork().to(device))"
   ]
  },
  {
   "cell_type": "code",
   "execution_count": 9,
   "id": "33feb2e8-9371-42a6-96de-cc70970ce0d0",
   "metadata": {},
   "outputs": [
    {
     "data": {
      "text/plain": [
       "<All keys matched successfully>"
      ]
     },
     "execution_count": 9,
     "metadata": {},
     "output_type": "execute_result"
    }
   ],
   "source": [
    "# load models based off of original model\n",
    "model32, model16, model8, model4, base_model = (\n",
    "    NeuralNetwork().to(device), NeuralNetwork().to(device), \n",
    "    NeuralNetwork().to(device), NeuralNetwork().to(device), \n",
    "    NeuralNetwork().to(device))\n",
    "\n",
    "model32.load_state_dict(torch.load('model.pth'))\n",
    "model16.load_state_dict(torch.load('model.pth'))\n",
    "model8.load_state_dict(torch.load('model.pth'))\n",
    "model4.load_state_dict(torch.load('model.pth'))\n",
    "base_model.load_state_dict(torch.load('model.pth'))"
   ]
  },
  {
   "cell_type": "code",
   "execution_count": null,
   "id": "25e082e4-20d3-461a-9f9e-097f8f4ba397",
   "metadata": {},
   "outputs": [],
   "source": [
    "# 8-bit quantized with scaling\n",
    "print(gen_q_params(base_model, Qparam)[1])\n",
    "Qparam = Fxp(-7.25, dtype='S1.7', rounding = 'around')\n",
    "QX = Fxp(-7.25, dtype='U0.8', rounding = 'around')\n",
    "Qa = Fxp(-7.25, dtype='U4.4', rounding = 'around')\n",
    "\n",
    "q_test(test_dataloader, base_model, loss_fn, Qparam, QX, Qa)"
   ]
  },
  {
   "cell_type": "code",
   "execution_count": 37,
   "id": "00127ecf-2526-46f2-a1ed-e69d923a57d3",
   "metadata": {},
   "outputs": [
    {
     "name": "stdout",
     "output_type": "stream",
     "text": [
      "[[0.33553973772113804, 0.09931666666666666, 0.3248512745538201, 0.0942], [0.29316183807572743, 0.08668333333333333, 0.28978366724738963, 0.0866], [0.27796080947097324, 0.082, 0.2789721431644962, 0.083], [0.2669441950078242, 0.07865, 0.27028384263985356, 0.0808], [0.256047032730619, 0.0752, 0.26093997801716384, 0.0775], [0.246764031578674, 0.07193333333333334, 0.2529181898054437, 0.075], [0.23953578852742163, 0.06926666666666667, 0.24736393566978232, 0.0738], [0.23351099968208208, 0.06781666666666666, 0.24259186198672322, 0.0728], [0.22839536257505189, 0.06611666666666667, 0.2390780451028616, 0.0721], [0.22410402012269545, 0.06498333333333334, 0.2363454536206094, 0.0708], [0.21881316358701963, 0.06283333333333334, 0.23163932615955954, 0.0694], [0.21561070961935666, 0.06233333333333333, 0.2295843664069299, 0.0693], [0.21250979653157903, 0.06165, 0.22772371553246512, 0.0701], [0.20938364969146656, 0.06088333333333333, 0.2251349902423269, 0.0695], [0.20697142008219827, 0.06021666666666667, 0.22317386358038857, 0.0688], [0.20414886735080492, 0.0595, 0.22132185386196693, 0.0674], [0.20155714464623786, 0.05893333333333333, 0.21970841312266817, 0.0666], [0.1984014983602008, 0.057866666666666663, 0.2174769502077574, 0.0651], [0.19543489990930943, 0.05695, 0.21521534911386944, 0.0641], [0.19333841259179177, 0.05661666666666667, 0.21412254737968264, 0.0636]]\n"
     ]
    }
   ],
   "source": [
    "\n",
    "import json\n",
    "runs_folder = \"runs\"\n",
    "run_name = \"test\\\\11.14.24-[10, 10]\"\n",
    "run_path = \"\\\\\".join((runs_folder, run_name))\n",
    "results_file = \"results.json\"\n",
    "file_path = \"\\\\\".join((run_path, results_file))\n",
    "\n",
    "with open(file_path) as f:\n",
    "    data = json.load(f)\n",
    "print(data)"
   ]
  },
  {
   "cell_type": "code",
   "execution_count": 41,
   "id": "d762316e-ce82-435a-a6bd-e94605251b75",
   "metadata": {},
   "outputs": [
    {
     "name": "stdout",
     "output_type": "stream",
     "text": [
      "{'test1': 'yes'}\n"
     ]
    }
   ],
   "source": [
    "\n",
    "import json\n",
    "runs_folder = \"runs\"\n",
    "run_name = \"test\"\n",
    "run_path = \"\\\\\".join((runs_folder, run_name))\n",
    "results_file = \"results.json\"\n",
    "file_path = \"\\\\\".join((run_path, results_file))\n",
    "\n",
    "with open(file_path) as f:\n",
    "    data = json.load(f)\n",
    "print(data)"
   ]
  },
  {
   "cell_type": "code",
   "execution_count": 3,
   "id": "b30b3b89-669a-4f35-bdbd-560133356258",
   "metadata": {},
   "outputs": [],
   "source": [
    "data = {}\n",
    "data['test'] = 1"
   ]
  },
  {
   "cell_type": "code",
   "execution_count": 43,
   "id": "b1ef0556-1bef-4d8e-93e0-c4b8fbf8806d",
   "metadata": {},
   "outputs": [
    {
     "data": {
      "text/plain": [
       "'yes'"
      ]
     },
     "execution_count": 43,
     "metadata": {},
     "output_type": "execute_result"
    }
   ],
   "source": [
    "data['test1']"
   ]
  },
  {
   "cell_type": "code",
   "execution_count": 57,
   "id": "b7efa008-e2d6-4c89-85ce-68fc585f1d60",
   "metadata": {},
   "outputs": [
    {
     "data": {
      "text/plain": [
       "'0001'"
      ]
     },
     "execution_count": 57,
     "metadata": {},
     "output_type": "execute_result"
    }
   ],
   "source": [
    "test1,test2, test3 = Q_all['4'].values()\n",
    "test1(0.124132).bin()"
   ]
  },
  {
   "cell_type": "code",
   "execution_count": 17,
   "id": "31eb3810-f573-4ec7-a1f2-ed660228c848",
   "metadata": {},
   "outputs": [
    {
     "data": {
      "text/plain": [
       "<All keys matched successfully>"
      ]
     },
     "execution_count": 17,
     "metadata": {},
     "output_type": "execute_result"
    }
   ],
   "source": [
    "# load models based off of original model\n",
    "network_parameters = [784, *params]\n",
    "base_model = NeuralNetwork(network_parameters).to(device)\n",
    "base_model.load_state_dict(torch.load('model.pth'))\n"
   ]
  },
  {
   "cell_type": "code",
   "execution_count": 10,
   "id": "51f25637-7afa-4e32-8ed3-e90fd5cc857c",
   "metadata": {},
   "outputs": [
    {
     "data": {
      "text/plain": [
       "NeuralNetwork(\n",
       "  (flatten): Flatten(start_dim=1, end_dim=-1)\n",
       "  (linear_relu_stack): Sequential(\n",
       "    (0): Linear(in_features=10, out_features=10, bias=True)\n",
       "  )\n",
       ")"
      ]
     },
     "execution_count": 10,
     "metadata": {},
     "output_type": "execute_result"
    }
   ],
   "source": [
    "NeuralNetwork(params)"
   ]
  },
  {
   "cell_type": "code",
   "execution_count": 2,
   "id": "9fbd8786-3dc7-46a9-b1ac-41960d855525",
   "metadata": {},
   "outputs": [],
   "source": [
    "from sld_NN_definitions import run_quant_test"
   ]
  },
  {
   "cell_type": "code",
   "execution_count": 8,
   "id": "4e2cb2b6-54bf-46e7-b267-9052aa34adfe",
   "metadata": {
    "scrolled": true
   },
   "outputs": [
    {
     "data": {
      "text/plain": [
       "OrderedDict([('linear_relu_stack.0.weight',\n",
       "              tensor([[ 0.0263,  0.0101, -0.0240,  ..., -0.0035,  0.0038,  0.0080],\n",
       "                      [ 0.0320,  0.0028,  0.0167,  ...,  0.0104, -0.0133,  0.0211],\n",
       "                      [-0.0164, -0.0353, -0.0323,  ..., -0.0153,  0.0245,  0.0001],\n",
       "                      ...,\n",
       "                      [-0.0116,  0.0240, -0.0182,  ..., -0.0054,  0.0126,  0.0094],\n",
       "                      [-0.0202,  0.0284,  0.0050,  ...,  0.0028, -0.0222,  0.0159],\n",
       "                      [ 0.0075, -0.0162, -0.0207,  ..., -0.0350,  0.0100,  0.0158]])),\n",
       "             ('linear_relu_stack.0.bias',\n",
       "              tensor([-0.0053,  0.2572, -0.2644,  0.4878, -0.0240,  0.2071,  0.2221,  0.2900,\n",
       "                      -0.7614, -0.0948])),\n",
       "             ('linear_relu_stack.2.weight',\n",
       "              tensor([[ 0.1815, -0.4468, -0.2068,  0.5777, -0.8799, -1.6381,  0.8712,  0.4354,\n",
       "                        1.4303, -0.5811],\n",
       "                      [-0.8505, -0.0990,  1.9454, -0.1258, -0.1896,  1.1778, -0.8034, -0.2597,\n",
       "                       -0.9358, -0.0548],\n",
       "                      [ 0.2532, -0.3839,  0.9510,  0.0761, -0.5657, -0.6489,  0.8065,  0.5049,\n",
       "                        0.4213,  1.7580],\n",
       "                      [ 0.2677,  0.4397, -0.1361, -1.1454, -0.6248,  1.1530,  0.0058, -0.0672,\n",
       "                        0.6016,  1.1354],\n",
       "                      [-2.3520,  1.4201, -0.6603,  1.3186,  0.4349,  0.0761, -0.3647, -1.4509,\n",
       "                       -1.2181, -1.0802],\n",
       "                      [ 1.0686, -1.1630, -1.0051,  0.3398,  0.8345,  0.9890, -0.1284,  1.4559,\n",
       "                       -0.1909,  0.2317],\n",
       "                      [-0.1999, -1.1258, -0.2185, -0.0697,  0.3570, -0.2758,  1.7178, -0.8895,\n",
       "                       -0.0579, -1.0288],\n",
       "                      [ 0.5491,  0.9707,  0.6327,  0.8033, -1.1612, -0.9239, -1.4463,  1.2004,\n",
       "                       -1.2214,  1.0492],\n",
       "                      [-0.3250,  0.0645,  0.2405, -0.6238,  1.1149, -0.1586, -0.3371, -0.3043,\n",
       "                        0.5607, -0.1661],\n",
       "                      [ 0.5454,  1.1114, -1.2863, -0.8802,  0.2215,  0.2763, -0.4053, -0.0234,\n",
       "                       -0.5269, -1.6288]])),\n",
       "             ('linear_relu_stack.2.bias',\n",
       "              tensor([-0.4785,  0.6751, -0.3552, -0.2031,  0.4169,  0.4372,  0.1516,  0.2857,\n",
       "                      -0.8599,  0.0329]))])"
      ]
     },
     "execution_count": 8,
     "metadata": {},
     "output_type": "execute_result"
    }
   ],
   "source": [
    "torch.load(\"\\\\\".join((run_path,\"model.pth\")))"
   ]
  },
  {
   "cell_type": "code",
   "execution_count": 3,
   "id": "c394fc63-6956-455d-b9a0-9b078817e389",
   "metadata": {},
   "outputs": [
    {
     "name": "stdout",
     "output_type": "stream",
     "text": [
      "Test Error: \n",
      " Error: 8.8%, Avg loss: 0.281268 \n",
      "\n",
      "Test Error: \n",
      " Error: 6.6%, Avg loss: 0.218366 \n",
      "\n",
      "Test Error: \n",
      " Error: 6.5%, Avg loss: 0.217947 \n",
      "\n",
      "Test Error: \n",
      " Error: 6.5%, Avg loss: 0.217948 \n",
      "\n",
      "success\n"
     ]
    }
   ],
   "source": [
    "#target = 0.5!!!!!\n",
    "params = [10,10]\n",
    "run_path = \"runs\\\\test\\\\11.14.24-[10, 10]\"\n",
    "run_quant_test(params, run_path)"
   ]
  },
  {
   "cell_type": "code",
   "execution_count": 2,
   "id": "fca94888-7409-4e9f-a790-706ce9723935",
   "metadata": {
    "scrolled": true
   },
   "outputs": [
    {
     "name": "stdout",
     "output_type": "stream",
     "text": [
      "Test Error: \n",
      " Error: 8.8%, Avg loss: 0.281268 \n",
      "\n",
      "Test Error: \n",
      " Error: 6.6%, Avg loss: 0.218366 \n",
      "\n",
      "Test Error: \n",
      " Error: 6.5%, Avg loss: 0.217947 \n",
      "\n",
      "Test Error: \n",
      " Error: 6.5%, Avg loss: 0.217948 \n",
      "\n",
      "success\n"
     ]
    }
   ],
   "source": [
    "params = [10,10]\n",
    "run_path = \"runs\\\\test\\\\11.14.24-[10, 10]\"\n",
    "run_quant_test(params, run_path)"
   ]
  },
  {
   "cell_type": "code",
   "execution_count": 37,
   "id": "14371397-3a1d-4d20-860a-08cc35c5820b",
   "metadata": {},
   "outputs": [
    {
     "data": {
      "text/plain": [
       "'11.14.24-[70, 10]'"
      ]
     },
     "execution_count": 37,
     "metadata": {},
     "output_type": "execute_result"
    }
   ],
   "source": [
    "folder"
   ]
  },
  {
   "cell_type": "code",
   "execution_count": 36,
   "id": "3b36861c-2d24-4d2f-9199-90c7c08f74b7",
   "metadata": {},
   "outputs": [
    {
     "data": {
      "text/plain": [
       "'11.14.24-[10, 10]'"
      ]
     },
     "execution_count": 36,
     "metadata": {},
     "output_type": "execute_result"
    }
   ],
   "source": [
    "file"
   ]
  },
  {
   "cell_type": "code",
   "execution_count": 42,
   "id": "e6297e22-992e-4399-8b6c-112a7b311343",
   "metadata": {},
   "outputs": [
    {
     "name": "stdout",
     "output_type": "stream",
     "text": [
      "11.14.24-[10, 10]\n",
      "11.14.24-[150, 10]\n",
      "11.14.24-[159, 10]\n",
      "11.14.24-[19, 10]\n",
      "11.14.24-[310, 10]\n",
      "11.14.24-[319, 10]\n",
      "11.14.24-[59, 10]\n",
      "11.14.24-[70, 10]\n"
     ]
    }
   ],
   "source": [
    "# reformat results in runs\n",
    "import os\n",
    "path = \"\\\\\".join((os.getcwd(), \"runs\\\\11.14\"))\n",
    "dirs = os.listdir(path)[:-1]\n",
    "times = [1744.169890165329, \n",
    "         2289.474810361862,\n",
    "         1962.7274408340454,\n",
    "         1985.5827991962433,\n",
    "         1351.6480293273926,\n",
    "         1818.7104375362396,\n",
    "         1897.5009887218475,\n",
    "         1998.5832197666168]\n",
    "\n",
    "i = 0\n",
    "for folder in dirs:\n",
    "    print(folder)\n",
    "    with open(\"\\\\\".join((path, folder, \"results.json\"))) as f:\n",
    "        data = json.load(f)\n",
    "        # print(f)\n",
    "    new_dir = {}\n",
    "    new_dir['learning_data'] = {}\n",
    "    new_dir['learning_data']['train_loss'] = list(np.array(data).T[0])\n",
    "    new_dir['learning_data']['train_accuracy'] = list(np.array(data).T[1])\n",
    "    new_dir['learning_data']['test_loss'] = list(np.array(data).T[2])\n",
    "    new_dir['learning_data']['test_accuracy'] = list(np.array(data).T[3])\n",
    "    new_dir['learning_data']['total_time'] = times[i]\n",
    "    i= i+1\n",
    "\n",
    "    with open(\"\\\\\".join((path, folder, \"run_data.json\")), \"w\") as f:\n",
    "        json.dump(new_dir, f)\n"
   ]
  },
  {
   "cell_type": "code",
   "execution_count": 89,
   "id": "1418a5d5-1420-4ebd-8a5e-80c2d6c560de",
   "metadata": {},
   "outputs": [],
   "source": [
    "indices = [0,7,1,4]\n",
    "# indices = [1,1,0,0,1,0,0,1]\n",
    "# indices = [True, True, False, False, True, False, False, True]"
   ]
  },
  {
   "cell_type": "code",
   "execution_count": 51,
   "id": "8437b197-da91-4146-9eee-74cfe68c43cb",
   "metadata": {
    "scrolled": true
   },
   "outputs": [
    {
     "name": "stdout",
     "output_type": "stream",
     "text": [
      "11.14.24-[10, 10]\n",
      "Test Error: \n",
      " Error: 8.8%, Avg loss: 0.281268 \n",
      "\n",
      "Test Error: \n",
      " Error: 6.6%, Avg loss: 0.218366 \n",
      "\n",
      "Test Error: \n",
      " Error: 6.5%, Avg loss: 0.217947 \n",
      "\n",
      "Test Error: \n",
      " Error: 6.5%, Avg loss: 0.217948 \n",
      "\n",
      "success\n",
      "11.14.24-[150, 10]\n",
      "Test Error: \n",
      " Error: 4.2%, Avg loss: 0.133431 \n",
      "\n",
      "Test Error: \n",
      " Error: 3.3%, Avg loss: 0.105885 \n",
      "\n",
      "Test Error: \n",
      " Error: 3.2%, Avg loss: 0.105444 \n",
      "\n",
      "Test Error: \n",
      " Error: 3.2%, Avg loss: 0.105445 \n",
      "\n",
      "success\n",
      "11.14.24-[159, 10]\n",
      "Test Error: \n",
      " Error: 4.7%, Avg loss: 0.140417 \n",
      "\n",
      "Test Error: \n",
      " Error: 3.8%, Avg loss: 0.115461 \n",
      "\n",
      "Test Error: \n",
      " Error: 3.8%, Avg loss: 0.115016 \n",
      "\n",
      "Test Error: \n",
      " Error: 3.8%, Avg loss: 0.115020 \n",
      "\n",
      "success\n",
      "11.14.24-[19, 10]\n",
      "Test Error: \n",
      " Error: 7.4%, Avg loss: 0.243515 \n",
      "\n",
      "Test Error: \n",
      " Error: 5.5%, Avg loss: 0.181235 \n",
      "\n",
      "Test Error: \n",
      " Error: 5.5%, Avg loss: 0.180105 \n",
      "\n",
      "Test Error: \n",
      " Error: 5.5%, Avg loss: 0.180099 \n",
      "\n",
      "success\n",
      "11.14.24-[310, 10]\n",
      "Test Error: \n",
      " Error: 2.7%, Avg loss: 0.086766 \n",
      "\n",
      "Test Error: \n",
      " Error: 2.2%, Avg loss: 0.074106 \n",
      "\n",
      "Test Error: \n",
      " Error: 2.3%, Avg loss: 0.073929 \n",
      "\n",
      "Test Error: \n",
      " Error: 2.3%, Avg loss: 0.073929 \n",
      "\n",
      "success\n",
      "11.14.24-[319, 10]\n",
      "Test Error: \n",
      " Error: 2.8%, Avg loss: 0.090170 \n",
      "\n",
      "Test Error: \n",
      " Error: 2.6%, Avg loss: 0.079734 \n",
      "\n",
      "Test Error: \n",
      " Error: 2.5%, Avg loss: 0.079600 \n",
      "\n",
      "Test Error: \n",
      " Error: 2.5%, Avg loss: 0.079601 \n",
      "\n",
      "success\n",
      "11.14.24-[59, 10]\n",
      "Test Error: \n",
      " Error: 4.5%, Avg loss: 0.140211 \n",
      "\n",
      "Test Error: \n",
      " Error: 4.2%, Avg loss: 0.125933 \n",
      "\n",
      "Test Error: \n",
      " Error: 4.3%, Avg loss: 0.125348 \n",
      "\n",
      "Test Error: \n",
      " Error: 4.3%, Avg loss: 0.125350 \n",
      "\n",
      "success\n",
      "11.14.24-[70, 10]\n",
      "Test Error: \n",
      " Error: 3.7%, Avg loss: 0.119263 \n",
      "\n",
      "Test Error: \n",
      " Error: 2.8%, Avg loss: 0.094486 \n",
      "\n",
      "Test Error: \n",
      " Error: 2.9%, Avg loss: 0.094323 \n",
      "\n",
      "Test Error: \n",
      " Error: 2.9%, Avg loss: 0.094322 \n",
      "\n",
      "success\n"
     ]
    }
   ],
   "source": [
    "# reformat results in runs\n",
    "import os\n",
    "from sld_NN_definitions import run_quant_test\n",
    "\n",
    "path = \"\\\\\".join((os.getcwd(), \"runs\\\\11.14\"))\n",
    "dirs = os.listdir(path)[:-1]\n",
    "i = 0\n",
    "for folder in dirs:\n",
    "    print(folder)\n",
    "\n",
    "    run_quant_test(\"\\\\\".join((path, folder)))\n",
    "    \n",
    "    # with open(\"\\\\\".join((path, folder, \"results.json\"))) as f:\n",
    "    #     data = json.load(f)\n",
    "    #     # print(f)\n",
    "    # new_dir = {}\n",
    "    # new_dir['learning_data'] = {}\n",
    "    # new_dir['learning_data']['train_loss'] = list(np.array(data).T[0])\n",
    "    # new_dir['learning_data']['train_accuracy'] = list(np.array(data).T[1])\n",
    "    # new_dir['learning_data']['test_loss'] = list(np.array(data).T[2])\n",
    "    # new_dir['learning_data']['test_accuracy'] = list(np.array(data).T[3])\n",
    "    # new_dir['learning_data']['total_time'] = times[i]\n",
    "    # i= i+1\n",
    "\n",
    "    # with open(\"\\\\\".join((path, folder, \"run_data.json\")), \"w\") as f:\n",
    "    #     json.dump(new_dir, f)\n"
   ]
  },
  {
   "cell_type": "code",
   "execution_count": 53,
   "id": "0d1f23cc-c6b9-47c8-b834-05cd76163314",
   "metadata": {},
   "outputs": [
    {
     "data": {
      "text/plain": [
       "['32', '8', '8', '32', '4', '4', '16', '16']"
      ]
     },
     "execution_count": 53,
     "metadata": {},
     "output_type": "execute_result"
    }
   ],
   "source": [
    "bit_keys = ['32', '8', '8', '32','4','4', '16','16']\n",
    "bit_keys"
   ]
  },
  {
   "cell_type": "code",
   "execution_count": null,
   "id": "ab1de2af-39be-4a19-9e1e-9b0e51afab79",
   "metadata": {},
   "outputs": [],
   "source": []
  },
  {
   "cell_type": "code",
   "execution_count": 73,
   "id": "9de98a6e-9fc2-4ff3-98b6-b39d600a1aeb",
   "metadata": {},
   "outputs": [
    {
     "name": "stdout",
     "output_type": "stream",
     "text": [
      "11.14.24-[10, 10]\n",
      "0.2179477118870639\n",
      "11.14.24-[150, 10]\n",
      "0.10544504987444722\n",
      "11.14.24-[159, 10]\n",
      "0.11501997332797928\n",
      "11.14.24-[19, 10]\n",
      "0.18009898456824602\n",
      "11.14.24-[310, 10]\n",
      "0.07392892255019412\n",
      "11.14.24-[319, 10]\n",
      "0.07960120524690224\n",
      "11.14.24-[59, 10]\n",
      "0.12534998957813828\n",
      "11.14.24-[70, 10]\n",
      "0.09432240048630332\n"
     ]
    }
   ],
   "source": [
    "path = \"\\\\\".join((os.getcwd(), \"runs\\\\11.14\"))\n",
    "dirs = os.listdir(path)[:-1]\n",
    "i = 0\n",
    "losses = []\n",
    "accs = []\n",
    "num_parameters = []\n",
    "for folder in dirs:\n",
    "    print(folder)\n",
    "    num_parameters.append(np.array(eval(folder.split(\"-\")[-1])).sum())\n",
    "    \n",
    "    with open(\"\\\\\".join((path, folder, \"run_data.json\"))) as f:\n",
    "        data = json.load(f)\n",
    "        \n",
    "    print(data['quant_data'][bit_keys[i]]['loss'])\n",
    "    losses.append(data['quant_data'][bit_keys[i]]['loss'])\n",
    "    accs.append(data['quant_data'][bit_keys[i]]['error'])\n",
    "    "
   ]
  },
  {
   "cell_type": "code",
   "execution_count": 97,
   "id": "8b2126cd-81ed-487d-b7fe-cdfd716b37cc",
   "metadata": {},
   "outputs": [],
   "source": [
    "theoretical_times = np.array([\n",
    "    794, 934, 1000, 934, 974, 1094, 1370, 854])\n",
    "theoretical_times[indices]\n",
    "num_parameters = np.array(num_parameters)\n"
   ]
  },
  {
   "cell_type": "code",
   "execution_count": 99,
   "id": "fc4acc5f-c8ef-437c-b990-c7e919b9d32f",
   "metadata": {},
   "outputs": [
    {
     "data": {
      "text/plain": [
       "array([ 20, 160, 320,  80])"
      ]
     },
     "execution_count": 99,
     "metadata": {},
     "output_type": "execute_result"
    }
   ],
   "source": [
    "num_parameters[indices]"
   ]
  },
  {
   "cell_type": "code",
   "execution_count": 94,
   "id": "0650cec7-636b-4438-8e10-c638852a296a",
   "metadata": {},
   "outputs": [
    {
     "data": {
      "image/png": "[encoded data removed]",
      "text/plain": [
       "<Figure size 640x480 with 1 Axes>"
      ]
     },
     "metadata": {},
     "output_type": "display_data"
    }
   ],
   "source": [
    "import matplotlib.pyplot as plt\n",
    "plt.scatter(theoretical_times[indices], np.array(accs)[indices])\n",
    "plt.show()"
   ]
  },
  {
   "cell_type": "code",
   "execution_count": 100,
   "id": "ea53ae09-1c2e-4d51-b472-a08fba66fa01",
   "metadata": {},
   "outputs": [
    {
     "data": {
      "image/png": "[encoded data removed]",
      "text/plain": [
       "<Figure size 640x480 with 1 Axes>"
      ]
     },
     "metadata": {},
     "output_type": "display_data"
    }
   ],
   "source": [
    "import matplotlib.pyplot as plt\n",
    "plt.scatter(num_parameters[indices], np.array(accs)[indices]*100)\n",
    "plt.show()"
   ]
  },
  {
   "cell_type": "code",
   "execution_count": 48,
   "id": "a4e4e5db-a4af-4c2b-8234-644ac135e94e",
   "metadata": {},
   "outputs": [
    {
     "data": {
      "text/plain": [
       "[70, 10]"
      ]
     },
     "execution_count": 48,
     "metadata": {},
     "output_type": "execute_result"
    }
   ],
   "source": [
    "run_path = \"\\\\\".join((path, folder))\n",
    "folder = run_path.split(\"\\\\\")[-1]\n",
    "params = eval(folder.split(\"-\")[-1])\n",
    "params\n"
   ]
  },
  {
   "cell_type": "code",
   "execution_count": 45,
   "id": "e106dca5-824d-4c45-8661-114269061dfd",
   "metadata": {},
   "outputs": [
    {
     "data": {
      "text/plain": [
       "[70, 10]"
      ]
     },
     "execution_count": 45,
     "metadata": {},
     "output_type": "execute_result"
    }
   ],
   "source": [
    "eval(folder.split(\"-\")[1])"
   ]
  },
  {
   "cell_type": "code",
   "execution_count": 31,
   "id": "f89baf24-ece6-42a5-854b-a1d58b8197c8",
   "metadata": {
    "scrolled": true
   },
   "outputs": [
    {
     "data": {
      "text/plain": [
       "{'learning_data': {'train_loss': [0.33553973772113804,\n",
       "   0.29316183807572743,\n",
       "   0.27796080947097324,\n",
       "   0.2669441950078242,\n",
       "   0.256047032730619,\n",
       "   0.246764031578674,\n",
       "   0.23953578852742163,\n",
       "   0.23351099968208208,\n",
       "   0.22839536257505189,\n",
       "   0.22410402012269545,\n",
       "   0.21881316358701963,\n",
       "   0.21561070961935666,\n",
       "   0.21250979653157903,\n",
       "   0.20938364969146656,\n",
       "   0.20697142008219827,\n",
       "   0.20414886735080492,\n",
       "   0.20155714464623786,\n",
       "   0.1984014983602008,\n",
       "   0.19543489990930943,\n",
       "   0.19333841259179177],\n",
       "  'train_accuracy': [0.33553973772113804,\n",
       "   0.29316183807572743,\n",
       "   0.27796080947097324,\n",
       "   0.2669441950078242,\n",
       "   0.256047032730619,\n",
       "   0.246764031578674,\n",
       "   0.23953578852742163,\n",
       "   0.23351099968208208,\n",
       "   0.22839536257505189,\n",
       "   0.22410402012269545,\n",
       "   0.21881316358701963,\n",
       "   0.21561070961935666,\n",
       "   0.21250979653157903,\n",
       "   0.20938364969146656,\n",
       "   0.20697142008219827,\n",
       "   0.20414886735080492,\n",
       "   0.20155714464623786,\n",
       "   0.1984014983602008,\n",
       "   0.19543489990930943,\n",
       "   0.19333841259179177],\n",
       "  'test_loss': [0.33553973772113804,\n",
       "   0.29316183807572743,\n",
       "   0.27796080947097324,\n",
       "   0.2669441950078242,\n",
       "   0.256047032730619,\n",
       "   0.246764031578674,\n",
       "   0.23953578852742163,\n",
       "   0.23351099968208208,\n",
       "   0.22839536257505189,\n",
       "   0.22410402012269545,\n",
       "   0.21881316358701963,\n",
       "   0.21561070961935666,\n",
       "   0.21250979653157903,\n",
       "   0.20938364969146656,\n",
       "   0.20697142008219827,\n",
       "   0.20414886735080492,\n",
       "   0.20155714464623786,\n",
       "   0.1984014983602008,\n",
       "   0.19543489990930943,\n",
       "   0.19333841259179177],\n",
       "  'test_accuracy': [0.33553973772113804,\n",
       "   0.29316183807572743,\n",
       "   0.27796080947097324,\n",
       "   0.2669441950078242,\n",
       "   0.256047032730619,\n",
       "   0.246764031578674,\n",
       "   0.23953578852742163,\n",
       "   0.23351099968208208,\n",
       "   0.22839536257505189,\n",
       "   0.22410402012269545,\n",
       "   0.21881316358701963,\n",
       "   0.21561070961935666,\n",
       "   0.21250979653157903,\n",
       "   0.20938364969146656,\n",
       "   0.20697142008219827,\n",
       "   0.20414886735080492,\n",
       "   0.20155714464623786,\n",
       "   0.1984014983602008,\n",
       "   0.19543489990930943,\n",
       "   0.19333841259179177]}}"
      ]
     },
     "execution_count": 31,
     "metadata": {},
     "output_type": "execute_result"
    }
   ],
   "source": [
    "new_dir"
   ]
  },
  {
   "cell_type": "code",
   "execution_count": 23,
   "id": "9c6737ba-3798-46cb-a70f-ab268db36881",
   "metadata": {},
   "outputs": [
    {
     "data": {
      "text/plain": [
       "array([[0.33553974, 0.29316184, 0.27796081, 0.2669442 , 0.25604703,\n",
       "        0.24676403, 0.23953579, 0.233511  , 0.22839536, 0.22410402,\n",
       "        0.21881316, 0.21561071, 0.2125098 , 0.20938365, 0.20697142,\n",
       "        0.20414887, 0.20155714, 0.1984015 , 0.1954349 , 0.19333841],\n",
       "       [0.09931667, 0.08668333, 0.082     , 0.07865   , 0.0752    ,\n",
       "        0.07193333, 0.06926667, 0.06781667, 0.06611667, 0.06498333,\n",
       "        0.06283333, 0.06233333, 0.06165   , 0.06088333, 0.06021667,\n",
       "        0.0595    , 0.05893333, 0.05786667, 0.05695   , 0.05661667],\n",
       "       [0.32485127, 0.28978367, 0.27897214, 0.27028384, 0.26093998,\n",
       "        0.25291819, 0.24736394, 0.24259186, 0.23907805, 0.23634545,\n",
       "        0.23163933, 0.22958437, 0.22772372, 0.22513499, 0.22317386,\n",
       "        0.22132185, 0.21970841, 0.21747695, 0.21521535, 0.21412255],\n",
       "       [0.0942    , 0.0866    , 0.083     , 0.0808    , 0.0775    ,\n",
       "        0.075     , 0.0738    , 0.0728    , 0.0721    , 0.0708    ,\n",
       "        0.0694    , 0.0693    , 0.0701    , 0.0695    , 0.0688    ,\n",
       "        0.0674    , 0.0666    , 0.0651    , 0.0641    , 0.0636    ]])"
      ]
     },
     "execution_count": 23,
     "metadata": {},
     "output_type": "execute_result"
    }
   ],
   "source": [
    "np.array(data).T"
   ]
  },
  {
   "cell_type": "code",
   "execution_count": 59,
   "id": "7cd5898e-5e9b-44b7-8ff7-79d6fd576277",
   "metadata": {},
   "outputs": [
    {
     "ename": "NameError",
     "evalue": "name 'INPUT_SIZE' is not defined",
     "output_type": "error",
     "traceback": [
      "\u001b[1;31m---------------------------------------------------------------------------\u001b[0m",
      "\u001b[1;31mNameError\u001b[0m                                 Traceback (most recent call last)",
      "Cell \u001b[1;32mIn[59], line 14\u001b[0m\n\u001b[0;32m     11\u001b[0m     \u001b[38;5;28;01mfor\u001b[39;00m key \u001b[38;5;129;01min\u001b[39;00m Q_all:\n\u001b[0;32m     12\u001b[0m         q_test(test_dataloader, base_model, loss_fn, key)\n\u001b[1;32m---> 14\u001b[0m run_quant_test(param, run_path)\n",
      "Cell \u001b[1;32mIn[59], line 3\u001b[0m, in \u001b[0;36mrun_quant_test\u001b[1;34m(param, run_path)\u001b[0m\n\u001b[0;32m      2\u001b[0m \u001b[38;5;28;01mdef\u001b[39;00m \u001b[38;5;21mrun_quant_test\u001b[39m(param, run_path): \u001b[38;5;66;03m# assume for now you are given param\u001b[39;00m\n\u001b[1;32m----> 3\u001b[0m     network_parameters \u001b[38;5;241m=\u001b[39m [INPUT_SIZE, \u001b[38;5;241m*\u001b[39mparams]\n\u001b[0;32m      4\u001b[0m     base_model \u001b[38;5;241m=\u001b[39m NeuralNetwork()\u001b[38;5;241m.\u001b[39mto(device)\n\u001b[0;32m      5\u001b[0m     base_model\u001b[38;5;241m.\u001b[39mload_state_dict(torch\u001b[38;5;241m.\u001b[39mload(\u001b[38;5;124m\"\u001b[39m\u001b[38;5;130;01m\\\\\u001b[39;00m\u001b[38;5;124m\"\u001b[39m\u001b[38;5;241m.\u001b[39mjoin((run_path,\u001b[38;5;124m\"\u001b[39m\u001b[38;5;124mmodel.pth\u001b[39m\u001b[38;5;124m\"\u001b[39m))))\n",
      "\u001b[1;31mNameError\u001b[0m: name 'INPUT_SIZE' is not defined"
     ]
    }
   ],
   "source": [
    "param =[10,10]\n",
    "def run_quant_test(param, run_path): # assume for now you are given param\n",
    "    network_parameters = [INPUT_SIZE, *params]\n",
    "    base_model = NeuralNetwork().to(device)\n",
    "    base_model.load_state_dict(torch.load(\"\\\\\".join((run_path,\"model.pth\"))))\n",
    "    loss_fn = nn.CrossEntropyLoss()\n",
    "    \n",
    "    train_dataloader = DataLoader(training_data, batch_size=batch_size)\n",
    "    test_dataloader = DataLoader(test_data, batch_size=batch_size)\n",
    "\n",
    "    for key in Q_all:\n",
    "        q_test(test_dataloader, base_model, loss_fn, key)\n",
    "\n",
    "    print('success')\n",
    "\n",
    "run_quant_test(param, run_path)"
   ]
  },
  {
   "cell_type": "code",
   "execution_count": 28,
   "id": "d6e5491b-4f97-420d-a992-917c86e8b4f2",
   "metadata": {},
   "outputs": [
    {
     "ename": "NameError",
     "evalue": "name 'DEBUG_MODE' is not defined",
     "output_type": "error",
     "traceback": [
      "\u001b[1;31m---------------------------------------------------------------------------\u001b[0m",
      "\u001b[1;31mNameError\u001b[0m                                 Traceback (most recent call last)",
      "Cell \u001b[1;32mIn[28], line 2\u001b[0m\n\u001b[0;32m      1\u001b[0m \u001b[38;5;28;01mfrom\u001b[39;00m \u001b[38;5;21;01msld_NN_definitions\u001b[39;00m \u001b[38;5;28;01mimport\u001b[39;00m test\n\u001b[1;32m----> 2\u001b[0m \u001b[38;5;28mprint\u001b[39m(DEBUG_MODE)\n",
      "\u001b[1;31mNameError\u001b[0m: name 'DEBUG_MODE' is not defined"
     ]
    }
   ],
   "source": [
    "from sld_NN_definitions import q_test\n"
   ]
  },
  {
   "cell_type": "code",
   "execution_count": null,
   "id": "a66104c5-369f-4a08-a469-8bf2906a07d5",
   "metadata": {},
   "outputs": [],
   "source": [
    "# 8-bit quantized with scaling\n",
    "print(gen_q_params(base_model, Qparam)[1])\n",
    "Qparam = Fxp(-7.25, dtype='S1.7', rounding = 'around')\n",
    "QX = Fxp(-7.25, dtype='U0.8', rounding = 'around')\n",
    "Qa = Fxp(-7.25, dtype='U4.4', rounding = 'around')\n",
    "\n",
    "q_test(test_dataloader, base_model, loss_fn, Qparam, QX, Qa)"
   ]
  }
 ],
 "metadata": {
  "kernelspec": {
   "display_name": "Python 3 (ipykernel)",
   "language": "python",
   "name": "python3"
  },
  "language_info": {
   "codemirror_mode": {
    "name": "ipython",
    "version": 3
   },
   "file_extension": ".py",
   "mimetype": "text/x-python",
   "name": "python",
   "nbconvert_exporter": "python",
   "pygments_lexer": "ipython3",
   "version": "3.12.2"
  }
 },
 "nbformat": 4,
 "nbformat_minor": 5
}
