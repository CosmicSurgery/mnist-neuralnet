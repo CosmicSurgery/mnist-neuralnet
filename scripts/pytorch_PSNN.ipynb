{
 "cells": [
  {
   "cell_type": "code",
   "execution_count": 2,
   "id": "8681f488-e79b-454c-acc2-e83f791b7d99",
   "metadata": {},
   "outputs": [],
   "source": [
    "import torch\n",
    "from torch import nn\n",
    "from torch.utils.data import Dataset\n",
    "from torchvision import datasets\n",
    "from torch.utils.data import DataLoader\n",
    "from torchvision.transforms import ToTensor\n",
    "import matplotlib.pyplot as plt\n",
    "import seaborn as sns\n",
    "import numpy as np"
   ]
  },
  {
   "cell_type": "code",
   "execution_count": 3,
   "id": "7e2763bd-e1b1-4821-93a8-eac32b899c7e",
   "metadata": {},
   "outputs": [],
   "source": [
    "import time"
   ]
  },
  {
   "cell_type": "code",
   "execution_count": 4,
   "id": "4271ef60-f0ea-4f67-b80e-8161e856cc83",
   "metadata": {
    "scrolled": true
   },
   "outputs": [
    {
     "name": "stdout",
     "output_type": "stream",
     "text": [
      "Using cpu device\n"
     ]
    }
   ],
   "source": [
    "device = (\n",
    "    \"cuda\"\n",
    "    if torch.cuda.is_available()\n",
    "    else \"mps\"\n",
    "    if torch.backends.mps.is_available()\n",
    "    else \"cpu\"\n",
    ")\n",
    "print(f\"Using {device} device\")\n",
    "\n",
    "training_data = datasets.MNIST(\n",
    "    root=\"data\",\n",
    "    train=True,\n",
    "    download=True,\n",
    "    transform=ToTensor()\n",
    ")\n",
    "test_data = datasets.MNIST(\n",
    "    root=\"data\",\n",
    "    train=False,\n",
    "    download=True,\n",
    "    transform=ToTensor()\n",
    ")\n",
    "bs = 1\n",
    "epochs = 1\n"
   ]
  },
  {
   "cell_type": "code",
   "execution_count": 104,
   "id": "1151e913-2145-4afc-ba93-bfeee7a969f6",
   "metadata": {},
   "outputs": [],
   "source": [
    "# Define model\n",
    "class NeuralNetwork(nn.Module):\n",
    "    def __init__(self):\n",
    "        super().__init__()\n",
    "        self.flatten = nn.Flatten()\n",
    "        self.linear_relu_stack = nn.Sequential(\n",
    "            nn.Linear(28*28, 10),\n",
    "            nn.ReLU(),\n",
    "            nn.Linear(10, 10)\n",
    "        )\n",
    "\n",
    "    def forward(self, x):\n",
    "        x = self.flatten(x)\n",
    "        logits = self.linear_relu_stack(x)\n",
    "        return logits\n",
    "        \n",
    "def get_model():\n",
    "    model = NeuralNetwork()\n",
    "    loss_fn = nn.CrossEntropyLoss()\n",
    "    optimizer = torch.optim.SGD(model.parameters(), lr=1e-3)\n",
    "    return model, loss_fn, optimizer\n",
    "\n",
    "def get_data(training_data, test_data, bs):\n",
    "    return (\n",
    "        DataLoader(training_data, batch_size=bs), #, shuffle=True),\n",
    "        DataLoader(test_data, batch_size=bs),\n",
    "    )\n",
    "\n",
    "def accuracy(out, yb):\n",
    "    preds = torch.argmax(out, dim=1)\n",
    "    return (preds == yb).float().mean()\n",
    "\n",
    "def loss_batch(model, loss_func, xb, yb, opt=None):\n",
    "    loss = loss_func(model(xb), yb)\n",
    "\n",
    "    if opt is not None:\n",
    "        loss.backward()\n",
    "        opt.step()\n",
    "        opt.zero_grad()\n",
    "\n",
    "    return loss.item(), len(xb)\n",
    "\n",
    "def fit(epochs, model, loss_func, opt, train_dl, valid_dl):\n",
    "    correct = 0\n",
    "    size = len(train_dl.dataset)\n",
    "    for epoch in range(epochs):\n",
    "        model.train()\n",
    "        for batch, (xb, yb) in enumerate(train_dl):\n",
    "            # xb, yb = xb.to(device), yb.to(device)\n",
    "            loss, _ = loss_batch(model, loss_func, xb, yb, opt)\n",
    "            # correct += bool(model(xb).argmax() == yb)\n",
    "            \n",
    "            if batch % 100 == 0:\n",
    "                current = (batch + 1) * len(xb)\n",
    "                print(f\"loss: {loss:>7f}  [{current:>5d}/{size:>5d}]\")\n",
    "\n",
    "        model.eval()\n",
    "        with torch.no_grad():\n",
    "            losses, nums = zip(\n",
    "                *[loss_batch(model, loss_func, xb, yb) for xb, yb in valid_dl]\n",
    "            )\n",
    "        val_loss = np.sum(np.multiply(losses, nums)) / np.sum(nums)\n",
    "\n",
    "        \n",
    "\n",
    "        # correct /= len(train_dl.dataset)\n",
    "\n",
    "        # print(f\"Training Error: \\n Accuracy: {(100*correct):>0.1f}%\")\n"
   ]
  },
  {
   "cell_type": "code",
   "execution_count": 109,
   "id": "40075769-4896-4b8d-a0aa-20bb86aa1b5f",
   "metadata": {},
   "outputs": [],
   "source": [
    "train_dl, valid_dl = get_data(training_data, test_data, bs)"
   ]
  },
  {
   "cell_type": "code",
   "execution_count": 106,
   "id": "04026ee1-e6a8-4ae4-8290-04f619c6bb56",
   "metadata": {
    "scrolled": true
   },
   "outputs": [
    {
     "name": "stdout",
     "output_type": "stream",
     "text": [
      "loss: 2.335718  [ 1024/60000]\n",
      "loss: 2.325702  [ 1024/60000]\n",
      "loss: 2.317119  [ 1024/60000]\n",
      "loss: 2.309427  [ 1024/60000]\n",
      "loss: 2.302169  [ 1024/60000]\n",
      "loss: 2.294964  [ 1024/60000]\n",
      "loss: 2.287649  [ 1024/60000]\n",
      "loss: 2.280145  [ 1024/60000]\n",
      "loss: 2.272405  [ 1024/60000]\n",
      "loss: 2.264430  [ 1024/60000]\n",
      "loss: 2.256406  [ 1024/60000]\n",
      "loss: 2.248395  [ 1024/60000]\n",
      "loss: 2.240366  [ 1024/60000]\n",
      "loss: 2.232347  [ 1024/60000]\n",
      "loss: 2.224312  [ 1024/60000]\n",
      "loss: 2.216239  [ 1024/60000]\n",
      "loss: 2.208135  [ 1024/60000]\n",
      "loss: 2.199988  [ 1024/60000]\n",
      "loss: 2.191791  [ 1024/60000]\n",
      "loss: 2.183530  [ 1024/60000]\n",
      "loss: 2.175171  [ 1024/60000]\n",
      "loss: 2.166730  [ 1024/60000]\n",
      "loss: 2.158196  [ 1024/60000]\n",
      "loss: 2.149547  [ 1024/60000]\n",
      "loss: 2.140750  [ 1024/60000]\n",
      "loss: 2.131806  [ 1024/60000]\n",
      "loss: 2.122706  [ 1024/60000]\n",
      "loss: 2.113398  [ 1024/60000]\n",
      "loss: 2.103914  [ 1024/60000]\n",
      "loss: 2.094246  [ 1024/60000]\n",
      "loss: 2.084362  [ 1024/60000]\n",
      "loss: 2.074270  [ 1024/60000]\n",
      "loss: 2.063986  [ 1024/60000]\n",
      "loss: 2.053493  [ 1024/60000]\n",
      "loss: 2.042798  [ 1024/60000]\n",
      "loss: 2.031948  [ 1024/60000]\n",
      "loss: 2.020945  [ 1024/60000]\n",
      "loss: 2.009805  [ 1024/60000]\n",
      "loss: 1.998500  [ 1024/60000]\n",
      "loss: 1.986987  [ 1024/60000]\n",
      "loss: 1.975281  [ 1024/60000]\n",
      "loss: 1.963369  [ 1024/60000]\n",
      "loss: 1.951232  [ 1024/60000]\n",
      "loss: 1.938831  [ 1024/60000]\n",
      "loss: 1.926200  [ 1024/60000]\n",
      "loss: 1.913408  [ 1024/60000]\n",
      "loss: 1.900458  [ 1024/60000]\n",
      "loss: 1.887323  [ 1024/60000]\n",
      "loss: 1.874039  [ 1024/60000]\n",
      "loss: 1.860629  [ 1024/60000]\n",
      "loss: 1.847106  [ 1024/60000]\n",
      "loss: 1.833454  [ 1024/60000]\n",
      "loss: 1.819663  [ 1024/60000]\n",
      "loss: 1.805774  [ 1024/60000]\n",
      "loss: 1.791768  [ 1024/60000]\n",
      "loss: 1.777673  [ 1024/60000]\n",
      "loss: 1.763537  [ 1024/60000]\n",
      "loss: 1.749395  [ 1024/60000]\n",
      "loss: 1.735260  [ 1024/60000]\n",
      "loss: 1.721122  [ 1024/60000]\n",
      "loss: 1.706971  [ 1024/60000]\n",
      "loss: 1.692826  [ 1024/60000]\n",
      "loss: 1.678697  [ 1024/60000]\n",
      "loss: 1.664597  [ 1024/60000]\n",
      "loss: 1.650527  [ 1024/60000]\n",
      "loss: 1.636486  [ 1024/60000]\n",
      "loss: 1.622478  [ 1024/60000]\n",
      "loss: 1.608511  [ 1024/60000]\n",
      "loss: 1.594595  [ 1024/60000]\n",
      "loss: 1.580734  [ 1024/60000]\n",
      "loss: 1.566932  [ 1024/60000]\n",
      "loss: 1.553197  [ 1024/60000]\n",
      "loss: 1.539531  [ 1024/60000]\n",
      "loss: 1.525939  [ 1024/60000]\n",
      "loss: 1.512427  [ 1024/60000]\n",
      "loss: 1.499002  [ 1024/60000]\n",
      "loss: 1.485667  [ 1024/60000]\n",
      "loss: 1.472427  [ 1024/60000]\n",
      "loss: 1.459287  [ 1024/60000]\n",
      "loss: 1.446250  [ 1024/60000]\n",
      "loss: 1.433327  [ 1024/60000]\n",
      "loss: 1.420517  [ 1024/60000]\n",
      "loss: 1.407823  [ 1024/60000]\n",
      "loss: 1.395248  [ 1024/60000]\n",
      "loss: 1.382798  [ 1024/60000]\n",
      "loss: 1.370480  [ 1024/60000]\n",
      "loss: 1.358297  [ 1024/60000]\n",
      "loss: 1.346249  [ 1024/60000]\n",
      "loss: 1.334341  [ 1024/60000]\n",
      "loss: 1.322571  [ 1024/60000]\n",
      "loss: 1.310944  [ 1024/60000]\n",
      "loss: 1.299462  [ 1024/60000]\n",
      "loss: 1.288124  [ 1024/60000]\n",
      "loss: 1.276935  [ 1024/60000]\n",
      "loss: 1.265894  [ 1024/60000]\n",
      "loss: 1.255000  [ 1024/60000]\n",
      "loss: 1.244252  [ 1024/60000]\n",
      "loss: 1.233650  [ 1024/60000]\n",
      "loss: 1.223193  [ 1024/60000]\n",
      "loss: 1.212881  [ 1024/60000]\n",
      "1131.453420639038\n"
     ]
    }
   ],
   "source": [
    "torch.manual_seed(0)\n",
    "train_dl, valid_dl = get_data(training_data, test_data, bs)\n",
    "model, loss_func, opt = get_model()\n",
    "# Move the model to the device (GPU or CPU)\n",
    "model = model.to(device)\n",
    "# torch.save(model.state_dict(), \"model.pth\")\n",
    "start_time = time.time()\n",
    "fit(epochs, model, loss_func, opt, train_dl, valid_dl)\n",
    "stop_time = time.time()\n",
    "print(stop_time-start_time)"
   ]
  },
  {
   "cell_type": "code",
   "execution_count": 85,
   "id": "905f6503-ac2d-4447-8cf8-eecd9f63a347",
   "metadata": {},
   "outputs": [
    {
     "data": {
      "text/plain": [
       "NeuralNetwork(\n",
       "  (flatten): Flatten(start_dim=1, end_dim=-1)\n",
       "  (linear_relu_stack): Sequential(\n",
       "    (0): Linear(in_features=784, out_features=10, bias=True)\n",
       "    (1): ReLU()\n",
       "    (2): Linear(in_features=10, out_features=10, bias=True)\n",
       "  )\n",
       ")"
      ]
     },
     "execution_count": 85,
     "metadata": {},
     "output_type": "execute_result"
    }
   ],
   "source": [
    "model"
   ]
  },
  {
   "cell_type": "code",
   "execution_count": 84,
   "id": "803aeb0c-102a-4caa-b716-8017a4189658",
   "metadata": {},
   "outputs": [
    {
     "data": {
      "text/plain": [
       "10000"
      ]
     },
     "execution_count": 84,
     "metadata": {},
     "output_type": "execute_result"
    }
   ],
   "source": [
    "len(valid_dl)"
   ]
  },
  {
   "cell_type": "code",
   "execution_count": 69,
   "id": "a1032554-6291-45d5-9cac-a04458388f37",
   "metadata": {},
   "outputs": [
    {
     "data": {
      "text/plain": [
       "torch.Size([1, 1, 28, 28])"
      ]
     },
     "execution_count": 69,
     "metadata": {},
     "output_type": "execute_result"
    }
   ],
   "source": [
    "debug = iter(valid_dl)\n",
    "next(debug)[0].shape"
   ]
  },
  {
   "cell_type": "code",
   "execution_count": 79,
   "id": "cf51fb1c-1f0e-488c-94a1-914a9ef1cd07",
   "metadata": {
    "scrolled": true
   },
   "outputs": [
    {
     "name": "stdout",
     "output_type": "stream",
     "text": [
      "Complete: 10.9\r"
     ]
    },
    {
     "ename": "IndexError",
     "evalue": "index 10 is out of bounds for axis 0 with size 10",
     "output_type": "error",
     "traceback": [
      "\u001b[1;31m---------------------------------------------------------------------------\u001b[0m",
      "\u001b[1;31mIndexError\u001b[0m                                Traceback (most recent call last)",
      "Cell \u001b[1;32mIn[79], line 12\u001b[0m\n\u001b[0;32m     10\u001b[0m             correct \u001b[38;5;241m+\u001b[39m\u001b[38;5;241m=\u001b[39m\u001b[38;5;241m1\u001b[39m\n\u001b[0;32m     11\u001b[0m     stop_time \u001b[38;5;241m=\u001b[39m time\u001b[38;5;241m.\u001b[39mtime()\n\u001b[1;32m---> 12\u001b[0m     times[i] \u001b[38;5;241m=\u001b[39m stop_time \u001b[38;5;241m-\u001b[39m start_time\n\u001b[0;32m     13\u001b[0m \u001b[38;5;28mprint\u001b[39m(times\u001b[38;5;241m.\u001b[39mmean())\n",
      "\u001b[1;31mIndexError\u001b[0m: index 10 is out of bounds for axis 0 with size 10"
     ]
    }
   ],
   "source": [
    "correct = 0\n",
    "start_time = time.time()\n",
    "times = np.zeros(10)\n",
    "for i in range(10):\n",
    "    for batch, (xb, yb) in enumerate(valid_dl):\n",
    "        pred = model(xb).argmax()\n",
    "        if batch % 1000 == 0:\n",
    "            print(f\"Complete: {batch/len(valid_dl)+i}\", end=\"\\r\")\n",
    "        if pred == yb:\n",
    "            correct +=1\n",
    "    stop_time = time.time()\n",
    "    times[i] = stop_time - start_time\n",
    "print(np.diff(times).mean())\n",
    "\n",
    "\n",
    "    "
   ]
  },
  {
   "cell_type": "code",
   "execution_count": 82,
   "id": "57d767d4-31d9-4ec7-a3b8-d4928f6cb20d",
   "metadata": {},
   "outputs": [
    {
     "data": {
      "text/plain": [
       "2.7625641557905407"
      ]
     },
     "execution_count": 82,
     "metadata": {},
     "output_type": "execute_result"
    }
   ],
   "source": [
    "np.diff(times).mean()"
   ]
  },
  {
   "cell_type": "code",
   "execution_count": 168,
   "id": "a4757017-e489-4686-a61f-e598e3321466",
   "metadata": {},
   "outputs": [
    {
     "data": {
      "text/plain": [
       "tensor([5, 0, 4, 1, 9])"
      ]
     },
     "execution_count": 168,
     "metadata": {},
     "output_type": "execute_result"
    }
   ],
   "source": [
    "training_data.targets[:5]"
   ]
  },
  {
   "cell_type": "code",
   "execution_count": 123,
   "id": "045ca23c-8ab6-4292-a4c5-92fb540f947e",
   "metadata": {},
   "outputs": [
    {
     "data": {
      "text/plain": [
       "tensor([[0, 0, 0,  ..., 0, 0, 0],\n",
       "        [0, 0, 0,  ..., 0, 0, 0],\n",
       "        [0, 0, 0,  ..., 0, 0, 0],\n",
       "        ...,\n",
       "        [0, 0, 0,  ..., 0, 0, 0],\n",
       "        [0, 0, 0,  ..., 0, 0, 0],\n",
       "        [0, 0, 0,  ..., 0, 0, 0]], dtype=torch.uint8)"
      ]
     },
     "execution_count": 123,
     "metadata": {},
     "output_type": "execute_result"
    }
   ],
   "source": [
    "training_data.data.reshape(60000,784)"
   ]
  },
  {
   "cell_type": "code",
   "execution_count": 143,
   "id": "645607b7-358a-4bb5-834b-eed941172f64",
   "metadata": {
    "scrolled": true
   },
   "outputs": [
    {
     "data": {
      "text/plain": [
       "torch.Size([60000, 28, 28])"
      ]
     },
     "execution_count": 143,
     "metadata": {},
     "output_type": "execute_result"
    }
   ],
   "source": [
    "training_data.data.shape"
   ]
  },
  {
   "cell_type": "code",
   "execution_count": 128,
   "id": "5a6e2735-4deb-484b-b6db-6577cdf243d6",
   "metadata": {},
   "outputs": [
    {
     "data": {
      "image/png": "[encoded data removed]",
      "text/plain": [
       "<Figure size 640x480 with 1 Axes>"
      ]
     },
     "metadata": {},
     "output_type": "display_data"
    }
   ],
   "source": [
    "for img in training_data.data.reshape(60000,784):\n",
    "    plt.figure()\n",
    "    plt.imshow(img.reshape(28,28))\n",
    "    break"
   ]
  },
  {
   "cell_type": "code",
   "execution_count": 165,
   "id": "effa5e7d-ae77-4c22-b942-55b2a7e6d0de",
   "metadata": {},
   "outputs": [
    {
     "data": {
      "text/plain": [
       "'8'"
      ]
     },
     "execution_count": 165,
     "metadata": {},
     "output_type": "execute_result"
    }
   ],
   "source": [
    "str(int(training_data.targets[i]))"
   ]
  },
  {
   "cell_type": "code",
   "execution_count": 155,
   "id": "47167eeb-7c7c-4585-ba30-a8c7420c62bb",
   "metadata": {},
   "outputs": [
    {
     "ename": "TypeError",
     "evalue": "concat() received an invalid combination of arguments - got (Tensor, Tensor), but expected one of:\n * (tuple of Tensors tensors, int dim, *, Tensor out)\n * (tuple of Tensors tensors, name dim, *, Tensor out)\n",
     "output_type": "error",
     "traceback": [
      "\u001b[1;31m---------------------------------------------------------------------------\u001b[0m",
      "\u001b[1;31mTypeError\u001b[0m                                 Traceback (most recent call last)",
      "Cell \u001b[1;32mIn[155], line 1\u001b[0m\n\u001b[1;32m----> 1\u001b[0m torch\u001b[38;5;241m.\u001b[39mconcat(training_data\u001b[38;5;241m.\u001b[39mtargets, training_data\u001b[38;5;241m.\u001b[39mdata\u001b[38;5;241m.\u001b[39mreshape(\u001b[38;5;241m60000\u001b[39m, \u001b[38;5;241m784\u001b[39m))\n",
      "\u001b[1;31mTypeError\u001b[0m: concat() received an invalid combination of arguments - got (Tensor, Tensor), but expected one of:\n * (tuple of Tensors tensors, int dim, *, Tensor out)\n * (tuple of Tensors tensors, name dim, *, Tensor out)\n"
     ]
    }
   ],
   "source": [
    "torch.concat(training_data.targets, training_data.data.reshape(60000, 784))"
   ]
  },
  {
   "cell_type": "code",
   "execution_count": 5,
   "id": "a41c75d1-b0b8-4930-99d0-02a11d6f85de",
   "metadata": {},
   "outputs": [],
   "source": [
    "with open('test_h.h', 'w') as f:\n",
    "    # Write the initial static declaration\n",
    "    f.write('#ifndef OUTPUT_H\\n#define OUTPUT_H\\n\\n')\n",
    "    f.write(f'static double img[{10000}][{784}] = {{\\n')\n",
    "    \n",
    "    for i,img in enumerate(test_data.data.reshape(10000, 784)[:-1]):  # Flatten images except for the last one\n",
    "        img_values = ','.join(map(str, img.tolist()))  # Convert tensor to comma-separated string\n",
    "        f.write(\"{\"+f\"{img_values}\"+\"},\\n\")  # Write each image as a line in the text file\n",
    "    img_values = ','.join(map(str, test_data.data.reshape(10000, 784)[-1].tolist()))  # Convert tensor to comma-separated string\n",
    "    f.write(\"{\"+f\"{img_values}\"+\"}\\n\")  # Write each image as a line in the text file\n",
    "        \n",
    "    # Close the matrix declaration\n",
    "    f.write('};\\n\\n')\n",
    "    f.write('#endif // OUTPUT_H\\n')\n"
   ]
  },
  {
   "cell_type": "code",
   "execution_count": null,
   "id": "75ff293b-8250-4d32-a9b3-616c830e6e9f",
   "metadata": {},
   "outputs": [],
   "source": []
  }
 ],
 "metadata": {
  "kernelspec": {
   "display_name": "Python 3 (ipykernel)",
   "language": "python",
   "name": "python3"
  },
  "language_info": {
   "codemirror_mode": {
    "name": "ipython",
    "version": 3
   },
   "file_extension": ".py",
   "mimetype": "text/x-python",
   "name": "python",
   "nbconvert_exporter": "python",
   "pygments_lexer": "ipython3",
   "version": "3.12.2"
  }
 },
 "nbformat": 4,
 "nbformat_minor": 5
}
