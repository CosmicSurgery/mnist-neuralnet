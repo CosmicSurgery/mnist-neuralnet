{
 "cells": [
  {
   "cell_type": "code",
   "execution_count": 1,
   "id": "460fa587-0ec9-4719-bf2e-cf84e3595527",
   "metadata": {},
   "outputs": [],
   "source": [
    "import numpy as np\n",
    "from fxpmath import Fxp\n",
    "import time\n",
    "import os\n",
    "import json\n",
    "import time\n",
    "import math"
   ]
  },
  {
   "cell_type": "code",
   "execution_count": 114,
   "id": "5629ed35-bf96-4117-81b0-14476c112d3a",
   "metadata": {},
   "outputs": [
    {
     "name": "stdout",
     "output_type": "stream",
     "text": [
      "7 12 2 0\n",
      "7 12 2 0\n"
     ]
    }
   ],
   "source": [
    "a = Fxp(7, dtype='U4.0')\n",
    "w = Fxp(2, dtype='S4.0')\n",
    "p = Fxp(255, dtype = 'S8.0')\n",
    "\n",
    "a1 = a.copy()\n",
    "a2 = a(12).copy()\n",
    "w1 = w.copy()\n",
    "w2 = w(0).copy()\n",
    "print(a1, a2, w1, w2)\n",
    "print(a1, a2, w1, w2)"
   ]
  },
  {
   "cell_type": "code",
   "execution_count": 105,
   "id": "b8f4962c-a74a-48b6-8176-112a0288fa9a",
   "metadata": {},
   "outputs": [
    {
     "name": "stdout",
     "output_type": "stream",
     "text": [
      "14.0 0.0 24.0 0.0\n",
      "00001110 00000000 00011000 00000000\n"
     ]
    }
   ],
   "source": [
    "prod1, prod2, prod3, prod4 = p(a1*w1)(), p(a1*w2)(), p(a2*w1)(), p(a2*w2)()\n",
    "print(p(prod1)(), p(prod2)(), p(prod3)(), p(prod4)())\n",
    "print(p(prod1).bin(), p(prod2).bin(), p(prod3).bin(), p(prod4).bin())"
   ]
  },
  {
   "cell_type": "code",
   "execution_count": 43,
   "id": "d9ecb57a-361c-4ebd-ac67-f5275ad6b508",
   "metadata": {},
   "outputs": [],
   "source": [
    "A_port = Fxp(0, dtype='S25.0')\n",
    "D_port = Fxp(0, dtype='S25.0')\n",
    "B_port = Fxp(0, dtype='U18.0')\n",
    "P_port = Fxp(0, dtype='S48.0')"
   ]
  },
  {
   "cell_type": "code",
   "execution_count": 66,
   "id": "84f6c3db-3aeb-4703-98ce-f5bb118ff64e",
   "metadata": {},
   "outputs": [
    {
     "name": "stdout",
     "output_type": "stream",
     "text": [
      "0b0000000000000000000000000 0b0000000000000000000000000 0b000000000000000000\n",
      "0b0000000000000011100000111 0b000000000000000010\n",
      "1799 2\n"
     ]
    },
    {
     "data": {
      "text/plain": [
       "(array(3598, dtype=object), '000000000000000000000000000000000000111000001110')"
      ]
     },
     "execution_count": 66,
     "metadata": {},
     "output_type": "execute_result"
    }
   ],
   "source": [
    "A = '0b' + '0'*25\n",
    "D = '0b' + '0'*25\n",
    "B = '0b' + '0'*18\n",
    "print(A,D,B)\n",
    "offset=8\n",
    "A = A[:-4] + a1.bin()\n",
    "A = A[:-(4+offset)] + a1.bin() + A[-(offset):]\n",
    "B = B[:-4] + w1.bin()\n",
    "\n",
    "B = B[:-4] + w1.bin()\n",
    "A_port(A)\n",
    "B_port(B)\n",
    "print(A,B)\n",
    "print(A_port(A), B_port(B))\n",
    "P_port(A_port(A)*B_port(B))(), P_port(A_port(A)*B_port(B)).bin()"
   ]
  },
  {
   "cell_type": "code",
   "execution_count": 54,
   "id": "68b6f1f2-6a96-435e-8a9c-24e0471789ea",
   "metadata": {},
   "outputs": [
    {
     "name": "stdout",
     "output_type": "stream",
     "text": [
      "0b0000000000000011100000111\n"
     ]
    },
    {
     "data": {
      "text/plain": [
       "(None, 27)"
      ]
     },
     "execution_count": 54,
     "metadata": {},
     "output_type": "execute_result"
    }
   ],
   "source": [
    "print(A), len(A)"
   ]
  },
  {
   "cell_type": "code",
   "execution_count": 169,
   "id": "d40e3c4c-8b4c-419b-bb9f-6565db23e544",
   "metadata": {},
   "outputs": [],
   "source": [
    "a1, z2, w1, w2 = 7, 12, 1, 1"
   ]
  },
  {
   "cell_type": "code",
   "execution_count": 178,
   "id": "e22c8fb2-3ec5-45da-b1a1-85ac2f7ec524",
   "metadata": {},
   "outputs": [
    {
     "name": "stdout",
     "output_type": "stream",
     "text": [
      "0b0000000000000000000000111 7\n",
      "0b0000011000000000000000000 786432\n",
      "0b0000011000000000000000111 786439\n",
      "0b000000000100000001 257\n",
      "000000000000000000001100000011000000011100000111 1799\n",
      "7 7 12 12\n",
      "00000111 00000111 00001100 00001100\n",
      "00000111 00000111 00001100 00001100\n",
      "SUCCESS\n"
     ]
    }
   ],
   "source": [
    "a = Fxp(7, dtype='U4.0')\n",
    "w = Fxp(2, dtype='S4.0')\n",
    "p = Fxp(255, dtype = 'S8.0')\n",
    "offset = 8\n",
    "a1 = a(a1).copy()\n",
    "a2 = a(a2).copy()\n",
    "w1 = w(w1).copy()\n",
    "w2 = w(w2).copy()\n",
    "\n",
    "A_port = Fxp(0, dtype='S25.0')\n",
    "D_port = Fxp(0, dtype='S25.0')\n",
    "B_port = Fxp(0, dtype='U18.0')\n",
    "P_port = Fxp(0, dtype='S48.0')\n",
    "\n",
    "A = '0b' + '0'*25\n",
    "D = '0b' + '0'*25\n",
    "B = '0b' + '0'*18\n",
    "\n",
    "A = A[:-4] + a1.bin()\n",
    "D = D[:-(4+offset*2)] + a2.bin() + D[-(offset*2):]\n",
    "\n",
    "B = B[:-4] + w1.bin()\n",
    "B = B[:-(4+offset)] + w2.bin() + B[-(offset):]\n",
    "\n",
    "P = P_port(A_port(A_port(A)+D_port(D))*B_port(B)).bin()\n",
    "print(A, A_port(A))\n",
    "print(D, A_port(D))\n",
    "print('0b'+ A_port(A_port(A)+D_port(D)).bin(), A_port(A_port(A)+D_port(D)))\n",
    "print(B, B_port(B))\n",
    "print(P, P_port(A_port(A)*B_port(B))())\n",
    "print(p(prod1)(), p(prod2)(), p(prod3)(), p(prod4)())\n",
    "print(p(prod1).bin(), p(prod2).bin(), p(prod3).bin(), p(prod4).bin())\n",
    "print(P[-offset:], P[-offset*2:-(offset)], P[-offset*3:-offset*2], P[-offset*4:-offset*3])\n",
    "    \n",
    "\n",
    "prod1, prod2, prod3, prod4 = p(a1*w1)(), p(a1*w2)(), p(a2*w1)(), p(a2*w2)()\n",
    "if (p(prod1).bin(), p(prod2).bin(), p(prod3).bin(), p(prod4).bin()) != (P[-offset:], P[-offset*2:-(offset)], P[-offset*3:-offset*2], P[-offset*4:-offset*3]):\n",
    "    print(\"FAIL\")\n",
    "else:\n",
    "    print(\"SUCCESS\")"
   ]
  },
  {
   "cell_type": "code",
   "execution_count": 197,
   "id": "deac746e-2fd1-478e-9f78-96de327c763d",
   "metadata": {},
   "outputs": [],
   "source": [
    "a = Fxp(7, dtype='U4.0')\n",
    "w = Fxp(2, dtype='S4.0')\n",
    "p = Fxp(255, dtype = 'S8.0')\n",
    "offset = 8\n",
    "a1 = a(a1).copy()\n",
    "a2 = a(a2).copy()\n",
    "w1 = w(w1).copy()\n",
    "w2 = w(w2).copy()\n",
    "\n",
    "A_port = Fxp(0, dtype='S25.0')\n",
    "D_port = Fxp(0, dtype='S25.0')\n",
    "B_port = Fxp(0, dtype='U18.0')\n",
    "P_port = Fxp(0, dtype='S48.0')\n",
    "\n",
    "A = '0b' + '0'*25\n",
    "D = '0b' + '0'*25\n",
    "B = '0b' + '0'*18\n",
    "\n",
    "A = A[:-4] + a1.bin()\n",
    "D = D[:-(4+offset*2)] + a2.bin() + D[-(offset*2):]\n",
    "\n",
    "B = B[:-4] + w1.bin()\n",
    "B = B[:-(4+offset)] + w2.bin() + B[-(offset):]\n",
    "\n",
    "P1 = P_port(A_port(A_port(A)+D_port(D))*B_port(B))\n",
    "P2 = P_port(A_port(a1()+a2()*2**offset)*B_port(w1()+w2()*2**offset))"
   ]
  },
  {
   "cell_type": "code",
   "execution_count": 198,
   "id": "5e22bd22-9a0b-4c0b-a87c-0c8296be9282",
   "metadata": {},
   "outputs": [
    {
     "data": {
      "text/plain": [
       "(fxp-s48/0(791303), fxp-s48/0(791303))"
      ]
     },
     "execution_count": 198,
     "metadata": {},
     "output_type": "execute_result"
    }
   ],
   "source": [
    "P1,P2"
   ]
  },
  {
   "cell_type": "code",
   "execution_count": 175,
   "id": "d3308b60-d25f-4cfc-802e-bb4cef4aa68e",
   "metadata": {},
   "outputs": [
    {
     "data": {
      "text/plain": [
       "fxp-s25/0(786439)"
      ]
     },
     "execution_count": 175,
     "metadata": {},
     "output_type": "execute_result"
    }
   ],
   "source": [
    "A_port(A_port+D_port)"
   ]
  },
  {
   "cell_type": "code",
   "execution_count": 183,
   "id": "72f9cec9-c6d6-43ee-b74f-0dce7357eb5a",
   "metadata": {},
   "outputs": [],
   "source": [
    "a = Fxp(7, dtype='U4.0')\n",
    "w = Fxp(2, dtype='S4.0')\n",
    "p = Fxp(255, dtype = 'S8.0')\n",
    "A_port = Fxp(0, dtype='S25.0')\n",
    "D_port = Fxp(0, dtype='S25.0')\n",
    "B_port = Fxp(0, dtype='U18.0')\n",
    "P_port = Fxp(0, dtype='S48.0')\n",
    "A = '0b' + '0'*25\n",
    "D = '0b' + '0'*25\n",
    "B = '0b' + '0'*18\n",
    "params = (\n",
    "    a, w, p, A_port, D_port, B_port, P_port, A, D, B\n",
    ")\n",
    "# params = (\n",
    "#         Fxp(7, dtype='U4.0'), Fxp(2, dtype='S4.0'), Fxp(255, dtype = 'S8.0'),\n",
    "#         Fxp(0, dtype='S25.0'), Fxp(0, dtype='S25.0'), Fxp(0, dtype='U18.0'),\n",
    "#         Fxp(0, dtype='S48.0'))"
   ]
  },
  {
   "cell_type": "code",
   "execution_count": 199,
   "id": "133d0af7-ee10-41ce-874e-9a113db2a0a5",
   "metadata": {},
   "outputs": [],
   "source": [
    "def model_dsp(a1, a2, w1, w2, params, offset = 8, DEBUG_MODE= False):\n",
    "    a, w, p, A_port, D_port, B_port, P_port, A, D, B = params\n",
    "        \n",
    "    # a = Fxp(7, dtype='U4.0')\n",
    "    # w = Fxp(2, dtype='S4.0')\n",
    "    # p = Fxp(255, dtype = 'S8.0')\n",
    "    \n",
    "    a1 = a(a1).copy()\n",
    "    a2 = a(a2).copy()\n",
    "    w1 = w(w1).copy()\n",
    "    w2 = w(w2).copy()\n",
    "\n",
    "    prod1, prod2, prod3, prod4 = p(a1()*w1)(), p(a1*w2)(), p(a2*w1)(), p(a2*w2)()\n",
    "    \n",
    "    # A_port = Fxp(0, dtype='S25.0')\n",
    "    # D_port = Fxp(0, dtype='S25.0')\n",
    "    # B_port = Fxp(0, dtype='U18.0')\n",
    "    # P_port = Fxp(0, dtype='S48.0')\n",
    "    \n",
    "    # A = '0b' + '0'*25\n",
    "    # D = '0b' + '0'*25\n",
    "    # B = '0b' + '0'*18\n",
    "    \n",
    "    A = A[:-4] + a1.bin()\n",
    "    D = D[:-(4+offset*2)] + a2.bin() + D[-(offset*2):]\n",
    "    \n",
    "    B = B[:-4] + w1.bin()\n",
    "    B = B[:-(4+offset)] + w2.bin() + B[-(offset):]\n",
    "\n",
    "    P = P_port(A_port(A_port(A)+D_port(D))*B_port(B)).bin()\n",
    "\n",
    "    if DEBUG_MODE:\n",
    "        print(A, A_port(A))\n",
    "        print(D, A_port(D))\n",
    "        print('0b'+ A_port(A_port(A)+D_port(D)).bin(), A_port(A_port(A)+D_port(D)))\n",
    "        print(B, B_port(B))\n",
    "        print(P, P_port(A_port(A)*B_port(B))())\n",
    "        print(p(prod1)(), p(prod2)(), p(prod3)(), p(prod4)())\n",
    "        print(p(prod1).bin(), p(prod2).bin(), p(prod3).bin(), p(prod4).bin())\n",
    "        print(P[-offset:], P[-offset*2:-(offset)], P[-offset*3:-offset*2], P[-offset*4:-offset*3])\n",
    "        \n",
    "    if (p(prod1).bin(), p(prod2).bin(), p(prod3).bin(), p(prod4).bin()) != (P[-offset:], P[-offset*2:-(offset)], P[-offset*3:-offset*2], P[-offset*4:-offset*3]):\n",
    "        if DEBUG_MODE:\n",
    "           print(\"FAIL\")\n",
    "        return False\n",
    "    else:\n",
    "        if DEBUG_MODE:\n",
    "            print(\"SUCCESS\")\n",
    "        return True\n",
    "\n",
    "    "
   ]
  },
  {
   "cell_type": "code",
   "execution_count": 760,
   "id": "228a31a3-3eac-4e1f-9818-69c0515ba245",
   "metadata": {},
   "outputs": [],
   "source": [
    "a = Fxp(7, dtype='U4.0')\n",
    "w = Fxp(2, dtype='S4.0')\n",
    "p = Fxp(255, dtype = 'S8.0')\n",
    "mr = Fxp(0, dtype = 'U1.0')\n",
    "\n",
    "A_port = Fxp(0, dtype='S25.0')\n",
    "D_port = Fxp(0, dtype='S25.0')\n",
    "B_port = Fxp(0, dtype='U18.0')\n",
    "C_port = Fxp(0, dtype='S48.0')\n",
    "\n",
    "P_port = Fxp(0, dtype='S48.0')\n",
    "\n",
    "A = '0b' + '0'*25\n",
    "D = '0b' + '0'*25\n",
    "B = '0b' + '0'*18\n",
    "P = '0b' + '0'*48\n",
    "C = '0b' + '0'*48\n",
    "params = (\n",
    "    a, w, p, A_port, D_port, B_port, C_port, P_port, A, D, B, C\n",
    ")"
   ]
  },
  {
   "cell_type": "code",
   "execution_count": 672,
   "id": "e48e0282-84db-47a5-bb45-f1dc2a9b40e4",
   "metadata": {},
   "outputs": [
    {
     "data": {
      "text/plain": [
       "'10'"
      ]
     },
     "execution_count": 672,
     "metadata": {},
     "output_type": "execute_result"
    }
   ],
   "source": [
    "mr = Fxp(0, dtype = 'U2.0')\n",
    "mr('0b00')\n",
    "mr((1-3)%4).bin()"
   ]
  },
  {
   "cell_type": "code",
   "execution_count": null,
   "id": "0b671605-8886-4e1c-a193-b24211ff00ea",
   "metadata": {},
   "outputs": [],
   "source": [
    "\n",
    "'001'+'01' = '010'!'001' -> -'01' (0,0)\n",
    "'001'+'10' = '011'!'010' -> -'01' (1,0)\n",
    "'001'+'11' = '100'!'011' -> -'01' (2,0)\n",
    "'010'+'01' = '011'!'001' -> -'10' (1,0)\n",
    "'010'+'10' = '100'!'010' -> -'10' (0,0)\n",
    "'010'+'11' = '101'!'011' -> -'10' (1,0)\n",
    "'011'+'01' = '100'!'001' -> -'11' (2,0)\n",
    "'011'+'10' = '101'!'010' -> -'11' (1,0)\n",
    "'011'+'11' = '110'!'011' -> -'11' (0,0)\n",
    "\n",
    "'001'+'00' = '001'!'000'\n",
    "'010'+'00' = '010'!'000'\n",
    "'011'+'00' = '011'!'100'\n",
    "'101'+'00' = '101'!'100'\n",
    "'110'+'00' = '110'!'100'\n",
    "'0111'+'00' = '0111'!'1000'\n",
    "\n",
    "'100'+'01' = '101'!'101' -> -'00' (0,0)\n",
    "'100'+'10' = '011'!'010' -> -'00' (1,0)\n",
    "'100'+'11' = '100'!'011' -> -'00' (2,0)\n",
    "'101'+'01' = '010'!'001' -> -'01' (0,0)\n",
    "'101'+'10' = '011'!'010' -> -'01' (1,0)\n",
    "'101'+'11' = '100'!'011' -> -'01' (2,0)\n",
    "'110'+'01' = '011'!'001' -> -'10' (1,0)\n",
    "'110'+'10' = '100'!'010' -> -'10' (0,0)\n",
    "'110'+'11' = '101'!'011' -> -'10' (1,0)\n",
    "'111'+'01' = '100'!'001' -> -'11' (2,0)\n",
    "'111'+'10' = '101'!'010' -> -'11' (1,0)\n",
    "'111'+'11' = '110'!'011' -> -'11' (0,0)"
   ]
  },
  {
   "cell_type": "code",
   "execution_count": 633,
   "id": "9702a337-5769-4783-8ba1-2769a804f486",
   "metadata": {},
   "outputs": [
    {
     "data": {
      "text/plain": [
       "2"
      ]
     },
     "execution_count": 633,
     "metadata": {},
     "output_type": "execute_result"
    }
   ],
   "source": [
    "offset = 7\n",
    "out_size=8\n",
    "modulo = 2**(out_size-offset) if offset < 8 else 1\n",
    "\n",
    "modulo"
   ]
  },
  {
   "cell_type": "code",
   "execution_count": 730,
   "id": "84d873ca-1eb9-4fea-a423-447dfe21df5d",
   "metadata": {},
   "outputs": [
    {
     "data": {
      "text/plain": [
       "'9'"
      ]
     },
     "execution_count": 730,
     "metadata": {},
     "output_type": "execute_result"
    }
   ],
   "source": [
    "'987654321'[:-8]"
   ]
  },
  {
   "cell_type": "code",
   "execution_count": 780,
   "id": "34c79a24-f409-40fb-b860-a720baa0d05d",
   "metadata": {},
   "outputs": [],
   "source": [
    "def fast_model_dsp(a1, a2, w1, w2, params, offset = 8, DEBUG_MODE= False, BIT_RECOVERY=False, APPROXIMATION=False):\n",
    "    a, w, p, A_port, D_port, B_port, C_port, P_port, A, D, B, C = params\n",
    "    # if offset != 8:\n",
    "    #     p = Fxp(255, dtype = f'S{offset}.0')\n",
    "    out_size = len(p.bin()) # output should be 8 bits\n",
    "    w1_sign = int(w1 < 0)\n",
    "    w2_sign = int(w2 < 0)\n",
    "    modulo = 2**(out_size-offset) if offset < 8 else 1\n",
    "    errors = np.zeros(4)\n",
    "    EP = np.zeros(4)\n",
    "    prod1, prod2, prod3, prod4 = p(a1*w1)(), p(a2*w1)(), p(a1*w2)(), p(a2*w2)()\n",
    "    P = P_port(A_port(w1+w2*(2**(offset*2)))*B_port(a1+a2*(2**offset)))\n",
    "\n",
    "\n",
    "        \n",
    "    \n",
    "    if DEBUG_MODE:\n",
    "        print(A_port(), B_port())\n",
    "        print('A port', A_port(w1), A_port(A_port(w1)).bin())\n",
    "        print('D port', A_port(w*(2**(offset*2))),A_port(w2*(2**(2*offset))).bin())\n",
    "        print('A+D port', A_port(w1+w2*(2**(offset*2))),A_port(w1+w2*(2**(offset*2))).bin())\n",
    "        print('B port', B_port(a1+a2*(2**offset)).bin(), B_port(a1+a2*(2**offset)))\n",
    "        print('Pnaive', P.bin(), P())\n",
    "\n",
    "    if APPROXIMATION:\n",
    "        C = C_port(C[:-offset*3-1]+ str(w2_sign) + C[-offset*3:-offset*2-1] + str(w1_sign) + C[-offset*2:-offset-1] + str(w1_sign) +  C[-offset:]) # I want to put the sign bits in now\n",
    "        P = P_port(P + C)\n",
    "        if DEBUG_MODE:\n",
    "            print('APPROX')\n",
    "            print('C port', C.bin(), C())\n",
    "            print('P port', P.bin(), P())\n",
    "        \n",
    "        \n",
    "    if BIT_RECOVERY:\n",
    "        MR2, MR3, MR4 = p((a2*w1)%modulo)(), p((a1*w2)%modulo)(), p((a2*w2)%modulo)()\n",
    "        C = C_port(MR2*(2**(offset)) + MR3*(2**(offset*2))+ MR4*(2**(offset*3)))\n",
    "        P = P_port(P - C)\n",
    "        if DEBUG_MODE:\n",
    "            print('RECOVERY')\n",
    "            print('C port', C.bin(), C())\n",
    "            print('P port', P.bin(), P())\n",
    "        \n",
    "    if DEBUG_MODE:\n",
    "        print('P port', P.bin(), P())\n",
    "        if BIT_RECOVERY:\n",
    "            print('C port', C.bin(), C())\n",
    "            print(MR2, MR3, MR4)\n",
    "            print(p((a2*w1))(), p((a1*w2))(), p((a2*w2))())\n",
    "        print(p(prod1)(), p(prod2)(), p(prod3)(), p(prod4)())\n",
    "        print(p(prod1).bin(), p(prod2).bin(), p(prod3).bin(), p(prod4).bin())\n",
    "        print(P.bin()[-out_size:], P.bin()[-out_size-offset:-(offset)], P.bin()[-out_size-(offset*2):-offset*2], P.bin()[-out_size-(offset*3):-offset*3])    \n",
    "\n",
    "    if p(prod1).bin() != P.bin()[-out_size:]:\n",
    "        errors[0]= abs(p(prod1)() - p('0b' + P.bin()[-out_size:])())\n",
    "        EP[0] = 1\n",
    "        if DEBUG_MODE:\n",
    "            print('error1')\n",
    "    if p(prod2).bin() != P.bin()[-out_size-offset:-(offset)]:\n",
    "        errors[1]= abs(p(prod2)() - p('0b' + P.bin()[-out_size-offset:-(offset)])())\n",
    "        EP[1] = 1\n",
    "        if DEBUG_MODE:\n",
    "            print('error2')\n",
    "    if p(prod3).bin() != P.bin()[-out_size-(offset*2):-offset*2]:\n",
    "        errors[2]= abs(p(prod3)() - p('0b' + P.bin()[-out_size-(offset*2):-offset*2])())\n",
    "        EP[2] = 1\n",
    "        if DEBUG_MODE:\n",
    "            print('error3')\n",
    "    if p(prod4).bin() !=  P.bin()[-out_size-(offset*3):-offset*3]:\n",
    "        errors[3]= abs(p(prod4)() - p('0b' + P.bin()[-out_size-(offset*3):-offset*3])())\n",
    "        EP[3] = 1\n",
    "        if DEBUG_MODE:\n",
    "            print('error4')\n",
    "\n",
    "    return EP, errors\n",
    "\n",
    "    \n",
    "    "
   ]
  },
  {
   "cell_type": "code",
   "execution_count": 750,
   "id": "da6bdbc3-4303-435a-a8c8-97c5ed27212c",
   "metadata": {},
   "outputs": [],
   "source": [
    "offset=8\n",
    "w2 = -1\n",
    "w1 = 1"
   ]
  },
  {
   "cell_type": "code",
   "execution_count": 751,
   "id": "ad5043d4-436a-4e36-9726-450f5aa70b25",
   "metadata": {},
   "outputs": [
    {
     "data": {
      "text/plain": [
       "'0b00000000000000000000000100000000000000000b0000000000000000000000000000000000000000'"
      ]
     },
     "execution_count": 751,
     "metadata": {},
     "output_type": "execute_result"
    }
   ],
   "source": [
    "w1_sign = int(w1 < 0)\n",
    "w2_sign = int(w2 < 0)\n",
    "C[:-offset*3-1]+ str(w2_sign) + C[-offset*3:-offset*2-1] + str(w1_sign) + C[-offset*2:-offset-1] + str(w1_sign) +  C[:-offset]\n"
   ]
  },
  {
   "cell_type": "code",
   "execution_count": 755,
   "id": "0d7c22ca-7630-4cdb-ae3b-33676b25ad9c",
   "metadata": {},
   "outputs": [
    {
     "data": {
      "text/plain": [
       "'0b000000000000000000000001000000000000000000000000'"
      ]
     },
     "execution_count": 755,
     "metadata": {},
     "output_type": "execute_result"
    }
   ],
   "source": [
    "C[:-offset*3-1]+ str(w2_sign) + C[-offset*3:-offset*2-1] + str(w1_sign) + C[-offset*2:-offset-1] + str(w1_sign) +  C[-offset:]"
   ]
  },
  {
   "cell_type": "code",
   "execution_count": 781,
   "id": "1c5815bd-a152-4a58-ae0b-aaf1b3744ef8",
   "metadata": {},
   "outputs": [],
   "source": [
    "a1=12\n",
    "a2=11\n",
    "w1=-5\n",
    "w2=6"
   ]
  },
  {
   "cell_type": "code",
   "execution_count": 767,
   "id": "da131f41-cfcd-4375-9610-a8259d55f236",
   "metadata": {},
   "outputs": [
    {
     "data": {
      "text/plain": [
       "(-60, 72, -55, 66)"
      ]
     },
     "execution_count": 767,
     "metadata": {},
     "output_type": "execute_result"
    }
   ],
   "source": [
    "a1*w1, a1*w2, a2*w1, a2*w2\n"
   ]
  },
  {
   "cell_type": "code",
   "execution_count": 783,
   "id": "2f44e89e-596f-46c3-8cc8-ed01302c6c82",
   "metadata": {},
   "outputs": [
    {
     "data": {
      "text/plain": [
       "('01001000', '11001001', '01000010')"
      ]
     },
     "execution_count": 783,
     "metadata": {},
     "output_type": "execute_result"
    }
   ],
   "source": [
    "p(a1*w2).bin(), p(a2*w1).bin(), p(a2*w2).bin()"
   ]
  },
  {
   "cell_type": "code",
   "execution_count": 788,
   "id": "a70afee9-eb8a-4e8f-9f81-f400089bcc34",
   "metadata": {},
   "outputs": [
    {
     "data": {
      "text/plain": [
       "('00000000', '00000001', '00000010')"
      ]
     },
     "execution_count": 788,
     "metadata": {},
     "output_type": "execute_result"
    }
   ],
   "source": [
    "p((a1*w2)%4).bin(), p((a2*w1)%4).bin(), p((a2*w2)%4).bin()"
   ]
  },
  {
   "cell_type": "code",
   "execution_count": null,
   "id": "931240a5-f1cc-42fc-b93b-e1e94cd5cda5",
   "metadata": {},
   "outputs": [],
   "source": []
  },
  {
   "cell_type": "code",
   "execution_count": 787,
   "id": "0a522a92-79ad-4d85-977b-833dedd9dd7a",
   "metadata": {},
   "outputs": [
    {
     "name": "stdout",
     "output_type": "stream",
     "text": [
      "98299 1420\n",
      "A port -5 1111111111111111111111011\n",
      "D port 98304 0000000011000000000000000\n",
      "A+D port 98299 0000000010111111111111011\n",
      "B port 000000010110001100 1420\n",
      "Pnaive 000000000000000000001000010100011110010001000100 139584580\n",
      "RECOVERY\n",
      "C port 000000000000000000000000000000000000000010000000 128\n",
      "P port 000000000000000000001000010100011110001111000100 139584452\n",
      "P port 000000000000000000001000010100011110001111000100 139584452\n",
      "C port 000000000000000000000000000000000000000010000000 128\n",
      "1 0 0\n",
      "-55 72 66\n",
      "-60 -55 72 66\n",
      "11000100 11001001 01001000 01000010\n",
      "11000100 11000111 01000111 01000010\n",
      "error2\n",
      "error3\n",
      "[0. 1. 1. 0.] [0. 2. 1. 0.]\n"
     ]
    }
   ],
   "source": [
    "EP, MAE = 0,0\n",
    "error_nums, errors = fast_model_dsp(a1,a2,w1,w2, params, DEBUG_MODE=True, offset=7, BIT_RECOVERY=True)\n",
    "EP += error_nums\n",
    "MAE += int(sum(errors)) \n",
    "print(error_nums, errors)\n",
    "# print(EP/4, MAE/4)\n",
    "# print(f\"Error rate: {100*EP/((16**4)*4):.2f}%\")\n",
    "# print(f\"Mean Absolute Error : {MAE/((16**4)):.2f}\")"
   ]
  },
  {
   "cell_type": "code",
   "execution_count": 770,
   "id": "2664473e-6a86-4e59-bee2-25c20b32c8b1",
   "metadata": {},
   "outputs": [
    {
     "name": "stdout",
     "output_type": "stream",
     "text": [
      "393211 2828\n",
      "A port -5 1111111111111111111111011\n",
      "D port 393216 0000001100000000000000000\n",
      "A+D port 393211 0000001011111111111111011\n",
      "B port 000000101100001100 2828\n",
      "Pnaive 000000000000000001000010010001111100100011000100 1112000708\n",
      "P port 000000000000000001000010010001111100100011000100 1112000708\n",
      "-60 -55 72 66\n",
      "11000100 11001001 01001000 01000010\n",
      "11000100 11001000 01000111 01000010\n",
      "error2\n",
      "error3\n",
      "[0. 1. 1. 0.] [0. 1. 1. 0.]\n"
     ]
    }
   ],
   "source": [
    "EP, MAE = 0,0\n",
    "error_nums, errors = fast_model_dsp(a1,a2,w1,w2, params,DEBUG_MODE=True,offset=8, BIT_RECOVERY=False)\n",
    "EP += error_nums\n",
    "MAE += int(sum(errors)) \n",
    "print(error_nums, errors)\n",
    "# print(EP/4, MAE/4)\n",
    "# print(f\"Error rate: {100*EP/((16**4)*4):.2f}%\")\n",
    "# print(f\"Mean Absolute Error : {MAE/((16**4)):.2f}\")"
   ]
  },
  {
   "cell_type": "code",
   "execution_count": 776,
   "id": "77e09bc6-a5f6-4527-8933-9f08ec4edcfa",
   "metadata": {},
   "outputs": [
    {
     "name": "stdout",
     "output_type": "stream",
     "text": [
      "98299 1420\n",
      "A port -5 1111111111111111111111011\n",
      "D port 98304 0000000011000000000000000\n",
      "A+D port 98299 0000000010111111111111011\n",
      "B port 000000010110001100 1420\n",
      "Pnaive 000000000000000000001000010100011110010001000100 139584580\n",
      "APPROX\n",
      "C port 000000000000000000000000000000000100000010000000 16512\n",
      "P port 000000000000000000001000010100100010010011000100 139601092\n",
      "RECOVERY\n",
      "C port 000000000000000000000000000000000000000010000000 128\n",
      "P port 000000000000000000001000010100100010010001000100 139600964\n",
      "P port 000000000000000000001000010100100010010001000100 139600964\n",
      "C port 000000000000000000000000000000000000000010000000 128\n",
      "1 0 0\n",
      "-55 72 66\n",
      "-60 -55 72 66\n",
      "11000100 11001001 01001000 01000010\n",
      "01000100 01001000 01001000 01000010\n",
      "error1\n",
      "error2\n",
      "[1. 1. 0. 0.] [128. 127.   0.   0.]\n"
     ]
    }
   ],
   "source": [
    "EP, MAE = 0,0\n",
    "error_nums, errors = fast_model_dsp(a1,a2,w1,w2, params,DEBUG_MODE=True,offset=7, APPROXIMATION=True, BIT_RECOVERY=True)\n",
    "EP += error_nums\n",
    "MAE += int(sum(errors)) \n",
    "print(error_nums, errors)\n",
    "# print(EP/4, MAE/4)\n",
    "# print(f\"Error rate: {100*EP/((16**4)*4):.2f}%\")\n",
    "# print(f\"Mean Absolute Error : {MAE/((16**4)):.2f}\")"
   ]
  },
  {
   "cell_type": "code",
   "execution_count": 773,
   "id": "18c84a98-b4b8-4850-8e7a-c843f200d857",
   "metadata": {},
   "outputs": [
    {
     "name": "stdout",
     "output_type": "stream",
     "text": [
      "98299 1420\n",
      "A port -5 1111111111111111111111011\n",
      "D port 98304 0000000011000000000000000\n",
      "A+D port 98299 0000000010111111111111011\n",
      "B port 000000010110001100 1420\n",
      "Pnaive 000000000000000000001000010100011110010001000100 139584580\n",
      "P port 000000000000000000001000010100011110001111000100 139584452\n",
      "C port 000000000000000000000000000000000000000010000000 128\n",
      "1 0 0\n",
      "-55 72 66\n",
      "-60 -55 72 66\n",
      "11000100 11001001 01001000 01000010\n",
      "11000100 11000111 01000111 01000010\n",
      "error2\n",
      "error3\n",
      "[0. 1. 1. 0.] [0. 2. 1. 0.]\n"
     ]
    }
   ],
   "source": [
    "EP, MAE = 0,0\n",
    "error_nums, errors = fast_model_dsp(a1,a2,w1,w2, params,DEBUG_MODE=True,offset=7, BIT_RECOVERY=True)\n",
    "EP += error_nums\n",
    "MAE += int(sum(errors)) \n",
    "print(error_nums, errors)\n",
    "# print(EP/4, MAE/4)\n",
    "# print(f\"Error rate: {100*EP/((16**4)*4):.2f}%\")\n",
    "# print(f\"Mean Absolute Error : {MAE/((16**4)):.2f}\")"
   ]
  },
  {
   "cell_type": "code",
   "execution_count": 678,
   "id": "69f712b5-22e2-4e9c-baa0-dcf5f4c0f373",
   "metadata": {},
   "outputs": [
    {
     "name": "stdout",
     "output_type": "stream",
     "text": [
      "24571 716\n",
      "A port -5 1111111111111111111111011\n",
      "D port 24576 0000000000110000000000000\n",
      "A+D port 24571 0000000000101111111111011\n",
      "B port 000000001011001100 716\n",
      "Pnaive 000000000000000000000001000011000111001000000100 17592836\n",
      "P port 000000000000000000000001000001000111000111000100 17068484\n",
      "C port 000000000000000000000000000010000000000001000000 524352\n",
      "1 0 2\n",
      "-55 72 66\n",
      "-60 -55 72 66\n",
      "11000100 11001001 01001000 01000010\n",
      "11000100 11000111 01000111 01000001\n",
      "error2\n",
      "error3\n",
      "error4\n",
      "[0. 1. 1. 1.] [0. 2. 1. 1.]\n"
     ]
    }
   ],
   "source": [
    "EP, MAE = 0,0\n",
    "error_nums, errors = fast_model_dsp(a1,a2,w1,w2, params,DEBUG_MODE=True,offset=6, BIT_RECOVERY=True)\n",
    "EP += error_nums\n",
    "MAE += int(sum(errors)) \n",
    "print(error_nums, errors)\n",
    "# print(EP/4, MAE/4)\n",
    "# print(f\"Error rate: {100*EP/((16**4)*4):.2f}%\")\n",
    "# print(f\"Mean Absolute Error : {MAE/((16**4)):.2f}\")"
   ]
  },
  {
   "cell_type": "code",
   "execution_count": null,
   "id": "b398ce53-ec04-49b4-b8e2-89d51bccf14a",
   "metadata": {},
   "outputs": [],
   "source": [
    "000000000000000000001000010100011110010001000100\n",
    "000000000000000000000001000011000111001000000100\n",
    "\n",
    "000000000000000000001000010100011110001111000100\n",
    "000000000000000000000001000001000111000111000100\n",
    "\n",
    "000000000000000000000001000011001011001100000100\n"
   ]
  },
  {
   "cell_type": "code",
   "execution_count": 675,
   "id": "4b0102d9-55f7-462c-8f14-ae7fe0b7897f",
   "metadata": {},
   "outputs": [
    {
     "name": "stdout",
     "output_type": "stream",
     "text": [
      "98299 1420\n",
      "A port -5 1111111111111111111111011\n",
      "D port 98304 0000000011000000000000000\n",
      "A+D port 98299 0000000010111111111111011\n",
      "B port 000000010110001100 1420\n",
      "Pnaive 000000000000000000001000010100011110010001000100 139584580\n",
      "P port 000000000000000000001000010100011110001111000100 139584452\n",
      "C port 000000000000000000000000000000000000000010000000 128\n",
      "1 0 0\n",
      "-55 72 66\n",
      "-60 -55 72 66\n",
      "11000100 11001001 01001000 01000010\n",
      "11000100 11000111 01000111 01000010\n",
      "error2\n",
      "error3\n",
      "[0. 1. 1. 0.] [0. 2. 1. 0.]\n"
     ]
    }
   ],
   "source": [
    "EP, MAE = 0,0\n",
    "error_nums, errors = fast_model_dsp(a1,a2,w1,w2, params,DEBUG_MODE=True,offset=7, BIT_RECOVERY=True)\n",
    "EP += error_nums\n",
    "MAE += int(sum(errors)) \n",
    "print(error_nums, errors)\n",
    "# print(EP/4, MAE/4)\n",
    "# print(f\"Error rate: {100*EP/((16**4)*4):.2f}%\")\n",
    "# print(f\"Mean Absolute Error : {MAE/((16**4)):.2f}\")"
   ]
  },
  {
   "cell_type": "code",
   "execution_count": 191,
   "id": "8d305a9e-b6d9-4505-b579-8f4ae9ede965",
   "metadata": {},
   "outputs": [],
   "source": [
    "a = Fxp(7, dtype='U4.0')\n",
    "w = Fxp(2, dtype='S4.0')\n",
    "p = Fxp(255, dtype = 'S8.0')\n",
    "A_port = Fxp(0, dtype='S25.0')\n",
    "D_port = Fxp(0, dtype='S25.0')\n",
    "B_port = Fxp(0, dtype='U18.0')\n",
    "P_port = Fxp(0, dtype='S48.0')\n",
    "A = '0b' + '0'*25\n",
    "D = '0b' + '0'*25\n",
    "B = '0b' + '0'*18\n",
    "params = (\n",
    "    a, w, p, A_port, D_port, B_port, P_port, A, D, B\n",
    ")"
   ]
  },
  {
   "cell_type": "code",
   "execution_count": 727,
   "id": "e4c44e5f-1808-4f8d-8b95-432202a3e23b",
   "metadata": {},
   "outputs": [
    {
     "name": "stdout",
     "output_type": "stream",
     "text": [
      "num combinations tested: 262144 Time elapsed: 171  seconds\n",
      "Error rate: 57.54%\n",
      "Mean Absolute Error : 1.18\n",
      "Worst Case Error : 5.0\n",
      "a0w0 MAE 0.000000 EP 0.000000 WCE 0\n",
      "a1w0 MAE 1.533203 EP 0.744141 WCE 5.0\n",
      "a0w1 MAE 1.587402 EP 0.768555 WCE 5.0\n",
      "a1w1 MAE 1.606445 EP 0.789062 WCE 5.0\n"
     ]
    }
   ],
   "source": [
    "EP = 0\n",
    "MAE = int(0)\n",
    "WCE = 0\n",
    "WCE1 = 0\n",
    "WCE2 = 0\n",
    "WCE3 = 0\n",
    "WCE4 = 0\n",
    "error_nums = np.zeros(4)\n",
    "errors = np.zeros(4)\n",
    "\n",
    "start = time.time()\n",
    "a1_range = range(0,16)\n",
    "a2_range = range(0,16)\n",
    "w1_range = range(-8,8)\n",
    "w2_range = range(-8,8)\n",
    "nums = len(a1_range)\n",
    "\n",
    "for a1 in a1_range:\n",
    "    for a2 in a2_range:\n",
    "        for w1 in w1_range:\n",
    "            for w2 in w2_range:\n",
    "                error_nums_, errors_ = fast_model_dsp(a1,a2,w1,w2, params, offset=6,BIT_RECOVERY=True)\n",
    "                EP += sum(error_nums_)\n",
    "                MAE += int(sum(errors_))\n",
    "                WCE = max(WCE, *errors_)\n",
    "                WCE1 = max(WCE1, errors_[0])\n",
    "                WCE2 = max(WCE2, errors_[1])\n",
    "                WCE3 = max(WCE3, errors_[2])\n",
    "                WCE4 = max(WCE4, errors_[3])\n",
    "                errors += errors_\n",
    "                error_nums += error_nums_\n",
    "                if ((a1*nums**3)+(a2*nums**2)+((8+w1)*nums**1)+w2+8+1)%100 == 0:\n",
    "                    finish = time.time()\n",
    "                    print(\"Percent Complete: \", int(((a1*nums**3)+(a2*nums**2)+((8+w1)*nums**1)+w2+8+1)*100/(16**4)), \"Time elapsed: \", int(finish-start), end='\\r')\n",
    "                \n",
    "                # print(int((a1*nums**3)+(a2*nums**2)+((8+w1)*nums**1)+w2+8+1))\n",
    "                    # print(((i*256)+j+1))\n",
    "finish = time.time()\n",
    "print(\"num combinations tested:\", (16**4)*4, \"Time elapsed:\", int(finish-start), \" seconds\")\n",
    "# print(f\"There were {EP} failures.\")\n",
    "# print(f\"There were {cycles_w_error} cycles with error.\")\n",
    "print(f\"Error rate: {100*EP/((16**4)*4):.2f}%\")\n",
    "print(f\"Mean Absolute Error : {MAE/((16**4)*4):.2f}\")\n",
    "print(f\"Worst Case Error : {WCE}\")\n",
    "print(f\"a0w0 MAE {errors[0]/(16**4):3f}\",\"EP\",f'{error_nums[0]/(16**4):3f}',\"WCE\",WCE1)\n",
    "print(f\"a1w0 MAE {errors[1]/(16**4):3f}\",\"EP\",f'{error_nums[1]/(16**4):3f}',\"WCE\",WCE2)\n",
    "print(f\"a0w1 MAE {errors[2]/(16**4):3f}\",\"EP\",f'{error_nums[2]/(16**4):3f}',\"WCE\",WCE3)\n",
    "print(f\"a1w1 MAE {errors[3]/(16**4):3f}\",\"EP\",f'{error_nums[3]/(16**4):3f}',\"WCE\",WCE4)\n"
   ]
  },
  {
   "cell_type": "code",
   "execution_count": 726,
   "id": "32e3d45e-5581-43f2-b799-94c997392e53",
   "metadata": {},
   "outputs": [
    {
     "name": "stdout",
     "output_type": "stream",
     "text": [
      "a0w0 MAE 0.000000 EP 0.000000 WCE 0\n",
      "a1w0 MAE 0.000015 EP 0.000015 WCE 5.0\n",
      "a0w1 MAE 0.000015 EP 0.000015 WCE 5.0\n",
      "a1w1 MAE 0.000000 EP 0.000000 WCE 5.0\n"
     ]
    }
   ],
   "source": [
    "\n",
    "print(f\"a0w0 MAE {errors[0]/(16**4):3f} EP {error_nums[0]/(16**4):3f} WCE {WCE1}\")\n",
    "print(f\"a1w0 MAE {errors[1]/(16**4):3f}\",\"EP\",f'{error_nums[1]/(16**4):3f}',\"WCE\",WCE2)\n",
    "print(f\"a0w1 MAE {errors[2]/(16**4):3f}\",\"EP\",f'{error_nums[2]/(16**4):3f}',\"WCE\",WCE3)\n",
    "print(f\"a1w1 MAE {errors[3]/(16**4):3f}\",\"EP\",f'{error_nums[3]/(16**4):3f}',\"WCE\",WCE4)"
   ]
  },
  {
   "cell_type": "code",
   "execution_count": 689,
   "id": "ab065db0-d051-4c76-b1bd-38c971488e33",
   "metadata": {},
   "outputs": [
    {
     "data": {
      "text/plain": [
       "array([    0., 30720., 32640., 34560.])"
      ]
     },
     "execution_count": 689,
     "metadata": {},
     "output_type": "execute_result"
    }
   ],
   "source": [
    "error_nums"
   ]
  },
  {
   "cell_type": "code",
   "execution_count": 457,
   "id": "a5e8499c-8a54-4f69-bc7c-90bab7514f43",
   "metadata": {},
   "outputs": [
    {
     "name": "stdout",
     "output_type": "stream",
     "text": [
      "Error rate: 37.35%\n",
      "Mean Absolute Error : 0.37%\n"
     ]
    }
   ],
   "source": [
    "print(f\"Error rate: {100*EP/((16**4)*4):.2f}%\")\n",
    "print(f\"Mean Absolute Error : {MAE/((16**4)*4):.2f}%\")"
   ]
  },
  {
   "cell_type": "code",
   "execution_count": 728,
   "id": "ee03b61d-3cba-4fc4-a325-35ae6a555d67",
   "metadata": {},
   "outputs": [
    {
     "name": "stdout",
     "output_type": "stream",
     "text": [
      "num combinations tested: 262144 Time elapsed: 103  seconds\n",
      "Error rate: 37.35%\n",
      "Mean Absolute Error : 0.37\n",
      "Worst Case Error : 1.0\n"
     ]
    }
   ],
   "source": [
    "EP = 0\n",
    "MAE = int(0)\n",
    "WCE = 0\n",
    "WCE1 = 0\n",
    "WCE2 = 0\n",
    "WCE3 = 0\n",
    "WCE4 = 0\n",
    "error_nums = np.zeros(4)\n",
    "errors = np.zeros(4)\n",
    "\n",
    "start = time.time()\n",
    "a1_range = range(0,16)\n",
    "a2_range = range(0,16)\n",
    "w1_range = range(-8,8)\n",
    "w2_range = range(-8,8)\n",
    "nums = len(a1_range)\n",
    "\n",
    "for a1 in a1_range:\n",
    "    for a2 in a2_range:\n",
    "        for w1 in w1_range:\n",
    "            for w2 in w2_range:\n",
    "                error_nums_, errors_ = fast_model_dsp(a1,a2,w1,w2, params)\n",
    "                EP += sum(error_nums_)\n",
    "                MAE += int(sum(errors_))\n",
    "                WCE = max(WCE, *errors_)\n",
    "                WCE1 = max(WCE1, errors_[0])\n",
    "                WCE2 = max(WCE2, errors_[1])\n",
    "                WCE3 = max(WCE3, errors_[2])\n",
    "                WCE4 = max(WCE4, errors_[3])\n",
    "                errors += errors_\n",
    "                error_nums += error_nums_\n",
    "                if ((a1*nums**3)+(a2*nums**2)+((8+w1)*nums**1)+w2+8+1)%100 == 0:\n",
    "                    finish = time.time()\n",
    "                    print(\"Percent Complete: \", int(((a1*nums**3)+(a2*nums**2)+((8+w1)*nums**1)+w2+8+1)*100/(16**4)), \"Time elapsed: \", int(finish-start), end='\\r')\n",
    "                \n",
    "                # print(int((a1*nums**3)+(a2*nums**2)+((8+w1)*nums**1)+w2+8+1))\n",
    "                    # print(((i*256)+j+1))\n",
    "finish = time.time()\n",
    "print(\"num combinations tested:\", (16**4)*4, \"Time elapsed:\", int(finish-start), \" seconds\")\n",
    "# print(f\"There were {EP} failures.\")\n",
    "# print(f\"There were {cycles_w_error} cycles with error.\")\n",
    "print(f\"Error rate: {100*EP/((16**4)*4):.2f}%\")\n",
    "print(f\"Mean Absolute Error : {MAE/((16**4)*4):.2f}\")\n",
    "print(f\"Worst Case Error : {WCE}\")\n",
    "print(f\"a0w0 MAE {errors[0]/(16**4):3f}\",\"EP\",f'{error_nums[0]/(16**4):3f}',\"WCE\",WCE1)\n",
    "print(f\"a1w0 MAE {errors[1]/(16**4):3f}\",\"EP\",f'{error_nums[1]/(16**4):3f}',\"WCE\",WCE2)\n",
    "print(f\"a0w1 MAE {errors[2]/(16**4):3f}\",\"EP\",f'{error_nums[2]/(16**4):3f}',\"WCE\",WCE3)\n",
    "print(f\"a1w1 MAE {errors[3]/(16**4):3f}\",\"EP\",f'{error_nums[3]/(16**4):3f}',\"WCE\",WCE4)\n"
   ]
  },
  {
   "cell_type": "code",
   "execution_count": 762,
   "id": "21adb0c0-7781-421d-9ebc-fc69e0804223",
   "metadata": {},
   "outputs": [
    {
     "name": "stdout",
     "output_type": "stream",
     "text": [
      "num combinations tested: 262144 Time elapsed: 123  seconds\n",
      "Error rate: 2.35%\n",
      "Mean Absolute Error : 0.02\n",
      "Worst Case Error : 1.0\n"
     ]
    }
   ],
   "source": [
    "EP = 0\n",
    "MAE = int(0)\n",
    "WCE = 0\n",
    "WCE1 = 0\n",
    "WCE2 = 0\n",
    "WCE3 = 0\n",
    "WCE4 = 0\n",
    "error_nums = np.zeros(4)\n",
    "errors = np.zeros(4)\n",
    "\n",
    "start = time.time()\n",
    "a1_range = range(0,16)\n",
    "a2_range = range(0,16)\n",
    "w1_range = range(-8,8)\n",
    "w2_range = range(-8,8)\n",
    "nums = len(a1_range)\n",
    "\n",
    "for a1 in a1_range:\n",
    "    for a2 in a2_range:\n",
    "        for w1 in w1_range:\n",
    "            for w2 in w2_range:\n",
    "                error_nums_, errors_ = fast_model_dsp(a1,a2,w1,w2, params, APPROXIMATION=True)\n",
    "                EP += sum(error_nums_)\n",
    "                MAE += int(sum(errors_))\n",
    "                WCE = max(WCE, *errors_)\n",
    "                WCE1 = max(WCE1, errors_[0])\n",
    "                WCE2 = max(WCE2, errors_[1])\n",
    "                WCE3 = max(WCE3, errors_[2])\n",
    "                WCE4 = max(WCE4, errors_[3])\n",
    "                errors += errors_\n",
    "                error_nums += error_nums_\n",
    "                if ((a1*nums**3)+(a2*nums**2)+((8+w1)*nums**1)+w2+8+1)%100 == 0:\n",
    "                    finish = time.time()\n",
    "                    print(\"Percent Complete: \", int(((a1*nums**3)+(a2*nums**2)+((8+w1)*nums**1)+w2+8+1)*100/(16**4)), \"Time elapsed: \", int(finish-start), end='\\r')\n",
    "                \n",
    "                # print(int((a1*nums**3)+(a2*nums**2)+((8+w1)*nums**1)+w2+8+1))\n",
    "                    # print(((i*256)+j+1))\n",
    "finish = time.time()\n",
    "print(\"num combinations tested:\", (16**4)*4, \"Time elapsed:\", int(finish-start), \" seconds\")\n",
    "# print(f\"There were {EP} failures.\")\n",
    "# print(f\"There were {cycles_w_error} cycles with error.\")\n",
    "print(f\"Error rate: {100*EP/((16**4)*4):.2f}%\")\n",
    "print(f\"Mean Absolute Error : {MAE/((16**4)*4):.2f}\")\n",
    "print(f\"Worst Case Error : {WCE}\")\n",
    "print(f\"a0w0 MAE {errors[0]/(16**4):3f}\",\"EP\",f'{error_nums[0]/(16**4):3f}',\"WCE\",WCE1)\n",
    "print(f\"a1w0 MAE {errors[1]/(16**4):3f}\",\"EP\",f'{error_nums[1]/(16**4):3f}',\"WCE\",WCE2)\n",
    "print(f\"a0w1 MAE {errors[2]/(16**4):3f}\",\"EP\",f'{error_nums[2]/(16**4):3f}',\"WCE\",WCE3)\n",
    "print(f\"a1w1 MAE {errors[3]/(16**4):3f}\",\"EP\",f'{error_nums[3]/(16**4):3f}',\"WCE\",WCE4)\n"
   ]
  },
  {
   "cell_type": "code",
   "execution_count": 1569,
   "id": "5f994b8e-c372-44ef-97c8-928d588ac39c",
   "metadata": {
    "scrolled": true
   },
   "outputs": [
    {
     "name": "stdout",
     "output_type": "stream",
     "text": [
      "num combinations tested: 262144 Time elapsed: 160  seconds\n",
      "Error rate: 46.95%\n",
      "Mean Absolute Error : 0.56\n",
      "Worst Case Error : 2.0\n",
      "a0w0 MAE 0.000000 EP 0.000000 WCE 0\n",
      "a1w0 MAE 0.718750 EP 0.601562 WCE 2.0\n",
      "a0w1 MAE 0.748047 EP 0.623047 WCE 2.0\n",
      "a1w1 MAE 0.779297 EP 0.653320 WCE 2.0\n"
     ]
    }
   ],
   "source": [
    "a = Fxp(7, dtype='U4.0')\n",
    "w = Fxp(2, dtype='S4.0')\n",
    "p = Fxp(255, dtype = 'S8.0')\n",
    "mr = Fxp(0, dtype = 'U1.0')\n",
    "\n",
    "A_port = Fxp(0, dtype='S25.0')\n",
    "D_port = Fxp(0, dtype='S25.0')\n",
    "B_port = Fxp(0, dtype='U18.0')\n",
    "C_port = Fxp(0, dtype='S48.0')\n",
    "\n",
    "P_port = Fxp(0, dtype='S48.0')\n",
    "\n",
    "A = '0b' + '0'*25\n",
    "D = '0b' + '0'*25\n",
    "B = '0b' + '0'*18\n",
    "P = '0b' + '0'*48\n",
    "C = '0b' + '0'*48\n",
    "params = (\n",
    "    a, w, p, A_port, D_port, B_port, C_port, P_port, A, D, B, C\n",
    ")\n",
    "\n",
    "EP = 0\n",
    "MAE = int(0)\n",
    "WCE = 0\n",
    "WCE1 = 0\n",
    "WCE2 = 0\n",
    "WCE3 = 0\n",
    "WCE4 = 0\n",
    "error_nums = np.zeros(4)\n",
    "errors = np.zeros(4)\n",
    "\n",
    "start = time.time()\n",
    "a1_range = range(0,16)\n",
    "a2_range = range(0,16)\n",
    "w1_range = range(-8,8)\n",
    "w2_range = range(-8,8)\n",
    "nums = len(a1_range)\n",
    "\n",
    "for a1 in a1_range:\n",
    "    for a2 in a2_range:\n",
    "        for w1 in w1_range:\n",
    "            for w2 in w2_range:\n",
    "                error_nums_, errors_ = fast_model_dsp(a1,a2,w1,w2, params, offset=7,BIT_RECOVERY=True, APPROXIMATION=False)\n",
    "                EP += sum(error_nums_)\n",
    "                MAE += int(sum(errors_))\n",
    "                WCE = max(WCE, *errors_)\n",
    "                WCE1 = max(WCE1, errors_[0])\n",
    "                WCE2 = max(WCE2, errors_[1])\n",
    "                WCE3 = max(WCE3, errors_[2])\n",
    "                WCE4 = max(WCE4, errors_[3])\n",
    "                errors += errors_\n",
    "                error_nums += error_nums_\n",
    "                if ((a1*nums**3)+(a2*nums**2)+((8+w1)*nums**1)+w2+8+1)%100 == 0:\n",
    "                    finish = time.time()\n",
    "                    print(\"Percent Complete: \", int(((a1*nums**3)+(a2*nums**2)+((8+w1)*nums**1)+w2+8+1)*100/(16**4)), \"Time elapsed: \", int(finish-start), end='\\r')\n",
    "                \n",
    "                # print(int((a1*nums**3)+(a2*nums**2)+((8+w1)*nums**1)+w2+8+1))\n",
    "                    # print(((i*256)+j+1))\n",
    "finish = time.time()\n",
    "print(\"num combinations tested:\", (16**4)*4, \"Time elapsed:\", int(finish-start), \" seconds\")\n",
    "# print(f\"There were {EP} failures.\")\n",
    "# print(f\"There were {cycles_w_error} cycles with error.\")\n",
    "print(f\"Error rate: {100*EP/((16**4)*4):.2f}%\")\n",
    "print(f\"Mean Absolute Error : {MAE/((16**4)*4):.2f}\")\n",
    "print(f\"Worst Case Error : {WCE}\")\n",
    "print(f\"a0w0 MAE {errors[0]/(16**4):3f}\",\"EP\",f'{error_nums[0]/(16**4):3f}',\"WCE\",WCE1)\n",
    "print(f\"a1w0 MAE {errors[1]/(16**4):3f}\",\"EP\",f'{error_nums[1]/(16**4):3f}',\"WCE\",WCE2)\n",
    "print(f\"a0w1 MAE {errors[2]/(16**4):3f}\",\"EP\",f'{error_nums[2]/(16**4):3f}',\"WCE\",WCE3)\n",
    "print(f\"a1w1 MAE {errors[3]/(16**4):3f}\",\"EP\",f'{error_nums[3]/(16**4):3f}',\"WCE\",WCE4)\n"
   ]
  },
  {
   "cell_type": "code",
   "execution_count": 540,
   "id": "3b3673ac-3a24-45ea-a7cf-ae8ad777925c",
   "metadata": {},
   "outputs": [],
   "source": [
    "error_nums1 = error_nums"
   ]
  },
  {
   "cell_type": "code",
   "execution_count": 541,
   "id": "2b4132fe-4c50-4fa4-bff1-4da47bd24539",
   "metadata": {},
   "outputs": [
    {
     "data": {
      "text/plain": [
       "array([16384., 38912., 40832., 34560.])"
      ]
     },
     "execution_count": 541,
     "metadata": {},
     "output_type": "execute_result"
    }
   ],
   "source": [
    "error_nums1"
   ]
  },
  {
   "cell_type": "code",
   "execution_count": 514,
   "id": "ae0c08bb-4ded-40f8-82b0-f2bdd2181d00",
   "metadata": {},
   "outputs": [
    {
     "name": "stdout",
     "output_type": "stream",
     "text": [
      "Error rate: 49.854%\n",
      "Mean Absolute Error : 24.278\n"
     ]
    }
   ],
   "source": [
    "\n",
    "print(f\"Error rate: {100*EP/((16**4)*4):.3f}%\")\n",
    "print(f\"Mean Absolute Error : {MAE/((16**4)*4):.3f}\")"
   ]
  },
  {
   "cell_type": "code",
   "execution_count": 542,
   "id": "589889e2-c00a-4908-9bb5-5f0076ea068d",
   "metadata": {},
   "outputs": [
    {
     "name": "stdout",
     "output_type": "stream",
     "text": [
      "num combinations tested: 262144 Time elapsed: 126  seconds\n",
      "Error rate: 64.90%\n",
      "Mean Absolute Error : 37.96\n",
      "Worst Case Error : 194.0\n"
     ]
    }
   ],
   "source": [
    "EP = 0\n",
    "MAE = int(0)\n",
    "WCE = 0\n",
    "WCE1 = 0\n",
    "WCE2 = 0\n",
    "WCE3 = 0\n",
    "WCE4 = 0\n",
    "error_nums = np.zeros(4)\n",
    "errors = np.zeros(4)\n",
    "\n",
    "start = time.time()\n",
    "a1_range = range(0,16)\n",
    "a2_range = range(0,16)\n",
    "w1_range = range(-8,8)\n",
    "w2_range = range(-8,8)\n",
    "nums = len(a1_range)\n",
    "\n",
    "for a1 in a1_range:\n",
    "    for a2 in a2_range:\n",
    "        for w1 in w1_range:\n",
    "            for w2 in w2_range:\n",
    "                error_nums_, errors_ = fast_model_dsp(a1,a2,w1,w2, params, offset=6)\n",
    "                EP += sum(error_nums_)\n",
    "                MAE += int(sum(errors_))\n",
    "                WCE = max(WCE, *errors_)\n",
    "                WCE1 = max(WCE1, errors_[0])\n",
    "                WCE2 = max(WCE2, errors_[1])\n",
    "                WCE3 = max(WCE3, errors_[2])\n",
    "                WCE4 = max(WCE4, errors_[3])\n",
    "                errors += errors_\n",
    "                error_nums += error_nums_\n",
    "                if ((a1*nums**3)+(a2*nums**2)+((8+w1)*nums**1)+w2+8+1)%100 == 0:\n",
    "                    finish = time.time()\n",
    "                    print(\"Percent Complete: \", int(((a1*nums**3)+(a2*nums**2)+((8+w1)*nums**1)+w2+8+1)*100/(16**4)), \"Time elapsed: \", int(finish-start), end='\\r')\n",
    "                \n",
    "                # print(int((a1*nums**3)+(a2*nums**2)+((8+w1)*nums**1)+w2+8+1))\n",
    "                    # print(((i*256)+j+1))\n",
    "finish = time.time()\n",
    "print(\"num combinations tested:\", (16**4)*4, \"Time elapsed:\", int(finish-start), \" seconds\")\n",
    "# print(f\"There were {EP} failures.\")\n",
    "# print(f\"There were {cycles_w_error} cycles with error.\")\n",
    "print(f\"Error rate: {100*EP/((16**4)*4):.2f}%\")\n",
    "print(f\"Mean Absolute Error : {MAE/((16**4)*4):.2f}\")\n",
    "print(f\"Worst Case Error : {WCE}\")\n",
    "print(f\"a0w0 MAE {errors[0]/(16**4):3f}\",\"EP\",f'{error_nums[0]/(16**4):3f}',\"WCE\",WCE1)\n",
    "print(f\"a1w0 MAE {errors[1]/(16**4):3f}\",\"EP\",f'{error_nums[1]/(16**4):3f}',\"WCE\",WCE2)\n",
    "print(f\"a0w1 MAE {errors[2]/(16**4):3f}\",\"EP\",f'{error_nums[2]/(16**4):3f}',\"WCE\",WCE3)\n",
    "print(f\"a1w1 MAE {errors[3]/(16**4):3f}\",\"EP\",f'{error_nums[3]/(16**4):3f}',\"WCE\",WCE4)\n"
   ]
  },
  {
   "cell_type": "code",
   "execution_count": 543,
   "id": "fe8058a2-e579-499b-badc-480048fa67fc",
   "metadata": {},
   "outputs": [
    {
     "data": {
      "text/plain": [
       "array([32768., 48640., 50584., 38143.])"
      ]
     },
     "execution_count": 543,
     "metadata": {},
     "output_type": "execute_result"
    }
   ],
   "source": [
    "error_nums2 = error_nums\n",
    "error_nums2"
   ]
  },
  {
   "cell_type": "code",
   "execution_count": 551,
   "id": "dc59ecec-465b-4de9-80a8-2399a9d8ffab",
   "metadata": {},
   "outputs": [
    {
     "name": "stdout",
     "output_type": "stream",
     "text": [
      "num combinations tested: 262144 Time elapsed: 121  seconds\n",
      "Error rate: 78.27%\n",
      "Mean Absolute Error : 45.53\n",
      "Worst Case Error : 228.0\n"
     ]
    }
   ],
   "source": [
    "EP = 0\n",
    "MAE = int(0)\n",
    "WCE = 0\n",
    "WCE1 = 0\n",
    "WCE2 = 0\n",
    "WCE3 = 0\n",
    "WCE4 = 0\n",
    "error_nums = np.zeros(4)\n",
    "errors = np.zeros(4)\n",
    "\n",
    "start = time.time()\n",
    "a1_range = range(0,16)\n",
    "a2_range = range(0,16)\n",
    "w1_range = range(-8,8)\n",
    "w2_range = range(-8,8)\n",
    "nums = len(a1_range)\n",
    "\n",
    "for a1 in a1_range:\n",
    "    for a2 in a2_range:\n",
    "        for w1 in w1_range:\n",
    "            for w2 in w2_range:\n",
    "                error_nums_, errors_ = fast_model_dsp(a1,a2,w1,w2, params, offset=5)\n",
    "                EP += sum(error_nums_)\n",
    "                MAE += int(sum(errors_))\n",
    "                WCE = max(WCE, *errors_)\n",
    "                WCE1 = max(WCE1, errors_[0])\n",
    "                WCE2 = max(WCE2, errors_[1])\n",
    "                WCE3 = max(WCE3, errors_[2])\n",
    "                WCE4 = max(WCE4, errors_[3])\n",
    "                errors += errors_\n",
    "                error_nums += error_nums_\n",
    "                if ((a1*nums**3)+(a2*nums**2)+((8+w1)*nums**1)+w2+8+1)%100 == 0:\n",
    "                    finish = time.time()\n",
    "                    print(\"Percent Complete: \", int(((a1*nums**3)+(a2*nums**2)+((8+w1)*nums**1)+w2+8+1)*100/(16**4)), \"Time elapsed: \", int(finish-start), end='\\r')\n",
    "                \n",
    "                # print(int((a1*nums**3)+(a2*nums**2)+((8+w1)*nums**1)+w2+8+1))\n",
    "                    # print(((i*256)+j+1))\n",
    "finish = time.time()\n",
    "print(\"num combinations tested:\", (16**4)*4, \"Time elapsed:\", int(finish-start), \" seconds\")\n",
    "# print(f\"There were {EP} failures.\")\n",
    "# print(f\"There were {cycles_w_error} cycles with error.\")\n",
    "print(f\"Error rate: {100*EP/((16**4)*4):.2f}%\")\n",
    "print(f\"Mean Absolute Error : {MAE/((16**4)*4):.2f}\")\n",
    "print(f\"Worst Case Error : {WCE}\")\n",
    "print(f\"a0w0 MAE {errors[0]/(16**4):3f}\",\"EP\",f'{error_nums[0]/(16**4):3f}',\"WCE\",WCE1)\n",
    "print(f\"a1w0 MAE {errors[1]/(16**4):3f}\",\"EP\",f'{error_nums[1]/(16**4):3f}',\"WCE\",WCE2)\n",
    "print(f\"a0w1 MAE {errors[2]/(16**4):3f}\",\"EP\",f'{error_nums[2]/(16**4):3f}',\"WCE\",WCE3)\n",
    "print(f\"a1w1 MAE {errors[3]/(16**4):3f}\",\"EP\",f'{error_nums[3]/(16**4):3f}',\"WCE\",WCE4)\n"
   ]
  },
  {
   "cell_type": "code",
   "execution_count": 552,
   "id": "007489cb-a8d0-4772-9628-4a4387e9634f",
   "metadata": {},
   "outputs": [
    {
     "data": {
      "text/plain": [
       "array([45056., 56352., 58294., 45468.])"
      ]
     },
     "execution_count": 552,
     "metadata": {},
     "output_type": "execute_result"
    }
   ],
   "source": [
    "error_nums3 = error_nums\n",
    "error_nums3"
   ]
  },
  {
   "cell_type": "code",
   "execution_count": 550,
   "id": "faa2f017-e1f5-441d-8c93-9a39740a7a2c",
   "metadata": {},
   "outputs": [
    {
     "data": {
      "text/plain": [
       "(16, 16, 16, 16)"
      ]
     },
     "execution_count": 550,
     "metadata": {},
     "output_type": "execute_result"
    }
   ],
   "source": [
    "len(a1_range), len(a2_range), len(w1_range), len(w2_range)"
   ]
  },
  {
   "cell_type": "code",
   "execution_count": 548,
   "id": "bf7e6463-4ad8-4fe2-9153-f7cad406f4d7",
   "metadata": {},
   "outputs": [
    {
     "data": {
      "text/plain": [
       "0.6490135192871094"
      ]
     },
     "execution_count": 548,
     "metadata": {},
     "output_type": "execute_result"
    }
   ],
   "source": [
    "EP/16/16/16/16/4"
   ]
  },
  {
   "cell_type": "code",
   "execution_count": 515,
   "id": "253a9657-646d-41a0-9580-693f492e7641",
   "metadata": {},
   "outputs": [
    {
     "name": "stdout",
     "output_type": "stream",
     "text": [
      "Error rate: 49.85%\n",
      "Mean Absolute Error : 24.28\n"
     ]
    }
   ],
   "source": [
    "\n",
    "print(f\"Error rate: {100*EP/((16**4)*4):.2f}%\")\n",
    "print(f\"Mean Absolute Error : {MAE/((16**4)*4):.2f}\")"
   ]
  },
  {
   "cell_type": "code",
   "execution_count": 649,
   "id": "6c17d539-fac7-417b-9d2e-f6788eccc610",
   "metadata": {},
   "outputs": [
    {
     "name": "stdout",
     "output_type": "stream",
     "text": [
      "num combinations tested: 262144 Time elapsed: 176  seconds\n",
      "Error rate: 46.95%\n",
      "Mean Absolute Error : 0.56\n",
      "Worst Case Error : 2.0\n"
     ]
    }
   ],
   "source": [
    "EP = 0\n",
    "MAE = int(0)\n",
    "WCE = 0\n",
    "WCE1 = 0\n",
    "WCE2 = 0\n",
    "WCE3 = 0\n",
    "WCE4 = 0\n",
    "error_nums = np.zeros(4)\n",
    "errors = np.zeros(4)\n",
    "\n",
    "start = time.time()\n",
    "a1_range = range(0,16)\n",
    "a2_range = range(0,16)\n",
    "w1_range = range(-8,8)\n",
    "w2_range = range(-8,8)\n",
    "nums = len(a1_range)\n",
    "\n",
    "for a1 in a1_range:\n",
    "    for a2 in a2_range:\n",
    "        for w1 in w1_range:\n",
    "            for w2 in w2_range:\n",
    "                error_nums_, errors_ = fast_model_dsp(a1,a2,w1,w2, params, offset=7 ,BIT_RECOVERY=True)\n",
    "                EP += sum(error_nums_)\n",
    "                MAE += int(sum(errors_))\n",
    "                WCE = max(WCE, *errors_)\n",
    "                WCE1 = max(WCE1, errors_[0])\n",
    "                WCE2 = max(WCE2, errors_[1])\n",
    "                WCE3 = max(WCE3, errors_[2])\n",
    "                WCE4 = max(WCE4, errors_[3])\n",
    "                errors += errors_\n",
    "                error_nums += error_nums_\n",
    "                if ((a1*nums**3)+(a2*nums**2)+((8+w1)*nums**1)+w2+8+1)%100 == 0:\n",
    "                    finish = time.time()\n",
    "                    print(\"Percent Complete: \", int(((a1*nums**3)+(a2*nums**2)+((8+w1)*nums**1)+w2+8+1)*100/(16**4)), \"Time elapsed: \", int(finish-start), end='\\r')\n",
    "                \n",
    "                # print(int((a1*nums**3)+(a2*nums**2)+((8+w1)*nums**1)+w2+8+1))\n",
    "                    # print(((i*256)+j+1))\n",
    "finish = time.time()\n",
    "print(\"num combinations tested:\", (16**4)*4, \"Time elapsed:\", int(finish-start), \" seconds\")\n",
    "# print(f\"There were {EP} failures.\")\n",
    "# print(f\"There were {cycles_w_error} cycles with error.\")\n",
    "print(f\"Error rate: {100*EP/((16**4)*4):.2f}%\")\n",
    "print(f\"Mean Absolute Error : {MAE/((16**4)*4):.2f}\")\n",
    "print(f\"Worst Case Error : {WCE}\")\n",
    "print(f\"a0w0 MAE {errors[0]/(16**4):3f}\",\"EP\",f'{error_nums[0]/(16**4):3f}',\"WCE\",WCE1)\n",
    "print(f\"a1w0 MAE {errors[1]/(16**4):3f}\",\"EP\",f'{error_nums[1]/(16**4):3f}',\"WCE\",WCE2)\n",
    "print(f\"a0w1 MAE {errors[2]/(16**4):3f}\",\"EP\",f'{error_nums[2]/(16**4):3f}',\"WCE\",WCE3)\n",
    "print(f\"a1w1 MAE {errors[3]/(16**4):3f}\",\"EP\",f'{error_nums[3]/(16**4):3f}',\"WCE\",WCE4)\n"
   ]
  },
  {
   "cell_type": "code",
   "execution_count": 779,
   "id": "593cfc41-13d4-4bf1-b4b9-75d476b883af",
   "metadata": {},
   "outputs": [
    {
     "name": "stdout",
     "output_type": "stream",
     "text": [
      "num combinations tested: 262144 Time elapsed: 167  seconds\n",
      "Error rate: 57.54%\n",
      "Mean Absolute Error : 1.18\n",
      "Worst Case Error : 5.0\n",
      "a0w0 MAE 0.000000 EP 0.000000 WCE 0\n",
      "a1w0 MAE 1.533203 EP 0.744141 WCE 5.0\n",
      "a0w1 MAE 1.587402 EP 0.768555 WCE 5.0\n",
      "a1w1 MAE 1.606445 EP 0.789062 WCE 5.0\n"
     ]
    }
   ],
   "source": [
    "EP = 0\n",
    "MAE = int(0)\n",
    "WCE = 0\n",
    "WCE1 = 0\n",
    "WCE2 = 0\n",
    "WCE3 = 0\n",
    "WCE4 = 0\n",
    "error_nums = np.zeros(4)\n",
    "errors = np.zeros(4)\n",
    "\n",
    "start = time.time()\n",
    "a1_range = range(0,16)\n",
    "a2_range = range(0,16)\n",
    "w1_range = range(-8,8)\n",
    "w2_range = range(-8,8)\n",
    "nums = len(a1_range)\n",
    "\n",
    "for a1 in a1_range:\n",
    "    for a2 in a2_range:\n",
    "        for w1 in w1_range:\n",
    "            for w2 in w2_range:\n",
    "                error_nums_, errors_ = fast_model_dsp(a1,a2,w1,w2, params, offset=6 ,BIT_RECOVERY=True)\n",
    "                EP += sum(error_nums_)\n",
    "                MAE += int(sum(errors_))\n",
    "                WCE = max(WCE, *errors_)\n",
    "                WCE1 = max(WCE1, errors_[0])\n",
    "                WCE2 = max(WCE2, errors_[1])\n",
    "                WCE3 = max(WCE3, errors_[2])\n",
    "                WCE4 = max(WCE4, errors_[3])\n",
    "                errors += errors_\n",
    "                error_nums += error_nums_\n",
    "                if ((a1*nums**3)+(a2*nums**2)+((8+w1)*nums**1)+w2+8+1)%100 == 0:\n",
    "                    finish = time.time()\n",
    "                    print(\"Percent Complete: \", int(((a1*nums**3)+(a2*nums**2)+((8+w1)*nums**1)+w2+8+1)*100/(16**4)), \"Time elapsed: \", int(finish-start), end='\\r')\n",
    "                \n",
    "                # print(int((a1*nums**3)+(a2*nums**2)+((8+w1)*nums**1)+w2+8+1))\n",
    "                    # print(((i*256)+j+1))\n",
    "finish = time.time()\n",
    "print(\"num combinations tested:\", (16**4)*4, \"Time elapsed:\", int(finish-start), \" seconds\")\n",
    "# print(f\"There were {EP} failures.\")\n",
    "# print(f\"There were {cycles_w_error} cycles with error.\")\n",
    "print(f\"Error rate: {100*EP/((16**4)*4):.2f}%\")\n",
    "print(f\"Mean Absolute Error : {MAE/((16**4)*4):.2f}\")\n",
    "print(f\"Worst Case Error : {WCE}\")\n",
    "print(f\"a0w0 MAE {errors[0]/(16**4):3f}\",\"EP\",f'{error_nums[0]/(16**4):3f}',\"WCE\",WCE1)\n",
    "print(f\"a1w0 MAE {errors[1]/(16**4):3f}\",\"EP\",f'{error_nums[1]/(16**4):3f}',\"WCE\",WCE2)\n",
    "print(f\"a0w1 MAE {errors[2]/(16**4):3f}\",\"EP\",f'{error_nums[2]/(16**4):3f}',\"WCE\",WCE3)\n",
    "print(f\"a1w1 MAE {errors[3]/(16**4):3f}\",\"EP\",f'{error_nums[3]/(16**4):3f}',\"WCE\",WCE4)\n"
   ]
  },
  {
   "cell_type": "code",
   "execution_count": 1575,
   "id": "3e53ca13-cde7-4319-b730-3d42a7dc0e4c",
   "metadata": {},
   "outputs": [
    {
     "name": "stdout",
     "output_type": "stream",
     "text": [
      "num combinations tested: 262144 Time elapsed: 190  seconds\n",
      "Error rate: 65.77%\n",
      "Mean Absolute Error : 2.63\n",
      "Worst Case Error : 11.0\n",
      "a0w0 MAE 0.000000 EP 0.000000 WCE 0\n",
      "a1w0 MAE 3.405273 EP 0.854492 WCE 11.0\n",
      "a0w1 MAE 3.553223 EP 0.880859 WCE 11.0\n",
      "a1w1 MAE 3.546875 EP 0.895264 WCE 11.0\n"
     ]
    }
   ],
   "source": [
    "a = Fxp(7, dtype='U4.0')\n",
    "w = Fxp(2, dtype='S4.0')\n",
    "p = Fxp(255, dtype = 'S8.0')\n",
    "mr = Fxp(0, dtype = 'U1.0')\n",
    "\n",
    "A_port = Fxp(0, dtype='S25.0')\n",
    "D_port = Fxp(0, dtype='S25.0')\n",
    "B_port = Fxp(0, dtype='U18.0')\n",
    "C_port = Fxp(0, dtype='S48.0')\n",
    "\n",
    "P_port = Fxp(0, dtype='S48.0')\n",
    "\n",
    "A = '0b' + '0'*25\n",
    "D = '0b' + '0'*25\n",
    "B = '0b' + '0'*18\n",
    "P = '0b' + '0'*48\n",
    "C = '0b' + '0'*48\n",
    "params = (\n",
    "    a, w, p, A_port, D_port, B_port, C_port, P_port, A, D, B, C\n",
    ")\n",
    "\n",
    "EP = 0\n",
    "MAE = int(0)\n",
    "WCE = 0\n",
    "WCE1 = 0\n",
    "WCE2 = 0\n",
    "WCE3 = 0\n",
    "WCE4 = 0\n",
    "error_nums = np.zeros(4)\n",
    "errors = np.zeros(4)\n",
    "\n",
    "start = time.time()\n",
    "a1_range = range(0,16)\n",
    "a2_range = range(0,16)\n",
    "w1_range = range(-8,8)\n",
    "w2_range = range(-8,8)\n",
    "nums = len(a1_range)\n",
    "\n",
    "for a1 in a1_range:\n",
    "    for a2 in a2_range:\n",
    "        for w1 in w1_range:\n",
    "            for w2 in w2_range:\n",
    "                error_nums_, errors_ = fast_model_dsp(a1,a2,w1,w2, params, offset=5 ,BIT_RECOVERY=True)\n",
    "                EP += sum(error_nums_)\n",
    "                MAE += int(sum(errors_))\n",
    "                WCE = max(WCE, *errors_)\n",
    "                WCE1 = max(WCE1, errors_[0])\n",
    "                WCE2 = max(WCE2, errors_[1])\n",
    "                WCE3 = max(WCE3, errors_[2])\n",
    "                WCE4 = max(WCE4, errors_[3])\n",
    "                errors += errors_\n",
    "                error_nums += error_nums_\n",
    "                if ((a1*nums**3)+(a2*nums**2)+((8+w1)*nums**1)+w2+8+1)%100 == 0:\n",
    "                    finish = time.time()\n",
    "                    print(\"Percent Complete: \", int(((a1*nums**3)+(a2*nums**2)+((8+w1)*nums**1)+w2+8+1)*100/(16**4)), \"Time elapsed: \", int(finish-start), end='\\r')\n",
    "                \n",
    "                # print(int((a1*nums**3)+(a2*nums**2)+((8+w1)*nums**1)+w2+8+1))\n",
    "                    # print(((i*256)+j+1))\n",
    "finish = time.time()\n",
    "print(\"num combinations tested:\", (16**4)*4, \"Time elapsed:\", int(finish-start), \" seconds\")\n",
    "# print(f\"There were {EP} failures.\")\n",
    "# print(f\"There were {cycles_w_error} cycles with error.\")\n",
    "print(f\"Error rate: {100*EP/((16**4)*4):.2f}%\")\n",
    "print(f\"Mean Absolute Error : {MAE/((16**4)*4):.2f}\")\n",
    "print(f\"Worst Case Error : {WCE}\")\n",
    "print(f\"a0w0 MAE {errors[0]/(16**4):3f}\",\"EP\",f'{error_nums[0]/(16**4):3f}',\"WCE\",WCE1)\n",
    "print(f\"a1w0 MAE {errors[1]/(16**4):3f}\",\"EP\",f'{error_nums[1]/(16**4):3f}',\"WCE\",WCE2)\n",
    "print(f\"a0w1 MAE {errors[2]/(16**4):3f}\",\"EP\",f'{error_nums[2]/(16**4):3f}',\"WCE\",WCE3)\n",
    "print(f\"a1w1 MAE {errors[3]/(16**4):3f}\",\"EP\",f'{error_nums[3]/(16**4):3f}',\"WCE\",WCE4)\n"
   ]
  },
  {
   "cell_type": "code",
   "execution_count": 647,
   "id": "76dbff24-4e04-4bd2-a74f-f70655b96ce8",
   "metadata": {},
   "outputs": [
    {
     "data": {
      "text/plain": [
       "array([1., 1., 1., 1.])"
      ]
     },
     "execution_count": 647,
     "metadata": {},
     "output_type": "execute_result"
    }
   ],
   "source": [
    "error_nums_"
   ]
  },
  {
   "cell_type": "code",
   "execution_count": 382,
   "id": "f5040681-af3d-4b71-be97-e14ae64f7d21",
   "metadata": {},
   "outputs": [
    {
     "name": "stdout",
     "output_type": "stream",
     "text": [
      "Error rate: 6.32%\n"
     ]
    }
   ],
   "source": [
    "print(f\"Error rate: {100*counter/((16**4)*4):.2f}%\")"
   ]
  },
  {
   "cell_type": "code",
   "execution_count": 369,
   "id": "47f880b2-2b0d-4fb2-8165-262bd531879d",
   "metadata": {},
   "outputs": [
    {
     "data": {
      "text/plain": [
       "94"
      ]
     },
     "execution_count": 369,
     "metadata": {},
     "output_type": "execute_result"
    }
   ],
   "source": [
    "((a1*nums**3)+(a2*nums**2)+((8+w1)*nums**1)+w2+8+1)%100"
   ]
  },
  {
   "cell_type": "code",
   "execution_count": 373,
   "id": "77927f1e-6572-4cd1-a240-a5e709c8bc3e",
   "metadata": {},
   "outputs": [],
   "source": [
    "a1,a2,w1,w2 = 0,0,-7,-8"
   ]
  },
  {
   "cell_type": "code",
   "execution_count": null,
   "id": "aa274730-bbe6-4b9b-b233-c17b5869e262",
   "metadata": {},
   "outputs": [],
   "source": [
    "int((a1*a1_range[1]**3)+(a2*a1_range[1]**2)+((8+w1)*a1_range[1])+w2+8+1)"
   ]
  },
  {
   "cell_type": "code",
   "execution_count": 353,
   "id": "ff1fb650-1bea-4812-9443-e9f1a93a915a",
   "metadata": {},
   "outputs": [
    {
     "data": {
      "text/plain": [
       "1"
      ]
     },
     "execution_count": 353,
     "metadata": {},
     "output_type": "execute_result"
    }
   ],
   "source": [
    "((8+w1)*a1_range[1])"
   ]
  },
  {
   "cell_type": "markdown",
   "id": "227c2a96-dab8-4f85-af8c-4e46d5475e84",
   "metadata": {},
   "source": [
    "# six 4-bit multiplication test"
   ]
  },
  {
   "cell_type": "code",
   "execution_count": 829,
   "id": "768827ab-3fe5-4317-a930-bee1b3c315e8",
   "metadata": {},
   "outputs": [],
   "source": [
    "import json"
   ]
  },
  {
   "cell_type": "code",
   "execution_count": 811,
   "id": "97d5bb7d-7987-4aaa-beab-7bebd4cbe6c3",
   "metadata": {},
   "outputs": [
    {
     "data": {
      "text/plain": [
       "(1048576, 5)"
      ]
     },
     "execution_count": 811,
     "metadata": {},
     "output_type": "execute_result"
    }
   ],
   "source": [
    "all_combinations = np.zeros((16**5,5))\n",
    "all_combinations.shape"
   ]
  },
  {
   "cell_type": "code",
   "execution_count": 808,
   "id": "51072958-dbd0-4be8-8d7e-e1b5192149da",
   "metadata": {},
   "outputs": [],
   "source": [
    "a1_range = range(0,16)\n",
    "a2_range = range(0,16)\n",
    "a3_range = range(0,16)\n",
    "w1_range = range(-8,8)\n",
    "w2_range = range(-8,8)"
   ]
  },
  {
   "cell_type": "code",
   "execution_count": null,
   "id": "aeefdc7f-aad5-413a-83f3-b6ac1f8633a3",
   "metadata": {},
   "outputs": [],
   "source": []
  },
  {
   "cell_type": "code",
   "execution_count": 821,
   "id": "692a0a83-eacc-40b1-bdd6-9abc66359bc3",
   "metadata": {
    "scrolled": true
   },
   "outputs": [],
   "source": [
    "i = 0\n",
    "for a1 in a1_range:\n",
    "    for a2 in a2_range:\n",
    "        for a3 in a3_range:\n",
    "            for w1 in w1_range:\n",
    "                for w2 in w2_range:\n",
    "                    all_combinations[i] = a1,a2,a3,w1,w2\n",
    "                    i += 1\n",
    "                "
   ]
  },
  {
   "cell_type": "code",
   "execution_count": null,
   "id": "f4fc8ce7-b143-467a-bc7f-468ca4a64ae7",
   "metadata": {},
   "outputs": [],
   "source": [
    "# First check if the file already exists\n",
    "# read in the data.\n",
    "# val_data.json"
   ]
  },
  {
   "cell_type": "code",
   "execution_count": 858,
   "id": "d0192984-d907-4e14-9d42-be30a5c0f5df",
   "metadata": {},
   "outputs": [],
   "source": [
    "import json\n",
    "out_file = open(\"DSP_val\\\\val_data.json\", \"w\")\n",
    "json.dump(data, out_file)\n",
    "\n",
    "out_file.close()"
   ]
  },
  {
   "cell_type": "code",
   "execution_count": 859,
   "id": "151d4bbd-705e-4047-8f50-6d10dcc057aa",
   "metadata": {},
   "outputs": [
    {
     "data": {
      "text/plain": [
       "{'start_index': 0, 'port_data': []}"
      ]
     },
     "execution_count": 859,
     "metadata": {},
     "output_type": "execute_result"
    }
   ],
   "source": [
    "try:\n",
    "    out_file = open(\"DSP_val\\\\val_data.json\", \"r\")\n",
    "except:\n",
    "    print(\"The file doesn't exist!\")\n",
    "    \n",
    "json.load(out_file)"
   ]
  },
  {
   "cell_type": "code",
   "execution_count": 857,
   "id": "108f45f2-5d9a-44b2-865f-33c4aea7ea50",
   "metadata": {},
   "outputs": [],
   "source": [
    "data = {\n",
    "    'start_index':0,\n",
    "    'port_data': []\n",
    "}"
   ]
  },
  {
   "cell_type": "code",
   "execution_count": 849,
   "id": "286d5044-0d12-450f-a4d5-c639ece5c307",
   "metadata": {},
   "outputs": [
    {
     "data": {
      "text/plain": [
       "(1048576, 5)"
      ]
     },
     "execution_count": 849,
     "metadata": {},
     "output_type": "execute_result"
    }
   ],
   "source": [
    "all_combinations.shape"
   ]
  },
  {
   "cell_type": "code",
   "execution_count": 853,
   "id": "9b3a5bec-4dd7-418c-b291-cf8a45edfdc5",
   "metadata": {},
   "outputs": [
    {
     "data": {
      "text/plain": [
       "0"
      ]
     },
     "execution_count": 853,
     "metadata": {},
     "output_type": "execute_result"
    }
   ],
   "source": [
    "\n",
    "last_index = data['last_index']"
   ]
  },
  {
   "cell_type": "code",
   "execution_count": 866,
   "id": "50703a1f-6fea-4b07-8bbe-de8160551e07",
   "metadata": {},
   "outputs": [],
   "source": [
    "import os\n",
    "os.makedirs(\"\\\\\".join((os.getcwd(), \"DSP_val\\\\debug\")))"
   ]
  },
  {
   "cell_type": "code",
   "execution_count": 863,
   "id": "9699df40-75f6-4b0c-9fc7-80a2f24e820b",
   "metadata": {},
   "outputs": [
    {
     "data": {
      "text/plain": [
       "'C:\\\\git_repos\\\\mnist_neuralnet\\\\scripts'"
      ]
     },
     "execution_count": 863,
     "metadata": {},
     "output_type": "execute_result"
    }
   ],
   "source": [
    "os.getcwd()"
   ]
  },
  {
   "cell_type": "code",
   "execution_count": 874,
   "id": "221be3ee-e3ba-44eb-9d70-91b569435970",
   "metadata": {},
   "outputs": [],
   "source": [
    "job = {\n",
    "    'INT4':0,\n",
    "    'INT4approx':0,\n",
    "    '4overpacking7':0\n",
    "}"
   ]
  },
  {
   "cell_type": "code",
   "execution_count": 875,
   "id": "385c4dd6-c30b-46b6-b2f8-0d741b4dd383",
   "metadata": {},
   "outputs": [
    {
     "data": {
      "text/plain": [
       "dict_keys(['INT4', 'INT4approx', '4overpacking7'])"
      ]
     },
     "execution_count": 875,
     "metadata": {},
     "output_type": "execute_result"
    }
   ],
   "source": [
    "job.keys()"
   ]
  },
  {
   "cell_type": "code",
   "execution_count": 1248,
   "id": "0459da74-314e-4fa4-9ed4-ff34b3037854",
   "metadata": {},
   "outputs": [
    {
     "name": "stdout",
     "output_type": "stream",
     "text": [
      "0\n"
     ]
    }
   ],
   "source": [
    "for i in range(0,1):\n",
    "    print(i)"
   ]
  },
  {
   "cell_type": "code",
   "execution_count": 1181,
   "id": "0732ac6b-a498-4c1f-bf0b-89b28825f8d3",
   "metadata": {},
   "outputs": [
    {
     "data": {
      "text/plain": [
       "0"
      ]
     },
     "execution_count": 1181,
     "metadata": {},
     "output_type": "execute_result"
    }
   ],
   "source": [
    "start_index"
   ]
  },
  {
   "cell_type": "code",
   "execution_count": 1,
   "id": "279de80b-19e9-4859-a165-22c65991201c",
   "metadata": {
    "scrolled": true
   },
   "outputs": [],
   "source": [
    "import numpy as np\n",
    "from fxpmath import Fxp\n",
    "import time\n",
    "import os\n",
    "import json\n",
    "import time\n",
    "import math\n",
    "def run_job(trial_name, params, mults=4, DEBUG_MODE= False, offset=8):\n",
    "    \n",
    "    a1_range = range(0,16)\n",
    "    a2_range = range(0,16)\n",
    "    a3_range = range(0,16)\n",
    "    w1_range = range(-8,8)\n",
    "    w2_range = range(-8,8)\n",
    "    if mults==6:\n",
    "        all_combinations = np.zeros((16**5,5))\n",
    "        a3_range = range(0,16)\n",
    "    elif mults == 4:\n",
    "        all_combinations = np.zeros((16**4,5))\n",
    "        a3_range = range(0,1)\n",
    "    else:\n",
    "        raise Exception(\"OH NO\")\n",
    "\n",
    "    i=0\n",
    "    for a1 in a1_range:\n",
    "        for a2 in a2_range:\n",
    "            for a3 in a3_range:\n",
    "                for w1 in w1_range:\n",
    "                    for w2 in w2_range:\n",
    "                        all_combinations[i] = a1,a2,a3,w1,w2\n",
    "                        i += 1\n",
    "    \n",
    "    # Checks if the folder exists, if it does not it initializes the space\n",
    "    if not os.path.isdir(\"\\\\\".join((os.getcwd(), trial_name))):\n",
    "        os.makedirs(\"\\\\\".join((os.getcwd(), trial_name)))\n",
    "        file = open(\"\\\\\".join((trial_name, \"val_data.json\")), \"w\")\n",
    "    \n",
    "        data = {\n",
    "            'start_index':0,\n",
    "            'run_time':0,\n",
    "        }    \n",
    "        data['EP'] = np.zeros((len(all_combinations),mults))\n",
    "        data['MAE'] = np.zeros((len(all_combinations),mults))\n",
    "        data['EP'] = data['EP'].tolist()\n",
    "        data['MAE'] = data['MAE'].tolist()\n",
    "            \n",
    "        json.dump(data, file)\n",
    "        file.close()\n",
    "    \n",
    "    \n",
    "    file = open(\"\\\\\".join((trial_name, \"val_data.json\")), \"r\")\n",
    "    data = json.load(file)\n",
    "    data['EP'] = np.array(data['EP'])\n",
    "    data['MAE'] = np.array(data['MAE'])\n",
    "    file.close()\n",
    "    \n",
    "    \n",
    "    \n",
    "    start_index = data['start_index']\n",
    "    if start_index < len(all_combinations):\n",
    "        file = open(\"\\\\\".join((trial_name, \"val_data.json\")), \"w\")\n",
    "        try:\n",
    "            start = time.time()\n",
    "            for i in range(start_index, len(all_combinations)):\n",
    "                a1,a2,a3,w1,w2 = all_combinations[i]\n",
    "                a = np.array([a1,a2,a3]) if mults == 6 else np.array([a1,a2])\n",
    "                w = np.array([w1,w2])\n",
    "                data['EP'][i], data['MAE'][i] = test_def(a, w , params, DEBUG_MODE=DEBUG_MODE, offset=offset)\n",
    "                \n",
    "                # EP += sum(EP_)\n",
    "                # MAE += int(sum(MAE_))\n",
    "                # WCE = max(WCE, *MAE_)\n",
    "                # WCE1 = max(WCE1, MAE_[0])\n",
    "                # WCE2 = max(WCE2, MAE_[1])\n",
    "                # WCE3 = max(WCE3, MAE_[2])\n",
    "                # WCE4 = max(WCE4, MAE_[3])\n",
    "                # errors += MAE_\n",
    "                # error_nums += EP_\n",
    "                if i%100 == 0:\n",
    "                    finish = time.time()\n",
    "                    print(\"Percent Complete: \", int(i*100/(len(all_combinations))), \"Time elapsed: \", int(finish-start), end='\\r')\n",
    "            finish = time.time()\n",
    "            print(\"num combinations tested:\", i, \"Time elapsed:\", int(finish-start), \" seconds\")\n",
    "            data['run_time'] = time.time() - start\n",
    "            data['start_index'] = len(all_combinations)\n",
    "            data['EP'] = data['EP'].tolist()\n",
    "            data['MAE'] = data['MAE'].tolist()\n",
    "            json.dump(data, file)\n",
    "            file.close()\n",
    "            \n",
    "        except:\n",
    "            data['run_time'] += time.time() - start\n",
    "            data['start_index'] = i\n",
    "            data['EP'][i] = EP_\n",
    "            data['MAE'][i] = MAE_\n",
    "            data['EP'] = data['EP'].tolist()\n",
    "            data['MAE'] = data['MAE'].tolist()\n",
    "            json.dump(data, file)\n",
    "            file.close()\n",
    "    \n",
    "    else:\n",
    "        print(\"Already finished!\")\n",
    "        \n",
    "\n",
    "def print_results(trial_name):\n",
    "    file = open(\"\\\\\".join((trial_name, \"val_data.json\")), \"r\")\n",
    "    data = json.load(file)\n",
    "    data['EP'] = np.array(data['EP'])\n",
    "    data['MAE'] = np.array(data['MAE'])\n",
    "    file.close()\n",
    "    \n",
    "    error_rate = np.sum(data['EP'])/((len(data['EP'])*len(data['EP'][0])))\n",
    "    mean_error = np.sum(data['MAE'])/((len(data['EP'])*len(data['MAE'][0])))\n",
    "    wce = np.max(data['MAE'],axis=0).astype(int)\n",
    "    print(f\"Error rate: {error_rate*100:.2f}%\")\n",
    "    print(f\"Mean Absolute Error : {mean_error:.2f}\")\n",
    "    print(f\"Worst Case Error : {max(wce)}\")\n",
    "    error_nums = np.sum(data['EP'],axis=0)/len(data['EP'])\n",
    "    errors = np.sum(data['MAE'],axis=0)/len(data['EP'])\n",
    "    print(f\"a0w0 MAE {errors[0]:3f}\",\"EP\",f'{error_nums[0]:3f}',\"WCE\",wce[0])\n",
    "    print(f\"a1w0 MAE {errors[1]:3f}\",\"EP\",f'{error_nums[1]:3f}',\"WCE\",wce[1])\n",
    "    print(f\"a0w1 MAE {errors[2]:3f}\",\"EP\",f'{error_nums[2]:3f}',\"WCE\",wce[2])\n",
    "    print(f\"a1w1 MAE {errors[3]:3f}\",\"EP\",f'{error_nums[3]:3f}',\"WCE\",wce[3])\n",
    "    \n",
    "    if len(data['EP'][0]) > 4:\n",
    "        print(f\"xxxx MAE {errors[4]:3f}\",\"EP\",f'{error_nums[4]:3f}',\"WCE\",wce[4])\n",
    "        print(f\"xxxx MAE {errors[5]:3f}\",\"EP\",f'{error_nums[5]:3f}',\"WCE\",wce[5])\n",
    "\n",
    "def test_def(a, w,  params, DEBUG_MODE= False,offset = 8):\n",
    "    P_port, A_port, B_port, C_port, p, RECOVERY, APPROXIMATION = params\n",
    "    \n",
    "    \n",
    "    aoff = [k*offset for k in range(len(a))]\n",
    "    woff = [k*(offset*(len(a))) for k in range(len(w))]\n",
    "    roff = np.array([[m+n for m in aoff] for n in woff]).flatten()\n",
    "    \n",
    "    awidth = np.array(4*np.ones_like(a)).astype(int)\n",
    "    wwidth = np.array(4*np.ones_like(w)).astype(int)\n",
    "    \n",
    "    r = np.outer(a, w).T.flatten()\n",
    "    roff = np.array([[m+n for m in aoff] for n in woff]).flatten()\n",
    "    rwidth = np.array([[m+n for m in awidth] for n in wwidth]).flatten()\n",
    "    \n",
    "    if (aoff+awidth>18).any():\n",
    "        raise Exception(\"a inputs cannot fit in port B\")\n",
    "    \n",
    "    if (woff+wwidth>25).any():\n",
    "        raise Exception(\"w inputs cannot fit in port A\")\n",
    "\n",
    "        \n",
    "    P = P_port(A_port(sum(w * (2**np.array(woff))))()* B_port(sum(a * (2**np.array(aoff))))())\n",
    "    \n",
    "    if APPROXIMATION:\n",
    "        if DEBUG_MODE:\n",
    "            print('P', P.bin())\n",
    "        C = C_port(sum(np.outer(np.ones_like(a), (np.array(w)<0).astype(int)).T.flatten()[:-1] *  np.array([math.pow(2,k ) for k in (roff+8)[:-1]])))\n",
    "        P = P_port(P+C)\n",
    "        if DEBUG_MODE:\n",
    "            print('C', C.bin())\n",
    "            print('P', P.bin())  \n",
    "    if RECOVERY:\n",
    "        if DEBUG_MODE:\n",
    "            print('P', [P.bin()[48-m-n:48-m] for m,n in zip(roff,rwidth)])\n",
    "            print('P', P.bin())\n",
    "        modulos = 2**(rwidth[1:] - np.diff(roff))\n",
    "        C = C_port(sum(np.array([k%m for k,m in zip(r[1:],modulos)]) * np.array([math.pow(2,k ) for k in roff[1:]])))\n",
    "        P = P_port(P-C)\n",
    "        if DEBUG_MODE:\n",
    "            print('C', [C.bin()[48-m-n:48-m] for m,n in zip(roff,rwidth)])\n",
    "            print('C', C.bin())\n",
    "        \n",
    "    \n",
    "    p_bin = [P.bin()[48-m-n:48-m] for m,n in zip(roff,rwidth)]\n",
    "    if DEBUG_MODE:\n",
    "        print('P', p_bin)\n",
    "        print('P', P.bin())\n",
    "        \n",
    "    MAE = abs(np.array([p('0b' + k)() for k in p_bin]) - r)\n",
    "    EP = (MAE != 0).astype(int)\n",
    "\n",
    "    if DEBUG_MODE:\n",
    "        return EP, MAE, P\n",
    "    \n",
    "    return EP, MAE"
   ]
  },
  {
   "cell_type": "code",
   "execution_count": 16,
   "id": "cf161864-1ce3-49b6-9d29-7880cf64e17c",
   "metadata": {},
   "outputs": [],
   "source": [
    "def write_mif(triall_name):\n",
    "    file = open(\"\\\\\".join((trial_name, \"A_port.mif\")), \"w\")\n",
    "    \n",
    "    "
   ]
  },
  {
   "cell_type": "code",
   "execution_count": 1507,
   "id": "eee45330-7245-494d-9cfc-822330387680",
   "metadata": {},
   "outputs": [
    {
     "data": {
      "text/plain": [
       "array([2, 3, 2], dtype=int32)"
      ]
     },
     "execution_count": 1507,
     "metadata": {},
     "output_type": "execute_result"
    }
   ],
   "source": [
    "(r%4)[1:]"
   ]
  },
  {
   "cell_type": "code",
   "execution_count": 14,
   "id": "a77cb450-26b2-4628-b67f-69ca6e8556a2",
   "metadata": {},
   "outputs": [],
   "source": [
    "a = [2,15, 3]\n",
    "w=[2,1]"
   ]
  },
  {
   "cell_type": "code",
   "execution_count": 15,
   "id": "aeaab328-58fb-4733-bcf0-2d3504e7df00",
   "metadata": {},
   "outputs": [],
   "source": [
    "offset=6\n",
    "aoff = [k*offset for k in range(len(a))]\n",
    "woff = [k*(offset*(len(a))) for k in range(len(w))]\n",
    "roff = np.array([[m+n for m in aoff] for n in woff]).flatten()\n",
    "awidth = np.array(4*np.ones_like(a)).astype(int)\n",
    "wwidth = np.array(4*np.ones_like(w)).astype(int)\n",
    "\n",
    "r = np.outer(a, w).T.flatten()\n",
    "roff = np.array([[m+n for m in aoff] for n in woff]).flatten()\n",
    "rwidth = np.array([[m+n for m in awidth] for n in wwidth]).flatten()\n",
    "# aoff, woff, roff\n",
    "# rwidth"
   ]
  },
  {
   "cell_type": "code",
   "execution_count": 16,
   "id": "9abdd544-904b-49ef-a8e1-aaf4e3a5db2a",
   "metadata": {},
   "outputs": [
    {
     "data": {
      "text/plain": [
       "([0, 6, 12],\n",
       " [0, 18],\n",
       " array([ 0,  6, 12, 18, 24, 30]),\n",
       " array([8, 8, 8, 8, 8, 8]))"
      ]
     },
     "execution_count": 16,
     "metadata": {},
     "output_type": "execute_result"
    }
   ],
   "source": [
    "aoff, woff, roff, rwidth"
   ]
  },
  {
   "cell_type": "code",
   "execution_count": 1557,
   "id": "a1cd5b7e-ea61-469a-ba59-439fc2f919c2",
   "metadata": {},
   "outputs": [
    {
     "data": {
      "text/plain": [
       "array([1, 1, 1])"
      ]
     },
     "execution_count": 1557,
     "metadata": {},
     "output_type": "execute_result"
    }
   ],
   "source": [
    "rwidth[1:] - np.diff(roff)"
   ]
  },
  {
   "cell_type": "code",
   "execution_count": 1558,
   "id": "34d4dde5-a0eb-4789-90b3-f01f0e10b8e6",
   "metadata": {},
   "outputs": [
    {
     "data": {
      "text/plain": [
       "(array([ 4, 30,  2, 15]), array([ 8, 16, 24, 32]), array([ 0,  7, 14, 21]))"
      ]
     },
     "execution_count": 1558,
     "metadata": {},
     "output_type": "execute_result"
    }
   ],
   "source": [
    "r,np.cumsum(rwidth),roff"
   ]
  },
  {
   "cell_type": "code",
   "execution_count": 1559,
   "id": "c73050c3-baca-4b98-92d8-760f5c06ef84",
   "metadata": {},
   "outputs": [
    {
     "data": {
      "text/plain": [
       "array([2, 2, 2], dtype=int32)"
      ]
     },
     "execution_count": 1559,
     "metadata": {},
     "output_type": "execute_result"
    }
   ],
   "source": [
    "modulos = 2**(rwidth[1:] - np.diff(roff))\n",
    "modulos"
   ]
  },
  {
   "cell_type": "code",
   "execution_count": 1560,
   "id": "400fedd3-df52-40d0-aeec-1702d68c1851",
   "metadata": {},
   "outputs": [
    {
     "data": {
      "text/plain": [
       "array([ 4, 30,  2, 15])"
      ]
     },
     "execution_count": 1560,
     "metadata": {},
     "output_type": "execute_result"
    }
   ],
   "source": [
    "r"
   ]
  },
  {
   "cell_type": "code",
   "execution_count": 1561,
   "id": "a82136b5-7674-4de4-86b3-92377e0852e1",
   "metadata": {},
   "outputs": [
    {
     "data": {
      "text/plain": [
       "array([0, 0, 1])"
      ]
     },
     "execution_count": 1561,
     "metadata": {},
     "output_type": "execute_result"
    }
   ],
   "source": [
    "np.array([k%m for k,m in zip(r[1:],modulos)])"
   ]
  },
  {
   "cell_type": "code",
   "execution_count": 1562,
   "id": "6dbebd52-92cf-4672-975c-488c70b030ee",
   "metadata": {},
   "outputs": [
    {
     "data": {
      "text/plain": [
       "'000000000000000000000000001000000000000000000000'"
      ]
     },
     "execution_count": 1562,
     "metadata": {},
     "output_type": "execute_result"
    }
   ],
   "source": [
    "\n",
    "C = C_port(sum(np.array([k%m for k,m in zip(r[1:],modulos)]) * 2**roff[1:]))\n",
    "# P_port(P() - C())\n",
    "C.bin()"
   ]
  },
  {
   "cell_type": "code",
   "execution_count": 38,
   "id": "d82f3bf6-377d-421c-9d2f-d468c78afbc0",
   "metadata": {},
   "outputs": [
    {
     "name": "stdout",
     "output_type": "stream",
     "text": [
      "[4 4 4] [8 8 8 8 8 8]\n",
      "[ 0  6 12 18 24 30] [8 8 8 8 8 8]\n"
     ]
    },
    {
     "data": {
      "text/plain": [
       "'0x00026454CC1C'"
      ]
     },
     "execution_count": 38,
     "metadata": {},
     "output_type": "execute_result"
    }
   ],
   "source": [
    "\n",
    "trial_name = 'overpack2'\n",
    "params = (P_port, A_port, B_port, C_port, p, job[trial_name]['mode'])\n",
    "P_port, A_port, B_port, C_port, p, mode = params\n",
    "a=[7,12,3]\n",
    "w=[4,3]\n",
    "\n",
    "ep, mae, P = test_def(a, w,  params, DEBUG_MODE= True,offset = 6)\n",
    "P.hex()"
   ]
  },
  {
   "cell_type": "code",
   "execution_count": 304,
   "id": "6fe60368-2697-4743-bac2-21a01f03390d",
   "metadata": {},
   "outputs": [
    {
     "data": {
      "text/plain": [
       "dict_keys(['INT4', 'INT4approx', 'overpack1', 'overpack2', 'overpack3', 'MRoverpack1', 'MRoverpack2', 'MRoverpack3', '6multMRoverpack2', '6multoverpack2'])"
      ]
     },
     "execution_count": 304,
     "metadata": {},
     "output_type": "execute_result"
    }
   ],
   "source": [
    "job.keys()"
   ]
  },
  {
   "cell_type": "code",
   "execution_count": null,
   "id": "09b08b4b-6572-4c62-9094-f9e3964d905a",
   "metadata": {
    "scrolled": true
   },
   "outputs": [
    {
     "name": "stdout",
     "output_type": "stream",
     "text": [
      "num combinations tested: 65535 Time elapsed: 51  seconds\n",
      "Error rate: 37.35%\n",
      "Mean Absolute Error : 0.37\n",
      "Worst Case Error : 1\n",
      "a0w0 MAE 0.000000 EP 0.000000 WCE 0\n",
      "a1w0 MAE 0.468750 EP 0.468750 WCE 1\n",
      "a0w1 MAE 0.498047 EP 0.498047 WCE 1\n",
      "a1w1 MAE 0.527344 EP 0.527344 WCE 1\n",
      "num combinations tested: 65535 Time elapsed: 90  seconds\n",
      "Error rate: 2.35%\n",
      "Mean Absolute Error : 0.02\n",
      "Worst Case Error : 1\n",
      "a0w0 MAE 0.000000 EP 0.000000 WCE 0\n",
      "a1w0 MAE 0.031250 EP 0.031250 WCE 1\n",
      "a0w1 MAE 0.031494 EP 0.031494 WCE 1\n",
      "a1w1 MAE 0.031372 EP 0.031372 WCE 1\n",
      "num combinations tested: 65535 Time elapsed: 90  seconds\n",
      "Error rate: 50.00%\n",
      "Mean Absolute Error : 24.36\n",
      "Worst Case Error : 130\n",
      "a0w0 MAE 32.000000 EP 0.250000 WCE 128\n",
      "a1w0 MAE 32.513672 EP 0.625000 WCE 129\n",
      "a0w1 MAE 32.398468 EP 0.625000 WCE 130\n",
      "a1w1 MAE 0.533478 EP 0.500000 WCE 2\n",
      "num combinations tested: 65535 Time elapsed: 89  seconds\n",
      "Error rate: 65.12%\n",
      "Mean Absolute Error : 38.48\n",
      "Worst Case Error : 196\n",
      "a0w0 MAE 50.250000 EP 0.500000 WCE 192\n",
      "a1w0 MAE 51.161133 EP 0.773438 WCE 195\n",
      "a0w1 MAE 50.989227 EP 0.773804 WCE 196\n",
      "a1w1 MAE 1.520798 EP 0.557449 WCE 4\n",
      "num combinations tested: 65535 Time elapsed: 97  seconds\n",
      "Error rate: 78.97%\n",
      "Mean Absolute Error : 46.61\n",
      "Worst Case Error : 232\n",
      "a0w0 MAE 60.312500 EP 0.687500 WCE 224\n",
      "a1w0 MAE 61.356689 EP 0.891113 WCE 231\n",
      "a0w1 MAE 61.213501 EP 0.891449 WCE 232\n",
      "a1w1 MAE 3.544022 EP 0.688766 WCE 8\n",
      "num combinations tested: 65535 Time elapsed: 130  seconds\n",
      "Error rate: 38.09%\n",
      "Mean Absolute Error : 0.40\n",
      "Worst Case Error : 2\n",
      "a0w0 MAE 0.000000 EP 0.000000 WCE 0\n",
      "a1w0 MAE 0.531250 EP 0.507812 WCE 2\n",
      "a0w1 MAE 0.531982 EP 0.507812 WCE 2\n",
      "a1w1 MAE 0.531616 EP 0.507812 WCE 2\n",
      "num combinations tested: 65535 Time elapsed: 123  seconds\n",
      "Error rate: 52.12%\n",
      "Mean Absolute Error : 1.09\n",
      "Worst Case Error : 4\n",
      "a0w0 MAE 0.000000 EP 0.000000 WCE 0\n",
      "a1w0 MAE 1.449219 EP 0.691406 WCE 4\n",
      "a0w1 MAE 1.472168 EP 0.701660 WCE 4\n",
      "a1w1 MAE 1.450928 EP 0.691895 WCE 4\n",
      "num combinations tested: 65535 Time elapsed: 121  seconds\n",
      "Error rate: 62.63%\n",
      "Mean Absolute Error : 2.39\n",
      "Worst Case Error : 8\n",
      "a0w0 MAE 0.000000 EP 0.000000 WCE 0\n",
      "a1w0 MAE 3.158203 EP 0.830078 WCE 8\n",
      "a0w1 MAE 3.221680 EP 0.843262 WCE 8\n",
      "a1w1 MAE 3.165527 EP 0.831787 WCE 8\n",
      "Percent Complete:  16 Time elapsed:  363\r"
     ]
    }
   ],
   "source": [
    "job = {\n",
    "    'INT4':{'recovery':False, 'approximation':False, 'offset':8,'mults':4},\n",
    "    'INT4approx':{'recovery':False, 'approximation':True, 'offset':8,'mults':4},\n",
    "    'overpack1':{'recovery':False, 'approximation':True, 'offset':7,'mults':4},\n",
    "    'overpack2':{'recovery':False, 'approximation':True, 'offset':6,'mults':4},\n",
    "    'overpack3':{'recovery':False, 'approximation':True, 'offset':5,'mults':4},\n",
    "    'MRoverpack1':{'recovery':True, 'approximation':True, 'offset':7,'mults':4},\n",
    "    'MRoverpack2':{'recovery':True, 'approximation':True, 'offset':6,'mults':4},\n",
    "    'MRoverpack3':{'recovery':True, 'approximation':True, 'offset':5,'mults':4},\n",
    "    '6multMRoverpack2':{'recovery':True, 'approximation':True, 'offset':6,'mults':6},\n",
    "    '6multoverpack2':{'recovery':False, 'approximation':True, 'offset':6,'mults':6},\n",
    "}\n",
    "\n",
    "a = Fxp(7, dtype='U4.0')\n",
    "w = Fxp(2, dtype='S4.0')\n",
    "p = Fxp(255, dtype = 'S8.0')\n",
    "mr = Fxp(0, dtype = 'U1.0')\n",
    "A_port = Fxp(0, dtype='S25.0')\n",
    "D_port = Fxp(0, dtype='S25.0')\n",
    "B_port = Fxp(0, dtype='U18.0')\n",
    "C_port = Fxp(0, dtype='S48.0')\n",
    "\n",
    "P_port = Fxp(0, dtype='S48.0')\n",
    "\n",
    "A = '0b' + '0'*25\n",
    "D = '0b' + '0'*25\n",
    "B = '0b' + '0'*18\n",
    "P = '0b' + '0'*48\n",
    "C = '0b' + '0'*48\n",
    "\n",
    "\n",
    "trial_name='overpack2'\n",
    "\n",
    "\n",
    "\n",
    "for trial_name in job.keys():\n",
    "    params = (P_port, A_port, B_port, C_port, p, job[trial_name]['recovery'], job[trial_name]['approximation'])\n",
    "    run_job(trial_name, params,offset=job[trial_name]['offset'], mults = job[trial_name]['mults'])\n",
    "    print_results(trial_name)"
   ]
  },
  {
   "cell_type": "code",
   "execution_count": 310,
   "id": "5800c09d-0b96-4d8b-a307-841f4202a2bc",
   "metadata": {},
   "outputs": [
    {
     "data": {
      "text/plain": [
       "'INT4'"
      ]
     },
     "execution_count": 310,
     "metadata": {},
     "output_type": "execute_result"
    }
   ],
   "source": []
  },
  {
   "cell_type": "code",
   "execution_count": 303,
   "id": "7a348a5c-06c1-45af-91de-0844ed10fbff",
   "metadata": {},
   "outputs": [
    {
     "name": "stdout",
     "output_type": "stream",
     "text": [
      "Error rate: 57.54%\n",
      "Mean Absolute Error : 1.18\n",
      "Worst Case Error : 5\n",
      "a0w0 MAE 0.000000 EP 0.000000 WCE 0\n",
      "a1w0 MAE 1.533203 EP 0.744141 WCE 5\n",
      "a0w1 MAE 1.587402 EP 0.768555 WCE 5\n",
      "a1w1 MAE 1.606445 EP 0.789062 WCE 5\n"
     ]
    }
   ],
   "source": [
    "trial_name='MRoverpack2'\n",
    "print_results(trial_name)"
   ]
  },
  {
   "cell_type": "code",
   "execution_count": 245,
   "id": "64e49969-191c-4552-8a94-504efb7c4dbe",
   "metadata": {},
   "outputs": [
    {
     "name": "stdout",
     "output_type": "stream",
     "text": [
      "Error rate: 2.21%\n",
      "Mean Absolute Error : 0.02\n",
      "Worst Case Error : 1\n",
      "a0w0 MAE 0.000000 EP 0.000000 WCE 0\n",
      "a1w0 MAE 0.029297 EP 0.029297 WCE 1\n",
      "a0w1 MAE 0.029526 EP 0.029526 WCE 1\n",
      "a1w1 MAE 0.029419 EP 0.029419 WCE 1\n"
     ]
    }
   ],
   "source": [
    "trial_name='APPROXold'\n",
    "print_results(trial_name)"
   ]
  },
  {
   "cell_type": "code",
   "execution_count": 13,
   "id": "70d72d38-802e-4d8c-b4bb-5337357a0fd2",
   "metadata": {},
   "outputs": [
    {
     "data": {
      "text/plain": [
       "1"
      ]
     },
     "execution_count": 13,
     "metadata": {},
     "output_type": "execute_result"
    }
   ],
   "source": [
    "job[trial_name]['mults']"
   ]
  },
  {
   "cell_type": "code",
   "execution_count": 35,
   "id": "a3e6306f-dca1-436e-a90a-1c78f2a32582",
   "metadata": {
    "scrolled": true
   },
   "outputs": [],
   "source": [
    "trial_name='6multoverpack2'\n",
    "file = open(\"\\\\\".join((trial_name, \"val_data.json\")), \"r\")\n",
    "# data['start_index'] = 0\n",
    "# data['EP'] = data['EP'].tolist()\n",
    "# data['MAE'] = data['MAE'].tolist()\n",
    "# json.dump({}, file)\n",
    "file.close()"
   ]
  },
  {
   "cell_type": "code",
   "execution_count": 1586,
   "id": "07bb2b77-84f0-4887-9b05-11fdd113ecee",
   "metadata": {
    "scrolled": true
   },
   "outputs": [],
   "source": [
    "data = {}"
   ]
  },
  {
   "cell_type": "code",
   "execution_count": 33,
   "id": "12635112-3468-492c-a56a-f39171c035cc",
   "metadata": {},
   "outputs": [
    {
     "name": "stdout",
     "output_type": "stream",
     "text": [
      "-172032525.0 0xFFFFF5BEFDF3\n",
      "['11110011', '11111101', '10111110', '11110101']\n",
      "[ 0 -1 -1 -1] [0 1 1 1]\n"
     ]
    }
   ],
   "source": [
    "# a = [a0, ... ,an]\n",
    "# w = [w0, ... , wn]\n",
    "\n",
    "# aoff = [aoff1, ... , aoffn]\n",
    "# woff = [woff1, ... , woffn]\n",
    "\n",
    "# awidth = [awidth1, ..., awidthn]\n",
    "# wwidth = [wwdith1, ..., wwidthn]\n",
    "\n",
    "a1 = 13\n",
    "a2 = 2\n",
    "w1 = -1\n",
    "w2 = -5\n",
    "\n",
    "a = np.array([ a1, a2])\n",
    "w = np.array([ w1, w2])\n",
    "\n",
    "offset = 8\n",
    "aoff = [k*offset for k in range(len(a))]\n",
    "woff = [k*(offset*(len(a))) for k in range(len(w))]\n",
    "roff = np.array([[m+n for m in aoff] for n in woff]).flatten()\n",
    "\n",
    "awidth = np.array(4*np.ones_like(a))\n",
    "wwidth = np.array(4*np.ones_like(w))\n",
    "\n",
    "r = np.outer(a, w).T.flatten()\n",
    "roff = np.array([[m+n for m in aoff] for n in woff]).flatten()\n",
    "rwidth = np.array([[m+n for m in awidth] for n in wwidth]).flatten()\n",
    "\n",
    "if (aoff+awidth>18).any():\n",
    "    raise Exception(\"a inputs cannot fit in port B\")\n",
    "\n",
    "if (woff+wwidth>25).any():\n",
    "    raise Exception(\"w inputs cannot fit in port A\")\n",
    "    \n",
    "P = P_port(A_port(sum(w * (2**np.array(woff))))()* B_port(sum(a * (2**np.array(aoff))))())\n",
    "# if APPROXIMATION:\n",
    "#     C = C_port(sum(np.outer(np.ones_like(a), (w<0).astype(int)).T.flatten()[:-1] * 2**roff[1:]))\n",
    "#     P = P_port(P+C)\n",
    "    \n",
    "r_bin = [P.bin()[48-m-n:48-m] for m,n in zip(roff,rwidth)]\n",
    "\n",
    "MAE = (np.array([p('0b' + k)() for k in r_bin]) - r)\n",
    "EP = (MAE != 0).astype(int)\n",
    "\n",
    "print(P, P.hex())\n",
    "print(r_bin)\n",
    "print(MAE, EP)\n",
    "\n",
    "\n",
    "# def dsp48_model:(a, w"
   ]
  },
  {
   "cell_type": "code",
   "execution_count": 1490,
   "id": "01304e81-0dcb-44cd-b33f-c1a5f3d5dcba",
   "metadata": {},
   "outputs": [
    {
     "name": "stdout",
     "output_type": "stream",
     "text": [
      "num combinations tested: 65535 Time elapsed: 55  seconds\n"
     ]
    }
   ],
   "source": [
    "start_index = 0\n",
    "if start_index < len(all_combinations):\n",
    "    start = time.time()\n",
    "    for i in range(start_index, len(all_combinations)):\n",
    "        a1,a2,a3,w1,w2 = all_combinations[i]\n",
    "        a = np.array([a1,a2,a3]) if a3 != 0 else np.array([a1,a2])\n",
    "        w = np.array([w1,w2])\n",
    "        if len(a) >2:\n",
    "            print('error')\n",
    "            break\n",
    "        data['EP'][i], data['MAE'][i] = test_def(a, w , params, DEBUG_MODE=False, offset=6)\n",
    "        \n",
    "        # EP += sum(EP_)\n",
    "        # MAE += int(sum(MAE_))\n",
    "        # WCE = max(WCE, *MAE_)\n",
    "        # WCE1 = max(WCE1, MAE_[0])\n",
    "        # WCE2 = max(WCE2, MAE_[1])\n",
    "        # WCE3 = max(WCE3, MAE_[2])\n",
    "        # WCE4 = max(WCE4, MAE_[3])\n",
    "        # errors += MAE_\n",
    "        # error_nums += EP_\n",
    "        if i%100 == 0:\n",
    "            finish = time.time()\n",
    "            print(\"Percent Complete: \", int(i*100/(len(all_combinations))), \"Time elapsed: \", int(finish-start), end='\\r')\n",
    "    finish = time.time()\n",
    "    print(\"num combinations tested:\", i, \"Time elapsed:\", int(finish-start), \" seconds\")\n",
    "    data['run_time'] = time.time() - start\n",
    "    data['start_index'] = len(all_combinations)\n",
    "    file.close()"
   ]
  },
  {
   "cell_type": "code",
   "execution_count": 1491,
   "id": "89d1f24d-f4a2-47af-a49b-cdaaf78eb459",
   "metadata": {},
   "outputs": [
    {
     "data": {
      "text/plain": [
       "0.37353515625"
      ]
     },
     "execution_count": 1491,
     "metadata": {},
     "output_type": "execute_result"
    }
   ],
   "source": [
    "np.sum(data['EP'])/(4*(16**4))\n"
   ]
  },
  {
   "cell_type": "code",
   "execution_count": 1486,
   "id": "e88eb61b-2a60-435f-9544-5d1b6a2ebc5c",
   "metadata": {},
   "outputs": [
    {
     "data": {
      "text/plain": [
       "(array([ 7680.,  3840.,  7680.,  3840.,  3840., 15616.,  3840.,  7680.,\n",
       "         3840.,  7680.]),\n",
       " array([-8. , -6.6, -5.2, -3.8, -2.4, -1. ,  0.4,  1.8,  3.2,  4.6,  6. ]),\n",
       " <BarContainer object of 10 artists>)"
      ]
     },
     "execution_count": 1486,
     "metadata": {},
     "output_type": "execute_result"
    },
    {
     "data": {
      "image/png": "[encoded data removed]",
      "text/plain": [
       "<Figure size 640x480 with 1 Axes>"
      ]
     },
     "metadata": {},
     "output_type": "display_data"
    }
   ],
   "source": [
    "import matplotlib.pyplot as plt\n",
    "plt.hist(all_combinations[:,4])"
   ]
  },
  {
   "cell_type": "code",
   "execution_count": 1473,
   "id": "f68ae3bc-5442-40f2-aa67-93896d5193cd",
   "metadata": {},
   "outputs": [
    {
     "data": {
      "text/plain": [
       "0.35064697265625"
      ]
     },
     "execution_count": 1473,
     "metadata": {},
     "output_type": "execute_result"
    }
   ],
   "source": [
    "np.sum(data['EP'])/((16**4)*4)"
   ]
  },
  {
   "cell_type": "code",
   "execution_count": null,
   "id": "4fde02a3-efc4-4cc6-9df7-e3a4508a54b9",
   "metadata": {},
   "outputs": [],
   "source": [
    "P_port, A_port, B_port, C_port, p, mode = params\n",
    "\n",
    "aoff = [k*offset for k in range(len(a))]\n",
    "woff = [k*(offset*(len(a))) for k in range(len(w))]\n",
    "roff = np.array([[m+n for m in aoff] for n in woff]).flatten()\n",
    "\n",
    "awidth = np.array(4*np.ones_like(a)).astype(int)\n",
    "wwidth = np.array(4*np.ones_like(w)).astype(int)\n",
    "\n",
    "r = np.outer(a, w).T.flatten()\n",
    "roff = np.array([[m+n for m in aoff] for n in woff]).flatten()\n",
    "rwidth = np.array([[m+n for m in awidth] for n in wwidth]).flatten()"
   ]
  },
  {
   "cell_type": "code",
   "execution_count": null,
   "id": "780479f5-8436-4739-b73a-3aba98399c34",
   "metadata": {},
   "outputs": [],
   "source": []
  },
  {
   "cell_type": "markdown",
   "id": "3e8bf5f4-13c2-4a44-bf93-9855d06fca3c",
   "metadata": {},
   "source": [
    "## 6 DSP mult"
   ]
  },
  {
   "cell_type": "code",
   "execution_count": 5,
   "id": "381c1fc3-db91-4292-82e9-50e65598d431",
   "metadata": {},
   "outputs": [
    {
     "ename": "SyntaxError",
     "evalue": "incomplete input (2737281270.py, line 17)",
     "output_type": "error",
     "traceback": [
      "\u001b[1;36m  Cell \u001b[1;32mIn[5], line 17\u001b[1;36m\u001b[0m\n\u001b[1;33m    test_def(a,w,params,\u001b[0m\n\u001b[1;37m                         ^\u001b[0m\n\u001b[1;31mSyntaxError\u001b[0m\u001b[1;31m:\u001b[0m incomplete input\n"
     ]
    }
   ],
   "source": [
    "job = {\n",
    "    'INT4':{'mode':'none', 'offset':8,'mults':4},\n",
    "    'INT4approx':{'mode':'approx', 'offset':8,'mults':4},\n",
    "    'overpack1':{'mode':'none', 'offset':7,'mults':4},\n",
    "    'overpack2':{'mode':'none', 'offset':6,'mults':4},\n",
    "    'overpack3':{'mode':'none', 'offset':5,'mults':4},\n",
    "    'MRoverpack1':{'mode':'recovery', 'offset':7,'mults':4},\n",
    "    'MRoverpack2':{'mode':'recovery', 'offset':6,'mults':4},\n",
    "    'MRoverpack3':{'mode':'recovery', 'offset':5,'mults':4},\n",
    "    '6multMRoverpack2':{'mode':'recovery', 'offset':6,'mults':6},\n",
    "    '6multoverpack2':{'mode':'none', 'offset':6,'mults':6},\n",
    "}\n",
    "\n",
    "a = [1,2,3]\n",
    "w = [2,3]\n",
    "\n"
   ]
  },
  {
   "cell_type": "code",
   "execution_count": 28,
   "id": "cce3f081-852b-4188-80ab-7e2d67fc0c05",
   "metadata": {},
   "outputs": [
    {
     "name": "stdout",
     "output_type": "stream",
     "text": [
      "P ['00000010', '10000100', '11000110', '10000011', '01000110', '00001001']\n",
      "P 000000000000001001000110000011000110000100000010\n",
      "C ['00000000', '10000000', '11000010', '10000011', '01000010', '00000001']\n",
      "C 000000000000000001000010000011000010000000000000\n",
      "P ['00000010', '00000100', '00000100', '00000000', '00000100', '00001000']\n",
      "P 000000000000001000000100000000000100000100000010\n"
     ]
    },
    {
     "data": {
      "text/plain": [
       "(array([0, 0, 1, 1, 1, 1]),\n",
       " array([0, 0, 2, 3, 2, 1], dtype=int64),\n",
       " fxp-s48/0(8657060098.0))"
      ]
     },
     "execution_count": 28,
     "metadata": {},
     "output_type": "execute_result"
    }
   ],
   "source": [
    "trial_name = '6multMRoverpack2'\n",
    "job = {\n",
    "    'INT4':{'recovery':False, 'approximation':False, 'offset':8,'mults':4},\n",
    "    'INT4approx':{'recovery':False, 'approximation':True, 'offset':8,'mults':4},\n",
    "    'overpack1':{'recovery':False, 'approximation':True, 'offset':7,'mults':4},\n",
    "    'overpack2':{'recovery':False, 'approximation':True, 'offset':6,'mults':4},\n",
    "    'overpack3':{'recovery':False, 'approximation':True, 'offset':5,'mults':4},\n",
    "    'MRoverpack1':{'recovery':True, 'approximation':True, 'offset':7,'mults':4},\n",
    "    'MRoverpack2':{'recovery':True, 'approximation':True, 'offset':6,'mults':4},\n",
    "    'MRoverpack3':{'recovery':True, 'approximation':True, 'offset':5,'mults':4},\n",
    "    '6multMRoverpack2':{'recovery':True, 'approximation':True, 'offset':6,'mults':6},\n",
    "    '6multoverpack2':{'recovery':False, 'approximation':True, 'offset':6,'mults':6},\n",
    "}\n",
    "\n",
    "a = [1,2,3]\n",
    "w = [2,3]\n",
    "\n",
    "Result = Fxp(0,dtype='S8.0')\n",
    "A_port = Fxp(0, dtype='S25.0')\n",
    "D_port = Fxp(0, dtype='S25.0')\n",
    "B_port = Fxp(0, dtype='U18.0')\n",
    "C_port = Fxp(0, dtype='S48.0')\n",
    "\n",
    "P_port = Fxp(0, dtype='S48.0')\n",
    "\n",
    "A = '0b' + '0'*25\n",
    "D = '0b' + '0'*25\n",
    "B = '0b' + '0'*18\n",
    "P = '0b' + '0'*48\n",
    "C = '0b' + '0'*48\n",
    "\n",
    "\n",
    "trial_name='6multMRoverpack2'\n",
    "\n",
    "params = (P_port, A_port, B_port, C_port, p, job[trial_name]['recovery'], job[trial_name]['approximation'])\n",
    "\n",
    "test_def(a, w, params, offset=job[trial_name]['offset'],DEBUG_MODE=True)"
   ]
  },
  {
   "cell_type": "code",
   "execution_count": 22,
   "id": "d166a6d8-7bc5-40bd-8f1e-f47068026666",
   "metadata": {},
   "outputs": [
    {
     "data": {
      "text/plain": [
       "array([2, 4, 6, 3, 6, 9])"
      ]
     },
     "execution_count": 22,
     "metadata": {},
     "output_type": "execute_result"
    }
   ],
   "source": [
    "np.outer(np.array(a),np.array(w)).T.flatten()"
   ]
  },
  {
   "cell_type": "code",
   "execution_count": 241,
   "id": "c28be477-29dc-4237-bd22-c94565308502",
   "metadata": {},
   "outputs": [],
   "source": [
    "def test_def(a, w,  params, DEBUG_MODE= False,offset = 8, RECOVERY=False, APPROXIMATION=False):\n",
    "    P_port, A_port, B_port, C_port, p, mode = params\n",
    "    \n",
    "    aoff = [k*offset for k in range(len(a))]\n",
    "    woff = [k*(offset*(len(a))) for k in range(len(w))]\n",
    "    roff = np.array([[m+n for m in aoff] for n in woff]).flatten()\n",
    "    \n",
    "    awidth = np.array(4*np.ones_like(a)).astype(int)\n",
    "    wwidth = np.array(4*np.ones_like(w)).astype(int)\n",
    "    \n",
    "    r = np.outer(a, w).T.flatten()\n",
    "    roff = np.array([[m+n for m in aoff] for n in woff]).flatten()\n",
    "    rwidth = np.array([[m+n for m in awidth] for n in wwidth]).flatten()\n",
    "    \n",
    "    if (aoff+awidth>18).any():\n",
    "        raise Exception(\"a inputs cannot fit in port B\")\n",
    "    \n",
    "    if (woff+wwidth>25).any():\n",
    "        raise Exception(\"w inputs cannot fit in port A\")\n",
    "\n",
    "        \n",
    "    P = P_port(A_port(sum(w * (2**np.array(woff))))()* B_port(sum(a * (2**np.array(aoff))))())\n",
    "    \n",
    "    if APPROXIMATION:\n",
    "        if DEBUG_MODE:\n",
    "            print('P', P.bin())\n",
    "        C = C_port(sum(np.outer(np.ones_like(a), (np.array(w)<0).astype(int)).T.flatten()[:-1] *  np.array([math.pow(2,k ) for k in (roff+8)[:-1]])))\n",
    "        P = P_port(P+C)\n",
    "        if DEBUG_MODE:\n",
    "            print('C', C.bin())\n",
    "            print('P', P.bin())  \n",
    "    if RECOVERY:\n",
    "        if DEBUG_MODE:\n",
    "            print('P', [P.bin()[48-m-n:48-m] for m,n in zip(roff,rwidth)])\n",
    "            print('P', P.bin())\n",
    "        modulos = 2**(rwidth[1:] - np.diff(roff))\n",
    "        C = C_port(sum(np.array([k%m for k,m in zip(r[1:],modulos)]) * np.array([math.pow(2,k ) for k in roff[1:]])))\n",
    "        P = P_port(P-C)\n",
    "        if DEBUG_MODE:\n",
    "            print('C', [C.bin()[48-m-n:48-m] for m,n in zip(roff,rwidth)])\n",
    "            print('C', C.bin())\n",
    "        \n",
    "    \n",
    "    p_bin = [P.bin()[48-m-n:48-m] for m,n in zip(roff,rwidth)]\n",
    "    if DEBUG_MODE:\n",
    "        print('P', p_bin)\n",
    "        print('P', P.bin())\n",
    "        \n",
    "    MAE = abs(np.array([p('0b' + k)() for k in p_bin]) - r)\n",
    "    EP = (MAE != 0).astype(int)\n",
    "\n",
    "    if DEBUG_MODE:\n",
    "        return EP, MAE, P\n",
    "    \n",
    "    return EP, MAE"
   ]
  },
  {
   "cell_type": "code",
   "execution_count": 108,
   "id": "b62b1901-c191-44b5-8571-f4b29682f757",
   "metadata": {},
   "outputs": [
    {
     "data": {
      "text/plain": [
       "(array([1.28000000e+02, 1.63840000e+04, 2.09715200e+06, 2.68435456e+08,\n",
       "        3.43597384e+10]),\n",
       " array([0, 0, 0, 0, 0]))"
      ]
     },
     "execution_count": 108,
     "metadata": {},
     "output_type": "execute_result"
    }
   ],
   "source": [
    "np.array([math.pow(2,k ) for k in roff[1:]]), np.outer(np.ones_like(a), (np.array(w)<0).astype(int)).T.flatten()[:-1]"
   ]
  },
  {
   "cell_type": "code",
   "execution_count": 164,
   "id": "3a8401ee-d882-4927-aeb3-13b34bd0e3b6",
   "metadata": {},
   "outputs": [
    {
     "name": "stdout",
     "output_type": "stream",
     "text": [
      "P 000000000000010100110000100011110000011011100101\n",
      "C 000000000000000000000000000100000100000100000000\n",
      "P 000000000000010100110000100111110100011111100101\n",
      "P ['11100101', '00011111', '11110100', '00100111', '00110000', '00010100']\n",
      "P 000000000000010100110000100111110100011111100101\n",
      "C ['00000000', '01000000', '00000001', '00000000', '00000000', '00000000']\n",
      "C 000000000000000000000000000000000001000000000000\n",
      "P 000000000000010100110000100111110011011111100101\n"
     ]
    }
   ],
   "source": [
    "DEBUG_MODE=True\n",
    "RECOVERY=True\n",
    "APPROXIMATION=True\n",
    "offset=6\n",
    "P_port, A_port, B_port, C_port, p, mode = params\n",
    "\n",
    "aoff = [k*offset for k in range(len(a))]\n",
    "woff = [k*(offset*(len(a))) for k in range(len(w))]\n",
    "roff = np.array([[m+n for m in aoff] for n in woff]).flatten()\n",
    "\n",
    "awidth = np.array(4*np.ones_like(a)).astype(int)\n",
    "wwidth = np.array(4*np.ones_like(w)).astype(int)\n",
    "\n",
    "r = np.outer(a, w).T.flatten()\n",
    "roff = np.array([[m+n for m in aoff] for n in woff]).flatten()\n",
    "rwidth = np.array([[m+n for m in awidth] for n in wwidth]).flatten()\n",
    "\n",
    "if (aoff+awidth>18).any():\n",
    "    raise Exception(\"a inputs cannot fit in port B\")\n",
    "\n",
    "if (woff+wwidth>25).any():\n",
    "    raise Exception(\"w inputs cannot fit in port A\")\n",
    "\n",
    "    \n",
    "P = P_port(A_port(sum(w * (2**np.array(woff))))()* B_port(sum(a * (2**np.array(aoff))))())\n",
    "\n",
    "if APPROXIMATION:\n",
    "    if DEBUG_MODE:\n",
    "        print('P', P.bin())\n",
    "    C = C_port(sum(np.outer(np.ones_like(a), (np.array(w)<0).astype(int)).T.flatten()[:-1] *  np.array([math.pow(2,k ) for k in (roff+8)[:-1]])))\n",
    "    P = P_port(P+C)\n",
    "    if DEBUG_MODE:\n",
    "        print('C', C.bin())\n",
    "        print('P', P.bin())    \n",
    "\n",
    "if RECOVERY:\n",
    "    if DEBUG_MODE:\n",
    "        print('P', [P.bin()[48-m-n:48-m] for m,n in zip(roff,rwidth)])\n",
    "        print('P', P.bin())\n",
    "    modulos = 2**(rwidth[1:] - np.diff(roff))\n",
    "    C = C_port(sum(np.array([k%m for k,m in zip(r[1:],modulos)]) * np.array([math.pow(2,k ) for k in roff[1:]])))\n",
    "    P = P_port(P-C)\n",
    "    if DEBUG_MODE:\n",
    "        print('C', [C.bin()[48-m-n:48-m] for m,n in zip(roff,rwidth)])\n",
    "        print('C', C.bin())\n",
    "        print('P', P.bin())    "
   ]
  },
  {
   "cell_type": "code",
   "execution_count": 172,
   "id": "9e3261c6-40fe-4bcd-9174-b0ba27016d22",
   "metadata": {},
   "outputs": [
    {
     "data": {
      "text/plain": [
       "array([     2048,    131072,   8388608, 536870912,         0], dtype=int32)"
      ]
     },
     "execution_count": 172,
     "metadata": {},
     "output_type": "execute_result"
    }
   ],
   "source": [
    "2**(roff+5)[1:]"
   ]
  },
  {
   "cell_type": "code",
   "execution_count": 171,
   "id": "89e07e2a-ba07-454e-a565-748a2b4a4adc",
   "metadata": {},
   "outputs": [
    {
     "data": {
      "text/plain": [
       "array([ 5, 11, 17, 23, 29, 35])"
      ]
     },
     "execution_count": 171,
     "metadata": {},
     "output_type": "execute_result"
    }
   ],
   "source": [
    "roff+5"
   ]
  },
  {
   "cell_type": "code",
   "execution_count": 147,
   "id": "67346bd0-10f7-4287-be8f-343b57338639",
   "metadata": {},
   "outputs": [
    {
     "data": {
      "text/plain": [
       "array([ 8, 16, 24, 32, 40])"
      ]
     },
     "execution_count": 147,
     "metadata": {},
     "output_type": "execute_result"
    }
   ],
   "source": [
    "np.cumsum(rwidth)[:-1]"
   ]
  },
  {
   "cell_type": "code",
   "execution_count": 55,
   "id": "bdaed039-c29a-47ef-965a-d62f45e4983c",
   "metadata": {},
   "outputs": [
    {
     "data": {
      "text/plain": [
       "array([2, 2, 2, 2, 2], dtype=int32)"
      ]
     },
     "execution_count": 55,
     "metadata": {},
     "output_type": "execute_result"
    }
   ],
   "source": [
    "modulos = 2**(rwidth[1:] - np.diff(roff))\n",
    "modulos"
   ]
  },
  {
   "cell_type": "code",
   "execution_count": 59,
   "id": "c01b2ff2-a101-4ca7-8124-68cbb89f94b3",
   "metadata": {},
   "outputs": [
    {
     "data": {
      "text/plain": [
       "(array([0, 0, 1, 0, 1]),\n",
       " array([      128,     16384,   2097152, 268435456,         0], dtype=int32))"
      ]
     },
     "execution_count": 59,
     "metadata": {},
     "output_type": "execute_result"
    }
   ],
   "source": [
    "np.array([k%m for k,m in zip(r[1:],modulos)]), 2**roff[1:]"
   ]
  },
  {
   "cell_type": "code",
   "execution_count": 72,
   "id": "a8bfe11f-a29e-413b-a625-b63961827734",
   "metadata": {},
   "outputs": [
    {
     "data": {
      "text/plain": [
       "array([ 0,  7, 14, 21, 28, 35], dtype=int64)"
      ]
     },
     "execution_count": 72,
     "metadata": {},
     "output_type": "execute_result"
    }
   ],
   "source": [
    "roff.astype('int64')"
   ]
  },
  {
   "cell_type": "code",
   "execution_count": 76,
   "id": "2332901b-0c37-4857-9b2f-35a70280cb9e",
   "metadata": {},
   "outputs": [
    {
     "data": {
      "text/plain": [
       "1586013452313430.8"
      ]
     },
     "execution_count": 76,
     "metadata": {},
     "output_type": "execute_result"
    }
   ],
   "source": [
    "np.exp(roff[-1])"
   ]
  },
  {
   "cell_type": "code",
   "execution_count": 77,
   "id": "fc40f72a-173d-4554-b8bc-3501b1239a44",
   "metadata": {},
   "outputs": [
    {
     "data": {
      "text/plain": [
       "0"
      ]
     },
     "execution_count": 77,
     "metadata": {},
     "output_type": "execute_result"
    }
   ],
   "source": [
    "np.power(2,roff[-1])"
   ]
  },
  {
   "cell_type": "code",
   "execution_count": 89,
   "id": "873b2e90-25f9-4f72-a14a-19d040b13622",
   "metadata": {},
   "outputs": [
    {
     "data": {
      "text/plain": [
       "[128, 16384, 2097152, 268435456, 0]"
      ]
     },
     "execution_count": 89,
     "metadata": {},
     "output_type": "execute_result"
    }
   ],
   "source": [
    "import math\n",
    "[np.power(2,k ) for k in roff[1:]]"
   ]
  },
  {
   "cell_type": "code",
   "execution_count": 73,
   "id": "e9f91ba7-0a34-4dd5-acbc-ff5bf3ac6b7c",
   "metadata": {},
   "outputs": [
    {
     "data": {
      "text/plain": [
       "0"
      ]
     },
     "execution_count": 73,
     "metadata": {},
     "output_type": "execute_result"
    }
   ],
   "source": [
    "2**roff[-1]"
   ]
  },
  {
   "cell_type": "code",
   "execution_count": 296,
   "id": "3f85144b-9426-4a9e-9cd9-9352975de5df",
   "metadata": {},
   "outputs": [],
   "source": [
    "a = [0,16]\n",
    "w = [7,-8]"
   ]
  },
  {
   "cell_type": "code",
   "execution_count": 297,
   "id": "ef935735-07bc-483b-8586-7d586b3bd92f",
   "metadata": {},
   "outputs": [
    {
     "data": {
      "text/plain": [
       "['00000000', '01110000', '00000000', '10000000']"
      ]
     },
     "execution_count": 297,
     "metadata": {},
     "output_type": "execute_result"
    }
   ],
   "source": [
    "[Result(k).bin() for k in np.outer(a,w).T.flatten()]"
   ]
  },
  {
   "cell_type": "code",
   "execution_count": 298,
   "id": "bc40166b-0ec4-4d14-9787-4725b2c76a47",
   "metadata": {},
   "outputs": [
    {
     "data": {
      "text/plain": [
       "array([ 8, 14, 20, 26, 32, 38])"
      ]
     },
     "execution_count": 298,
     "metadata": {},
     "output_type": "execute_result"
    }
   ],
   "source": [
    "roff+8"
   ]
  },
  {
   "cell_type": "code",
   "execution_count": 299,
   "id": "2e929c74-d822-4fd3-b366-9162dc74426a",
   "metadata": {},
   "outputs": [
    {
     "name": "stdout",
     "output_type": "stream",
     "text": [
      "P 111111111111111111111110000000000001110000000000\n",
      "C 000000000000000000000000000100000000000000000000\n",
      "P 111111111111111111111110000100000001110000000000\n",
      "P ['00000000', '01110000', '00000001', '10000100']\n",
      "P 111111111111111111111110000100000001110000000000\n",
      "C ['00000000', '00000000', '00000000', '00000000']\n",
      "C 000000000000000000000000000000000000000000000000\n",
      "P ['00000000', '01110000', '00000001', '10000100']\n",
      "P 111111111111111111111110000100000001110000000000\n"
     ]
    },
    {
     "data": {
      "text/plain": [
       "(array([0, 0, 1, 1]), array([0, 0, 1, 4], dtype=int64), fxp-s48/0(-32498688.0))"
      ]
     },
     "execution_count": 299,
     "metadata": {},
     "output_type": "execute_result"
    }
   ],
   "source": [
    "test_def(a,w, params, DEBUG_MODE=True, APPROXIMATION=True, RECOVERY=True, offset=6)"
   ]
  },
  {
   "cell_type": "code",
   "execution_count": 295,
   "id": "dad6018f-6565-413d-80f7-836d5b4d6c36",
   "metadata": {},
   "outputs": [
    {
     "name": "stdout",
     "output_type": "stream",
     "text": [
      "P 111111111111111111101111111000100011100001101001\n",
      "C 000000000000000000000000010000000000000000000000\n",
      "P 111111111111111111110000001000100011100001101001\n",
      "P ['01101001', '01110000', '10001000', '10000001']\n",
      "P 111111111111111111110000001000100011100001101001\n",
      "C ['00000000', '00000000', '00000000', '00000000']\n",
      "C 000000000000000000000000000000000000000000000000\n",
      "P ['01101001', '01110000', '10001000', '10000001']\n",
      "P 111111111111111111110000001000100011100001101001\n"
     ]
    },
    {
     "data": {
      "text/plain": [
       "(array([0, 0, 0, 1]),\n",
       " array([0, 0, 0, 1], dtype=int64),\n",
       " fxp-s48/0(-266192791.0))"
      ]
     },
     "execution_count": 295,
     "metadata": {},
     "output_type": "execute_result"
    }
   ],
   "source": [
    "test_def(a,w, params, DEBUG_MODE=True, offset=7, RECOVERY=True)"
   ]
  },
  {
   "cell_type": "code",
   "execution_count": 190,
   "id": "f93b3d74-b77f-4ee3-91ac-35ecab04cc70",
   "metadata": {},
   "outputs": [
    {
     "name": "stdout",
     "output_type": "stream",
     "text": [
      "P ['11100101', '01011101', '11110010', '00100101', '00110000', '00010100']\n",
      "P 000000001010001100000100101111001010111011100101\n"
     ]
    },
    {
     "data": {
      "text/plain": [
       "(array([0, 1, 1, 1, 0, 0]),\n",
       " array([  0, 129,   1,   1,   0,   0], dtype=int64),\n",
       " fxp-s48/0(700159143653.0))"
      ]
     },
     "execution_count": 190,
     "metadata": {},
     "output_type": "execute_result"
    }
   ],
   "source": [
    "test_def(a,w, params, DEBUG_MODE=True, offset=7, APPROXIMATION=True)"
   ]
  },
  {
   "cell_type": "code",
   "execution_count": 210,
   "id": "348a387b-92d7-443b-89db-428eeb192220",
   "metadata": {},
   "outputs": [
    {
     "name": "stdout",
     "output_type": "stream",
     "text": [
      "P ['11100101', '01011101', '11110010', '00100101', '00110000', '00010100']\n",
      "P 000000001010001100000100101111001010111011100101\n",
      "C ['00000000', '10000000', '00000001', '00000000', '00000000', '00000000']\n",
      "C 000000000000000000000000000000000100000000000000\n",
      "P ['11100101', '11011101', '11110001', '00100101', '00110000', '00010100']\n",
      "P 000000001010001100000100101111000110111011100101\n"
     ]
    },
    {
     "data": {
      "text/plain": [
       "(array([0, 1, 0, 1, 0, 0]),\n",
       " array([0, 1, 0, 1, 0, 0], dtype=int64),\n",
       " fxp-s48/0(700159127269.0))"
      ]
     },
     "execution_count": 210,
     "metadata": {},
     "output_type": "execute_result"
    }
   ],
   "source": [
    "test_def(a,w, params, DEBUG_MODE=True, offset=7, APPROXIMATION=True, RECOVERY=True)"
   ]
  },
  {
   "cell_type": "code",
   "execution_count": 52,
   "id": "69bc26cc-2b6f-42df-90a6-5361fa650a9b",
   "metadata": {},
   "outputs": [
    {
     "data": {
      "text/plain": [
       "array([0, 0, 0, 0, 0, 0])"
      ]
     },
     "execution_count": 52,
     "metadata": {},
     "output_type": "execute_result"
    }
   ],
   "source": [
    "np.outer(np.ones_like(a), (np.array(w)<0).astype(int)).T.flatten()"
   ]
  },
  {
   "cell_type": "code",
   "execution_count": null,
   "id": "125dde6c-dd11-4f25-a207-dab5cbd73a91",
   "metadata": {},
   "outputs": [],
   "source": []
  },
  {
   "cell_type": "code",
   "execution_count": 30,
   "id": "72ea183f-eb25-479a-b05d-1cc67e1d16d6",
   "metadata": {},
   "outputs": [
    {
     "data": {
      "text/plain": [
       "['00000010', '00000100', '00000110', '00000011', '00000110', '00001001']"
      ]
     },
     "execution_count": 30,
     "metadata": {},
     "output_type": "execute_result"
    }
   ],
   "source": [
    "# Expectation\n",
    "expect = np.outer(np.array(a),np.array(w)).T.flatten()\n",
    "[Result(k).bin() for k in expect]\n"
   ]
  },
  {
   "cell_type": "code",
   "execution_count": 33,
   "id": "bb47303e-fe82-4e50-a9d5-485d92150aaf",
   "metadata": {},
   "outputs": [],
   "source": [
    "offset=7"
   ]
  },
  {
   "cell_type": "code",
   "execution_count": 36,
   "id": "72809c62-993f-41b1-8e08-0a2fc72b1a62",
   "metadata": {},
   "outputs": [
    {
     "data": {
      "text/plain": [
       "'000000000100100001100000011000011000001000000010'"
      ]
     },
     "execution_count": 36,
     "metadata": {},
     "output_type": "execute_result"
    }
   ],
   "source": [
    "P_port(sum([k*(2**(offset*i)) for i,k in enumerate(expect)])).bin()\n"
   ]
  }
 ],
 "metadata": {
  "kernelspec": {
   "display_name": "Python 3 (ipykernel)",
   "language": "python",
   "name": "python3"
  },
  "language_info": {
   "codemirror_mode": {
    "name": "ipython",
    "version": 3
   },
   "file_extension": ".py",
   "mimetype": "text/x-python",
   "name": "python",
   "nbconvert_exporter": "python",
   "pygments_lexer": "ipython3",
   "version": "3.12.2"
  }
 },
 "nbformat": 4,
 "nbformat_minor": 5
}
