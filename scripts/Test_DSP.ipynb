{
 "cells": [
  {
   "cell_type": "code",
   "execution_count": 213,
   "id": "460fa587-0ec9-4719-bf2e-cf84e3595527",
   "metadata": {},
   "outputs": [],
   "source": [
    "import numpy as np\n",
    "from fxpmath import Fxp\n",
    "import time"
   ]
  },
  {
   "cell_type": "code",
   "execution_count": 114,
   "id": "5629ed35-bf96-4117-81b0-14476c112d3a",
   "metadata": {},
   "outputs": [
    {
     "name": "stdout",
     "output_type": "stream",
     "text": [
      "7 12 2 0\n",
      "7 12 2 0\n"
     ]
    }
   ],
   "source": [
    "a = Fxp(7, dtype='U4.0')\n",
    "w = Fxp(2, dtype='S4.0')\n",
    "p = Fxp(255, dtype = 'S8.0')\n",
    "\n",
    "a1 = a.copy()\n",
    "a2 = a(12).copy()\n",
    "w1 = w.copy()\n",
    "w2 = w(0).copy()\n",
    "print(a1, a2, w1, w2)\n",
    "print(a1, a2, w1, w2)"
   ]
  },
  {
   "cell_type": "code",
   "execution_count": 105,
   "id": "b8f4962c-a74a-48b6-8176-112a0288fa9a",
   "metadata": {},
   "outputs": [
    {
     "name": "stdout",
     "output_type": "stream",
     "text": [
      "14.0 0.0 24.0 0.0\n",
      "00001110 00000000 00011000 00000000\n"
     ]
    }
   ],
   "source": [
    "prod1, prod2, prod3, prod4 = p(a1*w1)(), p(a1*w2)(), p(a2*w1)(), p(a2*w2)()\n",
    "print(p(prod1)(), p(prod2)(), p(prod3)(), p(prod4)())\n",
    "print(p(prod1).bin(), p(prod2).bin(), p(prod3).bin(), p(prod4).bin())"
   ]
  },
  {
   "cell_type": "code",
   "execution_count": 43,
   "id": "d9ecb57a-361c-4ebd-ac67-f5275ad6b508",
   "metadata": {},
   "outputs": [],
   "source": [
    "A_port = Fxp(0, dtype='S25.0')\n",
    "D_port = Fxp(0, dtype='S25.0')\n",
    "B_port = Fxp(0, dtype='U18.0')\n",
    "P_port = Fxp(0, dtype='S48.0')"
   ]
  },
  {
   "cell_type": "code",
   "execution_count": 66,
   "id": "84f6c3db-3aeb-4703-98ce-f5bb118ff64e",
   "metadata": {},
   "outputs": [
    {
     "name": "stdout",
     "output_type": "stream",
     "text": [
      "0b0000000000000000000000000 0b0000000000000000000000000 0b000000000000000000\n",
      "0b0000000000000011100000111 0b000000000000000010\n",
      "1799 2\n"
     ]
    },
    {
     "data": {
      "text/plain": [
       "(array(3598, dtype=object), '000000000000000000000000000000000000111000001110')"
      ]
     },
     "execution_count": 66,
     "metadata": {},
     "output_type": "execute_result"
    }
   ],
   "source": [
    "A = '0b' + '0'*25\n",
    "D = '0b' + '0'*25\n",
    "B = '0b' + '0'*18\n",
    "print(A,D,B)\n",
    "offset=8\n",
    "A = A[:-4] + a1.bin()\n",
    "A = A[:-(4+offset)] + a1.bin() + A[-(offset):]\n",
    "B = B[:-4] + w1.bin()\n",
    "\n",
    "B = B[:-4] + w1.bin()\n",
    "A_port(A)\n",
    "B_port(B)\n",
    "print(A,B)\n",
    "print(A_port(A), B_port(B))\n",
    "P_port(A_port(A)*B_port(B))(), P_port(A_port(A)*B_port(B)).bin()"
   ]
  },
  {
   "cell_type": "code",
   "execution_count": 54,
   "id": "68b6f1f2-6a96-435e-8a9c-24e0471789ea",
   "metadata": {},
   "outputs": [
    {
     "name": "stdout",
     "output_type": "stream",
     "text": [
      "0b0000000000000011100000111\n"
     ]
    },
    {
     "data": {
      "text/plain": [
       "(None, 27)"
      ]
     },
     "execution_count": 54,
     "metadata": {},
     "output_type": "execute_result"
    }
   ],
   "source": [
    "print(A), len(A)"
   ]
  },
  {
   "cell_type": "code",
   "execution_count": 169,
   "id": "d40e3c4c-8b4c-419b-bb9f-6565db23e544",
   "metadata": {},
   "outputs": [],
   "source": [
    "a1, z2, w1, w2 = 7, 12, 1, 1"
   ]
  },
  {
   "cell_type": "code",
   "execution_count": 178,
   "id": "e22c8fb2-3ec5-45da-b1a1-85ac2f7ec524",
   "metadata": {},
   "outputs": [
    {
     "name": "stdout",
     "output_type": "stream",
     "text": [
      "0b0000000000000000000000111 7\n",
      "0b0000011000000000000000000 786432\n",
      "0b0000011000000000000000111 786439\n",
      "0b000000000100000001 257\n",
      "000000000000000000001100000011000000011100000111 1799\n",
      "7 7 12 12\n",
      "00000111 00000111 00001100 00001100\n",
      "00000111 00000111 00001100 00001100\n",
      "SUCCESS\n"
     ]
    }
   ],
   "source": [
    "a = Fxp(7, dtype='U4.0')\n",
    "w = Fxp(2, dtype='S4.0')\n",
    "p = Fxp(255, dtype = 'S8.0')\n",
    "offset = 8\n",
    "a1 = a(a1).copy()\n",
    "a2 = a(a2).copy()\n",
    "w1 = w(w1).copy()\n",
    "w2 = w(w2).copy()\n",
    "\n",
    "A_port = Fxp(0, dtype='S25.0')\n",
    "D_port = Fxp(0, dtype='S25.0')\n",
    "B_port = Fxp(0, dtype='U18.0')\n",
    "P_port = Fxp(0, dtype='S48.0')\n",
    "\n",
    "A = '0b' + '0'*25\n",
    "D = '0b' + '0'*25\n",
    "B = '0b' + '0'*18\n",
    "\n",
    "A = A[:-4] + a1.bin()\n",
    "D = D[:-(4+offset*2)] + a2.bin() + D[-(offset*2):]\n",
    "\n",
    "B = B[:-4] + w1.bin()\n",
    "B = B[:-(4+offset)] + w2.bin() + B[-(offset):]\n",
    "\n",
    "P = P_port(A_port(A_port(A)+D_port(D))*B_port(B)).bin()\n",
    "print(A, A_port(A))\n",
    "print(D, A_port(D))\n",
    "print('0b'+ A_port(A_port(A)+D_port(D)).bin(), A_port(A_port(A)+D_port(D)))\n",
    "print(B, B_port(B))\n",
    "print(P, P_port(A_port(A)*B_port(B))())\n",
    "print(p(prod1)(), p(prod2)(), p(prod3)(), p(prod4)())\n",
    "print(p(prod1).bin(), p(prod2).bin(), p(prod3).bin(), p(prod4).bin())\n",
    "print(P[-offset:], P[-offset*2:-(offset)], P[-offset*3:-offset*2], P[-offset*4:-offset*3])\n",
    "    \n",
    "\n",
    "prod1, prod2, prod3, prod4 = p(a1*w1)(), p(a1*w2)(), p(a2*w1)(), p(a2*w2)()\n",
    "if (p(prod1).bin(), p(prod2).bin(), p(prod3).bin(), p(prod4).bin()) != (P[-offset:], P[-offset*2:-(offset)], P[-offset*3:-offset*2], P[-offset*4:-offset*3]):\n",
    "    print(\"FAIL\")\n",
    "else:\n",
    "    print(\"SUCCESS\")"
   ]
  },
  {
   "cell_type": "code",
   "execution_count": 197,
   "id": "deac746e-2fd1-478e-9f78-96de327c763d",
   "metadata": {},
   "outputs": [],
   "source": [
    "a = Fxp(7, dtype='U4.0')\n",
    "w = Fxp(2, dtype='S4.0')\n",
    "p = Fxp(255, dtype = 'S8.0')\n",
    "offset = 8\n",
    "a1 = a(a1).copy()\n",
    "a2 = a(a2).copy()\n",
    "w1 = w(w1).copy()\n",
    "w2 = w(w2).copy()\n",
    "\n",
    "A_port = Fxp(0, dtype='S25.0')\n",
    "D_port = Fxp(0, dtype='S25.0')\n",
    "B_port = Fxp(0, dtype='U18.0')\n",
    "P_port = Fxp(0, dtype='S48.0')\n",
    "\n",
    "A = '0b' + '0'*25\n",
    "D = '0b' + '0'*25\n",
    "B = '0b' + '0'*18\n",
    "\n",
    "A = A[:-4] + a1.bin()\n",
    "D = D[:-(4+offset*2)] + a2.bin() + D[-(offset*2):]\n",
    "\n",
    "B = B[:-4] + w1.bin()\n",
    "B = B[:-(4+offset)] + w2.bin() + B[-(offset):]\n",
    "\n",
    "P1 = P_port(A_port(A_port(A)+D_port(D))*B_port(B))\n",
    "P2 = P_port(A_port(a1()+a2()*2**offset)*B_port(w1()+w2()*2**offset))"
   ]
  },
  {
   "cell_type": "code",
   "execution_count": 198,
   "id": "5e22bd22-9a0b-4c0b-a87c-0c8296be9282",
   "metadata": {},
   "outputs": [
    {
     "data": {
      "text/plain": [
       "(fxp-s48/0(791303), fxp-s48/0(791303))"
      ]
     },
     "execution_count": 198,
     "metadata": {},
     "output_type": "execute_result"
    }
   ],
   "source": [
    "P1,P2"
   ]
  },
  {
   "cell_type": "code",
   "execution_count": 175,
   "id": "d3308b60-d25f-4cfc-802e-bb4cef4aa68e",
   "metadata": {},
   "outputs": [
    {
     "data": {
      "text/plain": [
       "fxp-s25/0(786439)"
      ]
     },
     "execution_count": 175,
     "metadata": {},
     "output_type": "execute_result"
    }
   ],
   "source": [
    "A_port(A_port+D_port)"
   ]
  },
  {
   "cell_type": "code",
   "execution_count": 183,
   "id": "72f9cec9-c6d6-43ee-b74f-0dce7357eb5a",
   "metadata": {},
   "outputs": [],
   "source": [
    "a = Fxp(7, dtype='U4.0')\n",
    "w = Fxp(2, dtype='S4.0')\n",
    "p = Fxp(255, dtype = 'S8.0')\n",
    "A_port = Fxp(0, dtype='S25.0')\n",
    "D_port = Fxp(0, dtype='S25.0')\n",
    "B_port = Fxp(0, dtype='U18.0')\n",
    "P_port = Fxp(0, dtype='S48.0')\n",
    "A = '0b' + '0'*25\n",
    "D = '0b' + '0'*25\n",
    "B = '0b' + '0'*18\n",
    "params = (\n",
    "    a, w, p, A_port, D_port, B_port, P_port, A, D, B\n",
    ")\n",
    "# params = (\n",
    "#         Fxp(7, dtype='U4.0'), Fxp(2, dtype='S4.0'), Fxp(255, dtype = 'S8.0'),\n",
    "#         Fxp(0, dtype='S25.0'), Fxp(0, dtype='S25.0'), Fxp(0, dtype='U18.0'),\n",
    "#         Fxp(0, dtype='S48.0'))"
   ]
  },
  {
   "cell_type": "code",
   "execution_count": 199,
   "id": "133d0af7-ee10-41ce-874e-9a113db2a0a5",
   "metadata": {},
   "outputs": [],
   "source": [
    "def model_dsp(a1, a2, w1, w2, params, offset = 8, DEBUG_MODE= False):\n",
    "    a, w, p, A_port, D_port, B_port, P_port, A, D, B = params\n",
    "        \n",
    "    # a = Fxp(7, dtype='U4.0')\n",
    "    # w = Fxp(2, dtype='S4.0')\n",
    "    # p = Fxp(255, dtype = 'S8.0')\n",
    "    \n",
    "    a1 = a(a1).copy()\n",
    "    a2 = a(a2).copy()\n",
    "    w1 = w(w1).copy()\n",
    "    w2 = w(w2).copy()\n",
    "\n",
    "    prod1, prod2, prod3, prod4 = p(a1()*w1)(), p(a1*w2)(), p(a2*w1)(), p(a2*w2)()\n",
    "    \n",
    "    # A_port = Fxp(0, dtype='S25.0')\n",
    "    # D_port = Fxp(0, dtype='S25.0')\n",
    "    # B_port = Fxp(0, dtype='U18.0')\n",
    "    # P_port = Fxp(0, dtype='S48.0')\n",
    "    \n",
    "    # A = '0b' + '0'*25\n",
    "    # D = '0b' + '0'*25\n",
    "    # B = '0b' + '0'*18\n",
    "    \n",
    "    A = A[:-4] + a1.bin()\n",
    "    D = D[:-(4+offset*2)] + a2.bin() + D[-(offset*2):]\n",
    "    \n",
    "    B = B[:-4] + w1.bin()\n",
    "    B = B[:-(4+offset)] + w2.bin() + B[-(offset):]\n",
    "\n",
    "    P = P_port(A_port(A_port(A)+D_port(D))*B_port(B)).bin()\n",
    "\n",
    "    if DEBUG_MODE:\n",
    "        print(A, A_port(A))\n",
    "        print(D, A_port(D))\n",
    "        print('0b'+ A_port(A_port(A)+D_port(D)).bin(), A_port(A_port(A)+D_port(D)))\n",
    "        print(B, B_port(B))\n",
    "        print(P, P_port(A_port(A)*B_port(B))())\n",
    "        print(p(prod1)(), p(prod2)(), p(prod3)(), p(prod4)())\n",
    "        print(p(prod1).bin(), p(prod2).bin(), p(prod3).bin(), p(prod4).bin())\n",
    "        print(P[-offset:], P[-offset*2:-(offset)], P[-offset*3:-offset*2], P[-offset*4:-offset*3])\n",
    "        \n",
    "    if (p(prod1).bin(), p(prod2).bin(), p(prod3).bin(), p(prod4).bin()) != (P[-offset:], P[-offset*2:-(offset)], P[-offset*3:-offset*2], P[-offset*4:-offset*3]):\n",
    "        if DEBUG_MODE:\n",
    "           print(\"FAIL\")\n",
    "        return False\n",
    "    else:\n",
    "        if DEBUG_MODE:\n",
    "            print(\"SUCCESS\")\n",
    "        return True\n",
    "\n",
    "    "
   ]
  },
  {
   "cell_type": "code",
   "execution_count": 439,
   "id": "34c79a24-f409-40fb-b860-a720baa0d05d",
   "metadata": {},
   "outputs": [],
   "source": [
    "def fast_model_dsp(a1, a2, w1, w2, params, offset = 8, DEBUG_MODE= False):\n",
    "    a, w, p, A_port, D_port, B_port, P_port, A, D, B = params\n",
    "    errors = [0,0,0,0]\n",
    "    EP = 0\n",
    "    prod1, prod2, prod3, prod4 = p(a1*w1)(), p(a2*w1)(), p(a1*w2)(), p(a2*w2)()\n",
    "    P = P_port(A_port(w1+w2*(2**(offset*2)))*B_port(a1+a2*(2**offset)))\n",
    "    if DEBUG_MODE:\n",
    "        print(A_port(), B_port())\n",
    "        print('A port', A_port(w1), A_port(A_port(w1)).bin())\n",
    "        print('D port', A_port(w*(2**(offset*2))),A_port(w2*(2**(2*offset))).bin())\n",
    "        print('A+D port', A_port(w1+w2*(2**(offset*2))),A_port(w1+w2*(2**(offset*2))).bin())\n",
    "        print('B port', B_port(a1+a2*(2**offset)).bin(), B_port(a1+a2*(2**offset)))\n",
    "        print('P port', P(), P.bin())\n",
    "        print(p(prod1)(), p(prod2)(), p(prod3)(), p(prod4)())\n",
    "        print(p(prod1).bin(), p(prod2).bin(), p(prod3).bin(), p(prod4).bin())\n",
    "        print(P.bin()[-offset:], P.bin()[-offset*2:-(offset)], P.bin()[-offset*3:-offset*2], P.bin()[-offset*4:-offset*3])    \n",
    "\n",
    "    if p(prod1).bin() != P.bin()[-offset:]:\n",
    "        errors[0]= abs(p(prod1)() - p('0b' + P.bin()[-offset:])())\n",
    "        EP += 1\n",
    "        if DEBUG_MODE:\n",
    "            print('error1')\n",
    "    if p(prod2).bin() != P.bin()[-offset*2:-(offset)]:\n",
    "        errors[1]= abs(p(prod2)() - p('0b' + P.bin()[-offset*2:-(offset)])())\n",
    "        EP += 1\n",
    "        if DEBUG_MODE:\n",
    "            print('error2')\n",
    "    if p(prod3).bin() != P.bin()[-offset*3:-offset*2]:\n",
    "        errors[2]= abs(p(prod3)() - p('0b' + P.bin()[-offset*3:-offset*2])())\n",
    "        EP += 1\n",
    "        if DEBUG_MODE:\n",
    "            print('error3')\n",
    "    if p(prod4).bin() != P.bin()[-offset*4:-offset*3]:\n",
    "        errors[3]= abs(p(prod4)() - p('0b' + P.bin()[-offset*4:-offset*3])())\n",
    "        EP += 1\n",
    "        if DEBUG_MODE:\n",
    "            print('error4')\n",
    "\n",
    "    return EP, errors\n",
    "\n",
    "    \n",
    "    "
   ]
  },
  {
   "cell_type": "code",
   "execution_count": 325,
   "id": "d3287542-2be2-4e88-b645-d710f0381bda",
   "metadata": {},
   "outputs": [
    {
     "data": {
      "text/plain": [
       "fxp-s8/0(-121)"
      ]
     },
     "execution_count": 325,
     "metadata": {},
     "output_type": "execute_result"
    }
   ],
   "source": [
    "p('0b10000111')"
   ]
  },
  {
   "cell_type": "code",
   "execution_count": 326,
   "id": "a47ebf97-6e77-41bc-bb1b-1bca8cef7013",
   "metadata": {},
   "outputs": [
    {
     "data": {
      "text/plain": [
       "fxp-s8/0(127)"
      ]
     },
     "execution_count": 326,
     "metadata": {},
     "output_type": "execute_result"
    }
   ],
   "source": [
    "p('0b01111111')"
   ]
  },
  {
   "cell_type": "code",
   "execution_count": 453,
   "id": "1c5815bd-a152-4a58-ae0b-aaf1b3744ef8",
   "metadata": {},
   "outputs": [],
   "source": [
    "a1=15\n",
    "a2=11\n",
    "w1=4\n",
    "w2=-7"
   ]
  },
  {
   "cell_type": "code",
   "execution_count": 454,
   "id": "da131f41-cfcd-4375-9610-a8259d55f236",
   "metadata": {},
   "outputs": [
    {
     "data": {
      "text/plain": [
       "(60, -105, 44, -77)"
      ]
     },
     "execution_count": 454,
     "metadata": {},
     "output_type": "execute_result"
    }
   ],
   "source": [
    "a1*w1, a1*w2, a2*w1, a2*w2\n"
   ]
  },
  {
   "cell_type": "code",
   "execution_count": 455,
   "id": "77e09bc6-a5f6-4527-8933-9f08ec4edcfa",
   "metadata": {},
   "outputs": [
    {
     "name": "stdout",
     "output_type": "stream",
     "text": [
      "-458748 2831\n",
      "A port 4 0000000000000000000000100\n",
      "D port -458752 1111110010000000000000000\n",
      "A+D port -458748 1111110010000000000000100\n",
      "B port 000000101100001111 2831\n",
      "P port -1298715588 111111111111111110110010100101110010110000111100\n",
      "60 44 -105 -77\n",
      "00111100 00101100 10010111 10110011\n",
      "00111100 00101100 10010111 10110010\n",
      "error4\n",
      "1 [0, 0, 0, 1]\n",
      "0.25 0.25\n"
     ]
    }
   ],
   "source": [
    "EP, MAE = 0,0\n",
    "error_nums, errors = fast_model_dsp(a1,a2,w1,w2, params,DEBUG_MODE=True)\n",
    "EP += error_nums\n",
    "MAE += int(sum(errors)) \n",
    "print(error_nums, errors)\n",
    "print(EP/4, MAE/4)\n",
    "# print(f\"Error rate: {100*EP/((16**4)*4):.2f}%\")\n",
    "# print(f\"Mean Absolute Error : {MAE/((16**4)):.2f}\")"
   ]
  },
  {
   "cell_type": "code",
   "execution_count": 438,
   "id": "a20ddc9b-7c6c-4ac1-b6b3-f12f18791fe7",
   "metadata": {},
   "outputs": [
    {
     "data": {
      "text/plain": [
       "'00101100'"
      ]
     },
     "execution_count": 438,
     "metadata": {},
     "output_type": "execute_result"
    }
   ],
   "source": [
    "p(44).bin()"
   ]
  },
  {
   "cell_type": "code",
   "execution_count": 388,
   "id": "8a247e07-6cb6-4403-8853-042d94a7ddc6",
   "metadata": {},
   "outputs": [
    {
     "data": {
      "text/plain": [
       "True"
      ]
     },
     "execution_count": 388,
     "metadata": {},
     "output_type": "execute_result"
    }
   ],
   "source": [
    "EP,  errors = model_dsp(7,12,1,0, params)"
   ]
  },
  {
   "cell_type": "code",
   "execution_count": 191,
   "id": "8d305a9e-b6d9-4505-b579-8f4ae9ede965",
   "metadata": {},
   "outputs": [],
   "source": [
    "a = Fxp(7, dtype='U4.0')\n",
    "w = Fxp(2, dtype='S4.0')\n",
    "p = Fxp(255, dtype = 'S8.0')\n",
    "A_port = Fxp(0, dtype='S25.0')\n",
    "D_port = Fxp(0, dtype='S25.0')\n",
    "B_port = Fxp(0, dtype='U18.0')\n",
    "P_port = Fxp(0, dtype='S48.0')\n",
    "A = '0b' + '0'*25\n",
    "D = '0b' + '0'*25\n",
    "B = '0b' + '0'*18\n",
    "params = (\n",
    "    a, w, p, A_port, D_port, B_port, P_port, A, D, B\n",
    ")"
   ]
  },
  {
   "cell_type": "code",
   "execution_count": 389,
   "id": "cd377ca6-7df5-44b0-ac6a-4d5081fc71a6",
   "metadata": {
    "scrolled": true
   },
   "outputs": [
    {
     "name": "stdout",
     "output_type": "stream",
     "text": [
      "Percent Complete:  0 Time elapsed:  1\r"
     ]
    },
    {
     "ename": "KeyboardInterrupt",
     "evalue": "",
     "output_type": "error",
     "traceback": [
      "\u001b[1;31m---------------------------------------------------------------------------\u001b[0m",
      "\u001b[1;31mKeyboardInterrupt\u001b[0m                         Traceback (most recent call last)",
      "Cell \u001b[1;32mIn[389], line 6\u001b[0m\n\u001b[0;32m      4\u001b[0m \u001b[38;5;28;01mfor\u001b[39;00m i \u001b[38;5;129;01min\u001b[39;00m \u001b[38;5;28mrange\u001b[39m(\u001b[38;5;241m256\u001b[39m):\n\u001b[0;32m      5\u001b[0m     \u001b[38;5;28;01mfor\u001b[39;00m j \u001b[38;5;129;01min\u001b[39;00m \u001b[38;5;28mrange\u001b[39m(\u001b[38;5;241m256\u001b[39m):\n\u001b[1;32m----> 6\u001b[0m         \u001b[38;5;28;01mif\u001b[39;00m \u001b[38;5;129;01mnot\u001b[39;00m model_dsp(i,j,\u001b[38;5;241m1\u001b[39m,\u001b[38;5;241m1\u001b[39m, params):\n\u001b[0;32m      7\u001b[0m             counter\u001b[38;5;241m+\u001b[39m\u001b[38;5;241m=\u001b[39m\u001b[38;5;241m1\u001b[39m\n\u001b[0;32m      8\u001b[0m         \u001b[38;5;28;01mif\u001b[39;00m ((i\u001b[38;5;241m*\u001b[39m\u001b[38;5;241m256\u001b[39m)\u001b[38;5;241m+\u001b[39mj\u001b[38;5;241m+\u001b[39m\u001b[38;5;241m1\u001b[39m)\u001b[38;5;241m%\u001b[39m\u001b[38;5;241m100\u001b[39m \u001b[38;5;241m==\u001b[39m \u001b[38;5;241m0\u001b[39m:\n",
      "Cell \u001b[1;32mIn[199], line 30\u001b[0m, in \u001b[0;36mmodel_dsp\u001b[1;34m(a1, a2, w1, w2, params, offset, DEBUG_MODE)\u001b[0m\n\u001b[0;32m     27\u001b[0m B \u001b[38;5;241m=\u001b[39m B[:\u001b[38;5;241m-\u001b[39m\u001b[38;5;241m4\u001b[39m] \u001b[38;5;241m+\u001b[39m w1\u001b[38;5;241m.\u001b[39mbin()\n\u001b[0;32m     28\u001b[0m B \u001b[38;5;241m=\u001b[39m B[:\u001b[38;5;241m-\u001b[39m(\u001b[38;5;241m4\u001b[39m\u001b[38;5;241m+\u001b[39moffset)] \u001b[38;5;241m+\u001b[39m w2\u001b[38;5;241m.\u001b[39mbin() \u001b[38;5;241m+\u001b[39m B[\u001b[38;5;241m-\u001b[39m(offset):]\n\u001b[1;32m---> 30\u001b[0m P \u001b[38;5;241m=\u001b[39m P_port(A_port(A_port(A)\u001b[38;5;241m+\u001b[39mD_port(D))\u001b[38;5;241m*\u001b[39mB_port(B))\u001b[38;5;241m.\u001b[39mbin()\n\u001b[0;32m     32\u001b[0m \u001b[38;5;28;01mif\u001b[39;00m DEBUG_MODE:\n\u001b[0;32m     33\u001b[0m     \u001b[38;5;28mprint\u001b[39m(A, A_port(A))\n",
      "File \u001b[1;32m~\\anaconda3\\envs\\fpga\\Lib\\site-packages\\fxpmath\\objects.py:1143\u001b[0m, in \u001b[0;36mFxp.__call__\u001b[1;34m(self, val)\u001b[0m\n\u001b[0;32m   1141\u001b[0m     rval \u001b[38;5;241m=\u001b[39m \u001b[38;5;28mself\u001b[39m\u001b[38;5;241m.\u001b[39mget_val()\n\u001b[0;32m   1142\u001b[0m \u001b[38;5;28;01melse\u001b[39;00m:\n\u001b[1;32m-> 1143\u001b[0m     rval \u001b[38;5;241m=\u001b[39m \u001b[38;5;28mself\u001b[39m\u001b[38;5;241m.\u001b[39mset_val(val)\n\u001b[0;32m   1144\u001b[0m \u001b[38;5;28;01mreturn\u001b[39;00m rval\n",
      "File \u001b[1;32m~\\anaconda3\\envs\\fpga\\Lib\\site-packages\\fxpmath\\objects.py:855\u001b[0m, in \u001b[0;36mFxp.set_val\u001b[1;34m(self, val, raw, vdtype, index)\u001b[0m\n\u001b[0;32m    852\u001b[0m     val_dtype \u001b[38;5;241m=\u001b[39m np\u001b[38;5;241m.\u001b[39mint64 \u001b[38;5;28;01mif\u001b[39;00m \u001b[38;5;28mself\u001b[39m\u001b[38;5;241m.\u001b[39msigned \u001b[38;5;28;01melse\u001b[39;00m np\u001b[38;5;241m.\u001b[39muint64\n\u001b[0;32m    854\u001b[0m \u001b[38;5;66;03m# rounding and overflowing\u001b[39;00m\n\u001b[1;32m--> 855\u001b[0m new_val \u001b[38;5;241m=\u001b[39m \u001b[38;5;28mself\u001b[39m\u001b[38;5;241m.\u001b[39m_round(val \u001b[38;5;241m*\u001b[39m conv_factor , method\u001b[38;5;241m=\u001b[39m\u001b[38;5;28mself\u001b[39m\u001b[38;5;241m.\u001b[39mconfig\u001b[38;5;241m.\u001b[39mrounding)\n\u001b[0;32m    856\u001b[0m new_val \u001b[38;5;241m=\u001b[39m \u001b[38;5;28mself\u001b[39m\u001b[38;5;241m.\u001b[39m_overflow_action(new_val, val_min, val_max)\n\u001b[0;32m    858\u001b[0m \u001b[38;5;66;03m# convert to array of val_dtype\u001b[39;00m\n",
      "File \u001b[1;32m~\\anaconda3\\envs\\fpga\\Lib\\site-packages\\fxpmath\\objects.py:1114\u001b[0m, in \u001b[0;36mFxp._round\u001b[1;34m(self, val, method)\u001b[0m\n\u001b[0;32m   1113\u001b[0m \u001b[38;5;28;01mdef\u001b[39;00m \u001b[38;5;21m_round\u001b[39m(\u001b[38;5;28mself\u001b[39m, val, method\u001b[38;5;241m=\u001b[39m\u001b[38;5;124m'\u001b[39m\u001b[38;5;124mfloor\u001b[39m\u001b[38;5;124m'\u001b[39m):\n\u001b[1;32m-> 1114\u001b[0m     \u001b[38;5;28;01mif\u001b[39;00m \u001b[38;5;28misinstance\u001b[39m(val, \u001b[38;5;28mint\u001b[39m) \u001b[38;5;129;01mor\u001b[39;00m np\u001b[38;5;241m.\u001b[39missubdtype(np\u001b[38;5;241m.\u001b[39marray(val)\u001b[38;5;241m.\u001b[39mdtype, np\u001b[38;5;241m.\u001b[39minteger) \u001b[38;5;129;01mor\u001b[39;00m np\u001b[38;5;241m.\u001b[39missubdtype(np\u001b[38;5;241m.\u001b[39marray(val)\u001b[38;5;241m.\u001b[39mdtype, np\u001b[38;5;241m.\u001b[39mobject_):\n\u001b[0;32m   1115\u001b[0m         rval \u001b[38;5;241m=\u001b[39m val\n\u001b[0;32m   1116\u001b[0m     \u001b[38;5;28;01melif\u001b[39;00m method \u001b[38;5;241m==\u001b[39m \u001b[38;5;124m'\u001b[39m\u001b[38;5;124maround\u001b[39m\u001b[38;5;124m'\u001b[39m:\n",
      "File \u001b[1;32m~\\anaconda3\\envs\\fpga\\Lib\\site-packages\\numpy\\core\\numerictypes.py:357\u001b[0m, in \u001b[0;36missubdtype\u001b[1;34m(arg1, arg2)\u001b[0m\n\u001b[0;32m    327\u001b[0m \u001b[38;5;250m    \u001b[39m\u001b[38;5;124;03m\"\"\"\u001b[39;00m\n\u001b[0;32m    328\u001b[0m \u001b[38;5;124;03m    Determine if the first argument is a subclass of the second argument.\u001b[39;00m\n\u001b[0;32m    329\u001b[0m \n\u001b[1;32m   (...)\u001b[0m\n\u001b[0;32m    352\u001b[0m \n\u001b[0;32m    353\u001b[0m \u001b[38;5;124;03m    \"\"\"\u001b[39;00m\n\u001b[0;32m    354\u001b[0m     \u001b[38;5;28;01mreturn\u001b[39;00m \u001b[38;5;28missubclass\u001b[39m(obj2sctype(arg1), obj2sctype(arg2))\n\u001b[1;32m--> 357\u001b[0m \u001b[38;5;129m@set_module\u001b[39m(\u001b[38;5;124m'\u001b[39m\u001b[38;5;124mnumpy\u001b[39m\u001b[38;5;124m'\u001b[39m)\n\u001b[0;32m    358\u001b[0m \u001b[38;5;28;01mdef\u001b[39;00m \u001b[38;5;21missubdtype\u001b[39m(arg1, arg2):\n\u001b[0;32m    359\u001b[0m \u001b[38;5;250m    \u001b[39m\u001b[38;5;124mr\u001b[39m\u001b[38;5;124;03m\"\"\"\u001b[39;00m\n\u001b[0;32m    360\u001b[0m \u001b[38;5;124;03m    Returns True if first argument is a typecode lower/equal in type hierarchy.\u001b[39;00m\n\u001b[0;32m    361\u001b[0m \n\u001b[1;32m   (...)\u001b[0m\n\u001b[0;32m    414\u001b[0m \n\u001b[0;32m    415\u001b[0m \u001b[38;5;124;03m    \"\"\"\u001b[39;00m\n\u001b[0;32m    416\u001b[0m     \u001b[38;5;28;01mif\u001b[39;00m \u001b[38;5;129;01mnot\u001b[39;00m issubclass_(arg1, generic):\n",
      "\u001b[1;31mKeyboardInterrupt\u001b[0m: "
     ]
    }
   ],
   "source": [
    "counter = 0\n",
    "\n",
    "start = time.time()\n",
    "for i in range(256):\n",
    "    for j in range(256):\n",
    "        if not model_dsp(i,j,1,1, params):\n",
    "            counter+=1\n",
    "        if ((i*256)+j+1)%100 == 0:\n",
    "            finish = time.time()\n",
    "            print(\"Percent Complete: \", int(((i*256)+j+1)*100/(256*256)), \"Time elapsed: \", int(finish-start), end='\\r')\n",
    "            # print(((i*256)+j+1))\n",
    "print(\"num combinations tested:\", ((i*256)+j+1), \"Time elapsed:\", int(finish-start), \" seconds\")\n",
    "print(f\"There were {counter} failures.\")"
   ]
  },
  {
   "cell_type": "code",
   "execution_count": 225,
   "id": "79e98412-bc41-4317-b9d3-d091338b67fb",
   "metadata": {},
   "outputs": [
    {
     "name": "stdout",
     "output_type": "stream",
     "text": [
      "num combinations tested: 65279 Time elapsed: 81  seconds\n"
     ]
    }
   ],
   "source": [
    "print(\"num combinations tested:\", ((i*256)+j+1), \"Time elapsed:\", int(finish-start), \" seconds\")\n"
   ]
  },
  {
   "cell_type": "code",
   "execution_count": null,
   "id": "79a66403-e95d-42bd-b572-a29d3b4aa327",
   "metadata": {},
   "outputs": [],
   "source": [
    "a = Fxp(7, dtype='U4.0')\n",
    "w = Fxp(2, dtype='S4.0')\n",
    "p = Fxp(255, dtype = 'S8.0')\n",
    "\n",
    "A_port = Fxp(0, dtype='S25.0')\n",
    "D_port = Fxp(0, dtype='S25.0')\n",
    "B_port = Fxp(0, dtype='U18.0')\n",
    "P_port = Fxp(0, dtype='S48.0')\n",
    "\n",
    "A = '0b' + '0'*25\n",
    "D = '0b' + '0'*25\n",
    "B = '0b' + '0'*18\n",
    "params = (\n",
    "    a, w, p, A_port, D_port, B_port, P_port\n",
    ")"
   ]
  },
  {
   "cell_type": "code",
   "execution_count": 374,
   "id": "f58bb75c-0da1-4a45-b02a-9f774f111aa6",
   "metadata": {
    "scrolled": true
   },
   "outputs": [
    {
     "name": "stdout",
     "output_type": "stream",
     "text": [
      "num combinations tested: 262144 Time elapsed: 222  seconds\n",
      "There were 65536 failures.\n"
     ]
    }
   ],
   "source": [
    "counter = 0\n",
    "\n",
    "start = time.time()\n",
    "a1_range = range(0,16)\n",
    "a2_range = range(0,16)\n",
    "w1_range = range(-8,8)\n",
    "w2_range = range(-8,8)\n",
    "nums = len(a1_range)\n",
    "\n",
    "for a1 in a1_range:\n",
    "    for a2 in a2_range:\n",
    "        for w1 in w1_range:\n",
    "            for w2 in w2_range:\n",
    "                counter+=model_dsp(a1,a2,w1,w2, params)\n",
    "                if ((a1*nums**3)+(a2*nums**2)+((8+w1)*nums**1)+w2+8+1)%100 == 0:\n",
    "                    finish = time.time()\n",
    "                    print(\"Percent Complete: \", int(((a1*nums**3)+(a2*nums**2)+((8+w1)*nums**1)+w2+8+1)*100/(16**4)), \"Time elapsed: \", int(finish-start), end='\\r')\n",
    "                \n",
    "                # print(int((a1*nums**3)+(a2*nums**2)+((8+w1)*nums**1)+w2+8+1))\n",
    "                    # print(((i*256)+j+1))\n",
    "finish = time.time()\n",
    "print(\"num combinations tested:\", (16**4)*4, \"Time elapsed:\", int(finish-start), \" seconds\")\n",
    "print(f\"There were {counter} failures.\")"
   ]
  },
  {
   "cell_type": "code",
   "execution_count": 456,
   "id": "e4c44e5f-1808-4f8d-8b95-432202a3e23b",
   "metadata": {},
   "outputs": [
    {
     "name": "stdout",
     "output_type": "stream",
     "text": [
      "num combinations tested: 262144 Time elapsed: 92  seconds\n",
      "Error rate: 37.35%\n",
      "Mean Absolute Error : 1.49%\n"
     ]
    }
   ],
   "source": [
    "EP = 0\n",
    "MAE = int(0)\n",
    "error_nums = 0\n",
    "errors = [0,0,0,0]\n",
    "\n",
    "start = time.time()\n",
    "a1_range = range(0,16)\n",
    "a2_range = range(0,16)\n",
    "w1_range = range(-8,8)\n",
    "w2_range = range(-8,8)\n",
    "nums = len(a1_range)\n",
    "\n",
    "for a1 in a1_range:\n",
    "    for a2 in a2_range:\n",
    "        for w1 in w1_range:\n",
    "            for w2 in w2_range:\n",
    "                error_nums, errors = fast_model_dsp(a1,a2,w1,w2, params)\n",
    "                EP += error_nums\n",
    "                MAE += int(sum(errors)) \n",
    "                if ((a1*nums**3)+(a2*nums**2)+((8+w1)*nums**1)+w2+8+1)%100 == 0:\n",
    "                    finish = time.time()\n",
    "                    print(\"Percent Complete: \", int(((a1*nums**3)+(a2*nums**2)+((8+w1)*nums**1)+w2+8+1)*100/(16**4)), \"Time elapsed: \", int(finish-start), end='\\r')\n",
    "                \n",
    "                # print(int((a1*nums**3)+(a2*nums**2)+((8+w1)*nums**1)+w2+8+1))\n",
    "                    # print(((i*256)+j+1))\n",
    "finish = time.time()\n",
    "print(\"num combinations tested:\", (16**4)*4, \"Time elapsed:\", int(finish-start), \" seconds\")\n",
    "# print(f\"There were {EP} failures.\")\n",
    "# print(f\"There were {cycles_w_error} cycles with error.\")\n",
    "print(f\"Error rate: {100*EP/((16**4)*4):.2f}%\")\n",
    "print(f\"Mean Absolute Error : {MAE/((16**4)):.2f}%\")"
   ]
  },
  {
   "cell_type": "code",
   "execution_count": 457,
   "id": "a5e8499c-8a54-4f69-bc7c-90bab7514f43",
   "metadata": {},
   "outputs": [
    {
     "name": "stdout",
     "output_type": "stream",
     "text": [
      "Error rate: 37.35%\n",
      "Mean Absolute Error : 0.37%\n"
     ]
    }
   ],
   "source": [
    "print(f\"Error rate: {100*EP/((16**4)*4):.2f}%\")\n",
    "print(f\"Mean Absolute Error : {MAE/((16**4)*4):.2f}%\")"
   ]
  },
  {
   "cell_type": "code",
   "execution_count": 403,
   "id": "484a59db-0d84-4458-b59f-f4c99c15af2b",
   "metadata": {},
   "outputs": [
    {
     "data": {
      "text/plain": [
       "(0.5712890625, 53096388.79211426)"
      ]
     },
     "execution_count": 403,
     "metadata": {},
     "output_type": "execute_result"
    }
   ],
   "source": [
    "EP/((16**4)*4), MAE/((16**4)*4)"
   ]
  },
  {
   "cell_type": "code",
   "execution_count": 382,
   "id": "f5040681-af3d-4b71-be97-e14ae64f7d21",
   "metadata": {},
   "outputs": [
    {
     "name": "stdout",
     "output_type": "stream",
     "text": [
      "Error rate: 6.32%\n"
     ]
    }
   ],
   "source": [
    "print(f\"Error rate: {100*counter/((16**4)*4):.2f}%\")"
   ]
  },
  {
   "cell_type": "code",
   "execution_count": 369,
   "id": "47f880b2-2b0d-4fb2-8165-262bd531879d",
   "metadata": {},
   "outputs": [
    {
     "data": {
      "text/plain": [
       "94"
      ]
     },
     "execution_count": 369,
     "metadata": {},
     "output_type": "execute_result"
    }
   ],
   "source": [
    "((a1*nums**3)+(a2*nums**2)+((8+w1)*nums**1)+w2+8+1)%100"
   ]
  },
  {
   "cell_type": "code",
   "execution_count": 373,
   "id": "77927f1e-6572-4cd1-a240-a5e709c8bc3e",
   "metadata": {},
   "outputs": [],
   "source": [
    "a1,a2,w1,w2 = 0,0,-7,-8"
   ]
  },
  {
   "cell_type": "code",
   "execution_count": null,
   "id": "aa274730-bbe6-4b9b-b233-c17b5869e262",
   "metadata": {},
   "outputs": [],
   "source": [
    "int((a1*a1_range[1]**3)+(a2*a1_range[1]**2)+((8+w1)*a1_range[1])+w2+8+1)"
   ]
  },
  {
   "cell_type": "code",
   "execution_count": 353,
   "id": "ff1fb650-1bea-4812-9443-e9f1a93a915a",
   "metadata": {},
   "outputs": [
    {
     "data": {
      "text/plain": [
       "1"
      ]
     },
     "execution_count": 353,
     "metadata": {},
     "output_type": "execute_result"
    }
   ],
   "source": [
    "((8+w1)*a1_range[1])"
   ]
  },
  {
   "cell_type": "code",
   "execution_count": 360,
   "id": "2ce4e3ec-a9b3-43c4-bf1a-de1084fb899a",
   "metadata": {},
   "outputs": [
    {
     "data": {
      "text/plain": [
       "16"
      ]
     },
     "execution_count": 360,
     "metadata": {},
     "output_type": "execute_result"
    }
   ],
   "source": [
    "\n",
    "a1_range = range(0,16)"
   ]
  },
  {
   "cell_type": "code",
   "execution_count": 356,
   "id": "b5c76b9a-7182-420f-8480-8b71d41734ae",
   "metadata": {},
   "outputs": [
    {
     "data": {
      "text/plain": [
       "(1, 1)"
      ]
     },
     "execution_count": 356,
     "metadata": {},
     "output_type": "execute_result"
    }
   ],
   "source": [
    "((8+w1)), a1_range[1]"
   ]
  },
  {
   "cell_type": "code",
   "execution_count": 352,
   "id": "f48d8702-1110-4044-9e70-2a26ac2c1fc4",
   "metadata": {},
   "outputs": [
    {
     "data": {
      "text/plain": [
       "1"
      ]
     },
     "execution_count": 352,
     "metadata": {},
     "output_type": "execute_result"
    }
   ],
   "source": [
    "w2+8+1"
   ]
  },
  {
   "cell_type": "code",
   "execution_count": 343,
   "id": "b24ade4a-b4e8-4624-8de5-f3e5d451a748",
   "metadata": {},
   "outputs": [
    {
     "data": {
      "text/plain": [
       "65536"
      ]
     },
     "execution_count": 343,
     "metadata": {},
     "output_type": "execute_result"
    }
   ],
   "source": [
    "16**4"
   ]
  },
  {
   "cell_type": "code",
   "execution_count": 329,
   "id": "9d99aeac-6a08-4536-bc67-bf89fa5e0e7d",
   "metadata": {},
   "outputs": [
    {
     "data": {
      "text/plain": [
       "range(-8, 8)"
      ]
     },
     "execution_count": 329,
     "metadata": {},
     "output_type": "execute_result"
    }
   ],
   "source": [
    "\n",
    "w1_range = range(-8,8)\n",
    "w1_range"
   ]
  },
  {
   "cell_type": "code",
   "execution_count": 334,
   "id": "18c4a7e3-bba6-48ca-a54d-adff31f2863b",
   "metadata": {},
   "outputs": [
    {
     "data": {
      "text/plain": [
       "-7"
      ]
     },
     "execution_count": 334,
     "metadata": {},
     "output_type": "execute_result"
    }
   ],
   "source": [
    "w1_range[1]"
   ]
  }
 ],
 "metadata": {
  "kernelspec": {
   "display_name": "Python 3 (ipykernel)",
   "language": "python",
   "name": "python3"
  },
  "language_info": {
   "codemirror_mode": {
    "name": "ipython",
    "version": 3
   },
   "file_extension": ".py",
   "mimetype": "text/x-python",
   "name": "python",
   "nbconvert_exporter": "python",
   "pygments_lexer": "ipython3",
   "version": "3.12.2"
  }
 },
 "nbformat": 4,
 "nbformat_minor": 5
}
