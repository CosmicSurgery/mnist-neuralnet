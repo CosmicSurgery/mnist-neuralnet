{
 "cells": [
  {
   "cell_type": "markdown",
   "id": "31e44feb-0207-43f3-9d93-cd0d8eaaee33",
   "metadata": {},
   "source": [
    "# This script runs a prototype feed-forward prototype of the neural network that will be run on a zybo fpga. The script will produce a c-compatible file with values representations stored in (hex??). \n",
    "\n",
    "### Todo\n",
    "- [ ] convert decimal to binary.\n",
    "- [ ] create a binary multiplier function (optimal?)\n",
    "- [ ] choose a prototype architecture and store relevant results in a certain format.\n",
    "- [ ] Decide how software/hardware fixed-point results will be compared to verify correct implementation on hardware? Do i need to do it in C on the Zynq?\n",
    "\n",
    "### Outstanding Questions\n",
    "\n",
    "- How should I implement the multiplier in python?"
   ]
  },
  {
   "cell_type": "markdown",
   "id": "dd121146-37cf-47b0-b541-39d84adf7e8d",
   "metadata": {},
   "source": [
    "## How to choose an architecture?\n",
    "my bit representation is S4.27 -> meaning I have a two's complement sign bit, 4 integer bits and 27 fractional bits.\n",
    "\n",
    "What does this mean?\n",
    "- fractional resolution is: 0.00000000372529029846\n",
    "    - I can represent 7 fractional digits accurately?\n",
    "Biggest magnitude number I can represent is +/- (16 - 0.00000000372529029846) Right?\n",
    "This is probably overkill. Would be worthwhile looking at reviews of fixed point precision compared to various metrics.\n",
    "\n",
    "I will stick with this convention for this milestone, but can try different conventions for future milestones."
   ]
  },
  {
   "cell_type": "code",
   "execution_count": 1,
   "id": "6b6f67aa-0d7f-4293-a26c-e0265dfddcf7",
   "metadata": {},
   "outputs": [],
   "source": [
    "import numpy as np\n",
    "from fxpmath import Fxp\n",
    "import sys\n",
    "import os\n",
    "import glob"
   ]
  },
  {
   "cell_type": "code",
   "execution_count": 3,
   "id": "45122136-5c57-43f7-b98e-04bcd606632d",
   "metadata": {},
   "outputs": [],
   "source": [
    "for entry in os.listdir(os.path.join(os.getcwd(),\"bin_files\")):\n",
    "    # print(entry)\n",
    "    pass"
   ]
  },
  {
   "cell_type": "code",
   "execution_count": 33,
   "id": "f751f4a5-c903-48a8-850b-faa705aac374",
   "metadata": {
    "scrolled": true
   },
   "outputs": [
    {
     "name": "stdout",
     "output_type": "stream",
     "text": [
      "['01010111101100100110110100011001', '00000000000000000000000000000000', '00000000000000000000000000000000', '00000000000000000000000000000000', '00000000000000000000000000000000', '00001101111100010111111010000001', '00101111100101110001100000001011', '00000000000000000000000000000000', '00000000000000000000000000000000', '01000000001100001111010010101001']\n",
      "[10.96212215718807, -2.856499455477124, -13.964644359637491, -6.808845697520238, -3.36392988279792, 1.7429170691671678, 5.948776329503073, -7.90305153311236, -1.6426185502395225, 8.023904154140283]\n",
      "['00010001101000001111011110011111', '00000001101000111001100000111111', '00000000000000000000000000000000', '00001011100110001101000110110100', '00000000000000000000000000000000', '01101000100010110101101011000100', '01011111000111010100101000001010', '01111100000110001111011011001000', '00001001110101000011000110010000', '00000000000000000000000000000000']\n",
      "[2.2035973031988663, 0.20488023421485702, -8.298707189710214, 1.449618733997708, -2.885921386125103, 13.068044221289618, 11.889301377888623, 15.512189449553627, 1.2286101641534386, -9.451989910914701]\n",
      "Success!\n"
     ]
    }
   ],
   "source": [
    "%run plnn_validation.py True"
   ]
  },
  {
   "cell_type": "code",
   "execution_count": 287,
   "id": "83a7241e-be83-4da7-aae5-4c58abd6a206",
   "metadata": {},
   "outputs": [
    {
     "ename": "FileNotFoundError",
     "evalue": "[Errno 2] No such file or directory: 'C:/git_repos/mnist_neuralnet/scripts/MNIST_single_test_img1.txt'",
     "output_type": "error",
     "traceback": [
      "\u001b[1;31m---------------------------------------------------------------------------\u001b[0m",
      "\u001b[1;31mFileNotFoundError\u001b[0m                         Traceback (most recent call last)",
      "File \u001b[1;32mC:\\git_repos\\mnist_neuralnet\\scripts\\create_img_h_file.py:9\u001b[0m\n\u001b[0;32m      4\u001b[0m sample_img_path \u001b[38;5;241m=\u001b[39m \u001b[38;5;124m'\u001b[39m\u001b[38;5;124mMNIST_single_test_img1\u001b[39m\u001b[38;5;124m'\u001b[39m\n\u001b[0;32m      8\u001b[0m data_file \u001b[38;5;241m=\u001b[39m \u001b[38;5;124m'\u001b[39m\u001b[38;5;124mDEBUGtest_img_data2\u001b[39m\u001b[38;5;124m'\u001b[39m\n\u001b[1;32m----> 9\u001b[0m f_read \u001b[38;5;241m=\u001b[39m \u001b[38;5;28mopen\u001b[39m(\u001b[38;5;124m'\u001b[39m\u001b[38;5;124m/\u001b[39m\u001b[38;5;124m'\u001b[39m\u001b[38;5;241m.\u001b[39mjoin((directory_path, sample_img_path)) \u001b[38;5;241m+\u001b[39m \u001b[38;5;124m'\u001b[39m\u001b[38;5;124m.txt\u001b[39m\u001b[38;5;124m'\u001b[39m)\n\u001b[0;32m     10\u001b[0m img_str \u001b[38;5;241m=\u001b[39m f_read\u001b[38;5;241m.\u001b[39mread()\u001b[38;5;241m.\u001b[39msplit(\u001b[38;5;124m'\u001b[39m\u001b[38;5;124m,\u001b[39m\u001b[38;5;124m'\u001b[39m)\n\u001b[0;32m     11\u001b[0m f_read\u001b[38;5;241m.\u001b[39mclose()\n",
      "\u001b[1;31mFileNotFoundError\u001b[0m: [Errno 2] No such file or directory: 'C:/git_repos/mnist_neuralnet/scripts/MNIST_single_test_img1.txt'"
     ]
    }
   ],
   "source": [
    "%run create_img_h_file.py"
   ]
  },
  {
   "cell_type": "code",
   "execution_count": null,
   "id": "9cb46288-42c4-4ed9-ad56-55b0843d210d",
   "metadata": {},
   "outputs": [],
   "source": []
  },
  {
   "cell_type": "markdown",
   "id": "dce71405-d7b2-4210-8ab9-625a2c6293a5",
   "metadata": {},
   "source": [
    "# Workbench"
   ]
  },
  {
   "cell_type": "code",
   "execution_count": 2,
   "id": "27e281dd-9bf8-47d6-af43-05b6469e1936",
   "metadata": {},
   "outputs": [],
   "source": [
    "import numpy as np\n",
    "from fxpmath import Fxp\n",
    "import sys\n",
    "import os\n",
    "import glob"
   ]
  },
  {
   "cell_type": "code",
   "execution_count": null,
   "id": "49712f7f-b901-45b1-9b28-cc13de6f6fdd",
   "metadata": {},
   "outputs": [],
   "source": []
  },
  {
   "cell_type": "code",
   "execution_count": 3,
   "id": "b9603780-257c-4aa4-8bae-3c4269024944",
   "metadata": {},
   "outputs": [
    {
     "name": "stdout",
     "output_type": "stream",
     "text": [
      "00001101000101111000101000111110111001000101111101\n"
     ]
    }
   ],
   "source": [
    "# Thank you Chatgpt!!!\n",
    "def twos_complement(bin_str):\n",
    "    \"\"\"Returns the two's complement of a binary string.\"\"\"\n",
    "    # Invert the bits\n",
    "    inverted = ''.join('1' if bit == '0' else '0' for bit in bin_str)\n",
    "    # Add 1 to the inverted binary string\n",
    "    carry = 1\n",
    "    result = list(inverted)\n",
    "    \n",
    "    for i in range(len(inverted) - 1, -1, -1):\n",
    "        if result[i] == '1' and carry == 1:\n",
    "            result[i] = '0'\n",
    "        elif result[i] == '0' and carry == 1:\n",
    "            result[i] = '1'\n",
    "            carry = 0\n",
    "        # No carry to add; break early\n",
    "        if carry == 0:\n",
    "            break\n",
    "    \n",
    "    return ''.join(result)\n",
    "\n",
    "def add_binary(bin_str1, bin_str2):\n",
    "    \"\"\"Adds two binary strings and returns the result as a binary string, \n",
    "    handling overflow by setting the result to the max/min value depending on overflow direction.\"\"\"\n",
    "    max_len = max(len(bin_str1), len(bin_str2))\n",
    "    bin_str1 = bin_str1.zfill(max_len)\n",
    "    bin_str2 = bin_str2.zfill(max_len)\n",
    "    \n",
    "    carry = 0\n",
    "    result = []\n",
    "    \n",
    "    # Perform bitwise addition from LSB to MSB\n",
    "    for i in range(max_len - 1, -1, -1):\n",
    "        bit_sum = carry + int(bin_str1[i]) + int(bin_str2[i])\n",
    "        result.append(str(bit_sum % 2))\n",
    "        carry = bit_sum // 2\n",
    "    \n",
    "    result = ''.join(result[::-1])  # Reverse the result to get the correct order\n",
    "    \n",
    "    # Check for overflow\n",
    "    sign1 = bin_str1[0]  # Sign bit of the first number\n",
    "    sign2 = bin_str2[0]  # Sign bit of the second number\n",
    "    result_sign = result[0]  # Sign bit of the result\n",
    "\n",
    "    # Overflow occurs if both numbers have the same sign but the result has a different sign\n",
    "    if sign1 == sign2 and sign1 != result_sign:\n",
    "        if sign1 == '0':  # Positive overflow\n",
    "            result = '0' + '1' * (max_len - 1)  # Max positive value: 011...111\n",
    "            raise Exception(f\"OVERFLOW\")\n",
    "        else:  # Negative overflow\n",
    "            result = '1' + '0' * (max_len - 1)  # Max negative value: 100...000\n",
    "            raise Exception(f\"OVERFLOW\")\n",
    "    \n",
    "    return result\n",
    "\n",
    "\n",
    "def manual_binary_multiply(bin_str1, bin_str2):\n",
    "    \"\"\"Multiplies two binary strings in two's complement format manually.\"\"\"\n",
    "    # Check for sign and convert to positive if necessary\n",
    "    is_negative1 = bin_str1[0] == '1'\n",
    "    is_negative2 = bin_str2[0] == '1'\n",
    "    \n",
    "    if is_negative1:\n",
    "        bin_str1 = twos_complement(bin_str1)\n",
    "    if is_negative2:\n",
    "        bin_str2 = twos_complement(bin_str2)\n",
    "\n",
    "    # Perform binary multiplication (manual)\n",
    "    len1 = len(bin_str1)\n",
    "    len2 = len(bin_str2)\n",
    "    result = '0' * (len1 + len2)\n",
    "    \n",
    "    for i in range(len2 - 1, -1, -1):\n",
    "        if bin_str2[i] == '1':\n",
    "            # Shift bin_str1 by (len2 - 1 - i) and add to the result\n",
    "            shifted_bin_str1 = bin_str1 + '0' * (len2 - 1 - i)\n",
    "            result = add_binary(result, shifted_bin_str1.zfill(len1 + len2))\n",
    "    \n",
    "    # Determine the sign of the result\n",
    "    if is_negative1 != is_negative2:\n",
    "        result = twos_complement(result.zfill(len1 + len2))\n",
    "\n",
    "    # Truncate the result to the appropriate length (len1 + len2 bits)\n",
    "    return result[-(len1 + len2):]\n",
    "\n",
    "# Example usage:\n",
    "bin_str1 = \"1101101011010100010110101\"  # -3 in 4-bit two's complement\n",
    "bin_str2 = \"1010010111010101010101001\"  # -6 in 4-bit two's complement\n",
    "\n",
    "result = manual_binary_multiply(bin_str1, bin_str2)\n",
    "print(result)  # 8-bit result in two's complement binary format\n"
   ]
  },
  {
   "cell_type": "code",
   "execution_count": 4,
   "id": "ab701fbc-58d0-46cf-86a8-bb70cd0a8480",
   "metadata": {},
   "outputs": [],
   "source": [
    "def convert32_64(bin_str1):\n",
    "    bin_str2 = ['0']*64\n",
    "    if bin_str1[0] == '1': # this means the number is negative\n",
    "        bin_str2[:5] = '1'*5\n",
    "        \n",
    "    bin_str2[5:len(bin_str1)+5] = bin_str1\n",
    "    bin_str2 = ''.join(bin_str2)\n",
    "        \n",
    "    return bin_str2\n",
    "\n",
    "def convert64_32(bin_str1):\n",
    "    if bin_str1[0] == '1':\n",
    "        bin_str2 = '0'*32\n",
    "    else:\n",
    "        bin_str2 = bin_str1[5:32+5]\n",
    "        \n",
    "    return bin_str2"
   ]
  },
  {
   "cell_type": "code",
   "execution_count": 5,
   "id": "1f60f9b0-321c-4171-b10f-738c8b5a5b4d",
   "metadata": {},
   "outputs": [],
   "source": [
    "gen_output_files = False"
   ]
  },
  {
   "cell_type": "code",
   "execution_count": 7,
   "id": "cdc3b59d-9ed8-40e9-a82a-8cd7032deb3f",
   "metadata": {
    "scrolled": true
   },
   "outputs": [
    {
     "name": "stdout",
     "output_type": "stream",
     "text": [
      "Loading files\n",
      "\n",
      "['01010111101100100110110100011001', '00000000000000000000000000000000', '00000000000000000000000000000000', '00000000000000000000000000000000', '00000000000000000000000000000000', '00001101111100010111111010000001', '00101111100101110001100000001011', '00000000000000000000000000000000', '00000000000000000000000000000000', '01000000001100001111010010101001']\n",
      "[10.96212215718807, -2.856499455477124, -13.964644359637491, -6.808845697520238, -3.36392988279792, 1.7429170691671678, 5.948776329503073, -7.90305153311236, -1.6426185502395225, 8.023904154140283]\n",
      "['00010001101000001111011110011111', '00000001101000111001100000111111', '00000000000000000000000000000000', '00001011100110001101000110110100', '00000000000000000000000000000000', '01101000100010110101101011000100', '01011111000111010100101000001010', '01111100000110001111011011001000', '00001001110101000011000110010000', '00000000000000000000000000000000']\n",
      "[2.2035973031988663, 0.20488023421485702, -8.298707189710214, 1.449618733997708, -2.885921386125103, 13.068044221289618, 11.889301377888623, 15.512189449553627, 1.2286101641534386, -9.451989910914701]\n",
      "Success!\n"
     ]
    }
   ],
   "source": [
    "\n",
    "# Define the folder for the binary files\n",
    "hex_folder = \"hex_files\"\n",
    "txt_folder = \"txt_files\"\n",
    "bin_folder = \"bin_files\"\n",
    "h_folder = \"header_files\"\n",
    "folders = [hex_folder, txt_folder, bin_folder, h_folder]\n",
    "\n",
    "x32 = Fxp(-7.25, dtype='S5.27')\n",
    "x64 = Fxp(-7.25, dtype='S10.54')\n",
    "num_layers = 2  # Example: 2 layers\n",
    "neurons_per_layer = [10,10]  # Example: 3 neurons in layer 1, 2 neurons in layer 2\n",
    "input_size = 784\n",
    "weights = []\n",
    "bias = []\n",
    "img = [0 for k in range(input_size)]\n",
    "if gen_output_files:\n",
    "    for folder in folders:\n",
    "        # Create the folder if it doesn't exist\n",
    "        os.makedirs(folder, exist_ok=True)\n",
    "        files = glob.glob(os.path.join(folder, \"*\"))\n",
    "        for f in files:\n",
    "            try:\n",
    "                os.remove(f)  # Remove each file\n",
    "            except Exception as e:\n",
    "                print(f\"Error deleting file {f}: {e}\")\n",
    "    img = (np.random.rand(1,input_size) * 2) -1\n",
    "\n",
    "    with open(os.path.join(txt_folder, \"img.txt\"), \"w\") as file:\n",
    "        for i in range(input_size):\n",
    "            file.write(str(float(x32(img[0,i])))+\"\\n\")\n",
    "    with open(os.path.join(bin_folder, \"img.mif\"), \"w\") as file:\n",
    "        for i in range(input_size):\n",
    "            file.write(str(x32(img[0,i]).bin())+\"\\n\")\n",
    "    with open(os.path.join(hex_folder, \"img.mif\"), \"w\") as file:\n",
    "        for i in range(input_size):\n",
    "            file.write(str(x32(img[0,i]).hex())+\"\\n\")\n",
    "    \n",
    "    for layer in range(num_layers):\n",
    "        \n",
    "        input_size_for_layer = input_size if layer == 0 else neurons_per_layer[layer - 1]\n",
    "        weights.append((np.random.rand(input_size_for_layer, neurons_per_layer[layer]) * 2) - 1)\n",
    "        bias.append((np.random.rand(neurons_per_layer[layer]) * 2) - 1)\n",
    "        \n",
    "        with open(os.path.join(txt_folder, f\"bias_{layer}.txt\"), \"w\") as file:\n",
    "            for i in range(neurons_per_layer[layer]):\n",
    "                file.write(str(float(x32(bias[layer][i]))) + \"\\n\")\n",
    "        with open(os.path.join(bin_folder, f\"bias_{layer}.mif\"), \"w\") as file:\n",
    "            for i in range(neurons_per_layer[layer]):\n",
    "                file.write(str(x32(bias[layer][i]).bin()) + \"\\n\")\n",
    "        with open(os.path.join(hex_folder, f\"bias_{layer}.mif\"), \"w\") as file:\n",
    "            for i in range(neurons_per_layer[layer]):\n",
    "                file.write(str(x32(bias[layer][i]).hex()) + \"\\n\")\n",
    "                \n",
    "        for neuron in range(neurons_per_layer[layer]):\n",
    "                \n",
    "            with open(os.path.join(txt_folder, f\"weight_{layer}_{neuron}.txt\"), \"w\") as file:\n",
    "                for i in range(input_size_for_layer):\n",
    "                    file.write(str(float(x32(weights[layer][i, neuron]))) + \"\\n\")\n",
    "            with open(os.path.join(bin_folder, f\"weight_{layer}_{neuron}.mif\"), \"w\") as file:\n",
    "                for i in range(input_size_for_layer):\n",
    "                    file.write(str(x32(weights[layer][i, neuron]).bin()) + \"\\n\")\n",
    "            with open(os.path.join(hex_folder, f\"weight_{layer}_{neuron}.mif\"), \"w\") as file:\n",
    "                for i in range(input_size_for_layer):\n",
    "                    file.write(str(x32(weights[layer][i, neuron]).hex()) + \"\\n\")\n",
    "                    \n",
    "    temp_bias = list(bias[0]) + list(bias[1])\n",
    "    with open(os.path.join(h_folder, \"img.h\"), \"w\") as file:\n",
    "        file.write(\"#ifndef IMG_H\\n\")\n",
    "        file.write(\"#define IMG_H\\n\\n\")\n",
    "        \n",
    "        file.write(\"uint32_t bin_img[784] = { \")\n",
    "        for i in range(input_size):\n",
    "            # Convert the value to an unsigned char representation (assuming the range is normalized between -1 and 1)\n",
    "            file.write( '0b'+str(x32(img[0,i]).bin())+\", \" if i < input_size -1 else '0b'+str(x32(img[0,i]).bin()) )\n",
    "        file.write(\" };\\n\\n\")\n",
    "\n",
    "        for i in range(2):\n",
    "            for j in range(10):\n",
    "                file.write(f\"uint32_t weights_{i}_{j}[{input_size}] =\" + \" { \"  + ''.join([f\"0b{x32(k).bin()}, \" for k in weights[i][:-1,j]]) + f\"0b{x32(weights[i][-1,j]).bin()}\" + \" };\\n\\n\")\n",
    "                \n",
    "        file.write(\"uint32_t bias [10] = {\" )\n",
    "        for i in range(2):\n",
    "            for j in range(10):\n",
    "                if (i*10)+j < 19:\n",
    "                    file.write(''.join(f\"0b{x32(temp_bias[(i*10)+j]).bin()}, \" ))\n",
    "        file.write(f\"0b{x32(temp_bias[-1]).bin()}\" + \" };\\n\\n\")\n",
    "        \n",
    "        file.write(\"#endif // IMG_H\\n\")\n",
    "\n",
    "else:\n",
    "    print(\"Loading files\\n\")\n",
    "\n",
    "weights = []\n",
    "bias = []\n",
    "img = [0 for k in range(input_size)]\n",
    "# Read img for the current layer\n",
    "with open(os.path.join(bin_folder, f\"img.mif\"), \"r\") as file:\n",
    "    lines = file.readlines()\n",
    "    for i in range(input_size):\n",
    "        img[i] = lines[i].strip()\n",
    "\n",
    "# Reading weights and biases from files for each layer\n",
    "for layer in range(num_layers):\n",
    "    input_size_for_layer = input_size if layer == 0 else neurons_per_layer[layer - 1]\n",
    "    \n",
    "    # Initialize weights and bias for the current layer\n",
    "    weights_layer = np.zeros((input_size_for_layer, neurons_per_layer[layer]),dtype=( np.str_, 32))\n",
    "    bias_layer = np.zeros(neurons_per_layer[layer],dtype=( np.str_, 32))\n",
    "    \n",
    "    # Read biases for the current layer\n",
    "    with open(os.path.join(bin_folder, f\"bias_{layer}.mif\"), \"r\") as file:\n",
    "        lines = file.readlines()\n",
    "        for i in range(neurons_per_layer[layer]):\n",
    "            bias_layer[i] = lines[i].strip()\n",
    "    bias.append(bias_layer)\n",
    "\n",
    "    # Read weights for the current layer\n",
    "    for neuron in range(neurons_per_layer[layer]):\n",
    "        with open(os.path.join(bin_folder, f\"weight_{layer}_{neuron}.mif\"), \"r\") as file:\n",
    "            lines = file.readlines()\n",
    "            for i in range(input_size_for_layer):\n",
    "                weights_layer[i, neuron] = lines[i].strip()\n",
    "                \n",
    "    weights.append(weights_layer)\n",
    "\n",
    "# Feedforward fixed-point calculation for each layer\n",
    "a_tdata = []\n",
    "a_tdata_float = []\n",
    "for layer in range(num_layers):\n",
    "    input_size_for_layer = input_size if layer == 0 else neurons_per_layer[layer - 1]\n",
    "    input_data = img if layer == 0 else a_tdata[layer - 1]\n",
    "    layer_output = []\n",
    "    layer_output_float = []\n",
    "    for j in range(neurons_per_layer[layer]):\n",
    "        b = bias[layer][j]\n",
    "        acc = convert32_64(b)\n",
    "        \n",
    "        b_float = float(x32(''.join(('0b',bias[layer][j]))))\n",
    "        acc_float = b_float\n",
    "\n",
    "        if  float(x32(''.join(('0b',b)))) != b_float:\n",
    "            raise Exception(f\"BIAS %s, %d, are not equal at layer {layer}, neuron {j} and input value {i}\", float(x64(''.join(('0b',b)))), b_float)\n",
    "        \n",
    "        for i in range(input_size_for_layer):\n",
    "            w = weights[layer][i,j]\n",
    "            w, x = weights[layer][i, j], input_data[i]\n",
    "            p = manual_binary_multiply(w, x)\n",
    "            # if add_binary(acc,p) == 'fail': \n",
    "            #     raise Except(f\"ERROR OVERFLOW at {layer, j, i}\")\n",
    "            acc = add_binary(acc, p)\n",
    "\n",
    "            if len(input_data[i]) != 32:\n",
    "                print(i)\n",
    "                print(input_data[i])\n",
    "                \n",
    "            w_float, x_float = float(x32(''.join(('0b',weights[layer][i, j])))), float(x32(''.join(('0b',input_data[i]))))\n",
    "            p_float = w_float * x_float\n",
    "            acc_float = acc_float + p_float\n",
    "\n",
    "            val1 = float(x64(''.join(('0b',acc))))\n",
    "            val2 = float(x32(''.join(('0b',w))))\n",
    "            val3 = float(x32(''.join(('0b',x))))\n",
    "            val4 = float(x64(''.join(('0b',p))))\n",
    "            \n",
    "            if  val2 != w_float:\n",
    "                raise Exception(f\"WEIGHTS %s, %d, are not equal at layer {layer}, neuron {j} and input value {i}\", val2, w_float)\n",
    "            if  val3 != x_float:\n",
    "                raise Exception(f\"img %s, %d, are not equal at layer {layer}, neuron {j} and input value {i}\", val3, x_float)\n",
    "            if  val4 != p_float:\n",
    "                raise Exception(f\"SUM %s, %d, are not equal at layer {layer}, neuron {j} and input value {i}\", val4, p_float)\n",
    "            if  abs(val1 - acc_float) > 0.0000001: # This verifies that the fixed point calculation agrees with the floating point calculation within 7 decimal places...\n",
    "                raise Exception(f\" ACCUMULATE %s, %d, are not equal at layer {layer}, neuron {j} and input value {i}\", val1, acc_float)\n",
    "            \n",
    "        layer_output.append(convert64_32(acc))\n",
    "        \n",
    "        layer_output_float.append(acc_float)\n",
    "    \n",
    "    a_tdata.append(layer_output)\n",
    "    \n",
    "    a_tdata_float.append(layer_output_float)\n",
    "    \n",
    "    with open(os.path.join(bin_folder, f\"output_layer_{layer}.mif\"), \"w\") as file:\n",
    "        for i in range(neurons_per_layer[layer]):\n",
    "            file.write(layer_output[i] + \"\\n\")\n",
    "    with open(os.path.join(hex_folder, f\"output_layer_{layer}.mif\"), \"w\") as file:\n",
    "        for i in range(neurons_per_layer[layer]):\n",
    "            file.write(x32(''.join(('0b',layer_output[i]))).hex() + \"\\n\")\n",
    "     \n",
    "    with open(os.path.join(txt_folder, f\"output_layer_{layer}.txt\"), \"w\") as file:\n",
    "        for i in range(neurons_per_layer[layer]):\n",
    "            file.write(str(layer_output_float[i]) + \"\\n\")\n",
    "            \n",
    "for layer in range(num_layers):\n",
    "    print(a_tdata[layer], end='\\n')\n",
    "    \n",
    "    print(a_tdata_float[layer], end='\\n')\n",
    "\n",
    "print(\"Success!\")"
   ]
  },
  {
   "cell_type": "code",
   "execution_count": 16,
   "id": "a3740797-c79a-4387-8968-1411ed86dc97",
   "metadata": {},
   "outputs": [],
   "source": [
    "debug_folder = 'debug_files'\n",
    "debug_img = ''.join(img)\n",
    "with open(os.path.join(debug_folder, \"debug_img.bin\"), \"w\") as file:\n",
    "    file.write(debug_img)"
   ]
  },
  {
   "cell_type": "code",
   "execution_count": 17,
   "id": "bdcc91d3-9c9c-4e26-be65-9d1bfb00a482",
   "metadata": {
    "scrolled": true
   },
   "outputs": [
    {
     "name": "stdout",
     "output_type": "stream",
     "text": [
      "['11111001011111000111010010101101', '11111100100111101010011101010001', '11111101100000111110100010100111', '00000001010000101101110001100100', '00000001100110010011001110011110', '00000110001101010011010010100000', '00000010010100010010111100010010', '00000101001000001100001001010111', '00000001110111001110101110110000', '11111111011110010101001110011110', '00000010110001100000101010110010', '11111000110100001000010010000100', '00000001010101011010101011101001', '00000001001111000111111100100101', '11111111110101101011101100100011', '11111100011111111101110011111100', '00000001000101010111001101101111', '11111110001110000010101110110010', '11111011001000101100000110100111', '11111010011100000110010000000001', '00000110001011110111011100010110', '00000011100000110110000101100110', '11111001010010110110000000101111', '11111010101100011011111000000110', '00000101111110100000110000010110', '00000101110011011100100010011100', '00000111011000001001011100001001', '11111010100100100011011110111001', '11111110111000011111110000000001', '00000010011111001000101110111110', '00000101001010100001010110100100', '11111111011101101100000110111100', '11111001111101001100111000110100', '00000010101011010100111011011000', '00000111011000110001010000001111', '00000011101000011110010110110000', '11111100101001000010001010110000', '00000110100011010111111011001000', '00000000101001010110000011111110', '11111011110110101110011010001010', '11111001000110100110000001010010', '00000110100100001011001010100110', '11111110011101000010110010110110', '11111010111111100001000000101011', '11111010001110010001100011111110', '00000000110101111000010111000011', '11111011100001101101010011101011', '11111011101000111000111101010010', '00000011100011101001100011110101', '00000111001111011101000001001011', '11111000011011100100111011100101', '00000111101001111000010111000001', '00000101010111000011111001101101', '00000111001011011000111101011000', '00000011011101001010101111111001', '11111101001111011100011101101010', '00000001010000111111001101111000', '00000001010110000100001101111100', '00000000011011001101010100111111', '00000111000111111011111101101000', '11111011110010111111100010011001', '11111001000010100000110110001101', '11111111010101010011111110011010', '00000111100000110001101100101100', '00000101110010111010011111111110', '00000001000001011101001010001010', '11111101011101010100111010011111', '11111100011001100111010101010010', '11111101001010100101101110101111', '11111101000000111010111101100101', '00000000100001111110100000011100', '11111101110010100000000000100111', '11111011101111100100111010001001', '00000100000110011000010101111100', '11111010110111010110000001110001', '11111001111100011101011001111100', '00000010001101011111001111001101', '00000111000011100001000010110011', '00000010001011000000101100110111', '00000110100100101101100111100101', '00000111010101110011100011110101', '11111001100110101000000111100100', '11111011100010110010001100011001', '11111101110000000110010011101000', '00000000100110110000100001110000', '11111111010011110011010010110101', '00000000110110000000011101001100', '11111101111110111100101001010100', '11111110111010100010100010111110', '11111000111000000101000010000010', '11111011111100011011001101111000', '00000001011011100001010010000011', '00000001001011001110001001100000', '00000111110011000001001110010111', '11111100101000001010001110010000', '00000011010001001010010010101110', '00000110000011001001011010100101', '00000001100110000010110100110010', '00000100001010000001010011011011', '00000010110001001000110100101001', '11111001010010111010110000101011', '11111101100101010010101010001111', '11111101001011101101110000011000', '11111100000111001001000010110100', '11111100010011010111000100010111', '11111100010000001100110000001101', '00000110111011100011111011111101', '00000111101011110001110111101010', '11111110101100110011110001110110', '11111001000000010011111010101110', '00000010110010011110000100100001', '00000011000110110110011010111110', '11111100101011111111000010111110', '11111101001110000100010100011001', '11111000010101010010011110010101', '11111011010000011110101101000011', '11111110011000011011110110000000', '00000100110111001001011101001001', '11111100011011011100010010010011', '00000110110001111011010110010110', '11111001011011010011000010010011', '00000100001110011000100010100111', '11111011011101111100000101000000', '00000110001001010100111000100110', '11111010011000011010110011111100', '00000010101111011111110011110001', '00000110111110000110011001100111', '00000010110010010010111111100110', '00000011010010000010000001100001', '11111111101010001010101111101001', '11111011011101110111001010110100', '11111101000111101011010110110010', '00000000010111101001101100000000', '00000111110011000110111100100100', '11111011110110000011101010101101', '11111001011010111011001100010100', '00000001011001100010101000011111', '11111001100111110010100010011100', '11111010000010111110001101111111', '11111100100110011111011001100011', '11111011001010101010010010011101', '00000100100100100011000001111011', '11111001100110110001010011111000', '11111111110101101001111010110000', '11111101000111111011111100101000', '11111010100100100001100100110010', '11111010010101010000101101110011', '00000011100111110001111010000000', '11111000001000010011100110001010', '11111111000011000101101101011010', '00000000001010000101111101001011', '00000110001011000101110010101110', '11111111000110101100000100110001', '11111110010011001100111101110110', '11111011100111100100110101101111', '00000011110111011011101001101011', '11111000110011000101010110010100', '11111111101001101011101101110111', '00000110101001011000110001010000', '11111100101111110000011100111011', '11111101010101110111101000101101', '00000011100101011010000100100011', '11111101101000100000001011011000', '00000010001110110100011001000000', '11111011101000001101001111001110', '00000101101101111001001010011011', '00000100000001111001111111010001', '11111110000111001001010010101001', '11111110011011011101011101101100', '00000111001101101101111111011000', '00000111011100010100110000101000', '00000110110010111011000011101010', '00000110011101011111000101111110', '11111101101100100010010011101010', '00000001001111111101011100000010', '11111011010011101011111111110111', '11111100101010001001001010101010', '00000111110110000111010101010100', '00000011101110110011111111110000', '00000010001001001011100101010110', '00000110010101001110101100010001', '11111100111000001111100111000110', '11111101110010010011010100111111', '11111100100001100110010010111110', '11111011111110100010011110000101', '00000101000010100101111100010100', '11111101101011010001101000000001', '00000101000001001010001000100100', '00000111000100000111110111011001', '11111001101001010010110011101101', '00000000111000011010000011101111', '00000010010010110010011011000101', '00000001100110111100110010100010', '00000011101101000110101100010110', '00000110000000110100100000100101', '11111100010011100001101011111000', '11111000101011000010011001110010', '00000111100010010001010001101011', '11111110001010111111111110010010', '00000010111111100100010000010000', '11111110011100001111001110011010', '11111111111100001000100011001101', '11111000101011111000101111011110', '11111011011010001010110110110110', '11111011111111101011000010100011', '11111000011100111001100000000010', '00000000010010000100101110111011', '11111000110100110011010001011011', '11111011101110110100011010111101', '00000111011110101111010110011011', '00000111100000100000010100000000', '11111111110100100010101101001101', '00000011010100101011111001011010', '11111101010011011000100011000001', '11111111101011011011001110111010', '11111000011111011111001011101101', '11111011011100000000100001010111', '00000100111000010100011010011010', '00000100100101010000010001001100', '11111001100011000100001111001101', '00000010111111000001001101000100', '00000101010110111010010100111111', '11111111001101111011111111111000', '00000010010101001111010000110100', '00000100001110101000100101100111', '11111111010010110100101001001111', '11111111100011000100100110000110', '00000011110101100010010001101111', '11111100100100110011111110110101', '11111111011110101011010001011100', '00000010100111110000111000011100', '00000100110001101101101000101000', '11111001001010110110100000000100', '00000110001010011011010011100010', '00000111100111101111001001000101', '00000100110100011011000101010111', '11111111110111110010000010001000', '00000111111000011100001101100100', '00000010111111010011100001101111', '00000111010001101010111000001110', '00000000001001011110011100000101', '11111000010000101011110101100101', '11111111011111111101011011110000', '11111011100011000001100010011111', '00000011010101010111101100001000', '00000111000011000110000010100100', '11111000001010000000011100111110', '11111000100110000101001001111010', '11111100000011010000001011011100', '00000000000111111010101110000110', '11111101011001011110000111100010', '00000011110000111010011100101110', '11111100000011100010011011010001', '00000101100001100101111011011101', '00000100111110001101110101110010', '00000100110010011000010010010110', '00000110011101011000111110100110', '11111001111011000010000110100111', '11111000010101001100010001110010', '00000000111111010001000001010101', '00000011101110101111011100111110', '11111010001001011010010010000001', '11111001110000011001110001101010', '00000000000111100110101010110001', '00000010001000110011011000010010', '11111110111101000000100111111000', '00000111100000110010000111001110', '11111100101101101010101011110000', '11111110110101011011010000111010', '00000100011001001101010100101111', '00000111111101110101001011101000', '11111011100001001100110000001110', '00000111100010011001110100000000', '00000101000010100100100000100111', '11111011011010010111011011111111', '00000001111100001011111111010001', '11111010011001111000000100001011', '00000111000111010100001101110001', '00000010010111101100100111001001', '00000001011001011011100100011000', '11111010110110111011011110000100', '11111111100110100001011010010001', '00000111101100011110111101101001', '11111101101101011110110011110100', '00000011011101010000110000111110', '11111101010000000100101001100101', '11111110110111110100100001111010', '11111010110111001010101011010111', '00000001001110101001111100000101', '11111110010000011111100111101001', '11111011010111000011000010011000', '11111010001011101111111000110111', '00000001101110001001111011101100', '00000111001011110011101001010111', '11111001100011011111011001010011', '00000010000100010001001011100001', '11111000110010100110011101011111', '00000111001000100101100111101001', '11111111010001110100011111000001', '00000010101011010000011111101110', '11111101000111110010011000100010', '00000101010110100001111011100110', '11111000101010000000011000100010', '00000100011000000011110010100101', '11111110011111101101001101100001', '00000011110110111010101100000110', '11111011000101011110101011011111', '11111110001010100001101100010101', '11111100011000100110001110001000', '00000011110100101101010100011100', '00000110000011101000011111100011', '00000010101111101001110010010111', '00000000000101110010100100110110', '11111001101111100000000011111011', '11111100011010111110000111001111', '00000100110001110010101100001010', '00000001110010001101010011001100', '11111111100011000111011111001100', '00000100100101110011010010001011', '00000001101011010010100101101110', '11111011110101110011001101110010', '11111100110100101000111100000111', '00000000100110110110101110100100', '11111100101000100100000011110001', '11111011011111001011010001111111', '00000110001010101101110011001010', '00000010111110111001010101001010', '11111110011110001010011001011100', '11111111000100100111101101100010', '11111000010000110000000001001101', '11111000000011110011111111010011', '11111101110100001101110011111100', '00000100011110110001111001001000', '11111011111001000111101100011110', '11111111001000101100101101001101', '11111110000010110111000001001100', '11111000000011111000110100010111', '00000011101011001111111001110000', '11111101011000000110000100111011', '00000101100110101011010001111110', '00000001110001111001101111011110', '11111001110101111111001111101000', '00000111001001001110010100110111', '00000010100010001100010100100110', '00000010011101010001100101010011', '00000101111001011011100110110101', '00000011101111001011110111100111', '11111110011100110010110100000011', '11111101110001100000001010111110', '11111001111010011111011011110111', '11111001110011011101111010000010', '11111001000111100011110011100001', '11111011001101100011111000000111', '00000101111101000101000001101010', '00000011000011110101000111100100', '11111000100000010100111111101111', '00000000100001011010010010100001', '00000111100100011000010100011111', '00000110000100110100100010100000', '00000001000110011011101111101000', '00000010101011010110000100000110', '00000001000100011011110011111001', '00000011101011001101110000000110', '11111110101000001101111010011111', '00000011110001111001010010110110', '11111101110101100111011011000001', '00000101110101100101111010011111', '11111010101100101111000001100110', '00000110111001000000010010000100', '11111010001000111111110010000110', '00000010001001010101000001001100', '11111000110010100101100011000101', '00000000111000001101010011000001', '00000000101000100001110101010000', '00000100000100011001011110000011', '11111101111100000011011011100111', '11111001111000001100001100101010', '00000010000101100011000101000000', '11111111110000011100101011100010', '11111010000011101111101111011010', '11111101010111011100100010111111', '11111010010110000101111100101101', '00000000101010001110101000110000', '00000101001101110011011111010011', '11111011010100100111110011011000', '00000010110101010110100010011110', '11111010000111100011000110011100', '00000010110110110000100001001101', '11111101100001010001110110011010', '00000111110110001110011010011110', '11111000101000110111101111001101', '11111110110100110110100011110101', '00000000010110111110000011110101', '00000100001100101011101000100110', '11111000000100101111001010101001', '00000100001011010110011011101100', '00000100110101101011110110101000', '11111111101001011000011101101001', '11111010000111100111100000111111', '00000011100110001000100101010000', '11111111000000111010000101101010', '11111110010000101111001001000100', '00000010101111001111001110010000', '00000011011101010001110110101111', '11111001001001011111110001000000', '00000110011100100000011111110100', '11111011011110100000100000100100', '00000000001011001001001011110010', '11111110100010111001010011100111', '11111010010011100101100011100110', '11111110101011010101000010110001', '11111101100101100010010110010000', '00000100100111011100001101110001', '11111010101000000000011100100001', '11111110011010001011001011000100', '00000010001010111001010111100111', '00000001101100100101111110000111', '11111110010100100101100000111110', '11111000110001110000110110101101', '11111111100001100100001001111101', '00000111110001001111010011111101', '11111011110000110101100011011101', '00000000011100011101011011010010', '11111010111101101010000001000111', '11111011000100100101101001000110', '00000000000010010010100111111001', '00000111001100010111011000100011', '11111001110110001110100010000100', '00000100011111001110001011000001', '11111111111110011001001111100011', '00000011100111000101101100010001', '00000100001111000011010101111010', '00000110001111100100000100001111', '11111000011000111000010010001101', '00000101000110011111101101101110', '11111010110100001111100011101101', '11111011101010011001010010111101', '00000000001111011111110100001101', '00000110011000000111111111110000', '11111011010110010101001010010110', '00000101111001010010110001001101', '00000000011010000001001001011100', '11111111011011111110001001100101', '11111101100010111010100000000110', '11111001101100100011100110101111', '00000100110100001010001100001001', '00000011101101110101001111100111', '00000101110111101011010101011000', '11111110011000111011101000001111', '11111001101010101110011101111111', '00000001111110010101000110100101', '11111110101110111100100111100101', '11111011101011100001000000001000', '11111101001110110100101101100110', '11111010000110110001111010011110', '00000010001100011010111000101010', '00000001110101010100011010100111', '11111100011000101001100011110101', '11111101110100000110101110100110', '11111001100001011110101010000010', '00000011001010110010110001000110', '11111101101100101011110111001101', '11111001010100111001011001101010', '11111101100001000100010100111010', '11111001100000010100110101001011', '11111111101011101010100100011101', '00000100110000100101111010000100', '00000100000011011001011001111001', '11111010101100111100110000010111', '00000011000011110110101110100100', '00000001000011100101011100010000', '00000111100011111001100111101000', '00000111010110011010000111011110', '00000011000011101101100010101000', '00000110100101111001110000111111', '00000111110011001101110011110010', '11111010110110000100011101001010', '00000001010011110011011111111011', '00000000100011110001100000001000', '00000110001001010111000110110111', '00000110111001001001110000001110', '11111101011010110110001100101011', '00000110100011001000110001011101', '11111100110110101001100010111001', '11111111010010101001001010010000', '11111000100101001101110101000010', '11111101101110001000111111110011', '00000100100101011110100011101000', '00000000001011010101001010101110', '11111111010101111111110001011000', '11111010011100001110010001111011', '00000011010110111010010000101111', '00000100110110011110011000000011', '11111001011010001011111100000000', '00000001010011111111001110010001', '00000101010111100011101010101000', '11111101101000010010101000000001', '00000100101111110110111011100111', '11111011000111110111111101110111', '00000011010000000000000001111110', '00000001001101101000011000100101', '00000100101000010101011001011101', '11111111011101011011011110111101', '00000011001111010011010000010001', '00000000011111110100110010111111', '00000010100110100010000000001011', '00000010011001000000111101111011', '00000100011101100010111000111111', '00000001110000011101110010101111', '00000000100000011000011100101010', '00000110100111010101000010100010', '00000011000000000111011010011100', '11111111000001101011001000111101', '00000101000110101010011111111100', '11111010001111100111111100001101', '00000101011110011111010110110110', '00000100101001011001010011001101', '00000101001111101010111011110010', '11111011011101110000111111101000', '11111111111110000100000111000001', '11111100111110111110101100100100', '11111100101011111010101000010000', '00000000101110010100111000011101', '00000100010110011111110001111111', '11111010000001010110110110000000', '11111010110101001111001110111100', '11111001000110011101100110110111', '00000010100110111100101110101111', '11111101011010111000010001100101', '00000000110011001101010101101001', '11111111111000110111000011001101', '11111111110010011011001111111011', '00000110100001111011000011101100', '11111111011110001111100100101110', '00000001011110100100101110010001', '11111101111010000011100001101010', '11111111110001100101001100000011', '00000110100100100000101111110001', '11111101001111110110100110101011', '11111110011111011100111100101111', '11111010101000001001010101100001', '00000111100101010100101100011110', '11111110110001111000001110000000', '00000100000011110100110000111010', '00000001110100111001100010111101', '00000110111010010000001111000010', '00000110010000110010010111100010', '11111010100001111001111001101110', '11111011110000111111010001001011', '00000111011010010100111000101100', '00000011010111001011101100000001', '11111100010001010000010001010011', '00000000111010111001011011111111', '11111101000000010101111001111001', '11111110111101100110110100101111', '11111001110100111001110001110110', '00000000011010011011110111010110', '11111010011110001011011110110111', '11111100111010101011101000011001', '11111101100000001111010010000101', '11111110111010001101011001010010', '11111001100001000101100101110001', '11111011010011101110100111010011', '00000011100001100100011010100010', '11111011110001000000110111110100', '11111011001100100010100010011010', '11111110000111000110111100101101', '11111011110101101001101111001001', '00000101110110001100110010001011', '11111000001100010011000000101010', '00000011000000100100011001111010', '00000010100011010101110100011111', '00000101101101001001111001111011', '11111010011111100000110101001110', '11111000001001100001101110101101', '11111110011110110001111011100010', '00000110011100011100011111101000', '11111111101100001010110101011101', '11111111100010001000010111001000', '00000100111111000101101110111100', '11111010010111001010101101010100', '11111001000011100110110110111001', '00000100100100101001011010000000', '00000000111100010101111110101101', '00000110010101101100010111011001', '11111001011001101011101110111001', '00000100010001001001110000000011', '11111010001101111010010011011100', '11111111001001110100011011111011', '11111000011110000010110101010100', '11111010110010001100000000010101', '11111001000011001100010001010111', '00000110101000100011101011010011', '00000000110101110100010010010011', '11111101011100011001101001101001', '11111110000101101011010001100101', '11111100111110110101010111101000', '00000011011101000011001100100000', '11111101000000001010100111100101', '11111010000000101001010001100010', '00000011001101010100000111110001', '11111000010111011100010101011100', '11111111100111110011000110110001', '00000011100110010001011010001110', '00000011100011010100100110001101', '00000101101001000011100110011010', '00000101100110011100100100011000', '00000101100101110010010111000110', '00000111010010100100110110000111', '00000101100000000101111011111011', '11111010001000010000110110101001', '00000010000111001011101001110111', '00000111010100000011111011000111', '00000011110110100101110101010100', '11111101010100000100011101011000', '00000011010110010010011110111100', '00000010010111111111010110101101', '00000000111010110111011001001001', '00000001011011000011001001110000', '00000101100111101011001110101101', '00000110111001101111011001101010', '11111111000000111000111100011100', '00000110010111101001010000011000', '00000100010101010110010010000101', '00000100010010000101010000011101', '00000110010100001000010011010010', '00000101110000101110111011000110', '00000101100000000101101110110110', '11111101111000000100101101110010', '11111111000011001010101110011111', '00000010000111111000000011110100', '00000000011100010111000011000010', '00000101001000110100001011100101', '11111110000110010000111011000101', '00000111000001101111101000100111', '00000110101000110001110101101100', '11111010000010000101101000100100', '11111101100000001011001011111111', '11111001110110101010101010000001', '00000001010001000000001010100101', '00000011010111001010101010110111', '11111100001000110000001110010110', '11111110110111011010111010101001', '11111110000111101101010011010110', '00000100110100101101111001111110', '11111101100100110011110110100010', '00000110110110010101011110100000', '00000010011111010001101111010110', '11111011011010101110011011100111', '11111100101001111011100101011101', '00000010001000001100101101001110', '00000110000001010100011111100010', '00000111111111010101011010000111', '11111011101011001010100010100000', '11111101001100001111110011001000', '00000110101001111101010100111101', '00000110111010101101001100010101', '00000010110110111101101001011111', '11111000110001000010101101101001', '00000001100001011111000110111100', '00000000000001001011010100010111', '11111100110010001010100000000011', '00000100111010110011001101110010', '00000110010000101101011100001011', '00000110001001000000100000100011', '00000111010011011101000110010100', '00000110110000010010000100001111', '00000010000100011011101000000000', '11111110010001101011100101011111', '00000011110111111001000111110111', '00000011110110001100110001001111', '00000111011010101010010001110111', '00000101000000001011011011101001', '00000110111100111100100100111010', '00000110010011100010000000000111', '11111101100011100110010101010011', '11111110001100001111110101000110', '11111011010000110111010110011001', '11111100010110000000000011001000', '00000011010001011111011001000100', '00000111000000010110110011110110', '11111011100001001000011010101110', '00000001110101110011110001100110', '11111011110010000100111000101010', '00000100111011011101010110110100', '00000010100001010000001100111010', '00000101100011101110111110100001', '11111110000100111110001011100100', '00000110001101011001101001011000', '11111000000110011001000100110100', '11111100110010000011110111000110', '00000110110010110100100110111110', '00000000011011010010000110111101', '11111001011010111101011110101001', '00000001001011111001001011011001', '00000001001101111100000110100100', '11111010111000100011110001010100', '00000110010100011010001011100111', '00000001100001111110010001010110', '11111111001000000001101000101111', '00000010010000111110000110101001', '00000000101100000001111100010010', '00000101001010100110101011011011', '11111001000110001110010110001011', '11111010001000011011010101010011', '00000110100010001100000011101011', '11111000000111111010011101010000', '00000010010110110110011101011101', '00000010101111110100010011000001', '00000000011000010011100010001011', '00000101000010111101010110001000', '00000010111101100001111000111100', '00000110110001001010001110101110', '11111111111100110001001110100100', '11111000110011111111111001001011', '00000100100011100011111011011000', '00000110100001010001011011100000', '00000000101100110100111010101000', '00000101011101000111010101001111', '11111001001010111100110011001110', '11111001111001110010000111000010', '00000001111010101111001010000111', '00000101111000001011010101110011', '00000110010010101111111001001011', '00000011000111101101110010110010', '00000111000101010110101100100011', '11111111001111100100111001111001', '00000111100100111111101110101110', '00000011011000001010000101010101', '00000111101010010101011110011101', '00000011100101110101101101100001', '00000011011010001100101010100000', '11111011001000110100000001110100', '00000111010111110101001000011010', '00000001111010001010011010101101', '00000001111010111001000110000101', '00000001110011011011011001101101', '00000000001010101010000101110011', '11111011111101101101111001001000', '11111010000000010111010100110011', '00000111110000011001011100000000', '11111001101001111101011001010100', '11111111110111010111011001101110', '00000000011100100011000100000001', '11111011011111000100101011011101', '00000100111110111010010100011001', '11111111000011101011111100111001', '00000010111101100110101011011101', '00000101011000111011111001110110', '00000111100110100101001100001110', '11111110011100100100000101001010', '00000000100111110000101011111010', '00000000110101010100111101110011', '11111011101111010101100000101010', '11111100111000011100110001111001', '11111010111010000000111111100100', '00000000111100110010101111011111', '00000110100110101100100110001011', '11111000011011100000101101101111', '00000001000111001001001010000100', '11111011100010011010101101001001', '11111011010111010100000001111011', '11111110010000010101100000000111', '00000010111101111100100000101110', '11111101100110001011110100110000', '00000101011000111100101100110110', '00000110011100001011011110001111', '00000000101101101111100010000110', '11111111001100111011101011001101', '00000001111000100111011001101110', '00000011111101010011101000110111', '00000111010101100101111110110111', '00000111110110001010110111010010', '11111011101000000110100100000011', '11111010011011010000010101000101', '00000110010101011101011010101100', '11111100011101001001001011011111', '11111101111100001000111001000111', '00000001100111110010100100010001', '00000101000000100000011011011101', '00000100111101010011001010010001', '00000011001100100010000000101111', '00000011101001111000001000011011', '00000010111001101101001101000010']\n"
     ]
    }
   ],
   "source": [
    "print(img)"
   ]
  },
  {
   "cell_type": "code",
   "execution_count": 14,
   "id": "5ebb90f5-44f3-4bf7-96f2-da7bc1d87089",
   "metadata": {
    "scrolled": true
   },
   "outputs": [
    {
     "name": "stdout",
     "output_type": "stream",
     "text": [
      "11111001011111000111010010101101111111001001111010100111010100011111110110000011111010001010011100000001010000101101110001100100000000011001100100110011100111100000011000110101001101001010000000000010010100010010111100010010000001010010000011000010010101110000000111011100111010111011000011111111011110010101001110011110000000101100011000001010101100101111100011010000100001001000010000000001010101011010101011101001000000010011110001111111001001011111111111010110101110110010001111111100011111111101110011111100000000010001010101110011011011111111111000111000001010111011001011111011001000101100000110100111111110100111000001100100000000010000011000101111011101110001011000000011100000110110000101100110111110010100101101100000001011111111101010110001101111100000011000000101111110100000110000010110000001011100110111001000100111000000011101100000100101110000100111111010100100100011011110111001111111101110000111111100000000010000001001111100100010111011111000000101001010100001010110100100111111110111011011000001101111001111100111110100110011100011010000000010101011010100111011011000000001110110001100010100000011110000001110100001111001011011000011111100101001000010001010110000000001101000110101111110110010000000000010100101011000001111111011111011110110101110011010001010111110010001101001100000010100100000011010010000101100101010011011111110011101000010110010110110111110101111111000010000001010111111101000111001000110001111111000000000110101111000010111000011111110111000011011010100111010111111101110100011100011110101001000000011100011101001100011110101000001110011110111010000010010111111100001101110010011101110010100000111101001111000010111000001000001010101110000111110011011010000011100101101100011110101100000000011011101001010101111111001111111010011110111000111011010100000000101000011111100110111100000000001010110000100001101111100000000000110110011010101001111110000011100011111101111110110100011111011110010111111100010011001111110010000101000001101100011011111111101010101001111111001101000000111100000110001101100101100000001011100101110100111111111100000000100000101110100101000101011111101011101010100111010011111111111000110011001110101010100101111110100101010010110111010111111111101000000111010111101100101000000001000011111101000000111001111110111001010000000000010011111111011101111100100111010001001000001000001100110000101011111001111101011011101011000000111000111111001111100011101011001111100000000100011010111110011110011010000011100001110000100001011001100000010001011000000101100110111000001101001001011011001111001010000011101010111001110001111010111111001100110101000000111100100111110111000101100100011000110011111110111000000011001001110100000000000100110110000100001110000111111110100111100110100101101010000000011011000000001110100110011111101111110111100101001010100111111101110101000101000101111101111100011100000010100001000001011111011111100011011001101111000000000010110111000010100100000110000000100101100111000100110000000000111110011000001001110010111111111001010000010100011100100000000001101000100101001001010111000000110000011001001011010100101000000011001100000101101001100100000010000101000000101001101101100000010110001001000110100101001111110010100101110101100001010111111110110010101001010101000111111111101001011101101110000011000111111000001110010010000101101001111110001001101011100010001011111111100010000001100110000001101000001101110111000111110111111010000011110101111000111011110101011111110101100110011110001110110111110010000000100111110101011100000001011001001111000010010000100000011000110110110011010111110111111001010111111110000101111101111110100111000010001010001100111111000010101010010011110010101111110110100000111101011010000111111111001100001101111011000000000000100110111001001011101001001111111000110110111000100100100110000011011000111101101011001011011111001011011010011000010010011000001000011100110001000101001111111101101110111110000010100000000000110001001010100111000100110111110100110000110101100111111000000001010111101111111001111000100000110111110000110011001100111000000101100100100101111111001100000001101001000001000000110000111111111101010001010101111101001111110110111011101110010101101001111110100011110101101011011001000000000010111101001101100000000000001111100110001101111001001001111101111011000001110101010110111111001011010111011001100010100000000010110011000101010000111111111100110011111001010001001110011111010000010111110001101111111111111001001100111110110011000111111101100101010101001001001110100000100100100100011000001111011111110011001101100010100111110001111111111010110100111101011000011111101000111111011111100101000111110101001001000011001001100101111101001010101000010110111001100000011100111110001111010000000111110000010000100111001100010101111111100001100010110110101101000000000001010000101111101001011000001100010110001011100101011101111111100011010110000010011000111111110010011001100111101110110111110111001111001001101011011110000001111011101101110100110101111111000110011000101010110010100111111111010011010111011011101110000011010100101100011000101000011111100101111110000011100111011111111010101011101111010001011010000001110010101101000010010001111111101101000100000001011011000000000100011101101000110010000001111101110100000110100111100111000000101101101111001001010011011000001000000011110011111110100011111111000011100100101001010100111111110011011011101011101101100000001110011011011011111110110000000011101110001010011000010100000000110110010111011000011101010000001100111010111110001011111101111110110110010001001001110101000000001001111111101011100000010111110110100111010111111111101111111110010101000100100101010101000000111110110000111010101010100000000111011101100111111111100000000001000100100101110010101011000000110010101001110101100010001111111001110000011111001110001101111110111001001001101010011111111111100100001100110010010111110111110111111101000100111100001010000010100001010010111110001010011111101101011010001101000000001000001010000010010100010001001000000011100010000011111011101100111111001101001010010110011101101000000001110000110100000111011110000001001001011001001101100010100000001100110111100110010100010000000111011010001101011000101100000011000000011010010000010010111111100010011100001101011111000111110001010110000100110011100100000011110001001000101000110101111111110001010111111111110010010000000101111111001000100000100001111111001110000111100111001101011111111111100001000100011001101111110001010111110001011110111101111101101101000101011011011011011111011111111101011000010100011111110000111001110011000000000100000000001001000010010111011101111111000110100110011010001011011111110111011101101000110101111010000011101111010111101011001101100000111100000100000010100000000111111111101001000101011010011010000001101010010101111100101101011111101010011011000100011000001111111111010110110110011101110101111100001111101111100101110110111111011011100000000100001010111000001001110000101000110100110100000010010010101000001000100110011111001100011000100001111001101000000101111110000010011010001000000010101011011101001010011111111111111001101111011111111111000000000100101010011110100001101000000010000111010100010010110011111111111010010110100101001001111111111111000110001001001100001100000001111010110001001000110111111111100100100110011111110110101111111110111101010110100010111000000001010011111000011100001110000000100110001101101101000101000111110010010101101101000000001000000011000101001101101001110001000000111100111101111001001000101000001001101000110110001010101111111111111011111001000001000100000000111111000011100001101100100000000101111110100111000011011110000011101000110101011100000111000000000001001011110011100000101111110000100001010111101011001011111111101111111110101101111000011111011100011000001100010011111000000110101010101111011000010000000011100001100011000001010010011111000001010000000011100111110111110001001100001010010011110101111110000001101000000101101110000000000000111111010101110000110111111010110010111100001111000100000001111000011101001110010111011111100000011100010011011010001000001011000011001011110110111010000010011111000110111010111001000000100110010011000010010010110000001100111010110001111101001101111100111101100001000011010011111111000010101001100010001110010000000001111110100010000010101010000001110111010111101110011111011111010001001011010010010000001111110011100000110011100011010100000000000011110011010101011000100000010001000110011011000010010111111101111010000001001111110000000011110000011001000011100111011111100101101101010101011110000111111101101010110110100001110100000010001100100110101010010111100000111111101110101001011101000111110111000010011001100000011100000011110001001100111010000000000000101000010100100100000100111111110110110100101110110111111110000000111110000101111111101000111111010011001111000000100001011000001110001110101000011011100010000001001011110110010011100100100000001011001011011100100011000111110101101101110110111100001001111111110011010000101101001000100000111101100011110111101101001111111011011010111101100111101000000001101110101000011000011111011111101010000000100101001100101111111101101111101001000011110101111101011011100101010101101011100000001001110101001111100000101111111100100000111111001111010011111101101011100001100001001100011111010001011101111111000110111000000011011100010011110111011000000011100101111001110100101011111111001100011011111011001010011000000100001000100010010111000011111100011001010011001110101111100000111001000100101100111101001111111110100011101000111110000010000001010101101000001111110111011111101000111110010011000100010000001010101101000011110111001101111100010101000000001100010001000000100011000000011110010100101111111100111111011010011011000010000001111011011101010110000011011111011000101011110101011011111111111100010101000011011000101011111110001100010011000111000100000000011110100101101010100011100000001100000111010000111111000110000001010111110100111001001011100000000000101110010100100110110111110011011111000000000111110111111110001101011111000011100111100000100110001110010101100001010000000011100100011010100110011001111111110001100011101111100110000000100100101110011010010001011000000011010110100101001011011101111101111010111001100110111001011111100110100101000111100000111000000001001101101101011101001001111110010100010010000001111000111111011011111001011010001111111000001100010101011011100110010100000001011111011100101010100101011111110011110001010011001011100111111110001001001111011011000101111100001000011000000000100110111111000000011110011111111010011111111011101000011011100111111000000010001111011000111100100100011111011111001000111101100011110111111110010001011001011010011011111111000001011011100000100110011111000000011111000110100010111000000111010110011111110011100001111110101100000011000010011101100000101100110101011010001111110000000011100011110011011110111101111100111010111111100111110100000000111001001001110010100110111000000101000100011000101001001100000001001110101000110010101001100000101111001011011100110110101000000111011110010111101111001111111111001110011001011010000001111111101110001100000001010111110111110011110100111110110111101111111100111001101110111101000001011111001000111100011110011100001111110110011011000111110000001110000010111110100010100000110101000000011000011110101000111100100111110001000000101001111111011110000000010000101101001001010000100000111100100011000010100011111000001100001001101001000101000000000000100011001101110111110100000000010101011010110000100000110000000010001000110111100111110010000001110101100110111000000011011111110101000001101111010011111000000111100011110010100101101101111110111010110011101101100000100000101110101100101111010011111111110101011001011110000011001100000011011100100000001001000010011111010001000111111110010000110000000100010010101010000010011001111100011001010010110001100010100000000111000001101010011000001000000001010001000011101010100000000010000010001100101111000001111111101111100000011011011100111111110011110000011000011001010100000001000010110001100010100000011111111110000011100101011100010111110100000111011111011110110101111110101011101110010001011111111111010010110000101111100101101000000001010100011101010001100000000010100110111001101111101001111111011010100100111110011011000000000101101010101101000100111101111101000011110001100011001110000000010110110110000100001001101111111011000010100011101100110100000011111011000111001101001111011111000101000110111101111001101111111101101001101101000111101010000000001011011111000001111010100000100001100101011101000100110111110000001001011110010101010010000010000101101011001101110110000000100110101101011110110101000111111111010010110000111011010011111101000011110011110000011111100000011100110001000100101010000111111110000001110100001011010101111111001000010111100100100010000000010101111001111001110010000000000110111010100011101101011111111100100100101111111000100000000000110011100100000011111110100111110110111101000001000001001000000000000101100100100101111001011111110100010111001010011100111111110100100111001011000111001101111111010101101010100001011000111111101100101100010010110010000000001001001110111000011011100011111101010100000000001110010000111111110011010001011001011000100000000100010101110010101111001110000000110110010010111111000011111111110010100100101100000111110111110001100011100001101101011011111111110000110010000100111110100000111110001001111010011111101111110111100001101011000110111010000000001110001110101101101001011111010111101101010000001000111111110110001001001011010010001100000000000001001001010011111100100000111001100010111011000100011111110011101100011101000100001000000010001111100111000101100000111111111111110011001001111100011000000111001110001011011000100010000010000111100001101010111101000000110001111100100000100001111111110000110001110000100100011010000010100011001111110110110111011111010110100001111100011101101111110111010100110010100101111010000000000111101111111010000110100000110011000000111111111110000111110110101100101010010100101100000010111100101001011000100110100000000011010000001001001011100111111110110111111100010011001011111110110001011101010000000011011111001101100100011100110101111000001001101000010100011000010010000001110110111010100111110011100000101110111101011010101011000111111100110001110111010000011111111100110101010111001110111111100000001111110010101000110100101111111101011101111001001111001011111101110101110000100000000100011111101001110110100101101100110111110100001101100011110100111100000001000110001101011100010101000000001110101010100011010100111111111000110001010011000111101011111110111010000011010111010011011111001100001011110101010000010000000110010101100101100010001101111110110110010101111011100110111111001010100111001011001101010111111011000010001000101001110101111100110000001010011010100101111111111101011101010100100011101000001001100001001011110100001000000010000001101100101100111100111111010101100111100110000010111000000110000111101101011101001000000000100001110010101110001000000000111100011111001100111101000000001110101100110100001110111100000001100001110110110001010100000000110100101111001110000111111000001111100110011011100111100101111101011011000010001110100101000000001010011110011011111111011000000001000111100011000000010000000011000100101011100011011011100000110111001001001110000001110111111010110101101100011001010110000011010001100100011000101110111111100110110101001100010111001111111110100101010010010100100001111100010010100110111010100001011111101101110001000111111110011000001001001010111101000111010000000000000101101010100101010111011111111010101111111110001011000111110100111000011100100011110110000001101011011101001000010111100000100110110011110011000000011111110010110100010111111000000000000000101001111111100111001000100000101010111100011101010101000111111011010000100101010000000010000010010111111011011101110011111111011000111110111111101110111000000110100000000000000011111100000000100110110100001100010010100000100101000010101011001011101111111110111010110110111101111010000001100111101001101000001000100000000011111110100110010111111000000101001101000100000000010110000001001100100000011110111101100000100011101100010111000111111000000011100000111011100101011110000000010000001100001110010101000000110100111010101000010100010000000110000000001110110100111001111111100000110101100100011110100000101000110101010011111111100111110100011111001111111000011010000010101111001111101011011011000000100101001011001010011001101000001010011111010101110111100101111101101110111000011111110100011111111111110000100000111000001111111001111101111101011001001001111110010101111101010100001000000000000101110010100111000011101000001000101100111111100011111111111101000000101011011011000000011111010110101001111001110111100111110010001100111011001101101110000001010011011110010111010111111111101011010111000010001100101000000001100110011010101011010011111111111100011011100001100110111111111110010011011001111111011000001101000011110110000111011001111111101111000111110010010111000000001011110100100101110010001111111011110100000111000011010101111111111000110010100110000001100000110100100100000101111110001111111010011111101101001101010111111111001111101110011110010111111111010101000001001010101100001000001111001010101001011000111101111111011000111100000111000000000000100000011110100110000111010000000011101001110011000101111010000011011101001000000111100001000000110010000110010010111100010111110101000011110011110011011101111101111000011111101000100101100000111011010010100111000101100000000110101110010111011000000011111110001000101000001000101001100000000111010111001011011111111111111010000000101011110011110011111111011110110011011010010111111111001110100111001110001110110000000000110100110111101110101101111101001111000101101111011011111111100111010101011101000011001111111011000000011110100100001011111111011101000110101100101001011111001100001000101100101110001111110110100111011101001110100110000001110000110010001101010001011111011110001000000110111110100111110110011001000101000100110101111111000011100011011110010110111111011110101101001101111001001000001011101100011001100100010111111100000110001001100000010101000000011000000100100011001111010000000101000110101011101000111110000010110110100100111100111101111111010011111100000110101001110111110000010011000011011101011011111111001111011000111101110001000000110011100011100011111101000111111111011000010101101010111011111111110001000100001011100100000000100111111000101101110111100111110100101110010101011010101001111100100001110011011011011100100000100100100101001011010000000000000001111000101011111101011010000011001010110110001011101100111111001011001101011101110111001000001000100010010011100000000111111101000110111101001001101110011111111001001110100011011111011111110000111100000101101010101001111101011001000110000000001010111111001000011001100010001010111000001101010001000111010110100110000000011010111010001001001001111111101011100011001101001101001111111100001011010110100011001011111110011111011010101011110100000000011011101000011001100100000111111010000000010101001111001011111101000000010100101000110001000000011001101010100000111110001111110000101110111000101010111001111111110011111001100011011000100000011100110010001011010001110000000111000110101001001100011010000010110100100001110011001101000000101100110011100100100011000000001011001011100100101110001100000011101001010010011011000011100000101100000000101111011111011111110100010000100001101101010010000001000011100101110100111011100000111010100000011111011000111000000111101101001011101010101001111110101010000010001110101100000000011010110010010011110111100000000100101111111110101101011010000000011101011011101100100100100000001011011000011001001110000000001011001111010110011101011010000011011100110111101100110101011111111000000111000111100011100000001100101111010010100000110000000010001010101011001001000010100000100010010000101010000011101000001100101000010000100110100100000010111000010111011101100011000000101100000000101101110110110111111011110000001001011011100101111111100001100101010111001111100000010000111111000000011110100000000000111000101110000110000100000010100100011010000101110010111111110000110010000111011000101000001110000011011111010001001110000011010100011000111010110110011111010000010000101101000100100111111011000000010110010111111111111100111011010101010101000000100000001010001000000001010100101000000110101110010101010101101111111110000100011000000111001011011111110110111011010111010101001111111100001111011010100110101100000010011010010110111100111111011111101100100110011110110100010000001101101100101010111101000000000001001111101000110111101011011111011011010101110011011100111111111001010011110111001010111010000001000100000110010110100111000000110000001010100011111100010000001111111110101010110100001111111101110101100101010001010000011111101001100001111110011001000000001101010011111010101001111010000011011101010110100110001010100000010110110111101101001011111111110001100010000101011011010010000000110000101111100011011110000000000000001001011010100010111111111001100100010101000000000110000010011101011001100110111001000000110010000101101011100001011000001100010010000001000001000110000011101001101110100011001010000000110110000010010000100001111000000100001000110111010000000001111111001000110101110010101111100000011110111111001000111110111000000111101100011001100010011110000011101101010101001000111011100000101000000001011011011101001000001101111001111001001001110100000011001001110001000000000011111111101100011100110010101010011111111100011000011111101010001101111101101000011011101011001100111111100010110000000000011001000000000110100010111110110010001000000011100000001011011001111011011111011100001001000011010101110000000011101011100111100011001101111101111001000010011100010101000000100111011011101010110110100000000101000010100000011001110100000010110001110111011111010000111111110000100111110001011100100000001100011010110011010010110001111100000011001100100010011010011111100110010000011110111000110000001101100101101001001101111100000000001101101001000011011110111111001011010111101011110101001000000010010111110010010110110010000000100110111110000011010010011111010111000100011110001010100000001100101000110100010111001110000000110000111111001000101011011111111001000000001101000101111000000100100001111100001101010010000000010110000000111110001001000000101001010100110101011011011111110010001100011100101100010111111101000100001101101010101001100000110100010001100000011101011111110000001111110100111010100000000001001011011011001110101110100000010101111110100010011000001000000000110000100111000100010110000010100001011110101011000100000000010111101100001111000111100000001101100010010100011101011101111111111110011000100111010010011111000110011111111111001001011000001001000111000111110110110000000011010000101000101101110000000000000101100110100111010101000000001010111010001110101010011111111100100101011110011001100111011111001111001110010000111000010000000011110101011110010100001110000010111100000101101010111001100000110010010101111111001001011000000110001111011011100101100100000011100010101011010110010001111111111001111100100111001111001000001111001001111111011101011100000001101100000101000010101010100000111101010010101011110011101000000111001011101011011011000010000001101101000110010101010000011111011001000110100000001110100000001110101111101010010000110100000000111101000101001101010110100000001111010111001000110000101000000011100110110110110011011010000000000101010101000010111001111111011111101101101111001001000111110100000000101110101001100110000011111000001100101110000000011111001101001111101011001010100111111111101110101110110011011100000000001110010001100010000000111111011011111000100101011011101000001001111101110100101000110011111111100001110101111110011100100000010111101100110101011011101000001010110001110111110011101100000011110011010010100110000111011111110011100100100000101001010000000001001111100001010111110100000000011010101010011110111001111111011101111010101100000101010111111001110000111001100011110011111101011101000000011111110010000000000111100110010101111011111000001101001101011001001100010111111100001101110000010110110111100000001000111001001001010000100111110111000100110101011010010011111101101011101010000000111101111111110010000010101100000000111000000101111011111001000001011101111110110011000101111010011000000000101011000111100101100110110000001100111000010110111100011110000000010110110111110001000011011111111001100111011101011001101000000011110001001110110011011100000001111110101001110100011011100000111010101100101111110110111000001111101100010101101110100101111101110100000011010010000001111111010011011010000010101000101000001100101010111010110101011001111110001110100100100101101111111111101111100001000111001000111000000011001111100101001000100010000010100000010000001101101110100000100111101010011001010010001000000110011001000100000001011110000001110100111100000100001101100000010111001101101001101000010\n"
     ]
    }
   ],
   "source": [
    "debug_img = ''.join(img)\n",
    "print(debug_img)"
   ]
  },
  {
   "cell_type": "code",
   "execution_count": 334,
   "id": "e0b46d8e-18ea-4836-b3cd-abbfb44fdb2c",
   "metadata": {
    "scrolled": true
   },
   "outputs": [
    {
     "name": "stdout",
     "output_type": "stream",
     "text": [
      "unsigned char weights_1_0[784] = { 0b00000100111010010011010111110111, 0b00000101010000011000111011100011, 0b00000010100110110101001100100001 };\n"
     ]
    }
   ],
   "source": [
    "print(\"unsigned char weights_1_0[784] = { \"  + ''.join([f\"0b{k}, \" for k in weights[1][:-1,0]]) + f\"0b{weights[1][-1,2]}\" + \" };\")\n",
    "    "
   ]
  },
  {
   "cell_type": "code",
   "execution_count": 337,
   "id": "7f913812-0553-44e7-9d5e-c5dbb9014781",
   "metadata": {},
   "outputs": [
    {
     "data": {
      "text/plain": [
       "array(['00000110100001000110101010101110'], dtype='<U32')"
      ]
     },
     "execution_count": 337,
     "metadata": {},
     "output_type": "execute_result"
    }
   ],
   "source": [
    "bias[1]"
   ]
  },
  {
   "cell_type": "code",
   "execution_count": 329,
   "id": "b235f9bf-9feb-41e4-add4-84893d3da769",
   "metadata": {
    "scrolled": true
   },
   "outputs": [
    {
     "data": {
      "text/plain": [
       "'0b11111011101111010111101111000101, 0b00000011000011010000000101001011, 0b11111110101010100011011100100010, 0b11111101111000001100111000100111, 0b11111110100101010001111011000111, 0b00000111111010001111101011000000, 0b11111110001000110001011110101110, 0b00000111100011100101011111111001, 0b11111100011010010011011110111110, 0b11111000001110000000101101010000, 0b11111101111010111001100000101100, 0b00000110111011100100010010111011, 0b11111000001110110000101111011010, 0b00000100111011011100011010000010, 0b00000101001100011011010011011110, 0b11111101011100000111101001011101, 0b00000001011100110011110010110111, 0b11111010110011000001001001100111, 0b11111011110100101111110110011110, 0b11111001011001110001001000000111, 0b00000111000010110011010000011000, 0b11111010101110000110011011110010, 0b11111000111111110111110011011001, 0b00000010001010101001111011100100, 0b11111001100000001100000000101001, 0b11111001110010100010110011001101, 0b11111100001100100010110001101101, 0b00000111110001001010000001010101, 0b00000101010011100010111110101100, 0b11111010101110111001101000011000, 0b11111010100010100001101111111011, 0b11111111011011010110000100110100, 0b11111010100100110001101000010011, 0b11111101101001101000000000111101, 0b00000100100001000101001100010000, 0b00000101110010011111000000011010, 0b00000010011110111010111011011110, 0b11111110011110000111111101110111, 0b00000101011011110000011110110100, 0b00000100011000010011000110110001, 0b00000100101100011100001111111111, 0b11111101010110001100101101011001, 0b11111000001011100010000000011010, 0b11111110010101000011110111101100, 0b00000011110111000100101101101110, 0b11111010001010100111101000000110, 0b11111001000010111001011101111000, 0b00000111010111000000011100111000, 0b11111101011101111011111101100000, 0b00000001101100110101010101110110, 0b11111110000011010000010100011110, 0b11111010011011100101101110011011, 0b11111000110001000100101111000011, 0b00000101101000000000111011111001, 0b11111101000011000110001111100010, 0b00000110100100000101111010010011, 0b11111101010110000100000011001111, 0b00000111111101101100111101010110, 0b11111101010011011110110111000111, 0b00000000000001110110000010000001, 0b00000001101101111111111001100111, 0b11111011101000101111100010010111, 0b00000111100110110110100010101001, 0b11111101001101101010010100000010, 0b11111100110100110100101111000100, 0b00000101001110100001110001001010, 0b00000001111101001101101000101010, 0b00000111011100010111001100100000, 0b11111111001101011110101001011111, 0b11111000101101000011110000001101, 0b00000100101111110000010011111000, 0b00000011111001001101000101011100, 0b11111101000010000110101111111011, 0b11111111100010111101111001001000, 0b11111011101001101101111010011001, 0b11111101001010101011010001010001, 0b11111101011101101101010011001111, 0b11111101111010011011100101011110, 0b11111111101111001100000011101011, 0b11111000010010011010100010111010, 0b11111011010100100001100100110001, 0b11111011100010001001001111000111, 0b00000010101001001001101110110100, 0b00000100001011110010010110001011, 0b00000000100111101010010000111100, 0b00000110000110101101010110101110, 0b11111000110010111001011100100010, 0b00000011101010111011010000011011, 0b11111001101100010010111001110000, 0b11111011010001011000000111000111, 0b00000101100000011010101010100000, 0b11111110100001111101001000000010, 0b00000110110101111001100001010000, 0b11111111101110011111011001000100, 0b00000000110000000000111110010001, 0b00000010011011011000001001010111, 0b11111101111011001111100010010011, 0b00000111000010100110011011000000, 0b00000100100110011101101101101001, 0b00000010111011001000100111100010, 0b00000110101010111111101001000100, 0b11111101000011110101111001110001, 0b11111111001001011011101010000011, 0b00000000001001000110101000100100, 0b00000001011111100001110111100101, 0b00000000101101001000010011000100, 0b11111110011010110100101001100001, 0b00000110000011110101001100110010, 0b11111100101101001111110111000110, 0b00000111010101010000010001101101, 0b00000101001101010100100011110100, 0b11111011100111011110110110110111, 0b00000010101011110010111000000101, 0b11111000011111011010101100010110, 0b11111001010100011101110011001000, 0b00000010011010101000010101100010, 0b00000000110011010000100110101000, 0b00000101011100011100011011111000, 0b00000100110011001010110100100010, 0b00000111011111000001100011001100, 0b00000011100011000111000110101100, 0b00000010000100001001101000011000, 0b11111100010100100101100000100110, 0b11111001011010010111010100100000, 0b11111100111010001100110100000011, 0b00000111101111001110010011111000, 0b00000110111001111111001011001101, 0b11111110110100011010100111001000, 0b00000110100111001010000000011000, 0b11111101111010011010110011100111, 0b11111000001001011110010001101110, 0b11111000000011000011011110000000, 0b00000011010010110010011000011010, 0b00000101010111100100100100111100, 0b11111110100011101101110111101010, 0b00000100001010101000001101100011, 0b11111011101111010000000101010101, 0b11111100000111100011010011001011, 0b00000010011010111100000011011111, 0b11111010011011011111101010111101, 0b00000010110101101110010101010000, 0b11111000001010001000000101000100, 0b11111101010100110000010001100001, 0b00000101101111100101111111110110, 0b00000010001011100110010001001111, 0b11111110001101001011001101100111, 0b11111000011101001100011101101011, 0b11111111111011100111010101010011, 0b00000101110111111000110101111000, 0b11111001001111000100010011001001, 0b00000101111001010001010100110100, 0b00000101111101011101100000110110, 0b00000000111011001111000011100000, 0b00000011001011110101101101101100, 0b11111100010001100000110100100110, 0b11111101111101111000100111111000, 0b11111111110100000010010100011101, 0b11111111111011001111110110000110, 0b11111010011011110100010111000001, 0b00000101101110110101011111101101, 0b11111111110011111101001001011010, 0b00000010111011111110011101101000, 0b00000100011101110001010110101101, 0b00000100111110001011001100100111, 0b11111011100000110110110110010000, 0b11111001011111101001010010010001, 0b00000100100101111110101000110011, 0b00000010101101101110101100101100, 0b00000110000110001001100000000001, 0b11111111100001010110011100100000, 0b00000001010011100000011001010111, 0b11111110101110001011001011010000, 0b11111110001010110010001011111100, 0b11111001011001001100001011000100, 0b11111001100001100100101010110010, 0b00000010100111010101110100110000, 0b11111010011000001011100001101111, 0b11111010100011010010111111111110, 0b11111000000100011111010110011101, 0b11111111101010001101101110100010, 0b00000111001011110000101001100010, 0b00000001101000110101000010100101, 0b00000111011111010100100010001111, 0b00000100111100011011110110001110, 0b11111011101000000011111100001010, 0b11111100011001001111000010011001, 0b00000100111110001000101000111010, 0b00000000011000000001000000000000, 0b00000000011110010001110001111111, 0b11111000000001000110100101001110, 0b00000001010010010000100001111001, 0b11111100010000111110001001110110, 0b11111111111110000100100010011000, 0b11111101101100101101100000111011, 0b00000100010011010010010101001010, 0b00000111011000111110001101110110, 0b11111111011011111101001001010110, 0b00000100010111000001110101101110, 0b00000111101100101001010111110101, 0b11111000001111010101001111110010, 0b00000000111100011011101100101011, 0b11111111001010100011111101100000, 0b11111000000111100000000100001101, 0b11111101110011111001110000101100, 0b11111101100010011011111010000100, 0b00000110000001010110010000000011, 0b00000101101101000101011000010100, 0b11111110011010000101001100100110, 0b11111101010101011011000011100010, 0b11111110101001010100011100011001, 0b00000111100110111110010010011001, 0b00000101111011010010001010111011, 0b11111010011011000101000011001001, 0b00000000101101011101000101110000, 0b11111100101010010010110110000011, 0b11111000001000110000110011011011, 0b00000111010100101100001101101010, 0b00000011000000111011000110001111, 0b00000111000101011110011100111000, 0b00000000011101111111010010111010, 0b00000010011101111011000011001011, 0b11111011001000000001101101110011, 0b00000111110011011010001100011010, 0b00000011010000101111011000010111, 0b11111010110000010101101101110111, 0b00000001010001011011101101010100, 0b11111101111011100111100101010011, 0b11111010011101001110111001111101, 0b11111011011111010011001001010110, 0b11111111100101111001001111000010, 0b00000110100011010011001010010111, 0b11111110111010000110100001101011, 0b00000110011000001011001100011010, 0b11111111000100001110110111000111, 0b11111000101001100111101111101010, 0b11111111001000101010011100010011, 0b00000111111110101011100001111001, 0b00000011010101001011101101101000, 0b00000010110111010010101100110111, 0b11111111101111011100101011101100, 0b11111000110000111111000011101000, 0b00000101110000000000001011001010, 0b00000000011001110110000101000101, 0b11111100000110110000001100001101, 0b00000000001101001111011000111111, 0b11111011001011110111101010101111, 0b11111000010010111110110011100001, 0b11111111011110000011110100111011, 0b11111100101000011111010011100111, 0b11111111000111001001110110001011, 0b00000111100110001100010010000111, 0b11111111001010001001011110011110, 0b00000011000101010100000000000010, 0b00000001101011011100010000000001, 0b11111000001011010110001101010110, 0b11111001001111001100000110011111, 0b00000110010110010100000101100000, 0b11111100010001111110111000110011, 0b00000111000100001000011001111100, 0b11111010110100010010110001110111, 0b00000101110101101110011111101011, 0b11111111000111001010100001110011, 0b11111010011111000000001001000101, 0b11111110011001100000011011100111, 0b00000110101010001111001001101001, 0b00000011001001100001001100110010, 0b11111100100100111101000000110111, 0b00000011001100010011110010100101, 0b11111000101010011100001011011101, 0b00000000111110011010010001111011, 0b00000110000000100010110000001110, 0b00000111011010111111011111101000, 0b00000101111011001011111110110101, 0b00000000111110000100010101111011, 0b00000100001100001011111100000001, 0b11111100101001010101011110101101, 0b11111110001000001101001000110011, 0b00000011010010100110011001110010, 0b11111011101001100000011000001101, 0b11111001000110010110010110101010, 0b00000100001000010011010001001011, 0b11111110110110110110010001100010, 0b00000000111000110010101111111011, 0b11111011100100000111011101111100, 0b00000101100101010110100011000011, 0b00000000110111011010010010101101, 0b11111011010010000110011001101111, 0b11111001111011111111010001001111, 0b00000001110110111010101111101111, 0b00000011101111010000101110001011, 0b00000101000000011001011100011110, 0b00000000101010101000000101000011, 0b00000110000110001111110110101110, 0b11111010110111001110110011001101, 0b00000100001101111100110011101000, 0b00000011111001111101000100011010, 0b00000110110111101011100000000011, 0b11111010000110010101111100101010, 0b00000101000001000001101100001111, 0b11111000100010011010110000010001, 0b11111010010111101010110001001110, 0b11111011010010001010010010000010, 0b00000001101100010110001011111101, 0b00000001110100101111111010000011, 0b11111101000100111011001100001101, 0b11111000001101000001001101010101, 0b11111011010100100000101111111010, 0b00000010101010100101111110011110, 0b11111111011101000100000010001000, 0b00000110011001100100101000001000, 0b00000110010011010110011101111011, 0b00000010100111011111001110101000, 0b00000011000011111010011000111100, 0b00000000010100000100100101110110, 0b11111110100011010100011001011111, 0b00000001100100000001000110011011, 0b11111010100001100010110010111111, 0b11111110010011000011010001010100, 0b00000110111000101100001110100100, 0b11111101111011011000001110111001, 0b11111011011101110011100010011011, 0b00000101001100001010111101111001, 0b11111010110000110111110011010011, 0b11111000001110011110110010110010, 0b11111010110101000110011101101000, 0b11111011001000000110111101101111, 0b00000010101110001111001001000111, 0b00000101110010001111010111011111, 0b00000011010111100100100100101011, 0b11111001000010100011010110001110, 0b00000111100100001101001000100111, 0b00000010011000001101001111011011, 0b00000110000010000000010111111010, 0b00000010100111100011111101011110, 0b11111100000001101101010011011101, 0b00000010011010001001101101001000, 0b00000001100010100100000011010100, 0b11111010000111010111110100110111, 0b11111101010110110101000001100010, 0b00000000111001110100110011011010, 0b00000111101001111110010101010010, 0b11111010110101110110101111100111, 0b00000010001100010111000100011001, 0b00000110111010010101011010000001, 0b00000101011110110111001010110101, 0b00000100011011101000111010001100, 0b11111100001101010101010100000001, 0b11111001001110101110011010000011, 0b00000100111000001010101011110001, 0b00000010011001100001100110001100, 0b11111100010011111010011000100111, 0b00000001010000001011011010010001, 0b00000100100011000101111100110000, 0b00000101101100010011110001001010, 0b00000110011110000001111010100100, 0b11111111001100101011001011001111, 0b00000001001010011011110100111000, 0b00000010000110011010001100001011, 0b11111010011000000101100001010001, 0b00000110111110100110110000110010, 0b00000001101011001001010010010101, 0b00000011111101001110001011000111, 0b11111110100110011000110000100100, 0b11111000111001001110010111111000, 0b11111000100010010110111101100010, 0b00000011000110001011111101100011, 0b11111110101011111000011100111111, 0b11111011111110000100011100010101, 0b11111001010111010100001101000110, 0b00000101100000010110010111010111, 0b00000010000100110011000101011100, 0b00000001110111000011110010101001, 0b11111010101100101001000110001011, 0b11111010100101110101011011110111, 0b11111100110010101000001100110101, 0b11111000100000100101110000100100, 0b00000011101000001000001110000010, 0b11111001111101110011101110011000, 0b11111000001100101011001001111101, 0b00000100001000100011101001010000, 0b11111001000111001101110101110111, 0b11111111100010010010111101111001, 0b11111110000100100010001000111000, 0b11111001000101000010100110111101, 0b11111010100010110111101001110010, 0b11111000101111001001101000110101, 0b00000110111111000011011000011011, 0b00000111101101000100101010001100, 0b00000100101010000001001001010111, 0b00000011011000010100101110100101, 0b11111100110010110010001011100001, 0b00000010010101000100000110100110, 0b00000000110100011001110011001111, 0b00000101001110110110100000010000, 0b00000010011010010110000001110011, 0b11111101001000000100011101011101, 0b11111010001000100101110110100100, 0b11111010000111110010001010001001, 0b00000001000011011110000111000100, 0b11111111100101001001011100011100, 0b11111001011000111000011001010011, 0b00000100110101011010111010000100, 0b11111010100111101001111110101100, 0b00000001110101100011010001110110, 0b11111100010110000111000011010110, 0b11111110111101110011001010101111, 0b00000001110010000100011011110100, 0b11111011010001011111101100001101, 0b11111100001000000001101000101011, 0b11111101100101110001000011000111, 0b00000111010110100000110011001111, 0b00000100010101110011010011011111, 0b11111100100010100011001101100100, 0b00000100111111001101110001010011, 0b11111110100110111010100000001110, 0b00000010100100100110111111100100, 0b11111101001100101001110110101010, 0b00000001001111100001110001101111, 0b11111000110111001000011001110001, 0b11111110110010011100111010011101, 0b00000101010110100100101011011111, 0b11111011110110111110101101111011, 0b11111000101011111011011001011011, 0b00000110001111000001011100001010, 0b11111011111011101110111011001101, 0b00000001110110011111000100001100, 0b11111001001111101010001111100010, 0b11111010010000101000001111100111, 0b00000000010111100011011010101110, 0b11111011011101101111101101010101, 0b00000101100000001011110010000011, 0b00000111010001011001111101001110, 0b11111000101010011001111000101011, 0b11111011000110000011011110101111, 0b00000011011000000101001100010111, 0b11111110101101110011110101111100, 0b00000000010001111100000110010011, 0b11111101100110110011100000101000, 0b11111111101001011010011011111010, 0b11111100110000100111001100001011, 0b11111000100100101010000101000111, 0b11111111000000101111111011100101, 0b11111100110001001101011000001111, 0b00000100011111000011010011011101, 0b00000111001011000110011111110000, 0b11111001110110101001001110100101, 0b00000110110001010011110011101100, 0b11111111011100001001011110110111, 0b11111101110011011111001010101110, 0b11111010001101010000110011110111, 0b11111011100111100001111100011100, 0b11111000010101100111000001110011, 0b00000010110110010101001000101001, 0b11111101011011000110011100010110, 0b00000001111101000001101000101011, 0b00000110101110000010110111010100, 0b11111110111111110100000100000010, 0b00000110001011001111001010001100, 0b00000110001001000001010110101101, 0b11111100000111100100111000101000, 0b11111111101110000101001100001001, 0b11111011110111111101010010000001, 0b00000101011100011001001001111000, 0b00000011101101111011001001001111, 0b11111001011000011011001111111101, 0b00000100101110110111000001000000, 0b11111010110010000001011001001011, 0b11111010000110001110100000111100, 0b11111110100101101100011011000111, 0b11111101101010001011010110100001, 0b00000011011011011111001100110100, 0b00000000101111111011101001110011, 0b00000011100001111001101001111010, 0b00000101011101001010111010100001, 0b11111111010111001011001000000000, 0b11111101010011010100101111011001, 0b00000011110000010001100100000011, 0b00000000110000011111010001111001, 0b00000110000011000001010001110000, 0b11111110111100101001100100100011, 0b00000101001100101100111001000111, 0b11111111000111111110010001110011, 0b11111111100000001101111101010110, 0b11111100000110100010010111111001, 0b00000111110100001001110000011111, 0b00000110001101011100011011101110, 0b11111000010010001111011000110011, 0b00000001011101010001101110011110, 0b00000010110100001001110000111000, 0b11111010101010110010100111010101, 0b11111111110101111111010100111101, 0b11111111000010111100001100111010, 0b11111110011000001110100110010111, 0b00000111011101010011111100010110, 0b00000110011100111101100110001110, 0b11111010101101010110000100110001, 0b00000111101100000110101111110000, 0b00000011100100100101111111111100, 0b00000110001101100000011100111001, 0b11111000011111011000111011011100, 0b00000011100001011101110110011010, 0b00000000100000100111001111110100, 0b11111111111011100101101000001100, 0b00000010011100110100110110001000, 0b11111111011111011010011110000101, 0b11111100101101000110011011011111, 0b00000001110000010111010001001011, 0b11111000111010000001101010101101, 0b11111010011000111000000001001111, 0b11111111110111110101111101011010, 0b00000101001111010001100011011011, 0b11111011101110001101001101001010, 0b11111111000001100011010011111000, 0b00000011110001000000010101100001, 0b00000100000101010101010010001111, 0b00000000100001001000100000110011, 0b00000000111000110001101110001110, 0b00000101100110101110001110110111, 0b00000011000011010101100010000001, 0b00000110000011110010010100111100, 0b11111111111101110000110001100111, 0b11111100011100000011110111101011, 0b11111011000001101001100100110110, 0b00000101111001001011010010111010, 0b11111010000111010101010110010010, 0b00000001011010010001111111000100, 0b11111111100100100001000111010010, 0b00000011011111011100111000111110, 0b00000000001110101111010111100100, 0b11111111101011000011001111000010, 0b11111101000111101000011101110010, 0b11111100011000101000001101001101, 0b00000111001110101100011110010111, 0b00000000100000011000001011111110, 0b00000001111110001101111001101010, 0b00000111111111011110001000000100, 0b11111000110110000010111111000100, 0b11111100100111011000010000110001, 0b00000001000111110111001100110010, 0b11111100101001101000010011010110, 0b11111010010111101110111010111001, 0b11111011100011111011101000001111, 0b11111010011101101100111101001011, 0b00000110000100100011100011010100, 0b11111110111101001001000010100111, 0b00000011000011011000100001000011, 0b00000010011000011110001111101101, 0b11111010100001000100011100111111, 0b00000011111110101001011111110011, 0b11111000000010000011101111010100, 0b00000011000111011101101011010011, 0b11111011001011011101110100110100, 0b11111011000001110010110001100011, 0b00000000101111000101100100111111, 0b00000010101011010111000000111101, 0b00000011101010000010101011100001, 0b00000011111100011000101000111111, 0b00000110011100011101001110010111, 0b11111001010111010000111111100110, 0b11111101111101111100010010010110, 0b00000111101110010011111011100101, 0b11111010000011000011001001110110, 0b00000100101011001010101011101111, 0b11111101011101111100011100011100, 0b00000000110101100111011110110101, 0b00000101010010011010000010000010, 0b11111110110000111100111101111011, 0b11111000010100101001001000011001, 0b11111110011000100010010100110010, 0b00000111010010001010110001000111, 0b11111111110110100001111101100000, 0b11111010100101010011111011011111, 0b11111111011010101101000010011100, 0b11111101011000010001110010111110, 0b11111000001100101101110011111101, 0b11111000100000001101100111101001, 0b00000000101101010001100110100101, 0b00000011101110101010001111100111, 0b11111100100111000110111010010000, 0b11111101000000010011100111010010, 0b11111101110010100111100001000000, 0b11111110111000000100011110000110, 0b00000100100111111010011000101110, 0b00000111000100010000110101111101, 0b00000000010001010110110010010011, 0b11111110101100010000100100110100, 0b11111100010001011111110011101000, 0b00000011110110110101000000100101, 0b00000111100011001111011111001000, 0b11111010100010110100010011100000, 0b11111011100100010111111111110011, 0b00000000000111001101111011110011, 0b00000011010000101010010110010111, 0b00000011011000000000000011000110, 0b00000100011100010110011100110110, 0b00000110101011000101010100011101, 0b00000011100000100101001100101011, 0b11111101000100001111110010110100, 0b11111100100001110110011101101001, 0b00000101001000001111001000100110, 0b11111100001100100101010111010001, 0b00000101011001011111110000111011, 0b00000010010110010111010011010011, 0b00000011110010110111011011110111, 0b00000001000000101110011011111110, 0b11111101001110111100001101110100, 0b11111100000011001010100001110000, 0b00000011101000000001000010011001, 0b11111100100110101000110011001010, 0b11111110101011011110111100101110, 0b00000101011000101110110011010101, 0b00000100010101011110000100011011, 0b00000011001011100110111001100100, 0b00000001001010111110100010011111, 0b00000111100011010001110100110011, 0b11111010010110001101111111111011, 0b00000000010100001101001101111101, 0b00000100111101101111001100000001, 0b00000010111000100010000001110101, 0b00000010110110101011101010110101, 0b00000000011111110010101110001010, 0b11111101011101011011000110100111, 0b11111110011111111001111110001011, 0b00000111011100011100110110101101, 0b11111001100111111111111100101010, 0b11111100100111011010100111010011, 0b11111101010001000110111000100000, 0b11111100010010011101110001010000, 0b00000010111101111010010111101110, 0b00000101011100010100111001001100, 0b11111111110000101001101001001010, 0b00000111011110110011011100111100, 0b11111101011011110001111000101001, 0b11111101110010001001111011101101, 0b00000001010010111000001100100101, 0b11111000101010100101000000101101, 0b00000000110001101001101011110110, 0b00000100111001001101011011010010, 0b11111101101000110001001101010101, 0b00000000000101101111010010001111, 0b11111101101100010011100010110100, 0b00000000101101110100110011111110, 0b00000110111001011010001001001001, 0b00000001101100100011011000000011, 0b00000011110100010010110100001111, 0b00000001101111110101100101100111, 0b00000010011100011100000110111101, 0b11111111101010100111000100000000, 0b11111010010011010000101100100111, 0b00000000110010000101110010110000, 0b11111010110001111011100000001000, 0b11111001000010100011110101110111, 0b11111101110010111001110000001100, 0b00000011100101100010111110111000, 0b11111010100101101100000101011111, 0b00000100101100000101001101011111, 0b00000100001001010100101011101111, 0b00000010011011111011001011001100, 0b00000111110111011000101011110011, 0b11111110000110001110000101101100, 0b11111111100101011100000000110001, 0b00000101000000100011110010011010, 0b11111100011110100011111001000110, 0b00000100010001111101111110010110, 0b11111000110001111000111111101001, 0b00000100101100000010110101101111, 0b11111001000000010000110110101100, 0b11111010111110000011101001100000, 0b00000101100010110111001111010111, 0b00000001011100001011001010011010, 0b00000100011001010000001001001110, 0b11111011000110110110101100000100, 0b00000100001111011111110111111000, 0b00000100000010111010011011011000, 0b00000011001010000100011001111110, 0b00000100110011101100100001000001, 0b11111010010010101000000011100001, 0b00000000010010111110110100110000, 0b11111110001001011010010100110011, 0b11111110000101000000000001001001, 0b00000000111111101110001010111100, 0b11111011100110000100001101110000, 0b00000111100001011100011101110110, 0b11111001010100001000110000110001, 0b11111011110000100110000111101100, 0b11111100101110111111101110110001, 0b00000001111110000000011101101011, 0b11111110010000001010001100011011, 0b00000001101110001011110011100000, 0b11111110111011010000110010100111, 0b11111011110111101101110001011000, 0b11111111111110010100100001111001, 0b11111000011100010110110110000100, 0b11111010111001110110110010110010, 0b11111010000001101111010100000000, 0b11111000111110111101110010111001, 0b11111110100110100010100011011000, 0b00000110111111101001100110111001, 0b11111110101011100101010010100100, 0b00000110110010101001011101101001, 0b00000000110010110100010011110111, 0b11111110111010101010100010000110, 0b00000110110000011001000111011000, 0b11111011101001110001001000001010, 0b00000100000111111100010110110000, 0b11111100000000100110110010001011, 0b11111100100011110010101110011000, 0b11111100110111110100000101101101, 0b00000011111010110111010001010101, 0b00000111110000001011011000100100, 0b00000101111010110101100010101000, 0b11111110000010101111000001010111, 0b11111011100110010010010100010100, 0b00000111001000110110100001111100, 0b00000100100110011011010001111101, 0b11111111011010000111101001010011, 0b11111010011101111101000010000111, 0b11111000100000101101110011100001, 0b11111110011010000101111011111101, 0b11111110010000101010100011101110, 0b00000011000000101100011111100101, 0b00000110110110000000000001110110, 0b00000010001000010101011100001111, 0b11111000010111011110010100001100, 0b00000100000111100010011000101001, 0b00000000100000101110111101011011, 0b00000111111100001110110001001111, 0b11111011011010000000111001101101, 0b00000010001111111110101100110010, 0b00000010001110110010000000111111, 0b00000111000101010001010110100100, 0b00000011011010111000000111111001, 0b00000100010010001100001111010111, 0b00000001000001001001111011010011, 0b11111000100011100010010010001010, 0b11111100100000011000111111011110, 0b11111010100011111010101000100100, 0b11111100110011101001011000000001, 0b11111101110110000111111011101101, 0b11111111100101011101001100010100, 0b00000100010101101001110100110111, 0b00000100011011111010100110000110, 0b00000100011000110010110111000101, 0b00000111010110111001101000010011, 0b11111011100110100101100100011111, 0b11111101011010010110011110110001, 0b11111001001010000111101101110011, 0b00000000100110011101110100001111, 0b00000000101001111000010110111000, 0b11111101111100011001000110011011, 0b11111001110100101010111111110001, 0b11111111111001110111100100110000, 0b11111000100100100011001111000011, 0b00000101101101101011100000101111, 0b11111011101100010000101011100100, 0b11111000001000100001101010100101, 0b00000111100111001010111100011110, 0b00000100011001010011000001100010, 0b00000100011110000010111011101111, 0b11111011100000011010010111010000, 0b00000010011100001101111001101111, 0b11111101011011101001110011011101, 0b11111101111000001110000000110110, 0b11111001000011100011111011001011, 0b00000101100000100010101000001001, 0b11111000000100100011100010000111, 0b00000000100011010001001001011011, 0b00000100101100011011100101010011, 0b11111101111000110110011100001100, 0b00000100010011111111101000110000, 0b00000101001011001011000010011110, 0b11111100111010001000100001101110, 0b00000100000110001111101011011101, 0b00000000011101000100010101000101, 0b11111001101111001100110011001101, 0b11111111010110101111111110100100, 0b00000010100010110001011110101111, 0b00000101000100001110011110001010, 0b11111011100011011010000001110011, 0b00000010000000110111011100000111, 0b11111011011011110110001101011001, 0b00000011100011011110001011100100, 0b11111010000100000010010011000001, '"
      ]
     },
     "execution_count": 329,
     "metadata": {},
     "output_type": "execute_result"
    }
   ],
   "source": [
    "''.join([f\"0b{k}, \" for k in weights[0][:-1,0]])"
   ]
  },
  {
   "cell_type": "code",
   "execution_count": null,
   "id": "c1cd9e1b-5d8f-44d3-a7bc-b7526f18fc5f",
   "metadata": {},
   "outputs": [],
   "source": []
  },
  {
   "cell_type": "code",
   "execution_count": null,
   "id": "3e84042c-0e5c-4fe4-85ee-b5334fcf180b",
   "metadata": {},
   "outputs": [],
   "source": []
  },
  {
   "cell_type": "code",
   "execution_count": null,
   "id": "49c387ea-9067-481a-b992-3d91cb859641",
   "metadata": {},
   "outputs": [],
   "source": []
  },
  {
   "cell_type": "code",
   "execution_count": null,
   "id": "367b7e89-ee32-4fcb-becc-bae6a83b43d8",
   "metadata": {},
   "outputs": [],
   "source": []
  },
  {
   "cell_type": "code",
   "execution_count": null,
   "id": "2ea3062a-f5bb-4187-a13d-9776e3a69e5d",
   "metadata": {},
   "outputs": [],
   "source": []
  }
 ],
 "metadata": {
  "kernelspec": {
   "display_name": "Python 3 (ipykernel)",
   "language": "python",
   "name": "python3"
  },
  "language_info": {
   "codemirror_mode": {
    "name": "ipython",
    "version": 3
   },
   "file_extension": ".py",
   "mimetype": "text/x-python",
   "name": "python",
   "nbconvert_exporter": "python",
   "pygments_lexer": "ipython3",
   "version": "3.12.2"
  }
 },
 "nbformat": 4,
 "nbformat_minor": 5
}
