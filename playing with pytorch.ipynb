{
 "cells": [
  {
   "cell_type": "code",
   "execution_count": 1,
   "id": "85e3cd61-2f94-4dc2-82c6-0c1a38d7c05a",
   "metadata": {},
   "outputs": [],
   "source": [
    "import torch\n",
    "from torch import nn\n",
    "from torch.utils.data import Dataset\n",
    "from torchvision import datasets\n",
    "from torchvision.transforms import ToTensor\n",
    "import matplotlib.pyplot as plt\n",
    "import seaborn as sns\n",
    "\n"
   ]
  },
  {
   "cell_type": "code",
   "execution_count": 2,
   "id": "f5abf81c-4bcc-4a51-950a-ca8459796024",
   "metadata": {},
   "outputs": [
    {
     "name": "stdout",
     "output_type": "stream",
     "text": [
      "Using cpu device\n"
     ]
    }
   ],
   "source": [
    "device = (\n",
    "    \"cuda\"\n",
    "    if torch.cuda.is_available()\n",
    "    else \"mps\"\n",
    "    if torch.backends.mps.is_available()\n",
    "    else \"cpu\"\n",
    ")\n",
    "print(f\"Using {device} device\")"
   ]
  },
  {
   "cell_type": "code",
   "execution_count": 3,
   "id": "0f420e65-7c4a-40c7-8d38-c8de52eafc6d",
   "metadata": {},
   "outputs": [],
   "source": [
    "training_data = datasets.MNIST(\n",
    "    root=\"data\",\n",
    "    train=True,\n",
    "    download=True,\n",
    "    transform=ToTensor()\n",
    ")"
   ]
  },
  {
   "cell_type": "code",
   "execution_count": 4,
   "id": "836bb50f-e3df-4e41-a57a-c1a993cb92c0",
   "metadata": {},
   "outputs": [],
   "source": [
    "class NeuralNetwork(nn.Module):\n",
    "    def __init__(self):\n",
    "        super().__init__()\n",
    "        self.flatten = nn.Flatten()\n",
    "        self.linear_relu_stack = nn.Sequential(\n",
    "            nn.Linear(28*28, 512),\n",
    "            nn.ReLU(),\n",
    "            nn.Linear(512, 512),\n",
    "            nn.ReLU(),\n",
    "            nn.Linear(512, 10),\n",
    "        )\n",
    "\n",
    "    def forward(self, x):\n",
    "        x = self.flatten(x)\n",
    "        logits = self.linear_relu_stack(x)\n",
    "        return logits"
   ]
  },
  {
   "cell_type": "code",
   "execution_count": 5,
   "id": "aecadcb9-5af8-4730-8c4c-bb175270fff3",
   "metadata": {},
   "outputs": [
    {
     "name": "stdout",
     "output_type": "stream",
     "text": [
      "NeuralNetwork(\n",
      "  (flatten): Flatten(start_dim=1, end_dim=-1)\n",
      "  (linear_relu_stack): Sequential(\n",
      "    (0): Linear(in_features=784, out_features=512, bias=True)\n",
      "    (1): ReLU()\n",
      "    (2): Linear(in_features=512, out_features=512, bias=True)\n",
      "    (3): ReLU()\n",
      "    (4): Linear(in_features=512, out_features=10, bias=True)\n",
      "  )\n",
      ")\n"
     ]
    }
   ],
   "source": [
    "model = NeuralNetwork().to(device)\n",
    "print(model)"
   ]
  },
  {
   "cell_type": "code",
   "execution_count": 6,
   "id": "3d76bee9-cd62-4acf-b654-8c36b7358259",
   "metadata": {},
   "outputs": [
    {
     "name": "stdout",
     "output_type": "stream",
     "text": [
      "Predicted class: tensor([6])\n"
     ]
    }
   ],
   "source": [
    "X = torch.rand(1, 28, 28, device=device)\n",
    "logits = model(X)\n",
    "pred_probab = nn.Softmax(dim=1)(logits)\n",
    "y_pred = pred_probab.argmax(1)\n",
    "print(f\"Predicted class: {y_pred}\")"
   ]
  },
  {
   "cell_type": "code",
   "execution_count": 7,
   "id": "dfd90fe9-4d7b-4361-91b6-7e97ff870c7d",
   "metadata": {},
   "outputs": [
    {
     "name": "stdout",
     "output_type": "stream",
     "text": [
      "torch.Size([3, 28, 28])\n"
     ]
    }
   ],
   "source": [
    "input_image = torch.rand(3,28,28)\n",
    "print(input_image.size())"
   ]
  },
  {
   "cell_type": "code",
   "execution_count": 8,
   "id": "83ba69da-ff9d-4f34-a12c-d813610d4664",
   "metadata": {},
   "outputs": [
    {
     "name": "stdout",
     "output_type": "stream",
     "text": [
      "torch.Size([3, 784])\n"
     ]
    }
   ],
   "source": [
    "flatten = nn.Flatten()\n",
    "flat_image = flatten(input_image)\n",
    "print(flat_image.size())"
   ]
  },
  {
   "cell_type": "code",
   "execution_count": 9,
   "id": "e3a1544f-0c7b-4230-9135-3dc71151ce16",
   "metadata": {},
   "outputs": [
    {
     "name": "stdout",
     "output_type": "stream",
     "text": [
      "torch.Size([3, 20])\n"
     ]
    }
   ],
   "source": [
    "layer1 = nn.Linear(in_features=28*28, out_features=20)\n",
    "hidden1 = layer1(flat_image)\n",
    "print(hidden1.size())"
   ]
  },
  {
   "cell_type": "code",
   "execution_count": 10,
   "id": "ac36458b-8bde-4463-a5bc-7e02c9084fc5",
   "metadata": {},
   "outputs": [
    {
     "name": "stdout",
     "output_type": "stream",
     "text": [
      "Before ReLU: tensor([[-0.2951,  0.1591, -0.2727, -0.4405,  0.1777,  1.2003, -0.4262, -0.2455,\n",
      "          0.0814, -0.1210, -0.1907, -0.0996,  0.0729,  0.2170, -0.7181,  0.0520,\n",
      "         -0.5354,  0.1103,  0.3493,  0.4051],\n",
      "        [-0.6454,  0.1329, -0.2464, -0.0776, -0.0026,  0.9693, -0.2572, -0.0341,\n",
      "          0.0243, -0.2219,  0.0418, -0.4036,  0.1797, -0.0640, -0.6706, -0.1469,\n",
      "         -0.2963,  0.5646,  0.1740,  0.5216],\n",
      "        [-0.3938,  0.1751, -0.0797, -0.0661,  0.0436,  1.4514, -0.3583, -0.2061,\n",
      "          0.1647, -0.2465,  0.1508,  0.0847,  0.1299,  0.4314, -0.7667, -0.2274,\n",
      "         -0.1000,  0.0451,  0.4541,  0.6681]], grad_fn=<AddmmBackward0>)\n",
      "\n",
      "\n",
      "After ReLU: tensor([[0.0000, 0.1591, 0.0000, 0.0000, 0.1777, 1.2003, 0.0000, 0.0000, 0.0814,\n",
      "         0.0000, 0.0000, 0.0000, 0.0729, 0.2170, 0.0000, 0.0520, 0.0000, 0.1103,\n",
      "         0.3493, 0.4051],\n",
      "        [0.0000, 0.1329, 0.0000, 0.0000, 0.0000, 0.9693, 0.0000, 0.0000, 0.0243,\n",
      "         0.0000, 0.0418, 0.0000, 0.1797, 0.0000, 0.0000, 0.0000, 0.0000, 0.5646,\n",
      "         0.1740, 0.5216],\n",
      "        [0.0000, 0.1751, 0.0000, 0.0000, 0.0436, 1.4514, 0.0000, 0.0000, 0.1647,\n",
      "         0.0000, 0.1508, 0.0847, 0.1299, 0.4314, 0.0000, 0.0000, 0.0000, 0.0451,\n",
      "         0.4541, 0.6681]], grad_fn=<ReluBackward0>)\n"
     ]
    }
   ],
   "source": [
    "print(f\"Before ReLU: {hidden1}\\n\\n\")\n",
    "hidden1 = nn.ReLU()(hidden1)\n",
    "print(f\"After ReLU: {hidden1}\")"
   ]
  },
  {
   "cell_type": "code",
   "execution_count": 11,
   "id": "f052cd8a-4f67-4204-a227-13705cf6755d",
   "metadata": {},
   "outputs": [],
   "source": [
    "seq_modules = nn.Sequential(\n",
    "    flatten,\n",
    "    layer1,\n",
    "    nn.ReLU(),\n",
    "    nn.Linear(20, 10)\n",
    ")\n",
    "input_image = torch.rand(3,28,28)\n",
    "logits = seq_modules(input_image)"
   ]
  },
  {
   "cell_type": "code",
   "execution_count": 12,
   "id": "ecd532a7-7f8b-4be6-86c6-ffd7757125a9",
   "metadata": {},
   "outputs": [],
   "source": [
    "softmax = nn.Softmax(dim=1)\n",
    "pred_probab = softmax(logits)"
   ]
  },
  {
   "cell_type": "code",
   "execution_count": 13,
   "id": "53224d0b-6bc3-4370-82ce-ac692957e931",
   "metadata": {},
   "outputs": [
    {
     "name": "stdout",
     "output_type": "stream",
     "text": [
      "Model structure: NeuralNetwork(\n",
      "  (flatten): Flatten(start_dim=1, end_dim=-1)\n",
      "  (linear_relu_stack): Sequential(\n",
      "    (0): Linear(in_features=784, out_features=512, bias=True)\n",
      "    (1): ReLU()\n",
      "    (2): Linear(in_features=512, out_features=512, bias=True)\n",
      "    (3): ReLU()\n",
      "    (4): Linear(in_features=512, out_features=10, bias=True)\n",
      "  )\n",
      ")\n",
      "\n",
      "\n",
      "Layer: linear_relu_stack.0.weight | Size: torch.Size([512, 784]) | Values : tensor([[ 0.0299,  0.0277,  0.0172,  ..., -0.0346, -0.0074, -0.0150],\n",
      "        [-0.0293,  0.0331,  0.0135,  ..., -0.0258, -0.0192, -0.0227]],\n",
      "       grad_fn=<SliceBackward0>) \n",
      "\n",
      "Layer: linear_relu_stack.0.bias | Size: torch.Size([512]) | Values : tensor([0.0239, 0.0227], grad_fn=<SliceBackward0>) \n",
      "\n",
      "Layer: linear_relu_stack.2.weight | Size: torch.Size([512, 512]) | Values : tensor([[-0.0157, -0.0005, -0.0126,  ..., -0.0119, -0.0156,  0.0244],\n",
      "        [-0.0074,  0.0057, -0.0377,  ...,  0.0411,  0.0071,  0.0217]],\n",
      "       grad_fn=<SliceBackward0>) \n",
      "\n",
      "Layer: linear_relu_stack.2.bias | Size: torch.Size([512]) | Values : tensor([-0.0262,  0.0193], grad_fn=<SliceBackward0>) \n",
      "\n",
      "Layer: linear_relu_stack.4.weight | Size: torch.Size([10, 512]) | Values : tensor([[ 0.0151, -0.0413, -0.0062,  ...,  0.0023,  0.0168, -0.0018],\n",
      "        [-0.0418,  0.0094,  0.0441,  ...,  0.0303,  0.0372,  0.0393]],\n",
      "       grad_fn=<SliceBackward0>) \n",
      "\n",
      "Layer: linear_relu_stack.4.bias | Size: torch.Size([10]) | Values : tensor([-0.0435,  0.0141], grad_fn=<SliceBackward0>) \n",
      "\n"
     ]
    }
   ],
   "source": [
    "print(f\"Model structure: {model}\\n\\n\")\n",
    "\n",
    "for name, param in model.named_parameters():\n",
    "    print(f\"Layer: {name} | Size: {param.size()} | Values : {param[:2]} \\n\")"
   ]
  },
  {
   "cell_type": "code",
   "execution_count": 14,
   "id": "e70b3ab8-07b7-4a81-9bb7-1c2ae11cf939",
   "metadata": {},
   "outputs": [],
   "source": [
    "import torch\n",
    "\n",
    "x = torch.ones(5)  # input tensor\n",
    "y = torch.zeros(3)  # expected output\n",
    "w = torch.randn(5, 3, requires_grad=True)\n",
    "b = torch.randn(3, requires_grad=True)\n",
    "z = torch.matmul(x, w)+b\n",
    "loss = torch.nn.functional.binary_cross_entropy_with_logits(z, y)"
   ]
  },
  {
   "cell_type": "code",
   "execution_count": 15,
   "id": "20e32a49-f66e-42fa-a723-43ce9bce3400",
   "metadata": {},
   "outputs": [
    {
     "data": {
      "text/plain": [
       "(tensor([1., 1., 1., 1., 1.]),\n",
       " tensor([0., 0., 0.]),\n",
       " tensor([[ 1.1523,  0.1948, -1.3081],\n",
       "         [-0.0431, -1.4665, -0.8617],\n",
       "         [-0.4204, -0.7548, -1.2543],\n",
       "         [-0.9509,  0.9214, -0.8696],\n",
       "         [-0.1036,  1.4831, -0.6839]], requires_grad=True),\n",
       " tensor([0.4282, 1.2626, 0.2922], requires_grad=True),\n",
       " tensor([ 0.0625,  1.6407, -4.6854], grad_fn=<AddBackward0>),\n",
       " tensor(0.8506, grad_fn=<BinaryCrossEntropyWithLogitsBackward0>))"
      ]
     },
     "execution_count": 15,
     "metadata": {},
     "output_type": "execute_result"
    }
   ],
   "source": [
    "x,y,w,b,z,loss"
   ]
  },
  {
   "cell_type": "code",
   "execution_count": 16,
   "id": "de4f32b9-de53-42a9-aa0d-3ed041905802",
   "metadata": {},
   "outputs": [
    {
     "name": "stdout",
     "output_type": "stream",
     "text": [
      "Gradient function for z = <AddBackward0 object at 0x000002448947DF30>\n",
      "Gradient function for loss = <BinaryCrossEntropyWithLogitsBackward0 object at 0x0000024489C55690>\n"
     ]
    }
   ],
   "source": [
    " print(f\"Gradient function for z = {z.grad_fn}\")\n",
    "print(f\"Gradient function for loss = {loss.grad_fn}\")"
   ]
  },
  {
   "cell_type": "code",
   "execution_count": null,
   "id": "b9e3d776-6dc6-46f9-b4a1-8a65ff7192c4",
   "metadata": {},
   "outputs": [],
   "source": []
  },
  {
   "cell_type": "code",
   "execution_count": null,
   "id": "aff03bf0-3693-4ef5-bbb5-2c6a8001dd02",
   "metadata": {},
   "outputs": [],
   "source": []
  },
  {
   "cell_type": "code",
   "execution_count": null,
   "id": "32411ab2-a6c1-4497-8637-1995fea385ff",
   "metadata": {},
   "outputs": [],
   "source": []
  },
  {
   "cell_type": "code",
   "execution_count": null,
   "id": "ef341a91-ef05-4f54-85fe-6d8103e6eb47",
   "metadata": {},
   "outputs": [],
   "source": []
  },
  {
   "cell_type": "code",
   "execution_count": null,
   "id": "8b8c6003-768f-44e6-8ffa-77684fbee7a0",
   "metadata": {},
   "outputs": [],
   "source": []
  }
 ],
 "metadata": {
  "kernelspec": {
   "display_name": "Python 3 (ipykernel)",
   "language": "python",
   "name": "python3"
  },
  "language_info": {
   "codemirror_mode": {
    "name": "ipython",
    "version": 3
   },
   "file_extension": ".py",
   "mimetype": "text/x-python",
   "name": "python",
   "nbconvert_exporter": "python",
   "pygments_lexer": "ipython3",
   "version": "3.12.2"
  }
 },
 "nbformat": 4,
 "nbformat_minor": 5
}
