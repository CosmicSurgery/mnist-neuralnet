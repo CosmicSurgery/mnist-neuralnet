{
 "cells": [
  {
   "cell_type": "code",
   "execution_count": 153,
   "id": "ad0776fd-8a9f-49ac-b723-eedcce7c2093",
   "metadata": {},
   "outputs": [],
   "source": [
    "import torch\n",
    "from torch import nn\n",
    "from torch.utils.data import Dataset\n",
    "from torchvision import datasets\n",
    "from torch.utils.data import DataLoader\n",
    "from torchvision.transforms import ToTensor\n",
    "import matplotlib.pyplot as plt\n",
    "import seaborn as sns\n",
    "import numpy as np"
   ]
  },
  {
   "cell_type": "code",
   "execution_count": 154,
   "id": "d4138c02-2842-4738-ac74-6238bff2d762",
   "metadata": {},
   "outputs": [
    {
     "name": "stdout",
     "output_type": "stream",
     "text": [
      "Using cpu device\n"
     ]
    }
   ],
   "source": [
    "device = (\n",
    "    \"cuda\"\n",
    "    if torch.cuda.is_available()\n",
    "    else \"mps\"\n",
    "    if torch.backends.mps.is_available()\n",
    "    else \"cpu\"\n",
    ")\n",
    "print(f\"Using {device} device\")\n",
    "\n",
    "training_data = datasets.MNIST(\n",
    "    root=\"data\",\n",
    "    train=True,\n",
    "    download=True,\n",
    "    transform=ToTensor()\n",
    ")\n",
    "test_data = datasets.MNIST(\n",
    "    root=\"data\",\n",
    "    train=False,\n",
    "    download=True,\n",
    "    transform=ToTensor()\n",
    ")\n",
    "epochs = 10\n",
    "lr = 1e-3\n",
    "\n",
    "def get_data(training_data, test_data):\n",
    "    return (\n",
    "        DataLoader(training_data), #, shuffle=True),\n",
    "        DataLoader(test_data),\n",
    "    )\n",
    "\n",
    "train_dl, valid_dl = get_data(training_data, test_data)\n",
    "train_dataloader = DataLoader(training_data, batch_size=1)\n",
    "test_dataloader = DataLoader(test_data, batch_size=1)"
   ]
  },
  {
   "cell_type": "code",
   "execution_count": 155,
   "id": "8cd17e25-57b1-4db0-ada4-d4588b0d5121",
   "metadata": {},
   "outputs": [
    {
     "data": {
      "text/plain": [
       "(torch.Size([784]), torch.Size([]))"
      ]
     },
     "execution_count": 155,
     "metadata": {},
     "output_type": "execute_result"
    }
   ],
   "source": [
    "x1,y1 = next(iter(train_dl))\n",
    "x1, y1 =x1.flatten(), y1.squeeze()\n",
    "x1.shape, y1.shape"
   ]
  },
  {
   "cell_type": "code",
   "execution_count": 156,
   "id": "b0340886-c3f1-4b2d-b32c-3396fe3d3a1e",
   "metadata": {},
   "outputs": [],
   "source": [
    "# Define model\n",
    "class NeuralNetwork(nn.Module):\n",
    "    def __init__(self):\n",
    "        super().__init__()\n",
    "        self.flatten = nn.Flatten()\n",
    "        self.linear_relu_stack = nn.Sequential(\n",
    "            nn.Linear(28*28, 10),\n",
    "            nn.ReLU(),\n",
    "            nn.Linear(10, 10)\n",
    "        )\n",
    "\n",
    "    def forward(self, x):\n",
    "        x = self.flatten(x)\n",
    "        logits = self.linear_relu_stack(x)\n",
    "        return logits"
   ]
  },
  {
   "cell_type": "code",
   "execution_count": 157,
   "id": "d7e37d7c-bb5b-44b8-b1a3-7ddb20ad2bd6",
   "metadata": {},
   "outputs": [],
   "source": [
    "def forward_one(dataloader, model, loss_fn, optimizer):\n",
    "    X, y1 = next(iter(dataloader))\n",
    "    X =  X[0][None,:]\n",
    "    y1 = y1[None,:][:,0]\n",
    "    pred = model(X)\n",
    "    loss = loss_fn(pred, y1)\n",
    "    return loss"
   ]
  },
  {
   "cell_type": "code",
   "execution_count": 158,
   "id": "becf6625-df14-4cc0-a231-822e2167b771",
   "metadata": {},
   "outputs": [],
   "source": [
    "def train_one(dataloader, model, loss_fn, optimizer):\n",
    "    model.train()\n",
    "    X, y1 = next(iter(dataloader))\n",
    "    X =  X[0][None,:]\n",
    "    y1 = y1[None,:][:,0]\n",
    "    pred = model(X)\n",
    "    loss = loss_fn(pred, y1)\n",
    "    loss.backward()\n",
    "    optimizer.step()\n",
    "    optimizer.zero_grad()\n",
    "    return loss"
   ]
  },
  {
   "cell_type": "code",
   "execution_count": 159,
   "id": "df7eb3b2-7611-4342-91cc-907ae0ef9959",
   "metadata": {},
   "outputs": [
    {
     "data": {
      "text/plain": [
       "(torch.Size([784]), torch.Size([]))"
      ]
     },
     "execution_count": 159,
     "metadata": {},
     "output_type": "execute_result"
    }
   ],
   "source": [
    "x1,y1 = next(iter(train_dl))\n",
    "x1, y1 =x1.flatten(), y1.squeeze()\n",
    "x1.shape, y1.shape"
   ]
  },
  {
   "cell_type": "code",
   "execution_count": 120,
   "id": "ac3cb609-689e-45cc-8bdf-e3a6c417b13d",
   "metadata": {},
   "outputs": [],
   "source": [
    "# x1, y1 = next(iter(train_dataloader))\n",
    "# x1 =  x1[0][None,:]\n",
    "# y1 = y1[None,:][:,0]\n",
    "# y1"
   ]
  },
  {
   "cell_type": "code",
   "execution_count": 160,
   "id": "20955ba6-20e1-4d5d-859c-de18f4ada922",
   "metadata": {},
   "outputs": [
    {
     "name": "stdout",
     "output_type": "stream",
     "text": [
      "NeuralNetwork(\n",
      "  (flatten): Flatten(start_dim=1, end_dim=-1)\n",
      "  (linear_relu_stack): Sequential(\n",
      "    (0): Linear(in_features=784, out_features=10, bias=True)\n",
      "    (1): ReLU()\n",
      "    (2): Linear(in_features=10, out_features=10, bias=True)\n",
      "  )\n",
      ")\n"
     ]
    }
   ],
   "source": [
    "torch.manual_seed(0)\n",
    "model = NeuralNetwork().to(device)\n",
    "torch.save(model.state_dict(), \"tinymodel.pth\")\n",
    "model.load_state_dict(torch.load('tinymodel.pth'))\n",
    "print(model)"
   ]
  },
  {
   "cell_type": "code",
   "execution_count": 161,
   "id": "29eb09e1-49f9-45b4-9146-7635fbf39ae2",
   "metadata": {},
   "outputs": [],
   "source": [
    "state_dict = torch.load('tinymodel.pth')\n",
    "weights = []\n",
    "weights.append(state_dict['linear_relu_stack.0.weight'].clone())\n",
    "weights.append(state_dict['linear_relu_stack.2.weight'].clone())\n",
    "bias = []\n",
    "bias.append(state_dict['linear_relu_stack.0.bias'].clone())\n",
    "bias.append(state_dict['linear_relu_stack.2.bias'].clone())"
   ]
  },
  {
   "cell_type": "code",
   "execution_count": 178,
   "id": "52891dfc-20b9-4fe1-8204-563237c2d0ea",
   "metadata": {},
   "outputs": [],
   "source": [
    "def relu(X):\n",
    "    X[X<0] = 0\n",
    "    return X\n",
    "\n",
    "def d_relu(l):\n",
    "    d = a[l].clone()\n",
    "    d[a[l] < 0] = 0\n",
    "    d[a[l] > 0] = 1\n",
    "    return d\n",
    "\n",
    "def softmax(x):\n",
    "    return x.exp() / x.exp().sum()\n",
    "\n",
    "def delta_l(y_pred, y, l):\n",
    "    if l == len(weights)-1: # This means it's the last layer... must be a vector\n",
    "        y_ = torch.zeros(len(y_pred))\n",
    "        y_[y] = 1\n",
    "        return (y_pred - y_)[None,:]\n",
    "    else:\n",
    "        return (weights[l+1].T@delta_l(y_pred,y,l+1).T)@d_relu(l)\n",
    "    \n",
    "activations = []\n",
    "activations.append(relu)\n",
    "activations.append(softmax)\n",
    "    \n",
    "def forward(X):\n",
    "    a = [X]\n",
    "    \n",
    "    for w,b,func in zip(weights, bias, activations):\n",
    "        a.append(func(a[-1]@w.T+b))\n",
    "    return a\n",
    "\n",
    "def cross_entropy(y_pred,y):\n",
    "    return -y_pred[y].log()\n",
    "\n",
    "def backward(y_pred,y): # hard-wired backprop...\n",
    "    loss_L = delta_l(y_pred,y1,1)\n",
    "    weights[1] -= lr * (a[1][None,:].T@loss_L).T\n",
    "    bias[1] -= lr * loss_L.squeeze()\n",
    "\n",
    "    loss_l = ((weights[1].T@delta_l(y_pred,y,1).T).T*d_relu(1))\n",
    "\n",
    "    weights[0] -= lr * (a[0][None,:].T@loss_l).T\n",
    "    bias[0] -= lr * loss_l.squeeze()\n",
    "        \n",
    "    loss = cross_entropy(y_pred,y)\n",
    "    return loss\n",
    "\n"
   ]
  },
  {
   "cell_type": "code",
   "execution_count": 124,
   "id": "17d41711-16fd-48f7-97fb-333ecb4721f1",
   "metadata": {},
   "outputs": [
    {
     "data": {
      "text/plain": [
       "<Axes: >"
      ]
     },
     "execution_count": 124,
     "metadata": {},
     "output_type": "execute_result"
    },
    {
     "data": {
      "image/png": "[encoded data removed]",
      "text/plain": [
       "<Figure size 640x480 with 2 Axes>"
      ]
     },
     "metadata": {},
     "output_type": "display_data"
    }
   ],
   "source": [
    "import seaborn_image as isns\n",
    "isns.imgplot(x1.reshape(28,28))"
   ]
  },
  {
   "cell_type": "code",
   "execution_count": 163,
   "id": "5a4a9fdb-8ec0-47df-881a-043d772e77ec",
   "metadata": {},
   "outputs": [
    {
     "data": {
      "text/plain": [
       "tensor(2.3997, grad_fn=<NllLossBackward0>)"
      ]
     },
     "execution_count": 163,
     "metadata": {},
     "output_type": "execute_result"
    }
   ],
   "source": [
    "loss_fn = nn.CrossEntropyLoss()\n",
    "optimizer = torch.optim.SGD(model.parameters(), lr=1e-3)\n",
    "train_one(train_dataloader, model, loss_fn, optimizer)"
   ]
  },
  {
   "cell_type": "code",
   "execution_count": 164,
   "id": "235a0fc9-a871-4bb9-8081-772c21efb748",
   "metadata": {},
   "outputs": [
    {
     "data": {
      "text/plain": [
       "tensor(2.3997)"
      ]
     },
     "execution_count": 164,
     "metadata": {},
     "output_type": "execute_result"
    }
   ],
   "source": [
    "a = forward(x1)\n",
    "cross_entropy(a[-1],y1)\n",
    "backward(a[-1],y1)"
   ]
  },
  {
   "cell_type": "code",
   "execution_count": 165,
   "id": "0427e9b9-0dce-4904-8d67-ddbc7da29fd5",
   "metadata": {},
   "outputs": [
    {
     "data": {
      "text/plain": [
       "False"
      ]
     },
     "execution_count": 165,
     "metadata": {},
     "output_type": "execute_result"
    }
   ],
   "source": [
    "bool(not sum(bias[-2] != model.state_dict()['linear_relu_stack.0.bias']))"
   ]
  },
  {
   "cell_type": "code",
   "execution_count": 166,
   "id": "bf6f0ae4-121f-4d4c-881a-d9a585215d57",
   "metadata": {},
   "outputs": [
    {
     "data": {
      "text/plain": [
       "True"
      ]
     },
     "execution_count": 166,
     "metadata": {},
     "output_type": "execute_result"
    }
   ],
   "source": [
    "bool(not sum(bias[-1] != model.state_dict()['linear_relu_stack.2.bias']))"
   ]
  },
  {
   "cell_type": "code",
   "execution_count": 173,
   "id": "654f1c65-da47-4a36-a150-dfcedf3108e0",
   "metadata": {
    "scrolled": true
   },
   "outputs": [
    {
     "data": {
      "text/plain": [
       "False"
      ]
     },
     "execution_count": 173,
     "metadata": {},
     "output_type": "execute_result"
    }
   ],
   "source": [
    "bool(not (weights[-2] != model.state_dict()['linear_relu_stack.0.weight']).sum())"
   ]
  },
  {
   "cell_type": "code",
   "execution_count": 168,
   "id": "fdcb0186-651f-4024-af6e-04628303e856",
   "metadata": {},
   "outputs": [
    {
     "data": {
      "text/plain": [
       "True"
      ]
     },
     "execution_count": 168,
     "metadata": {},
     "output_type": "execute_result"
    }
   ],
   "source": [
    "bool(not (weights[-1][y1] != model.state_dict()['linear_relu_stack.2.weight'][y1]).sum())"
   ]
  },
  {
   "cell_type": "code",
   "execution_count": 169,
   "id": "eef92a94-0270-4864-b192-592556eb631e",
   "metadata": {},
   "outputs": [
    {
     "data": {
      "text/plain": [
       "tensor(812)"
      ]
     },
     "execution_count": 169,
     "metadata": {},
     "output_type": "execute_result"
    }
   ],
   "source": [
    "(weights[-2] != model.state_dict()['linear_relu_stack.0.weight']).sum()"
   ]
  },
  {
   "cell_type": "code",
   "execution_count": 175,
   "id": "4785a3b0-a2d3-459f-bddf-344ba6ed65ca",
   "metadata": {
    "scrolled": true
   },
   "outputs": [
    {
     "data": {
      "text/plain": [
       "tensor([[False, False, False,  ..., False, False, False],\n",
       "        [False, False, False,  ..., False, False, False],\n",
       "        [False, False, False,  ..., False, False, False],\n",
       "        ...,\n",
       "        [False, False, False,  ..., False, False, False],\n",
       "        [False, False, False,  ..., False, False, False],\n",
       "        [False, False, False,  ..., False, False, False]])"
      ]
     },
     "execution_count": 175,
     "metadata": {},
     "output_type": "execute_result"
    }
   ],
   "source": [
    "(weights[-2] != model.state_dict()['linear_relu_stack.0.weight'])"
   ]
  },
  {
   "cell_type": "code",
   "execution_count": 176,
   "id": "8043d2b7-0091-4150-ad11-000633dfea1e",
   "metadata": {
    "scrolled": true
   },
   "outputs": [
    {
     "data": {
      "text/plain": [
       "(tensor([[-0.0003,  0.0192, -0.0294,  ...,  0.0219,  0.0037,  0.0021],\n",
       "         [-0.0198, -0.0150, -0.0104,  ..., -0.0203, -0.0060, -0.0299],\n",
       "         [-0.0201,  0.0149, -0.0333,  ..., -0.0203,  0.0012,  0.0080],\n",
       "         ...,\n",
       "         [ 0.0237,  0.0103, -0.0219,  ...,  0.0088, -0.0009,  0.0009],\n",
       "         [ 0.0144, -0.0336, -0.0346,  ..., -0.0222, -0.0025, -0.0138],\n",
       "         [-0.0196, -0.0118,  0.0230,  ..., -0.0202,  0.0172,  0.0355]]),\n",
       " tensor([[-0.0003,  0.0192, -0.0294,  ...,  0.0219,  0.0037,  0.0021],\n",
       "         [-0.0198, -0.0150, -0.0104,  ..., -0.0203, -0.0060, -0.0299],\n",
       "         [-0.0201,  0.0149, -0.0333,  ..., -0.0203,  0.0012,  0.0080],\n",
       "         ...,\n",
       "         [ 0.0237,  0.0103, -0.0219,  ...,  0.0088, -0.0009,  0.0009],\n",
       "         [ 0.0144, -0.0336, -0.0346,  ..., -0.0222, -0.0025, -0.0138],\n",
       "         [-0.0196, -0.0118,  0.0230,  ..., -0.0202,  0.0172,  0.0355]]))"
      ]
     },
     "execution_count": 176,
     "metadata": {},
     "output_type": "execute_result"
    }
   ],
   "source": [
    "weights[-2], model.state_dict()['linear_relu_stack.0.weight']"
   ]
  },
  {
   "cell_type": "code",
   "execution_count": 177,
   "id": "8a57b5b5-019c-4dd0-a462-ca63644748e0",
   "metadata": {
    "scrolled": true
   },
   "outputs": [
    {
     "data": {
      "text/plain": [
       "tensor([[-0.0003,  0.0192, -0.0294,  ...,  0.0219,  0.0037,  0.0021],\n",
       "        [-0.0198, -0.0150, -0.0104,  ..., -0.0203, -0.0060, -0.0299],\n",
       "        [-0.0201,  0.0149, -0.0333,  ..., -0.0203,  0.0012,  0.0080],\n",
       "        ...,\n",
       "        [ 0.0237,  0.0103, -0.0219,  ...,  0.0088, -0.0009,  0.0009],\n",
       "        [ 0.0144, -0.0336, -0.0346,  ..., -0.0222, -0.0025, -0.0138],\n",
       "        [-0.0196, -0.0118,  0.0230,  ..., -0.0202,  0.0172,  0.0355]])"
      ]
     },
     "execution_count": 177,
     "metadata": {},
     "output_type": "execute_result"
    }
   ],
   "source": [
    "model.state_dict()['linear_relu_stack.0.weight']"
   ]
  },
  {
   "cell_type": "code",
   "execution_count": null,
   "id": "089e73ce-03c3-4df4-89bc-877f21876334",
   "metadata": {},
   "outputs": [],
   "source": []
  }
 ],
 "metadata": {
  "kernelspec": {
   "display_name": "Python 3 (ipykernel)",
   "language": "python",
   "name": "python3"
  },
  "language_info": {
   "codemirror_mode": {
    "name": "ipython",
    "version": 3
   },
   "file_extension": ".py",
   "mimetype": "text/x-python",
   "name": "python",
   "nbconvert_exporter": "python",
   "pygments_lexer": "ipython3",
   "version": "3.12.2"
  }
 },
 "nbformat": 4,
 "nbformat_minor": 5
}
