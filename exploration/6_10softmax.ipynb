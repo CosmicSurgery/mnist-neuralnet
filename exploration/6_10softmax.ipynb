{
 "cells": [
  {
   "cell_type": "code",
   "execution_count": 1,
   "id": "ff36d6f9-3991-4ca4-b147-c8e83ee003df",
   "metadata": {},
   "outputs": [],
   "source": [
    "import numpy as np"
   ]
  },
  {
   "cell_type": "code",
   "execution_count": 28,
   "id": "c4412f38-3352-40ee-a644-fac0ce60a283",
   "metadata": {},
   "outputs": [],
   "source": [
    "def taylor_n_terms(x,n):\n",
    "    N = np.arange(n,dtype=int)+1\n",
    "    print(N)\n",
    "    return sum([(x**k)/factorial(k) for k in N])+1\n",
    "    "
   ]
  },
  {
   "cell_type": "code",
   "execution_count": 39,
   "id": "1b7aa6fc-a4f9-471d-8f18-e87bfc100bf8",
   "metadata": {},
   "outputs": [],
   "source": [
    "def factorial(x):\n",
    "    result=1\n",
    "    if (type(x) != np.int32):\n",
    "        print(f\"must be integer, not: {type(x)}\")\n",
    "    elif x > 0 and x <100:\n",
    "        while(x>1):\n",
    "            result*=x\n",
    "            x-=1\n",
    "    else:\n",
    "        print(\"factorial outside range: 1-99\")\n",
    "    return result"
   ]
  },
  {
   "cell_type": "code",
   "execution_count": 40,
   "id": "b9c03096-88b5-40b2-b6cf-fe87911d728a",
   "metadata": {},
   "outputs": [
    {
     "name": "stdout",
     "output_type": "stream",
     "text": [
      "must be integer, not: <class 'int'>\n"
     ]
    },
    {
     "data": {
      "text/plain": [
       "1"
      ]
     },
     "execution_count": 40,
     "metadata": {},
     "output_type": "execute_result"
    }
   ],
   "source": [
    "factorial(2)"
   ]
  },
  {
   "cell_type": "code",
   "execution_count": 46,
   "id": "1fc1d233-5c7e-44bd-a29b-17bd2ec97fe6",
   "metadata": {},
   "outputs": [
    {
     "name": "stdout",
     "output_type": "stream",
     "text": [
      "[1 2]\n",
      "[1 2 3]\n",
      "[1 2 3 4]\n",
      "[1 2 3 4 5]\n"
     ]
    },
    {
     "data": {
      "text/plain": [
       "(1.54864162, 1.563647598028, 1.5653290178660373, 1.5654797403403191)"
      ]
     },
     "execution_count": 46,
     "metadata": {},
     "output_type": "execute_result"
    }
   ],
   "source": [
    "num = .4482\n",
    "taylor_n_terms(num,int(2)), taylor_n_terms(num,3), taylor_n_terms(num,4), taylor_n_terms(num,5)"
   ]
  },
  {
   "cell_type": "code",
   "execution_count": 47,
   "id": "f0642840-abdb-4d4e-9f94-04edc7800132",
   "metadata": {},
   "outputs": [
    {
     "data": {
      "text/plain": [
       "1.5654917626983131"
      ]
     },
     "execution_count": 47,
     "metadata": {},
     "output_type": "execute_result"
    }
   ],
   "source": [
    "np.e**num"
   ]
  },
  {
   "cell_type": "code",
   "execution_count": null,
   "id": "256f9b8f-b7f9-461b-a093-34758e756469",
   "metadata": {},
   "outputs": [],
   "source": []
  }
 ],
 "metadata": {
  "kernelspec": {
   "display_name": "Python 3 (ipykernel)",
   "language": "python",
   "name": "python3"
  },
  "language_info": {
   "codemirror_mode": {
    "name": "ipython",
    "version": 3
   },
   "file_extension": ".py",
   "mimetype": "text/x-python",
   "name": "python",
   "nbconvert_exporter": "python",
   "pygments_lexer": "ipython3",
   "version": "3.12.2"
  }
 },
 "nbformat": 4,
 "nbformat_minor": 5
}
