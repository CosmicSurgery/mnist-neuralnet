{
 "cells": [
  {
   "cell_type": "code",
   "execution_count": 1,
   "id": "ff36d6f9-3991-4ca4-b147-c8e83ee003df",
   "metadata": {},
   "outputs": [],
   "source": [
    "import numpy as np"
   ]
  },
  {
   "cell_type": "code",
   "execution_count": 2,
   "id": "c4412f38-3352-40ee-a644-fac0ce60a283",
   "metadata": {},
   "outputs": [
    {
     "ename": "SyntaxError",
     "evalue": "incomplete input (3218733674.py, line 1)",
     "output_type": "error",
     "traceback": [
      "\u001b[1;36m  Cell \u001b[1;32mIn[2], line 1\u001b[1;36m\u001b[0m\n\u001b[1;33m    def taylor_n_terms(x,n):\u001b[0m\n\u001b[1;37m                            ^\u001b[0m\n\u001b[1;31mSyntaxError\u001b[0m\u001b[1;31m:\u001b[0m incomplete input\n"
     ]
    }
   ],
   "source": [
    "def taylor_n_terms(x,n):\n",
    "    N = np.arange(n)+1\n",
    "    [k/factorial(i)]\n",
    "    "
   ]
  },
  {
   "cell_type": "code",
   "execution_count": 5,
   "id": "1b7aa6fc-a4f9-471d-8f18-e87bfc100bf8",
   "metadata": {},
   "outputs": [],
   "source": [
    "def factorial(x):\n",
    "    result=1\n",
    "    if (type(x) != int):\n",
    "        print(\"must be integer\")\n",
    "    elif x > 0 and x <100:\n",
    "        while(x>1):\n",
    "            result*=x\n",
    "            x-=1\n",
    "    else:\n",
    "        print(\"factorial outside range: 1-99\")\n",
    "    return result"
   ]
  },
  {
   "cell_type": "code",
   "execution_count": 9,
   "id": "b9c03096-88b5-40b2-b6cf-fe87911d728a",
   "metadata": {},
   "outputs": [
    {
     "data": {
      "text/plain": [
       "2"
      ]
     },
     "execution_count": 9,
     "metadata": {},
     "output_type": "execute_result"
    }
   ],
   "source": [
    "factorial(2)"
   ]
  },
  {
   "cell_type": "code",
   "execution_count": null,
   "id": "1fc1d233-5c7e-44bd-a29b-17bd2ec97fe6",
   "metadata": {},
   "outputs": [],
   "source": []
  }
 ],
 "metadata": {
  "kernelspec": {
   "display_name": "Python 3 (ipykernel)",
   "language": "python",
   "name": "python3"
  },
  "language_info": {
   "codemirror_mode": {
    "name": "ipython",
    "version": 3
   },
   "file_extension": ".py",
   "mimetype": "text/x-python",
   "name": "python",
   "nbconvert_exporter": "python",
   "pygments_lexer": "ipython3",
   "version": "3.12.2"
  }
 },
 "nbformat": 4,
 "nbformat_minor": 5
}
