{
 "cells": [
  {
   "cell_type": "code",
   "execution_count": 1,
   "id": "d88919c8-c47c-4740-bd3a-af1a9555529d",
   "metadata": {},
   "outputs": [],
   "source": [
    "import torch\n",
    "from torch import nn\n",
    "from torch.utils.data import Dataset\n",
    "from torchvision import datasets\n",
    "from torch.utils.data import DataLoader\n",
    "from torchvision.transforms import ToTensor\n",
    "import matplotlib.pyplot as plt\n",
    "import seaborn as sns\n",
    "import numpy as np"
   ]
  },
  {
   "cell_type": "code",
   "execution_count": 2,
   "id": "2e27198a-4301-473d-9ee2-1e12dbc6ce9e",
   "metadata": {},
   "outputs": [
    {
     "name": "stdout",
     "output_type": "stream",
     "text": [
      "Using cpu device\n"
     ]
    }
   ],
   "source": [
    "device = (\n",
    "    \"cuda\"\n",
    "    if torch.cuda.is_available()\n",
    "    else \"mps\"\n",
    "    if torch.backends.mps.is_available()\n",
    "    else \"cpu\"\n",
    ")\n",
    "print(f\"Using {device} device\")\n",
    "\n",
    "training_data = datasets.MNIST(\n",
    "    root=\"data\",\n",
    "    train=True,\n",
    "    download=True,\n",
    "    transform=ToTensor()\n",
    ")\n",
    "test_data = datasets.MNIST(\n",
    "    root=\"data\",\n",
    "    train=False,\n",
    "    download=True,\n",
    "    transform=ToTensor()\n",
    ")\n",
    "epochs = 10\n",
    "lr = 1e-3\n",
    "\n",
    "def get_data(training_data, test_data):\n",
    "    return (\n",
    "        DataLoader(training_data), #, shuffle=True),\n",
    "        DataLoader(test_data),\n",
    "    )\n",
    "\n",
    "train_dl, valid_dl = get_data(training_data, test_data)\n",
    "train_dataloader = DataLoader(training_data, batch_size=1)\n",
    "test_dataloader = DataLoader(test_data, batch_size=1)"
   ]
  },
  {
   "cell_type": "code",
   "execution_count": 3,
   "id": "c2fb4e58-19d8-4937-b1de-9622c44deab9",
   "metadata": {
    "scrolled": true
   },
   "outputs": [
    {
     "data": {
      "text/plain": [
       "(torch.Size([784]), torch.Size([]))"
      ]
     },
     "execution_count": 3,
     "metadata": {},
     "output_type": "execute_result"
    }
   ],
   "source": [
    "x1,y1 = next(iter(train_dl))\n",
    "x1, y1 =x1.flatten(), y1.squeeze()\n",
    "x1.shape, y1.shape"
   ]
  },
  {
   "cell_type": "code",
   "execution_count": 16,
   "id": "09be1b13-b164-4854-bf50-d8bf69b99e1c",
   "metadata": {},
   "outputs": [],
   "source": [
    "weights = []\n",
    "weights.append(state_dict['linear_relu_stack.0.weight'].clone())\n",
    "weights.append(state_dict['linear_relu_stack.2.weight'].clone())\n",
    "bias = []\n",
    "bias.append(state_dict['linear_relu_stack.0.bias'].clone())\n",
    "bias.append(state_dict['linear_relu_stack.2.bias'].clone())"
   ]
  },
  {
   "cell_type": "code",
   "execution_count": 17,
   "id": "2428a70a-96ed-46ae-8d83-54c93838bc4d",
   "metadata": {},
   "outputs": [],
   "source": [
    "def relu(X):\n",
    "    X[X<0] = 0\n",
    "    return X\n",
    "\n",
    "def d_relu(x):\n",
    "    d = x.clone()\n",
    "    d[x < 0] = 0\n",
    "    d[x > 0] = 1\n",
    "    return d\n",
    "\n",
    "def linear(x):\n",
    "    return x\n",
    "\n",
    "def softmax(x):\n",
    "    return x.exp() / x.exp().sum()\n",
    "\n",
    "def delta_l(y_pred, y, l):\n",
    "    if l == len(weights)-1: # This means it's the last layer... must be a vector\n",
    "        y_ = torch.zeros(len(y_pred))\n",
    "        y_[y] = 1\n",
    "        return (y_pred - y_)[None,:]\n",
    "    else:\n",
    "        return (weights[l+1].T@delta_l(y_pred,y,l+1).T)@d_relu(l)\n",
    "        # return weights[l].T@(delta_l(y_pred,y,l+1)*d_relu(l+1)).T\n",
    "    \n",
    "activations = []\n",
    "activations.append(relu)\n",
    "activations.append(linear)\n",
    "    \n",
    "def forward(X):\n",
    "    a = [X]\n",
    "    \n",
    "    for w,b,func in zip(weights, bias, activations):\n",
    "        a.append(func(a[-1]@w.T+b))\n",
    "    return a\n",
    "\n",
    "def cross_entropy(y_pred,y):\n",
    "    return -y_pred[y].log()\n",
    "\n",
    "def backward(a,y, lr=1e-3): # hard-wired backprop...\n",
    "    loss_L = delta_l(a[-1],y,1)\n",
    "    loss_l = ((weights[1].T@loss_L.T).T*d_relu(a[1]))\n",
    "    \n",
    "    weights[1] -= lr * (a[1][None,:].T@loss_L).T\n",
    "    bias[1] -= lr * loss_L.squeeze()\n",
    "    weights[0] -= lr * (a[0][None,:].T@loss_l).T\n",
    "    bias[0] -= lr * loss_l.squeeze()\n",
    "        \n",
    "    loss = cross_entropy(a[-1],y)\n",
    "    return loss\n"
   ]
  },
  {
   "cell_type": "code",
   "execution_count": 18,
   "id": "067b9968-3440-4d10-abb7-3d12f4441a59",
   "metadata": {},
   "outputs": [],
   "source": [
    "a = None\n",
    "w,b,func = _,_,_\n",
    "y_pred = None\n",
    "X=None\n",
    "d=Nonel=None"
   ]
  },
  {
   "cell_type": "code",
   "execution_count": 19,
   "id": "eef36076-7bc3-4c78-a37a-92be4bdaf1db",
   "metadata": {},
   "outputs": [
    {
     "data": {
      "text/plain": [
       "<Axes: >"
      ]
     },
     "execution_count": 19,
     "metadata": {},
     "output_type": "execute_result"
    },
    {
     "data": {
      "image/png": "[encoded data removed]",
      "text/plain": [
       "<Figure size 640x480 with 2 Axes>"
      ]
     },
     "metadata": {},
     "output_type": "display_data"
    }
   ],
   "source": [
    "import seaborn_image as isns\n",
    "isns.imgplot(x1.reshape(28,28))"
   ]
  },
  {
   "cell_type": "code",
   "execution_count": 20,
   "id": "086acb0f-4aed-41a0-b47b-490d6e275a46",
   "metadata": {},
   "outputs": [],
   "source": [
    "iter_ = iter(valid_dl)"
   ]
  },
  {
   "cell_type": "code",
   "execution_count": 21,
   "id": "f4ea6638-cdfc-4f39-b252-44a5b5a41790",
   "metadata": {},
   "outputs": [],
   "source": [
    "state_dict = torch.load('model.pth')\n",
    "state_dict.keys()\n",
    "weights = []\n",
    "weights.append(state_dict['linear_relu_stack.0.weight'].clone())\n",
    "weights.append(state_dict['linear_relu_stack.2.weight'].clone())\n",
    "bias = []\n",
    "bias.append(state_dict['linear_relu_stack.0.bias'].clone())\n",
    "bias.append(state_dict['linear_relu_stack.2.bias'].clone())"
   ]
  },
  {
   "cell_type": "code",
   "execution_count": 22,
   "id": "3b12e5f0-0212-4601-91fc-d925624e1571",
   "metadata": {},
   "outputs": [
    {
     "data": {
      "text/plain": [
       "tensor(7)"
      ]
     },
     "execution_count": 22,
     "metadata": {},
     "output_type": "execute_result"
    }
   ],
   "source": [
    "x1,y1 = next(iter_)\n",
    "x1, y1 =x1.flatten(), y1.squeeze()\n",
    "x1.shape, y1.shape\n",
    "y1"
   ]
  },
  {
   "cell_type": "code",
   "execution_count": 23,
   "id": "fb8aa9df-b317-43a6-86ca-6e7ce79e2c38",
   "metadata": {},
   "outputs": [
    {
     "data": {
      "text/plain": [
       "torch.Size([784])"
      ]
     },
     "execution_count": 23,
     "metadata": {},
     "output_type": "execute_result"
    }
   ],
   "source": [
    "weights[0][0].shape"
   ]
  },
  {
   "cell_type": "code",
   "execution_count": 24,
   "id": "40408b97-d127-4ef0-a709-b9ed5ec05f1f",
   "metadata": {},
   "outputs": [
    {
     "data": {
      "text/plain": [
       "torch.Size([784])"
      ]
     },
     "execution_count": 24,
     "metadata": {},
     "output_type": "execute_result"
    }
   ],
   "source": [
    "x1.shape"
   ]
  },
  {
   "cell_type": "code",
   "execution_count": 25,
   "id": "f964b309-f70f-47db-82ce-f64edd67b7ea",
   "metadata": {},
   "outputs": [
    {
     "data": {
      "text/plain": [
       "tensor(0.0266)"
      ]
     },
     "execution_count": 25,
     "metadata": {},
     "output_type": "execute_result"
    }
   ],
   "source": [
    "i=0\n",
    "sum(weights[0][i] * x1) + bias[0][i]"
   ]
  },
  {
   "cell_type": "code",
   "execution_count": 26,
   "id": "b8ad9a6b-e1cc-4f27-817e-73e177691c2b",
   "metadata": {},
   "outputs": [
    {
     "data": {
      "text/plain": [
       "tensor([ 0.0266,  0.2479,  0.0426,  0.0152,  0.0608,  0.0745, -0.1457, -0.1684,\n",
       "         0.2851, -0.0419, -0.0624,  0.0154, -0.0864,  0.0847,  0.0095,  0.1295,\n",
       "         0.0893, -0.1850])"
      ]
     },
     "execution_count": 26,
     "metadata": {},
     "output_type": "execute_result"
    }
   ],
   "source": [
    "(weights[0]@x1)+bias[0]"
   ]
  },
  {
   "cell_type": "code",
   "execution_count": 27,
   "id": "8881338d-cdc0-475a-93c8-3c88c43f9d86",
   "metadata": {},
   "outputs": [],
   "source": [
    "a = forward(x1)"
   ]
  },
  {
   "cell_type": "code",
   "execution_count": 28,
   "id": "59e7a834-2e9e-45c2-8629-ff5cf6dec680",
   "metadata": {},
   "outputs": [
    {
     "data": {
      "text/plain": [
       "tensor([-0.1354, -0.1085, -0.0852, -0.1806, -0.0959, -0.2191,  0.0579,  0.2587,\n",
       "         0.1900,  0.1294])"
      ]
     },
     "execution_count": 28,
     "metadata": {},
     "output_type": "execute_result"
    }
   ],
   "source": [
    "(weights[1]@a[1])+bias[1]"
   ]
  },
  {
   "cell_type": "code",
   "execution_count": 31,
   "id": "6bfafc55-064a-43ee-9a0a-06405ac4a5c0",
   "metadata": {},
   "outputs": [
    {
     "data": {
      "text/plain": [
       "tensor(7)"
      ]
     },
     "execution_count": 31,
     "metadata": {},
     "output_type": "execute_result"
    }
   ],
   "source": [
    "np.argmax((weights[1]@a[1])+bias[1])"
   ]
  },
  {
   "cell_type": "code",
   "execution_count": 67,
   "id": "c144eb70-26b1-4b46-98a9-41a7aef91d91",
   "metadata": {},
   "outputs": [
    {
     "data": {
      "text/plain": [
       "tensor([-0.1422, -0.0626, -0.0508, -0.2056, -0.0988, -0.1239,  0.0111,  0.2339,\n",
       "         0.1431,  0.1194])"
      ]
     },
     "execution_count": 67,
     "metadata": {},
     "output_type": "execute_result"
    }
   ],
   "source": [
    "bias[1]"
   ]
  },
  {
   "cell_type": "code",
   "execution_count": 66,
   "id": "72693748-a550-4705-8557-72aa9513ec98",
   "metadata": {},
   "outputs": [
    {
     "data": {
      "text/plain": [
       "tensor([0.1195, 0.1275, 0.0000, 0.0000, 0.0728, 0.0000, 0.0000, 0.0665, 0.2172,\n",
       "        0.0000, 0.0826, 0.0000, 0.0000, 0.0000, 0.1340, 0.2454, 0.0387, 0.0000])"
      ]
     },
     "execution_count": 66,
     "metadata": {},
     "output_type": "execute_result"
    }
   ],
   "source": [
    "a[1]"
   ]
  },
  {
   "cell_type": "code",
   "execution_count": 106,
   "id": "1e2c9570-a0e9-42ed-a820-c45be01cc721",
   "metadata": {},
   "outputs": [
    {
     "data": {
      "text/plain": [
       "tensor([-0.1448, -0.0842, -0.0713, -0.1799, -0.0463, -0.1540,  0.0068,  0.2833,\n",
       "         0.2197,  0.0625])"
      ]
     },
     "execution_count": 106,
     "metadata": {},
     "output_type": "execute_result"
    }
   ],
   "source": [
    "a[2]"
   ]
  },
  {
   "cell_type": "code",
   "execution_count": 104,
   "id": "0d827ed5-1974-489c-935b-c30572ae8ffe",
   "metadata": {},
   "outputs": [
    {
     "data": {
      "text/plain": [
       "-0.0842006728053093"
      ]
     },
     "execution_count": 104,
     "metadata": {},
     "output_type": "execute_result"
    }
   ],
   "source": [
    "15.91579932719469070435-16"
   ]
  },
  {
   "cell_type": "code",
   "execution_count": 58,
   "id": "5417e080",
   "metadata": {},
   "outputs": [],
   "source": [
    "x1 = x1"
   ]
  },
  {
   "cell_type": "code",
   "execution_count": 59,
   "id": "fc6966ba-5f07-4074-b5ee-d5476aba9fc6",
   "metadata": {},
   "outputs": [],
   "source": [
    "x = DataLoader(training_data, batch_size=1)"
   ]
  },
  {
   "cell_type": "code",
   "execution_count": 60,
   "id": "a98a8fcf-4473-4697-96b7-121182922503",
   "metadata": {},
   "outputs": [
    {
     "data": {
      "text/plain": [
       "(<torch.utils.data.dataloader.DataLoader at 0x181725b69f0>,\n",
       " <torch.utils.data.dataloader.DataLoader at 0x18173890fe0>)"
      ]
     },
     "execution_count": 60,
     "metadata": {},
     "output_type": "execute_result"
    }
   ],
   "source": [
    "get_data(training_data, test_data)"
   ]
  },
  {
   "cell_type": "code",
   "execution_count": 61,
   "id": "936b5616-cf5c-43cd-846c-0dd18e3520b2",
   "metadata": {},
   "outputs": [
    {
     "data": {
      "text/plain": [
       "tensor(2.4574)"
      ]
     },
     "execution_count": 61,
     "metadata": {},
     "output_type": "execute_result"
    }
   ],
   "source": [
    "a = forward(x1)\n",
    "cross_entropy(softmax(a[-1]),y1)"
   ]
  },
  {
   "cell_type": "code",
   "execution_count": 49,
   "id": "1a7f1c3a",
   "metadata": {},
   "outputs": [
    {
     "data": {
      "text/plain": [
       "tensor([1.0473e-09, 9.7139e-12, 2.3697e-12, 1.4955e-05, 8.6390e-03, 5.6414e-12,\n",
       "        2.3267e-09, 5.1686e-04, 9.9083e-01, 1.5852e-15])"
      ]
     },
     "execution_count": 49,
     "metadata": {},
     "output_type": "execute_result"
    }
   ],
   "source": [
    "softmax(a[2])"
   ]
  },
  {
   "cell_type": "code",
   "execution_count": 16,
   "id": "240df45c",
   "metadata": {},
   "outputs": [
    {
     "data": {
      "text/plain": [
       "(tensor([[ -1.2346,  -5.9150,  -7.3258,   8.3320,  14.6910,  -7.4584,  -0.4364,\n",
       "           11.8747,  19.4332, -14.6356]]),\n",
       " tensor([[ 1.0473e-09,  9.7139e-12,  2.3697e-12,  1.4955e-05,  8.6390e-03,\n",
       "          -1.0000e+00,  2.3267e-09,  5.1686e-04,  9.9083e-01,  1.5852e-15]]))"
      ]
     },
     "execution_count": 16,
     "metadata": {},
     "output_type": "execute_result"
    }
   ],
   "source": [
    "delta_l(a[-1],y1,1), delta_l(softmax(a[-1]),y1,1) "
   ]
  },
  {
   "cell_type": "code",
   "execution_count": 26,
   "id": "a791cb2e-c426-4067-88f3-8cb87f29ff1d",
   "metadata": {},
   "outputs": [
    {
     "data": {
      "text/plain": [
       "(tensor([[ 1.0473e-09,  9.7139e-12,  2.3697e-12,  1.4955e-05,  8.6390e-03,\n",
       "          -1.0000e+00,  2.3267e-09,  5.1686e-04,  9.9083e-01,  1.5852e-15]]),\n",
       " tensor([[ 0.1034, -0.0193, -0.0000,  0.0000,  0.2704,  0.0000,  0.0000, -0.2902,\n",
       "           0.2939, -0.0000,  0.2289,  0.1636,  0.0000,  0.0000, -0.2644,  0.2450,\n",
       "          -0.2865,  0.0000]]))"
      ]
     },
     "execution_count": 26,
     "metadata": {},
     "output_type": "execute_result"
    }
   ],
   "source": [
    "loss_L = delta_l(softmax(a[-1]),y1,1) \n",
    "loss_L, ((weights[1].T@loss_L.T).T*d_relu(a[1]))"
   ]
  },
  {
   "cell_type": "code",
   "execution_count": 14,
   "id": "c1210f31",
   "metadata": {},
   "outputs": [
    {
     "data": {
      "text/plain": [
       "tensor(25.9009)"
      ]
     },
     "execution_count": 14,
     "metadata": {},
     "output_type": "execute_result"
    }
   ],
   "source": [
    "cross_entropy(softmax(a[-1]),y1)"
   ]
  },
  {
   "cell_type": "code",
   "execution_count": 60,
   "id": "8915bb1a",
   "metadata": {},
   "outputs": [
    {
     "data": {
      "text/plain": [
       "tensor([  27.6099,   32.1128,  -50.6857,  -10.6418,   22.0753,  -34.9349,\n",
       "        -113.4836,   20.4312,   54.3101,  -60.3901,   24.8315,    3.8750,\n",
       "         -66.7918,  -25.1650,   43.1287,   54.5816,    3.3011,  -17.7552])"
      ]
     },
     "execution_count": 60,
     "metadata": {},
     "output_type": "execute_result"
    }
   ],
   "source": [
    "x1@weights[0].T"
   ]
  },
  {
   "cell_type": "code",
   "execution_count": 84,
   "id": "aa754dc7",
   "metadata": {},
   "outputs": [
    {
     "data": {
      "text/plain": [
       "tensor([ -1.2346,  -5.9150,  -7.3258,   8.3320,  14.6910,  -6.4584,  -0.4364,\n",
       "         11.8747,  19.4332, -14.6356])"
      ]
     },
     "execution_count": 84,
     "metadata": {},
     "output_type": "execute_result"
    }
   ],
   "source": [
    "a[2]"
   ]
  },
  {
   "cell_type": "code",
   "execution_count": 54,
   "id": "4bbba118",
   "metadata": {},
   "outputs": [
    {
     "data": {
      "text/plain": [
       "tensor([ 0.0112,  0.0016,  0.0017, -0.0255, -0.0138, -0.0105, -0.0166, -0.0136,\n",
       "         0.0042,  0.0343, -0.0148, -0.0309,  0.0098,  0.0320, -0.0351,  0.0314,\n",
       "         0.0258,  0.0109])"
      ]
     },
     "execution_count": 54,
     "metadata": {},
     "output_type": "execute_result"
    }
   ],
   "source": [
    "bias[0]"
   ]
  },
  {
   "cell_type": "code",
   "execution_count": 55,
   "id": "a45e5f08-4e7b-4fa5-8ef9-509a57485627",
   "metadata": {},
   "outputs": [
    {
     "name": "stdout",
     "output_type": "stream",
     "text": [
      "tensor([27.6211, 32.1144,  0.0000,  0.0000, 22.0615,  0.0000,  0.0000, 20.4177,\n",
      "        54.3143,  0.0000, 24.8167,  3.8441,  0.0000,  0.0000, 43.0936, 54.6130,\n",
      "         3.3269,  0.0000])\n"
     ]
    }
   ],
   "source": [
    "fullprint(a[1])"
   ]
  },
  {
   "cell_type": "code",
   "execution_count": 56,
   "id": "39c2e0bd",
   "metadata": {},
   "outputs": [
    {
     "name": "stdout",
     "output_type": "stream",
     "text": [
      "tensor([ -1.2346,  -5.9150,  -7.3258,   8.3320,  14.6910,  -6.4584,  -0.4364,\n",
      "         11.8747,  19.4332, -14.6356])\n"
     ]
    }
   ],
   "source": [
    "fullprint(a[2])"
   ]
  },
  {
   "cell_type": "code",
   "execution_count": 1341,
   "id": "0976e3e5-3b18-4b74-bcba-bc3394a3a377",
   "metadata": {},
   "outputs": [
    {
     "data": {
      "text/plain": [
       "tensor(2.3730)"
      ]
     },
     "execution_count": 1341,
     "metadata": {},
     "output_type": "execute_result"
    }
   ],
   "source": [
    "backward(a,y1)"
   ]
  },
  {
   "cell_type": "code",
   "execution_count": 1342,
   "id": "d80995d4-97b5-4ac0-81ce-f6e1d7e59a70",
   "metadata": {},
   "outputs": [
    {
     "data": {
      "text/plain": [
       "tensor([ 0.0112,  0.0013,  0.0017, -0.0254, -0.0139, -0.0106, -0.0166, -0.0132,\n",
       "         0.0040,  0.0343, -0.0148, -0.0309,  0.0098,  0.0320, -0.0349,  0.0310,\n",
       "         0.0263,  0.0108])"
      ]
     },
     "execution_count": 1342,
     "metadata": {},
     "output_type": "execute_result"
    }
   ],
   "source": [
    "bias[0]"
   ]
  },
  {
   "cell_type": "code",
   "execution_count": 1343,
   "id": "1f46bf38-657d-4869-b2c9-cd74c1ad903c",
   "metadata": {},
   "outputs": [
    {
     "data": {
      "text/plain": [
       "tensor([-0.1410, -0.0624, -0.0507, -0.2053, -0.0986, -0.1225,  0.0111,  0.2333,\n",
       "         0.1426,  0.1192])"
      ]
     },
     "execution_count": 1343,
     "metadata": {},
     "output_type": "execute_result"
    }
   ],
   "source": [
    "bias[1]"
   ]
  },
  {
   "cell_type": "code",
   "execution_count": 1336,
   "id": "30447233-f74a-4c21-a1e5-73d66b451d25",
   "metadata": {},
   "outputs": [
    {
     "data": {
      "text/plain": [
       "tensor([[-0.0003,  0.0192, -0.0294,  ...,  0.0219,  0.0037,  0.0021],\n",
       "        [-0.0198, -0.0150, -0.0104,  ..., -0.0203, -0.0060, -0.0299],\n",
       "        [-0.0201,  0.0149, -0.0333,  ..., -0.0203,  0.0012,  0.0080],\n",
       "        ...,\n",
       "        [-0.0215,  0.0106,  0.0308,  ..., -0.0199,  0.0161, -0.0342],\n",
       "        [ 0.0350, -0.0297, -0.0037,  ...,  0.0171,  0.0238, -0.0001],\n",
       "        [ 0.0085,  0.0223, -0.0324,  ..., -0.0296,  0.0182, -0.0296]])"
      ]
     },
     "execution_count": 1336,
     "metadata": {},
     "output_type": "execute_result"
    }
   ],
   "source": [
    "weights[0]"
   ]
  },
  {
   "cell_type": "code",
   "execution_count": 1344,
   "id": "4204f907-bd09-4c59-838a-5e65e4c2d256",
   "metadata": {
    "scrolled": true
   },
   "outputs": [
    {
     "data": {
      "text/plain": [
       "tensor([ 0.1390, -0.1493, -0.2147,  0.2143,  0.1171, -0.1545, -0.1654,  0.0632,\n",
       "         0.1547,  0.2064,  0.0297,  0.1380,  0.0920,  0.0833, -0.1179, -0.1704,\n",
       "         0.2290,  0.0490])"
      ]
     },
     "execution_count": 1344,
     "metadata": {},
     "output_type": "execute_result"
    }
   ],
   "source": [
    "weights[1][y1]"
   ]
  },
  {
   "cell_type": "code",
   "execution_count": 916,
   "id": "c6d79033-4ef6-4e14-a1c7-ccb824f32ba7",
   "metadata": {},
   "outputs": [
    {
     "data": {
      "text/plain": [
       "(torch.Size([1, 1, 28, 28]), torch.Size([1]))"
      ]
     },
     "execution_count": 916,
     "metadata": {},
     "output_type": "execute_result"
    }
   ],
   "source": [
    "x1,y1 = next(iter(train_dl))\n",
    "x1.shape, y1.shape"
   ]
  },
  {
   "cell_type": "code",
   "execution_count": 921,
   "id": "2a83a76c-bfe5-4b2b-84f3-aefc023adad8",
   "metadata": {},
   "outputs": [
    {
     "name": "stdout",
     "output_type": "stream",
     "text": [
      "NeuralNetwork(\n",
      "  (flatten): Flatten(start_dim=1, end_dim=-1)\n",
      "  (linear_relu_stack): Sequential(\n",
      "    (0): Linear(in_features=784, out_features=18, bias=True)\n",
      "    (1): ReLU()\n",
      "    (2): Linear(in_features=18, out_features=10, bias=True)\n",
      "    (3): Softmax(dim=None)\n",
      "  )\n",
      ")\n"
     ]
    },
    {
     "data": {
      "text/plain": [
       "tensor([[0.0865, 0.0919, 0.0930, 0.0835, 0.0954, 0.0857, 0.1006, 0.1327, 0.1245,\n",
       "         0.1064]], grad_fn=<SoftmaxBackward0>)"
      ]
     },
     "execution_count": 921,
     "metadata": {},
     "output_type": "execute_result"
    }
   ],
   "source": [
    "# Define model\n",
    "class NeuralNetwork(nn.Module):\n",
    "    def __init__(self):\n",
    "        super().__init__()\n",
    "        self.flatten = nn.Flatten()\n",
    "        self.linear_relu_stack = nn.Sequential(\n",
    "            nn.Linear(28*28, 18),\n",
    "            nn.ReLU(),\n",
    "            nn.Linear(18, 10),\n",
    "            nn.Softmax()\n",
    "        )\n",
    "\n",
    "    def forward(self, x):\n",
    "        x = self.flatten(x)\n",
    "        logits = self.linear_relu_stack(x)\n",
    "        return logits\n",
    "        \n",
    "torch.manual_seed(0)\n",
    "model = NeuralNetwork().to(device)\n",
    "model.load_state_dict(torch.load('model.pth'))\n",
    "print(model)\n",
    "loss_fn = nn.CrossEntropyLoss()\n",
    "optimizer = torch.optim.SGD(model.parameters(), lr=1e-3)\n",
    "model(x1)"
   ]
  },
  {
   "cell_type": "markdown",
   "id": "d2f358c9-332b-41f5-be8d-20b9306ce7a1",
   "metadata": {},
   "source": [
    "### Test the full training "
   ]
  },
  {
   "cell_type": "code",
   "execution_count": 114,
   "id": "40d4b6b0-4b80-4797-8399-ad796d57a11d",
   "metadata": {},
   "outputs": [],
   "source": [
    "x,y = next(iter(train_dataloader))\n",
    "x,y = x.flatten(), y.squeeze()"
   ]
  },
  {
   "cell_type": "code",
   "execution_count": 115,
   "id": "84a71331-792a-4e83-bdf1-45d5b9b7eefe",
   "metadata": {},
   "outputs": [],
   "source": [
    "def train(dataloader):\n",
    "    correct = 0\n",
    "    size = len(dataloader.dataset)\n",
    "    for i, (x,y) in enumerate(dataloader):\n",
    "        x,y = x.flatten(), y.squeeze()\n",
    "        a = forward(x)\n",
    "        a[-1] = softmax(a[-1])\n",
    "        loss = cross_entropy(a[-1],y)\n",
    "\n",
    "        backward(a,y)\n",
    "\n",
    "        correct += (a[-1].argmax() == y).type(torch.float).sum()\n",
    "\n",
    "        if i % 100 == 0:\n",
    "            loss, current = loss.item(), (i+1)\n",
    "            print(f\"loss: {loss:>7f} [{current:>5d}/{size:>5d}]\")\n",
    "        # if i == 100:\n",
    "        #     break;\n",
    "        \n",
    "    correct /= size\n",
    "    print(f\"Training Error: \\n Accuracy: {(100*correct):>0.5f}%\")\n",
    "\n",
    "        "
   ]
  },
  {
   "cell_type": "code",
   "execution_count": 116,
   "id": "e780d092-ec49-4bae-a2fc-ef7fb7a17741",
   "metadata": {},
   "outputs": [],
   "source": [
    "def test(dataloader):\n",
    "    correct = 0\n",
    "    test_loss = 0\n",
    "    for x,y in dataloader:\n",
    "        x,y = x.flatten(), y.squeeze()\n",
    "        a = forward(x)\n",
    "        test_loss += cross_entropy(softmax(a[-1]),y)\n",
    "        correct += (a[-1].argmax() == y).type(torch.float).sum()\n",
    "\n",
    "    test_loss /= len(dataloader)\n",
    "    correct /= len(dataloader.dataset)\n",
    "    print(f\"Test Error: \\n Accuracy: {(100*correct):>0.1f}%, Avg loss: {test_loss:>8f} \\n\")\n",
    "    return correct"
   ]
  },
  {
   "cell_type": "code",
   "execution_count": 117,
   "id": "e54a84ca-7781-4143-a266-7ee08b3dfae9",
   "metadata": {},
   "outputs": [],
   "source": [
    "state_dict = torch.load('model.pth')\n",
    "state_dict.keys()\n",
    "weights = []\n",
    "weights.append(state_dict['linear_relu_stack.0.weight'].clone())\n",
    "weights.append(state_dict['linear_relu_stack.2.weight'].clone())\n",
    "bias = []\n",
    "bias.append(state_dict['linear_relu_stack.0.bias'].clone())\n",
    "bias.append(state_dict['linear_relu_stack.2.bias'].clone())"
   ]
  },
  {
   "cell_type": "code",
   "execution_count": 118,
   "id": "65eae6c9-1147-4859-ab02-9fb58a668c38",
   "metadata": {
    "scrolled": true
   },
   "outputs": [
    {
     "name": "stdout",
     "output_type": "stream",
     "text": [
      "loss:     nan [    1/60000]\n",
      "loss:     nan [  101/60000]\n",
      "loss: 2.261338 [  201/60000]\n",
      "loss: 1.206351 [  301/60000]\n",
      "loss: 1.590362 [  401/60000]\n",
      "loss:     nan [  501/60000]\n",
      "loss: 1.775327 [  601/60000]\n",
      "loss: 1.721299 [  701/60000]\n",
      "loss: 1.360135 [  801/60000]\n",
      "loss: 1.849384 [  901/60000]\n",
      "loss: 1.403713 [ 1001/60000]\n",
      "loss: 1.608751 [ 1101/60000]\n",
      "loss: 1.083087 [ 1201/60000]\n",
      "loss: 1.505565 [ 1301/60000]\n",
      "loss: 1.465122 [ 1401/60000]\n",
      "loss: 1.694731 [ 1501/60000]\n",
      "loss: 1.693187 [ 1601/60000]\n",
      "loss: 1.001026 [ 1701/60000]\n",
      "loss: 1.933884 [ 1801/60000]\n",
      "loss: 1.718088 [ 1901/60000]\n",
      "loss: 4.611570 [ 2001/60000]\n",
      "loss: 0.509113 [ 2101/60000]\n",
      "loss: 0.565195 [ 2201/60000]\n",
      "loss: 0.950941 [ 2301/60000]\n",
      "loss: 0.786657 [ 2401/60000]\n",
      "loss: 0.669846 [ 2501/60000]\n",
      "loss: 1.806370 [ 2601/60000]\n",
      "loss: 0.918456 [ 2701/60000]\n",
      "loss: 1.282786 [ 2801/60000]\n",
      "loss: 2.099168 [ 2901/60000]\n",
      "loss: 1.666453 [ 3001/60000]\n",
      "loss: 0.848565 [ 3101/60000]\n",
      "loss: 1.245470 [ 3201/60000]\n",
      "loss: 1.381559 [ 3301/60000]\n",
      "loss: 0.513011 [ 3401/60000]\n",
      "loss: 2.168486 [ 3501/60000]\n",
      "loss: 1.457216 [ 3601/60000]\n",
      "loss: 0.697347 [ 3701/60000]\n",
      "loss: 0.641621 [ 3801/60000]\n",
      "loss: 0.718442 [ 3901/60000]\n",
      "loss: 0.826884 [ 4001/60000]\n",
      "loss: 1.018646 [ 4101/60000]\n",
      "loss: 1.242866 [ 4201/60000]\n",
      "loss: 0.614672 [ 4301/60000]\n",
      "loss: 0.482395 [ 4401/60000]\n",
      "loss: 0.708178 [ 4501/60000]\n",
      "loss: 2.008896 [ 4601/60000]\n",
      "loss: 1.045985 [ 4701/60000]\n",
      "loss: 1.277639 [ 4801/60000]\n",
      "loss: 1.022564 [ 4901/60000]\n",
      "loss: 0.601833 [ 5001/60000]\n",
      "loss: 0.603450 [ 5101/60000]\n",
      "loss: 1.097952 [ 5201/60000]\n",
      "loss: 0.167783 [ 5301/60000]\n",
      "loss: 1.496470 [ 5401/60000]\n",
      "loss: 0.573841 [ 5501/60000]\n",
      "loss: 1.554571 [ 5601/60000]\n",
      "loss: 1.590909 [ 5701/60000]\n",
      "loss: 1.573330 [ 5801/60000]\n",
      "loss: 0.723383 [ 5901/60000]\n",
      "loss: 0.310471 [ 6001/60000]\n",
      "loss: 1.245139 [ 6101/60000]\n",
      "loss: 1.554462 [ 6201/60000]\n",
      "loss: 1.725597 [ 6301/60000]\n",
      "loss: 0.243295 [ 6401/60000]\n",
      "loss: 1.022720 [ 6501/60000]\n",
      "loss: 1.113229 [ 6601/60000]\n",
      "loss: 0.077596 [ 6701/60000]\n",
      "loss: 0.655579 [ 6801/60000]\n",
      "loss: 0.621159 [ 6901/60000]\n",
      "loss: 1.448459 [ 7001/60000]\n",
      "loss: 0.647087 [ 7101/60000]\n",
      "loss: 1.096630 [ 7201/60000]\n",
      "loss: 1.377936 [ 7301/60000]\n",
      "loss: 1.229701 [ 7401/60000]\n",
      "loss: 0.697316 [ 7501/60000]\n",
      "loss: 0.784367 [ 7601/60000]\n",
      "loss: 0.733822 [ 7701/60000]\n",
      "loss: 1.259393 [ 7801/60000]\n",
      "loss: 1.600088 [ 7901/60000]\n",
      "loss: -0.016063 [ 8001/60000]\n",
      "loss: 0.745233 [ 8101/60000]\n",
      "loss:     nan [ 8201/60000]\n",
      "loss: 2.307154 [ 8301/60000]\n",
      "loss: 1.054989 [ 8401/60000]\n",
      "loss: 0.245537 [ 8501/60000]\n",
      "loss: 1.691163 [ 8601/60000]\n",
      "loss: 1.773300 [ 8701/60000]\n",
      "loss: 0.645814 [ 8801/60000]\n",
      "loss: 1.050830 [ 8901/60000]\n",
      "loss: 0.514855 [ 9001/60000]\n",
      "loss: 0.475067 [ 9101/60000]\n",
      "loss: 0.334488 [ 9201/60000]\n",
      "loss: 0.105323 [ 9301/60000]\n",
      "loss: 0.276308 [ 9401/60000]\n",
      "loss: 0.291013 [ 9501/60000]\n",
      "loss: 0.016726 [ 9601/60000]\n",
      "loss: 0.138517 [ 9701/60000]\n",
      "loss: 1.568372 [ 9801/60000]\n",
      "loss: 0.545105 [ 9901/60000]\n",
      "loss: 0.017911 [10001/60000]\n",
      "loss: 0.774066 [10101/60000]\n",
      "loss: 0.611412 [10201/60000]\n",
      "loss: 0.655189 [10301/60000]\n",
      "loss: 1.276399 [10401/60000]\n",
      "loss: 0.456824 [10501/60000]\n",
      "loss: 0.614130 [10601/60000]\n",
      "loss: 0.736124 [10701/60000]\n",
      "loss: 1.233812 [10801/60000]\n",
      "loss: 0.432447 [10901/60000]\n",
      "loss: 0.197757 [11001/60000]\n",
      "loss: 1.023948 [11101/60000]\n",
      "loss: 0.310608 [11201/60000]\n",
      "loss: 1.496335 [11301/60000]\n",
      "loss: 0.598738 [11401/60000]\n",
      "loss: 1.312126 [11501/60000]\n",
      "loss:     nan [11601/60000]\n",
      "loss: 0.636990 [11701/60000]\n",
      "loss: 0.140202 [11801/60000]\n",
      "loss: 1.082542 [11901/60000]\n",
      "loss: 0.385395 [12001/60000]\n",
      "loss: 0.004012 [12101/60000]\n",
      "loss: 0.855252 [12201/60000]\n",
      "loss: 0.730486 [12301/60000]\n",
      "loss: 0.210265 [12401/60000]\n",
      "loss: 0.410527 [12501/60000]\n",
      "loss: 1.446222 [12601/60000]\n",
      "loss: 0.917913 [12701/60000]\n",
      "loss: 1.068940 [12801/60000]\n",
      "loss: 1.072965 [12901/60000]\n",
      "loss: 0.775345 [13001/60000]\n",
      "loss: 1.456000 [13101/60000]\n",
      "loss: 1.352222 [13201/60000]\n",
      "loss: 0.978343 [13301/60000]\n",
      "loss: 0.868919 [13401/60000]\n",
      "loss: 0.655424 [13501/60000]\n",
      "loss: -0.160511 [13601/60000]\n",
      "loss: 0.458714 [13701/60000]\n",
      "loss: 0.611364 [13801/60000]\n",
      "loss: 0.808903 [13901/60000]\n",
      "loss: 0.179705 [14001/60000]\n",
      "loss: 1.713354 [14101/60000]\n",
      "loss: 0.428870 [14201/60000]\n",
      "loss: 0.673395 [14301/60000]\n",
      "loss: 0.181587 [14401/60000]\n",
      "loss: 2.069633 [14501/60000]\n",
      "loss: 0.424149 [14601/60000]\n",
      "loss: 1.184495 [14701/60000]\n",
      "loss: 0.585696 [14801/60000]\n",
      "loss: 0.266359 [14901/60000]\n",
      "loss: 1.135695 [15001/60000]\n",
      "loss: 0.496052 [15101/60000]\n",
      "loss: 0.096882 [15201/60000]\n",
      "loss: 0.332412 [15301/60000]\n",
      "loss: 0.992141 [15401/60000]\n",
      "loss: 0.460208 [15501/60000]\n",
      "loss: 0.025260 [15601/60000]\n",
      "loss: 0.031898 [15701/60000]\n",
      "loss: 0.583382 [15801/60000]\n",
      "loss: -0.119307 [15901/60000]\n",
      "loss: 0.031674 [16001/60000]\n",
      "loss: 2.180815 [16101/60000]\n",
      "loss: 1.248363 [16201/60000]\n",
      "loss: 0.194894 [16301/60000]\n",
      "loss: 1.059409 [16401/60000]\n",
      "loss: 0.177310 [16501/60000]\n",
      "loss: 0.767305 [16601/60000]\n",
      "loss: 0.990900 [16701/60000]\n",
      "loss: 0.054399 [16801/60000]\n",
      "loss: 0.138280 [16901/60000]\n",
      "loss: 0.673495 [17001/60000]\n",
      "loss: 0.099105 [17101/60000]\n",
      "loss: 0.820071 [17201/60000]\n",
      "loss: 0.536376 [17301/60000]\n",
      "loss: 1.010535 [17401/60000]\n",
      "loss: 0.632230 [17501/60000]\n",
      "loss: 0.144916 [17601/60000]\n",
      "loss: 1.684420 [17701/60000]\n",
      "loss: 0.722107 [17801/60000]\n",
      "loss: 0.583907 [17901/60000]\n",
      "loss: 0.456775 [18001/60000]\n",
      "loss: 0.372099 [18101/60000]\n",
      "loss: 0.531396 [18201/60000]\n",
      "loss: 0.091216 [18301/60000]\n",
      "loss: 0.407751 [18401/60000]\n",
      "loss: 0.975492 [18501/60000]\n",
      "loss: 0.736886 [18601/60000]\n",
      "loss: 1.405641 [18701/60000]\n",
      "loss: 0.101549 [18801/60000]\n",
      "loss: 1.282841 [18901/60000]\n",
      "loss: 0.183211 [19001/60000]\n",
      "loss: 0.094654 [19101/60000]\n",
      "loss: 0.244690 [19201/60000]\n",
      "loss: 1.067428 [19301/60000]\n",
      "loss: 0.383695 [19401/60000]\n",
      "loss: -0.218152 [19501/60000]\n",
      "loss: 1.810670 [19601/60000]\n",
      "loss: 0.401488 [19701/60000]\n",
      "loss: 0.257148 [19801/60000]\n",
      "loss: -0.151383 [19901/60000]\n",
      "loss: 0.252841 [20001/60000]\n",
      "loss: 1.725582 [20101/60000]\n",
      "loss: 0.270420 [20201/60000]\n",
      "loss: 1.416741 [20301/60000]\n",
      "loss: 0.142468 [20401/60000]\n",
      "loss: 0.725817 [20501/60000]\n",
      "loss: 1.114900 [20601/60000]\n",
      "loss: 0.395174 [20701/60000]\n",
      "loss: 0.322108 [20801/60000]\n",
      "loss: 0.913335 [20901/60000]\n",
      "loss: 0.799243 [21001/60000]\n",
      "loss: 0.924711 [21101/60000]\n",
      "loss: 0.192384 [21201/60000]\n",
      "loss: 0.558804 [21301/60000]\n",
      "loss: -0.094841 [21401/60000]\n",
      "loss: 0.406333 [21501/60000]\n",
      "loss: 0.161666 [21601/60000]\n",
      "loss: 1.889856 [21701/60000]\n",
      "loss: 0.095379 [21801/60000]\n",
      "loss: 0.201595 [21901/60000]\n",
      "loss: 0.664393 [22001/60000]\n",
      "loss: 0.804857 [22101/60000]\n",
      "loss: 2.876280 [22201/60000]\n",
      "loss: 0.522612 [22301/60000]\n",
      "loss: 1.084815 [22401/60000]\n",
      "loss: 0.406730 [22501/60000]\n",
      "loss: 0.110069 [22601/60000]\n",
      "loss: 0.173476 [22701/60000]\n",
      "loss: 1.128165 [22801/60000]\n",
      "loss: -0.211771 [22901/60000]\n",
      "loss: -0.066611 [23001/60000]\n",
      "loss: 1.357060 [23101/60000]\n",
      "loss: 0.991421 [23201/60000]\n",
      "loss: 0.447225 [23301/60000]\n",
      "loss: 1.039598 [23401/60000]\n",
      "loss: 0.283134 [23501/60000]\n",
      "loss: 0.261658 [23601/60000]\n",
      "loss: 0.368382 [23701/60000]\n",
      "loss: 0.519065 [23801/60000]\n",
      "loss: 0.357576 [23901/60000]\n",
      "loss: 0.482601 [24001/60000]\n",
      "loss: 0.319059 [24101/60000]\n",
      "loss: 0.182154 [24201/60000]\n",
      "loss: 1.788981 [24301/60000]\n",
      "loss: 0.154141 [24401/60000]\n",
      "loss: 0.144811 [24501/60000]\n",
      "loss: 0.566924 [24601/60000]\n",
      "loss: -0.079456 [24701/60000]\n",
      "loss: 0.221862 [24801/60000]\n",
      "loss: 0.286564 [24901/60000]\n",
      "loss: 1.249177 [25001/60000]\n",
      "loss: 0.819679 [25101/60000]\n",
      "loss: 0.959988 [25201/60000]\n",
      "loss: 0.667978 [25301/60000]\n",
      "loss: 0.621661 [25401/60000]\n",
      "loss: -0.030156 [25501/60000]\n",
      "loss: 0.167625 [25601/60000]\n",
      "loss: 0.060263 [25701/60000]\n",
      "loss: 4.770195 [25801/60000]\n",
      "loss: 1.241587 [25901/60000]\n",
      "loss: 0.608013 [26001/60000]\n",
      "loss: 1.110139 [26101/60000]\n",
      "loss: 0.268994 [26201/60000]\n",
      "loss: 2.318832 [26301/60000]\n",
      "loss: 0.271561 [26401/60000]\n",
      "loss: 0.428851 [26501/60000]\n",
      "loss: 1.533402 [26601/60000]\n",
      "loss: 0.653217 [26701/60000]\n",
      "loss: -0.015102 [26801/60000]\n",
      "loss: 2.661471 [26901/60000]\n",
      "loss: 1.039852 [27001/60000]\n",
      "loss: 1.110242 [27101/60000]\n",
      "loss: 0.473441 [27201/60000]\n",
      "loss: 0.117864 [27301/60000]\n",
      "loss: 0.321373 [27401/60000]\n",
      "loss: 0.503829 [27501/60000]\n",
      "loss: 0.161435 [27601/60000]\n",
      "loss: 0.883307 [27701/60000]\n",
      "loss: 0.386732 [27801/60000]\n",
      "loss: 0.312437 [27901/60000]\n",
      "loss: 0.068202 [28001/60000]\n",
      "loss: 0.329764 [28101/60000]\n",
      "loss: 1.390023 [28201/60000]\n",
      "loss: 0.238131 [28301/60000]\n",
      "loss: 0.123619 [28401/60000]\n",
      "loss: 0.276661 [28501/60000]\n",
      "loss: 0.387838 [28601/60000]\n",
      "loss: 0.676580 [28701/60000]\n",
      "loss: 0.478787 [28801/60000]\n",
      "loss: 0.094029 [28901/60000]\n",
      "loss: 0.410563 [29001/60000]\n",
      "loss: 0.960758 [29101/60000]\n",
      "loss: 0.369870 [29201/60000]\n",
      "loss: 0.772246 [29301/60000]\n",
      "loss: 1.442859 [29401/60000]\n",
      "loss: 0.455465 [29501/60000]\n",
      "loss: 0.519442 [29601/60000]\n",
      "loss: 0.740017 [29701/60000]\n",
      "loss: 1.397361 [29801/60000]\n",
      "loss: 1.397377 [29901/60000]\n",
      "loss: 0.124488 [30001/60000]\n",
      "loss: 0.382978 [30101/60000]\n",
      "loss: 0.462521 [30201/60000]\n",
      "loss: 0.070602 [30301/60000]\n",
      "loss: 0.555315 [30401/60000]\n",
      "loss: 0.376996 [30501/60000]\n",
      "loss: 2.336911 [30601/60000]\n",
      "loss: 0.473712 [30701/60000]\n",
      "loss: 0.622071 [30801/60000]\n",
      "loss: 2.806201 [30901/60000]\n",
      "loss: 2.220857 [31001/60000]\n",
      "loss: 0.729915 [31101/60000]\n",
      "loss: 4.050577 [31201/60000]\n",
      "loss: 0.518811 [31301/60000]\n",
      "loss: 0.908265 [31401/60000]\n",
      "loss: 0.926230 [31501/60000]\n",
      "loss: 1.163754 [31601/60000]\n",
      "loss: 0.577708 [31701/60000]\n",
      "loss: 0.615324 [31801/60000]\n",
      "loss: 1.059009 [31901/60000]\n",
      "loss: 0.326533 [32001/60000]\n",
      "loss: 1.001818 [32101/60000]\n",
      "loss: 0.359910 [32201/60000]\n",
      "loss: 0.255863 [32301/60000]\n",
      "loss: 0.409821 [32401/60000]\n",
      "loss: 0.738064 [32501/60000]\n",
      "loss: 0.727265 [32601/60000]\n",
      "loss: 0.216194 [32701/60000]\n",
      "loss: 0.207787 [32801/60000]\n",
      "loss: -0.024042 [32901/60000]\n",
      "loss: 0.950110 [33001/60000]\n",
      "loss: -0.127802 [33101/60000]\n",
      "loss: 0.796348 [33201/60000]\n",
      "loss: 0.499458 [33301/60000]\n",
      "loss: 0.324432 [33401/60000]\n",
      "loss: 0.221761 [33501/60000]\n",
      "loss: 0.263793 [33601/60000]\n",
      "loss: 0.687706 [33701/60000]\n",
      "loss: 0.242690 [33801/60000]\n",
      "loss: 0.509417 [33901/60000]\n",
      "loss: 0.214803 [34001/60000]\n",
      "loss: 0.645085 [34101/60000]\n",
      "loss: 0.262752 [34201/60000]\n",
      "loss: 1.199111 [34301/60000]\n",
      "loss: 0.432084 [34401/60000]\n",
      "loss:     nan [34501/60000]\n",
      "loss: 0.763732 [34601/60000]\n",
      "loss: 0.590795 [34701/60000]\n",
      "loss: 1.332496 [34801/60000]\n",
      "loss: 0.417549 [34901/60000]\n",
      "loss: -0.022487 [35001/60000]\n",
      "loss: 1.133259 [35101/60000]\n",
      "loss: 0.193330 [35201/60000]\n",
      "loss: 0.603671 [35301/60000]\n",
      "loss: -0.303522 [35401/60000]\n",
      "loss: 1.038513 [35501/60000]\n",
      "loss: 0.212818 [35601/60000]\n",
      "loss: -0.362067 [35701/60000]\n",
      "loss: -0.106524 [35801/60000]\n",
      "loss: 0.119701 [35901/60000]\n",
      "loss: 0.867097 [36001/60000]\n",
      "loss: 0.862296 [36101/60000]\n",
      "loss: 0.485351 [36201/60000]\n",
      "loss: 0.734270 [36301/60000]\n",
      "loss: 0.269486 [36401/60000]\n",
      "loss: 0.528646 [36501/60000]\n",
      "loss: 0.678153 [36601/60000]\n",
      "loss: 0.261165 [36701/60000]\n",
      "loss: 0.625997 [36801/60000]\n",
      "loss: 1.122886 [36901/60000]\n",
      "loss: 0.194321 [37001/60000]\n",
      "loss: 2.162372 [37101/60000]\n",
      "loss: -0.000320 [37201/60000]\n",
      "loss: 0.565473 [37301/60000]\n",
      "loss: 1.000222 [37401/60000]\n",
      "loss: 0.180892 [37501/60000]\n",
      "loss: 0.438750 [37601/60000]\n",
      "loss: 0.261289 [37701/60000]\n",
      "loss: 0.285472 [37801/60000]\n",
      "loss: 0.330310 [37901/60000]\n",
      "loss: 0.699469 [38001/60000]\n",
      "loss: -0.055715 [38101/60000]\n",
      "loss: -0.261512 [38201/60000]\n",
      "loss: 0.801633 [38301/60000]\n",
      "loss: 0.006583 [38401/60000]\n",
      "loss: 0.059600 [38501/60000]\n",
      "loss: 0.816760 [38601/60000]\n",
      "loss: 0.518788 [38701/60000]\n",
      "loss: 0.924727 [38801/60000]\n",
      "loss: 0.059405 [38901/60000]\n",
      "loss: 0.983913 [39001/60000]\n",
      "loss: 1.029056 [39101/60000]\n",
      "loss: -0.131518 [39201/60000]\n",
      "loss: 0.185065 [39301/60000]\n",
      "loss: 0.715727 [39401/60000]\n",
      "loss: 0.891199 [39501/60000]\n",
      "loss: 2.234713 [39601/60000]\n",
      "loss: 1.175640 [39701/60000]\n",
      "loss: 0.090888 [39801/60000]\n",
      "loss: 0.147926 [39901/60000]\n",
      "loss: -0.043710 [40001/60000]\n",
      "loss: 0.596185 [40101/60000]\n",
      "loss: 0.115051 [40201/60000]\n",
      "loss: 0.965974 [40301/60000]\n",
      "loss: -0.096830 [40401/60000]\n",
      "loss: 0.096096 [40501/60000]\n",
      "loss: 0.433541 [40601/60000]\n",
      "loss: 0.958969 [40701/60000]\n",
      "loss: 0.664689 [40801/60000]\n",
      "loss: 0.665083 [40901/60000]\n",
      "loss: 0.685037 [41001/60000]\n",
      "loss: 0.175409 [41101/60000]\n",
      "loss: 1.342274 [41201/60000]\n",
      "loss: 0.515007 [41301/60000]\n",
      "loss: 0.933957 [41401/60000]\n",
      "loss: 0.606514 [41501/60000]\n",
      "loss: 0.239712 [41601/60000]\n",
      "loss: 1.424902 [41701/60000]\n",
      "loss: 0.195038 [41801/60000]\n",
      "loss: 0.946990 [41901/60000]\n",
      "loss: 0.014085 [42001/60000]\n",
      "loss: 0.290061 [42101/60000]\n",
      "loss: 0.551275 [42201/60000]\n",
      "loss: -0.155979 [42301/60000]\n",
      "loss: 0.563650 [42401/60000]\n",
      "loss: 0.259325 [42501/60000]\n",
      "loss: 0.105560 [42601/60000]\n",
      "loss: 0.182816 [42701/60000]\n",
      "loss: 0.371315 [42801/60000]\n",
      "loss: 0.335171 [42901/60000]\n",
      "loss: 1.010213 [43001/60000]\n",
      "loss: 0.486412 [43101/60000]\n",
      "loss: 0.907700 [43201/60000]\n",
      "loss: 0.232475 [43301/60000]\n",
      "loss: 0.318011 [43401/60000]\n",
      "loss: 0.161471 [43501/60000]\n",
      "loss: 0.492140 [43601/60000]\n",
      "loss: 0.632191 [43701/60000]\n",
      "loss: 0.620986 [43801/60000]\n",
      "loss: 0.926798 [43901/60000]\n",
      "loss: 0.112963 [44001/60000]\n",
      "loss: 1.558891 [44101/60000]\n",
      "loss: 0.655109 [44201/60000]\n",
      "loss: 1.227183 [44301/60000]\n",
      "loss: 0.265982 [44401/60000]\n",
      "loss: 0.831425 [44501/60000]\n",
      "loss: 0.556640 [44601/60000]\n",
      "loss: -0.084772 [44701/60000]\n",
      "loss: 0.698159 [44801/60000]\n",
      "loss: -0.133125 [44901/60000]\n",
      "loss: 0.040255 [45001/60000]\n",
      "loss: 0.426740 [45101/60000]\n",
      "loss: 0.013922 [45201/60000]\n",
      "loss: 0.324013 [45301/60000]\n",
      "loss: 0.028407 [45401/60000]\n",
      "loss: 0.723350 [45501/60000]\n",
      "loss: 0.496331 [45601/60000]\n",
      "loss: 0.704697 [45701/60000]\n",
      "loss: 1.169584 [45801/60000]\n",
      "loss: 0.180155 [45901/60000]\n",
      "loss: 0.402601 [46001/60000]\n",
      "loss: 0.714770 [46101/60000]\n",
      "loss: 1.109407 [46201/60000]\n",
      "loss: 1.573866 [46301/60000]\n",
      "loss: 0.517964 [46401/60000]\n",
      "loss: -0.084228 [46501/60000]\n",
      "loss: 0.328489 [46601/60000]\n",
      "loss: 0.448047 [46701/60000]\n",
      "loss: 0.727907 [46801/60000]\n",
      "loss: -0.151362 [46901/60000]\n",
      "loss: 0.363138 [47001/60000]\n",
      "loss: 1.552399 [47101/60000]\n",
      "loss: 0.063303 [47201/60000]\n",
      "loss: 0.543376 [47301/60000]\n",
      "loss: 0.155054 [47401/60000]\n",
      "loss: 0.097893 [47501/60000]\n",
      "loss: 2.108242 [47601/60000]\n",
      "loss: -0.051694 [47701/60000]\n",
      "loss: -0.127861 [47801/60000]\n",
      "loss: -0.190465 [47901/60000]\n",
      "loss: 0.564419 [48001/60000]\n",
      "loss: -0.217146 [48101/60000]\n",
      "loss: 0.631765 [48201/60000]\n",
      "loss: 0.607711 [48301/60000]\n",
      "loss: 0.694692 [48401/60000]\n",
      "loss: 0.423927 [48501/60000]\n",
      "loss: 0.088457 [48601/60000]\n",
      "loss: 0.605629 [48701/60000]\n",
      "loss: 1.303114 [48801/60000]\n",
      "loss: 0.611423 [48901/60000]\n",
      "loss: 0.424607 [49001/60000]\n",
      "loss: 0.419021 [49101/60000]\n",
      "loss: 0.732469 [49201/60000]\n",
      "loss: 2.659417 [49301/60000]\n",
      "loss: 0.899211 [49401/60000]\n",
      "loss: 1.276900 [49501/60000]\n",
      "loss: 0.369448 [49601/60000]\n",
      "loss: 0.945681 [49701/60000]\n",
      "loss: 0.167416 [49801/60000]\n",
      "loss: 0.001515 [49901/60000]\n",
      "loss: 0.177745 [50001/60000]\n",
      "loss: 0.121721 [50101/60000]\n",
      "loss: -0.016961 [50201/60000]\n",
      "loss: 0.082817 [50301/60000]\n",
      "loss: 0.372139 [50401/60000]\n",
      "loss: 0.956226 [50501/60000]\n",
      "loss: 0.020837 [50601/60000]\n",
      "loss: 1.632458 [50701/60000]\n",
      "loss: 0.289131 [50801/60000]\n",
      "loss: 0.349429 [50901/60000]\n",
      "loss: -0.015736 [51001/60000]\n",
      "loss: 0.551330 [51101/60000]\n",
      "loss: 1.194742 [51201/60000]\n",
      "loss: 2.397648 [51301/60000]\n",
      "loss: 0.285577 [51401/60000]\n",
      "loss: 0.321278 [51501/60000]\n",
      "loss: 2.136951 [51601/60000]\n",
      "loss: 0.064704 [51701/60000]\n",
      "loss: 0.531225 [51801/60000]\n",
      "loss: 0.200141 [51901/60000]\n",
      "loss: 0.262402 [52001/60000]\n",
      "loss: 0.875788 [52101/60000]\n",
      "loss: 0.453156 [52201/60000]\n",
      "loss: -0.354659 [52301/60000]\n",
      "loss: -0.051675 [52401/60000]\n",
      "loss: 0.070674 [52501/60000]\n",
      "loss: 0.774996 [52601/60000]\n",
      "loss: 0.135466 [52701/60000]\n",
      "loss: 2.515020 [52801/60000]\n",
      "loss: 0.672540 [52901/60000]\n",
      "loss: 0.062794 [53001/60000]\n",
      "loss: 0.107324 [53101/60000]\n",
      "loss: 0.493010 [53201/60000]\n",
      "loss: 0.549014 [53301/60000]\n",
      "loss: -0.006218 [53401/60000]\n",
      "loss: 0.603275 [53501/60000]\n",
      "loss: 0.607737 [53601/60000]\n",
      "loss: 0.693283 [53701/60000]\n",
      "loss: 0.489792 [53801/60000]\n",
      "loss: 1.407886 [53901/60000]\n",
      "loss: 0.641448 [54001/60000]\n",
      "loss: 0.971855 [54101/60000]\n",
      "loss: 0.290869 [54201/60000]\n",
      "loss: 0.378902 [54301/60000]\n",
      "loss: 0.673846 [54401/60000]\n",
      "loss: 0.137873 [54501/60000]\n",
      "loss: 0.287521 [54601/60000]\n",
      "loss: -0.076012 [54701/60000]\n",
      "loss: 0.005111 [54801/60000]\n",
      "loss: 0.041010 [54901/60000]\n",
      "loss: 0.407263 [55001/60000]\n",
      "loss: 0.258383 [55101/60000]\n",
      "loss: 0.053881 [55201/60000]\n",
      "loss: -0.222898 [55301/60000]\n",
      "loss: 0.634732 [55401/60000]\n",
      "loss: 0.238490 [55501/60000]\n",
      "loss: 0.273942 [55601/60000]\n",
      "loss: -0.055974 [55701/60000]\n",
      "loss: 0.529193 [55801/60000]\n",
      "loss: 0.182248 [55901/60000]\n",
      "loss: 0.221138 [56001/60000]\n",
      "loss: -0.042454 [56101/60000]\n",
      "loss: 0.362525 [56201/60000]\n",
      "loss: 1.646699 [56301/60000]\n",
      "loss: 0.370464 [56401/60000]\n",
      "loss: -0.100823 [56501/60000]\n",
      "loss: 1.032147 [56601/60000]\n",
      "loss: 0.261060 [56701/60000]\n",
      "loss: 4.066045 [56801/60000]\n",
      "loss: 0.212502 [56901/60000]\n",
      "loss: -0.192552 [57001/60000]\n",
      "loss: 0.609643 [57101/60000]\n",
      "loss: 0.219803 [57201/60000]\n",
      "loss: 0.046855 [57301/60000]\n",
      "loss: 0.399145 [57401/60000]\n",
      "loss: -0.021131 [57501/60000]\n",
      "loss: 0.013877 [57601/60000]\n",
      "loss: 0.363573 [57701/60000]\n",
      "loss: 0.507104 [57801/60000]\n",
      "loss: 0.886377 [57901/60000]\n",
      "loss: 0.538974 [58001/60000]\n",
      "loss: 0.707263 [58101/60000]\n",
      "loss: -0.220091 [58201/60000]\n",
      "loss: 0.209777 [58301/60000]\n",
      "loss: 0.137293 [58401/60000]\n",
      "loss: 0.228303 [58501/60000]\n",
      "loss: 0.019314 [58601/60000]\n",
      "loss: 0.249784 [58701/60000]\n",
      "loss: 0.221561 [58801/60000]\n",
      "loss: 0.498830 [58901/60000]\n",
      "loss: 0.266468 [59001/60000]\n",
      "loss: -0.177410 [59101/60000]\n",
      "loss: 0.274730 [59201/60000]\n",
      "loss: 0.035031 [59301/60000]\n",
      "loss: 0.988559 [59401/60000]\n",
      "loss: 0.188956 [59501/60000]\n",
      "loss: 0.427874 [59601/60000]\n",
      "loss: -0.176419 [59701/60000]\n",
      "loss: 0.237909 [59801/60000]\n",
      "loss: 0.323969 [59901/60000]\n",
      "Training Error: \n",
      " Accuracy: 85.62334%\n"
     ]
    }
   ],
   "source": [
    "train(train_dataloader)"
   ]
  },
  {
   "cell_type": "code",
   "execution_count": 16,
   "id": "fd882ace-3411-4c6d-91cb-ba1092156893",
   "metadata": {},
   "outputs": [
    {
     "name": "stdout",
     "output_type": "stream",
     "text": [
      "Test Error: \n",
      " Accuracy: 91.0%, Avg loss: 0.316889 \n",
      "\n"
     ]
    },
    {
     "data": {
      "text/plain": [
       "tensor(0.9103)"
      ]
     },
     "execution_count": 16,
     "metadata": {},
     "output_type": "execute_result"
    }
   ],
   "source": [
    "test(test_dataloader)"
   ]
  },
  {
   "cell_type": "code",
   "execution_count": 27,
   "id": "006cd07a-4df9-4552-9151-f9a8aba0324f",
   "metadata": {},
   "outputs": [
    {
     "name": "stderr",
     "output_type": "stream",
     "text": [
      "C:\\Users\\miles\\anaconda3\\envs\\fpga\\Lib\\site-packages\\seaborn\\_oldcore.py:1119: FutureWarning: use_inf_as_na option is deprecated and will be removed in a future version. Convert inf values to NaN before operating instead.\n",
      "  with pd.option_context('mode.use_inf_as_na', True):\n"
     ]
    },
    {
     "ename": "AttributeError",
     "evalue": "module 'seaborn' has no attribute 'label'",
     "output_type": "error",
     "traceback": [
      "\u001b[1;31m---------------------------------------------------------------------------\u001b[0m",
      "\u001b[1;31mAttributeError\u001b[0m                            Traceback (most recent call last)",
      "Cell \u001b[1;32mIn[27], line 2\u001b[0m\n\u001b[0;32m      1\u001b[0m sns\u001b[38;5;241m.\u001b[39mhistplot(weights[\u001b[38;5;241m0\u001b[39m]\u001b[38;5;241m.\u001b[39mflatten())\n\u001b[1;32m----> 2\u001b[0m sns\u001b[38;5;241m.\u001b[39mlabel(\u001b[38;5;124m'\u001b[39m\u001b[38;5;124mmax = \u001b[39m\u001b[38;5;124m'\u001b[39m \u001b[38;5;241m+\u001b[39m \u001b[38;5;28mstr\u001b[39m(weights[\u001b[38;5;241m0\u001b[39m]\u001b[38;5;241m.\u001b[39mflatten()\u001b[38;5;241m.\u001b[39mmax()))\n",
      "\u001b[1;31mAttributeError\u001b[0m: module 'seaborn' has no attribute 'label'"
     ]
    },
    {
     "data": {
      "image/png": "[encoded data removed]",
      "text/plain": [
       "<Figure size 640x480 with 1 Axes>"
      ]
     },
     "metadata": {},
     "output_type": "display_data"
    }
   ],
   "source": [
    "sns.histplot(weights[0].flatten())\n",
    "sns.label('max = ' + str(weights[0].flatten().max()))"
   ]
  },
  {
   "cell_type": "code",
   "execution_count": 24,
   "id": "9b1a4460-60fe-4de6-b33e-9d7e597a6792",
   "metadata": {},
   "outputs": [
    {
     "name": "stderr",
     "output_type": "stream",
     "text": [
      "C:\\Users\\miles\\anaconda3\\envs\\fpga\\Lib\\site-packages\\seaborn\\_oldcore.py:1119: FutureWarning: use_inf_as_na option is deprecated and will be removed in a future version. Convert inf values to NaN before operating instead.\n",
      "  with pd.option_context('mode.use_inf_as_na', True):\n"
     ]
    },
    {
     "data": {
      "text/plain": [
       "<Axes: ylabel='Count'>"
      ]
     },
     "execution_count": 24,
     "metadata": {},
     "output_type": "execute_result"
    },
    {
     "data": {
      "image/png": "[encoded data removed]",
      "text/plain": [
       "<Figure size 640x480 with 1 Axes>"
      ]
     },
     "metadata": {},
     "output_type": "display_data"
    }
   ],
   "source": [
    "sns.histplot(weights[1].flatten())"
   ]
  },
  {
   "cell_type": "code",
   "execution_count": 25,
   "id": "efd3d465-a0c5-4120-a01f-59b86f13b82a",
   "metadata": {},
   "outputs": [
    {
     "data": {
      "text/plain": [
       "torch.Size([180])"
      ]
     },
     "execution_count": 25,
     "metadata": {},
     "output_type": "execute_result"
    }
   ],
   "source": [
    "weights[1].flatten().shape"
   ]
  },
  {
   "cell_type": "code",
   "execution_count": 28,
   "id": "71a16e82-190a-446b-a1a2-14669c30055a",
   "metadata": {},
   "outputs": [
    {
     "data": {
      "text/plain": [
       "tensor(1.0516)"
      ]
     },
     "execution_count": 28,
     "metadata": {},
     "output_type": "execute_result"
    }
   ],
   "source": [
    "weights[1].flatten().max()"
   ]
  },
  {
   "cell_type": "code",
   "execution_count": 70,
   "id": "b710ecbd-6d8d-4836-85dc-9cb0059090bb",
   "metadata": {},
   "outputs": [
    {
     "data": {
      "text/plain": [
       "tensor([-0.1448, -0.0842, -0.0713, -0.1799, -0.0463, -0.1540,  0.0068,  0.2833,\n",
       "         0.2197,  0.0625])"
      ]
     },
     "execution_count": 70,
     "metadata": {},
     "output_type": "execute_result"
    }
   ],
   "source": [
    "a[2]"
   ]
  },
  {
   "cell_type": "code",
   "execution_count": 95,
   "id": "5638e652-3c29-4b64-8ebb-8d13ab398c60",
   "metadata": {},
   "outputs": [
    {
     "data": {
      "text/plain": [
       "tensor(0.2784)"
      ]
     },
     "execution_count": 95,
     "metadata": {},
     "output_type": "execute_result"
    }
   ],
   "source": [
    "training_data.data[50000].reshape(784)[653]/255"
   ]
  },
  {
   "cell_type": "code",
   "execution_count": null,
   "id": "8daab6bd-e549-4321-b39e-b33e934c34d9",
   "metadata": {},
   "outputs": [],
   "source": []
  },
  {
   "cell_type": "code",
   "execution_count": 1276,
   "id": "65aa6140-7727-47d8-82bf-86c7dbb78afe",
   "metadata": {},
   "outputs": [
    {
     "name": "stdout",
     "output_type": "stream",
     "text": [
      "Test Error: \n",
      " Accuracy: 67.2%, Avg loss: 2.107958 \n",
      "\n"
     ]
    },
    {
     "data": {
      "text/plain": [
       "tensor(0.6720)"
      ]
     },
     "execution_count": 1276,
     "metadata": {},
     "output_type": "execute_result"
    }
   ],
   "source": [
    "test(test_dataloader)"
   ]
  },
  {
   "cell_type": "code",
   "execution_count": 855,
   "id": "07eeddf3-477d-45e6-8350-741c2dfbd219",
   "metadata": {},
   "outputs": [
    {
     "data": {
      "text/plain": [
       "tensor([ 0.0086,  0.0015,  0.0017, -0.0255, -0.0140, -0.0105, -0.0166,  0.0336,\n",
       "         0.0040,  0.0343, -0.0148, -0.0309,  0.0098,  0.0320,  0.0282,  0.0313,\n",
       "         0.0468,  0.0109])"
      ]
     },
     "execution_count": 855,
     "metadata": {},
     "output_type": "execute_result"
    }
   ],
   "source": [
    "bias[-2]"
   ]
  },
  {
   "cell_type": "code",
   "execution_count": 553,
   "id": "b1c77e31-daa3-4108-8307-56ff38fce7bb",
   "metadata": {
    "scrolled": true
   },
   "outputs": [],
   "source": [
    "(x,y) = train_dataloader.dataset[500]\n",
    "x,y = x.flatten(), y"
   ]
  },
  {
   "cell_type": "code",
   "execution_count": 554,
   "id": "3d0908c7-e944-4760-889d-d4bb27890283",
   "metadata": {},
   "outputs": [
    {
     "data": {
      "text/plain": [
       "tensor(3.3171)"
      ]
     },
     "execution_count": 554,
     "metadata": {},
     "output_type": "execute_result"
    }
   ],
   "source": [
    "a = forward(x)\n",
    "cross_entropy(a[-1],y)"
   ]
  },
  {
   "cell_type": "markdown",
   "id": "3cb53441-be1d-484e-9861-3161779e2d14",
   "metadata": {},
   "source": [
    "## Claude code"
   ]
  },
  {
   "cell_type": "code",
   "execution_count": 1321,
   "id": "146a1c94-766d-4283-94dc-cd1e25ccb96c",
   "metadata": {},
   "outputs": [],
   "source": [
    "def numerical_gradients(f, x, eps=1e-5):\n",
    "    \"\"\"\n",
    "    Compute numerical gradients of a function f at a point x.\n",
    "    \"\"\"\n",
    "    x = x.detach().requires_grad_(True)\n",
    "    grads = []\n",
    "    for i in range(x.nelement()):\n",
    "        ori_x = x.clone()\n",
    "        ori_x.flatten()[i] += eps\n",
    "        y_pos = f(ori_x)\n",
    "        ori_x.flatten()[i] -= 2 * eps\n",
    "        y_neg = f(ori_x)\n",
    "        grads.append((y_pos - y_neg) / (2 * eps))\n",
    "    return torch.stack(grads).view_as(x)\n",
    "\n",
    "def compare_gradients(f, x, eps=1e-3):\n",
    "    \"\"\"\n",
    "    Compare analytical and numerical gradients of a function f at a point x.\n",
    "    \"\"\"\n",
    "    x = x.detach().requires_grad_(True)\n",
    "    analytical_grad = torch.autograd.grad(f(x), x, create_graph=True)[0]\n",
    "    numerical_grad = numerical_gradients(f, x, eps)\n",
    "    diff = torch.abs(analytical_grad - numerical_grad)\n",
    "    # return analytical_grad,numerical_grad\n",
    "    return torch.allclose(analytical_grad, numerical_grad, atol=eps)"
   ]
  },
  {
   "cell_type": "code",
   "execution_count": 1322,
   "id": "53a4e29a-4da7-42fb-bbf1-c3150428df40",
   "metadata": {},
   "outputs": [],
   "source": [
    "def compute_loss(x, y):\n",
    "    y_pred = softmax(forward(x)[-1])\n",
    "    return cross_entropy(y_pred, y)"
   ]
  },
  {
   "cell_type": "code",
   "execution_count": 1323,
   "id": "a1177b34-1b31-4772-bc23-ba5d78359b44",
   "metadata": {
    "scrolled": true
   },
   "outputs": [
    {
     "name": "stdout",
     "output_type": "stream",
     "text": [
      "Gradient check before backward pass: True\n",
      "Gradient check after backward pass: True\n"
     ]
    }
   ],
   "source": [
    "iter_ = iter(train_dl)\n",
    "state_dict = torch.load('model.pth')\n",
    "state_dict.keys()\n",
    "\n",
    "weights = []\n",
    "weights.append(state_dict['linear_relu_stack.0.weight'].clone())\n",
    "weights.append(state_dict['linear_relu_stack.2.weight'].clone())\n",
    "\n",
    "bias = []\n",
    "bias.append(state_dict['linear_relu_stack.0.bias'].clone())\n",
    "bias.append(state_dict['linear_relu_stack.2.bias'].clone())\n",
    "\n",
    "x1, y1 = next(iter_)\n",
    "x1, y1 = x1.flatten(), y1.squeeze()\n",
    "\n",
    "# Check gradients before the backward pass\n",
    "# a1,n1 = compare_gradients(lambda x: compute_loss(x, y1), x1)\n",
    "print(\"Gradient check before backward pass:\", compare_gradients(lambda x: compute_loss(x, y1), x1))\n",
    "\n",
    "a = forward(x1)\n",
    "loss = cross_entropy(softmax(a[-1]), y1)\n",
    "backward(a, y1)\n",
    "\n",
    "# Check gradients after the backward pass\n",
    "# a2,n2 = compare_gradients(lambda x: compute_loss(x, y1), x1)\n",
    "print(\"Gradient check after backward pass:\", compare_gradients(lambda x: compute_loss(x, y1), x1))"
   ]
  },
  {
   "cell_type": "code",
   "execution_count": 1324,
   "id": "9c8466e5-176e-4cf5-86d8-9c052f8cfeab",
   "metadata": {},
   "outputs": [
    {
     "data": {
      "text/plain": [
       "tensor([-0.1448, -0.0842, -0.0713, -0.1799, -0.0463, -0.1540,  0.0068,  0.2833,\n",
       "         0.2197,  0.0625])"
      ]
     },
     "execution_count": 1324,
     "metadata": {},
     "output_type": "execute_result"
    }
   ],
   "source": [
    "a[-1]"
   ]
  },
  {
   "cell_type": "code",
   "execution_count": 1325,
   "id": "8d66e5fd-d49d-4210-82ea-4146ff55c923",
   "metadata": {
    "scrolled": true
   },
   "outputs": [
    {
     "data": {
      "text/plain": [
       "tensor([-3.4099e-03, -5.8973e-03, -7.6170e-03,  9.3721e-03, -1.3587e-02,\n",
       "         1.8532e-02,  1.4251e-02,  3.1801e-04,  3.0352e-03, -3.2623e-03,\n",
       "        -1.5701e-04,  3.3171e-03,  1.7362e-03, -1.6741e-02, -1.0981e-02,\n",
       "         8.7031e-03, -1.7773e-03, -1.4019e-02,  4.1619e-03, -1.4817e-02,\n",
       "         1.1686e-02,  2.3578e-02,  5.8366e-03, -2.1297e-02,  1.2433e-02,\n",
       "         6.0295e-03, -3.1840e-03,  1.0132e-02,  4.2972e-03,  1.6210e-03,\n",
       "         1.0653e-02,  7.5712e-03, -5.2470e-03,  5.2288e-03, -1.8128e-03,\n",
       "         1.1832e-02,  3.6505e-04, -7.4102e-03,  4.9205e-03, -2.8104e-03,\n",
       "         2.3235e-03,  5.7258e-03,  5.6098e-03, -2.7119e-02,  3.5684e-03,\n",
       "        -4.9104e-03, -2.0233e-02, -1.5040e-02,  1.9762e-03,  1.2869e-02,\n",
       "        -1.3593e-02,  2.6663e-03,  8.3546e-04,  1.1420e-04, -2.2234e-03,\n",
       "        -7.7329e-03,  1.3043e-02,  1.0374e-03, -3.6343e-03,  1.6006e-02,\n",
       "        -4.2107e-03,  6.9430e-03,  3.9188e-03, -1.1052e-02, -1.0793e-02,\n",
       "        -2.7822e-03,  6.6480e-03, -1.3865e-02, -6.4596e-03, -4.3614e-03,\n",
       "         7.9239e-03, -1.7550e-02,  8.4070e-03,  1.7274e-03,  2.3647e-04,\n",
       "         9.5655e-03,  7.8308e-03,  3.3702e-03, -1.5272e-02,  1.1356e-02,\n",
       "         9.2493e-04, -1.6476e-02, -3.4568e-03,  4.0190e-03,  6.6195e-03,\n",
       "         1.8404e-03,  2.3134e-03, -2.6442e-03, -8.5248e-03, -8.0906e-03,\n",
       "        -1.2538e-02, -5.4577e-03, -1.3421e-03,  6.5981e-03,  7.6074e-03,\n",
       "        -4.5457e-03, -1.8668e-03, -1.7189e-02, -8.5475e-03,  2.5048e-03,\n",
       "        -1.0515e-03, -3.4921e-03,  5.5269e-03,  8.9754e-03, -2.3449e-03,\n",
       "        -6.3000e-03,  1.8980e-03,  1.6653e-02, -6.6904e-03, -5.8078e-03,\n",
       "        -3.4411e-04, -1.0169e-03, -1.2014e-02,  9.5344e-03,  1.4412e-02,\n",
       "        -3.7068e-03, -2.3374e-03, -1.2199e-03, -1.1700e-04, -5.9668e-03,\n",
       "         1.1483e-04, -7.1202e-03, -2.7524e-03,  4.5145e-03,  4.5223e-03,\n",
       "         2.9892e-03, -6.6641e-03,  1.5674e-03,  2.4297e-04,  2.2726e-03,\n",
       "        -1.5749e-03, -2.9594e-04, -4.5969e-03, -1.0677e-03, -2.4302e-03,\n",
       "         1.1766e-02,  2.9497e-03, -5.6257e-03, -1.7224e-02, -2.3138e-02,\n",
       "         1.1275e-02, -3.0647e-03, -1.0379e-02, -1.1667e-02, -7.0770e-03,\n",
       "         9.9773e-03, -4.6209e-03, -4.5869e-04, -3.5971e-03,  3.9822e-03,\n",
       "        -5.7489e-03,  1.0972e-02,  2.1936e-04, -3.8459e-04,  6.6689e-03,\n",
       "         1.5479e-02,  1.0327e-02, -2.6382e-03,  3.2197e-03, -6.8177e-03,\n",
       "         3.0987e-03,  1.3005e-02, -2.7875e-02,  3.3079e-03,  8.7369e-04,\n",
       "        -7.1141e-03, -1.3656e-02, -2.9257e-03,  2.4826e-04, -4.9001e-03,\n",
       "        -4.8084e-03,  2.8515e-03,  1.1481e-02,  9.2251e-03, -8.1557e-04,\n",
       "        -1.3310e-02, -4.6017e-03,  1.9773e-02,  6.0751e-03, -1.1226e-02,\n",
       "         3.2344e-04,  8.0715e-03,  4.6232e-03, -9.9197e-03, -3.3058e-03,\n",
       "        -6.0332e-03,  1.3313e-02,  1.4637e-02,  1.2196e-02,  4.7105e-03,\n",
       "         1.6894e-02, -1.4839e-02,  6.4173e-03, -8.8699e-03, -1.2259e-03,\n",
       "         1.0395e-02, -6.1168e-03, -1.3281e-02, -4.9896e-03, -1.7774e-03,\n",
       "         2.8195e-03, -8.3501e-03, -3.9648e-03, -7.2498e-03,  1.0444e-02,\n",
       "         5.2402e-03, -7.5102e-04, -1.3946e-02, -1.9806e-02, -2.3433e-03,\n",
       "         1.0891e-02,  1.7984e-04,  1.9758e-03,  3.3495e-03,  1.8413e-04,\n",
       "         5.0109e-03,  5.0441e-03, -1.6611e-03,  5.2713e-03,  1.8397e-02,\n",
       "        -6.5242e-03,  9.3545e-03,  5.1630e-03, -7.2108e-03, -1.8343e-02,\n",
       "        -1.7217e-02, -8.1912e-03,  1.2153e-03, -3.4784e-04, -1.0236e-02,\n",
       "        -1.8553e-03, -1.5326e-02,  4.8288e-03,  1.1620e-02,  6.3111e-03,\n",
       "         4.1687e-03,  7.4551e-04, -2.3931e-03, -1.1667e-02,  8.7616e-03,\n",
       "        -1.5229e-02, -4.5863e-03,  7.6415e-03,  5.5382e-03,  4.8949e-03,\n",
       "         1.2130e-02,  6.0513e-03, -6.9740e-04, -1.3843e-02, -2.0388e-03,\n",
       "        -8.8167e-05,  1.6524e-03, -7.2370e-03,  8.0734e-03,  1.3498e-03,\n",
       "         4.7087e-03, -4.5088e-03,  9.4298e-04,  2.4713e-03, -1.4918e-03,\n",
       "        -7.9033e-03, -3.0955e-03,  2.7307e-04,  6.1059e-03, -4.6420e-03,\n",
       "        -1.4155e-02, -1.9085e-02, -3.2429e-04,  1.2520e-02,  5.4182e-04,\n",
       "        -1.8567e-03,  4.5324e-03,  1.4740e-03,  4.3761e-05,  9.8130e-03,\n",
       "        -8.0744e-04, -4.0639e-03,  1.7967e-02, -1.6276e-02,  2.1985e-03,\n",
       "        -3.6617e-03, -2.4022e-02, -8.2151e-03, -1.3133e-02, -5.6604e-03,\n",
       "        -9.6414e-04,  1.6027e-02, -7.3653e-03,  1.0229e-02,  6.1541e-03,\n",
       "         2.0389e-03, -6.2851e-03, -5.1559e-03,  1.1564e-02, -7.8008e-03,\n",
       "         1.0226e-03, -7.3790e-03,  2.0597e-02, -1.2173e-02,  1.4342e-02,\n",
       "         8.9762e-03, -8.0176e-03, -8.1114e-03, -6.0139e-03,  8.9137e-03,\n",
       "        -8.7085e-03,  4.6991e-04,  9.0568e-03, -1.0402e-03,  9.5042e-03,\n",
       "         1.0163e-03, -1.8754e-02, -1.8111e-03, -9.1153e-03,  5.2916e-03,\n",
       "        -3.6385e-03,  2.5126e-03,  7.7073e-03,  2.1627e-02,  5.2083e-03,\n",
       "        -1.2255e-02, -3.4397e-03,  1.5714e-03, -1.2761e-02,  3.0959e-03,\n",
       "        -1.0912e-02, -4.1552e-03, -1.8927e-03,  2.7701e-04, -1.1190e-02,\n",
       "        -1.8567e-02, -1.8549e-03, -5.4450e-03, -1.3004e-02, -1.4727e-02,\n",
       "        -5.9650e-03,  2.0184e-03, -1.1849e-03, -7.6520e-03,  8.7759e-04,\n",
       "        -2.1067e-03, -7.4472e-03, -7.2434e-04,  2.6528e-03, -9.0449e-03,\n",
       "        -1.3383e-02,  2.0514e-03, -1.2844e-02,  8.7124e-05, -1.5537e-02,\n",
       "        -1.1127e-02, -5.3911e-03, -4.3707e-04,  6.9538e-03,  1.5854e-03,\n",
       "        -1.2558e-02, -5.1060e-03, -1.4002e-02,  3.8105e-04, -5.0221e-03,\n",
       "        -1.2166e-03,  2.7381e-03, -1.7397e-03,  7.3918e-04,  5.1693e-03,\n",
       "        -1.8123e-02, -2.9255e-04,  3.2706e-03, -1.3848e-02, -1.1469e-03,\n",
       "        -5.1215e-03,  8.4054e-03,  1.5089e-02,  2.3299e-04, -4.6183e-03,\n",
       "        -1.0062e-02, -6.5577e-03, -1.8872e-02,  5.3024e-03,  6.6901e-03,\n",
       "        -3.6001e-03,  5.5449e-03,  7.6214e-03,  1.9560e-02,  3.5908e-04,\n",
       "        -1.2380e-02,  3.5623e-03,  2.0561e-03,  5.0804e-03,  7.0595e-03,\n",
       "        -8.1178e-04, -3.5618e-03, -1.0151e-02, -4.2405e-03,  4.1027e-03,\n",
       "        -1.3565e-02, -6.0112e-03,  5.8766e-03,  2.3024e-03, -5.5064e-03,\n",
       "        -1.3278e-02, -3.5608e-03, -1.3636e-02,  1.9163e-04,  1.0642e-02,\n",
       "         8.4645e-03,  1.8459e-03, -6.2956e-03, -1.5858e-02,  1.0532e-02,\n",
       "         1.3651e-03,  5.8069e-03, -4.3518e-03, -1.1449e-03,  6.0804e-03,\n",
       "         7.4888e-03,  3.7276e-04, -3.7614e-03,  8.1770e-03,  2.8113e-04,\n",
       "         7.2803e-03, -1.3594e-02,  1.4523e-03,  8.8777e-03,  5.5844e-03,\n",
       "        -7.5109e-03,  8.2332e-04,  1.1009e-02,  1.7314e-03, -6.5563e-03,\n",
       "         1.1770e-03, -2.5648e-02, -1.4050e-02, -4.9626e-03, -6.6830e-03,\n",
       "         8.5499e-03,  1.1658e-02,  1.5588e-03, -2.9875e-03,  2.7139e-03,\n",
       "        -2.3051e-03,  3.1574e-03, -5.0225e-03,  4.9964e-03,  3.2355e-03,\n",
       "        -1.6583e-03, -1.7263e-03,  2.7383e-03, -5.1868e-03, -6.9864e-03,\n",
       "         9.7265e-03, -3.7918e-04,  1.1752e-02, -1.4173e-03,  6.8879e-03,\n",
       "         8.4187e-03,  6.7893e-03,  8.3180e-04,  7.9386e-04,  1.6547e-02,\n",
       "        -8.7560e-03,  1.6030e-03, -1.6827e-02,  3.2125e-03, -6.4778e-03,\n",
       "        -4.4987e-03, -1.5815e-02,  9.1193e-03, -6.2894e-03,  4.1059e-03,\n",
       "         1.5121e-03,  5.9670e-03, -8.6802e-03, -7.8893e-03,  1.3727e-03,\n",
       "        -4.5477e-04,  9.9684e-03,  5.2702e-03,  4.9441e-03, -1.0778e-02,\n",
       "        -2.2038e-03, -7.5814e-03,  1.3740e-02,  1.3796e-02,  5.2578e-03,\n",
       "        -1.1510e-02, -4.6208e-03,  5.9539e-04,  1.6319e-03, -5.1588e-03,\n",
       "        -5.4758e-03, -7.0699e-03,  6.6627e-03,  1.6765e-04,  4.7632e-03,\n",
       "        -1.7272e-03,  6.3051e-03, -1.1557e-02,  3.2794e-03, -6.7268e-04,\n",
       "        -5.9919e-03, -7.3828e-03,  1.5227e-02, -4.6141e-03, -1.1370e-02,\n",
       "        -1.3739e-02,  2.0686e-03,  1.6610e-02,  7.0146e-03,  1.7413e-03,\n",
       "        -5.2371e-03,  1.5631e-03,  4.8202e-03,  1.0403e-02,  2.9125e-03,\n",
       "        -9.0912e-03,  3.2042e-04,  3.7332e-03, -1.0017e-02, -4.4182e-03,\n",
       "         2.7649e-02,  5.1258e-03, -2.3627e-04,  4.3986e-03,  2.5446e-04,\n",
       "        -1.8107e-04,  1.8142e-02,  1.3015e-02,  1.0839e-02,  9.5545e-03,\n",
       "         2.5547e-03,  4.3382e-03, -5.6168e-03,  3.7425e-03,  8.9823e-03,\n",
       "         1.4866e-02, -1.0268e-02, -1.5245e-02, -1.7416e-02, -1.7034e-03,\n",
       "         8.4295e-03,  9.5766e-03, -1.5505e-02,  6.2981e-03,  7.6794e-03,\n",
       "        -8.6596e-03, -1.6815e-02, -2.1939e-03,  4.8445e-03,  1.8321e-04,\n",
       "        -3.2825e-03,  6.2843e-03,  1.6510e-03,  1.5077e-02, -1.8540e-04,\n",
       "        -7.4759e-03,  5.3255e-03, -1.4583e-02, -6.8708e-03,  8.8637e-03,\n",
       "        -9.9750e-03, -1.1274e-03,  8.8297e-03, -1.1857e-02, -5.3389e-04,\n",
       "         3.0451e-03, -5.5876e-03,  1.4719e-03,  4.0652e-03, -1.1362e-02,\n",
       "        -7.7890e-06, -4.2905e-03, -6.5442e-03,  1.4229e-02, -6.5763e-03,\n",
       "        -3.5385e-04,  1.5765e-03,  5.3690e-03, -8.2157e-03, -6.6164e-03,\n",
       "         2.6804e-03, -7.1458e-04, -1.6770e-02, -1.7920e-02,  7.7999e-03,\n",
       "         1.8601e-02, -2.9108e-03, -6.7457e-03, -3.7183e-03, -1.9293e-02,\n",
       "        -9.8036e-03,  7.5849e-03, -7.0472e-03,  2.4486e-03,  1.3608e-03,\n",
       "         1.0098e-02, -3.1317e-03, -1.6971e-03,  8.9465e-04, -2.1870e-03,\n",
       "         9.5605e-03,  1.7231e-02,  3.3754e-03, -5.6542e-03,  7.2483e-03,\n",
       "         1.1144e-02, -6.1963e-03, -4.6786e-04,  4.3460e-03, -2.2002e-03,\n",
       "         3.4251e-03, -6.7473e-03,  1.4087e-02, -1.8993e-02,  1.7786e-02,\n",
       "        -9.8379e-03, -5.4634e-03,  1.2873e-03, -2.0041e-02, -1.1377e-02,\n",
       "         2.6995e-02,  7.2226e-05, -7.9888e-03,  2.3203e-03, -1.8296e-02,\n",
       "         1.5127e-03,  2.0797e-02, -3.5582e-03,  9.1086e-03, -7.3239e-04,\n",
       "         5.7407e-03,  4.2886e-03,  9.8906e-03, -8.6811e-03, -6.2283e-03,\n",
       "        -7.7144e-03,  1.8123e-03, -6.2366e-03,  1.7517e-02, -5.0139e-03,\n",
       "        -1.9107e-02, -9.8813e-03, -8.3628e-03,  3.8114e-03, -8.3182e-03,\n",
       "         1.0935e-02, -1.2879e-02,  1.3855e-02, -2.2307e-03, -2.0496e-03,\n",
       "        -2.9741e-04, -2.0361e-02, -1.2161e-02,  3.3543e-03, -8.0695e-03,\n",
       "         9.3348e-03,  2.1811e-02, -6.3629e-03, -1.9528e-02, -9.8233e-03,\n",
       "         3.7842e-03,  2.1074e-02, -6.8755e-03,  1.2912e-02,  1.0363e-02,\n",
       "         7.3825e-03, -1.1114e-02, -6.4901e-03, -1.2932e-02,  1.6797e-02,\n",
       "         6.2250e-03, -1.0451e-03,  1.0846e-02,  6.7275e-03,  4.1699e-03,\n",
       "         1.2190e-02,  6.5010e-05, -7.4951e-04,  7.9796e-03,  1.2950e-02,\n",
       "        -1.0756e-02,  5.9763e-03,  5.2459e-03, -1.2635e-02, -1.5376e-03,\n",
       "         5.4463e-03,  2.0340e-03, -5.0741e-04,  7.7490e-04,  1.5005e-02,\n",
       "        -2.2254e-03, -6.9149e-04, -4.5582e-05, -2.0616e-02, -5.0587e-03,\n",
       "         1.2123e-02, -3.6046e-03,  1.1589e-02,  2.3413e-03, -1.3134e-02,\n",
       "         1.7374e-02,  3.9336e-03, -8.8667e-03, -6.5015e-03, -3.7057e-03,\n",
       "        -1.3497e-02,  1.2065e-02,  4.5793e-03, -8.3119e-03,  6.9646e-03,\n",
       "         1.5163e-03,  3.8914e-04, -1.5402e-02,  8.7180e-03,  1.4165e-02,\n",
       "         7.2567e-03,  5.0829e-03,  9.2566e-03,  8.6523e-03,  1.8037e-02,\n",
       "         2.3719e-03, -8.1502e-04,  7.0155e-03,  6.5872e-03,  1.0450e-02,\n",
       "        -4.2342e-03,  1.0670e-03,  6.1607e-04,  1.0470e-03,  2.7049e-03,\n",
       "        -4.8361e-03, -1.2859e-02,  9.5885e-03, -8.0827e-03,  1.4245e-03,\n",
       "        -2.9118e-03,  8.2315e-03,  9.5470e-03, -2.8359e-03,  1.5556e-02,\n",
       "         1.0611e-02, -7.4114e-03,  2.7416e-03, -1.1110e-02, -1.4414e-02,\n",
       "         5.9046e-03,  7.5263e-03, -1.0933e-02,  4.5891e-03,  8.0689e-03,\n",
       "         1.9201e-02,  7.4032e-03,  6.1166e-03,  2.5036e-04, -1.9781e-02,\n",
       "        -5.2692e-03,  2.3589e-03, -2.0159e-02, -9.3808e-03, -1.1069e-03,\n",
       "        -6.5599e-03, -5.3730e-03, -1.9683e-02,  1.1728e-04,  4.2114e-03,\n",
       "         1.6481e-02,  6.3046e-03,  1.0214e-02,  1.4000e-02,  9.2786e-03,\n",
       "         7.8380e-03, -1.5826e-02, -1.5823e-03,  1.0538e-02,  9.7204e-03,\n",
       "         5.3063e-03,  1.6528e-02,  6.3525e-03, -4.7120e-03, -1.9497e-03,\n",
       "         1.2910e-02, -2.0331e-02, -2.2953e-03, -2.3942e-03],\n",
       "       grad_fn=<SqueezeBackward1>)"
      ]
     },
     "execution_count": 1325,
     "metadata": {},
     "output_type": "execute_result"
    }
   ],
   "source": [
    "a2"
   ]
  },
  {
   "cell_type": "code",
   "execution_count": 1320,
   "id": "7152b67d-015d-44e9-8164-379b47dbcd89",
   "metadata": {
    "scrolled": true
   },
   "outputs": [
    {
     "data": {
      "text/plain": [
       "tensor([-0.0035, -0.0058, -0.0076,  0.0093, -0.0137,  0.0186,  0.0142,  0.0004,\n",
       "         0.0030, -0.0032, -0.0001,  0.0032,  0.0018, -0.0168, -0.0111,  0.0088,\n",
       "        -0.0017, -0.0141,  0.0042, -0.0148,  0.0117,  0.0236,  0.0058, -0.0213,\n",
       "         0.0125,  0.0061, -0.0031,  0.0103,  0.0042,  0.0015,  0.0107,  0.0077,\n",
       "        -0.0052,  0.0051, -0.0018,  0.0119,  0.0004, -0.0074,  0.0050, -0.0029,\n",
       "         0.0023,  0.0057,  0.0056, -0.0273,  0.0036, -0.0050, -0.0204, -0.0151,\n",
       "         0.0020,  0.0130, -0.0136,  0.0026,  0.0007,  0.0001, -0.0023, -0.0077,\n",
       "         0.0132,  0.0011, -0.0038,  0.0161, -0.0042,  0.0070,  0.0039, -0.0112,\n",
       "        -0.0108, -0.0029,  0.0067, -0.0141, -0.0064, -0.0043,  0.0080, -0.0175,\n",
       "         0.0083,  0.0017,  0.0002,  0.0097,  0.0079,  0.0033, -0.0154,  0.0113,\n",
       "         0.0008, -0.0165, -0.0035,  0.0041,  0.0066,  0.0018,  0.0023, -0.0026,\n",
       "        -0.0085, -0.0080, -0.0125, -0.0055, -0.0013,  0.0067,  0.0077, -0.0045,\n",
       "        -0.0018, -0.0172, -0.0086,  0.0025, -0.0011, -0.0035,  0.0055,  0.0089,\n",
       "        -0.0024, -0.0062,  0.0019,  0.0167, -0.0068, -0.0058, -0.0004, -0.0011,\n",
       "        -0.0120,  0.0097,  0.0144, -0.0038, -0.0024, -0.0012, -0.0001, -0.0061,\n",
       "         0.0001, -0.0072, -0.0027,  0.0045,  0.0045,  0.0030, -0.0067,  0.0017,\n",
       "         0.0002,  0.0023, -0.0015, -0.0002, -0.0045, -0.0012, -0.0025,  0.0118,\n",
       "         0.0031, -0.0057, -0.0173, -0.0231,  0.0112, -0.0031, -0.0104, -0.0117,\n",
       "        -0.0070,  0.0099, -0.0045, -0.0006, -0.0036,  0.0039, -0.0058,  0.0111,\n",
       "         0.0002, -0.0004,  0.0068,  0.0155,  0.0104, -0.0026,  0.0035, -0.0069,\n",
       "         0.0032,  0.0132, -0.0278,  0.0035,  0.0008, -0.0070, -0.0137, -0.0030,\n",
       "         0.0004, -0.0049, -0.0049,  0.0029,  0.0114,  0.0093, -0.0008, -0.0134,\n",
       "        -0.0048,  0.0199,  0.0061, -0.0112,  0.0004,  0.0082,  0.0048, -0.0098,\n",
       "        -0.0031, -0.0058,  0.0135,  0.0148,  0.0125,  0.0049,  0.0172, -0.0149,\n",
       "         0.0064, -0.0089, -0.0013,  0.0104, -0.0061, -0.0134, -0.0051, -0.0017,\n",
       "         0.0029, -0.0083, -0.0041, -0.0073,  0.0106,  0.0055, -0.0006, -0.0138,\n",
       "        -0.0198, -0.0021,  0.0111,  0.0002,  0.0023,  0.0036,  0.0002,  0.0051,\n",
       "         0.0050, -0.0015,  0.0052,  0.0185, -0.0066,  0.0093,  0.0051, -0.0070,\n",
       "        -0.0184, -0.0172, -0.0082,  0.0012, -0.0004, -0.0103, -0.0017, -0.0154,\n",
       "         0.0050,  0.0118,  0.0064,  0.0044,  0.0008, -0.0023, -0.0116,  0.0089,\n",
       "        -0.0151, -0.0043,  0.0077,  0.0055,  0.0049,  0.0123,  0.0061, -0.0008,\n",
       "        -0.0139, -0.0021, -0.0001,  0.0017, -0.0074,  0.0081,  0.0014,  0.0048,\n",
       "        -0.0045,  0.0010,  0.0025, -0.0014, -0.0079, -0.0030,  0.0004,  0.0064,\n",
       "        -0.0045, -0.0141, -0.0192, -0.0004,  0.0125,  0.0006, -0.0018,  0.0044,\n",
       "         0.0015, -0.0001,  0.0098, -0.0008, -0.0041,  0.0180, -0.0165,  0.0023,\n",
       "        -0.0037, -0.0241, -0.0083, -0.0132, -0.0057, -0.0008,  0.0161, -0.0074,\n",
       "         0.0103,  0.0063,  0.0020, -0.0063, -0.0050,  0.0116, -0.0079,  0.0010,\n",
       "        -0.0074,  0.0206, -0.0123,  0.0143,  0.0089, -0.0081, -0.0081, -0.0061,\n",
       "         0.0089, -0.0087,  0.0006,  0.0089, -0.0012,  0.0095,  0.0011, -0.0188,\n",
       "        -0.0019, -0.0093,  0.0052, -0.0036,  0.0026,  0.0079,  0.0217,  0.0054,\n",
       "        -0.0122, -0.0032,  0.0015, -0.0128,  0.0031, -0.0110, -0.0041, -0.0019,\n",
       "         0.0002, -0.0112, -0.0187, -0.0018, -0.0055, -0.0130, -0.0147, -0.0060,\n",
       "         0.0020, -0.0012, -0.0076,  0.0008, -0.0021, -0.0074, -0.0006,  0.0027,\n",
       "        -0.0091, -0.0135,  0.0020, -0.0129,  0.0002, -0.0154, -0.0112, -0.0054,\n",
       "        -0.0004,  0.0069,  0.0015, -0.0126, -0.0051, -0.0141,  0.0004, -0.0050,\n",
       "        -0.0013,  0.0027, -0.0017,  0.0007,  0.0051, -0.0181, -0.0004,  0.0033,\n",
       "        -0.0138, -0.0012, -0.0050,  0.0083,  0.0151,  0.0002, -0.0045, -0.0103,\n",
       "        -0.0066, -0.0188,  0.0055,  0.0069, -0.0036,  0.0056,  0.0077,  0.0197,\n",
       "         0.0004, -0.0125,  0.0036,  0.0021,  0.0051,  0.0072, -0.0007, -0.0036,\n",
       "        -0.0103, -0.0043,  0.0042, -0.0136, -0.0060,  0.0060,  0.0023, -0.0055,\n",
       "        -0.0132, -0.0036, -0.0136,  0.0002,  0.0106,  0.0086,  0.0021, -0.0061,\n",
       "        -0.0159,  0.0106,  0.0013,  0.0058, -0.0043, -0.0011,  0.0061,  0.0075,\n",
       "         0.0004, -0.0039,  0.0082,  0.0002,  0.0072, -0.0136,  0.0015,  0.0089,\n",
       "         0.0055, -0.0075,  0.0008,  0.0112,  0.0017, -0.0066,  0.0013, -0.0257,\n",
       "        -0.0142, -0.0050, -0.0067,  0.0087,  0.0119,  0.0018, -0.0030,  0.0026,\n",
       "        -0.0024,  0.0030, -0.0050,  0.0050,  0.0032, -0.0015, -0.0017,  0.0026,\n",
       "        -0.0052, -0.0070,  0.0098, -0.0004,  0.0118, -0.0013,  0.0069,  0.0085,\n",
       "         0.0068,  0.0008,  0.0007,  0.0167, -0.0087,  0.0015, -0.0169,  0.0033,\n",
       "        -0.0064, -0.0044, -0.0156,  0.0093, -0.0063,  0.0042,  0.0015,  0.0060,\n",
       "        -0.0088, -0.0079,  0.0013, -0.0005,  0.0100,  0.0055,  0.0050, -0.0108,\n",
       "        -0.0023, -0.0076,  0.0138,  0.0138,  0.0052, -0.0116, -0.0046,  0.0006,\n",
       "         0.0015, -0.0052, -0.0055, -0.0070,  0.0068,  0.0004,  0.0049, -0.0015,\n",
       "         0.0064, -0.0116,  0.0033, -0.0007, -0.0060, -0.0074,  0.0153, -0.0046,\n",
       "        -0.0113, -0.0137,  0.0021,  0.0166,  0.0070,  0.0018, -0.0054,  0.0015,\n",
       "         0.0049,  0.0105,  0.0030, -0.0091,  0.0002,  0.0038, -0.0100, -0.0044,\n",
       "         0.0279,  0.0054, -0.0001,  0.0045,  0.0002, -0.0002,  0.0184,  0.0131,\n",
       "         0.0108,  0.0097,  0.0026,  0.0043, -0.0056,  0.0038,  0.0089,  0.0149,\n",
       "        -0.0103, -0.0154, -0.0175, -0.0017,  0.0083,  0.0097, -0.0156,  0.0063,\n",
       "         0.0077, -0.0087, -0.0167, -0.0020,  0.0050,  0.0004, -0.0031,  0.0064,\n",
       "         0.0015,  0.0151, -0.0001, -0.0075,  0.0055, -0.0147, -0.0069,  0.0089,\n",
       "        -0.0101, -0.0012,  0.0088, -0.0118, -0.0006,  0.0030, -0.0056,  0.0015,\n",
       "         0.0041, -0.0114,  0.0000, -0.0042, -0.0064,  0.0145, -0.0064, -0.0001,\n",
       "         0.0018,  0.0055, -0.0082, -0.0068,  0.0026, -0.0006, -0.0168, -0.0180,\n",
       "         0.0079,  0.0187, -0.0030, -0.0068, -0.0038, -0.0194, -0.0098,  0.0076,\n",
       "        -0.0072,  0.0025,  0.0013,  0.0101, -0.0031, -0.0017,  0.0010, -0.0020,\n",
       "         0.0098,  0.0174,  0.0036, -0.0055,  0.0074,  0.0111, -0.0062, -0.0005,\n",
       "         0.0043, -0.0023,  0.0035, -0.0068,  0.0142, -0.0191,  0.0179, -0.0099,\n",
       "        -0.0055,  0.0013, -0.0200, -0.0114,  0.0272,  0.0001, -0.0080,  0.0024,\n",
       "        -0.0181,  0.0018,  0.0210, -0.0032,  0.0093, -0.0006,  0.0058,  0.0043,\n",
       "         0.0099, -0.0087, -0.0062, -0.0077,  0.0018, -0.0063,  0.0175, -0.0050,\n",
       "        -0.0192, -0.0100, -0.0083,  0.0038, -0.0083,  0.0110, -0.0130,  0.0139,\n",
       "        -0.0023, -0.0018, -0.0001, -0.0203, -0.0120,  0.0035, -0.0079,  0.0094,\n",
       "         0.0221, -0.0063, -0.0197, -0.0098,  0.0038,  0.0212, -0.0068,  0.0130,\n",
       "         0.0104,  0.0074, -0.0112, -0.0064, -0.0130,  0.0169,  0.0062, -0.0011,\n",
       "         0.0108,  0.0067,  0.0042,  0.0123,  0.0001, -0.0006,  0.0081,  0.0132,\n",
       "        -0.0106,  0.0061,  0.0054, -0.0128, -0.0015,  0.0055,  0.0020, -0.0005,\n",
       "         0.0008,  0.0150, -0.0023, -0.0007,  0.0000, -0.0206, -0.0051,  0.0123,\n",
       "        -0.0036,  0.0117,  0.0024, -0.0132,  0.0174,  0.0039, -0.0089, -0.0064,\n",
       "        -0.0038, -0.0135,  0.0120,  0.0046, -0.0083,  0.0070,  0.0015,  0.0004,\n",
       "        -0.0154,  0.0088,  0.0142,  0.0073,  0.0051,  0.0093,  0.0087,  0.0181,\n",
       "         0.0023, -0.0008,  0.0070,  0.0066,  0.0105, -0.0043,  0.0011,  0.0006,\n",
       "         0.0011,  0.0026, -0.0049, -0.0129,  0.0095, -0.0081,  0.0014, -0.0030,\n",
       "         0.0083,  0.0097, -0.0029,  0.0156,  0.0106, -0.0074,  0.0026, -0.0112,\n",
       "        -0.0144,  0.0058,  0.0075, -0.0111,  0.0046,  0.0081,  0.0192,  0.0074,\n",
       "         0.0061,  0.0002, -0.0198, -0.0054,  0.0024, -0.0203, -0.0093, -0.0011,\n",
       "        -0.0067, -0.0055, -0.0197,  0.0001,  0.0043,  0.0165,  0.0063,  0.0103,\n",
       "         0.0141,  0.0093,  0.0079, -0.0159, -0.0015,  0.0106,  0.0098,  0.0054,\n",
       "         0.0167,  0.0063, -0.0048, -0.0020,  0.0131, -0.0205, -0.0023, -0.0024],\n",
       "       grad_fn=<ViewBackward0>)"
      ]
     },
     "execution_count": 1320,
     "metadata": {},
     "output_type": "execute_result"
    }
   ],
   "source": [
    "n1"
   ]
  },
  {
   "cell_type": "code",
   "execution_count": null,
   "id": "003b45a0-68af-4c88-9381-3dcd2a9725a7",
   "metadata": {},
   "outputs": [],
   "source": []
  }
 ],
 "metadata": {
  "kernelspec": {
   "display_name": "Python 3 (ipykernel)",
   "language": "python",
   "name": "python3"
  },
  "language_info": {
   "codemirror_mode": {
    "name": "ipython",
    "version": 3
   },
   "file_extension": ".py",
   "mimetype": "text/x-python",
   "name": "python",
   "nbconvert_exporter": "python",
   "pygments_lexer": "ipython3",
   "version": "3.12.2"
  }
 },
 "nbformat": 4,
 "nbformat_minor": 5
}
