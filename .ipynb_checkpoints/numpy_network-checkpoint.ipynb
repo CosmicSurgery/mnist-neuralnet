{
 "cells": [
  {
   "cell_type": "code",
   "execution_count": 3,
   "id": "458f7ec6-41dd-415c-8bbe-58ab60b774ba",
   "metadata": {},
   "outputs": [],
   "source": [
    "import numpy as np\n",
    "from torchvision import datasets"
   ]
  },
  {
   "cell_type": "code",
   "execution_count": 119,
   "id": "2bbe3fef-1b15-402f-b2c4-146f4e7341a0",
   "metadata": {},
   "outputs": [],
   "source": [
    "training_data = datasets.MNIST(\n",
    "    root=\"data\",\n",
    "    train=True,\n",
    "    download=True\n",
    ")\n",
    "test_data = datasets.MNIST(\n",
    "    root=\"data\",\n",
    "    train=False,\n",
    "    download=True\n",
    ")"
   ]
  },
  {
   "cell_type": "code",
   "execution_count": 20,
   "id": "9935ac6d-42d9-4e49-8379-be6f81de74af",
   "metadata": {},
   "outputs": [
    {
     "name": "stdout",
     "output_type": "stream",
     "text": [
      "(60000, 28, 28) (10000, 28, 28)\n"
     ]
    }
   ],
   "source": [
    "print(training_data.data.numpy().shape, test_data.data.numpy().shape)"
   ]
  },
  {
   "cell_type": "code",
   "execution_count": 23,
   "id": "945b581a-7716-475a-a8c7-61b9428731cc",
   "metadata": {},
   "outputs": [],
   "source": [
    "train = training_data.data.numpy()[:10,:]\n",
    "train = train.reshape(10,28*28)"
   ]
  },
  {
   "cell_type": "code",
   "execution_count": 27,
   "id": "bfc8026f-3e15-4706-8222-fd61f1873d2d",
   "metadata": {},
   "outputs": [],
   "source": [
    "test = test_data.data.numpy()[:1,:]\n",
    "test = test.reshape(28*28)"
   ]
  },
  {
   "cell_type": "code",
   "execution_count": 31,
   "id": "ae6226f7-e91e-49c9-b8ea-1867b6e88087",
   "metadata": {},
   "outputs": [],
   "source": [
    "INPUT_SIZE = training_data.data.numpy().shape[1] * training_data.data.numpy().shape[2]\n",
    "LAYER_ONE_SIZE = 18\n",
    "LAYER_TWO_SIZE = 10\n",
    "\n",
    "weights_l1 = np.zeros((INPUT_SIZE, LAYER_ONE_SIZE))\n",
    "bias_l1 = np.zeros((LAYER_ONE_SIZE))\n",
    "\n",
    "weights_l2 = np.zeros((LAYER_ONE_SIZE,LAYER_TWO_SIZE))\n",
    "bias_l2 = np.zeros((LAYER_TWO_SIZE))\n"
   ]
  },
  {
   "cell_type": "code",
   "execution_count": 49,
   "id": "fcb1e5ad-e4d5-4591-b254-dfc66f862876",
   "metadata": {},
   "outputs": [
    {
     "data": {
      "text/plain": [
       "(18,)"
      ]
     },
     "execution_count": 49,
     "metadata": {},
     "output_type": "execute_result"
    }
   ],
   "source": [
    "(test @ weights_l1).shape"
   ]
  },
  {
   "cell_type": "code",
   "execution_count": 50,
   "id": "a1b72086-6133-4c94-852a-f728941038ac",
   "metadata": {},
   "outputs": [
    {
     "name": "stdout",
     "output_type": "stream",
     "text": [
      "(18,)\n",
      "(784,) (784, 18)\n"
     ]
    }
   ],
   "source": [
    "print(bias_l1.shape)\n",
    "print(test.shape,weights_l1.shape)"
   ]
  },
  {
   "cell_type": "code",
   "execution_count": 41,
   "id": "132b04d7-a99c-4a47-903f-c9c256593647",
   "metadata": {},
   "outputs": [
    {
     "data": {
      "text/plain": [
       "0.0"
      ]
     },
     "execution_count": 41,
     "metadata": {},
     "output_type": "execute_result"
    }
   ],
   "source": [
    "test @ weights_l1[:,0]"
   ]
  },
  {
   "cell_type": "code",
   "execution_count": 188,
   "id": "2a5278a7-3d0b-413f-932a-50f134e91c16",
   "metadata": {},
   "outputs": [],
   "source": [
    "class NeuralNetwork:\n",
    "    def __init__(self, w=[], b=[], a=[]):\n",
    "        self.w = w\n",
    "        self.b = b\n",
    "        self.layers = len(self.w)\n",
    "        map = {'relu':self.relu, 'softmax':self.softmax}\n",
    "        self.a = [map[k] for k in a] \n",
    "        self.activations = [x]\n",
    "\n",
    "    def forward(self,x,y):\n",
    "        for i in range(self.layers):\n",
    "            z = self.w[i]@self.activations[-1]\n",
    "            activation = self.a[i](z+self.b[i])\n",
    "            self.activations.append(activation.squeeze())\n",
    "        y_hat = activations[-1]\n",
    "        print(y, y_hat)\n",
    "\n",
    "    def loss(self,y_hat,y):\n",
    "        print(y_hat,y)\n",
    "        return np.log(y_hat[y])\n",
    "    \n",
    "    def softmax(self,a):\n",
    "        return np.exp(a) / np.sum(np.exp(a))\n",
    "\n",
    "    def relu(self, a):\n",
    "        return a*[a>=0]\n",
    "            \n",
    "        "
   ]
  },
  {
   "cell_type": "code",
   "execution_count": 140,
   "id": "8caede2f-241a-44ad-9fa1-360294dc1443",
   "metadata": {},
   "outputs": [
    {
     "name": "stdout",
     "output_type": "stream",
     "text": [
      "(784,) 5\n"
     ]
    }
   ],
   "source": [
    "i = 0\n",
    "x = training_data.data.numpy()[0,:]\n",
    "x = x.reshape(x.shape[0]*x.shape[1])\n",
    "\n",
    "y = training_data[i][1]\n",
    "\n",
    "print(x.shape, y)"
   ]
  },
  {
   "cell_type": "code",
   "execution_count": 141,
   "id": "ce1eef2d-6566-47b6-87d1-308d1b0369e1",
   "metadata": {},
   "outputs": [
    {
     "data": {
      "text/plain": [
       "(60000, 28, 28)"
      ]
     },
     "execution_count": 141,
     "metadata": {},
     "output_type": "execute_result"
    }
   ],
   "source": [
    "training_data.data.numpy().shape"
   ]
  },
  {
   "cell_type": "code",
   "execution_count": 142,
   "id": "a898d779-11c4-46ba-a34b-2e09a7c152b0",
   "metadata": {},
   "outputs": [
    {
     "data": {
      "text/plain": [
       "2"
      ]
     },
     "execution_count": 142,
     "metadata": {},
     "output_type": "execute_result"
    }
   ],
   "source": [
    "nn.layers"
   ]
  },
  {
   "cell_type": "code",
   "execution_count": 143,
   "id": "564373f0-e659-40ca-9499-33a1868a738f",
   "metadata": {},
   "outputs": [
    {
     "name": "stdout",
     "output_type": "stream",
     "text": [
      "(1, 18)\n",
      "(1, 10)\n",
      "5 [[0.1 0.1 0.1 0.1 0.1 0.1 0.1 0.1 0.1 0.1]]\n"
     ]
    }
   ],
   "source": [
    "nn = NeuralNetwork(w=[weights_l1,weights_l2],b=[bias_l1, bias_l2],a=['relu','softmax'])\n",
    "nn.forward(x,y)"
   ]
  },
  {
   "cell_type": "code",
   "execution_count": 145,
   "id": "d8cae482-9aaf-478e-a7ea-cabba26f89f1",
   "metadata": {},
   "outputs": [],
   "source": [
    "import torch"
   ]
  },
  {
   "cell_type": "code",
   "execution_count": 176,
   "id": "e279e7cb-c01c-4d2c-84a7-1ee3f26d0e6d",
   "metadata": {},
   "outputs": [
    {
     "name": "stdout",
     "output_type": "stream",
     "text": [
      "odict_keys(['linear_relu_stack.0.weight', 'linear_relu_stack.0.bias', 'linear_relu_stack.2.weight', 'linear_relu_stack.2.bias'])\n"
     ]
    }
   ],
   "source": [
    "model = torch.load('model.pth')\n",
    "print(model.keys())\n",
    "weights = [model['linear_relu_stack.0.weight'].numpy(), model['linear_relu_stack.2.weight'].numpy()]\n",
    "bias = model['linear_relu_stack.0.bias'].numpy(), model['linear_relu_stack.2.bias'].numpy()\n",
    "\n"
   ]
  },
  {
   "cell_type": "code",
   "execution_count": 189,
   "id": "cb4e1b3d-5132-437f-9721-082344db8221",
   "metadata": {},
   "outputs": [
    {
     "name": "stdout",
     "output_type": "stream",
     "text": [
      "5 [nan  0.  0. nan  0. nan  0.  0. nan  0.]\n"
     ]
    },
    {
     "name": "stderr",
     "output_type": "stream",
     "text": [
      "C:\\Users\\miles\\AppData\\Local\\Temp\\ipykernel_17860\\3020843187.py:23: RuntimeWarning: overflow encountered in exp\n",
      "  return np.exp(a) / np.sum(np.exp(a))\n",
      "C:\\Users\\miles\\AppData\\Local\\Temp\\ipykernel_17860\\3020843187.py:23: RuntimeWarning: invalid value encountered in divide\n",
      "  return np.exp(a) / np.sum(np.exp(a))\n"
     ]
    }
   ],
   "source": [
    "nn = NeuralNetwork(w=weights, b= bias,a=['relu','softmax'])\n",
    "nn.forward(x,y)"
   ]
  },
  {
   "cell_type": "code",
   "execution_count": 165,
   "id": "b10065ab-e757-4700-b5a3-f694e1754de2",
   "metadata": {},
   "outputs": [
    {
     "data": {
      "text/plain": [
       "(18,)"
      ]
     },
     "execution_count": 165,
     "metadata": {},
     "output_type": "execute_result"
    }
   ],
   "source": [
    "(weights[0]@x).shape"
   ]
  },
  {
   "cell_type": "code",
   "execution_count": 162,
   "id": "7e3015fd-7c42-4d0d-be1b-3ea1e85698ee",
   "metadata": {},
   "outputs": [
    {
     "data": {
      "text/plain": [
       "(784,)"
      ]
     },
     "execution_count": 162,
     "metadata": {},
     "output_type": "execute_result"
    }
   ],
   "source": [
    "x.shape"
   ]
  },
  {
   "cell_type": "code",
   "execution_count": 175,
   "id": "f596e57e-afec-4b0d-bf2c-c3a0d3cb5321",
   "metadata": {},
   "outputs": [
    {
     "data": {
      "text/plain": [
       "(tensor([ 0.0495,  0.1277,  0.1084,  0.0755,  0.1145,  0.0229,  0.1273,  0.1859,\n",
       "          0.2094, -0.0232, -0.0198, -0.0285,  0.0208,  0.0857,  0.0708,  0.0131,\n",
       "          0.0147,  0.0709]),\n",
       " tensor([-0.1486,  0.1066, -0.2193, -0.1151,  0.2829,  0.2039, -0.0093,  0.0890,\n",
       "         -0.2209,  0.0786]))"
      ]
     },
     "execution_count": 175,
     "metadata": {},
     "output_type": "execute_result"
    }
   ],
   "source": [
    "nn.b"
   ]
  }
 ],
 "metadata": {
  "kernelspec": {
   "display_name": "Python 3 (ipykernel)",
   "language": "python",
   "name": "python3"
  },
  "language_info": {
   "codemirror_mode": {
    "name": "ipython",
    "version": 3
   },
   "file_extension": ".py",
   "mimetype": "text/x-python",
   "name": "python",
   "nbconvert_exporter": "python",
   "pygments_lexer": "ipython3",
   "version": "3.12.2"
  }
 },
 "nbformat": 4,
 "nbformat_minor": 5
}
