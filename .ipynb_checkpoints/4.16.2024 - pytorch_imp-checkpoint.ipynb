{
 "cells": [
  {
   "cell_type": "code",
   "execution_count": 1,
   "id": "d88919c8-c47c-4740-bd3a-af1a9555529d",
   "metadata": {},
   "outputs": [],
   "source": [
    "import torch\n",
    "from torch import nn\n",
    "from torch.utils.data import Dataset\n",
    "from torchvision import datasets\n",
    "from torch.utils.data import DataLoader\n",
    "from torchvision.transforms import ToTensor\n",
    "import matplotlib.pyplot as plt\n",
    "import seaborn as sns\n",
    "import numpy as np"
   ]
  },
  {
   "cell_type": "code",
   "execution_count": 21,
   "id": "2e27198a-4301-473d-9ee2-1e12dbc6ce9e",
   "metadata": {},
   "outputs": [
    {
     "name": "stdout",
     "output_type": "stream",
     "text": [
      "Using cpu device\n"
     ]
    }
   ],
   "source": [
    "device = (\n",
    "    \"cuda\"\n",
    "    if torch.cuda.is_available()\n",
    "    else \"mps\"\n",
    "    if torch.backends.mps.is_available()\n",
    "    else \"cpu\"\n",
    ")\n",
    "print(f\"Using {device} device\")\n",
    "\n",
    "training_data = datasets.MNIST(\n",
    "    root=\"data\",\n",
    "    train=True,\n",
    "    download=True,\n",
    "    transform=ToTensor()\n",
    ")\n",
    "test_data = datasets.MNIST(\n",
    "    root=\"data\",\n",
    "    train=False,\n",
    "    download=True,\n",
    "    transform=ToTensor()\n",
    ")\n",
    "epochs = 10\n",
    "lr = 0.001\n",
    "\n",
    "def get_data(training_data, test_data):\n",
    "    return (\n",
    "        DataLoader(training_data), #, shuffle=True),\n",
    "        DataLoader(test_data),\n",
    "    )\n",
    "\n",
    "train_dl, valid_dl = get_data(training_data, test_data)"
   ]
  },
  {
   "cell_type": "code",
   "execution_count": 48,
   "id": "c2fb4e58-19d8-4937-b1de-9622c44deab9",
   "metadata": {
    "scrolled": true
   },
   "outputs": [
    {
     "data": {
      "text/plain": [
       "(torch.Size([784]), torch.Size([]))"
      ]
     },
     "execution_count": 48,
     "metadata": {},
     "output_type": "execute_result"
    }
   ],
   "source": [
    "x1,y1 = next(iter(train_dl))\n",
    "x1, y1 =x1.flatten(), y1.squeeze()\n",
    "x1.shape, y1.shape"
   ]
  },
  {
   "cell_type": "code",
   "execution_count": 335,
   "id": "dce317fd-1713-49e9-92d1-32271c058402",
   "metadata": {},
   "outputs": [
    {
     "data": {
      "text/plain": [
       "odict_keys(['linear_relu_stack.0.weight', 'linear_relu_stack.0.bias', 'linear_relu_stack.2.weight', 'linear_relu_stack.2.bias'])"
      ]
     },
     "execution_count": 335,
     "metadata": {},
     "output_type": "execute_result"
    }
   ],
   "source": [
    "state_dict = torch.load('model.pth')\n",
    "state_dict.keys()"
   ]
  },
  {
   "cell_type": "code",
   "execution_count": 336,
   "id": "1c021a9f-68c3-4559-8673-9b807b047c06",
   "metadata": {},
   "outputs": [
    {
     "data": {
      "text/plain": [
       "tensor([[-0.0003,  0.0192, -0.0294,  ...,  0.0219,  0.0037,  0.0021],\n",
       "        [-0.0198, -0.0150, -0.0104,  ..., -0.0203, -0.0060, -0.0299],\n",
       "        [-0.0201,  0.0149, -0.0333,  ..., -0.0203,  0.0012,  0.0080],\n",
       "        ...,\n",
       "        [-0.0215,  0.0106,  0.0308,  ..., -0.0199,  0.0161, -0.0342],\n",
       "        [ 0.0350, -0.0297, -0.0037,  ...,  0.0171,  0.0238, -0.0001],\n",
       "        [ 0.0085,  0.0223, -0.0324,  ..., -0.0296,  0.0182, -0.0296]])"
      ]
     },
     "execution_count": 336,
     "metadata": {},
     "output_type": "execute_result"
    }
   ],
   "source": [
    "state_dict['linear_relu_stack.0.weight']"
   ]
  },
  {
   "cell_type": "code",
   "execution_count": 337,
   "id": "09be1b13-b164-4854-bf50-d8bf69b99e1c",
   "metadata": {},
   "outputs": [],
   "source": [
    "weights = []\n",
    "weights.append(state_dict['linear_relu_stack.0.weight'].clone())\n",
    "weights.append(state_dict['linear_relu_stack.2.weight'].clone())\n",
    "bias = []\n",
    "bias.append(state_dict['linear_relu_stack.0.bias'].clone())\n",
    "bias.append(state_dict['linear_relu_stack.2.bias'].clone())"
   ]
  },
  {
   "cell_type": "code",
   "execution_count": 356,
   "id": "2428a70a-96ed-46ae-8d83-54c93838bc4d",
   "metadata": {},
   "outputs": [],
   "source": [
    "def relu(X):\n",
    "    X[X<0] = 0\n",
    "    return X\n",
    "\n",
    "def d_relu(l):\n",
    "    d = a[l].clone()\n",
    "    d[a[l] < 0] = 0\n",
    "    d[a[l] > 0] = 1\n",
    "    return d\n",
    "\n",
    "def softmax(x):\n",
    "    return x.exp() / x.exp().sum()\n",
    "\n",
    "def delta_l(y_pred, y, l):\n",
    "    if l == len(weights): # This means it's the last layer... must be a vector\n",
    "        y_ = torch.zeros(len(y_pred))\n",
    "        y_[y] = 1\n",
    "        return (y_pred - y_)[None,:]\n",
    "    else:\n",
    "        return (weights[l].T@(delta_l(y_pred,y,l+1)*d_relu(l+1)).T).T\n",
    "    \n",
    "activations = []\n",
    "activations.append(relu)\n",
    "activations.append(softmax)\n",
    "    \n",
    "def forward(X):\n",
    "    a = [X]\n",
    "    \n",
    "    for w,b,func in zip(weights, bias, activations):\n",
    "        a.append(func(a[-1]@w.T+b))\n",
    "    return a\n",
    "\n",
    "def cross_entropy(y_pred,y):\n",
    "    return -y_pred[y].log()\n",
    "\n",
    "def backward(y_pred,y):\n",
    "    for l in range(len(weights)):\n",
    "        print(delta_l(y_pred,y,len(weights)-l).shape, a[len(a)-l-2].shape)\n",
    "        weights[len(weights)-l-1] -= lr*delta_l(y_pred,y,len(weights)-l).T@a[len(a)-l-2][None,:]\n",
    "        bias[len(bias)-l-1] -= lr*delta_l(y_pred,y,len(bias)-l).squeeze()\n",
    "        \n",
    "    loss = cross_entropy(y_pred,y)\n",
    "\n"
   ]
  },
  {
   "cell_type": "code",
   "execution_count": 338,
   "id": "91eb733c-84bf-4c8e-95c7-cf6c9efe33c5",
   "metadata": {},
   "outputs": [
    {
     "data": {
      "text/plain": [
       "tensor([ 0.0453, -0.1708, -0.0112, -0.1373, -0.1919,  0.1684, -0.0890,  0.1894,\n",
       "        -0.1370,  0.0977, -0.0159, -0.0262,  0.1361, -0.2134,  0.1970, -0.0483,\n",
       "         0.1064, -0.1399])"
      ]
     },
     "execution_count": 338,
     "metadata": {},
     "output_type": "execute_result"
    }
   ],
   "source": [
    "state_dict['linear_relu_stack.2.weight'][y1]"
   ]
  },
  {
   "cell_type": "code",
   "execution_count": 343,
   "id": "bc997088-146d-4b61-bea6-292edbe58dd7",
   "metadata": {},
   "outputs": [
    {
     "data": {
      "text/plain": [
       "tensor([0.1195, 0.1275, 0.0000, 0.0000, 0.0728, 0.0000, 0.0000, 0.0665, 0.2172,\n",
       "        0.0000, 0.0826, 0.0000, 0.0000, 0.0000, 0.1340, 0.2454, 0.0387, 0.0000])"
      ]
     },
     "execution_count": 343,
     "metadata": {},
     "output_type": "execute_result"
    }
   ],
   "source": [
    "a[-2]"
   ]
  },
  {
   "cell_type": "code",
   "execution_count": 344,
   "id": "3b3a90b4-f4ba-414f-ad87-2d6683bbbd6e",
   "metadata": {},
   "outputs": [
    {
     "data": {
      "text/plain": [
       "tensor([ 0.0453, -0.1708, -0.0112, -0.1373, -0.1919,  0.1684, -0.0890,  0.1894,\n",
       "        -0.1370,  0.0977, -0.0159, -0.0262,  0.1361, -0.2134,  0.1970, -0.0483,\n",
       "         0.1064, -0.1399])"
      ]
     },
     "execution_count": 344,
     "metadata": {},
     "output_type": "execute_result"
    }
   ],
   "source": [
    "weights[-1][y1]"
   ]
  },
  {
   "cell_type": "code",
   "execution_count": 349,
   "id": "6b9c6832-1440-4287-aaaa-891a60a1bd91",
   "metadata": {},
   "outputs": [
    {
     "data": {
      "text/plain": [
       "tensor([-0.1422, -0.0626, -0.0508, -0.2056, -0.0988, -0.1239,  0.0111,  0.2339,\n",
       "         0.1431,  0.1194])"
      ]
     },
     "execution_count": 349,
     "metadata": {},
     "output_type": "execute_result"
    }
   ],
   "source": [
    "bias[-1]"
   ]
  },
  {
   "cell_type": "code",
   "execution_count": 357,
   "id": "276c2be0-45dd-44cb-acaf-0e995a0cc206",
   "metadata": {},
   "outputs": [
    {
     "name": "stdout",
     "output_type": "stream",
     "text": [
      "torch.Size([1, 10]) torch.Size([18])\n",
      "torch.Size([1, 18]) torch.Size([784])\n"
     ]
    }
   ],
   "source": [
    "backward(a[-1],y1)"
   ]
  },
  {
   "cell_type": "code",
   "execution_count": null,
   "id": "b2a6c01d-5227-4f66-b35b-a4220dcd24d5",
   "metadata": {},
   "outputs": [],
   "source": []
  },
  {
   "cell_type": "code",
   "execution_count": 346,
   "id": "62286c69-d53c-4e73-bb64-40edf60f9711",
   "metadata": {},
   "outputs": [
    {
     "data": {
      "text/plain": [
       "tensor([ 0.1546, -0.0542, -0.0112, -0.1373, -0.1254,  0.1684, -0.0890,  0.2502,\n",
       "         0.0615,  0.0977,  0.0597, -0.0262,  0.1361, -0.2134,  0.3195,  0.1761,\n",
       "         0.1419, -0.1399])"
      ]
     },
     "execution_count": 346,
     "metadata": {},
     "output_type": "execute_result"
    }
   ],
   "source": [
    "weights[-1][y1]"
   ]
  },
  {
   "cell_type": "code",
   "execution_count": 339,
   "id": "d852ae44-649a-4a89-b2b9-5776f08ded3c",
   "metadata": {},
   "outputs": [
    {
     "data": {
      "text/plain": [
       "[torch.Size([784]), torch.Size([18]), torch.Size([10])]"
      ]
     },
     "execution_count": 339,
     "metadata": {},
     "output_type": "execute_result"
    }
   ],
   "source": [
    "a = forward(x1)\n",
    "[k.shape for k in a]"
   ]
  },
  {
   "cell_type": "code",
   "execution_count": 245,
   "id": "99d0bc89-1d98-4848-9375-986cef267efb",
   "metadata": {
    "scrolled": true
   },
   "outputs": [
    {
     "data": {
      "text/plain": [
       "(tensor([0., 0., 0., 0., 0., 1., 0., 0., 0., 0.]),\n",
       " tensor([0.0875, 0.0947, 0.0959, 0.0821, 0.0914, 0.0891, 0.1020, 0.1274, 0.1164,\n",
       "         0.1136]))"
      ]
     },
     "execution_count": 245,
     "metadata": {},
     "output_type": "execute_result"
    }
   ],
   "source": [
    "y = torch.zeros(10)\n",
    "y[y1] = 1\n",
    "y, a[-1]"
   ]
  },
  {
   "cell_type": "code",
   "execution_count": 220,
   "id": "d50298d2-8fc2-4ce6-922f-6b68e223ce24",
   "metadata": {},
   "outputs": [],
   "source": [
    "dc_dz2 = a[-1] - y"
   ]
  },
  {
   "cell_type": "code",
   "execution_count": 233,
   "id": "9456ab1e-b500-45b1-8acd-f8a8a8a6ab03",
   "metadata": {},
   "outputs": [],
   "source": [
    "dc_dw2 = dc_dz2[None, :].T @ a[-2][None,:]"
   ]
  },
  {
   "cell_type": "code",
   "execution_count": 235,
   "id": "b18db8ad-390c-4260-88af-a3bc32ec3445",
   "metadata": {},
   "outputs": [
    {
     "data": {
      "text/plain": [
       "(torch.Size([10, 18]), torch.Size([10, 18]))"
      ]
     },
     "execution_count": 235,
     "metadata": {},
     "output_type": "execute_result"
    }
   ],
   "source": [
    "dc_dw2.shape, weights[-1].shape"
   ]
  }
 ],
 "metadata": {
  "kernelspec": {
   "display_name": "Python 3 (ipykernel)",
   "language": "python",
   "name": "python3"
  },
  "language_info": {
   "codemirror_mode": {
    "name": "ipython",
    "version": 3
   },
   "file_extension": ".py",
   "mimetype": "text/x-python",
   "name": "python",
   "nbconvert_exporter": "python",
   "pygments_lexer": "ipython3",
   "version": "3.12.2"
  }
 },
 "nbformat": 4,
 "nbformat_minor": 5
}
