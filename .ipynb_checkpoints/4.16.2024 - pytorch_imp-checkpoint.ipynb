{
 "cells": [
  {
   "cell_type": "code",
   "execution_count": 1,
   "id": "d88919c8-c47c-4740-bd3a-af1a9555529d",
   "metadata": {},
   "outputs": [],
   "source": [
    "import torch\n",
    "from torch import nn\n",
    "from torch.utils.data import Dataset\n",
    "from torchvision import datasets\n",
    "from torch.utils.data import DataLoader\n",
    "from torchvision.transforms import ToTensor\n",
    "import matplotlib.pyplot as plt\n",
    "import seaborn as sns\n",
    "import numpy as np"
   ]
  },
  {
   "cell_type": "code",
   "execution_count": 509,
   "id": "2e27198a-4301-473d-9ee2-1e12dbc6ce9e",
   "metadata": {},
   "outputs": [
    {
     "name": "stdout",
     "output_type": "stream",
     "text": [
      "Using cpu device\n"
     ]
    }
   ],
   "source": [
    "device = (\n",
    "    \"cuda\"\n",
    "    if torch.cuda.is_available()\n",
    "    else \"mps\"\n",
    "    if torch.backends.mps.is_available()\n",
    "    else \"cpu\"\n",
    ")\n",
    "print(f\"Using {device} device\")\n",
    "\n",
    "training_data = datasets.MNIST(\n",
    "    root=\"data\",\n",
    "    train=True,\n",
    "    download=True,\n",
    "    transform=ToTensor()\n",
    ")\n",
    "test_data = datasets.MNIST(\n",
    "    root=\"data\",\n",
    "    train=False,\n",
    "    download=True,\n",
    "    transform=ToTensor()\n",
    ")\n",
    "epochs = 10\n",
    "lr = 1e-3\n",
    "\n",
    "def get_data(training_data, test_data):\n",
    "    return (\n",
    "        DataLoader(training_data), #, shuffle=True),\n",
    "        DataLoader(test_data),\n",
    "    )\n",
    "\n",
    "train_dl, valid_dl = get_data(training_data, test_data)\n",
    "train_dataloader = DataLoader(training_data, batch_size=1)\n",
    "test_dataloader = DataLoader(test_data, batch_size=1)"
   ]
  },
  {
   "cell_type": "code",
   "execution_count": 675,
   "id": "c2fb4e58-19d8-4937-b1de-9622c44deab9",
   "metadata": {
    "scrolled": true
   },
   "outputs": [
    {
     "data": {
      "text/plain": [
       "(torch.Size([784]), torch.Size([]))"
      ]
     },
     "execution_count": 675,
     "metadata": {},
     "output_type": "execute_result"
    }
   ],
   "source": [
    "x1,y1 = next(iter(train_dl))\n",
    "x1, y1 =x1.flatten(), y1.squeeze()\n",
    "x1.shape, y1.shape"
   ]
  },
  {
   "cell_type": "code",
   "execution_count": 793,
   "id": "dce317fd-1713-49e9-92d1-32271c058402",
   "metadata": {},
   "outputs": [
    {
     "data": {
      "text/plain": [
       "odict_keys(['linear_relu_stack.0.weight', 'linear_relu_stack.0.bias', 'linear_relu_stack.2.weight', 'linear_relu_stack.2.bias'])"
      ]
     },
     "execution_count": 793,
     "metadata": {},
     "output_type": "execute_result"
    }
   ],
   "source": [
    "state_dict = torch.load('model.pth')\n",
    "state_dict.keys()"
   ]
  },
  {
   "cell_type": "code",
   "execution_count": 794,
   "id": "1c021a9f-68c3-4559-8673-9b807b047c06",
   "metadata": {
    "scrolled": true
   },
   "outputs": [
    {
     "data": {
      "text/plain": [
       "tensor([[ 0.1390, -0.1494, -0.2147,  0.2142,  0.1166, -0.1546, -0.1654,  0.0631,\n",
       "          0.1544,  0.2064,  0.0297,  0.1380,  0.0920,  0.0833, -0.1180, -0.1707,\n",
       "          0.2289,  0.0489],\n",
       "        [-0.2119, -0.0872,  0.0234,  0.0395, -0.1763,  0.2059, -0.2174,  0.1155,\n",
       "         -0.1042, -0.1669,  0.1042, -0.0565, -0.0937, -0.0247, -0.0842,  0.2194,\n",
       "         -0.2220, -0.0808],\n",
       "        [-0.0286, -0.0655, -0.1446,  0.0312,  0.0048,  0.1498,  0.0774,  0.1614,\n",
       "         -0.1665,  0.1966, -0.0986, -0.0030,  0.0868, -0.0487, -0.0625,  0.1071,\n",
       "          0.1698, -0.1533],\n",
       "        [ 0.1358,  0.1561,  0.0980,  0.0758,  0.1265,  0.2233,  0.1601,  0.0075,\n",
       "         -0.1609, -0.0058, -0.1354,  0.2079, -0.0700,  0.0170,  0.0997,  0.0820,\n",
       "         -0.1933, -0.1521],\n",
       "        [ 0.0403, -0.1731,  0.0918,  0.0625, -0.0918, -0.1864,  0.0361, -0.1316,\n",
       "          0.2262,  0.1522,  0.1508,  0.1103,  0.0919, -0.1769,  0.2244, -0.0482,\n",
       "          0.1366,  0.2164],\n",
       "        [ 0.0453, -0.1708, -0.0112, -0.1373, -0.1919,  0.1684, -0.0890,  0.1894,\n",
       "         -0.1370,  0.0977, -0.0159, -0.0262,  0.1361, -0.2134,  0.1970, -0.0483,\n",
       "          0.1064, -0.1399],\n",
       "        [-0.1229, -0.0055, -0.0564, -0.0958,  0.1275, -0.0257, -0.0967, -0.0269,\n",
       "          0.2111, -0.1932, -0.0392, -0.0369,  0.1148,  0.1943, -0.1480, -0.0437,\n",
       "         -0.2194, -0.1743],\n",
       "        [ 0.0884, -0.0257,  0.1745, -0.0224, -0.1076, -0.0778,  0.0250,  0.1510,\n",
       "          0.0193,  0.0538, -0.0828,  0.0895, -0.1591,  0.1464, -0.0102,  0.1980,\n",
       "         -0.1200,  0.2311],\n",
       "        [ 0.1497, -0.1904, -0.0700,  0.2058,  0.0801,  0.1960, -0.0494, -0.1007,\n",
       "          0.1563, -0.0707,  0.2138,  0.1376,  0.2347,  0.1778, -0.0700,  0.1988,\n",
       "         -0.1829,  0.2306],\n",
       "        [-0.0006, -0.1074,  0.0688,  0.1265,  0.0111,  0.1675, -0.0168, -0.2316,\n",
       "          0.1520,  0.0021,  0.1323, -0.1164,  0.1540,  0.0885, -0.1369, -0.2191,\n",
       "         -0.0079,  0.0439]])"
      ]
     },
     "execution_count": 794,
     "metadata": {},
     "output_type": "execute_result"
    }
   ],
   "source": [
    "state_dict['linear_relu_stack.2.weight']"
   ]
  },
  {
   "cell_type": "code",
   "execution_count": 795,
   "id": "09be1b13-b164-4854-bf50-d8bf69b99e1c",
   "metadata": {},
   "outputs": [],
   "source": [
    "weights = []\n",
    "weights.append(state_dict['linear_relu_stack.0.weight'].clone())\n",
    "weights.append(state_dict['linear_relu_stack.2.weight'].clone())\n",
    "bias = []\n",
    "bias.append(state_dict['linear_relu_stack.0.bias'].clone())\n",
    "bias.append(state_dict['linear_relu_stack.2.bias'].clone())"
   ]
  },
  {
   "cell_type": "code",
   "execution_count": 790,
   "id": "2428a70a-96ed-46ae-8d83-54c93838bc4d",
   "metadata": {},
   "outputs": [],
   "source": [
    "def relu(X):\n",
    "    X[X<0] = 0\n",
    "    return X\n",
    "\n",
    "def d_relu(l):\n",
    "    d = a[l].clone()\n",
    "    d[a[l] < 0] = 0\n",
    "    d[a[l] > 0] = 1\n",
    "    return d\n",
    "\n",
    "def softmax(x):\n",
    "    return x.exp() / x.exp().sum()\n",
    "\n",
    "def delta_l(y_pred, y, l):\n",
    "    if l == len(weights)-1: # This means it's the last layer... must be a vector\n",
    "        y_ = torch.zeros(len(y_pred))\n",
    "        y_[y] = 1\n",
    "        return (y_pred - y_)[None,:]\n",
    "    else:\n",
    "        return (weights[l+1].T@delta_l(y_pred,y,l+1).T)@d_relu(l)\n",
    "        # return weights[l].T@(delta_l(y_pred,y,l+1)*d_relu(l+1)).T\n",
    "    \n",
    "activations = []\n",
    "activations.append(relu)\n",
    "activations.append(softmax)\n",
    "    \n",
    "def forward(X):\n",
    "    a = [X]\n",
    "    \n",
    "    for w,b,func in zip(weights, bias, activations):\n",
    "        a.append(func(a[-1]@w.T+b))\n",
    "    return a\n",
    "\n",
    "def cross_entropy(y_pred,y):\n",
    "    return -y_pred[y].log()\n",
    "\n",
    "def backward(y_pred,y): # hard-wired backprop...\n",
    "    loss_L = delta_l(y_pred,y1,1)\n",
    "    weights[1] -= lr * (a[1][None,:].T@loss_L).T\n",
    "    bias[1] -= lr * loss_L.squeeze()\n",
    "\n",
    "    loss_l = ((weights[1].T@delta_l(y_pred,y,1).T).T*d_relu(1))\n",
    "\n",
    "    weights[0] -= lr * (a[0][None,:].T@loss_l).T\n",
    "    bias[0] -= loss_l.squeeze()\n",
    "        \n",
    "    loss = cross_entropy(y_pred,y)\n",
    "    return loss\n"
   ]
  },
  {
   "cell_type": "code",
   "execution_count": 385,
   "id": "eef36076-7bc3-4c78-a37a-92be4bdaf1db",
   "metadata": {},
   "outputs": [
    {
     "data": {
      "text/plain": [
       "<Axes: >"
      ]
     },
     "execution_count": 385,
     "metadata": {},
     "output_type": "execute_result"
    },
    {
     "data": {
      "image/png": "[encoded data removed]",
      "text/plain": [
       "<Figure size 640x480 with 2 Axes>"
      ]
     },
     "metadata": {},
     "output_type": "display_data"
    }
   ],
   "source": [
    "import seaborn_image as isns\n",
    "isns.imgplot(x1.reshape(28,28))"
   ]
  },
  {
   "cell_type": "code",
   "execution_count": 432,
   "id": "72dc02a7-14f7-4f1d-b35f-921e6c4906eb",
   "metadata": {},
   "outputs": [
    {
     "data": {
      "text/plain": [
       "tensor([ 0.0112,  0.0015,  0.0016, -0.0257, -0.0140, -0.0104, -0.0166, -0.0134,\n",
       "         0.0040,  0.0344, -0.0148, -0.0310,  0.0099,  0.0318, -0.0349,  0.0313,\n",
       "         0.0259,  0.0107])"
      ]
     },
     "execution_count": 432,
     "metadata": {},
     "output_type": "execute_result"
    }
   ],
   "source": [
    "bias[-2]"
   ]
  },
  {
   "cell_type": "code",
   "execution_count": 433,
   "id": "93f4019c-adae-402d-a1df-bdd5b627c783",
   "metadata": {},
   "outputs": [
    {
     "data": {
      "text/plain": [
       "tensor([-0.1423, -0.0627, -0.0509, -0.2057, -0.0989, -0.1230,  0.0110,  0.2337,\n",
       "         0.1429,  0.1193])"
      ]
     },
     "execution_count": 433,
     "metadata": {},
     "output_type": "execute_result"
    }
   ],
   "source": [
    "bias[-1]"
   ]
  },
  {
   "cell_type": "code",
   "execution_count": 438,
   "id": "a298ebfd-3486-49ed-b1a6-3a7837abc9a0",
   "metadata": {
    "scrolled": true
   },
   "outputs": [
    {
     "data": {
      "text/plain": [
       "tensor([-2.6739e-04,  1.9159e-02, -2.9394e-02, -2.6284e-02, -1.3756e-02,\n",
       "         9.5771e-03, -7.0762e-04,  2.8317e-02, -3.1694e-03,  9.4505e-03,\n",
       "        -1.0793e-02, -7.0202e-03, -3.4120e-02, -2.3653e-02, -1.4722e-02,\n",
       "         1.3230e-03,  1.4119e-02,  2.1429e-02, -2.4212e-02, -1.5552e-02,\n",
       "         1.2972e-02,  2.9657e-02, -7.3500e-03,  2.6725e-02, -5.7565e-03,\n",
       "         3.7791e-03,  3.2338e-02, -3.3131e-02, -2.2483e-02, -9.0416e-03,\n",
       "        -1.3921e-02,  3.0857e-02, -2.3149e-02, -1.6440e-02, -2.4951e-02,\n",
       "        -3.3449e-02, -2.0848e-02,  3.0700e-02,  1.5936e-02,  1.7310e-02,\n",
       "         1.8783e-03, -1.8310e-02,  6.0423e-03, -3.3346e-02, -2.5806e-02,\n",
       "        -1.8412e-02,  2.2533e-02,  2.0940e-02, -1.5839e-02, -1.2887e-03,\n",
       "         2.2841e-02,  3.5505e-02,  1.4174e-02,  4.8247e-03,  2.3946e-02,\n",
       "        -2.1029e-02,  6.6551e-03, -2.7689e-02, -2.4753e-02, -1.8449e-02,\n",
       "         1.6160e-02,  1.4363e-02, -2.1155e-02,  1.0790e-02,  1.9606e-02,\n",
       "        -4.5078e-03,  1.3636e-03,  8.2752e-03,  2.2156e-02,  3.4293e-02,\n",
       "        -2.7522e-02, -1.3088e-02,  1.4036e-02,  2.9591e-02,  3.1079e-02,\n",
       "         3.1513e-02,  7.1077e-03, -3.1057e-02,  3.2854e-03, -2.2343e-02,\n",
       "        -3.3284e-02,  3.1732e-02,  2.7156e-02, -3.5626e-02,  6.6847e-03,\n",
       "        -6.0164e-03, -5.8772e-03, -1.6348e-02,  1.3734e-02, -2.1154e-02,\n",
       "         1.3093e-02,  1.8061e-02,  2.5567e-02,  1.3354e-02, -3.5348e-02,\n",
       "        -2.3168e-02,  1.7833e-02,  7.4750e-03, -2.7860e-02, -2.0565e-02,\n",
       "         3.3598e-02,  2.4065e-02, -1.5572e-02, -8.9887e-03, -3.4021e-02,\n",
       "        -6.4193e-04, -2.6895e-02, -2.7548e-02, -1.9678e-03,  5.3623e-03,\n",
       "        -1.4626e-02,  2.1192e-02, -2.1734e-02,  3.2406e-02,  2.4475e-02,\n",
       "        -3.0117e-02, -8.8887e-03,  1.6115e-03,  5.2108e-03,  8.4705e-03,\n",
       "         1.4015e-02,  2.1393e-03, -1.7426e-02,  1.6900e-02, -3.4259e-02,\n",
       "        -2.1168e-02, -8.9404e-03, -1.7397e-02, -1.2494e-02, -2.9272e-02,\n",
       "        -7.5970e-03,  7.6342e-03, -2.3267e-02, -1.8328e-03,  2.5566e-02,\n",
       "        -3.6714e-03,  9.9258e-04, -3.0810e-03,  7.2279e-03,  2.2709e-02,\n",
       "         3.3830e-02,  2.2681e-02,  3.3908e-02, -2.5829e-03, -3.2083e-02,\n",
       "        -1.6931e-02,  2.4318e-02, -2.3152e-04, -1.7752e-02, -2.7368e-02,\n",
       "        -3.3423e-02, -3.0143e-02, -7.2440e-03,  1.9587e-02,  1.9310e-02,\n",
       "        -3.4443e-02,  2.2287e-02, -2.7937e-02, -7.5376e-03, -1.4479e-02,\n",
       "        -6.8670e-03, -6.9937e-03, -3.2030e-02, -3.0828e-02, -5.5886e-03,\n",
       "         4.6187e-04, -1.6224e-02,  1.3454e-02, -3.2145e-02, -2.4103e-03,\n",
       "         3.1408e-02, -1.4568e-02,  3.2250e-02,  1.2934e-02, -3.2231e-02,\n",
       "         2.2596e-02, -4.1190e-03, -1.5940e-02,  2.8566e-02, -2.8849e-02,\n",
       "         3.8447e-03, -7.4590e-03,  2.5522e-02,  9.9879e-03,  1.7179e-02,\n",
       "         1.2631e-02, -8.5720e-03, -7.4984e-03, -2.9413e-02,  1.9369e-02,\n",
       "         2.8371e-02,  2.4441e-02, -2.5192e-02,  1.5929e-03, -2.5176e-02,\n",
       "        -1.9660e-02, -2.0811e-02,  1.2205e-02, -2.1283e-02, -7.7919e-04,\n",
       "         1.5024e-03,  2.3022e-02, -2.6997e-02, -2.4515e-02, -2.0721e-02,\n",
       "         2.5016e-02, -1.2820e-02,  3.0143e-02,  1.2933e-02,  4.5408e-03,\n",
       "        -2.4745e-04, -7.0416e-03,  4.4994e-03, -8.1369e-03, -2.4418e-04,\n",
       "         4.5629e-03, -2.7930e-02, -1.8715e-02,  2.8842e-02, -2.8984e-02,\n",
       "        -2.5645e-03,  3.5330e-02,  1.2901e-02,  1.0112e-03, -3.0950e-02,\n",
       "         1.7692e-02, -2.5439e-02, -1.0138e-02, -1.1983e-02, -5.2888e-03,\n",
       "         3.9065e-04,  2.9459e-02,  4.4745e-03,  3.2007e-02,  2.1865e-02,\n",
       "        -2.2561e-02,  1.6036e-02, -2.5228e-02, -1.5122e-02,  1.0518e-02,\n",
       "         1.1811e-02,  2.6811e-02, -1.1497e-02,  5.7172e-05,  1.8387e-02,\n",
       "        -3.4539e-02,  2.5821e-02, -2.9533e-02,  4.9223e-04, -6.0720e-03,\n",
       "        -1.8810e-02,  4.7204e-03,  2.9533e-02, -1.0440e-02, -2.1203e-02,\n",
       "        -1.3209e-02, -3.5398e-02,  1.6121e-02, -1.7152e-02, -2.3834e-02,\n",
       "        -2.0569e-02,  2.0545e-02,  1.8921e-02,  2.7430e-02,  1.2973e-02,\n",
       "        -1.1912e-02, -9.9795e-03,  1.0551e-02,  2.9362e-02,  9.7216e-03,\n",
       "        -1.6898e-02, -1.6788e-02, -3.3767e-02,  7.7160e-03, -2.0042e-02,\n",
       "        -3.1842e-02,  3.1317e-02, -2.3193e-02, -4.0629e-03,  1.0232e-02,\n",
       "         1.1378e-03, -2.4031e-02, -2.8869e-02,  2.8467e-02,  5.8157e-03,\n",
       "         2.9629e-02, -1.1973e-02,  1.0520e-02, -8.1670e-03, -1.5872e-03,\n",
       "        -2.1752e-02,  1.2090e-02,  1.1310e-02, -7.3019e-04, -8.0322e-03,\n",
       "        -2.2015e-02,  2.4698e-02, -2.6587e-02,  1.4631e-02, -1.2009e-02,\n",
       "        -1.7231e-02,  6.4159e-03, -1.8552e-02,  8.2287e-03,  7.0136e-03,\n",
       "        -2.6517e-02,  5.9464e-03,  1.5212e-02,  1.4137e-02, -4.4957e-03,\n",
       "        -2.9278e-02, -5.5055e-03,  1.2404e-02, -1.3031e-02,  1.3556e-02,\n",
       "         2.3784e-02, -1.8648e-02,  3.5221e-04,  1.4768e-02,  2.8093e-03,\n",
       "         3.0017e-03,  4.4733e-03, -2.8077e-02,  2.8067e-03,  2.4731e-02,\n",
       "         3.2183e-02,  2.0991e-02,  4.7858e-03,  1.6679e-02, -1.7374e-02,\n",
       "        -2.9596e-02, -3.0711e-02,  3.5629e-02,  2.2671e-02, -2.4687e-02,\n",
       "         1.3973e-02,  2.6970e-02,  3.5701e-02,  3.1228e-02,  2.7670e-02,\n",
       "        -8.1878e-03, -1.2534e-02,  2.9323e-02,  2.0014e-02, -2.1492e-02,\n",
       "         3.2108e-02,  1.7256e-02,  1.9470e-02, -2.2371e-02,  1.0265e-02,\n",
       "        -1.2515e-02,  2.7906e-02, -6.4264e-03,  1.3904e-02,  6.3436e-03,\n",
       "         1.5195e-02, -1.2137e-02,  1.7413e-02, -2.4945e-02,  8.0663e-03,\n",
       "        -2.4164e-02, -3.5233e-02, -2.8681e-02,  2.8195e-02,  1.9323e-02,\n",
       "         3.3508e-02,  2.8611e-02, -3.1894e-02, -2.4373e-02, -5.7708e-03,\n",
       "        -2.3194e-02,  2.4800e-02, -2.7000e-02, -1.7425e-02, -3.4503e-02,\n",
       "        -2.0277e-02,  2.9377e-02,  2.9259e-02,  2.5582e-02,  2.7588e-02,\n",
       "         3.1765e-02, -9.1450e-03,  1.5714e-02,  3.1819e-02,  1.1815e-02,\n",
       "         3.5703e-02,  1.8524e-02,  2.2202e-02, -1.2500e-02,  1.7137e-02,\n",
       "         4.1038e-03, -8.5292e-03, -2.0132e-02, -2.0040e-02, -2.7481e-02,\n",
       "         2.3976e-02,  2.5390e-02, -4.0647e-03, -2.0667e-02,  2.7604e-02,\n",
       "         2.2839e-02,  2.6548e-03, -1.6862e-02,  3.2823e-02,  1.4605e-02,\n",
       "        -2.7106e-02,  3.4199e-02,  2.7139e-02, -1.2999e-02,  2.0086e-02,\n",
       "        -2.0291e-02, -5.5969e-03,  3.0325e-02,  1.4757e-03, -2.5258e-02,\n",
       "        -1.1937e-02, -9.6945e-03, -6.8903e-03,  3.4179e-03,  3.3030e-02,\n",
       "         1.9122e-03, -2.2051e-02,  1.8305e-03,  1.7125e-02,  1.7716e-02,\n",
       "        -3.2641e-02, -6.3908e-03, -2.6541e-02, -1.5239e-02,  1.2868e-02,\n",
       "        -2.5362e-02,  1.3276e-02,  3.0314e-02,  2.3424e-03, -2.3800e-02,\n",
       "        -1.2782e-02,  7.8171e-03, -2.7207e-02,  1.7754e-02, -3.2422e-02,\n",
       "        -3.4332e-02, -3.4702e-02, -7.2451e-03,  2.4015e-02, -3.3803e-02,\n",
       "         2.9685e-02, -1.4287e-02,  1.0460e-02,  1.6287e-03, -3.2204e-02,\n",
       "         2.9619e-02,  1.9230e-02,  3.5500e-02,  1.8043e-02, -2.3574e-02,\n",
       "         2.9807e-02,  1.9194e-03,  1.6936e-02, -2.8637e-02, -1.0272e-02,\n",
       "        -3.5067e-02, -1.3910e-02,  7.7047e-03, -2.8040e-02,  1.1391e-02,\n",
       "         1.9190e-02,  4.9937e-03, -2.3882e-02, -2.7690e-02, -1.1018e-02,\n",
       "         1.5677e-02,  3.5228e-02,  2.0537e-02, -4.0218e-03,  1.2522e-02,\n",
       "        -3.5038e-02, -3.0504e-02,  1.6665e-02, -2.0229e-02,  1.7182e-02,\n",
       "        -2.5212e-02, -1.7690e-02, -2.9417e-02,  1.8637e-02, -3.6391e-03,\n",
       "         2.7486e-02,  2.2103e-02,  1.9762e-02,  1.1484e-03, -1.1042e-02,\n",
       "        -7.7654e-03,  4.7464e-03,  1.7704e-02, -2.5003e-02,  2.9993e-02,\n",
       "        -3.8651e-03, -2.9922e-02, -1.9323e-02,  3.1601e-02,  3.2662e-02,\n",
       "        -3.3081e-02,  2.5189e-02,  1.7899e-02,  2.1140e-02,  3.0233e-02,\n",
       "        -1.9248e-02,  1.1278e-02,  1.4615e-02, -1.0553e-02,  1.1952e-02,\n",
       "        -1.0275e-02,  2.2081e-02, -9.9091e-03, -1.3314e-02,  8.9910e-03,\n",
       "         1.2668e-02, -1.7449e-02,  3.1571e-03,  2.0701e-02, -3.5440e-03,\n",
       "         1.0882e-02, -8.5954e-03,  1.2536e-02, -2.5856e-02, -2.1001e-02,\n",
       "        -1.8128e-02,  3.2822e-02, -9.6101e-03, -9.7513e-05, -1.7303e-02,\n",
       "         3.5653e-02,  3.4881e-02, -2.6935e-02, -2.8952e-02, -2.7071e-02,\n",
       "        -1.7224e-04, -9.1037e-03, -2.3377e-02, -1.2810e-02,  6.7475e-03,\n",
       "        -1.8660e-02,  7.9137e-03, -8.1899e-03, -1.7306e-02,  4.9095e-03,\n",
       "         2.9377e-02, -2.4129e-02,  1.6768e-03, -1.3152e-02,  3.5065e-02,\n",
       "        -3.3866e-02, -3.4225e-02,  3.5192e-02, -2.2596e-02,  6.8473e-03,\n",
       "        -3.0824e-03, -7.5235e-03, -7.9767e-03,  2.2694e-02,  1.7070e-03,\n",
       "        -3.4772e-02, -2.1084e-02, -1.2175e-02,  1.7972e-02, -2.3112e-02,\n",
       "         3.3676e-02, -7.9546e-03, -6.4129e-03,  2.7984e-02,  1.7950e-02,\n",
       "         3.0292e-02,  2.0667e-02, -1.0818e-02, -2.3677e-02, -2.6388e-03,\n",
       "         2.9577e-02, -1.1968e-02, -3.3106e-02,  1.4646e-02,  3.4767e-02,\n",
       "        -1.0167e-02, -2.9572e-02, -3.2395e-02,  8.9500e-03, -2.7043e-03,\n",
       "        -1.8035e-02,  7.2190e-03,  1.3563e-02,  2.8404e-02,  2.7728e-02,\n",
       "        -5.3458e-03, -3.1492e-02, -3.2272e-02,  3.3346e-02,  1.5788e-02,\n",
       "         1.5568e-02, -3.0899e-02,  3.3077e-02,  3.3849e-02,  3.2263e-02,\n",
       "        -3.0110e-02, -1.3457e-02, -2.4545e-02,  3.3835e-02, -1.5340e-02,\n",
       "        -1.6305e-02,  1.8711e-02, -1.6521e-02, -1.7590e-02, -3.1240e-03,\n",
       "        -3.4328e-03, -2.7821e-02,  2.9774e-02, -1.5754e-02,  1.2668e-02,\n",
       "         3.1064e-02,  1.8011e-02,  5.0564e-03,  3.0388e-02,  4.8009e-03,\n",
       "        -1.6523e-02,  3.3786e-02,  8.4542e-03, -3.4833e-02, -1.0152e-02,\n",
       "        -2.4309e-02,  3.1331e-02, -5.8797e-03, -3.2536e-02, -2.2309e-03,\n",
       "         2.2435e-02,  9.2792e-03,  1.1293e-02,  3.3169e-03,  1.3315e-02,\n",
       "        -8.7019e-03, -1.4207e-02, -3.3382e-02, -2.6905e-02,  1.5479e-02,\n",
       "        -2.1147e-02,  5.1238e-03,  1.1400e-02,  2.5287e-03, -2.3155e-02,\n",
       "         3.4155e-02, -2.0768e-02,  2.9375e-02, -2.8407e-02, -8.5785e-03,\n",
       "         1.9444e-02, -1.4574e-02,  3.0020e-02, -2.4559e-02, -2.9973e-02,\n",
       "        -1.6087e-02,  5.7829e-03,  3.2885e-02, -1.7050e-02,  1.2772e-02,\n",
       "        -8.9538e-03, -7.7451e-03,  2.6261e-02, -2.7678e-02,  3.7933e-03,\n",
       "         3.3586e-02, -4.9076e-03,  2.7730e-02, -1.0998e-02,  2.8749e-02,\n",
       "        -3.4548e-02, -5.1473e-03, -6.2731e-03,  1.1574e-02,  1.4012e-02,\n",
       "         2.7422e-02, -5.3110e-03, -1.3978e-03,  2.4476e-02, -9.6449e-03,\n",
       "         3.1324e-02, -2.3769e-02, -3.8550e-03, -1.9171e-03,  1.5936e-02,\n",
       "         2.4417e-02, -5.6608e-03, -2.9589e-02,  1.7696e-02,  1.0683e-02,\n",
       "         1.4346e-02, -2.2031e-02,  2.2986e-02,  3.3827e-02,  3.0990e-03,\n",
       "        -3.3359e-02,  2.5071e-02, -2.6480e-02,  8.2097e-03,  5.1899e-03,\n",
       "        -1.6716e-02,  1.2436e-02, -3.1944e-02,  8.1343e-03, -2.2641e-02,\n",
       "        -3.8619e-03,  4.5939e-03,  3.0427e-02, -1.7040e-02,  2.2880e-02,\n",
       "        -4.5369e-03, -1.6962e-02, -3.1100e-02, -3.2769e-02,  3.4879e-02,\n",
       "        -8.9071e-03,  1.7839e-03,  9.6826e-03,  2.4276e-02,  3.0481e-02,\n",
       "         2.8965e-02, -2.6460e-02, -5.7220e-03, -2.1133e-02, -2.0405e-02,\n",
       "         8.4717e-03,  3.3523e-02, -2.8611e-02,  2.1614e-02, -1.8517e-02,\n",
       "        -6.9562e-03,  2.8349e-02, -8.0775e-03,  3.2520e-03, -2.4965e-02,\n",
       "         3.0401e-02, -4.6168e-03, -2.6121e-02,  1.0458e-02, -2.5393e-02,\n",
       "        -2.8340e-02,  2.1757e-03,  2.8316e-02, -1.0107e-02,  1.6810e-02,\n",
       "         3.0690e-02,  2.3688e-02, -1.8734e-02, -3.9150e-03, -1.1239e-02,\n",
       "        -2.8719e-02,  1.4756e-05,  2.6873e-02,  3.0090e-02,  3.3322e-03,\n",
       "         8.1115e-03, -1.5461e-02,  2.6959e-02, -1.4861e-02, -2.4809e-02,\n",
       "         5.4998e-03,  2.1407e-02, -3.2200e-02,  3.2285e-02,  1.2848e-02,\n",
       "        -2.5022e-02, -7.6931e-03,  3.0985e-02, -2.7401e-02, -1.0438e-02,\n",
       "         1.1714e-02, -3.1289e-02,  1.9579e-02,  1.8591e-02,  2.2150e-02,\n",
       "        -2.2770e-02,  3.5571e-02, -2.1170e-02,  3.5655e-02, -3.4275e-02,\n",
       "        -3.1820e-02,  2.1936e-02,  3.7326e-03,  2.0603e-03])"
      ]
     },
     "execution_count": 438,
     "metadata": {},
     "output_type": "execute_result"
    }
   ],
   "source": [
    "weights[-2][0]"
   ]
  },
  {
   "cell_type": "code",
   "execution_count": 420,
   "id": "9bb57456-b814-408b-8cbf-870419ce5f37",
   "metadata": {},
   "outputs": [
    {
     "data": {
      "text/plain": [
       "tensor([ 0.0455, -0.1706, -0.0112, -0.1373, -0.1918,  0.1684, -0.0890,  0.1895,\n",
       "        -0.1366,  0.0977, -0.0157, -0.0262,  0.1361, -0.2134,  0.1972, -0.0479,\n",
       "         0.1065, -0.1399])"
      ]
     },
     "execution_count": 420,
     "metadata": {},
     "output_type": "execute_result"
    }
   ],
   "source": [
    "weights[-1][y1]"
   ]
  },
  {
   "cell_type": "code",
   "execution_count": 382,
   "id": "4a2e1ac8-5d60-4ea1-8417-a1a72a78585c",
   "metadata": {},
   "outputs": [
    {
     "data": {
      "text/plain": [
       "tensor([0.0865, 0.0919, 0.0937, 0.0835, 0.0958, 0.0872, 0.0995, 0.1329, 0.1233,\n",
       "        0.1057])"
      ]
     },
     "execution_count": 382,
     "metadata": {},
     "output_type": "execute_result"
    }
   ],
   "source": [
    "a[-1]"
   ]
  },
  {
   "cell_type": "code",
   "execution_count": 478,
   "id": "aa41849d-8f1f-4ea2-8e34-959c3d54c3b4",
   "metadata": {},
   "outputs": [
    {
     "data": {
      "text/plain": [
       "tensor([1.0275e+07, 1.0959e+07, 0.0000e+00, 0.0000e+00, 6.2422e+06, 9.6348e+03,\n",
       "        0.0000e+00, 5.7386e+06, 1.8657e+07, 6.9558e+03, 7.1003e+06, 0.0000e+00,\n",
       "        7.2119e+03, 0.0000e+00, 1.1544e+07, 2.1097e+07, 3.3449e+06, 0.0000e+00])"
      ]
     },
     "execution_count": 478,
     "metadata": {},
     "output_type": "execute_result"
    }
   ],
   "source": [
    "a[1]"
   ]
  },
  {
   "cell_type": "code",
   "execution_count": 612,
   "id": "5246cc1d-a0e2-4413-b0d8-42a380bb3f1c",
   "metadata": {},
   "outputs": [
    {
     "data": {
      "text/plain": [
       "13670000000.0"
      ]
     },
     "execution_count": 612,
     "metadata": {},
     "output_type": "execute_result"
    }
   ],
   "source": [
    "1.3670e+10"
   ]
  },
  {
   "cell_type": "code",
   "execution_count": 690,
   "id": "936b5616-cf5c-43cd-846c-0dd18e3520b2",
   "metadata": {},
   "outputs": [
    {
     "data": {
      "text/plain": [
       "tensor(2.4574)"
      ]
     },
     "execution_count": 690,
     "metadata": {},
     "output_type": "execute_result"
    }
   ],
   "source": [
    "a = forward(x1)\n",
    "cross_entropy(a[-1],y1)"
   ]
  },
  {
   "cell_type": "code",
   "execution_count": 632,
   "id": "91eb733c-84bf-4c8e-95c7-cf6c9efe33c5",
   "metadata": {},
   "outputs": [
    {
     "data": {
      "text/plain": [
       "tensor([ 0.0453, -0.1708, -0.0112, -0.1373, -0.1919,  0.1684, -0.0890,  0.1894,\n",
       "        -0.1370,  0.0977, -0.0159, -0.0262,  0.1361, -0.2134,  0.1970, -0.0483,\n",
       "         0.1064, -0.1399])"
      ]
     },
     "execution_count": 632,
     "metadata": {},
     "output_type": "execute_result"
    }
   ],
   "source": [
    "state_dict['linear_relu_stack.2.weight'][y1]"
   ]
  },
  {
   "cell_type": "code",
   "execution_count": 633,
   "id": "bc997088-146d-4b61-bea6-292edbe58dd7",
   "metadata": {},
   "outputs": [
    {
     "data": {
      "text/plain": [
       "tensor([0.1127, 0.1597, 0.0000, 0.0029, 0.1402, 0.0000, 0.0000, 0.0020, 0.2847,\n",
       "        0.0000, 0.1000, 0.0106, 0.0000, 0.0264, 0.0548, 0.2771, 0.0000, 0.0023])"
      ]
     },
     "execution_count": 633,
     "metadata": {},
     "output_type": "execute_result"
    }
   ],
   "source": [
    "a[-2]"
   ]
  },
  {
   "cell_type": "code",
   "execution_count": 634,
   "id": "3b3a90b4-f4ba-414f-ad87-2d6683bbbd6e",
   "metadata": {},
   "outputs": [
    {
     "data": {
      "text/plain": [
       "tensor([ 0.0449, -0.1713, -0.0112, -0.1373, -0.1923,  0.1684, -0.0890,  0.1892,\n",
       "        -0.1379,  0.0977, -0.0162, -0.0262,  0.1361, -0.2134,  0.1966, -0.0493,\n",
       "         0.1064, -0.1399])"
      ]
     },
     "execution_count": 634,
     "metadata": {},
     "output_type": "execute_result"
    }
   ],
   "source": [
    "weights[-1][y1]"
   ]
  },
  {
   "cell_type": "code",
   "execution_count": 635,
   "id": "6b9c6832-1440-4287-aaaa-891a60a1bd91",
   "metadata": {},
   "outputs": [
    {
     "data": {
      "text/plain": [
       "tensor([-0.1418, -0.0622, -0.0504, -0.2053, -0.0984, -0.1276,  0.0115,  0.2344,\n",
       "         0.1436,  0.1198])"
      ]
     },
     "execution_count": 635,
     "metadata": {},
     "output_type": "execute_result"
    }
   ],
   "source": [
    "bias[-1]"
   ]
  },
  {
   "cell_type": "code",
   "execution_count": 636,
   "id": "276c2be0-45dd-44cb-acaf-0e995a0cc206",
   "metadata": {},
   "outputs": [],
   "source": [
    "backward(a[-1],y1)"
   ]
  },
  {
   "cell_type": "code",
   "execution_count": null,
   "id": "b2a6c01d-5227-4f66-b35b-a4220dcd24d5",
   "metadata": {},
   "outputs": [],
   "source": []
  },
  {
   "cell_type": "code",
   "execution_count": 346,
   "id": "62286c69-d53c-4e73-bb64-40edf60f9711",
   "metadata": {},
   "outputs": [
    {
     "data": {
      "text/plain": [
       "tensor([ 0.1546, -0.0542, -0.0112, -0.1373, -0.1254,  0.1684, -0.0890,  0.2502,\n",
       "         0.0615,  0.0977,  0.0597, -0.0262,  0.1361, -0.2134,  0.3195,  0.1761,\n",
       "         0.1419, -0.1399])"
      ]
     },
     "execution_count": 346,
     "metadata": {},
     "output_type": "execute_result"
    }
   ],
   "source": [
    "weights[-1][y1]"
   ]
  },
  {
   "cell_type": "code",
   "execution_count": 373,
   "id": "d852ae44-649a-4a89-b2b9-5776f08ded3c",
   "metadata": {},
   "outputs": [
    {
     "data": {
      "text/plain": [
       "[torch.Size([784]), torch.Size([18]), torch.Size([10])]"
      ]
     },
     "execution_count": 373,
     "metadata": {},
     "output_type": "execute_result"
    }
   ],
   "source": [
    "a = forward(x1)\n",
    "[k.shape for k in a]"
   ]
  },
  {
   "cell_type": "code",
   "execution_count": 245,
   "id": "99d0bc89-1d98-4848-9375-986cef267efb",
   "metadata": {
    "scrolled": true
   },
   "outputs": [
    {
     "data": {
      "text/plain": [
       "(tensor([0., 0., 0., 0., 0., 1., 0., 0., 0., 0.]),\n",
       " tensor([0.0875, 0.0947, 0.0959, 0.0821, 0.0914, 0.0891, 0.1020, 0.1274, 0.1164,\n",
       "         0.1136]))"
      ]
     },
     "execution_count": 245,
     "metadata": {},
     "output_type": "execute_result"
    }
   ],
   "source": [
    "y = torch.zeros(10)\n",
    "y[y1] = 1\n",
    "y, a[-1]"
   ]
  },
  {
   "cell_type": "code",
   "execution_count": 220,
   "id": "d50298d2-8fc2-4ce6-922f-6b68e223ce24",
   "metadata": {},
   "outputs": [],
   "source": [
    "dc_dz2 = a[-1] - y"
   ]
  },
  {
   "cell_type": "code",
   "execution_count": 233,
   "id": "9456ab1e-b500-45b1-8acd-f8a8a8a6ab03",
   "metadata": {},
   "outputs": [],
   "source": [
    "dc_dw2 = dc_dz2[None, :].T @ a[-2][None,:]"
   ]
  },
  {
   "cell_type": "code",
   "execution_count": 235,
   "id": "b18db8ad-390c-4260-88af-a3bc32ec3445",
   "metadata": {},
   "outputs": [
    {
     "data": {
      "text/plain": [
       "(torch.Size([10, 18]), torch.Size([10, 18]))"
      ]
     },
     "execution_count": 235,
     "metadata": {},
     "output_type": "execute_result"
    }
   ],
   "source": [
    "dc_dw2.shape, weights[-1].shape"
   ]
  },
  {
   "cell_type": "markdown",
   "id": "d2f358c9-332b-41f5-be8d-20b9306ce7a1",
   "metadata": {},
   "source": [
    "### Test the full training "
   ]
  },
  {
   "cell_type": "code",
   "execution_count": 513,
   "id": "40d4b6b0-4b80-4797-8399-ad796d57a11d",
   "metadata": {},
   "outputs": [],
   "source": [
    "x,y = next(iter(train_dataloader))\n",
    "x,y = x.flatten(), y.squeeze()"
   ]
  },
  {
   "cell_type": "code",
   "execution_count": 591,
   "id": "84a71331-792a-4e83-bdf1-45d5b9b7eefe",
   "metadata": {},
   "outputs": [],
   "source": [
    "def train(dataloader):\n",
    "    correct = 0\n",
    "    size = len(dataloader.dataset)\n",
    "    for i, (x,y) in enumerate(dataloader):\n",
    "        x,y = x.flatten(), y.squeeze()\n",
    "        a = forward(x)\n",
    "        loss = cross_entropy(a[-1],y)\n",
    "\n",
    "        backward(a[-1],y)\n",
    "\n",
    "        correct += (a[-1].argmax() == y).type(torch.float).sum()\n",
    "\n",
    "        if i/64 % 100 == 0:\n",
    "            loss, current = loss.item(), (i+1)\n",
    "            print(f\"loss: {loss:>7f} [{current:>5d}/{size:>5d}]\")\n",
    "\n",
    "    correct /= size\n",
    "    print(f\"Training Error: \\n Accuracy: {(100*correct):>0.1f}%\")\n",
    "\n",
    "        "
   ]
  },
  {
   "cell_type": "code",
   "execution_count": 589,
   "id": "e780d092-ec49-4bae-a2fc-ef7fb7a17741",
   "metadata": {},
   "outputs": [],
   "source": [
    "def test(dataloader):\n",
    "    correct = 0\n",
    "    test_loss = 0\n",
    "    for x,y in dataloader:\n",
    "        x,y = x.flatten(), y.squeeze()\n",
    "        a = forward(x)\n",
    "        test_loss += cross_entropy(a[-1],y)\n",
    "        correct += (a[-1].argmax() == y).type(torch.float).sum()\n",
    "\n",
    "    test_loss /= len(dataloader)\n",
    "    correct /= len(dataloader.dataset)\n",
    "    print(f\"Test Error: \\n Accuracy: {(100*correct):>0.1f}%, Avg loss: {test_loss:>8f} \\n\")\n",
    "    return correct"
   ]
  },
  {
   "cell_type": "code",
   "execution_count": 602,
   "id": "65eae6c9-1147-4859-ab02-9fb58a668c38",
   "metadata": {
    "scrolled": true
   },
   "outputs": [
    {
     "name": "stdout",
     "output_type": "stream",
     "text": [
      "loss: 2.457382 [    1/60000]\n",
      "loss:     nan [ 6401/60000]\n"
     ]
    },
    {
     "ename": "KeyboardInterrupt",
     "evalue": "",
     "output_type": "error",
     "traceback": [
      "\u001b[1;31m---------------------------------------------------------------------------\u001b[0m",
      "\u001b[1;31mKeyboardInterrupt\u001b[0m                         Traceback (most recent call last)",
      "Cell \u001b[1;32mIn[602], line 1\u001b[0m\n\u001b[1;32m----> 1\u001b[0m train(train_dataloader)\n",
      "Cell \u001b[1;32mIn[591], line 9\u001b[0m, in \u001b[0;36mtrain\u001b[1;34m(dataloader)\u001b[0m\n\u001b[0;32m      6\u001b[0m a \u001b[38;5;241m=\u001b[39m forward(x)\n\u001b[0;32m      7\u001b[0m loss \u001b[38;5;241m=\u001b[39m cross_entropy(a[\u001b[38;5;241m-\u001b[39m\u001b[38;5;241m1\u001b[39m],y)\n\u001b[1;32m----> 9\u001b[0m backward(a[\u001b[38;5;241m-\u001b[39m\u001b[38;5;241m1\u001b[39m],y)\n\u001b[0;32m     11\u001b[0m correct \u001b[38;5;241m+\u001b[39m\u001b[38;5;241m=\u001b[39m (a[\u001b[38;5;241m-\u001b[39m\u001b[38;5;241m1\u001b[39m]\u001b[38;5;241m.\u001b[39margmax() \u001b[38;5;241m==\u001b[39m y)\u001b[38;5;241m.\u001b[39mtype(torch\u001b[38;5;241m.\u001b[39mfloat)\u001b[38;5;241m.\u001b[39msum()\n\u001b[0;32m     13\u001b[0m \u001b[38;5;28;01mif\u001b[39;00m i\u001b[38;5;241m/\u001b[39m\u001b[38;5;241m64\u001b[39m \u001b[38;5;241m%\u001b[39m \u001b[38;5;241m100\u001b[39m \u001b[38;5;241m==\u001b[39m \u001b[38;5;241m0\u001b[39m:\n",
      "Cell \u001b[1;32mIn[598], line 39\u001b[0m, in \u001b[0;36mbackward\u001b[1;34m(y_pred, y)\u001b[0m\n\u001b[0;32m     37\u001b[0m \u001b[38;5;28;01mfor\u001b[39;00m l \u001b[38;5;129;01min\u001b[39;00m \u001b[38;5;28mrange\u001b[39m(\u001b[38;5;28mlen\u001b[39m(weights)):\n\u001b[0;32m     38\u001b[0m     weights[\u001b[38;5;28mlen\u001b[39m(weights)\u001b[38;5;241m-\u001b[39ml\u001b[38;5;241m-\u001b[39m\u001b[38;5;241m1\u001b[39m] \u001b[38;5;241m+\u001b[39m\u001b[38;5;241m=\u001b[39m lr\u001b[38;5;241m*\u001b[39mdelta_l(y_pred,y,\u001b[38;5;28mlen\u001b[39m(weights)\u001b[38;5;241m-\u001b[39ml)\u001b[38;5;241m.\u001b[39mT\u001b[38;5;129m@a\u001b[39m[\u001b[38;5;28mlen\u001b[39m(a)\u001b[38;5;241m-\u001b[39ml\u001b[38;5;241m-\u001b[39m\u001b[38;5;241m2\u001b[39m][\u001b[38;5;28;01mNone\u001b[39;00m,:]\n\u001b[1;32m---> 39\u001b[0m     bias[\u001b[38;5;28mlen\u001b[39m(bias)\u001b[38;5;241m-\u001b[39ml\u001b[38;5;241m-\u001b[39m\u001b[38;5;241m1\u001b[39m] \u001b[38;5;241m+\u001b[39m\u001b[38;5;241m=\u001b[39m lr\u001b[38;5;241m*\u001b[39mdelta_l(y_pred,y,\u001b[38;5;28mlen\u001b[39m(bias)\u001b[38;5;241m-\u001b[39ml)\u001b[38;5;241m.\u001b[39msqueeze()\n\u001b[0;32m     41\u001b[0m loss \u001b[38;5;241m=\u001b[39m cross_entropy(y_pred,y)\n",
      "\u001b[1;31mKeyboardInterrupt\u001b[0m: "
     ]
    }
   ],
   "source": [
    "train(train_dataloader)"
   ]
  },
  {
   "cell_type": "code",
   "execution_count": 597,
   "id": "65aa6140-7727-47d8-82bf-86c7dbb78afe",
   "metadata": {},
   "outputs": [
    {
     "name": "stdout",
     "output_type": "stream",
     "text": [
      "Test Error: \n",
      " Accuracy: 11.9%, Avg loss: 2.310129 \n",
      "\n"
     ]
    },
    {
     "data": {
      "text/plain": [
       "tensor(0.1194)"
      ]
     },
     "execution_count": 597,
     "metadata": {},
     "output_type": "execute_result"
    }
   ],
   "source": [
    "test(test_dataloader)"
   ]
  },
  {
   "cell_type": "code",
   "execution_count": 517,
   "id": "07eeddf3-477d-45e6-8350-741c2dfbd219",
   "metadata": {},
   "outputs": [
    {
     "data": {
      "text/plain": [
       "tensor([[nan, nan, nan,  ..., nan, nan, nan],\n",
       "        [nan, nan, nan,  ..., nan, nan, nan],\n",
       "        [nan, nan, nan,  ..., nan, nan, nan],\n",
       "        ...,\n",
       "        [nan, nan, nan,  ..., nan, nan, nan],\n",
       "        [nan, nan, nan,  ..., nan, nan, nan],\n",
       "        [nan, nan, nan,  ..., nan, nan, nan]])"
      ]
     },
     "execution_count": 517,
     "metadata": {},
     "output_type": "execute_result"
    }
   ],
   "source": [
    "weights[-2]"
   ]
  },
  {
   "cell_type": "code",
   "execution_count": 553,
   "id": "b1c77e31-daa3-4108-8307-56ff38fce7bb",
   "metadata": {
    "scrolled": true
   },
   "outputs": [],
   "source": [
    "(x,y) = train_dataloader.dataset[500]\n",
    "x,y = x.flatten(), y"
   ]
  },
  {
   "cell_type": "code",
   "execution_count": 554,
   "id": "3d0908c7-e944-4760-889d-d4bb27890283",
   "metadata": {},
   "outputs": [
    {
     "data": {
      "text/plain": [
       "tensor(3.3171)"
      ]
     },
     "execution_count": 554,
     "metadata": {},
     "output_type": "execute_result"
    }
   ],
   "source": [
    "a = forward(x)\n",
    "cross_entropy(a[-1],y)"
   ]
  },
  {
   "cell_type": "code",
   "execution_count": null,
   "id": "1423a4f4-5161-4f1e-8ec3-2287f2d75462",
   "metadata": {},
   "outputs": [],
   "source": []
  }
 ],
 "metadata": {
  "kernelspec": {
   "display_name": "Python 3 (ipykernel)",
   "language": "python",
   "name": "python3"
  },
  "language_info": {
   "codemirror_mode": {
    "name": "ipython",
    "version": 3
   },
   "file_extension": ".py",
   "mimetype": "text/x-python",
   "name": "python",
   "nbconvert_exporter": "python",
   "pygments_lexer": "ipython3",
   "version": "3.12.2"
  }
 },
 "nbformat": 4,
 "nbformat_minor": 5
}
