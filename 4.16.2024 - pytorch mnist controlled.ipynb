{
 "cells": [
  {
   "cell_type": "code",
   "execution_count": 70,
   "id": "7ccde100-704b-443e-90b3-100855cd94d5",
   "metadata": {},
   "outputs": [],
   "source": [
    "import torch\n",
    "from torch import nn\n",
    "from torch.utils.data import Dataset\n",
    "from torchvision import datasets\n",
    "from torch.utils.data import DataLoader\n",
    "from torchvision.transforms import ToTensor\n",
    "import matplotlib.pyplot as plt\n",
    "import seaborn as sns\n",
    "import numpy as np"
   ]
  },
  {
   "cell_type": "code",
   "execution_count": 24,
   "id": "70f91008-c4e3-4355-b11e-bfae14fa3aa1",
   "metadata": {},
   "outputs": [
    {
     "data": {
      "text/plain": [
       "<torch._C.Generator at 0x1747e3843b0>"
      ]
     },
     "execution_count": 24,
     "metadata": {},
     "output_type": "execute_result"
    }
   ],
   "source": [
    "torch.manual_seed(0)"
   ]
  },
  {
   "cell_type": "code",
   "execution_count": 6,
   "id": "1d4cc1f9-00ed-43de-aba1-dbd6540496bc",
   "metadata": {},
   "outputs": [
    {
     "name": "stdout",
     "output_type": "stream",
     "text": [
      "Using cpu device\n"
     ]
    }
   ],
   "source": [
    "device = (\n",
    "    \"cuda\"\n",
    "    if torch.cuda.is_available()\n",
    "    else \"mps\"\n",
    "    if torch.backends.mps.is_available()\n",
    "    else \"cpu\"\n",
    ")\n",
    "print(f\"Using {device} device\")"
   ]
  },
  {
   "cell_type": "code",
   "execution_count": 7,
   "id": "c4cc97a3-ff6b-488b-83cb-4b86ca414324",
   "metadata": {},
   "outputs": [],
   "source": [
    "training_data = datasets.MNIST(\n",
    "    root=\"data\",\n",
    "    train=True,\n",
    "    download=True,\n",
    "    transform=ToTensor()\n",
    ")"
   ]
  },
  {
   "cell_type": "code",
   "execution_count": 8,
   "id": "4a125aec-b1d8-482a-8198-645ad6657abf",
   "metadata": {},
   "outputs": [],
   "source": [
    "test_data = datasets.MNIST(\n",
    "    root=\"data\",\n",
    "    train=False,\n",
    "    download=True,\n",
    "    transform=ToTensor()\n",
    ")"
   ]
  },
  {
   "cell_type": "code",
   "execution_count": 44,
   "id": "ace84846-9e28-4fe3-bd71-8bcef49864c3",
   "metadata": {},
   "outputs": [
    {
     "name": "stdout",
     "output_type": "stream",
     "text": [
      "Shape of X [N, C, H, W]: torch.Size([64, 1, 28, 28])\n",
      "Shape of y: torch.Size([64]) torch.int64\n"
     ]
    }
   ],
   "source": [
    "batch_size = 64\n",
    "\n",
    "# Create data loaders.\n",
    "train_dataloader = DataLoader(training_data, batch_size=batch_size)\n",
    "test_dataloader = DataLoader(test_data, batch_size=batch_size)\n",
    "\n",
    "for X, y in test_dataloader:\n",
    "    print(f\"Shape of X [N, C, H, W]: {X.shape}\")\n",
    "    print(f\"Shape of y: {y.shape} {y.dtype}\")\n",
    "    break"
   ]
  },
  {
   "cell_type": "code",
   "execution_count": 9,
   "id": "a3ad7e7c-aa0f-421d-8625-55ed516e6b22",
   "metadata": {},
   "outputs": [],
   "source": [
    "# Define model\n",
    "class NeuralNetwork(nn.Module):\n",
    "    def __init__(self):\n",
    "        super().__init__()\n",
    "        self.flatten = nn.Flatten()\n",
    "        self.linear_relu_stack = nn.Sequential(\n",
    "            nn.Linear(28*28, 18),\n",
    "            nn.ReLU(),\n",
    "            nn.Linear(18, 10)\n",
    "        )\n",
    "\n",
    "    def forward(self, x):\n",
    "        x = self.flatten(x)\n",
    "        logits = self.linear_relu_stack(x)\n",
    "        return logits"
   ]
  },
  {
   "cell_type": "code",
   "execution_count": 10,
   "id": "7591b7bb-a598-48fb-82ed-44ae0b6d74e0",
   "metadata": {},
   "outputs": [],
   "source": [
    "def train(dataloader, model, loss_fn, optimizer):\n",
    "    size = len(dataloader.dataset)\n",
    "    model.train()\n",
    "    for batch, (X, y) in enumerate(dataloader):\n",
    "        X, y = X.to(device), y.to(device)\n",
    "\n",
    "        # Compute prediction error\n",
    "        pred = model(X)\n",
    "        loss = loss_fn(pred, y)\n",
    "\n",
    "        # Backpropagation\n",
    "        loss.backward()\n",
    "        optimizer.step()\n",
    "        optimizer.zero_grad()\n",
    "\n",
    "        if batch % 100 == 0:\n",
    "            loss, current = loss.item(), (batch + 1) * len(X)\n",
    "            print(f\"loss: {loss:>7f}  [{current:>5d}/{size:>5d}]\")"
   ]
  },
  {
   "cell_type": "code",
   "execution_count": 11,
   "id": "e96a9e85-3749-4b63-b873-3ca22e3cd55d",
   "metadata": {},
   "outputs": [],
   "source": [
    "def test(dataloader, model, loss_fn):\n",
    "    # Set the model to evaluation mode - important for batch normalization and dropout layers\n",
    "    # Unnecessary in this situation but added for best practices\n",
    "    model.eval()\n",
    "    size = len(dataloader.dataset)\n",
    "    num_batches = len(dataloader)\n",
    "    test_loss, correct = 0, 0\n",
    "    with torch.no_grad():\n",
    "        for X, y in dataloader:\n",
    "            pred = model(X)\n",
    "            test_loss += loss_fn(pred, y).item()\n",
    "            correct += (pred.argmax(1) == y).type(torch.float).sum().item()\n",
    "\n",
    "    test_loss /= num_batches\n",
    "    correct /= size\n",
    "    print(f\"Test Error: \\n Accuracy: {(100*correct):>0.1f}%, Avg loss: {test_loss:>8f} \\n\")"
   ]
  },
  {
   "cell_type": "code",
   "execution_count": 94,
   "id": "c25197a6-4b17-47a8-bcd0-5c86331f55a4",
   "metadata": {},
   "outputs": [
    {
     "name": "stdout",
     "output_type": "stream",
     "text": [
      "NeuralNetwork(\n",
      "  (flatten): Flatten(start_dim=1, end_dim=-1)\n",
      "  (linear_relu_stack): Sequential(\n",
      "    (0): Linear(in_features=784, out_features=18, bias=True)\n",
      "    (1): ReLU()\n",
      "    (2): Linear(in_features=18, out_features=10, bias=True)\n",
      "  )\n",
      ")\n"
     ]
    }
   ],
   "source": [
    "torch.manual_seed(0)\n",
    "model = NeuralNetwork().to(device)\n",
    "print(model)"
   ]
  },
  {
   "cell_type": "code",
   "execution_count": 95,
   "id": "f3d5f233-e32a-44a5-bac3-16f85ee389d3",
   "metadata": {},
   "outputs": [],
   "source": [
    "loss_fn = nn.CrossEntropyLoss()\n",
    "optimizer = torch.optim.SGD(model.parameters(), lr=1e-3)\n"
   ]
  },
  {
   "cell_type": "code",
   "execution_count": 96,
   "id": "bc893a84-cffa-443f-b260-62215e7cdcc2",
   "metadata": {},
   "outputs": [
    {
     "name": "stdout",
     "output_type": "stream",
     "text": [
      "loss: 2.311446  [   64/60000]\n",
      "loss: 2.318978  [ 6464/60000]\n",
      "loss: 2.292953  [12864/60000]\n",
      "loss: 2.208490  [19264/60000]\n",
      "loss: 2.216908  [25664/60000]\n",
      "loss: 2.212726  [32064/60000]\n",
      "loss: 2.156218  [38464/60000]\n",
      "loss: 2.183332  [44864/60000]\n",
      "loss: 2.104259  [51264/60000]\n",
      "loss: 2.085171  [57664/60000]\n"
     ]
    }
   ],
   "source": [
    "train(train_dataloader, model, loss_fn, optimizer)"
   ]
  },
  {
   "cell_type": "code",
   "execution_count": 56,
   "id": "22794a1b-640b-41d7-905b-9ab0b3d9f7ed",
   "metadata": {},
   "outputs": [
    {
     "name": "stdout",
     "output_type": "stream",
     "text": [
      "Test Error: \n",
      " Accuracy: 34.2%, Avg loss: 2.087204 \n",
      "\n"
     ]
    }
   ],
   "source": [
    "test(test_dataloader, model, loss_fn)"
   ]
  },
  {
   "cell_type": "code",
   "execution_count": 57,
   "id": "400ed713-cc24-4ac4-abd9-729cb09d5fce",
   "metadata": {},
   "outputs": [],
   "source": [
    "old = model.state_dict()"
   ]
  },
  {
   "cell_type": "code",
   "execution_count": 58,
   "id": "1f139223-5a0a-4dc9-84e3-631314bc9450",
   "metadata": {
    "scrolled": true
   },
   "outputs": [
    {
     "data": {
      "text/plain": [
       "OrderedDict([('linear_relu_stack.0.weight',\n",
       "              tensor([[-0.0003,  0.0192, -0.0294,  ...,  0.0219,  0.0037,  0.0021],\n",
       "                      [-0.0198, -0.0150, -0.0104,  ..., -0.0203, -0.0060, -0.0299],\n",
       "                      [-0.0201,  0.0149, -0.0333,  ..., -0.0203,  0.0012,  0.0080],\n",
       "                      ...,\n",
       "                      [-0.0215,  0.0106,  0.0308,  ..., -0.0199,  0.0161, -0.0342],\n",
       "                      [ 0.0350, -0.0297, -0.0037,  ...,  0.0171,  0.0238, -0.0001],\n",
       "                      [ 0.0085,  0.0223, -0.0324,  ..., -0.0296,  0.0182, -0.0296]])),\n",
       "             ('linear_relu_stack.0.bias',\n",
       "              tensor([ 0.0106,  0.0085,  0.0134, -0.0227, -0.0049,  0.0033, -0.0191, -0.0014,\n",
       "                       0.0076,  0.0316, -0.0083, -0.0311,  0.0095,  0.0278, -0.0272,  0.0390,\n",
       "                       0.0321,  0.0125])),\n",
       "             ('linear_relu_stack.2.weight',\n",
       "              tensor([[ 0.1389, -0.1488, -0.2273,  0.2386,  0.1592, -0.1654, -0.1655,  0.0761,\n",
       "                        0.1549,  0.2038,  0.0227,  0.1407,  0.0915,  0.0804, -0.1196, -0.1754,\n",
       "                        0.2495,  0.0565],\n",
       "                      [-0.2206, -0.0969,  0.0425,  0.0331, -0.1933,  0.2379, -0.2168,  0.1215,\n",
       "                       -0.1173, -0.1680,  0.1163, -0.0595, -0.0944, -0.0247, -0.0887,  0.2312,\n",
       "                       -0.2317, -0.0841],\n",
       "                      [-0.0355, -0.0584, -0.1456,  0.0293,  0.0121,  0.1590,  0.0774,  0.1704,\n",
       "                       -0.1688,  0.1955, -0.0979, -0.0047,  0.0894, -0.0478, -0.0676,  0.1149,\n",
       "                        0.1776, -0.1549],\n",
       "                      [ 0.1420,  0.1724,  0.1028,  0.0800,  0.1325,  0.2368,  0.1600,  0.0119,\n",
       "                       -0.1670, -0.0076, -0.1387,  0.2184, -0.0699,  0.0170,  0.1075,  0.0907,\n",
       "                       -0.1927, -0.1540],\n",
       "                      [ 0.0391, -0.1812,  0.0886,  0.0566, -0.1027, -0.1981,  0.0364, -0.1420,\n",
       "                        0.2405,  0.1561,  0.1546,  0.1107,  0.0924, -0.1762,  0.2248, -0.0526,\n",
       "                        0.1374,  0.2193],\n",
       "                      [ 0.0487, -0.1665, -0.0167, -0.1352, -0.1873,  0.1646, -0.0891,  0.1898,\n",
       "                       -0.1410,  0.0968, -0.0193, -0.0249,  0.1355, -0.2137,  0.2026, -0.0504,\n",
       "                        0.1063, -0.1385],\n",
       "                      [-0.1304, -0.0044, -0.0646, -0.0995,  0.1397, -0.0258, -0.0967, -0.0156,\n",
       "                        0.2194, -0.1929, -0.0406, -0.0461,  0.1148,  0.1948, -0.1479, -0.0534,\n",
       "                       -0.2193, -0.1762],\n",
       "                      [ 0.0894, -0.0268,  0.1807, -0.0286, -0.1252, -0.0998,  0.0248,  0.1349,\n",
       "                        0.0208,  0.0523, -0.0863,  0.0874, -0.1596,  0.1509, -0.0132,  0.1891,\n",
       "                       -0.1247,  0.2309],\n",
       "                      [ 0.1540, -0.1946, -0.0713,  0.2054,  0.0697,  0.2009, -0.0497, -0.1063,\n",
       "                        0.1464, -0.0711,  0.2141,  0.1354,  0.2336,  0.1752, -0.0678,  0.2083,\n",
       "                       -0.1946,  0.2266],\n",
       "                      [ 0.0088, -0.1136,  0.0704,  0.1203, -0.0059,  0.1561, -0.0169, -0.2438,\n",
       "                        0.1631,  0.0072,  0.1340, -0.1132,  0.1542,  0.0877, -0.1387, -0.2271,\n",
       "                       -0.0115,  0.0450]])),\n",
       "             ('linear_relu_stack.2.bias',\n",
       "              tensor([-0.1373, -0.0384, -0.0481, -0.1970, -0.0938, -0.1178,  0.0175,  0.2134,\n",
       "                       0.1138,  0.1111]))])"
      ]
     },
     "execution_count": 58,
     "metadata": {},
     "output_type": "execute_result"
    }
   ],
   "source": [
    "old"
   ]
  },
  {
   "cell_type": "code",
   "execution_count": 97,
   "id": "d61e8eea-1f0b-48d2-944e-98d5bd86eb5c",
   "metadata": {
    "scrolled": true
   },
   "outputs": [
    {
     "data": {
      "text/plain": [
       "OrderedDict([('linear_relu_stack.0.weight',\n",
       "              tensor([[-0.0003,  0.0192, -0.0294,  ...,  0.0219,  0.0037,  0.0021],\n",
       "                      [-0.0198, -0.0150, -0.0104,  ..., -0.0203, -0.0060, -0.0299],\n",
       "                      [-0.0201,  0.0149, -0.0333,  ..., -0.0203,  0.0012,  0.0080],\n",
       "                      ...,\n",
       "                      [-0.0215,  0.0106,  0.0308,  ..., -0.0199,  0.0161, -0.0342],\n",
       "                      [ 0.0350, -0.0297, -0.0037,  ...,  0.0171,  0.0238, -0.0001],\n",
       "                      [ 0.0085,  0.0223, -0.0324,  ..., -0.0296,  0.0182, -0.0296]])),\n",
       "             ('linear_relu_stack.0.bias',\n",
       "              tensor([ 0.0106,  0.0085,  0.0134, -0.0227, -0.0049,  0.0033, -0.0191, -0.0014,\n",
       "                       0.0076,  0.0316, -0.0083, -0.0311,  0.0095,  0.0278, -0.0272,  0.0390,\n",
       "                       0.0321,  0.0125])),\n",
       "             ('linear_relu_stack.2.weight',\n",
       "              tensor([[ 0.1389, -0.1488, -0.2273,  0.2386,  0.1592, -0.1654, -0.1655,  0.0761,\n",
       "                        0.1549,  0.2038,  0.0227,  0.1407,  0.0915,  0.0804, -0.1196, -0.1754,\n",
       "                        0.2495,  0.0565],\n",
       "                      [-0.2206, -0.0969,  0.0425,  0.0331, -0.1933,  0.2379, -0.2168,  0.1215,\n",
       "                       -0.1173, -0.1680,  0.1163, -0.0595, -0.0944, -0.0247, -0.0887,  0.2312,\n",
       "                       -0.2317, -0.0841],\n",
       "                      [-0.0355, -0.0584, -0.1456,  0.0293,  0.0121,  0.1590,  0.0774,  0.1704,\n",
       "                       -0.1688,  0.1955, -0.0979, -0.0047,  0.0894, -0.0478, -0.0676,  0.1149,\n",
       "                        0.1776, -0.1549],\n",
       "                      [ 0.1420,  0.1724,  0.1028,  0.0800,  0.1325,  0.2368,  0.1600,  0.0119,\n",
       "                       -0.1670, -0.0076, -0.1387,  0.2184, -0.0699,  0.0170,  0.1075,  0.0907,\n",
       "                       -0.1927, -0.1540],\n",
       "                      [ 0.0391, -0.1812,  0.0886,  0.0566, -0.1027, -0.1981,  0.0364, -0.1420,\n",
       "                        0.2405,  0.1561,  0.1546,  0.1107,  0.0924, -0.1762,  0.2248, -0.0526,\n",
       "                        0.1374,  0.2193],\n",
       "                      [ 0.0487, -0.1665, -0.0167, -0.1352, -0.1873,  0.1646, -0.0891,  0.1898,\n",
       "                       -0.1410,  0.0968, -0.0193, -0.0249,  0.1355, -0.2137,  0.2026, -0.0504,\n",
       "                        0.1063, -0.1385],\n",
       "                      [-0.1304, -0.0044, -0.0646, -0.0995,  0.1397, -0.0258, -0.0967, -0.0156,\n",
       "                        0.2194, -0.1929, -0.0406, -0.0461,  0.1148,  0.1948, -0.1479, -0.0534,\n",
       "                       -0.2193, -0.1762],\n",
       "                      [ 0.0894, -0.0268,  0.1807, -0.0286, -0.1252, -0.0998,  0.0248,  0.1349,\n",
       "                        0.0208,  0.0523, -0.0863,  0.0874, -0.1596,  0.1509, -0.0132,  0.1891,\n",
       "                       -0.1247,  0.2309],\n",
       "                      [ 0.1540, -0.1946, -0.0713,  0.2054,  0.0697,  0.2009, -0.0497, -0.1063,\n",
       "                        0.1464, -0.0711,  0.2141,  0.1354,  0.2336,  0.1752, -0.0678,  0.2083,\n",
       "                       -0.1946,  0.2266],\n",
       "                      [ 0.0088, -0.1136,  0.0704,  0.1203, -0.0059,  0.1561, -0.0169, -0.2438,\n",
       "                        0.1631,  0.0072,  0.1340, -0.1132,  0.1542,  0.0877, -0.1387, -0.2271,\n",
       "                       -0.0115,  0.0450]])),\n",
       "             ('linear_relu_stack.2.bias',\n",
       "              tensor([-0.1373, -0.0384, -0.0481, -0.1970, -0.0938, -0.1178,  0.0175,  0.2134,\n",
       "                       0.1138,  0.1111]))])"
      ]
     },
     "execution_count": 97,
     "metadata": {},
     "output_type": "execute_result"
    }
   ],
   "source": [
    "model.state_dict()"
   ]
  },
  {
   "cell_type": "code",
   "execution_count": 91,
   "id": "43f59bac-45c4-4c98-857b-57c1e8ef6843",
   "metadata": {
    "scrolled": true
   },
   "outputs": [
    {
     "data": {
      "text/plain": [
       "tensor([10, 10, 10, 10, 10, 10, 10, 10, 10, 10, 10, 10, 10, 10, 10, 10, 10, 10])"
      ]
     },
     "execution_count": 91,
     "metadata": {},
     "output_type": "execute_result"
    }
   ],
   "source": [
    "sum(old['linear_relu_stack.2.weight'] != model.state_dict()['linear_relu_stack.2.weight'])"
   ]
  },
  {
   "cell_type": "code",
   "execution_count": 92,
   "id": "e62a4f66-ad88-4860-be46-ab2be6bf87f5",
   "metadata": {
    "scrolled": true
   },
   "outputs": [
    {
     "data": {
      "text/plain": [
       "tensor([[ 0.1389, -0.1488, -0.2273,  0.2386,  0.1592, -0.1654, -0.1655,  0.0761,\n",
       "          0.1549,  0.2038,  0.0227,  0.1407,  0.0915,  0.0804, -0.1196, -0.1754,\n",
       "          0.2495,  0.0565],\n",
       "        [-0.2206, -0.0969,  0.0425,  0.0331, -0.1933,  0.2379, -0.2168,  0.1215,\n",
       "         -0.1173, -0.1680,  0.1163, -0.0595, -0.0944, -0.0247, -0.0887,  0.2312,\n",
       "         -0.2317, -0.0841],\n",
       "        [-0.0355, -0.0584, -0.1456,  0.0293,  0.0121,  0.1590,  0.0774,  0.1704,\n",
       "         -0.1688,  0.1955, -0.0979, -0.0047,  0.0894, -0.0478, -0.0676,  0.1149,\n",
       "          0.1776, -0.1549],\n",
       "        [ 0.1420,  0.1724,  0.1028,  0.0800,  0.1325,  0.2368,  0.1600,  0.0119,\n",
       "         -0.1670, -0.0076, -0.1387,  0.2184, -0.0699,  0.0170,  0.1075,  0.0907,\n",
       "         -0.1927, -0.1540],\n",
       "        [ 0.0391, -0.1812,  0.0886,  0.0566, -0.1027, -0.1981,  0.0364, -0.1420,\n",
       "          0.2405,  0.1561,  0.1546,  0.1107,  0.0924, -0.1762,  0.2248, -0.0526,\n",
       "          0.1374,  0.2193],\n",
       "        [ 0.0487, -0.1665, -0.0167, -0.1352, -0.1873,  0.1646, -0.0891,  0.1898,\n",
       "         -0.1410,  0.0968, -0.0193, -0.0249,  0.1355, -0.2137,  0.2026, -0.0504,\n",
       "          0.1063, -0.1385],\n",
       "        [-0.1304, -0.0044, -0.0646, -0.0995,  0.1397, -0.0258, -0.0967, -0.0156,\n",
       "          0.2194, -0.1929, -0.0406, -0.0461,  0.1148,  0.1948, -0.1479, -0.0534,\n",
       "         -0.2193, -0.1762],\n",
       "        [ 0.0894, -0.0268,  0.1807, -0.0286, -0.1252, -0.0998,  0.0248,  0.1349,\n",
       "          0.0208,  0.0523, -0.0863,  0.0874, -0.1596,  0.1509, -0.0132,  0.1891,\n",
       "         -0.1247,  0.2309],\n",
       "        [ 0.1540, -0.1946, -0.0713,  0.2054,  0.0697,  0.2009, -0.0497, -0.1063,\n",
       "          0.1464, -0.0711,  0.2141,  0.1354,  0.2336,  0.1752, -0.0678,  0.2083,\n",
       "         -0.1946,  0.2266],\n",
       "        [ 0.0088, -0.1136,  0.0704,  0.1203, -0.0059,  0.1561, -0.0169, -0.2438,\n",
       "          0.1631,  0.0072,  0.1340, -0.1132,  0.1542,  0.0877, -0.1387, -0.2271,\n",
       "         -0.0115,  0.0450]])"
      ]
     },
     "execution_count": 92,
     "metadata": {},
     "output_type": "execute_result"
    }
   ],
   "source": [
    "old['linear_relu_stack.2.weight']"
   ]
  },
  {
   "cell_type": "code",
   "execution_count": 93,
   "id": "65349f7c-b91a-4f76-9848-b02adf5a17ce",
   "metadata": {
    "scrolled": true
   },
   "outputs": [
    {
     "data": {
      "text/plain": [
       "tensor([[ 0.1390, -0.1494, -0.2147,  0.2142,  0.1166, -0.1546, -0.1654,  0.0631,\n",
       "          0.1544,  0.2064,  0.0297,  0.1380,  0.0920,  0.0833, -0.1180, -0.1707,\n",
       "          0.2289,  0.0489],\n",
       "        [-0.2119, -0.0872,  0.0234,  0.0395, -0.1763,  0.2059, -0.2174,  0.1155,\n",
       "         -0.1042, -0.1669,  0.1042, -0.0565, -0.0937, -0.0247, -0.0842,  0.2194,\n",
       "         -0.2220, -0.0808],\n",
       "        [-0.0286, -0.0655, -0.1446,  0.0312,  0.0048,  0.1498,  0.0774,  0.1614,\n",
       "         -0.1665,  0.1966, -0.0986, -0.0030,  0.0868, -0.0487, -0.0625,  0.1071,\n",
       "          0.1698, -0.1533],\n",
       "        [ 0.1358,  0.1561,  0.0980,  0.0758,  0.1265,  0.2233,  0.1601,  0.0075,\n",
       "         -0.1609, -0.0058, -0.1354,  0.2079, -0.0700,  0.0170,  0.0997,  0.0820,\n",
       "         -0.1933, -0.1521],\n",
       "        [ 0.0403, -0.1731,  0.0918,  0.0625, -0.0918, -0.1864,  0.0361, -0.1316,\n",
       "          0.2262,  0.1522,  0.1508,  0.1103,  0.0919, -0.1769,  0.2244, -0.0482,\n",
       "          0.1366,  0.2164],\n",
       "        [ 0.0453, -0.1708, -0.0112, -0.1373, -0.1919,  0.1684, -0.0890,  0.1894,\n",
       "         -0.1370,  0.0977, -0.0159, -0.0262,  0.1361, -0.2134,  0.1970, -0.0483,\n",
       "          0.1064, -0.1399],\n",
       "        [-0.1229, -0.0055, -0.0564, -0.0958,  0.1275, -0.0257, -0.0967, -0.0269,\n",
       "          0.2111, -0.1932, -0.0392, -0.0369,  0.1148,  0.1943, -0.1480, -0.0437,\n",
       "         -0.2194, -0.1743],\n",
       "        [ 0.0884, -0.0257,  0.1745, -0.0224, -0.1076, -0.0778,  0.0250,  0.1510,\n",
       "          0.0193,  0.0538, -0.0828,  0.0895, -0.1591,  0.1464, -0.0102,  0.1980,\n",
       "         -0.1200,  0.2311],\n",
       "        [ 0.1497, -0.1904, -0.0700,  0.2058,  0.0801,  0.1960, -0.0494, -0.1007,\n",
       "          0.1563, -0.0707,  0.2138,  0.1376,  0.2347,  0.1778, -0.0700,  0.1988,\n",
       "         -0.1829,  0.2306],\n",
       "        [-0.0006, -0.1074,  0.0688,  0.1265,  0.0111,  0.1675, -0.0168, -0.2316,\n",
       "          0.1520,  0.0021,  0.1323, -0.1164,  0.1540,  0.0885, -0.1369, -0.2191,\n",
       "         -0.0079,  0.0439]])"
      ]
     },
     "execution_count": 93,
     "metadata": {},
     "output_type": "execute_result"
    }
   ],
   "source": [
    "model.state_dict()['linear_relu_stack.2.weight']"
   ]
  },
  {
   "cell_type": "code",
   "execution_count": 89,
   "id": "1277a4ea-6e73-4ee7-a0e1-c0fae343f41a",
   "metadata": {},
   "outputs": [
    {
     "data": {
      "text/plain": [
       "tensor([False,  True, False,  True, False, False,  True, False, False, False,\n",
       "        False, False, False, False, False, False, False,  True])"
      ]
     },
     "execution_count": 89,
     "metadata": {},
     "output_type": "execute_result"
    }
   ],
   "source": [
    "old['linear_relu_stack.0.weight'][:,13] == model.state_dict()['linear_relu_stack.0.weight'][:,13]"
   ]
  },
  {
   "cell_type": "code",
   "execution_count": null,
   "id": "f9d3fd4a-1c46-4e4f-beac-1c3090d8cff0",
   "metadata": {},
   "outputs": [],
   "source": [
    "## Training vs Test performance vs. # of epochs."
   ]
  }
 ],
 "metadata": {
  "kernelspec": {
   "display_name": "Python 3 (ipykernel)",
   "language": "python",
   "name": "python3"
  },
  "language_info": {
   "codemirror_mode": {
    "name": "ipython",
    "version": 3
   },
   "file_extension": ".py",
   "mimetype": "text/x-python",
   "name": "python",
   "nbconvert_exporter": "python",
   "pygments_lexer": "ipython3",
   "version": "3.12.2"
  }
 },
 "nbformat": 4,
 "nbformat_minor": 5
}
