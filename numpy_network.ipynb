{
 "cells": [
  {
   "cell_type": "code",
   "execution_count": 3,
   "id": "458f7ec6-41dd-415c-8bbe-58ab60b774ba",
   "metadata": {},
   "outputs": [],
   "source": [
    "import numpy as np\n",
    "from torchvision import datasets"
   ]
  },
  {
   "cell_type": "code",
   "execution_count": 119,
   "id": "2bbe3fef-1b15-402f-b2c4-146f4e7341a0",
   "metadata": {},
   "outputs": [],
   "source": [
    "training_data = datasets.MNIST(\n",
    "    root=\"data\",\n",
    "    train=True,\n",
    "    download=True\n",
    ")\n",
    "test_data = datasets.MNIST(\n",
    "    root=\"data\",\n",
    "    train=False,\n",
    "    download=True\n",
    ")"
   ]
  },
  {
   "cell_type": "code",
   "execution_count": 20,
   "id": "9935ac6d-42d9-4e49-8379-be6f81de74af",
   "metadata": {},
   "outputs": [
    {
     "name": "stdout",
     "output_type": "stream",
     "text": [
      "(60000, 28, 28) (10000, 28, 28)\n"
     ]
    }
   ],
   "source": [
    "print(training_data.data.numpy().shape, test_data.data.numpy().shape)"
   ]
  },
  {
   "cell_type": "code",
   "execution_count": 23,
   "id": "945b581a-7716-475a-a8c7-61b9428731cc",
   "metadata": {},
   "outputs": [],
   "source": [
    "train = training_data.data.numpy()[:10,:]\n",
    "train = train.reshape(10,28*28)"
   ]
  },
  {
   "cell_type": "code",
   "execution_count": 27,
   "id": "bfc8026f-3e15-4706-8222-fd61f1873d2d",
   "metadata": {},
   "outputs": [],
   "source": [
    "test = test_data.data.numpy()[:1,:]\n",
    "test = test.reshape(28*28)"
   ]
  },
  {
   "cell_type": "code",
   "execution_count": 31,
   "id": "ae6226f7-e91e-49c9-b8ea-1867b6e88087",
   "metadata": {},
   "outputs": [],
   "source": [
    "INPUT_SIZE = training_data.data.numpy().shape[1] * training_data.data.numpy().shape[2]\n",
    "LAYER_ONE_SIZE = 18\n",
    "LAYER_TWO_SIZE = 10\n",
    "\n",
    "weights_l1 = np.zeros((INPUT_SIZE, LAYER_ONE_SIZE))\n",
    "bias_l1 = np.zeros((LAYER_ONE_SIZE))\n",
    "\n",
    "weights_l2 = np.zeros((LAYER_ONE_SIZE,LAYER_TWO_SIZE))\n",
    "bias_l2 = np.zeros((LAYER_TWO_SIZE))\n"
   ]
  },
  {
   "cell_type": "code",
   "execution_count": 49,
   "id": "fcb1e5ad-e4d5-4591-b254-dfc66f862876",
   "metadata": {},
   "outputs": [
    {
     "data": {
      "text/plain": [
       "(18,)"
      ]
     },
     "execution_count": 49,
     "metadata": {},
     "output_type": "execute_result"
    }
   ],
   "source": [
    "(test @ weights_l1).shape"
   ]
  },
  {
   "cell_type": "code",
   "execution_count": 50,
   "id": "a1b72086-6133-4c94-852a-f728941038ac",
   "metadata": {},
   "outputs": [
    {
     "name": "stdout",
     "output_type": "stream",
     "text": [
      "(18,)\n",
      "(784,) (784, 18)\n"
     ]
    }
   ],
   "source": [
    "print(bias_l1.shape)\n",
    "print(test.shape,weights_l1.shape)"
   ]
  },
  {
   "cell_type": "code",
   "execution_count": 41,
   "id": "132b04d7-a99c-4a47-903f-c9c256593647",
   "metadata": {},
   "outputs": [
    {
     "data": {
      "text/plain": [
       "0.0"
      ]
     },
     "execution_count": 41,
     "metadata": {},
     "output_type": "execute_result"
    }
   ],
   "source": [
    "test @ weights_l1[:,0]"
   ]
  },
  {
   "cell_type": "code",
   "execution_count": 267,
   "id": "2a5278a7-3d0b-413f-932a-50f134e91c16",
   "metadata": {},
   "outputs": [],
   "source": [
    "class NeuralNetwork:\n",
    "    def __init__(self, w=[], b=[], a=[]):\n",
    "        self.w = w\n",
    "        self.b = b\n",
    "        self.layers = len(self.w)\n",
    "        map = {'relu':self.relu, 'softmax':self.softmax}\n",
    "        self.a = [map[k] for k in a] \n",
    "        self.activations = [x]\n",
    "        self.zs = []\n",
    "\n",
    "    def forward(self,x,y):\n",
    "        for i in range(self.layers):\n",
    "            z = self.w[i]@self.activations[-1]\n",
    "            activation = self.a[i](z+self.b[i])\n",
    "            self.activations.append(activation.squeeze())\n",
    "            self.zs.append(z)\n",
    "        y_hat = self.activations[-1]\n",
    "\n",
    "    def loss(self,y,y_hat):\n",
    "        return -np.log(y_hat[y])\n",
    "    \n",
    "    def softmax(self,a):\n",
    "        return np.exp(a) / np.sum(np.exp(a))\n",
    "\n",
    "    def relu(self, a):\n",
    "        return a*[a>=0]\n",
    "            \n",
    "        "
   ]
  },
  {
   "cell_type": "code",
   "execution_count": null,
   "id": "551e7c7b-9e2c-4edb-8ea2-0c8cc5d25c50",
   "metadata": {},
   "outputs": [],
   "source": [
    "test_samples = 100\n",
    "x = training_data.data.numpy()[:test_samples,:]/255\n",
    "x = x.reshape(x.shape[0]*x.shape[1])\n"
   ]
  },
  {
   "cell_type": "code",
   "execution_count": 268,
   "id": "8caede2f-241a-44ad-9fa1-360294dc1443",
   "metadata": {},
   "outputs": [
    {
     "name": "stdout",
     "output_type": "stream",
     "text": [
      "(784,) 5\n"
     ]
    }
   ],
   "source": [
    "i = 0 # single training sample\n",
    "x = training_data.data.numpy()[0,:]/255\n",
    "x = x.reshape(x.shape[0]*x.shape[1])\n",
    "y = training_data[i][1]\n",
    "print(x.shape, y)"
   ]
  },
  {
   "cell_type": "code",
   "execution_count": 269,
   "id": "d8cae482-9aaf-478e-a7ea-cabba26f89f1",
   "metadata": {},
   "outputs": [],
   "source": [
    "import torch"
   ]
  },
  {
   "cell_type": "code",
   "execution_count": 270,
   "id": "e279e7cb-c01c-4d2c-84a7-1ee3f26d0e6d",
   "metadata": {
    "scrolled": true
   },
   "outputs": [
    {
     "name": "stdout",
     "output_type": "stream",
     "text": [
      "odict_keys(['linear_relu_stack.0.weight', 'linear_relu_stack.0.bias', 'linear_relu_stack.2.weight', 'linear_relu_stack.2.bias'])\n"
     ]
    }
   ],
   "source": [
    "model = torch.load('model.pth')\n",
    "print(model.keys())\n",
    "weights = [model['linear_relu_stack.0.weight'].numpy(), model['linear_relu_stack.2.weight'].numpy()]\n",
    "bias = model['linear_relu_stack.0.bias'].numpy(), model['linear_relu_stack.2.bias'].numpy()\n",
    "\n"
   ]
  },
  {
   "cell_type": "code",
   "execution_count": 271,
   "id": "cb4e1b3d-5132-437f-9721-082344db8221",
   "metadata": {},
   "outputs": [
    {
     "name": "stdout",
     "output_type": "stream",
     "text": [
      "0.9999999999999999\n",
      "0.5394658212723191\n"
     ]
    }
   ],
   "source": [
    "nn = NeuralNetwork(w=weights, b= bias,a=['relu','softmax'])\n",
    "nn.forward(x,y)"
   ]
  },
  {
   "cell_type": "code",
   "execution_count": 175,
   "id": "f596e57e-afec-4b0d-bf2c-c3a0d3cb5321",
   "metadata": {},
   "outputs": [
    {
     "data": {
      "text/plain": [
       "(tensor([ 0.0495,  0.1277,  0.1084,  0.0755,  0.1145,  0.0229,  0.1273,  0.1859,\n",
       "          0.2094, -0.0232, -0.0198, -0.0285,  0.0208,  0.0857,  0.0708,  0.0131,\n",
       "          0.0147,  0.0709]),\n",
       " tensor([-0.1486,  0.1066, -0.2193, -0.1151,  0.2829,  0.2039, -0.0093,  0.0890,\n",
       "         -0.2209,  0.0786]))"
      ]
     },
     "execution_count": 175,
     "metadata": {},
     "output_type": "execute_result"
    }
   ],
   "source": [
    "nn.b"
   ]
  }
 ],
 "metadata": {
  "kernelspec": {
   "display_name": "Python 3 (ipykernel)",
   "language": "python",
   "name": "python3"
  },
  "language_info": {
   "codemirror_mode": {
    "name": "ipython",
    "version": 3
   },
   "file_extension": ".py",
   "mimetype": "text/x-python",
   "name": "python",
   "nbconvert_exporter": "python",
   "pygments_lexer": "ipython3",
   "version": "3.12.2"
  }
 },
 "nbformat": 4,
 "nbformat_minor": 5
}
