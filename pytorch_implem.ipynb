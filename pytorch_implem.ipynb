{
 "cells": [
  {
   "cell_type": "code",
   "execution_count": 30,
   "id": "85e3cd61-2f94-4dc2-82c6-0c1a38d7c05a",
   "metadata": {},
   "outputs": [],
   "source": [
    "import torch\n",
    "from torch import nn\n",
    "from torch.utils.data import Dataset\n",
    "from torchvision import datasets\n",
    "from torchvision.transforms import ToTensor\n",
    "import matplotlib.pyplot as plt\n",
    "import seaborn as sns\n",
    "\n"
   ]
  },
  {
   "cell_type": "code",
   "execution_count": 27,
   "id": "f5abf81c-4bcc-4a51-950a-ca8459796024",
   "metadata": {},
   "outputs": [
    {
     "name": "stdout",
     "output_type": "stream",
     "text": [
      "Using cpu device\n"
     ]
    }
   ],
   "source": [
    "device = (\n",
    "    \"cuda\"\n",
    "    if torch.cuda.is_available()\n",
    "    else \"mps\"\n",
    "    if torch.backends.mps.is_available()\n",
    "    else \"cpu\"\n",
    ")\n",
    "print(f\"Using {device} device\")"
   ]
  },
  {
   "cell_type": "code",
   "execution_count": 28,
   "id": "0f420e65-7c4a-40c7-8d38-c8de52eafc6d",
   "metadata": {},
   "outputs": [],
   "source": [
    "training_data = datasets.MNIST(\n",
    "    root=\"data\",\n",
    "    train=True,\n",
    "    download=True,\n",
    "    transform=ToTensor()\n",
    ")"
   ]
  },
  {
   "cell_type": "code",
   "execution_count": 31,
   "id": "836bb50f-e3df-4e41-a57a-c1a993cb92c0",
   "metadata": {},
   "outputs": [],
   "source": [
    "class NeuralNetwork(nn.Module):\n",
    "    def __init__(self):\n",
    "        super().__init__()\n",
    "        self.flatten = nn.Flatten()\n",
    "        self.linear_relu_stack = nn.Sequential(\n",
    "            nn.Linear(28*28, 512),\n",
    "            nn.ReLU(),\n",
    "            nn.Linear(512, 512),\n",
    "            nn.ReLU(),\n",
    "            nn.Linear(512, 10),\n",
    "        )\n",
    "\n",
    "    def forward(self, x):\n",
    "        x = self.flatten(x)\n",
    "        logits = self.linear_relu_stack(x)\n",
    "        return logits"
   ]
  },
  {
   "cell_type": "code",
   "execution_count": 32,
   "id": "aecadcb9-5af8-4730-8c4c-bb175270fff3",
   "metadata": {},
   "outputs": [
    {
     "name": "stdout",
     "output_type": "stream",
     "text": [
      "NeuralNetwork(\n",
      "  (flatten): Flatten(start_dim=1, end_dim=-1)\n",
      "  (linear_relu_stack): Sequential(\n",
      "    (0): Linear(in_features=784, out_features=512, bias=True)\n",
      "    (1): ReLU()\n",
      "    (2): Linear(in_features=512, out_features=512, bias=True)\n",
      "    (3): ReLU()\n",
      "    (4): Linear(in_features=512, out_features=10, bias=True)\n",
      "  )\n",
      ")\n"
     ]
    }
   ],
   "source": [
    "model = NeuralNetwork().to(device)\n",
    "print(model)"
   ]
  },
  {
   "cell_type": "code",
   "execution_count": 33,
   "id": "3d76bee9-cd62-4acf-b654-8c36b7358259",
   "metadata": {},
   "outputs": [
    {
     "name": "stdout",
     "output_type": "stream",
     "text": [
      "Predicted class: tensor([7])\n"
     ]
    }
   ],
   "source": [
    "X = torch.rand(1, 28, 28, device=device)\n",
    "logits = model(X)\n",
    "pred_probab = nn.Softmax(dim=1)(logits)\n",
    "y_pred = pred_probab.argmax(1)\n",
    "print(f\"Predicted class: {y_pred}\")"
   ]
  },
  {
   "cell_type": "code",
   "execution_count": 37,
   "id": "dfd90fe9-4d7b-4361-91b6-7e97ff870c7d",
   "metadata": {},
   "outputs": [
    {
     "name": "stdout",
     "output_type": "stream",
     "text": [
      "torch.Size([3, 28, 28])\n"
     ]
    }
   ],
   "source": [
    "input_image = torch.rand(3,28,28)\n",
    "print(input_image.size())"
   ]
  },
  {
   "cell_type": "code",
   "execution_count": 38,
   "id": "83ba69da-ff9d-4f34-a12c-d813610d4664",
   "metadata": {},
   "outputs": [
    {
     "name": "stdout",
     "output_type": "stream",
     "text": [
      "torch.Size([3, 784])\n"
     ]
    }
   ],
   "source": [
    "flatten = nn.Flatten()\n",
    "flat_image = flatten(input_image)\n",
    "print(flat_image.size())"
   ]
  },
  {
   "cell_type": "code",
   "execution_count": 39,
   "id": "e3a1544f-0c7b-4230-9135-3dc71151ce16",
   "metadata": {},
   "outputs": [
    {
     "name": "stdout",
     "output_type": "stream",
     "text": [
      "torch.Size([3, 20])\n"
     ]
    }
   ],
   "source": [
    "layer1 = nn.Linear(in_features=28*28, out_features=20)\n",
    "hidden1 = layer1(flat_image)\n",
    "print(hidden1.size())"
   ]
  },
  {
   "cell_type": "code",
   "execution_count": 40,
   "id": "ac36458b-8bde-4463-a5bc-7e02c9084fc5",
   "metadata": {},
   "outputs": [
    {
     "name": "stdout",
     "output_type": "stream",
     "text": [
      "Before ReLU: tensor([[-1.7121e-01, -1.2728e-01,  4.3475e-01, -6.1671e-02,  2.4696e-03,\n",
      "          4.0180e-01, -2.0845e-01,  5.4073e-02,  4.9153e-02, -1.1493e-01,\n",
      "         -9.5329e-02, -1.3882e-01,  2.8641e-01,  4.1953e-02, -9.3595e-02,\n",
      "         -4.7102e-01,  4.0312e-01, -3.5861e-01, -2.1477e-01, -3.0224e-02],\n",
      "        [-9.1072e-02, -3.0026e-01,  5.4407e-01, -1.0958e-01,  4.4292e-02,\n",
      "          1.7552e-01, -1.8718e-01, -9.3589e-02,  1.4897e-01,  9.7476e-02,\n",
      "         -1.2920e-01, -5.9964e-04,  2.8759e-01, -7.7499e-02, -2.2868e-01,\n",
      "         -8.6386e-03,  1.5937e-01, -2.7554e-01, -6.0191e-01, -1.3011e-01],\n",
      "        [-2.2133e-01, -3.3193e-01,  2.8073e-01, -6.5526e-02,  7.5463e-03,\n",
      "          2.3611e-01, -2.1293e-01, -1.7587e-01,  2.4383e-01, -2.8104e-01,\n",
      "         -4.2973e-02, -5.6224e-02,  6.0410e-02,  5.4402e-03, -3.1400e-01,\n",
      "          1.0433e-02,  4.0958e-01, -3.1712e-01, -6.0061e-01, -1.7064e-01]],\n",
      "       grad_fn=<AddmmBackward0>)\n",
      "\n",
      "\n",
      "After ReLU: tensor([[0.0000, 0.0000, 0.4348, 0.0000, 0.0025, 0.4018, 0.0000, 0.0541, 0.0492,\n",
      "         0.0000, 0.0000, 0.0000, 0.2864, 0.0420, 0.0000, 0.0000, 0.4031, 0.0000,\n",
      "         0.0000, 0.0000],\n",
      "        [0.0000, 0.0000, 0.5441, 0.0000, 0.0443, 0.1755, 0.0000, 0.0000, 0.1490,\n",
      "         0.0975, 0.0000, 0.0000, 0.2876, 0.0000, 0.0000, 0.0000, 0.1594, 0.0000,\n",
      "         0.0000, 0.0000],\n",
      "        [0.0000, 0.0000, 0.2807, 0.0000, 0.0075, 0.2361, 0.0000, 0.0000, 0.2438,\n",
      "         0.0000, 0.0000, 0.0000, 0.0604, 0.0054, 0.0000, 0.0104, 0.4096, 0.0000,\n",
      "         0.0000, 0.0000]], grad_fn=<ReluBackward0>)\n"
     ]
    }
   ],
   "source": [
    "print(f\"Before ReLU: {hidden1}\\n\\n\")\n",
    "hidden1 = nn.ReLU()(hidden1)\n",
    "print(f\"After ReLU: {hidden1}\")"
   ]
  },
  {
   "cell_type": "code",
   "execution_count": 41,
   "id": "f052cd8a-4f67-4204-a227-13705cf6755d",
   "metadata": {},
   "outputs": [],
   "source": [
    "seq_modules = nn.Sequential(\n",
    "    flatten,\n",
    "    layer1,\n",
    "    nn.ReLU(),\n",
    "    nn.Linear(20, 10)\n",
    ")\n",
    "input_image = torch.rand(3,28,28)\n",
    "logits = seq_modules(input_image)"
   ]
  },
  {
   "cell_type": "code",
   "execution_count": 42,
   "id": "ecd532a7-7f8b-4be6-86c6-ffd7757125a9",
   "metadata": {},
   "outputs": [],
   "source": [
    "softmax = nn.Softmax(dim=1)\n",
    "pred_probab = softmax(logits)"
   ]
  },
  {
   "cell_type": "code",
   "execution_count": 43,
   "id": "53224d0b-6bc3-4370-82ce-ac692957e931",
   "metadata": {},
   "outputs": [
    {
     "name": "stdout",
     "output_type": "stream",
     "text": [
      "Model structure: NeuralNetwork(\n",
      "  (flatten): Flatten(start_dim=1, end_dim=-1)\n",
      "  (linear_relu_stack): Sequential(\n",
      "    (0): Linear(in_features=784, out_features=512, bias=True)\n",
      "    (1): ReLU()\n",
      "    (2): Linear(in_features=512, out_features=512, bias=True)\n",
      "    (3): ReLU()\n",
      "    (4): Linear(in_features=512, out_features=10, bias=True)\n",
      "  )\n",
      ")\n",
      "\n",
      "\n",
      "Layer: linear_relu_stack.0.weight | Size: torch.Size([512, 784]) | Values : tensor([[ 0.0210,  0.0009,  0.0297,  ...,  0.0324, -0.0049,  0.0084],\n",
      "        [-0.0191,  0.0170, -0.0234,  ...,  0.0256, -0.0146,  0.0325]],\n",
      "       grad_fn=<SliceBackward0>) \n",
      "\n",
      "Layer: linear_relu_stack.0.bias | Size: torch.Size([512]) | Values : tensor([-0.0328,  0.0059], grad_fn=<SliceBackward0>) \n",
      "\n",
      "Layer: linear_relu_stack.2.weight | Size: torch.Size([512, 512]) | Values : tensor([[ 0.0052,  0.0205, -0.0243,  ..., -0.0108,  0.0179, -0.0424],\n",
      "        [ 0.0274, -0.0342,  0.0049,  ..., -0.0242, -0.0384,  0.0307]],\n",
      "       grad_fn=<SliceBackward0>) \n",
      "\n",
      "Layer: linear_relu_stack.2.bias | Size: torch.Size([512]) | Values : tensor([ 0.0275, -0.0257], grad_fn=<SliceBackward0>) \n",
      "\n",
      "Layer: linear_relu_stack.4.weight | Size: torch.Size([10, 512]) | Values : tensor([[ 0.0181, -0.0424,  0.0223,  ..., -0.0426,  0.0108, -0.0143],\n",
      "        [-0.0118, -0.0432,  0.0184,  ..., -0.0003,  0.0392,  0.0281]],\n",
      "       grad_fn=<SliceBackward0>) \n",
      "\n",
      "Layer: linear_relu_stack.4.bias | Size: torch.Size([10]) | Values : tensor([ 0.0078, -0.0341], grad_fn=<SliceBackward0>) \n",
      "\n"
     ]
    }
   ],
   "source": [
    "print(f\"Model structure: {model}\\n\\n\")\n",
    "\n",
    "for name, param in model.named_parameters():\n",
    "    print(f\"Layer: {name} | Size: {param.size()} | Values : {param[:2]} \\n\")"
   ]
  },
  {
   "cell_type": "code",
   "execution_count": 44,
   "id": "e70b3ab8-07b7-4a81-9bb7-1c2ae11cf939",
   "metadata": {},
   "outputs": [],
   "source": [
    "import torch\n",
    "\n",
    "x = torch.ones(5)  # input tensor\n",
    "y = torch.zeros(3)  # expected output\n",
    "w = torch.randn(5, 3, requires_grad=True)\n",
    "b = torch.randn(3, requires_grad=True)\n",
    "z = torch.matmul(x, w)+b\n",
    "loss = torch.nn.functional.binary_cross_entropy_with_logits(z, y)"
   ]
  },
  {
   "cell_type": "code",
   "execution_count": 46,
   "id": "20e32a49-f66e-42fa-a723-43ce9bce3400",
   "metadata": {},
   "outputs": [
    {
     "data": {
      "text/plain": [
       "(tensor([1., 1., 1., 1., 1.]),\n",
       " tensor([0., 0., 0.]),\n",
       " tensor([[-0.6635,  2.1987,  0.0240],\n",
       "         [ 0.4575, -1.4357, -1.2236],\n",
       "         [ 0.8148, -0.6067, -2.0898],\n",
       "         [-0.9950,  0.0081,  1.1100],\n",
       "         [ 1.1244, -0.6857, -0.7051]], requires_grad=True),\n",
       " tensor([ 0.5658, -0.8637,  0.4682], requires_grad=True),\n",
       " tensor([ 1.3041, -1.3850, -2.4163], grad_fn=<AddBackward0>),\n",
       " tensor(0.6177, grad_fn=<BinaryCrossEntropyWithLogitsBackward0>))"
      ]
     },
     "execution_count": 46,
     "metadata": {},
     "output_type": "execute_result"
    }
   ],
   "source": [
    "x,y,w,b,z,loss"
   ]
  }
 ],
 "metadata": {
  "kernelspec": {
   "display_name": "Python 3 (ipykernel)",
   "language": "python",
   "name": "python3"
  },
  "language_info": {
   "codemirror_mode": {
    "name": "ipython",
    "version": 3
   },
   "file_extension": ".py",
   "mimetype": "text/x-python",
   "name": "python",
   "nbconvert_exporter": "python",
   "pygments_lexer": "ipython3",
   "version": "3.12.2"
  }
 },
 "nbformat": 4,
 "nbformat_minor": 5
}
