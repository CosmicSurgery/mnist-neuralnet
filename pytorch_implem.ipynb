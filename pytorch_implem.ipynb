{
 "cells": [
  {
   "cell_type": "code",
   "execution_count": 2,
   "id": "85e3cd61-2f94-4dc2-82c6-0c1a38d7c05a",
   "metadata": {},
   "outputs": [],
   "source": [
    "import torch\n",
    "from torch import nn\n",
    "from torch.utils.data import Dataset\n",
    "from torchvision import datasets\n",
    "from torchvision.transforms import ToTensor\n",
    "import matplotlib.pyplot as plt\n",
    "import seaborn as sns\n",
    "\n"
   ]
  },
  {
   "cell_type": "code",
   "execution_count": 3,
   "id": "f5abf81c-4bcc-4a51-950a-ca8459796024",
   "metadata": {},
   "outputs": [
    {
     "name": "stdout",
     "output_type": "stream",
     "text": [
      "Using cpu device\n"
     ]
    }
   ],
   "source": [
    "device = (\n",
    "    \"cuda\"\n",
    "    if torch.cuda.is_available()\n",
    "    else \"mps\"\n",
    "    if torch.backends.mps.is_available()\n",
    "    else \"cpu\"\n",
    ")\n",
    "print(f\"Using {device} device\")"
   ]
  },
  {
   "cell_type": "code",
   "execution_count": 4,
   "id": "0f420e65-7c4a-40c7-8d38-c8de52eafc6d",
   "metadata": {},
   "outputs": [],
   "source": [
    "training_data = datasets.MNIST(\n",
    "    root=\"data\",\n",
    "    train=True,\n",
    "    download=True,\n",
    "    transform=ToTensor()\n",
    ")"
   ]
  },
  {
   "cell_type": "code",
   "execution_count": 5,
   "id": "836bb50f-e3df-4e41-a57a-c1a993cb92c0",
   "metadata": {},
   "outputs": [],
   "source": [
    "class NeuralNetwork(nn.Module):\n",
    "    def __init__(self):\n",
    "        super().__init__()\n",
    "        self.flatten = nn.Flatten()\n",
    "        self.linear_relu_stack = nn.Sequential(\n",
    "            nn.Linear(28*28, 512),\n",
    "            nn.ReLU(),\n",
    "            nn.Linear(512, 512),\n",
    "            nn.ReLU(),\n",
    "            nn.Linear(512, 10),\n",
    "        )\n",
    "\n",
    "    def forward(self, x):\n",
    "        x = self.flatten(x)\n",
    "        logits = self.linear_relu_stack(x)\n",
    "        return logits"
   ]
  },
  {
   "cell_type": "code",
   "execution_count": 6,
   "id": "aecadcb9-5af8-4730-8c4c-bb175270fff3",
   "metadata": {},
   "outputs": [
    {
     "name": "stdout",
     "output_type": "stream",
     "text": [
      "NeuralNetwork(\n",
      "  (flatten): Flatten(start_dim=1, end_dim=-1)\n",
      "  (linear_relu_stack): Sequential(\n",
      "    (0): Linear(in_features=784, out_features=512, bias=True)\n",
      "    (1): ReLU()\n",
      "    (2): Linear(in_features=512, out_features=512, bias=True)\n",
      "    (3): ReLU()\n",
      "    (4): Linear(in_features=512, out_features=10, bias=True)\n",
      "  )\n",
      ")\n"
     ]
    }
   ],
   "source": [
    "model = NeuralNetwork().to(device)\n",
    "print(model)"
   ]
  },
  {
   "cell_type": "code",
   "execution_count": 7,
   "id": "3d76bee9-cd62-4acf-b654-8c36b7358259",
   "metadata": {},
   "outputs": [
    {
     "name": "stdout",
     "output_type": "stream",
     "text": [
      "Predicted class: tensor([1])\n"
     ]
    }
   ],
   "source": [
    "X = torch.rand(1, 28, 28, device=device)\n",
    "logits = model(X)\n",
    "pred_probab = nn.Softmax(dim=1)(logits)\n",
    "y_pred = pred_probab.argmax(1)\n",
    "print(f\"Predicted class: {y_pred}\")"
   ]
  },
  {
   "cell_type": "code",
   "execution_count": 8,
   "id": "dfd90fe9-4d7b-4361-91b6-7e97ff870c7d",
   "metadata": {},
   "outputs": [
    {
     "name": "stdout",
     "output_type": "stream",
     "text": [
      "torch.Size([3, 28, 28])\n"
     ]
    }
   ],
   "source": [
    "input_image = torch.rand(3,28,28)\n",
    "print(input_image.size())"
   ]
  },
  {
   "cell_type": "code",
   "execution_count": 9,
   "id": "83ba69da-ff9d-4f34-a12c-d813610d4664",
   "metadata": {},
   "outputs": [
    {
     "name": "stdout",
     "output_type": "stream",
     "text": [
      "torch.Size([3, 784])\n"
     ]
    }
   ],
   "source": [
    "flatten = nn.Flatten()\n",
    "flat_image = flatten(input_image)\n",
    "print(flat_image.size())"
   ]
  },
  {
   "cell_type": "code",
   "execution_count": 10,
   "id": "e3a1544f-0c7b-4230-9135-3dc71151ce16",
   "metadata": {},
   "outputs": [
    {
     "name": "stdout",
     "output_type": "stream",
     "text": [
      "torch.Size([3, 20])\n"
     ]
    }
   ],
   "source": [
    "layer1 = nn.Linear(in_features=28*28, out_features=20)\n",
    "hidden1 = layer1(flat_image)\n",
    "print(hidden1.size())"
   ]
  },
  {
   "cell_type": "code",
   "execution_count": 11,
   "id": "ac36458b-8bde-4463-a5bc-7e02c9084fc5",
   "metadata": {},
   "outputs": [
    {
     "name": "stdout",
     "output_type": "stream",
     "text": [
      "Before ReLU: tensor([[ 0.2784,  0.0937, -0.1629, -0.4347, -0.1269,  0.2296, -0.4975, -0.1024,\n",
      "         -0.1146, -0.1203,  0.0392,  0.4601, -0.0807,  0.0178, -0.0712,  0.0352,\n",
      "         -0.5448,  0.2492, -0.0454,  0.1353],\n",
      "        [ 0.1806,  0.1084, -0.3891, -0.3674, -0.0876,  0.6655, -0.3391,  0.0093,\n",
      "         -0.2763, -0.2109, -0.1867,  0.2171, -0.0393,  0.3841, -0.0263, -0.0585,\n",
      "         -0.3907,  0.1512, -0.0610,  0.0833],\n",
      "        [ 0.2691,  0.1675,  0.0238, -0.4040, -0.4664,  0.2043, -0.7587, -0.2572,\n",
      "          0.2104, -0.3382, -0.4328,  0.5187, -0.1330,  0.0548, -0.1683, -0.0375,\n",
      "         -0.5034,  0.3652,  0.0374,  0.0058]], grad_fn=<AddmmBackward0>)\n",
      "\n",
      "\n",
      "After ReLU: tensor([[0.2784, 0.0937, 0.0000, 0.0000, 0.0000, 0.2296, 0.0000, 0.0000, 0.0000,\n",
      "         0.0000, 0.0392, 0.4601, 0.0000, 0.0178, 0.0000, 0.0352, 0.0000, 0.2492,\n",
      "         0.0000, 0.1353],\n",
      "        [0.1806, 0.1084, 0.0000, 0.0000, 0.0000, 0.6655, 0.0000, 0.0093, 0.0000,\n",
      "         0.0000, 0.0000, 0.2171, 0.0000, 0.3841, 0.0000, 0.0000, 0.0000, 0.1512,\n",
      "         0.0000, 0.0833],\n",
      "        [0.2691, 0.1675, 0.0238, 0.0000, 0.0000, 0.2043, 0.0000, 0.0000, 0.2104,\n",
      "         0.0000, 0.0000, 0.5187, 0.0000, 0.0548, 0.0000, 0.0000, 0.0000, 0.3652,\n",
      "         0.0374, 0.0058]], grad_fn=<ReluBackward0>)\n"
     ]
    }
   ],
   "source": [
    "print(f\"Before ReLU: {hidden1}\\n\\n\")\n",
    "hidden1 = nn.ReLU()(hidden1)\n",
    "print(f\"After ReLU: {hidden1}\")"
   ]
  },
  {
   "cell_type": "code",
   "execution_count": 12,
   "id": "f052cd8a-4f67-4204-a227-13705cf6755d",
   "metadata": {},
   "outputs": [],
   "source": [
    "seq_modules = nn.Sequential(\n",
    "    flatten,\n",
    "    layer1,\n",
    "    nn.ReLU(),\n",
    "    nn.Linear(20, 10)\n",
    ")\n",
    "input_image = torch.rand(3,28,28)\n",
    "logits = seq_modules(input_image)"
   ]
  },
  {
   "cell_type": "code",
   "execution_count": 13,
   "id": "ecd532a7-7f8b-4be6-86c6-ffd7757125a9",
   "metadata": {},
   "outputs": [],
   "source": [
    "softmax = nn.Softmax(dim=1)\n",
    "pred_probab = softmax(logits)"
   ]
  },
  {
   "cell_type": "code",
   "execution_count": 14,
   "id": "53224d0b-6bc3-4370-82ce-ac692957e931",
   "metadata": {},
   "outputs": [
    {
     "name": "stdout",
     "output_type": "stream",
     "text": [
      "Model structure: NeuralNetwork(\n",
      "  (flatten): Flatten(start_dim=1, end_dim=-1)\n",
      "  (linear_relu_stack): Sequential(\n",
      "    (0): Linear(in_features=784, out_features=512, bias=True)\n",
      "    (1): ReLU()\n",
      "    (2): Linear(in_features=512, out_features=512, bias=True)\n",
      "    (3): ReLU()\n",
      "    (4): Linear(in_features=512, out_features=10, bias=True)\n",
      "  )\n",
      ")\n",
      "\n",
      "\n",
      "Layer: linear_relu_stack.0.weight | Size: torch.Size([512, 784]) | Values : tensor([[-0.0030,  0.0116, -0.0301,  ..., -0.0041,  0.0329,  0.0201],\n",
      "        [-0.0141,  0.0275, -0.0006,  ..., -0.0291,  0.0103, -0.0005]],\n",
      "       grad_fn=<SliceBackward0>) \n",
      "\n",
      "Layer: linear_relu_stack.0.bias | Size: torch.Size([512]) | Values : tensor([-0.0227, -0.0090], grad_fn=<SliceBackward0>) \n",
      "\n",
      "Layer: linear_relu_stack.2.weight | Size: torch.Size([512, 512]) | Values : tensor([[-0.0428, -0.0116,  0.0122,  ...,  0.0214, -0.0189,  0.0120],\n",
      "        [ 0.0069, -0.0195, -0.0348,  ...,  0.0013,  0.0202,  0.0287]],\n",
      "       grad_fn=<SliceBackward0>) \n",
      "\n",
      "Layer: linear_relu_stack.2.bias | Size: torch.Size([512]) | Values : tensor([-0.0274, -0.0159], grad_fn=<SliceBackward0>) \n",
      "\n",
      "Layer: linear_relu_stack.4.weight | Size: torch.Size([10, 512]) | Values : tensor([[-0.0277, -0.0006, -0.0442,  ...,  0.0172,  0.0239,  0.0343],\n",
      "        [-0.0242,  0.0209,  0.0155,  ..., -0.0388,  0.0102,  0.0314]],\n",
      "       grad_fn=<SliceBackward0>) \n",
      "\n",
      "Layer: linear_relu_stack.4.bias | Size: torch.Size([10]) | Values : tensor([-0.0065, -0.0044], grad_fn=<SliceBackward0>) \n",
      "\n"
     ]
    }
   ],
   "source": [
    "print(f\"Model structure: {model}\\n\\n\")\n",
    "\n",
    "for name, param in model.named_parameters():\n",
    "    print(f\"Layer: {name} | Size: {param.size()} | Values : {param[:2]} \\n\")"
   ]
  },
  {
   "cell_type": "code",
   "execution_count": 15,
   "id": "e70b3ab8-07b7-4a81-9bb7-1c2ae11cf939",
   "metadata": {},
   "outputs": [],
   "source": [
    "import torch\n",
    "\n",
    "x = torch.ones(5)  # input tensor\n",
    "y = torch.zeros(3)  # expected output\n",
    "w = torch.randn(5, 3, requires_grad=True)\n",
    "b = torch.randn(3, requires_grad=True)\n",
    "z = torch.matmul(x, w)+b\n",
    "loss = torch.nn.functional.binary_cross_entropy_with_logits(z, y)"
   ]
  },
  {
   "cell_type": "code",
   "execution_count": 16,
   "id": "20e32a49-f66e-42fa-a723-43ce9bce3400",
   "metadata": {},
   "outputs": [
    {
     "data": {
      "text/plain": [
       "(tensor([1., 1., 1., 1., 1.]),\n",
       " tensor([0., 0., 0.]),\n",
       " tensor([[ 2.2392, -1.6645,  1.6895],\n",
       "         [-1.4420, -0.1617, -0.7933],\n",
       "         [-1.4636, -0.3291,  1.3056],\n",
       "         [ 0.5669, -0.5242, -0.3325],\n",
       "         [-1.0510,  1.2621,  0.7391]], requires_grad=True),\n",
       " tensor([ 0.1604,  0.9332, -1.0061], requires_grad=True),\n",
       " tensor([-0.9902, -0.4842,  1.6023], grad_fn=<AddBackward0>),\n",
       " tensor(0.8606, grad_fn=<BinaryCrossEntropyWithLogitsBackward0>))"
      ]
     },
     "execution_count": 16,
     "metadata": {},
     "output_type": "execute_result"
    }
   ],
   "source": [
    "x,y,w,b,z,loss"
   ]
  },
  {
   "cell_type": "code",
   "execution_count": 17,
   "id": "de4f32b9-de53-42a9-aa0d-3ed041905802",
   "metadata": {},
   "outputs": [
    {
     "name": "stdout",
     "output_type": "stream",
     "text": [
      "Gradient function for z = <AddBackward0 object at 0x00000192EFE26BC0>\n",
      "Gradient function for loss = <BinaryCrossEntropyWithLogitsBackward0 object at 0x00000192EFE26BC0>\n"
     ]
    }
   ],
   "source": [
    " print(f\"Gradient function for z = {z.grad_fn}\")\n",
    "print(f\"Gradient function for loss = {loss.grad_fn}\")"
   ]
  },
  {
   "cell_type": "code",
   "execution_count": null,
   "id": "b9e3d776-6dc6-46f9-b4a1-8a65ff7192c4",
   "metadata": {},
   "outputs": [],
   "source": []
  },
  {
   "cell_type": "code",
   "execution_count": null,
   "id": "aff03bf0-3693-4ef5-bbb5-2c6a8001dd02",
   "metadata": {},
   "outputs": [],
   "source": []
  }
 ],
 "metadata": {
  "kernelspec": {
   "display_name": "Python 3 (ipykernel)",
   "language": "python",
   "name": "python3"
  },
  "language_info": {
   "codemirror_mode": {
    "name": "ipython",
    "version": 3
   },
   "file_extension": ".py",
   "mimetype": "text/x-python",
   "name": "python",
   "nbconvert_exporter": "python",
   "pygments_lexer": "ipython3",
   "version": "3.12.2"
  }
 },
 "nbformat": 4,
 "nbformat_minor": 5
}
